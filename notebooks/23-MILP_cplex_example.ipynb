{
 "cells": [
  {
   "cell_type": "code",
   "execution_count": null,
   "id": "bb387705-6007-4ec3-aee8-630fb847404e",
   "metadata": {},
   "outputs": [],
   "source": []
  },
  {
   "cell_type": "code",
   "execution_count": 1,
   "id": "23c1c992-a563-4f2d-bbc8-cf0884e5b275",
   "metadata": {},
   "outputs": [],
   "source": [
    "from interarray.importer import load_repository\n",
    "from interarray.svg import svgplot\n",
    "from interarray.mesh import make_planar_embedding\n",
    "from interarray.interarraylib import G_from_S\n",
    "from interarray.heuristics import EW_presolver\n",
    "from interarray.MILP import pyomo as omo\n",
    "from interarray.pathfinding import PathFinder"
   ]
  },
  {
   "cell_type": "code",
   "execution_count": 2,
   "id": "4ac9d1b1-17f6-4ed5-906c-67179c34dd9f",
   "metadata": {},
   "outputs": [],
   "source": [
    "from pyomo import environ as pyo"
   ]
  },
  {
   "cell_type": "markdown",
   "id": "dd40c821-e9fe-43dd-9c3d-66d02c127377",
   "metadata": {
    "deletable": true,
    "editable": true,
    "frozen": false
   },
   "source": [
    "## Initialize MILP solver"
   ]
  },
  {
   "cell_type": "code",
   "execution_count": 3,
   "id": "2797fc4b-3e41-41bd-89b9-6f368a14e056",
   "metadata": {},
   "outputs": [
    {
     "data": {
      "text/plain": [
       "(True, pyomo.solvers.plugins.solvers.cplex_direct.CPLEXDirect)"
      ]
     },
     "execution_count": 3,
     "metadata": {},
     "output_type": "execute_result"
    }
   ],
   "source": [
    "cplexer = pyo.SolverFactory('cplex', solver_io='python')\n",
    "cplexer.available(), type(cplexer)"
   ]
  },
  {
   "cell_type": "markdown",
   "id": "6a449ac4-8896-454c-ae22-cd0896da21ce",
   "metadata": {
    "deletable": true,
    "editable": true,
    "frozen": false
   },
   "source": [
    "## Load interarray's locations"
   ]
  },
  {
   "cell_type": "code",
   "execution_count": 4,
   "id": "29a6b5d1-a05f-4112-bf66-462b4d36b516",
   "metadata": {},
   "outputs": [],
   "source": [
    "locations = load_repository()"
   ]
  },
  {
   "cell_type": "markdown",
   "id": "b2bb8f58-4c20-4fe0-9cad-912d06b5871c",
   "metadata": {
    "deletable": true,
    "editable": true,
    "frozen": false
   },
   "source": [
    "## Optimize Race Bank 2"
   ]
  },
  {
   "cell_type": "code",
   "execution_count": 5,
   "id": "666ca26c-b3cf-4000-a44e-cab38866018d",
   "metadata": {},
   "outputs": [],
   "source": [
    "L = locations.race\n",
    "capacity = 5"
   ]
  },
  {
   "cell_type": "code",
   "execution_count": 6,
   "id": "a23b577c-d334-405e-b70a-9b3717eefa2b",
   "metadata": {},
   "outputs": [
    {
     "data": {
      "image/svg+xml": [
       "<svg xmlns=\"http://www.w3.org/2000/svg\" viewBox=\"0 0 1920 935\"><defs ><filter x=\"-5%\" y=\"-5%\" id=\"bg_textbox\" width=\"110%\" height=\"110%\"><feFlood flood-opacity=\"0.7\" flood-color=\"#111\" result=\"bg\"/><feMerge ><feMergeNode in=\"bg\"/><feMergeNode in=\"SourceGraphic\"/></feMerge></filter><circle stroke=\"none\" stroke-width=\"2\" id=\"wtg\" r=\"12\"/><rect stroke=\"none\" stroke-width=\"2\" id=\"oss\" width=\"21\" height=\"21\" fill=\"lawngreen\"/></defs><g id=\"race\"><path stroke=\"silver\" stroke-dasharray=\"15 7\" stroke-width=\"2\" id=\"border\" d=\"M30 352 285 45 839 331 1668 30 1890 640 1167 905 968 719 877 701 718 719 642 804 492 718 432 740z\" fill-rule=\"evenodd\" fill=\"#111\"/><g id=\"WTGgrp\"><g fill=\"#9edae5\"><use href=\"#wtg\" x=\"67\" y=\"335\"/><use href=\"#wtg\" x=\"126\" y=\"422\"/><use href=\"#wtg\" x=\"201\" y=\"489\"/><use href=\"#wtg\" x=\"274\" y=\"564\"/><use href=\"#wtg\" x=\"355\" y=\"643\"/><use href=\"#wtg\" x=\"430\" y=\"715\"/><use href=\"#wtg\" x=\"131\" y=\"252\"/><use href=\"#wtg\" x=\"182\" y=\"346\"/><use href=\"#wtg\" x=\"336\" y=\"500\"/><use href=\"#wtg\" x=\"419\" y=\"559\"/><use href=\"#wtg\" x=\"487\" y=\"636\"/><use href=\"#wtg\" x=\"542\" y=\"727\"/><use href=\"#wtg\" x=\"635\" y=\"781\"/><use href=\"#wtg\" x=\"210\" y=\"157\"/><use href=\"#wtg\" x=\"234\" y=\"257\"/><use href=\"#wtg\" x=\"344\" y=\"309\"/><use href=\"#wtg\" x=\"418\" y=\"402\"/><use href=\"#wtg\" x=\"486\" y=\"484\"/><use href=\"#wtg\" x=\"566\" y=\"562\"/><use href=\"#wtg\" x=\"631\" y=\"641\"/><use href=\"#wtg\" x=\"710\" y=\"704\"/><use href=\"#wtg\" x=\"290\" y=\"67\"/><use href=\"#wtg\" x=\"316\" y=\"173\"/><use href=\"#wtg\" x=\"417\" y=\"131\"/><use href=\"#wtg\" x=\"437\" y=\"239\"/><use href=\"#wtg\" x=\"524\" y=\"330\"/><use href=\"#wtg\" x=\"603\" y=\"410\"/><use href=\"#wtg\" x=\"751\" y=\"599\"/><use href=\"#wtg\" x=\"810\" y=\"690\"/><use href=\"#wtg\" x=\"539\" y=\"197\"/><use href=\"#wtg\" x=\"640\" y=\"280\"/><use href=\"#wtg\" x=\"722\" y=\"421\"/><use href=\"#wtg\" x=\"800\" y=\"499\"/><use href=\"#wtg\" x=\"873\" y=\"593\"/><use href=\"#wtg\" x=\"920\" y=\"693\"/><use href=\"#wtg\" x=\"1016\" y=\"722\"/><use href=\"#wtg\" x=\"1080\" y=\"800\"/><use href=\"#wtg\" x=\"1164\" y=\"880\"/><use href=\"#wtg\" x=\"746\" y=\"299\"/><use href=\"#wtg\" x=\"898\" y=\"469\"/><use href=\"#wtg\" x=\"978\" y=\"533\"/><use href=\"#wtg\" x=\"1055\" y=\"600\"/><use href=\"#wtg\" x=\"1145\" y=\"678\"/><use href=\"#wtg\" x=\"1181\" y=\"775\"/><use href=\"#wtg\" x=\"1264\" y=\"853\"/><use href=\"#wtg\" x=\"903\" y=\"330\"/><use href=\"#wtg\" x=\"992\" y=\"406\"/><use href=\"#wtg\" x=\"1079\" y=\"487\"/><use href=\"#wtg\" x=\"1163\" y=\"566\"/><use href=\"#wtg\" x=\"1256\" y=\"652\"/><use href=\"#wtg\" x=\"1313\" y=\"745\"/><use href=\"#wtg\" x=\"1403\" y=\"802\"/><use href=\"#wtg\" x=\"1011\" y=\"292\"/><use href=\"#wtg\" x=\"1090\" y=\"363\"/><use href=\"#wtg\" x=\"1187\" y=\"450\"/><use href=\"#wtg\" x=\"1263\" y=\"551\"/><use href=\"#wtg\" x=\"1356\" y=\"622\"/><use href=\"#wtg\" x=\"1437\" y=\"694\"/><use href=\"#wtg\" x=\"1514\" y=\"764\"/><use href=\"#wtg\" x=\"1120\" y=\"256\"/><use href=\"#wtg\" x=\"1194\" y=\"335\"/><use href=\"#wtg\" x=\"1289\" y=\"403\"/><use href=\"#wtg\" x=\"1456\" y=\"588\"/><use href=\"#wtg\" x=\"1547\" y=\"664\"/><use href=\"#wtg\" x=\"1633\" y=\"719\"/><use href=\"#wtg\" x=\"1209\" y=\"211\"/><use href=\"#wtg\" x=\"1294\" y=\"300\"/><use href=\"#wtg\" x=\"1392\" y=\"372\"/><use href=\"#wtg\" x=\"1475\" y=\"434\"/><use href=\"#wtg\" x=\"1550\" y=\"543\"/><use href=\"#wtg\" x=\"1639\" y=\"617\"/><use href=\"#wtg\" x=\"1730\" y=\"683\"/><use href=\"#wtg\" x=\"1309\" y=\"175\"/><use href=\"#wtg\" x=\"1386\" y=\"256\"/><use href=\"#wtg\" x=\"1533\" y=\"343\"/><use href=\"#wtg\" x=\"1576\" y=\"437\"/><use href=\"#wtg\" x=\"1670\" y=\"494\"/><use href=\"#wtg\" x=\"1732\" y=\"572\"/><use href=\"#wtg\" x=\"1836\" y=\"646\"/><use href=\"#wtg\" x=\"1431\" y=\"139\"/><use href=\"#wtg\" x=\"1485\" y=\"235\"/><use href=\"#wtg\" x=\"1638\" y=\"291\"/><use href=\"#wtg\" x=\"1668\" y=\"394\"/><use href=\"#wtg\" x=\"1801\" y=\"446\"/><use href=\"#wtg\" x=\"1840\" y=\"542\"/><use href=\"#wtg\" x=\"1582\" y=\"196\"/><use href=\"#wtg\" x=\"1767\" y=\"345\"/><use href=\"#wtg\" x=\"1542\" y=\"92\"/><use href=\"#wtg\" x=\"1729\" y=\"235\"/><use href=\"#wtg\" x=\"1690\" y=\"143\"/><use href=\"#wtg\" x=\"1661\" y=\"47\"/></g></g><g id=\"OSSgrp\"><use href=\"#oss\" x=\"628.5\" y=\"479.5\"/><use href=\"#oss\" x=\"1362.5\" y=\"487.5\"/></g></g></svg>"
      ],
      "text/plain": [
       "<interarray.svg.SvgRepr at 0x1964f241880>"
      ]
     },
     "execution_count": 6,
     "metadata": {},
     "output_type": "execute_result"
    }
   ],
   "source": [
    "svgplot(L)"
   ]
  },
  {
   "cell_type": "code",
   "execution_count": 7,
   "id": "df05184d-7caa-4b34-810e-37c13a7a8092",
   "metadata": {},
   "outputs": [],
   "source": [
    "P, A = make_planar_embedding(L)"
   ]
  },
  {
   "cell_type": "markdown",
   "id": "4f9b49b1-a597-4053-a3d1-f3de7bb8d164",
   "metadata": {
    "deletable": true,
    "editable": true,
    "frozen": false
   },
   "source": [
    "Initial heuristic solution to warm-start the solver:"
   ]
  },
  {
   "cell_type": "code",
   "execution_count": 8,
   "id": "19eb273d-f662-4851-bf09-e0ec532d7b8b",
   "metadata": {},
   "outputs": [
    {
     "data": {
      "image/svg+xml": [
       "<svg xmlns=\"http://www.w3.org/2000/svg\" viewBox=\"0 0 1920 935\"><defs ><filter x=\"-5%\" y=\"-5%\" id=\"bg_textbox\" width=\"110%\" height=\"110%\"><feFlood flood-opacity=\"0.7\" flood-color=\"#111\" result=\"bg\"/><feMerge ><feMergeNode in=\"bg\"/><feMergeNode in=\"SourceGraphic\"/></feMerge></filter><circle stroke=\"none\" stroke-width=\"2\" id=\"wtg\" r=\"12\"/><rect stroke=\"none\" stroke-width=\"2\" id=\"oss\" width=\"21\" height=\"21\" fill=\"lawngreen\"/></defs><g id=\"race\"><path stroke=\"silver\" stroke-dasharray=\"15 7\" stroke-width=\"2\" id=\"border\" d=\"M30 352 285 45 839 331 1668 30 1890 640 1167 905 968 719 877 701 718 719 642 804 492 718 432 740z\" fill-rule=\"evenodd\" fill=\"#111\"/><g stroke=\"crimson\" stroke-width=\"4\" id=\"edges_unspecified\"><line x1=\"1209\" y1=\"211\" x2=\"1309\" y2=\"175\"/><line x1=\"1373\" y1=\"498\" x2=\"1456\" y2=\"588\"/><line x1=\"1373\" y1=\"498\" x2=\"1263\" y2=\"551\"/><line x1=\"1373\" y1=\"498\" x2=\"1475\" y2=\"434\"/><line x1=\"1373\" y1=\"498\" x2=\"1356\" y2=\"622\"/><line x1=\"1373\" y1=\"498\" x2=\"1256\" y2=\"652\"/><line x1=\"1373\" y1=\"498\" x2=\"1533\" y2=\"343\"/><line x1=\"1386\" y1=\"256\" x2=\"1485\" y2=\"235\"/><line x1=\"992\" y1=\"406\" x2=\"1079\" y2=\"487\"/><line x1=\"1011\" y1=\"292\" x2=\"1090\" y2=\"363\"/><line x1=\"992\" y1=\"406\" x2=\"1090\" y2=\"363\"/><line x1=\"639\" y1=\"490\" x2=\"603\" y2=\"410\"/><line x1=\"524\" y1=\"330\" x2=\"603\" y2=\"410\"/><line x1=\"639\" y1=\"490\" x2=\"566\" y2=\"562\"/><line x1=\"639\" y1=\"490\" x2=\"800\" y2=\"499\"/><line x1=\"639\" y1=\"490\" x2=\"751\" y2=\"599\"/><line x1=\"639\" y1=\"490\" x2=\"722\" y2=\"421\"/><line x1=\"639\" y1=\"490\" x2=\"486\" y2=\"484\"/><line x1=\"639\" y1=\"490\" x2=\"631\" y2=\"641\"/><line x1=\"640\" y1=\"280\" x2=\"746\" y2=\"299\"/><line x1=\"1289\" y1=\"403\" x2=\"1392\" y2=\"372\"/><line x1=\"1475\" y1=\"434\" x2=\"1576\" y2=\"437\"/><line x1=\"1145\" y1=\"678\" x2=\"1181\" y2=\"775\"/><line x1=\"1145\" y1=\"678\" x2=\"1256\" y2=\"652\"/><line x1=\"1163\" y1=\"566\" x2=\"1187\" y2=\"450\"/><line x1=\"1163\" y1=\"566\" x2=\"1263\" y2=\"551\"/><line x1=\"355\" y1=\"643\" x2=\"419\" y2=\"559\"/><line x1=\"336\" y1=\"500\" x2=\"419\" y2=\"559\"/><line x1=\"419\" y1=\"559\" x2=\"486\" y2=\"484\"/><line x1=\"920\" y1=\"693\" x2=\"1016\" y2=\"722\"/><line x1=\"1016\" y1=\"722\" x2=\"1080\" y2=\"800\"/><line x1=\"1533\" y1=\"343\" x2=\"1638\" y2=\"291\"/><line x1=\"1638\" y1=\"291\" x2=\"1729\" y2=\"235\"/><line x1=\"1582\" y1=\"196\" x2=\"1542\" y2=\"92\"/><line x1=\"1485\" y1=\"235\" x2=\"1582\" y2=\"196\"/><line x1=\"1729\" y1=\"235\" x2=\"1690\" y2=\"143\"/><line x1=\"1690\" y1=\"143\" x2=\"1661\" y2=\"47\"/><line x1=\"430\" y1=\"715\" x2=\"487\" y2=\"636\"/><line x1=\"487\" y1=\"636\" x2=\"566\" y2=\"562\"/><line x1=\"487\" y1=\"636\" x2=\"542\" y2=\"727\"/><line x1=\"210\" y1=\"157\" x2=\"234\" y2=\"257\"/><line x1=\"131\" y1=\"252\" x2=\"234\" y2=\"257\"/><line x1=\"290\" y1=\"67\" x2=\"316\" y2=\"173\"/><line x1=\"210\" y1=\"157\" x2=\"316\" y2=\"173\"/><line x1=\"978\" y1=\"533\" x2=\"1055\" y2=\"600\"/><line x1=\"898\" y1=\"469\" x2=\"978\" y2=\"533\"/><line x1=\"1187\" y1=\"450\" x2=\"1289\" y2=\"403\"/><line x1=\"722\" y1=\"421\" x2=\"746\" y2=\"299\"/><line x1=\"1668\" y1=\"394\" x2=\"1767\" y2=\"345\"/><line x1=\"437\" y1=\"239\" x2=\"539\" y2=\"197\"/><line x1=\"1120\" y1=\"256\" x2=\"1209\" y2=\"211\"/><line x1=\"1120\" y1=\"256\" x2=\"1194\" y2=\"335\"/><line x1=\"1576\" y1=\"437\" x2=\"1670\" y2=\"494\"/><line x1=\"1456\" y1=\"588\" x2=\"1550\" y2=\"543\"/><line x1=\"1456\" y1=\"588\" x2=\"1547\" y2=\"664\"/><line x1=\"800\" y1=\"499\" x2=\"898\" y2=\"469\"/><line x1=\"631\" y1=\"641\" x2=\"710\" y2=\"704\"/><line x1=\"1633\" y1=\"719\" x2=\"1730\" y2=\"683\"/><line x1=\"1547\" y1=\"664\" x2=\"1633\" y2=\"719\"/><line x1=\"1801\" y1=\"446\" x2=\"1767\" y2=\"345\"/><line x1=\"344\" y1=\"309\" x2=\"418\" y2=\"402\"/><line x1=\"344\" y1=\"309\" x2=\"437\" y2=\"239\"/><line x1=\"635\" y1=\"781\" x2=\"710\" y2=\"704\"/><line x1=\"1670\" y1=\"494\" x2=\"1732\" y2=\"572\"/><line x1=\"1639\" y1=\"617\" x2=\"1732\" y2=\"572\"/><line x1=\"1801\" y1=\"446\" x2=\"1840\" y2=\"542\"/><line x1=\"67\" y1=\"335\" x2=\"126\" y2=\"422\"/><line x1=\"126\" y1=\"422\" x2=\"182\" y2=\"346\"/><line x1=\"903\" y1=\"330\" x2=\"1011\" y2=\"292\"/><line x1=\"417\" y1=\"131\" x2=\"437\" y2=\"239\"/><line x1=\"873\" y1=\"593\" x2=\"920\" y2=\"693\"/><line x1=\"751\" y1=\"599\" x2=\"873\" y2=\"593\"/><line x1=\"1164\" y1=\"880\" x2=\"1181\" y2=\"775\"/><line x1=\"1313\" y1=\"745\" x2=\"1403\" y2=\"802\"/><line x1=\"1356\" y1=\"622\" x2=\"1437\" y2=\"694\"/><line x1=\"201\" y1=\"489\" x2=\"274\" y2=\"564\"/><line x1=\"1403\" y1=\"802\" x2=\"1437\" y2=\"694\"/><line x1=\"1437\" y1=\"694\" x2=\"1514\" y2=\"764\"/><line x1=\"710\" y1=\"704\" x2=\"810\" y2=\"690\"/><line x1=\"1194\" y1=\"335\" x2=\"1294\" y2=\"300\"/><line x1=\"1431\" y1=\"139\" x2=\"1485\" y2=\"235\"/><line x1=\"1164\" y1=\"880\" x2=\"1264\" y2=\"853\"/><line x1=\"1836\" y1=\"646\" x2=\"1840\" y2=\"542\"/><line x1=\"126\" y1=\"422\" x2=\"201\" y2=\"489\"/></g><g stroke=\"red\" stroke-dasharray=\"18 15\" stroke-width=\"4\" id=\"edges_tentative\"><line x1=\"1373\" y1=\"498\" x2=\"1294\" y2=\"300\"/><line x1=\"1373\" y1=\"498\" x2=\"1386\" y2=\"256\"/><line x1=\"1373\" y1=\"498\" x2=\"1079\" y2=\"487\"/><line x1=\"1373\" y1=\"498\" x2=\"1668\" y2=\"394\"/><line x1=\"639\" y1=\"490\" x2=\"418\" y2=\"402\"/><line x1=\"639\" y1=\"490\" x2=\"274\" y2=\"564\"/><line x1=\"639\" y1=\"490\" x2=\"316\" y2=\"173\"/></g><g id=\"WTGgrp\"><g fill=\"#9edae5\"><use href=\"#wtg\" x=\"1309\" y=\"175\"/><use href=\"#wtg\" x=\"1120\" y=\"256\"/><use href=\"#wtg\" x=\"1209\" y=\"211\"/><use href=\"#wtg\" x=\"1294\" y=\"300\"/><use href=\"#wtg\" x=\"1194\" y=\"335\"/></g><g fill=\"#8c564b\"><use href=\"#wtg\" x=\"1386\" y=\"256\"/><use href=\"#wtg\" x=\"1582\" y=\"196\"/><use href=\"#wtg\" x=\"1542\" y=\"92\"/><use href=\"#wtg\" x=\"1431\" y=\"139\"/><use href=\"#wtg\" x=\"1485\" y=\"235\"/></g><g fill=\"#c49c94\"><use href=\"#wtg\" x=\"1079\" y=\"487\"/><use href=\"#wtg\" x=\"1090\" y=\"363\"/><use href=\"#wtg\" x=\"1011\" y=\"292\"/><use href=\"#wtg\" x=\"992\" y=\"406\"/><use href=\"#wtg\" x=\"903\" y=\"330\"/></g><g fill=\"#1f77b4\"><use href=\"#wtg\" x=\"603\" y=\"410\"/><use href=\"#wtg\" x=\"524\" y=\"330\"/></g><g fill=\"#ff7f0e\"><use href=\"#wtg\" x=\"640\" y=\"280\"/><use href=\"#wtg\" x=\"722\" y=\"421\"/><use href=\"#wtg\" x=\"746\" y=\"299\"/></g><g fill=\"#dbdb8d\"><use href=\"#wtg\" x=\"1392\" y=\"372\"/><use href=\"#wtg\" x=\"1163\" y=\"566\"/><use href=\"#wtg\" x=\"1187\" y=\"450\"/><use href=\"#wtg\" x=\"1263\" y=\"551\"/><use href=\"#wtg\" x=\"1289\" y=\"403\"/></g><g fill=\"#e377c2\"><use href=\"#wtg\" x=\"1475\" y=\"434\"/><use href=\"#wtg\" x=\"1576\" y=\"437\"/><use href=\"#wtg\" x=\"1732\" y=\"572\"/><use href=\"#wtg\" x=\"1639\" y=\"617\"/><use href=\"#wtg\" x=\"1670\" y=\"494\"/></g><g fill=\"#bcbd22\"><use href=\"#wtg\" x=\"1145\" y=\"678\"/><use href=\"#wtg\" x=\"1256\" y=\"652\"/><use href=\"#wtg\" x=\"1181\" y=\"775\"/><use href=\"#wtg\" x=\"1264\" y=\"853\"/><use href=\"#wtg\" x=\"1164\" y=\"880\"/></g><g fill=\"#ffbb78\"><use href=\"#wtg\" x=\"355\" y=\"643\"/><use href=\"#wtg\" x=\"419\" y=\"559\"/><use href=\"#wtg\" x=\"336\" y=\"500\"/><use href=\"#wtg\" x=\"486\" y=\"484\"/></g><g fill=\"#c5b0d5\"><use href=\"#wtg\" x=\"1016\" y=\"722\"/><use href=\"#wtg\" x=\"1080\" y=\"800\"/><use href=\"#wtg\" x=\"873\" y=\"593\"/><use href=\"#wtg\" x=\"751\" y=\"599\"/><use href=\"#wtg\" x=\"920\" y=\"693\"/></g><g fill=\"#f7b6d2\"><use href=\"#wtg\" x=\"1638\" y=\"291\"/><use href=\"#wtg\" x=\"1690\" y=\"143\"/><use href=\"#wtg\" x=\"1533\" y=\"343\"/><use href=\"#wtg\" x=\"1729\" y=\"235\"/><use href=\"#wtg\" x=\"1661\" y=\"47\"/></g><g fill=\"#98df8a\"><use href=\"#wtg\" x=\"430\" y=\"715\"/><use href=\"#wtg\" x=\"487\" y=\"636\"/><use href=\"#wtg\" x=\"566\" y=\"562\"/><use href=\"#wtg\" x=\"542\" y=\"727\"/></g><g fill=\"#aec7e8\"><use href=\"#wtg\" x=\"234\" y=\"257\"/><use href=\"#wtg\" x=\"316\" y=\"173\"/><use href=\"#wtg\" x=\"131\" y=\"252\"/><use href=\"#wtg\" x=\"210\" y=\"157\"/><use href=\"#wtg\" x=\"290\" y=\"67\"/></g><g fill=\"#2ca02c\"><use href=\"#wtg\" x=\"978\" y=\"533\"/><use href=\"#wtg\" x=\"1055\" y=\"600\"/><use href=\"#wtg\" x=\"800\" y=\"499\"/><use href=\"#wtg\" x=\"898\" y=\"469\"/></g><g fill=\"#7f7f7f\"><use href=\"#wtg\" x=\"1668\" y=\"394\"/><use href=\"#wtg\" x=\"1767\" y=\"345\"/><use href=\"#wtg\" x=\"1801\" y=\"446\"/><use href=\"#wtg\" x=\"1836\" y=\"646\"/><use href=\"#wtg\" x=\"1840\" y=\"542\"/></g><g fill=\"#ff9896\"><use href=\"#wtg\" x=\"539\" y=\"197\"/><use href=\"#wtg\" x=\"344\" y=\"309\"/><use href=\"#wtg\" x=\"418\" y=\"402\"/><use href=\"#wtg\" x=\"437\" y=\"239\"/><use href=\"#wtg\" x=\"417\" y=\"131\"/></g><g fill=\"#c7c7c7\"><use href=\"#wtg\" x=\"1456\" y=\"588\"/><use href=\"#wtg\" x=\"1633\" y=\"719\"/><use href=\"#wtg\" x=\"1730\" y=\"683\"/><use href=\"#wtg\" x=\"1550\" y=\"543\"/><use href=\"#wtg\" x=\"1547\" y=\"664\"/></g><g fill=\"#d62728\"><use href=\"#wtg\" x=\"631\" y=\"641\"/><use href=\"#wtg\" x=\"635\" y=\"781\"/><use href=\"#wtg\" x=\"710\" y=\"704\"/><use href=\"#wtg\" x=\"810\" y=\"690\"/></g><g fill=\"#9467bd\"><use href=\"#wtg\" x=\"67\" y=\"335\"/><use href=\"#wtg\" x=\"182\" y=\"346\"/><use href=\"#wtg\" x=\"274\" y=\"564\"/><use href=\"#wtg\" x=\"126\" y=\"422\"/><use href=\"#wtg\" x=\"201\" y=\"489\"/></g><g fill=\"#17becf\"><use href=\"#wtg\" x=\"1313\" y=\"745\"/><use href=\"#wtg\" x=\"1356\" y=\"622\"/><use href=\"#wtg\" x=\"1403\" y=\"802\"/><use href=\"#wtg\" x=\"1437\" y=\"694\"/><use href=\"#wtg\" x=\"1514\" y=\"764\"/></g></g><g id=\"OSSgrp\"><use href=\"#oss\" x=\"628.5\" y=\"479.5\"/><use href=\"#oss\" x=\"1362.5\" y=\"487.5\"/></g></g><text filter=\"url(#bg_textbox)\" text-anchor=\"end\" font-family=\"sans-serif\" font-size=\"40\" fill=\"white\" x=\"1890\" y=\"905\"><tspan x=\"1890\" dy=\"-0.0em\">&#931;&#955; = 93275.0 m</tspan><tspan x=\"1890\" dy=\"-1.3em\">(+1) &#945;: 10, &#946;: 10</tspan><tspan x=\"1890\" dy=\"-1.3em\">&#954; = 5, T = 91</tspan></text></svg>"
      ],
      "text/plain": [
       "<interarray.svg.SvgRepr at 0x19651ddf0e0>"
      ]
     },
     "execution_count": 8,
     "metadata": {},
     "output_type": "execute_result"
    }
   ],
   "source": [
    "Sʹ = EW_presolver(A, capacity=capacity)\n",
    "Gʹ = G_from_S(Sʹ, A)\n",
    "svgplot(Gʹ)"
   ]
  },
  {
   "cell_type": "code",
   "execution_count": 9,
   "id": "003714e7-bf75-4cda-ae19-58c74e126c75",
   "metadata": {},
   "outputs": [],
   "source": [
    "model = omo.make_min_length_model(\n",
    "    A, capacity,\n",
    "    gateXings_constraint=False,\n",
    "    branching=True,\n",
    "    gates_limit=False\n",
    ")\n",
    "omo.warmup_model(model, Sʹ);"
   ]
  },
  {
   "cell_type": "code",
   "execution_count": 10,
   "id": "34e55c54-4bc1-44e0-ac8a-baee332a5a99",
   "metadata": {
    "scrolled": true
   },
   "outputs": [
    {
     "name": "stdout",
     "output_type": "stream",
     "text": [
      "Solving \"race\": {R=2, T=91, κ=5}\n",
      "\n",
      "Version identifier: 22.1.2.0 | 2024-11-25 | 0edbb82fd\n",
      "CPXPARAM_Read_DataCheck                          1\n",
      "CPXPARAM_Parallel                                -1\n",
      "CPXPARAM_Emphasis_MIP                            4\n",
      "CPXPARAM_TimeLimit                               20\n",
      "CPXPARAM_MIP_Tolerances_MIPGap                   0.002\n",
      "1 of 1 MIP starts provided solutions.\n",
      "MIP start 'm1' defined initial solution with objective 93274.5215.\n",
      "Tried aggregator 1 time.\n",
      "MIP Presolve eliminated 457 rows and 0 columns.\n",
      "MIP Presolve modified 1894 coefficients.\n",
      "Reduced MIP has 2736 rows, 2076 columns, and 9872 nonzeros.\n",
      "Reduced MIP has 1038 binaries, 1038 generals, 0 SOSs, and 0 indicators.\n",
      "Presolve time = 0.02 sec. (8.40 ticks)\n",
      "Probing time = 0.00 sec. (2.89 ticks)\n",
      "Tried aggregator 1 time.\n",
      "Detecting symmetries...\n",
      "Reduced MIP has 2736 rows, 2076 columns, and 9872 nonzeros.\n",
      "Reduced MIP has 1038 binaries, 1038 generals, 0 SOSs, and 0 indicators.\n",
      "Presolve time = 0.00 sec. (6.43 ticks)\n",
      "Probing time = 0.00 sec. (2.83 ticks)\n",
      "Clique table members: 476.\n",
      "MIP emphasis: hidden feasible solutions.\n",
      "MIP search method: dynamic search.\n",
      "Parallel mode: opportunistic, using up to 16 threads.\n",
      "Root relaxation solution time = 0.03 sec. (30.87 ticks)\n",
      "\n",
      "        Nodes                                         Cuts/\n",
      "   Node  Left     Objective  IInf  Best Integer    Best Bound    ItCnt     Gap\n",
      "\n",
      "*     0+    0                        93274.5215        0.0000           100.00%\n",
      "      0     0    85779.2773   103    93274.5215    85779.2773     1345    8.04%\n",
      "*     0+    0                        91529.1336    85779.2773             6.28%\n",
      "      0     0    86252.7166   264    91529.1336     Cuts: 116     1562    5.76%\n",
      "      0     0    86419.7825   277    91529.1336     Cuts: 109     1732    5.58%\n",
      "*     0+    0                        89678.1924    86419.7825             3.63%\n",
      "      0     0    86519.9448   258    89678.1924      Cuts: 50     1837    3.52%\n",
      "      0     0    86575.5070   276    89678.1924      Cuts: 43     1945    3.46%\n",
      "      0     0    86613.1961   266    89678.1924      Cuts: 35     2010    3.42%\n",
      "Detecting symmetries...\n",
      "      0     0    86647.4750   276    89678.1924      Cuts: 21     2075    3.38%\n",
      "      0     0    86664.9704   286    89678.1924      Cuts: 31     2123    3.36%\n",
      "      0     0    86683.0723   271    89678.1924      Cuts: 20     2182    3.34%\n",
      "*     0+    0                        89352.3492    86683.0723             2.99%\n",
      "*     0+    0                        88631.4155    86683.0723             2.20%\n",
      "*     0+    0                        88438.1465    86683.0723             1.98%\n",
      "*     0+    0                        88267.2163    86683.0723             1.79%\n",
      "      0     0  -1.00000e+75     0    88267.2163    86683.0723     2182    1.79%\n",
      "      0     0    86702.3876   273    88267.2163      Cuts: 22     2278    1.77%\n",
      "      0     0    86709.0578   270    88267.2163      Cuts: 20     2341    1.77%\n",
      "      0     0    86715.3119   313    88267.2163      Cuts: 25     2392    1.76%\n",
      "Detecting symmetries...\n",
      "      0     2    86715.3119   313    88267.2163    86715.3119     2392    1.76%\n",
      "Elapsed time = 1.14 sec. (886.49 ticks, tree = 0.02 MB, solutions = 7)\n",
      "*     8+   15                        88152.9783    86715.3566             1.63%\n",
      "    339   197    88059.5357   194    88152.9783    86728.5029    16097    1.62%\n",
      "    884   469    87615.5621   191    88152.9783    86728.5029    43186    1.62%\n",
      "   1652  1075    88095.4719   253    88152.9783    86758.7252    79236    1.58%\n",
      "   2465  1479    86887.1355   312    88136.0242    86784.6758    99368    1.53%\n",
      "   3104  1912    87654.2206   271    87950.7892    86842.1485   134883    1.26%\n",
      "*  3498+ 1896                        87802.9883    86856.3243             1.08%\n",
      "   3609  1955    87512.2530   190    87802.9883    86856.3243   153244    1.08%\n",
      "   4177  2376    87520.0298   200    87802.9883    86856.3243   188334    1.08%\n",
      "   4651  2463    87144.1611   288    87802.9883    86856.3243   196792    1.08%\n",
      "\n",
      "Performing restart 1\n",
      "\n",
      "Repeating presolve.\n",
      "Tried aggregator 1 time.\n",
      "MIP Presolve eliminated 420 rows and 389 columns.\n",
      "MIP Presolve modified 173 coefficients.\n",
      "Reduced MIP has 2316 rows, 1687 columns, and 8015 nonzeros.\n",
      "Reduced MIP has 846 binaries, 841 generals, 0 SOSs, and 0 indicators.\n",
      "Presolve time = 0.00 sec. (5.45 ticks)\n",
      "Tried aggregator 1 time.\n",
      "Reduced MIP has 2316 rows, 1687 columns, and 8015 nonzeros.\n",
      "Reduced MIP has 846 binaries, 841 generals, 0 SOSs, and 0 indicators.\n",
      "Presolve time = 0.00 sec. (5.44 ticks)\n",
      "Represolve time = 0.05 sec. (27.89 ticks)\n",
      "   4662     0    86813.5959   346    87802.9883     Cuts: 106   224834    1.06%\n",
      "   4662     0    86843.1433   363    87802.9883      Cuts: 82   224979    1.06%\n",
      "   4662     0    86879.7745   379    87802.9883      Cuts: 99   225196    1.05%\n",
      "   4662     0    86905.1404   370    87802.9883     Cuts: 141   225354    1.02%\n",
      "   4662     0    86921.0388   370    87802.9883      Cuts: 83   225507    1.00%\n",
      "   4662     0    86931.3413   384    87802.9883      Cuts: 77   225618    0.99%\n",
      "   4662     0    86937.5703   376    87802.9883      Cuts: 82   225716    0.98%\n",
      "   4662     0    86948.9109   392    87802.9883      Cuts: 84   225842    0.97%\n",
      "   4662     0    86958.3938   402    87802.9883      Cuts: 84   225959    0.94%\n",
      "   4662     0    86970.4590   386    87802.9883      Cuts: 63   226108    0.94%\n",
      "   4662     0    86980.1685   393    87802.9883      Cuts: 56   226226    0.94%\n",
      "   4662     0    86990.0089   359    87802.9883      Cuts: 35   226343    0.93%\n",
      "   4662     0    86996.0314   406    87802.9883      Cuts: 47   226445    0.92%\n",
      "   4662     0    87000.7344   391    87802.9883      Cuts: 41   226550    0.84%\n",
      "   4662     0    87004.2438   401    87802.9883      Cuts: 33   226653    0.84%\n",
      "   4662     0    87005.6402   409    87802.9883      Cuts: 56   226728    0.84%\n",
      "   4662     0    87006.9006   404    87802.9883      Cuts: 24   226814    0.84%\n",
      "   4662     0    87007.5930   408    87802.9883      Cuts: 25   226861    0.84%\n",
      "   4662     2    87007.5930   408    87802.9883    87137.7338   226861    0.76%\n",
      "   5048    40    87755.8885   347    87802.9883    87283.0271   239538    0.59%\n",
      "Elapsed time = 10.25 sec. (7675.96 ticks, tree = 0.11 MB, solutions = 13)\n",
      "\n",
      "GUB cover cuts applied:  3\n",
      "Flow cuts applied:  50\n",
      "Mixed integer rounding cuts applied:  159\n",
      "Zero-half cuts applied:  54\n",
      "Lift and project cuts applied:  42\n",
      "Gomory fractional cuts applied:  1\n",
      "\n",
      "Root node processing (before b&c):\n",
      "  Real time             =    1.05 sec. (885.13 ticks)\n",
      "Parallel b&c, 16 threads:\n",
      "  Real time             =    9.22 sec. (7631.68 ticks)\n",
      "  Sync time (average)   =    1.17 sec.\n",
      "  Wait time (average)   =    0.00 sec.\n",
      "                          ------------\n",
      "Total (root+branch&cut) =   10.27 sec. (8516.81 ticks)\n"
     ]
    }
   ],
   "source": [
    "cplexer.options.mipgap = 0.002  # relative lower-bound to objective-value gap\n",
    "cplexer.options.timelimit = 20  # seconds\n",
    "cplexer.options.parallel = -1  # opportunistic parallelism (non-deterministic)\n",
    "cplexer.options.emphasis_mip = 4  # focus on producing solutions\n",
    "print(f'Solving \"{model.handle}\": {{R={len(model.R)}, T={len(model.T)}, κ={model.k.value}}}\\n')\n",
    "result = cplexer.solve(model, warmstart=True, tee=True)"
   ]
  },
  {
   "cell_type": "code",
   "execution_count": 11,
   "id": "20ecc249-4cf7-4955-866f-381a76496abc",
   "metadata": {},
   "outputs": [
    {
     "data": {
      "image/svg+xml": [
       "<svg xmlns=\"http://www.w3.org/2000/svg\" viewBox=\"0 0 1920 935\"><defs ><filter x=\"-5%\" y=\"-5%\" id=\"bg_textbox\" width=\"110%\" height=\"110%\"><feFlood flood-opacity=\"0.7\" flood-color=\"#111\" result=\"bg\"/><feMerge ><feMergeNode in=\"bg\"/><feMergeNode in=\"SourceGraphic\"/></feMerge></filter><circle stroke=\"none\" stroke-width=\"2\" id=\"wtg\" r=\"12\"/><rect stroke=\"none\" stroke-width=\"2\" id=\"oss\" width=\"21\" height=\"21\" fill=\"lawngreen\"/></defs><g id=\"race\"><path stroke=\"silver\" stroke-dasharray=\"15 7\" stroke-width=\"2\" id=\"border\" d=\"M30 352 285 45 839 331 1668 30 1890 640 1167 905 968 719 877 701 718 719 642 804 492 718 432 740z\" fill-rule=\"evenodd\" fill=\"#111\"/><g stroke=\"crimson\" stroke-width=\"4\" id=\"edges_unspecified\"><line x1=\"639\" y1=\"490\" x2=\"524\" y2=\"330\"/><line x1=\"639\" y1=\"490\" x2=\"566\" y2=\"562\"/><line x1=\"639\" y1=\"490\" x2=\"800\" y2=\"499\"/><line x1=\"639\" y1=\"490\" x2=\"751\" y2=\"599\"/><line x1=\"639\" y1=\"490\" x2=\"722\" y2=\"421\"/><line x1=\"639\" y1=\"490\" x2=\"486\" y2=\"484\"/><line x1=\"639\" y1=\"490\" x2=\"603\" y2=\"410\"/><line x1=\"639\" y1=\"490\" x2=\"631\" y2=\"641\"/><line x1=\"639\" y1=\"490\" x2=\"418\" y2=\"402\"/><line x1=\"722\" y1=\"421\" x2=\"746\" y2=\"299\"/><line x1=\"336\" y1=\"500\" x2=\"486\" y2=\"484\"/><line x1=\"800\" y1=\"499\" x2=\"898\" y2=\"469\"/><line x1=\"800\" y1=\"499\" x2=\"873\" y2=\"593\"/><line x1=\"487\" y1=\"636\" x2=\"566\" y2=\"562\"/><line x1=\"631\" y1=\"641\" x2=\"710\" y2=\"704\"/><line x1=\"344\" y1=\"309\" x2=\"418\" y2=\"402\"/><line x1=\"437\" y1=\"239\" x2=\"524\" y2=\"330\"/><line x1=\"751\" y1=\"599\" x2=\"810\" y2=\"690\"/><line x1=\"1373\" y1=\"498\" x2=\"1550\" y2=\"543\"/><line x1=\"1373\" y1=\"498\" x2=\"1456\" y2=\"588\"/><line x1=\"1373\" y1=\"498\" x2=\"1263\" y2=\"551\"/><line x1=\"1373\" y1=\"498\" x2=\"1475\" y2=\"434\"/><line x1=\"1373\" y1=\"498\" x2=\"1289\" y2=\"403\"/><line x1=\"1373\" y1=\"498\" x2=\"1187\" y2=\"450\"/><line x1=\"1373\" y1=\"498\" x2=\"1356\" y2=\"622\"/><line x1=\"1373\" y1=\"498\" x2=\"1256\" y2=\"652\"/><line x1=\"1373\" y1=\"498\" x2=\"1533\" y2=\"343\"/><line x1=\"1373\" y1=\"498\" x2=\"1392\" y2=\"372\"/><line x1=\"1392\" y1=\"372\" x2=\"1386\" y2=\"256\"/><line x1=\"1475\" y1=\"434\" x2=\"1576\" y2=\"437\"/><line x1=\"1187\" y1=\"450\" x2=\"1194\" y2=\"335\"/><line x1=\"1533\" y1=\"343\" x2=\"1638\" y2=\"291\"/><line x1=\"1456\" y1=\"588\" x2=\"1547\" y2=\"664\"/><line x1=\"1145\" y1=\"678\" x2=\"1256\" y2=\"652\"/><line x1=\"1163\" y1=\"566\" x2=\"1263\" y2=\"551\"/><line x1=\"1289\" y1=\"403\" x2=\"1294\" y2=\"300\"/><line x1=\"1356\" y1=\"622\" x2=\"1437\" y2=\"694\"/><line x1=\"1550\" y1=\"543\" x2=\"1639\" y2=\"617\"/><line x1=\"1079\" y1=\"487\" x2=\"1163\" y2=\"566\"/><line x1=\"992\" y1=\"406\" x2=\"1079\" y2=\"487\"/><line x1=\"903\" y1=\"330\" x2=\"992\" y2=\"406\"/><line x1=\"1011\" y1=\"292\" x2=\"1090\" y2=\"363\"/><line x1=\"1090\" y1=\"363\" x2=\"1194\" y2=\"335\"/><line x1=\"1120\" y1=\"256\" x2=\"1194\" y2=\"335\"/><line x1=\"539\" y1=\"197\" x2=\"640\" y2=\"280\"/><line x1=\"640\" y1=\"280\" x2=\"746\" y2=\"299\"/><line x1=\"417\" y1=\"131\" x2=\"539\" y2=\"197\"/><line x1=\"1145\" y1=\"678\" x2=\"1181\" y2=\"775\"/><line x1=\"355\" y1=\"643\" x2=\"419\" y2=\"559\"/><line x1=\"274\" y1=\"564\" x2=\"355\" y2=\"643\"/><line x1=\"419\" y1=\"559\" x2=\"487\" y2=\"636\"/><line x1=\"542\" y1=\"727\" x2=\"635\" y2=\"781\"/><line x1=\"201\" y1=\"489\" x2=\"336\" y2=\"500\"/><line x1=\"126\" y1=\"422\" x2=\"201\" y2=\"489\"/><line x1=\"234\" y1=\"257\" x2=\"344\" y2=\"309\"/><line x1=\"131\" y1=\"252\" x2=\"234\" y2=\"257\"/><line x1=\"67\" y1=\"335\" x2=\"131\" y2=\"252\"/><line x1=\"290\" y1=\"67\" x2=\"316\" y2=\"173\"/><line x1=\"210\" y1=\"157\" x2=\"316\" y2=\"173\"/><line x1=\"316\" y1=\"173\" x2=\"437\" y2=\"239\"/><line x1=\"1670\" y1=\"494\" x2=\"1668\" y2=\"394\"/><line x1=\"1668\" y1=\"394\" x2=\"1767\" y2=\"345\"/><line x1=\"1576\" y1=\"437\" x2=\"1668\" y2=\"394\"/><line x1=\"635\" y1=\"781\" x2=\"710\" y2=\"704\"/><line x1=\"1801\" y1=\"446\" x2=\"1840\" y2=\"542\"/><line x1=\"1732\" y1=\"572\" x2=\"1840\" y2=\"542\"/><line x1=\"1209\" y1=\"211\" x2=\"1309\" y2=\"175\"/><line x1=\"1209\" y1=\"211\" x2=\"1294\" y2=\"300\"/><line x1=\"1164\" y1=\"880\" x2=\"1264\" y2=\"853\"/><line x1=\"1164\" y1=\"880\" x2=\"1181\" y2=\"775\"/><line x1=\"1313\" y1=\"745\" x2=\"1403\" y2=\"802\"/><line x1=\"1403\" y1=\"802\" x2=\"1437\" y2=\"694\"/><line x1=\"1437\" y1=\"694\" x2=\"1514\" y2=\"764\"/><line x1=\"126\" y1=\"422\" x2=\"182\" y2=\"346\"/><line x1=\"1309\" y1=\"175\" x2=\"1431\" y2=\"139\"/><line x1=\"1485\" y1=\"235\" x2=\"1582\" y2=\"196\"/><line x1=\"1386\" y1=\"256\" x2=\"1485\" y2=\"235\"/><line x1=\"1016\" y1=\"722\" x2=\"1080\" y2=\"800\"/><line x1=\"920\" y1=\"693\" x2=\"1016\" y2=\"722\"/><line x1=\"810\" y1=\"690\" x2=\"920\" y2=\"693\"/><line x1=\"1638\" y1=\"291\" x2=\"1729\" y2=\"235\"/><line x1=\"1729\" y1=\"235\" x2=\"1690\" y2=\"143\"/><line x1=\"1582\" y1=\"196\" x2=\"1542\" y2=\"92\"/><line x1=\"1690\" y1=\"143\" x2=\"1661\" y2=\"47\"/><line x1=\"978\" y1=\"533\" x2=\"1055\" y2=\"600\"/><line x1=\"898\" y1=\"469\" x2=\"978\" y2=\"533\"/><line x1=\"1547\" y1=\"664\" x2=\"1633\" y2=\"719\"/><line x1=\"1730\" y1=\"683\" x2=\"1836\" y2=\"646\"/><line x1=\"1633\" y1=\"719\" x2=\"1730\" y2=\"683\"/><line x1=\"1639\" y1=\"617\" x2=\"1732\" y2=\"572\"/></g><g stroke=\"red\" stroke-width=\"4\" id=\"edges_contour\"><line x1=\"430\" y1=\"715\" x2=\"492\" y2=\"718\"/><line x1=\"542\" y1=\"727\" x2=\"492\" y2=\"718\"/></g><g id=\"WTGgrp\"><g fill=\"#1f77b4\"><use href=\"#wtg\" x=\"603\" y=\"410\"/></g><g fill=\"#aec7e8\"><use href=\"#wtg\" x=\"722\" y=\"421\"/><use href=\"#wtg\" x=\"640\" y=\"280\"/><use href=\"#wtg\" x=\"746\" y=\"299\"/><use href=\"#wtg\" x=\"539\" y=\"197\"/><use href=\"#wtg\" x=\"417\" y=\"131\"/></g><g fill=\"#ff7f0e\"><use href=\"#wtg\" x=\"486\" y=\"484\"/><use href=\"#wtg\" x=\"201\" y=\"489\"/><use href=\"#wtg\" x=\"336\" y=\"500\"/><use href=\"#wtg\" x=\"126\" y=\"422\"/><use href=\"#wtg\" x=\"182\" y=\"346\"/></g><g fill=\"#ffbb78\"><use href=\"#wtg\" x=\"800\" y=\"499\"/><use href=\"#wtg\" x=\"1055\" y=\"600\"/><use href=\"#wtg\" x=\"978\" y=\"533\"/><use href=\"#wtg\" x=\"898\" y=\"469\"/><use href=\"#wtg\" x=\"873\" y=\"593\"/></g><g fill=\"#2ca02c\"><use href=\"#wtg\" x=\"566\" y=\"562\"/><use href=\"#wtg\" x=\"355\" y=\"643\"/><use href=\"#wtg\" x=\"419\" y=\"559\"/><use href=\"#wtg\" x=\"274\" y=\"564\"/><use href=\"#wtg\" x=\"487\" y=\"636\"/></g><g fill=\"#98df8a\"><use href=\"#wtg\" x=\"631\" y=\"641\"/><use href=\"#wtg\" x=\"430\" y=\"715\"/><use href=\"#wtg\" x=\"542\" y=\"727\"/><use href=\"#wtg\" x=\"635\" y=\"781\"/><use href=\"#wtg\" x=\"710\" y=\"704\"/></g><g fill=\"#d62728\"><use href=\"#wtg\" x=\"418\" y=\"402\"/><use href=\"#wtg\" x=\"234\" y=\"257\"/><use href=\"#wtg\" x=\"344\" y=\"309\"/><use href=\"#wtg\" x=\"131\" y=\"252\"/><use href=\"#wtg\" x=\"67\" y=\"335\"/></g><g fill=\"#ff9896\"><use href=\"#wtg\" x=\"524\" y=\"330\"/><use href=\"#wtg\" x=\"290\" y=\"67\"/><use href=\"#wtg\" x=\"316\" y=\"173\"/><use href=\"#wtg\" x=\"210\" y=\"157\"/><use href=\"#wtg\" x=\"437\" y=\"239\"/></g><g fill=\"#9467bd\"><use href=\"#wtg\" x=\"751\" y=\"599\"/><use href=\"#wtg\" x=\"1080\" y=\"800\"/><use href=\"#wtg\" x=\"1016\" y=\"722\"/><use href=\"#wtg\" x=\"920\" y=\"693\"/><use href=\"#wtg\" x=\"810\" y=\"690\"/></g><g fill=\"#c5b0d5\"><use href=\"#wtg\" x=\"1392\" y=\"372\"/><use href=\"#wtg\" x=\"1485\" y=\"235\"/><use href=\"#wtg\" x=\"1386\" y=\"256\"/><use href=\"#wtg\" x=\"1582\" y=\"196\"/><use href=\"#wtg\" x=\"1542\" y=\"92\"/></g><g fill=\"#8c564b\"><use href=\"#wtg\" x=\"1475\" y=\"434\"/><use href=\"#wtg\" x=\"1670\" y=\"494\"/><use href=\"#wtg\" x=\"1668\" y=\"394\"/><use href=\"#wtg\" x=\"1576\" y=\"437\"/><use href=\"#wtg\" x=\"1767\" y=\"345\"/></g><g fill=\"#c49c94\"><use href=\"#wtg\" x=\"1187\" y=\"450\"/><use href=\"#wtg\" x=\"1011\" y=\"292\"/><use href=\"#wtg\" x=\"1090\" y=\"363\"/><use href=\"#wtg\" x=\"1194\" y=\"335\"/><use href=\"#wtg\" x=\"1120\" y=\"256\"/></g><g fill=\"#e377c2\"><use href=\"#wtg\" x=\"1533\" y=\"343\"/><use href=\"#wtg\" x=\"1638\" y=\"291\"/><use href=\"#wtg\" x=\"1729\" y=\"235\"/><use href=\"#wtg\" x=\"1661\" y=\"47\"/><use href=\"#wtg\" x=\"1690\" y=\"143\"/></g><g fill=\"#f7b6d2\"><use href=\"#wtg\" x=\"1456\" y=\"588\"/><use href=\"#wtg\" x=\"1547\" y=\"664\"/><use href=\"#wtg\" x=\"1730\" y=\"683\"/><use href=\"#wtg\" x=\"1633\" y=\"719\"/><use href=\"#wtg\" x=\"1836\" y=\"646\"/></g><g fill=\"#7f7f7f\"><use href=\"#wtg\" x=\"1256\" y=\"652\"/><use href=\"#wtg\" x=\"1145\" y=\"678\"/><use href=\"#wtg\" x=\"1164\" y=\"880\"/><use href=\"#wtg\" x=\"1181\" y=\"775\"/><use href=\"#wtg\" x=\"1264\" y=\"853\"/></g><g fill=\"#c7c7c7\"><use href=\"#wtg\" x=\"1263\" y=\"551\"/><use href=\"#wtg\" x=\"1079\" y=\"487\"/><use href=\"#wtg\" x=\"1163\" y=\"566\"/><use href=\"#wtg\" x=\"992\" y=\"406\"/><use href=\"#wtg\" x=\"903\" y=\"330\"/></g><g fill=\"#bcbd22\"><use href=\"#wtg\" x=\"1289\" y=\"403\"/><use href=\"#wtg\" x=\"1209\" y=\"211\"/><use href=\"#wtg\" x=\"1294\" y=\"300\"/><use href=\"#wtg\" x=\"1309\" y=\"175\"/><use href=\"#wtg\" x=\"1431\" y=\"139\"/></g><g fill=\"#dbdb8d\"><use href=\"#wtg\" x=\"1356\" y=\"622\"/><use href=\"#wtg\" x=\"1313\" y=\"745\"/><use href=\"#wtg\" x=\"1403\" y=\"802\"/><use href=\"#wtg\" x=\"1437\" y=\"694\"/><use href=\"#wtg\" x=\"1514\" y=\"764\"/></g><g fill=\"#17becf\"><use href=\"#wtg\" x=\"1550\" y=\"543\"/><use href=\"#wtg\" x=\"1801\" y=\"446\"/><use href=\"#wtg\" x=\"1840\" y=\"542\"/><use href=\"#wtg\" x=\"1732\" y=\"572\"/><use href=\"#wtg\" x=\"1639\" y=\"617\"/></g></g><g id=\"OSSgrp\"><use href=\"#oss\" x=\"628.5\" y=\"479.5\"/><use href=\"#oss\" x=\"1362.5\" y=\"487.5\"/></g></g><text filter=\"url(#bg_textbox)\" text-anchor=\"end\" font-family=\"sans-serif\" font-size=\"40\" fill=\"white\" x=\"1890\" y=\"905\"><tspan x=\"1890\" dy=\"-0.0em\">&#931;&#955; = 87803.0 m</tspan><tspan x=\"1890\" dy=\"-1.3em\">(+0) &#945;: 10, &#946;: 9</tspan><tspan x=\"1890\" dy=\"-1.3em\">&#954; = 5, T = 91</tspan></text></svg>"
      ],
      "text/plain": [
       "<interarray.svg.SvgRepr at 0x19650836480>"
      ]
     },
     "execution_count": 11,
     "metadata": {},
     "output_type": "execute_result"
    }
   ],
   "source": [
    "S = omo.S_from_solution(model, cplexer, result)\n",
    "G = G_from_S(S, A)\n",
    "H = PathFinder(G, planar=P, A=A).create_detours()\n",
    "svgplot(H)"
   ]
  }
 ],
 "metadata": {
  "language_info": {
   "name": "python"
  }
 },
 "nbformat": 4,
 "nbformat_minor": 5
}
