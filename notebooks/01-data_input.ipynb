{
 "cells": [
  {
   "cell_type": "markdown",
   "id": "38c6588e-389a-4a39-9c4f-e36d2c7947c2",
   "metadata": {
    "deletable": true,
    "editable": true,
    "frozen": false
   },
   "source": [
    "**Note**: trust this notebook for SVG cell output to be displayed."
   ]
  },
  {
   "cell_type": "markdown",
   "id": "fca2771e-61e8-4f29-a6ae-8bbce26c4762",
   "metadata": {
    "deletable": true,
    "editable": true,
    "frozen": false
   },
   "source": [
    "There are 3 alternatives to import wind farm layout data for use within **interarray**:\n",
    "- interarray API\n",
    "- `.yaml` file\n",
    "- `.osm.pbf` file"
   ]
  },
  {
   "cell_type": "code",
   "execution_count": 1,
   "id": "fa29e2ac-26f7-4927-bebf-eeef30a5ab37",
   "metadata": {},
   "outputs": [],
   "source": [
    "from interarray.importer import L_from_yaml, L_from_pbf, L_from_site\n",
    "from interarray.svg import svgplot"
   ]
  },
  {
   "cell_type": "markdown",
   "id": "1bcfeda4-e9da-4305-b7ab-22c38f96f199",
   "metadata": {
    "deletable": true,
    "editable": true,
    "execution": {
     "iopub.execute_input": "2024-11-26T13:01:56.704231Z",
     "iopub.status.busy": "2024-11-26T13:01:56.704231Z",
     "iopub.status.idle": "2024-11-26T13:01:56.719320Z",
     "shell.execute_reply": "2024-11-26T13:01:56.719320Z",
     "shell.execute_reply.started": "2024-11-26T13:01:56.704231Z"
    },
    "frozen": false
   },
   "source": [
    "## Option 0: Use the interarray API from Python"
   ]
  },
  {
   "cell_type": "code",
   "execution_count": 2,
   "id": "5854d182-84b6-4c64-aab2-46accfbb93a8",
   "metadata": {},
   "outputs": [],
   "source": [
    "from itertools import pairwise"
   ]
  },
  {
   "cell_type": "code",
   "execution_count": 3,
   "id": "f82d5c6e-408c-4173-a434-157d53347e58",
   "metadata": {},
   "outputs": [],
   "source": [
    "import numpy as np"
   ]
  },
  {
   "cell_type": "code",
   "execution_count": 4,
   "id": "e93a9280-594e-4840-8ea6-ec2a0bd800b3",
   "metadata": {},
   "outputs": [],
   "source": [
    "# all coordinates are sequences of (x, y) pairs\n",
    "# if input coordinates are in arrays X and Y, use `np.hstack((X, Y))`\n",
    "border = np.array( # vertices oriented counter-clockwise\n",
    "    [[1951, 200], [1951, 1383], [386, 1383], [650, 708], [624, 678],\n",
    "     [4, 1036], [4, 3], [1152, 3], [917, 819], [957, 854]],\n",
    "    dtype=float)\n",
    "# 'obstacles' is an optional location attribute\n",
    "obstacles = [\n",
    "    # - vertices oriented clockwise for each obstacle polygon\n",
    "    # - obstacles must be strictly inside the extents polygon\n",
    "    # - undefined behavior if obstacles and extents borders overlap\n",
    "    # first obstacle\n",
    "    np.array([[1540, 920], [1600, 940], [1600, 1150], [1400, 1200]]),\n",
    "    # [second obstacle] ...\n",
    "]\n",
    "substations = np.array([[696, 1063],], dtype=float)\n",
    "turbines = np.array(\n",
    "    [[1940, 279], [1920, 703], [1475, 696], [1839, 1250],\n",
    "     [1277, 1296], [442, 1359], [737, 435], [1060, 26],\n",
    "     [522, 176], [87, 35], [184, 417], [71, 878]],\n",
    "    dtype=float\n",
    ")\n",
    "R = substations.shape[0]\n",
    "T = turbines.shape[0]\n",
    "border_sizes = np.array([border.shape[0]] +\n",
    "                        [obstacle.shape[0] for obstacle in obstacles])\n",
    "B = border_sizes.sum()\n",
    "obstacle_idxs = np.cumsum(border_sizes) + T\n",
    "\n",
    "L = L_from_site(\n",
    "    R=R, T=T, B=B,\n",
    "    border=np.arange(T, T + border.shape[0]),\n",
    "    obstacles=[np.arange(a, b) for a, b in pairwise(obstacle_idxs)],\n",
    "    name='Example Location',\n",
    "    handle='example',\n",
    "    VertexC=np.vstack((turbines, border, *obstacles, substations)),\n",
    ")"
   ]
  },
  {
   "cell_type": "code",
   "execution_count": 5,
   "id": "5539b8f8-a4d6-4aa6-b1c3-faf04331f38a",
   "metadata": {},
   "outputs": [
    {
     "data": {
      "image/svg+xml": [
       "<svg xmlns=\"http://www.w3.org/2000/svg\" viewBox=\"0 0 1920 1080\"><defs ><filter x=\"-5%\" y=\"-5%\" id=\"bg_textbox\" width=\"110%\" height=\"110%\"><feFlood flood-opacity=\"0.7\" flood-color=\"#111\" result=\"bg\"/><feMerge ><feMergeNode in=\"bg\"/><feMergeNode in=\"SourceGraphic\"/></feMerge></filter><circle stroke=\"none\" stroke-width=\"2\" id=\"wtg\" r=\"12\"/><rect stroke=\"none\" stroke-width=\"2\" id=\"oss\" width=\"21\" height=\"21\" fill=\"lawngreen\"/></defs><g id=\"example\"><path stroke=\"silver\" stroke-dasharray=\"15 7\" stroke-width=\"2\" id=\"border\" d=\"M1469 904 1469 30 312 30 507 529 488 551 30 286 30 1050 879 1050 705 447 734 421z M1165 372 1210 357 1210 202 1062 165z\" fill-rule=\"evenodd\" fill=\"#111\"/><g id=\"WTGgrp\"><g fill=\"#9edae5\"><use href=\"#wtg\" x=\"1461\" y=\"846\"/><use href=\"#wtg\" x=\"1446\" y=\"533\"/><use href=\"#wtg\" x=\"1117\" y=\"538\"/><use href=\"#wtg\" x=\"1386\" y=\"128\"/><use href=\"#wtg\" x=\"971\" y=\"94\"/><use href=\"#wtg\" x=\"354\" y=\"48\"/><use href=\"#wtg\" x=\"572\" y=\"731\"/><use href=\"#wtg\" x=\"811\" y=\"1033\"/><use href=\"#wtg\" x=\"413\" y=\"922\"/><use href=\"#wtg\" x=\"91\" y=\"1026\"/><use href=\"#wtg\" x=\"163\" y=\"744\"/><use href=\"#wtg\" x=\"80\" y=\"403\"/></g></g><g id=\"OSSgrp\"><use href=\"#oss\" x=\"530.5\" y=\"256.5\"/></g></g></svg>"
      ],
      "text/plain": [
       "<interarray.svg.SvgRepr at 0x16f97754cb0>"
      ]
     },
     "execution_count": 5,
     "metadata": {},
     "output_type": "execute_result"
    }
   ],
   "source": [
    "svgplot(L)"
   ]
  },
  {
   "cell_type": "markdown",
   "id": "ac064931-e789-467f-8378-0e64d098d46a",
   "metadata": {
    "deletable": true,
    "editable": true,
    "execution": {
     "iopub.execute_input": "2024-11-26T13:01:56.704231Z",
     "iopub.status.busy": "2024-11-26T13:01:56.704231Z",
     "iopub.status.idle": "2024-11-26T13:01:56.719320Z",
     "shell.execute_reply": "2024-11-26T13:01:56.719320Z",
     "shell.execute_reply.started": "2024-11-26T13:01:56.704231Z"
    },
    "frozen": false
   },
   "source": [
    "## Option 1: YAML input file"
   ]
  },
  {
   "cell_type": "code",
   "execution_count": 6,
   "id": "501eb6be-c087-46c2-85cd-11b5de328c57",
   "metadata": {},
   "outputs": [],
   "source": [
    "with open('data/example_location.yaml', 'w') as yaml_file:\n",
    "    yaml_file.write('''\n",
    "# coordinate format can be \"planar\" or \"latlon\"\n",
    "#   - for \"latlon\" examples, see `interarray/data/*.yaml`\n",
    "#   - this field is optional, default is \"latlon\"\n",
    "#   - coordinates are converted to floats, so floats may be used as well\n",
    "COORDINATE_FORMAT: planar\n",
    "\n",
    "# extents define a polygon:\n",
    "#   - vertices in counter-clockwise orientation\n",
    "#   - do not repeat the initial vertex at the end\n",
    "#   - line breaks are optional\n",
    "EXTENTS: [\n",
    "  [1951, 200],\n",
    "  [1951, 1383],\n",
    "  [386, 1383],\n",
    "  [650, 708],\n",
    "  [624, 678],\n",
    "  [4, 1036],\n",
    "  [4, 3],\n",
    "  [1152, 3],\n",
    "  [917, 819],\n",
    "  [957, 854]\n",
    "]\n",
    "\n",
    "# obstacles is optional and must be a list of polygons (even if 1 obstacle)\n",
    "#   - vertices in clockwise orientation (yes, opposite of extents)\n",
    "#   - obstacles must be strictly inside the extents polygon\n",
    "#   - the parser will not complain about borders of obstacles overlapping\n",
    "#     borders of extents, but interarray will behave unpredictably\n",
    "OBSTACLES: [\n",
    "  [  # first obstacle\n",
    "    [1540, 920],\n",
    "    [1600, 940],\n",
    "    [1600, 1150],\n",
    "    [1400, 1200],\n",
    "  ],\n",
    "  # [second obstacle]\n",
    "]\n",
    "\n",
    "SUBSTATIONS: [\n",
    "  [696, 1063],\n",
    "]\n",
    "\n",
    "TURBINES: [\n",
    "  [1940, 279],\n",
    "  [1920, 703],\n",
    "  [1475, 696],\n",
    "  [1839, 1250],\n",
    "  [1277, 1296],\n",
    "  [442, 1359],\n",
    "  [737, 435],\n",
    "  [1060, 26],\n",
    "  [522, 176],\n",
    "  [87, 35],\n",
    "  [184, 417],\n",
    "  [71, 878],\n",
    "]\n",
    "''')"
   ]
  },
  {
   "cell_type": "code",
   "execution_count": 7,
   "id": "a42be570-4222-4faf-a247-60611d55a09a",
   "metadata": {},
   "outputs": [],
   "source": [
    "L = L_from_yaml('data/example_location.yaml')"
   ]
  },
  {
   "cell_type": "code",
   "execution_count": 8,
   "id": "5dc83b7b-d9be-48e0-9255-fabcef9cc7c2",
   "metadata": {},
   "outputs": [
    {
     "data": {
      "image/svg+xml": [
       "<svg xmlns=\"http://www.w3.org/2000/svg\" viewBox=\"0 0 1920 1080\"><defs ><filter x=\"-5%\" y=\"-5%\" id=\"bg_textbox\" width=\"110%\" height=\"110%\"><feFlood flood-opacity=\"0.7\" flood-color=\"#111\" result=\"bg\"/><feMerge ><feMergeNode in=\"bg\"/><feMergeNode in=\"SourceGraphic\"/></feMerge></filter><circle stroke=\"none\" stroke-width=\"2\" id=\"wtg\" r=\"12\"/><rect stroke=\"none\" stroke-width=\"2\" id=\"oss\" width=\"21\" height=\"21\" fill=\"lawngreen\"/></defs><g ><path stroke=\"silver\" stroke-dasharray=\"15 7\" stroke-width=\"2\" id=\"border\" d=\"M1469 904 1469 30 312 30 507 529 488 551 30 286 30 1050 879 1050 705 447 734 421z M1165 372 1210 357 1210 202 1062 165z\" fill-rule=\"evenodd\" fill=\"#111\"/><g id=\"WTGgrp\"><g fill=\"#9edae5\"><use href=\"#wtg\" x=\"1461\" y=\"846\"/><use href=\"#wtg\" x=\"1446\" y=\"533\"/><use href=\"#wtg\" x=\"1117\" y=\"538\"/><use href=\"#wtg\" x=\"1386\" y=\"128\"/><use href=\"#wtg\" x=\"971\" y=\"94\"/><use href=\"#wtg\" x=\"354\" y=\"48\"/><use href=\"#wtg\" x=\"572\" y=\"731\"/><use href=\"#wtg\" x=\"811\" y=\"1033\"/><use href=\"#wtg\" x=\"413\" y=\"922\"/><use href=\"#wtg\" x=\"91\" y=\"1026\"/><use href=\"#wtg\" x=\"163\" y=\"744\"/><use href=\"#wtg\" x=\"80\" y=\"403\"/></g></g><g id=\"OSSgrp\"><use href=\"#oss\" x=\"530.5\" y=\"256.5\"/></g></g></svg>"
      ],
      "text/plain": [
       "<interarray.svg.SvgRepr at 0x16f95ec2c90>"
      ]
     },
     "execution_count": 8,
     "metadata": {},
     "output_type": "execute_result"
    }
   ],
   "source": [
    "svgplot(L)"
   ]
  },
  {
   "cell_type": "markdown",
   "id": "ace13a16-228e-419c-b014-e7bba9da09e5",
   "metadata": {
    "deletable": true,
    "editable": true,
    "execution": {
     "iopub.execute_input": "2024-11-26T13:01:56.704231Z",
     "iopub.status.busy": "2024-11-26T13:01:56.704231Z",
     "iopub.status.idle": "2024-11-26T13:01:56.719320Z",
     "shell.execute_reply": "2024-11-26T13:01:56.719320Z",
     "shell.execute_reply.started": "2024-11-26T13:01:56.704231Z"
    },
    "frozen": false
   },
   "source": [
    "## Option 2: OSM.PBF input file (aka OpenStreetMap protobuffer format)"
   ]
  },
  {
   "cell_type": "markdown",
   "id": "8530db3e-a4b1-4e94-b97c-714fe14f44fb",
   "metadata": {
    "deletable": true,
    "editable": true,
    "frozen": false
   },
   "source": [
    "Use of the JOSM open-source map editor is recommended if using this format: <https://josm.openstreetmap.de/>."
   ]
  },
  {
   "cell_type": "markdown",
   "id": "66e8ff88-400c-4a1a-a182-19d60cf1270a",
   "metadata": {
    "deletable": true,
    "editable": true,
    "frozen": false
   },
   "source": [
    "See `interarray/data/*.osm.pbf` for more examples."
   ]
  },
  {
   "cell_type": "markdown",
   "id": "69a168b1-5835-4959-823e-4e788e6ffc92",
   "metadata": {
    "deletable": true,
    "editable": true,
    "frozen": false
   },
   "source": [
    "`.osm.pbf` format does not support obstacles at the moment."
   ]
  },
  {
   "cell_type": "code",
   "execution_count": 9,
   "id": "0baae019-4743-40cd-b7d9-bfbd49dc3137",
   "metadata": {},
   "outputs": [],
   "source": [
    "L = L_from_pbf('data/example_location.osm.pbf')"
   ]
  },
  {
   "cell_type": "code",
   "execution_count": 10,
   "id": "45f77ec2-53e9-4858-8771-d6fa22cc032e",
   "metadata": {},
   "outputs": [
    {
     "data": {
      "image/svg+xml": [
       "<svg xmlns=\"http://www.w3.org/2000/svg\" viewBox=\"0 0 1920 1080\"><defs ><filter x=\"-5%\" y=\"-5%\" id=\"bg_textbox\" width=\"110%\" height=\"110%\"><feFlood flood-opacity=\"0.7\" flood-color=\"#111\" result=\"bg\"/><feMerge ><feMergeNode in=\"bg\"/><feMergeNode in=\"SourceGraphic\"/></feMerge></filter><circle stroke=\"none\" stroke-width=\"2\" id=\"wtg\" r=\"12\"/><rect stroke=\"none\" stroke-width=\"2\" id=\"oss\" width=\"21\" height=\"21\" fill=\"lawngreen\"/></defs><g ><path stroke=\"silver\" stroke-dasharray=\"15 7\" stroke-width=\"2\" id=\"border\" d=\"M734 421 705 447 879 1050 30 1050 30 287 489 551 507 529 312 30 1470 30 1470 905z\" fill-rule=\"evenodd\" fill=\"#111\"/><g id=\"WTGgrp\"><g fill=\"#9edae5\"><use href=\"#wtg\" x=\"1462\" y=\"846\"/><use href=\"#wtg\" x=\"1447\" y=\"532\"/><use href=\"#wtg\" x=\"1118\" y=\"538\"/><use href=\"#wtg\" x=\"1387\" y=\"128\"/><use href=\"#wtg\" x=\"971\" y=\"94\"/><use href=\"#wtg\" x=\"354\" y=\"48\"/><use href=\"#wtg\" x=\"572\" y=\"731\"/><use href=\"#wtg\" x=\"811\" y=\"1033\"/><use href=\"#wtg\" x=\"413\" y=\"922\"/><use href=\"#wtg\" x=\"91\" y=\"1026\"/><use href=\"#wtg\" x=\"163\" y=\"744\"/><use href=\"#wtg\" x=\"79\" y=\"403\"/></g></g><g id=\"OSSgrp\"><use href=\"#oss\" x=\"530.5\" y=\"255.5\"/></g></g></svg>"
      ],
      "text/plain": [
       "<interarray.svg.SvgRepr at 0x16f97805700>"
      ]
     },
     "execution_count": 10,
     "metadata": {},
     "output_type": "execute_result"
    }
   ],
   "source": [
    "svgplot(L)"
   ]
  }
 ],
 "metadata": {
  "language_info": {
   "name": "python"
  }
 },
 "nbformat": 4,
 "nbformat_minor": 5
}
