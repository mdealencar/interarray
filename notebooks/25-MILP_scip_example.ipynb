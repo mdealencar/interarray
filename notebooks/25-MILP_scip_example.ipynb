{
 "cells": [
  {
   "cell_type": "code",
   "execution_count": null,
   "id": "bb387705-6007-4ec3-aee8-630fb847404e",
   "metadata": {},
   "outputs": [],
   "source": []
  },
  {
   "cell_type": "code",
   "execution_count": 1,
   "id": "23c1c992-a563-4f2d-bbc8-cf0884e5b275",
   "metadata": {},
   "outputs": [],
   "source": [
    "from interarray.importer import load_repository\n",
    "from interarray.svg import svgplot\n",
    "from interarray.mesh import make_planar_embedding\n",
    "from interarray.interarraylib import G_from_S\n",
    "from interarray.heuristics import EW_presolver\n",
    "from interarray.MILP import pyomo as omo\n",
    "from interarray.pathfinding import PathFinder"
   ]
  },
  {
   "cell_type": "code",
   "execution_count": 2,
   "id": "304339a3-df12-4e85-a939-ee33c82a2beb",
   "metadata": {},
   "outputs": [],
   "source": [
    "from pyomo import environ as pyo"
   ]
  },
  {
   "cell_type": "markdown",
   "id": "dd40c821-e9fe-43dd-9c3d-66d02c127377",
   "metadata": {
    "deletable": true,
    "editable": true,
    "frozen": false
   },
   "source": [
    "## Initialize MILP solver"
   ]
  },
  {
   "cell_type": "code",
   "execution_count": 3,
   "id": "90f1c7cc-17c2-47af-8caa-20dfa574e8b1",
   "metadata": {},
   "outputs": [
    {
     "data": {
      "text/plain": [
       "(True, pyomo.solvers.plugins.solvers.SCIPAMPL.SCIPAMPL)"
      ]
     },
     "execution_count": 3,
     "metadata": {},
     "output_type": "execute_result"
    }
   ],
   "source": [
    "sciper = pyo.SolverFactory('scip')\n",
    "sciper.available(), type(sciper)"
   ]
  },
  {
   "cell_type": "markdown",
   "id": "6a449ac4-8896-454c-ae22-cd0896da21ce",
   "metadata": {
    "deletable": true,
    "editable": true,
    "frozen": false
   },
   "source": [
    "## Load interarray's locations"
   ]
  },
  {
   "cell_type": "code",
   "execution_count": 4,
   "id": "29a6b5d1-a05f-4112-bf66-462b4d36b516",
   "metadata": {},
   "outputs": [],
   "source": [
    "locations = load_repository()"
   ]
  },
  {
   "cell_type": "markdown",
   "id": "b2bb8f58-4c20-4fe0-9cad-912d06b5871c",
   "metadata": {
    "deletable": true,
    "editable": true,
    "frozen": false
   },
   "source": [
    "## Optimize Sheringham Shoal"
   ]
  },
  {
   "cell_type": "code",
   "execution_count": 5,
   "id": "6493ef36-765a-4cd3-9dc8-f2d952a23573",
   "metadata": {},
   "outputs": [],
   "source": [
    "L = locations.sheringham\n",
    "capacity = 6"
   ]
  },
  {
   "cell_type": "code",
   "execution_count": 6,
   "id": "2a81cdd4-7be8-4da3-9b94-9799c6f1760b",
   "metadata": {},
   "outputs": [
    {
     "data": {
      "image/svg+xml": [
       "<svg xmlns=\"http://www.w3.org/2000/svg\" viewBox=\"0 0 1920 787\"><defs ><filter x=\"-5%\" y=\"-5%\" id=\"bg_textbox\" width=\"110%\" height=\"110%\"><feFlood flood-opacity=\"0.7\" flood-color=\"#111\" result=\"bg\"/><feMerge ><feMergeNode in=\"bg\"/><feMergeNode in=\"SourceGraphic\"/></feMerge></filter><circle stroke=\"none\" stroke-width=\"2\" id=\"wtg\" r=\"12\"/><rect stroke=\"none\" stroke-width=\"2\" id=\"oss\" width=\"21\" height=\"21\" fill=\"lawngreen\"/></defs><g id=\"sheringham\"><path stroke=\"silver\" stroke-dasharray=\"15 7\" stroke-width=\"2\" id=\"border\" d=\"M709 757 30 31 1209 30 1890 757z\" fill-rule=\"evenodd\" fill=\"#111\"/><g id=\"WTGgrp\"><g fill=\"#9edae5\"><use href=\"#wtg\" x=\"66\" y=\"47\"/><use href=\"#wtg\" x=\"159\" y=\"146\"/><use href=\"#wtg\" x=\"252\" y=\"245\"/><use href=\"#wtg\" x=\"345\" y=\"344\"/><use href=\"#wtg\" x=\"438\" y=\"444\"/><use href=\"#wtg\" x=\"530\" y=\"543\"/><use href=\"#wtg\" x=\"623\" y=\"642\"/><use href=\"#wtg\" x=\"716\" y=\"741\"/><use href=\"#wtg\" x=\"180\" y=\"47\"/><use href=\"#wtg\" x=\"273\" y=\"146\"/><use href=\"#wtg\" x=\"365\" y=\"245\"/><use href=\"#wtg\" x=\"458\" y=\"344\"/><use href=\"#wtg\" x=\"551\" y=\"444\"/><use href=\"#wtg\" x=\"644\" y=\"543\"/><use href=\"#wtg\" x=\"737\" y=\"642\"/><use href=\"#wtg\" x=\"830\" y=\"741\"/><use href=\"#wtg\" x=\"293\" y=\"47\"/><use href=\"#wtg\" x=\"386\" y=\"146\"/><use href=\"#wtg\" x=\"479\" y=\"245\"/><use href=\"#wtg\" x=\"572\" y=\"344\"/><use href=\"#wtg\" x=\"665\" y=\"444\"/><use href=\"#wtg\" x=\"758\" y=\"543\"/><use href=\"#wtg\" x=\"850\" y=\"642\"/><use href=\"#wtg\" x=\"943\" y=\"741\"/><use href=\"#wtg\" x=\"407\" y=\"47\"/><use href=\"#wtg\" x=\"500\" y=\"146\"/><use href=\"#wtg\" x=\"593\" y=\"245\"/><use href=\"#wtg\" x=\"685\" y=\"344\"/><use href=\"#wtg\" x=\"778\" y=\"443\"/><use href=\"#wtg\" x=\"871\" y=\"543\"/><use href=\"#wtg\" x=\"964\" y=\"642\"/><use href=\"#wtg\" x=\"1057\" y=\"741\"/><use href=\"#wtg\" x=\"520\" y=\"47\"/><use href=\"#wtg\" x=\"613\" y=\"146\"/><use href=\"#wtg\" x=\"706\" y=\"245\"/><use href=\"#wtg\" x=\"799\" y=\"344\"/><use href=\"#wtg\" x=\"892\" y=\"443\"/><use href=\"#wtg\" x=\"985\" y=\"543\"/><use href=\"#wtg\" x=\"1077\" y=\"642\"/><use href=\"#wtg\" x=\"1170\" y=\"741\"/><use href=\"#wtg\" x=\"634\" y=\"47\"/><use href=\"#wtg\" x=\"727\" y=\"146\"/><use href=\"#wtg\" x=\"820\" y=\"245\"/><use href=\"#wtg\" x=\"913\" y=\"344\"/><use href=\"#wtg\" x=\"1005\" y=\"443\"/><use href=\"#wtg\" x=\"1098\" y=\"542\"/><use href=\"#wtg\" x=\"1191\" y=\"642\"/><use href=\"#wtg\" x=\"1284\" y=\"741\"/><use href=\"#wtg\" x=\"748\" y=\"46\"/><use href=\"#wtg\" x=\"840\" y=\"146\"/><use href=\"#wtg\" x=\"933\" y=\"245\"/><use href=\"#wtg\" x=\"1026\" y=\"344\"/><use href=\"#wtg\" x=\"1119\" y=\"443\"/><use href=\"#wtg\" x=\"1212\" y=\"542\"/><use href=\"#wtg\" x=\"1305\" y=\"642\"/><use href=\"#wtg\" x=\"1397\" y=\"741\"/><use href=\"#wtg\" x=\"861\" y=\"46\"/><use href=\"#wtg\" x=\"954\" y=\"146\"/><use href=\"#wtg\" x=\"1047\" y=\"245\"/><use href=\"#wtg\" x=\"1140\" y=\"344\"/><use href=\"#wtg\" x=\"1233\" y=\"443\"/><use href=\"#wtg\" x=\"1325\" y=\"542\"/><use href=\"#wtg\" x=\"1418\" y=\"642\"/><use href=\"#wtg\" x=\"1511\" y=\"741\"/><use href=\"#wtg\" x=\"975\" y=\"46\"/><use href=\"#wtg\" x=\"1068\" y=\"145\"/><use href=\"#wtg\" x=\"1160\" y=\"245\"/><use href=\"#wtg\" x=\"1253\" y=\"344\"/><use href=\"#wtg\" x=\"1346\" y=\"443\"/><use href=\"#wtg\" x=\"1439\" y=\"542\"/><use href=\"#wtg\" x=\"1532\" y=\"641\"/><use href=\"#wtg\" x=\"1625\" y=\"741\"/><use href=\"#wtg\" x=\"1088\" y=\"46\"/><use href=\"#wtg\" x=\"1181\" y=\"145\"/><use href=\"#wtg\" x=\"1274\" y=\"245\"/><use href=\"#wtg\" x=\"1367\" y=\"344\"/><use href=\"#wtg\" x=\"1460\" y=\"443\"/><use href=\"#wtg\" x=\"1552\" y=\"542\"/><use href=\"#wtg\" x=\"1645\" y=\"641\"/><use href=\"#wtg\" x=\"1738\" y=\"741\"/><use href=\"#wtg\" x=\"1202\" y=\"46\"/><use href=\"#wtg\" x=\"1295\" y=\"145\"/><use href=\"#wtg\" x=\"1388\" y=\"244\"/><use href=\"#wtg\" x=\"1480\" y=\"344\"/><use href=\"#wtg\" x=\"1573\" y=\"443\"/><use href=\"#wtg\" x=\"1666\" y=\"542\"/><use href=\"#wtg\" x=\"1759\" y=\"641\"/><use href=\"#wtg\" x=\"1852\" y=\"740\"/></g></g><g id=\"OSSgrp\"><use href=\"#oss\" x=\"632.5\" y=\"349.5\"/><use href=\"#oss\" x=\"1281.5\" y=\"417.5\"/></g></g></svg>"
      ],
      "text/plain": [
       "<interarray.svg.SvgRepr at 0x2121f68b8f0>"
      ]
     },
     "execution_count": 6,
     "metadata": {},
     "output_type": "execute_result"
    }
   ],
   "source": [
    "svgplot(L)"
   ]
  },
  {
   "cell_type": "code",
   "execution_count": 7,
   "id": "df05184d-7caa-4b34-810e-37c13a7a8092",
   "metadata": {},
   "outputs": [],
   "source": [
    "P, A = make_planar_embedding(L)"
   ]
  },
  {
   "cell_type": "markdown",
   "id": "4f9b49b1-a597-4053-a3d1-f3de7bb8d164",
   "metadata": {
    "deletable": true,
    "editable": true,
    "frozen": false
   },
   "source": [
    "Initial heuristic solution to warm-start the solver:"
   ]
  },
  {
   "cell_type": "code",
   "execution_count": 8,
   "id": "19eb273d-f662-4851-bf09-e0ec532d7b8b",
   "metadata": {},
   "outputs": [
    {
     "data": {
      "image/svg+xml": [
       "<svg xmlns=\"http://www.w3.org/2000/svg\" viewBox=\"0 0 1920 787\"><defs ><filter x=\"-5%\" y=\"-5%\" id=\"bg_textbox\" width=\"110%\" height=\"110%\"><feFlood flood-opacity=\"0.7\" flood-color=\"#111\" result=\"bg\"/><feMerge ><feMergeNode in=\"bg\"/><feMergeNode in=\"SourceGraphic\"/></feMerge></filter><circle stroke=\"none\" stroke-width=\"2\" id=\"wtg\" r=\"12\"/><rect stroke=\"none\" stroke-width=\"2\" id=\"oss\" width=\"21\" height=\"21\" fill=\"lawngreen\"/></defs><g id=\"sheringham\"><path stroke=\"silver\" stroke-dasharray=\"15 7\" stroke-width=\"2\" id=\"border\" d=\"M709 757 30 31 1209 30 1890 757z\" fill-rule=\"evenodd\" fill=\"#111\"/><g stroke=\"crimson\" stroke-width=\"4\" id=\"edges_unspecified\"><line x1=\"1068\" y1=\"145\" x2=\"1088\" y2=\"46\"/><line x1=\"1292\" y1=\"428\" x2=\"1212\" y2=\"542\"/><line x1=\"1292\" y1=\"428\" x2=\"1140\" y2=\"344\"/><line x1=\"1292\" y1=\"428\" x2=\"1346\" y2=\"443\"/><line x1=\"1292\" y1=\"428\" x2=\"1325\" y2=\"542\"/><line x1=\"1292\" y1=\"428\" x2=\"1253\" y2=\"344\"/><line x1=\"1292\" y1=\"428\" x2=\"1233\" y2=\"443\"/><line x1=\"1181\" y1=\"145\" x2=\"1202\" y2=\"46\"/><line x1=\"1160\" y1=\"245\" x2=\"1181\" y2=\"145\"/><line x1=\"727\" y1=\"146\" x2=\"748\" y2=\"46\"/><line x1=\"706\" y1=\"245\" x2=\"727\" y2=\"146\"/><line x1=\"643\" y1=\"360\" x2=\"706\" y2=\"245\"/><line x1=\"643\" y1=\"360\" x2=\"685\" y2=\"344\"/><line x1=\"643\" y1=\"360\" x2=\"665\" y2=\"444\"/><line x1=\"643\" y1=\"360\" x2=\"593\" y2=\"245\"/><line x1=\"643\" y1=\"360\" x2=\"572\" y2=\"344\"/><line x1=\"643\" y1=\"360\" x2=\"778\" y2=\"443\"/><line x1=\"840\" y1=\"146\" x2=\"861\" y2=\"46\"/><line x1=\"820\" y1=\"245\" x2=\"840\" y2=\"146\"/><line x1=\"1047\" y1=\"245\" x2=\"1068\" y2=\"145\"/><line x1=\"1026\" y1=\"344\" x2=\"1047\" y2=\"245\"/><line x1=\"500\" y1=\"146\" x2=\"520\" y2=\"47\"/><line x1=\"479\" y1=\"245\" x2=\"500\" y2=\"146\"/><line x1=\"985\" y1=\"543\" x2=\"1005\" y2=\"443\"/><line x1=\"1005\" y1=\"443\" x2=\"1119\" y2=\"443\"/><line x1=\"1098\" y1=\"542\" x2=\"1212\" y2=\"542\"/><line x1=\"1077\" y1=\"642\" x2=\"1098\" y2=\"542\"/><line x1=\"799\" y1=\"344\" x2=\"913\" y2=\"344\"/><line x1=\"685\" y1=\"344\" x2=\"799\" y2=\"344\"/><line x1=\"706\" y1=\"245\" x2=\"820\" y2=\"245\"/><line x1=\"479\" y1=\"245\" x2=\"593\" y2=\"245\"/><line x1=\"593\" y1=\"245\" x2=\"613\" y2=\"146\"/><line x1=\"1274\" y1=\"245\" x2=\"1295\" y2=\"145\"/><line x1=\"66\" y1=\"47\" x2=\"180\" y2=\"47\"/><line x1=\"159\" y1=\"146\" x2=\"180\" y2=\"47\"/><line x1=\"159\" y1=\"146\" x2=\"273\" y2=\"146\"/><line x1=\"273\" y1=\"146\" x2=\"293\" y2=\"47\"/><line x1=\"252\" y1=\"245\" x2=\"273\" y2=\"146\"/><line x1=\"737\" y1=\"642\" x2=\"758\" y2=\"543\"/><line x1=\"716\" y1=\"741\" x2=\"737\" y2=\"642\"/><line x1=\"850\" y1=\"642\" x2=\"871\" y2=\"543\"/><line x1=\"830\" y1=\"741\" x2=\"850\" y2=\"642\"/><line x1=\"1057\" y1=\"741\" x2=\"1077\" y2=\"642\"/><line x1=\"613\" y1=\"146\" x2=\"634\" y2=\"47\"/><line x1=\"386\" y1=\"146\" x2=\"407\" y2=\"47\"/><line x1=\"365\" y1=\"245\" x2=\"386\" y2=\"146\"/><line x1=\"1160\" y1=\"245\" x2=\"1274\" y2=\"245\"/><line x1=\"1253\" y1=\"344\" x2=\"1274\" y2=\"245\"/><line x1=\"1367\" y1=\"344\" x2=\"1388\" y2=\"244\"/><line x1=\"1346\" y1=\"443\" x2=\"1367\" y2=\"344\"/><line x1=\"943\" y1=\"741\" x2=\"964\" y2=\"642\"/><line x1=\"551\" y1=\"444\" x2=\"572\" y2=\"344\"/><line x1=\"1284\" y1=\"741\" x2=\"1305\" y2=\"642\"/><line x1=\"1397\" y1=\"741\" x2=\"1418\" y2=\"642\"/><line x1=\"933\" y1=\"245\" x2=\"954\" y2=\"146\"/><line x1=\"913\" y1=\"344\" x2=\"933\" y2=\"245\"/><line x1=\"1026\" y1=\"344\" x2=\"1140\" y2=\"344\"/><line x1=\"530\" y1=\"543\" x2=\"551\" y2=\"444\"/><line x1=\"345\" y1=\"344\" x2=\"365\" y2=\"245\"/><line x1=\"1170\" y1=\"741\" x2=\"1191\" y2=\"642\"/><line x1=\"1191\" y1=\"642\" x2=\"1212\" y2=\"542\"/><line x1=\"1460\" y1=\"443\" x2=\"1480\" y2=\"344\"/><line x1=\"623\" y1=\"642\" x2=\"644\" y2=\"543\"/><line x1=\"644\" y1=\"543\" x2=\"758\" y2=\"543\"/><line x1=\"644\" y1=\"543\" x2=\"665\" y2=\"444\"/><line x1=\"1625\" y1=\"741\" x2=\"1645\" y2=\"641\"/><line x1=\"1738\" y1=\"741\" x2=\"1852\" y2=\"740\"/><line x1=\"1738\" y1=\"741\" x2=\"1759\" y2=\"641\"/><line x1=\"1532\" y1=\"641\" x2=\"1552\" y2=\"542\"/><line x1=\"1511\" y1=\"741\" x2=\"1532\" y2=\"641\"/><line x1=\"1552\" y1=\"542\" x2=\"1573\" y2=\"443\"/><line x1=\"871\" y1=\"543\" x2=\"892\" y2=\"443\"/><line x1=\"778\" y1=\"443\" x2=\"892\" y2=\"443\"/><line x1=\"964\" y1=\"642\" x2=\"985\" y2=\"543\"/><line x1=\"1645\" y1=\"641\" x2=\"1666\" y2=\"542\"/><line x1=\"954\" y1=\"146\" x2=\"975\" y2=\"46\"/><line x1=\"1460\" y1=\"443\" x2=\"1573\" y2=\"443\"/><line x1=\"1645\" y1=\"641\" x2=\"1759\" y2=\"641\"/><line x1=\"1418\" y1=\"642\" x2=\"1439\" y2=\"542\"/><line x1=\"1325\" y1=\"542\" x2=\"1439\" y2=\"542\"/><line x1=\"345\" y1=\"344\" x2=\"458\" y2=\"344\"/><line x1=\"1305\" y1=\"642\" x2=\"1325\" y2=\"542\"/><line x1=\"1119\" y1=\"443\" x2=\"1233\" y2=\"443\"/><line x1=\"438\" y1=\"444\" x2=\"458\" y2=\"344\"/></g><g stroke=\"red\" stroke-dasharray=\"18 15\" stroke-width=\"4\" id=\"edges_tentative\"><line x1=\"1292\" y1=\"428\" x2=\"1460\" y2=\"443\"/><line x1=\"1292\" y1=\"428\" x2=\"1666\" y2=\"542\"/><line x1=\"643\" y1=\"360\" x2=\"458\" y2=\"344\"/><line x1=\"643\" y1=\"360\" x2=\"252\" y2=\"245\"/></g><g id=\"WTGgrp\"><g fill=\"#c5b0d5\"><use href=\"#wtg\" x=\"1088\" y=\"46\"/><use href=\"#wtg\" x=\"1047\" y=\"245\"/><use href=\"#wtg\" x=\"1068\" y=\"145\"/><use href=\"#wtg\" x=\"1140\" y=\"344\"/><use href=\"#wtg\" x=\"1026\" y=\"344\"/></g><g fill=\"#c7c7c7\"><use href=\"#wtg\" x=\"1181\" y=\"145\"/><use href=\"#wtg\" x=\"1295\" y=\"145\"/><use href=\"#wtg\" x=\"1274\" y=\"245\"/><use href=\"#wtg\" x=\"1160\" y=\"245\"/><use href=\"#wtg\" x=\"1202\" y=\"46\"/><use href=\"#wtg\" x=\"1253\" y=\"344\"/></g><g fill=\"#ff7f0e\"><use href=\"#wtg\" x=\"727\" y=\"146\"/><use href=\"#wtg\" x=\"840\" y=\"146\"/><use href=\"#wtg\" x=\"820\" y=\"245\"/><use href=\"#wtg\" x=\"706\" y=\"245\"/><use href=\"#wtg\" x=\"748\" y=\"46\"/><use href=\"#wtg\" x=\"861\" y=\"46\"/></g><g fill=\"#1f77b4\"><use href=\"#wtg\" x=\"500\" y=\"146\"/><use href=\"#wtg\" x=\"520\" y=\"47\"/><use href=\"#wtg\" x=\"479\" y=\"245\"/><use href=\"#wtg\" x=\"593\" y=\"245\"/><use href=\"#wtg\" x=\"634\" y=\"47\"/><use href=\"#wtg\" x=\"613\" y=\"146\"/></g><g fill=\"#f7b6d2\"><use href=\"#wtg\" x=\"1005\" y=\"443\"/><use href=\"#wtg\" x=\"943\" y=\"741\"/><use href=\"#wtg\" x=\"964\" y=\"642\"/><use href=\"#wtg\" x=\"1119\" y=\"443\"/><use href=\"#wtg\" x=\"1233\" y=\"443\"/><use href=\"#wtg\" x=\"985\" y=\"543\"/></g><g fill=\"#e377c2\"><use href=\"#wtg\" x=\"1098\" y=\"542\"/><use href=\"#wtg\" x=\"1057\" y=\"741\"/><use href=\"#wtg\" x=\"1077\" y=\"642\"/><use href=\"#wtg\" x=\"1191\" y=\"642\"/><use href=\"#wtg\" x=\"1170\" y=\"741\"/><use href=\"#wtg\" x=\"1212\" y=\"542\"/></g><g fill=\"#aec7e8\"><use href=\"#wtg\" x=\"799\" y=\"344\"/><use href=\"#wtg\" x=\"685\" y=\"344\"/><use href=\"#wtg\" x=\"933\" y=\"245\"/><use href=\"#wtg\" x=\"913\" y=\"344\"/><use href=\"#wtg\" x=\"954\" y=\"146\"/><use href=\"#wtg\" x=\"975\" y=\"46\"/></g><g fill=\"#ff9896\"><use href=\"#wtg\" x=\"180\" y=\"47\"/><use href=\"#wtg\" x=\"273\" y=\"146\"/><use href=\"#wtg\" x=\"159\" y=\"146\"/><use href=\"#wtg\" x=\"293\" y=\"47\"/><use href=\"#wtg\" x=\"252\" y=\"245\"/><use href=\"#wtg\" x=\"66\" y=\"47\"/></g><g fill=\"#2ca02c\"><use href=\"#wtg\" x=\"737\" y=\"642\"/><use href=\"#wtg\" x=\"623\" y=\"642\"/><use href=\"#wtg\" x=\"644\" y=\"543\"/><use href=\"#wtg\" x=\"665\" y=\"444\"/><use href=\"#wtg\" x=\"758\" y=\"543\"/><use href=\"#wtg\" x=\"716\" y=\"741\"/></g><g fill=\"#d62728\"><use href=\"#wtg\" x=\"850\" y=\"642\"/><use href=\"#wtg\" x=\"830\" y=\"741\"/><use href=\"#wtg\" x=\"871\" y=\"543\"/><use href=\"#wtg\" x=\"892\" y=\"443\"/><use href=\"#wtg\" x=\"778\" y=\"443\"/></g><g fill=\"#98df8a\"><use href=\"#wtg\" x=\"386\" y=\"146\"/><use href=\"#wtg\" x=\"365\" y=\"245\"/><use href=\"#wtg\" x=\"407\" y=\"47\"/><use href=\"#wtg\" x=\"345\" y=\"344\"/><use href=\"#wtg\" x=\"438\" y=\"444\"/><use href=\"#wtg\" x=\"458\" y=\"344\"/></g><g fill=\"#9467bd\"><use href=\"#wtg\" x=\"1388\" y=\"244\"/><use href=\"#wtg\" x=\"1346\" y=\"443\"/><use href=\"#wtg\" x=\"1367\" y=\"344\"/></g><g fill=\"#ffbb78\"><use href=\"#wtg\" x=\"572\" y=\"344\"/><use href=\"#wtg\" x=\"530\" y=\"543\"/><use href=\"#wtg\" x=\"551\" y=\"444\"/></g><g fill=\"#7f7f7f\"><use href=\"#wtg\" x=\"1284\" y=\"741\"/><use href=\"#wtg\" x=\"1397\" y=\"741\"/><use href=\"#wtg\" x=\"1418\" y=\"642\"/><use href=\"#wtg\" x=\"1439\" y=\"542\"/><use href=\"#wtg\" x=\"1305\" y=\"642\"/><use href=\"#wtg\" x=\"1325\" y=\"542\"/></g><g fill=\"#c49c94\"><use href=\"#wtg\" x=\"1480\" y=\"344\"/><use href=\"#wtg\" x=\"1532\" y=\"641\"/><use href=\"#wtg\" x=\"1552\" y=\"542\"/><use href=\"#wtg\" x=\"1460\" y=\"443\"/><use href=\"#wtg\" x=\"1511\" y=\"741\"/><use href=\"#wtg\" x=\"1573\" y=\"443\"/></g><g fill=\"#8c564b\"><use href=\"#wtg\" x=\"1625\" y=\"741\"/><use href=\"#wtg\" x=\"1738\" y=\"741\"/><use href=\"#wtg\" x=\"1666\" y=\"542\"/><use href=\"#wtg\" x=\"1759\" y=\"641\"/><use href=\"#wtg\" x=\"1645\" y=\"641\"/><use href=\"#wtg\" x=\"1852\" y=\"740\"/></g></g><g id=\"OSSgrp\"><use href=\"#oss\" x=\"632.5\" y=\"349.5\"/><use href=\"#oss\" x=\"1281.5\" y=\"417.5\"/></g></g><text stroke=\"#000\" stroke-width=\"0.01em\" text-anchor=\"end\" font-family=\"sans-serif\" font-size=\"40\" fill=\"white\" x=\"1890\" y=\"757\"><tspan x=\"1890\" dy=\"-0.0em\">&#931;&#955; = 63471.0 m</tspan><tspan x=\"1890\" dy=\"-1.3em\">(+1) &#945;: 8, &#946;: 8</tspan><tspan x=\"1890\" dy=\"-1.3em\">&#954; = 6, T = 88</tspan></text></svg>"
      ],
      "text/plain": [
       "<interarray.svg.SvgRepr at 0x212217e8d40>"
      ]
     },
     "execution_count": 8,
     "metadata": {},
     "output_type": "execute_result"
    }
   ],
   "source": [
    "Sʹ = EW_presolver(A, capacity=capacity)\n",
    "Gʹ = G_from_S(Sʹ, A)\n",
    "svgplot(Gʹ)"
   ]
  },
  {
   "cell_type": "code",
   "execution_count": 9,
   "id": "c5d3782f-2620-48b3-a5c2-9bcf368b30dc",
   "metadata": {},
   "outputs": [],
   "source": [
    "model = omo.make_min_length_model(\n",
    "    A, capacity,\n",
    "    gateXings_constraint=False,\n",
    "    branching=True,\n",
    "    gates_limit=False\n",
    ")\n",
    "omo.warmup_model(model, Sʹ);"
   ]
  },
  {
   "cell_type": "code",
   "execution_count": 10,
   "id": "89a3c772-830a-4d94-a174-d2a2ad06529f",
   "metadata": {},
   "outputs": [],
   "source": [
    "sciper.options.update({\n",
    "    'limits/gap': 0.005,\n",
    "    'limits/time': 180.,\n",
    "    'display/freq': 0.5,\n",
    "    # this is currently useless, as pyomo is not calling the concurrent solver\n",
    "    'parallel/maxnthreads': 16,\n",
    "})"
   ]
  },
  {
   "cell_type": "code",
   "execution_count": 11,
   "id": "2a822f21-8226-447d-9e98-3ba5d02abf73",
   "metadata": {
    "scrolled": true
   },
   "outputs": [
    {
     "name": "stdout",
     "output_type": "stream",
     "text": [
      "SCIP version 9.2.1 [precision: 8 byte] [memory: block] [mode: optimized] [LP solver: Soplex 7.1.3] [GitHash: 0d2d3c7c2d]\n",
      "Copyright (c) 2002-2025 Zuse Institute Berlin (ZIB)\n",
      "\n",
      "External libraries: \n",
      "  Soplex 7.1.3         Linear Programming Solver developed at Zuse Institute Berlin (soplex.zib.de) [GitHash: 60fd96f2]\n",
      "  CppAD 20180000.0     Algorithmic Differentiation of C++ algorithms developed by B. Bell (github.com/coin-or/CppAD)\n",
      "  ZLIB 1.3.1           General purpose compression library by J. Gailly and M. Adler (zlib.net)\n",
      "  GMP 6.3.0            GNU Multiple Precision Arithmetic Library developed by T. Granlund (gmplib.org)\n",
      "  ZIMPL 3.6.2          Zuse Institute Mathematical Programming Language developed by T. Koch (zimpl.zib.de)\n",
      "  AMPL/MP 690e9e7      AMPL .nl file reader library (github.com/ampl/mp)\n",
      "  PaPILO 2.4.1         parallel presolve for integer and linear optimization (github.com/scipopt/papilo) (built with TBB) [GitHash: 11974394]\n",
      "  Nauty 2.8.8          Computing Graph Automorphism Groups by Brendan D. McKay (users.cecs.anu.edu.au/~bdm/nauty)\n",
      "  sassy 1.1            Symmetry preprocessor by Markus Anders (github.com/markusa4/sassy)\n",
      "  Ipopt 3.14.17        Interior Point Optimizer developed by A. Waechter et.al. (github.com/coin-or/Ipopt)\n",
      "\n",
      "reading user parameter file <scip.set>\n",
      "===========================\n",
      "\n",
      "display/freq = 0\n",
      "limits/time = 180\n",
      "limits/gap = 0.005\n",
      "parallel/maxnthreads = 16\n",
      "\n",
      "read problem <C:\\Users\\s213184\\AppData\\Local\\Temp\\tmpuctytc0g.pyomo.nl>\n",
      "============\n",
      "\n",
      "original problem has 1992 variables (996 bin, 996 int, 0 impl, 0 cont) and 3074 constraints\n",
      "\n",
      "solve problem\n",
      "=============\n",
      "\n",
      "1/1 feasible solution given by solution candidate storage, new primal bound 6.347077e+04\n",
      "\n",
      "presolving:\n",
      "(round 1, fast)       0 del vars, 0 del conss, 0 add conss, 0 chg bounds, 0 chg sides, 820 chg coeffs, 0 upgd conss, 0 impls, 903 clqs\n",
      "   (0.0s) running MILP presolver\n",
      "   (0.0s) MILP presolver (3 rounds): 2 aggregations, 0 fixings, 0 bound changes\n",
      "(round 2, medium)     2 del vars, 0 del conss, 0 add conss, 0 chg bounds, 0 chg sides, 820 chg coeffs, 0 upgd conss, 0 impls, 901 clqs\n",
      "(round 3, exhaustive) 2 del vars, 367 del conss, 0 add conss, 0 chg bounds, 365 chg sides, 820 chg coeffs, 0 upgd conss, 2 impls, 901 clqs\n",
      "(round 4, exhaustive) 2 del vars, 367 del conss, 0 add conss, 0 chg bounds, 365 chg sides, 820 chg coeffs, 2525 upgd conss, 2 impls, 901 clqs\n",
      "(round 5, exhaustive) 2 del vars, 453 del conss, 0 add conss, 0 chg bounds, 365 chg sides, 820 chg coeffs, 2525 upgd conss, 1990 impls, 901 clqs\n",
      "   (0.0s) sparsify finished: 986/10508 (9.4%) nonzeros canceled - in total 986 canceled nonzeros, 986 changed coefficients, 0 added nonzeros\n",
      "(round 6, exhaustive) 2 del vars, 453 del conss, 0 add conss, 0 chg bounds, 365 chg sides, 1806 chg coeffs, 2525 upgd conss, 1990 impls, 901 clqs\n",
      "   (0.0s) probing cycle finished: starting next cycle\n",
      "   (0.0s) symmetry computation started: requiring (bin +, int +, cont +), (fixed: bin -, int -, cont -)\n",
      "   (0.0s) no symmetry present (symcode time: 0.00)\n",
      "presolving (7 rounds: 7 fast, 6 medium, 5 exhaustive):\n",
      " 2 deleted vars, 454 deleted constraints, 0 added constraints, 0 tightened bounds, 0 added holes, 365 changed sides, 1806 changed coefficients\n",
      " 32220 implications, 8199 cliques\n",
      "presolved problem has 1990 variables (994 bin, 996 int, 0 impl, 0 cont) and 2620 constraints\n",
      "   1988 constraints of type <varbound>\n",
      "      1 constraints of type <knapsack>\n",
      "    448 constraints of type <setppc>\n",
      "    181 constraints of type <linear>\n",
      "      2 constraints of type <logicor>\n",
      "Presolving Time: 0.00\n",
      "transformed 1/1 original solutions to the transformed problem space\n",
      "\n",
      " time | node  | left  |LP iter|LP it/n|mem/heur|mdpt |vars |cons |rows |cuts |sepa|confs|strbr|  dualbound   | primalbound  |  gap   | compl. \n",
      "  0.0s|     1 |     0 |  1539 |     - |    29M |   0 |1990 |2652 |2620 |   0 |  0 |  31 |   0 | 5.997224e+04 | 6.347077e+04 |   5.83%| unknown\n",
      "  0.0s|     1 |     0 |  1539 |     - |    29M |   0 |1990 |2652 |2575 |   0 |  0 |  31 |   0 | 5.997224e+04 | 6.347077e+04 |   5.83%| unknown\n",
      "  0.0s|     1 |     0 |  1600 |     - |    32M |   0 |1990 |2650 |2587 |  13 |  1 |  31 |   0 | 5.998550e+04 | 6.347077e+04 |   5.81%| unknown\n",
      "  0.0s|     1 |     0 |  1693 |     - |    35M |   0 |1990 |2650 |2598 |  24 |  2 |  31 |   0 | 6.003737e+04 | 6.347077e+04 |   5.72%| unknown\n",
      "  0.0s|     1 |     0 |  1693 |     - |    35M |   0 |1990 |2650 |2597 |  24 |  2 |  31 |   0 | 6.003737e+04 | 6.347077e+04 |   5.72%| unknown\n",
      "  0.0s|     1 |     0 |  1791 |     - |    37M |   0 |1990 |2650 |2609 |  37 |  3 |  31 |   0 | 6.008641e+04 | 6.347077e+04 |   5.63%| unknown\n",
      "  0.0s|     1 |     0 |  1791 |     - |    37M |   0 |1990 |2650 |2606 |  37 |  3 |  31 |   0 | 6.008641e+04 | 6.347077e+04 |   5.63%| unknown\n",
      "  0.0s|     1 |     0 |  1870 |     - |    40M |   0 |1990 |2650 |2614 |  46 |  4 |  31 |   0 | 6.011608e+04 | 6.347077e+04 |   5.58%| unknown\n",
      "  0.0s|     1 |     0 |  1944 |     - |    44M |   0 |1990 |2650 |2623 |  55 |  5 |  31 |   0 | 6.014266e+04 | 6.347077e+04 |   5.53%| unknown\n",
      "  0.0s|     1 |     0 |  1944 |     - |    44M |   0 |1990 |2650 |2622 |  55 |  5 |  31 |   0 | 6.014266e+04 | 6.347077e+04 |   5.53%| unknown\n",
      "  0.0s|     1 |     0 |  2016 |     - |    47M |   0 |1990 |2650 |2630 |  63 |  6 |  31 |   0 | 6.016813e+04 | 6.347077e+04 |   5.49%| unknown\n",
      "  0.0s|     1 |     0 |  2016 |     - |    47M |   0 |1990 |2650 |2629 |  63 |  6 |  31 |   0 | 6.016813e+04 | 6.347077e+04 |   5.49%| unknown\n",
      "  0.0s|     1 |     0 |  2220 |     - |    52M |   0 |1990 |2650 |2634 |  68 |  7 |  31 |   0 | 6.019802e+04 | 6.347077e+04 |   5.44%| unknown\n",
      "  0.0s|     1 |     0 |  2220 |     - |    52M |   0 |1990 |2650 |2633 |  68 |  7 |  31 |   0 | 6.019802e+04 | 6.347077e+04 |   5.44%| unknown\n",
      "  1.0s|     1 |     0 |  2296 |     - |    61M |   0 |1990 |2650 |2638 |  73 |  8 |  31 |   0 | 6.027412e+04 | 6.347077e+04 |   5.30%| unknown\n",
      " time | node  | left  |LP iter|LP it/n|mem/heur|mdpt |vars |cons |rows |cuts |sepa|confs|strbr|  dualbound   | primalbound  |  gap   | compl. \n",
      "  1.0s|     1 |     0 |  2334 |     - |    68M |   0 |1990 |2650 |2644 |  79 |  9 |  31 |   0 | 6.027955e+04 | 6.347077e+04 |   5.29%| unknown\n",
      "  1.0s|     1 |     0 |  2434 |     - |    71M |   0 |1990 |2650 |2652 |  87 | 10 |  31 |   0 | 6.033006e+04 | 6.347077e+04 |   5.21%| unknown\n",
      "  1.0s|     1 |     0 |  2434 |     - |    71M |   0 |1990 |2650 |2651 |  87 | 10 |  31 |   0 | 6.033006e+04 | 6.347077e+04 |   5.21%| unknown\n",
      "  1.0s|     1 |     0 |  2497 |     - |    71M |   0 |1990 |2650 |2656 |  92 | 11 |  31 |   0 | 6.033289e+04 | 6.347077e+04 |   5.20%| unknown\n",
      "  1.0s|     1 |     0 |  2559 |     - |    72M |   0 |1990 |2650 |2663 |  99 | 12 |  31 |   0 | 6.033324e+04 | 6.347077e+04 |   5.20%| unknown\n",
      "  1.0s|     1 |     0 |  2591 |     - |    72M |   0 |1990 |2650 |2666 | 102 | 13 |  31 |   0 | 6.033515e+04 | 6.347077e+04 |   5.20%| unknown\n",
      "  1.0s|     1 |     0 |  2639 |     - |    72M |   0 |1990 |2650 |2668 | 104 | 14 |  31 |   0 | 6.033581e+04 | 6.347077e+04 |   5.20%| unknown\n",
      "  1.0s|     1 |     0 |  2664 |     - |    73M |   0 |1990 |2650 |2672 | 108 | 15 |  31 |   0 | 6.033582e+04 | 6.347077e+04 |   5.20%| unknown\n",
      "  1.0s|     1 |     0 |  2795 |     - |    73M |   0 |1990 |2650 |2654 | 112 | 16 |  31 |   0 | 6.033879e+04 | 6.347077e+04 |   5.19%| unknown\n",
      "  1.0s|     1 |     0 |  2894 |     - |    73M |   0 |1990 |2650 |2658 | 116 | 17 |  31 |   0 | 6.034072e+04 | 6.347077e+04 |   5.19%| unknown\n",
      "  1.0s|     1 |     0 |  2929 |     - |    73M |   0 |1990 |2650 |2660 | 118 | 18 |  31 |   0 | 6.034138e+04 | 6.347077e+04 |   5.19%| unknown\n",
      "  1.0s|     1 |     0 |  2949 |     - |    74M |   0 |1990 |2651 |2663 | 121 | 19 |  32 |   0 | 6.034210e+04 | 6.347077e+04 |   5.18%| unknown\n",
      "  1.0s|     1 |     0 |  3059 |     - |    74M |   0 |1990 |2651 |2665 | 123 | 20 |  32 |   0 | 6.034400e+04 | 6.347077e+04 |   5.18%| unknown\n",
      "  1.0s|     1 |     0 |  3059 |     - |    74M |   0 |1990 |2651 |2662 | 123 | 20 |  32 |   0 | 6.034400e+04 | 6.347077e+04 |   5.18%| unknown\n",
      "  1.0s|     1 |     0 |  3059 |     - |    74M |   0 |1990 |2551 |2662 | 123 | 20 |  32 |   0 | 6.034400e+04 | 6.347077e+04 |   5.18%| unknown\n",
      " time | node  | left  |LP iter|LP it/n|mem/heur|mdpt |vars |cons |rows |cuts |sepa|confs|strbr|  dualbound   | primalbound  |  gap   | compl. \n",
      "  1.0s|     1 |     0 |  3064 |     - |    74M |   0 |1990 |2551 |2663 | 124 | 21 |  32 |   0 | 6.034403e+04 | 6.347077e+04 |   5.18%| unknown\n",
      "  2.0s|     1 |     2 | 15511 |     - |    74M |   0 |1990 |2553 |2663 | 124 | 22 |  34 |  33 | 6.035882e+04 | 6.347077e+04 |   5.16%| unknown\n",
      "(run 1, node 1) restarting after 100 global fixings of integer variables\n",
      "\n",
      "(restart) converted 102 cuts from the global cut pool into linear constraints\n",
      "\n",
      "presolving:\n",
      "(round 1, fast)       100 del vars, 0 del conss, 0 add conss, 0 chg bounds, 0 chg sides, 3 chg coeffs, 0 upgd conss, 32220 impls, 7720 clqs\n",
      "presolving (2 rounds: 2 fast, 1 medium, 1 exhaustive):\n",
      " 100 deleted vars, 0 deleted constraints, 0 added constraints, 0 tightened bounds, 0 added holes, 0 changed sides, 3 changed coefficients\n",
      " 32220 implications, 7720 cliques\n",
      "presolved problem has 1890 variables (944 bin, 946 int, 0 impl, 0 cont) and 2655 constraints\n",
      "   1888 constraints of type <varbound>\n",
      "      2 constraints of type <knapsack>\n",
      "    446 constraints of type <setppc>\n",
      "    282 constraints of type <linear>\n",
      "      3 constraints of type <logicor>\n",
      "     34 constraints of type <bounddisjunction>\n",
      "Presolving Time: 0.00\n",
      "transformed 1/1 original solutions to the transformed problem space\n",
      "\n",
      " time | node  | left  |LP iter|LP it/n|mem/heur|mdpt |vars |cons |rows |cuts |sepa|confs|strbr|  dualbound   | primalbound  |  gap   | compl. \n",
      "  2.0s|     1 |     0 | 20440 |     - |    75M |   0 |1890 |2655 |2620 |   0 |  0 |  34 |  33 | 6.035882e+04 | 6.347077e+04 |   5.16%| unknown\n",
      "  3.0s|     1 |     0 | 20731 |     - |    81M |   0 |1890 |2655 |2625 |   5 |  1 |  34 |  33 | 6.035882e+04 | 6.347077e+04 |   5.16%| unknown\n",
      "  3.0s|     1 |     0 | 20889 |     - |    81M |   0 |1890 |2655 |2628 |   8 |  2 |  34 |  33 | 6.035973e+04 | 6.347077e+04 |   5.15%| unknown\n",
      "  3.0s|     1 |     0 | 21125 |     - |    81M |   0 |1890 |2655 |2630 |  10 |  3 |  34 |  33 | 6.037157e+04 | 6.347077e+04 |   5.13%| unknown\n",
      "  3.0s|     1 |     0 | 21386 |     - |    82M |   0 |1890 |2655 |2634 |  14 |  4 |  34 |  33 | 6.038436e+04 | 6.347077e+04 |   5.11%| unknown\n",
      "  3.0s|     1 |     0 | 21386 |     - |    82M |   0 |1890 |2655 |2633 |  14 |  4 |  34 |  33 | 6.038436e+04 | 6.347077e+04 |   5.11%| unknown\n",
      "  3.0s|     1 |     0 | 21573 |     - |    82M |   0 |1890 |2655 |2636 |  18 |  5 |  34 |  33 | 6.039148e+04 | 6.347077e+04 |   5.10%| unknown\n",
      "  3.0s|     1 |     0 | 21672 |     - |    82M |   0 |1890 |2655 |2640 |  22 |  6 |  34 |  33 | 6.039458e+04 | 6.347077e+04 |   5.09%| unknown\n",
      "  3.0s|     1 |     0 | 21723 |     - |    82M |   0 |1890 |2655 |2641 |  23 |  7 |  34 |  33 | 6.039713e+04 | 6.347077e+04 |   5.09%| unknown\n",
      "  3.0s|     1 |     0 | 21860 |     - |    83M |   0 |1890 |2655 |2645 |  27 |  8 |  34 |  33 | 6.039888e+04 | 6.347077e+04 |   5.09%| unknown\n",
      "  3.0s|     1 |     0 | 21866 |     - |    83M |   0 |1890 |2655 |2648 |  30 |  9 |  34 |  33 | 6.039911e+04 | 6.347077e+04 |   5.09%| unknown\n",
      "  3.0s|     1 |     0 | 21900 |     - |    83M |   0 |1890 |2655 |2650 |  32 | 10 |  34 |  33 | 6.040052e+04 | 6.347077e+04 |   5.08%| unknown\n",
      "  3.0s|     1 |     0 | 21918 |     - |    84M |   0 |1890 |2655 |2652 |  34 | 11 |  34 |  33 | 6.040085e+04 | 6.347077e+04 |   5.08%| unknown\n",
      "  3.0s|     1 |     0 | 21965 |     - |    84M |   0 |1890 |2655 |2605 |  38 | 12 |  34 |  33 | 6.040151e+04 | 6.347077e+04 |   5.08%| unknown\n",
      "  4.0s|     1 |     0 | 22002 |     - |    84M |   0 |1890 |2655 |2607 |  40 | 13 |  34 |  33 | 6.040736e+04 | 6.347077e+04 |   5.07%| unknown\n",
      " time | node  | left  |LP iter|LP it/n|mem/heur|mdpt |vars |cons |rows |cuts |sepa|confs|strbr|  dualbound   | primalbound  |  gap   | compl. \n",
      "  4.0s|     1 |     0 | 22234 |     - |    84M |   0 |1890 |2655 |2609 |  42 | 14 |  34 |  33 | 6.041253e+04 | 6.347077e+04 |   5.06%| unknown\n",
      "  4.0s|     1 |     0 | 22272 |     - |    85M |   0 |1890 |2655 |2612 |  45 | 15 |  34 |  33 | 6.041306e+04 | 6.347077e+04 |   5.06%| unknown\n",
      "  5.0s|     1 |     2 | 24109 |     - |    85M |   0 |1890 |2659 |2612 |  45 | 15 |  40 | 101 | 6.043088e+04 | 6.347077e+04 |   5.03%| unknown\n",
      "L20.0s|   100 |    94 | 49403 | 395.9 |    gins|  21 |1890 |2692 |2609 | 326 |  2 |  73 | 995 | 6.043088e+04 | 6.338805e+04 |   4.89%| unknown\n",
      "L30.0s|   300 |   288 |105880 | 320.2 |    rins|  25 |1890 |2706 |2599 | 810 |  2 |  89 |1137 | 6.044908e+04 | 6.334305e+04 |   4.79%| unknown\n",
      "L46.0s|   500 |   467 |231319 | 443.0 |crossove|  25 |1890 |2773 |2605 |1487 |  2 | 160 |1275 | 6.047919e+04 | 6.290302e+04 |   4.01%| unknown\n",
      "L86.0s|  1086 |  1017 |543639 | 491.6 |    alns|  26 |1890 |3015 |2598 |4039 |  0 | 441 |1481 | 6.051320e+04 | 6.271901e+04 |   3.65%| unknown\n",
      "Restart triggered after 50 consecutive estimations that the remaining tree will be large\n",
      "(run 2, node 1313) performing user restart\n",
      "\n",
      "(restart) converted 33 cuts from the global cut pool into linear constraints\n",
      "\n",
      "presolving:\n",
      "(round 1, fast)       28 del vars, 27 del conss, 0 add conss, 13 chg bounds, 0 chg sides, 2 chg coeffs, 0 upgd conss, 32220 impls, 7597 clqs\n",
      "(round 2, exhaustive) 30 del vars, 27 del conss, 0 add conss, 13 chg bounds, 0 chg sides, 2 chg coeffs, 0 upgd conss, 32220 impls, 7597 clqs\n",
      "presolving (3 rounds: 3 fast, 2 medium, 2 exhaustive):\n",
      " 30 deleted vars, 27 deleted constraints, 0 added constraints, 13 tightened bounds, 0 added holes, 0 changed sides, 4 changed coefficients\n",
      " 32220 implications, 7597 cliques\n",
      "presolved problem has 1862 variables (930 bin, 932 int, 0 impl, 0 cont) and 3065 constraints\n",
      "   1860 constraints of type <varbound>\n",
      "      2 constraints of type <knapsack>\n",
      "    446 constraints of type <setppc>\n",
      "    324 constraints of type <linear>\n",
      "      3 constraints of type <logicor>\n",
      "    430 constraints of type <bounddisjunction>\n",
      "Presolving Time: 0.00\n",
      "transformed 8/8 original solutions to the transformed problem space\n",
      "\n",
      " time | node  | left  |LP iter|LP it/n|mem/heur|mdpt |vars |cons |rows |cuts |sepa|confs|strbr|  dualbound   | primalbound  |  gap   | compl. \n",
      " 98.0s|     1 |     0 |623710 |     - |   151M |   0 |1862 |3065 |2625 |   0 |  0 | 527 |1579 | 6.054005e+04 | 6.271901e+04 |   3.60%| unknown\n",
      " 98.0s|     1 |     0 |623714 |     - |   151M |   0 |1862 |3065 |2627 |   2 |  1 | 527 |1579 | 6.054005e+04 | 6.271901e+04 |   3.60%| unknown\n",
      " 98.0s|     1 |     0 |623763 |     - |   151M |   0 |1862 |3065 |2630 |   5 |  2 | 527 |1579 | 6.054005e+04 | 6.271901e+04 |   3.60%| unknown\n",
      " 98.0s|     1 |     0 |623803 |     - |   151M |   0 |1862 |3065 |2633 |   8 |  3 | 527 |1579 | 6.054005e+04 | 6.271901e+04 |   3.60%| unknown\n",
      " 99.0s|     1 |     0 |623824 |     - |   151M |   0 |1862 |3065 |2634 |   9 |  4 | 527 |1579 | 6.054005e+04 | 6.271901e+04 |   3.60%| unknown\n",
      " 99.0s|     1 |     0 |623828 |     - |   151M |   0 |1862 |3065 |2635 |  10 |  5 | 527 |1579 | 6.054005e+04 | 6.271901e+04 |   3.60%| unknown\n",
      " 99.0s|     1 |     0 |623841 |     - |   152M |   0 |1862 |3065 |2636 |  11 |  6 | 527 |1579 | 6.054005e+04 | 6.271901e+04 |   3.60%| unknown\n",
      " 99.0s|     1 |     0 |623843 |     - |   152M |   0 |1862 |3065 |2638 |  13 |  7 | 527 |1579 | 6.054005e+04 | 6.271901e+04 |   3.60%| unknown\n",
      " 99.0s|     1 |     0 |623855 |     - |   152M |   0 |1862 |3065 |2639 |  14 |  8 | 527 |1579 | 6.054005e+04 | 6.271901e+04 |   3.60%| unknown\n",
      " 99.0s|     1 |     0 |623874 |     - |   152M |   0 |1862 |3065 |2640 |  15 |  9 | 527 |1579 | 6.054005e+04 | 6.271901e+04 |   3.60%| unknown\n",
      " 99.0s|     1 |     0 |623942 |     - |   152M |   0 |1862 |3065 |2560 |  16 | 10 | 527 |1579 | 6.054005e+04 | 6.271901e+04 |   3.60%| unknown\n",
      " 99.0s|     1 |     0 |623943 |     - |   152M |   0 |1862 |3065 |2561 |  17 | 11 | 527 |1579 | 6.054005e+04 | 6.271901e+04 |   3.60%| unknown\n",
      "  100s|     1 |     2 |633944 |     - |   152M |   0 |1862 |3066 |2561 |  17 | 11 | 528 |1582 | 6.054005e+04 | 6.271901e+04 |   3.60%| unknown\n",
      "\n",
      "SCIP Status        : solving was interrupted [time limit reached]\n",
      "Solving Time (sec) : 180.00\n",
      "Solving Nodes      : 1532 (total of 2846 nodes in 3 runs)\n",
      "Primal Bound       : +6.27190133271302e+04 (9 solutions)\n",
      "Dual Bound         : +6.05400804724542e+04\n",
      "Gap                : 3.60 %\n"
     ]
    }
   ],
   "source": [
    "result = sciper.solve(model, tee=True)"
   ]
  },
  {
   "cell_type": "code",
   "execution_count": 12,
   "id": "22ddfecd-5f34-4417-8870-a5bcd6bf8193",
   "metadata": {},
   "outputs": [
    {
     "data": {
      "image/svg+xml": [
       "<svg xmlns=\"http://www.w3.org/2000/svg\" viewBox=\"0 0 1920 787\"><defs ><filter x=\"-5%\" y=\"-5%\" id=\"bg_textbox\" width=\"110%\" height=\"110%\"><feFlood flood-opacity=\"0.7\" flood-color=\"#111\" result=\"bg\"/><feMerge ><feMergeNode in=\"bg\"/><feMergeNode in=\"SourceGraphic\"/></feMerge></filter><circle stroke=\"none\" stroke-width=\"2\" id=\"wtg\" r=\"12\"/><rect stroke=\"none\" stroke-width=\"2\" id=\"oss\" width=\"21\" height=\"21\" fill=\"lawngreen\"/><circle stroke=\"orange\" stroke-opacity=\"0.3\" stroke-width=\"4\" id=\"dt\" r=\"23\" fill=\"none\"/></defs><g id=\"sheringham\"><path stroke=\"silver\" stroke-dasharray=\"15 7\" stroke-width=\"2\" id=\"border\" d=\"M709 757 30 31 1209 30 1890 757z\" fill-rule=\"evenodd\" fill=\"#111\"/><g stroke=\"crimson\" stroke-width=\"4\" id=\"edges_unspecified\"><line x1=\"643\" y1=\"360\" x2=\"458\" y2=\"344\"/><line x1=\"643\" y1=\"360\" x2=\"706\" y2=\"245\"/><line x1=\"643\" y1=\"360\" x2=\"685\" y2=\"344\"/><line x1=\"643\" y1=\"360\" x2=\"665\" y2=\"444\"/><line x1=\"643\" y1=\"360\" x2=\"593\" y2=\"245\"/><line x1=\"643\" y1=\"360\" x2=\"572\" y2=\"344\"/><line x1=\"643\" y1=\"360\" x2=\"778\" y2=\"443\"/><line x1=\"643\" y1=\"360\" x2=\"551\" y2=\"444\"/><line x1=\"593\" y1=\"245\" x2=\"613\" y2=\"146\"/><line x1=\"685\" y1=\"344\" x2=\"799\" y2=\"344\"/><line x1=\"706\" y1=\"245\" x2=\"727\" y2=\"146\"/><line x1=\"706\" y1=\"245\" x2=\"820\" y2=\"245\"/><line x1=\"479\" y1=\"245\" x2=\"572\" y2=\"344\"/><line x1=\"438\" y1=\"444\" x2=\"551\" y2=\"444\"/><line x1=\"530\" y1=\"543\" x2=\"551\" y2=\"444\"/><line x1=\"644\" y1=\"543\" x2=\"665\" y2=\"444\"/><line x1=\"365\" y1=\"245\" x2=\"458\" y2=\"344\"/><line x1=\"778\" y1=\"443\" x2=\"892\" y2=\"443\"/><line x1=\"1292\" y1=\"428\" x2=\"1212\" y2=\"542\"/><line x1=\"1292\" y1=\"428\" x2=\"1367\" y2=\"344\"/><line x1=\"1292\" y1=\"428\" x2=\"1140\" y2=\"344\"/><line x1=\"1292\" y1=\"428\" x2=\"1346\" y2=\"443\"/><line x1=\"1292\" y1=\"428\" x2=\"1325\" y2=\"542\"/><line x1=\"1292\" y1=\"428\" x2=\"1253\" y2=\"344\"/><line x1=\"1292\" y1=\"428\" x2=\"1233\" y2=\"443\"/><line x1=\"1346\" y1=\"443\" x2=\"1460\" y2=\"443\"/><line x1=\"1367\" y1=\"344\" x2=\"1480\" y2=\"344\"/><line x1=\"1367\" y1=\"344\" x2=\"1388\" y2=\"244\"/><line x1=\"1026\" y1=\"344\" x2=\"1140\" y2=\"344\"/><line x1=\"1645\" y1=\"641\" x2=\"1666\" y2=\"542\"/><line x1=\"1098\" y1=\"542\" x2=\"1212\" y2=\"542\"/><line x1=\"1191\" y1=\"642\" x2=\"1212\" y2=\"542\"/><line x1=\"1119\" y1=\"443\" x2=\"1233\" y2=\"443\"/><line x1=\"1305\" y1=\"642\" x2=\"1325\" y2=\"542\"/><line x1=\"1325\" y1=\"542\" x2=\"1439\" y2=\"542\"/><line x1=\"1253\" y1=\"344\" x2=\"1274\" y2=\"245\"/><line x1=\"1181\" y1=\"145\" x2=\"1295\" y2=\"145\"/><line x1=\"1181\" y1=\"145\" x2=\"1202\" y2=\"46\"/><line x1=\"1160\" y1=\"245\" x2=\"1181\" y2=\"145\"/><line x1=\"1274\" y1=\"245\" x2=\"1295\" y2=\"145\"/><line x1=\"386\" y1=\"146\" x2=\"500\" y2=\"146\"/><line x1=\"386\" y1=\"146\" x2=\"407\" y2=\"47\"/><line x1=\"479\" y1=\"245\" x2=\"500\" y2=\"146\"/><line x1=\"520\" y1=\"47\" x2=\"634\" y2=\"47\"/><line x1=\"613\" y1=\"146\" x2=\"634\" y2=\"47\"/><line x1=\"964\" y1=\"642\" x2=\"985\" y2=\"543\"/><line x1=\"985\" y1=\"543\" x2=\"1005\" y2=\"443\"/><line x1=\"1005\" y1=\"443\" x2=\"1119\" y2=\"443\"/><line x1=\"1077\" y1=\"642\" x2=\"1098\" y2=\"542\"/><line x1=\"1057\" y1=\"741\" x2=\"1077\" y2=\"642\"/><line x1=\"66\" y1=\"47\" x2=\"180\" y2=\"47\"/><line x1=\"159\" y1=\"146\" x2=\"180\" y2=\"47\"/><line x1=\"159\" y1=\"146\" x2=\"273\" y2=\"146\"/><line x1=\"273\" y1=\"146\" x2=\"365\" y2=\"245\"/><line x1=\"716\" y1=\"741\" x2=\"737\" y2=\"642\"/><line x1=\"737\" y1=\"642\" x2=\"758\" y2=\"543\"/><line x1=\"623\" y1=\"642\" x2=\"737\" y2=\"642\"/><line x1=\"830\" y1=\"741\" x2=\"850\" y2=\"642\"/><line x1=\"850\" y1=\"642\" x2=\"871\" y2=\"543\"/><line x1=\"871\" y1=\"543\" x2=\"892\" y2=\"443\"/><line x1=\"943\" y1=\"741\" x2=\"964\" y2=\"642\"/><line x1=\"1284\" y1=\"741\" x2=\"1305\" y2=\"642\"/><line x1=\"1397\" y1=\"741\" x2=\"1418\" y2=\"642\"/><line x1=\"1418\" y1=\"642\" x2=\"1439\" y2=\"542\"/><line x1=\"1026\" y1=\"344\" x2=\"1047\" y2=\"245\"/><line x1=\"345\" y1=\"344\" x2=\"438\" y2=\"444\"/><line x1=\"1170\" y1=\"741\" x2=\"1191\" y2=\"642\"/><line x1=\"623\" y1=\"642\" x2=\"644\" y2=\"543\"/><line x1=\"1625\" y1=\"741\" x2=\"1645\" y2=\"641\"/><line x1=\"1645\" y1=\"641\" x2=\"1759\" y2=\"641\"/><line x1=\"1738\" y1=\"741\" x2=\"1852\" y2=\"740\"/><line x1=\"1738\" y1=\"741\" x2=\"1759\" y2=\"641\"/><line x1=\"293\" y1=\"47\" x2=\"407\" y2=\"47\"/><line x1=\"1532\" y1=\"641\" x2=\"1552\" y2=\"542\"/><line x1=\"1511\" y1=\"741\" x2=\"1532\" y2=\"641\"/><line x1=\"1552\" y1=\"542\" x2=\"1573\" y2=\"443\"/><line x1=\"1460\" y1=\"443\" x2=\"1573\" y2=\"443\"/><line x1=\"252\" y1=\"245\" x2=\"345\" y2=\"344\"/><line x1=\"1068\" y1=\"145\" x2=\"1088\" y2=\"46\"/><line x1=\"1047\" y1=\"245\" x2=\"1068\" y2=\"145\"/><line x1=\"727\" y1=\"146\" x2=\"748\" y2=\"46\"/><line x1=\"840\" y1=\"146\" x2=\"861\" y2=\"46\"/><line x1=\"820\" y1=\"245\" x2=\"840\" y2=\"146\"/><line x1=\"799\" y1=\"344\" x2=\"913\" y2=\"344\"/><line x1=\"913\" y1=\"344\" x2=\"933\" y2=\"245\"/><line x1=\"933\" y1=\"245\" x2=\"954\" y2=\"146\"/><line x1=\"954\" y1=\"146\" x2=\"975\" y2=\"46\"/></g><g stroke=\"darkorange\" stroke-dasharray=\"18 15\" stroke-width=\"4\" id=\"detours\" fill=\"none\"><polyline points=\"1292 428 1573 443 1666 542\"/></g><g id=\"DTgrp\"><use href=\"#dt\" x=\"1573\" y=\"443\"/></g><g id=\"WTGgrp\"><g fill=\"#1f77b4\"><use href=\"#wtg\" x=\"593\" y=\"245\"/><use href=\"#wtg\" x=\"520\" y=\"47\"/><use href=\"#wtg\" x=\"634\" y=\"47\"/><use href=\"#wtg\" x=\"613\" y=\"146\"/></g><g fill=\"#aec7e8\"><use href=\"#wtg\" x=\"685\" y=\"344\"/><use href=\"#wtg\" x=\"799\" y=\"344\"/><use href=\"#wtg\" x=\"913\" y=\"344\"/><use href=\"#wtg\" x=\"933\" y=\"245\"/><use href=\"#wtg\" x=\"954\" y=\"146\"/><use href=\"#wtg\" x=\"975\" y=\"46\"/></g><g fill=\"#ff7f0e\"><use href=\"#wtg\" x=\"706\" y=\"245\"/><use href=\"#wtg\" x=\"727\" y=\"146\"/><use href=\"#wtg\" x=\"748\" y=\"46\"/><use href=\"#wtg\" x=\"840\" y=\"146\"/><use href=\"#wtg\" x=\"820\" y=\"245\"/><use href=\"#wtg\" x=\"861\" y=\"46\"/></g><g fill=\"#ffbb78\"><use href=\"#wtg\" x=\"572\" y=\"344\"/><use href=\"#wtg\" x=\"386\" y=\"146\"/><use href=\"#wtg\" x=\"500\" y=\"146\"/><use href=\"#wtg\" x=\"479\" y=\"245\"/><use href=\"#wtg\" x=\"293\" y=\"47\"/><use href=\"#wtg\" x=\"407\" y=\"47\"/></g><g fill=\"#2ca02c\"><use href=\"#wtg\" x=\"551\" y=\"444\"/><use href=\"#wtg\" x=\"530\" y=\"543\"/><use href=\"#wtg\" x=\"438\" y=\"444\"/><use href=\"#wtg\" x=\"252\" y=\"245\"/><use href=\"#wtg\" x=\"345\" y=\"344\"/></g><g fill=\"#98df8a\"><use href=\"#wtg\" x=\"665\" y=\"444\"/><use href=\"#wtg\" x=\"716\" y=\"741\"/><use href=\"#wtg\" x=\"737\" y=\"642\"/><use href=\"#wtg\" x=\"623\" y=\"642\"/><use href=\"#wtg\" x=\"644\" y=\"543\"/><use href=\"#wtg\" x=\"758\" y=\"543\"/></g><g fill=\"#d62728\"><use href=\"#wtg\" x=\"458\" y=\"344\"/><use href=\"#wtg\" x=\"66\" y=\"47\"/><use href=\"#wtg\" x=\"180\" y=\"47\"/><use href=\"#wtg\" x=\"273\" y=\"146\"/><use href=\"#wtg\" x=\"365\" y=\"245\"/><use href=\"#wtg\" x=\"159\" y=\"146\"/></g><g fill=\"#ff9896\"><use href=\"#wtg\" x=\"778\" y=\"443\"/><use href=\"#wtg\" x=\"830\" y=\"741\"/><use href=\"#wtg\" x=\"850\" y=\"642\"/><use href=\"#wtg\" x=\"871\" y=\"543\"/><use href=\"#wtg\" x=\"892\" y=\"443\"/></g><g fill=\"#9467bd\"><use href=\"#wtg\" x=\"1346\" y=\"443\"/><use href=\"#wtg\" x=\"1532\" y=\"641\"/><use href=\"#wtg\" x=\"1552\" y=\"542\"/><use href=\"#wtg\" x=\"1511\" y=\"741\"/><use href=\"#wtg\" x=\"1573\" y=\"443\"/><use href=\"#wtg\" x=\"1460\" y=\"443\"/></g><g fill=\"#c5b0d5\"><use href=\"#wtg\" x=\"1367\" y=\"344\"/><use href=\"#wtg\" x=\"1388\" y=\"244\"/><use href=\"#wtg\" x=\"1480\" y=\"344\"/></g><g fill=\"#8c564b\"><use href=\"#wtg\" x=\"1140\" y=\"344\"/><use href=\"#wtg\" x=\"1026\" y=\"344\"/><use href=\"#wtg\" x=\"1088\" y=\"46\"/><use href=\"#wtg\" x=\"1068\" y=\"145\"/><use href=\"#wtg\" x=\"1047\" y=\"245\"/></g><g fill=\"#c49c94\"><use href=\"#wtg\" x=\"1666\" y=\"542\"/><use href=\"#wtg\" x=\"1625\" y=\"741\"/><use href=\"#wtg\" x=\"1645\" y=\"641\"/><use href=\"#wtg\" x=\"1738\" y=\"741\"/><use href=\"#wtg\" x=\"1759\" y=\"641\"/><use href=\"#wtg\" x=\"1852\" y=\"740\"/></g><g fill=\"#e377c2\"><use href=\"#wtg\" x=\"1212\" y=\"542\"/><use href=\"#wtg\" x=\"1098\" y=\"542\"/><use href=\"#wtg\" x=\"1077\" y=\"642\"/><use href=\"#wtg\" x=\"1057\" y=\"741\"/><use href=\"#wtg\" x=\"1170\" y=\"741\"/><use href=\"#wtg\" x=\"1191\" y=\"642\"/></g><g fill=\"#f7b6d2\"><use href=\"#wtg\" x=\"1233\" y=\"443\"/><use href=\"#wtg\" x=\"985\" y=\"543\"/><use href=\"#wtg\" x=\"1005\" y=\"443\"/><use href=\"#wtg\" x=\"1119\" y=\"443\"/><use href=\"#wtg\" x=\"943\" y=\"741\"/><use href=\"#wtg\" x=\"964\" y=\"642\"/></g><g fill=\"#7f7f7f\"><use href=\"#wtg\" x=\"1325\" y=\"542\"/><use href=\"#wtg\" x=\"1284\" y=\"741\"/><use href=\"#wtg\" x=\"1305\" y=\"642\"/><use href=\"#wtg\" x=\"1397\" y=\"741\"/><use href=\"#wtg\" x=\"1418\" y=\"642\"/><use href=\"#wtg\" x=\"1439\" y=\"542\"/></g><g fill=\"#c7c7c7\"><use href=\"#wtg\" x=\"1253\" y=\"344\"/><use href=\"#wtg\" x=\"1181\" y=\"145\"/><use href=\"#wtg\" x=\"1295\" y=\"145\"/><use href=\"#wtg\" x=\"1160\" y=\"245\"/><use href=\"#wtg\" x=\"1202\" y=\"46\"/><use href=\"#wtg\" x=\"1274\" y=\"245\"/></g></g><g id=\"OSSgrp\"><use href=\"#oss\" x=\"632.5\" y=\"349.5\"/><use href=\"#oss\" x=\"1281.5\" y=\"417.5\"/></g></g><text stroke=\"#000\" stroke-width=\"0.01em\" text-anchor=\"end\" font-family=\"sans-serif\" font-size=\"40\" fill=\"white\" x=\"1890\" y=\"757\"><tspan x=\"1890\" dy=\"-0.0em\">&#931;&#955; = 62887.0 m</tspan><tspan x=\"1890\" dy=\"-1.3em\">(+1) &#945;: 8, &#946;: 8</tspan><tspan x=\"1890\" dy=\"-1.3em\">&#954; = 6, T = 88</tspan></text></svg>"
      ],
      "text/plain": [
       "<interarray.svg.SvgRepr at 0x212225a7a70>"
      ]
     },
     "execution_count": 12,
     "metadata": {},
     "output_type": "execute_result"
    }
   ],
   "source": [
    "S = omo.S_from_solution(model, sciper, result)\n",
    "G = G_from_S(S, A)\n",
    "H = PathFinder(G, planar=P, A=A).create_detours()\n",
    "svgplot(H)"
   ]
  }
 ],
 "metadata": {
  "language_info": {
   "name": "python"
  }
 },
 "nbformat": 4,
 "nbformat_minor": 5
}
