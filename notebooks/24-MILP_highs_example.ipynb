{
 "cells": [
  {
   "cell_type": "code",
   "execution_count": null,
   "id": "bb387705-6007-4ec3-aee8-630fb847404e",
   "metadata": {},
   "outputs": [],
   "source": []
  },
  {
   "cell_type": "code",
   "execution_count": 1,
   "id": "a261ff8d-2072-411a-8e0f-1a3cf121d74f",
   "metadata": {},
   "outputs": [],
   "source": [
    "from interarray.importer import load_repository\n",
    "from interarray.svg import svgplot\n",
    "from interarray.mesh import make_planar_embedding\n",
    "from interarray.interarraylib import G_from_S\n",
    "from interarray.heuristics import EW_presolver\n",
    "from interarray.pathfinding import PathFinder\n",
    "from interarray.MILP import pyomo as omo"
   ]
  },
  {
   "cell_type": "code",
   "execution_count": 2,
   "id": "20f70f83-2ca9-4e62-942d-ddfa5231c2c8",
   "metadata": {},
   "outputs": [],
   "source": [
    "from pyomo import environ as pyo"
   ]
  },
  {
   "cell_type": "markdown",
   "id": "acce6edb-eb47-4a6c-b4e0-efa2c3c1ac54",
   "metadata": {
    "deletable": true,
    "editable": true,
    "frozen": false
   },
   "source": [
    "## Initialize MILP solver"
   ]
  },
  {
   "cell_type": "code",
   "execution_count": 3,
   "id": "67583a12-9200-41f9-bed6-5d88809c71fb",
   "metadata": {},
   "outputs": [],
   "source": [
    "from pyomo.contrib.appsi.solvers import Highs"
   ]
  },
  {
   "cell_type": "raw",
   "id": "28be74fa-8618-49fa-be17-3a9078568dad",
   "metadata": {
    "deletable": true,
    "editable": true,
    "execution": {
     "iopub.execute_input": "2025-01-12T19:42:01.997480Z",
     "iopub.status.busy": "2025-01-12T19:42:01.997480Z",
     "iopub.status.idle": "2025-01-12T19:42:02.083461Z",
     "shell.execute_reply": "2025-01-12T19:42:02.083461Z",
     "shell.execute_reply.started": "2025-01-12T19:42:01.997480Z"
    },
    "frozen": false
   },
   "source": [
    "highser = Highs()\n",
    "highser.available(), type(highser)"
   ]
  },
  {
   "cell_type": "code",
   "execution_count": 4,
   "id": "9909aab1-9362-4221-bb7d-389032d0d829",
   "metadata": {},
   "outputs": [
    {
     "data": {
      "text/plain": [
       "(True,\n",
       " pyomo.contrib.appsi.base.SolverFactoryClass.register.<locals>.decorator.<locals>.LegacySolver)"
      ]
     },
     "execution_count": 4,
     "metadata": {},
     "output_type": "execute_result"
    }
   ],
   "source": [
    "highser = pyo.SolverFactory('appsi_highs')\n",
    "highser.available(), type(highser)"
   ]
  },
  {
   "cell_type": "markdown",
   "id": "7d68aa9b-e9ec-4e3b-8fb3-9cba61b5bf96",
   "metadata": {
    "deletable": true,
    "editable": true,
    "frozen": false
   },
   "source": [
    "## Load interarray's locations"
   ]
  },
  {
   "cell_type": "code",
   "execution_count": 5,
   "id": "d1a64ce6-29ab-475b-8418-af899d232369",
   "metadata": {},
   "outputs": [],
   "source": [
    "locations = load_repository()"
   ]
  },
  {
   "cell_type": "markdown",
   "id": "c179ff0b-5a07-4a59-8e93-497bd321a3ef",
   "metadata": {
    "deletable": true,
    "editable": true,
    "frozen": false
   },
   "source": [
    "## Optimize Triton"
   ]
  },
  {
   "cell_type": "code",
   "execution_count": 6,
   "id": "4dfc0c8c-9a68-49bc-9758-b81fa31b19b2",
   "metadata": {},
   "outputs": [],
   "source": [
    "L = locations.triton\n",
    "capacity = 8"
   ]
  },
  {
   "cell_type": "code",
   "execution_count": 7,
   "id": "e8043bfe-ba94-41a5-8030-45c3bde4a60a",
   "metadata": {},
   "outputs": [
    {
     "data": {
      "image/svg+xml": [
       "<svg xmlns=\"http://www.w3.org/2000/svg\" viewBox=\"0 0 1920 926\"><defs ><filter x=\"-5%\" y=\"-5%\" id=\"bg_textbox\" width=\"110%\" height=\"110%\"><feFlood flood-opacity=\"0.7\" flood-color=\"#111\" result=\"bg\"/><feMerge ><feMergeNode in=\"bg\"/><feMergeNode in=\"SourceGraphic\"/></feMerge></filter><circle stroke=\"none\" stroke-width=\"2\" id=\"wtg\" r=\"12\"/><rect stroke=\"none\" stroke-width=\"2\" id=\"oss\" width=\"21\" height=\"21\" fill=\"lawngreen\"/></defs><g id=\"triton\"><path stroke=\"silver\" stroke-dasharray=\"15 7\" stroke-width=\"2\" id=\"border\" d=\"M681 30 1890 728 1578 896 1270 890 90 884 30 485z\" fill-rule=\"evenodd\" fill=\"#111\"/><g id=\"WTGgrp\"><g fill=\"#9edae5\"><use href=\"#wtg\" x=\"121\" y=\"872\"/><use href=\"#wtg\" x=\"186\" y=\"872\"/><use href=\"#wtg\" x=\"251\" y=\"872\"/><use href=\"#wtg\" x=\"316\" y=\"872\"/><use href=\"#wtg\" x=\"381\" y=\"873\"/><use href=\"#wtg\" x=\"446\" y=\"873\"/><use href=\"#wtg\" x=\"511\" y=\"873\"/><use href=\"#wtg\" x=\"576\" y=\"873\"/><use href=\"#wtg\" x=\"641\" y=\"873\"/><use href=\"#wtg\" x=\"706\" y=\"873\"/><use href=\"#wtg\" x=\"771\" y=\"873\"/><use href=\"#wtg\" x=\"836\" y=\"874\"/><use href=\"#wtg\" x=\"966\" y=\"874\"/><use href=\"#wtg\" x=\"1031\" y=\"874\"/><use href=\"#wtg\" x=\"1096\" y=\"874\"/><use href=\"#wtg\" x=\"1161\" y=\"874\"/><use href=\"#wtg\" x=\"1226\" y=\"874\"/><use href=\"#wtg\" x=\"1356\" y=\"875\"/><use href=\"#wtg\" x=\"1421\" y=\"875\"/><use href=\"#wtg\" x=\"1486\" y=\"875\"/><use href=\"#wtg\" x=\"1551\" y=\"875\"/><use href=\"#wtg\" x=\"1675\" y=\"833\"/><use href=\"#wtg\" x=\"1735\" y=\"792\"/><use href=\"#wtg\" x=\"105\" y=\"746\"/><use href=\"#wtg\" x=\"300\" y=\"747\"/><use href=\"#wtg\" x=\"560\" y=\"747\"/><use href=\"#wtg\" x=\"820\" y=\"748\"/><use href=\"#wtg\" x=\"1080\" y=\"748\"/><use href=\"#wtg\" x=\"1340\" y=\"749\"/><use href=\"#wtg\" x=\"1599\" y=\"749\"/><use href=\"#wtg\" x=\"230\" y=\"704\"/><use href=\"#wtg\" x=\"490\" y=\"705\"/><use href=\"#wtg\" x=\"749\" y=\"705\"/><use href=\"#wtg\" x=\"1269\" y=\"707\"/><use href=\"#wtg\" x=\"1529\" y=\"707\"/><use href=\"#wtg\" x=\"1789\" y=\"708\"/><use href=\"#wtg\" x=\"159\" y=\"662\"/><use href=\"#wtg\" x=\"419\" y=\"663\"/><use href=\"#wtg\" x=\"679\" y=\"663\"/><use href=\"#wtg\" x=\"1459\" y=\"665\"/><use href=\"#wtg\" x=\"1719\" y=\"666\"/><use href=\"#wtg\" x=\"89\" y=\"620\"/><use href=\"#wtg\" x=\"349\" y=\"621\"/><use href=\"#wtg\" x=\"869\" y=\"622\"/><use href=\"#wtg\" x=\"1128\" y=\"622\"/><use href=\"#wtg\" x=\"1388\" y=\"623\"/><use href=\"#wtg\" x=\"1648\" y=\"623\"/><use href=\"#wtg\" x=\"279\" y=\"578\"/><use href=\"#wtg\" x=\"539\" y=\"579\"/><use href=\"#wtg\" x=\"1058\" y=\"580\"/><use href=\"#wtg\" x=\"1318\" y=\"581\"/><use href=\"#wtg\" x=\"1578\" y=\"581\"/><use href=\"#wtg\" x=\"208\" y=\"536\"/><use href=\"#wtg\" x=\"728\" y=\"537\"/><use href=\"#wtg\" x=\"1248\" y=\"539\"/><use href=\"#wtg\" x=\"1507\" y=\"539\"/><use href=\"#wtg\" x=\"73\" y=\"494\"/><use href=\"#wtg\" x=\"917\" y=\"496\"/><use href=\"#wtg\" x=\"1177\" y=\"496\"/><use href=\"#wtg\" x=\"1437\" y=\"497\"/><use href=\"#wtg\" x=\"133\" y=\"452\"/><use href=\"#wtg\" x=\"328\" y=\"453\"/><use href=\"#wtg\" x=\"586\" y=\"454\"/><use href=\"#wtg\" x=\"1107\" y=\"454\"/><use href=\"#wtg\" x=\"1367\" y=\"455\"/><use href=\"#wtg\" x=\"193\" y=\"410\"/><use href=\"#wtg\" x=\"777\" y=\"412\"/><use href=\"#wtg\" x=\"1296\" y=\"413\"/><use href=\"#wtg\" x=\"252\" y=\"368\"/><use href=\"#wtg\" x=\"447\" y=\"369\"/><use href=\"#wtg\" x=\"966\" y=\"370\"/><use href=\"#wtg\" x=\"1226\" y=\"371\"/><use href=\"#wtg\" x=\"312\" y=\"326\"/><use href=\"#wtg\" x=\"636\" y=\"327\"/><use href=\"#wtg\" x=\"896\" y=\"328\"/><use href=\"#wtg\" x=\"1156\" y=\"328\"/><use href=\"#wtg\" x=\"371\" y=\"285\"/><use href=\"#wtg\" x=\"566\" y=\"285\"/><use href=\"#wtg\" x=\"826\" y=\"286\"/><use href=\"#wtg\" x=\"431\" y=\"243\"/><use href=\"#wtg\" x=\"1015\" y=\"244\"/><use href=\"#wtg\" x=\"491\" y=\"201\"/><use href=\"#wtg\" x=\"685\" y=\"201\"/><use href=\"#wtg\" x=\"945\" y=\"202\"/><use href=\"#wtg\" x=\"550\" y=\"159\"/><use href=\"#wtg\" x=\"875\" y=\"160\"/><use href=\"#wtg\" x=\"610\" y=\"117\"/><use href=\"#wtg\" x=\"804\" y=\"118\"/><use href=\"#wtg\" x=\"669\" y=\"75\"/><use href=\"#wtg\" x=\"734\" y=\"75\"/></g></g><g id=\"OSSgrp\"><use href=\"#oss\" x=\"1188.5\" y=\"653.5\"/><use href=\"#oss\" x=\"598.5\" y=\"610.5\"/></g></g></svg>"
      ],
      "text/plain": [
       "<interarray.svg.SvgRepr at 0x2214b3a0200>"
      ]
     },
     "execution_count": 7,
     "metadata": {},
     "output_type": "execute_result"
    }
   ],
   "source": [
    "svgplot(L)"
   ]
  },
  {
   "cell_type": "code",
   "execution_count": 8,
   "id": "a31972ff-ea2c-4328-a7ad-fdb07685a3e7",
   "metadata": {},
   "outputs": [],
   "source": [
    "P, A = make_planar_embedding(L)"
   ]
  },
  {
   "cell_type": "markdown",
   "id": "31a73ca3-01eb-46bc-9909-de5211f4ec4e",
   "metadata": {
    "deletable": true,
    "editable": true,
    "frozen": false
   },
   "source": [
    "Initial heuristic solution to warm-start the solver:"
   ]
  },
  {
   "cell_type": "code",
   "execution_count": 9,
   "id": "d43133d0-dbd1-4146-840d-dc2570b82483",
   "metadata": {},
   "outputs": [
    {
     "data": {
      "image/svg+xml": [
       "<svg xmlns=\"http://www.w3.org/2000/svg\" viewBox=\"0 0 1920 926\"><defs ><filter x=\"-5%\" y=\"-5%\" id=\"bg_textbox\" width=\"110%\" height=\"110%\"><feFlood flood-opacity=\"0.7\" flood-color=\"#111\" result=\"bg\"/><feMerge ><feMergeNode in=\"bg\"/><feMergeNode in=\"SourceGraphic\"/></feMerge></filter><circle stroke=\"none\" stroke-width=\"2\" id=\"wtg\" r=\"12\"/><rect stroke=\"none\" stroke-width=\"2\" id=\"oss\" width=\"21\" height=\"21\" fill=\"lawngreen\"/></defs><g id=\"triton\"><path stroke=\"silver\" stroke-dasharray=\"15 7\" stroke-width=\"2\" id=\"border\" d=\"M681 30 1890 728 1578 896 1270 890 90 884 30 485z\" fill-rule=\"evenodd\" fill=\"#111\"/><g stroke=\"crimson\" stroke-width=\"4\" id=\"edges_unspecified\"><line x1=\"560\" y1=\"747\" x2=\"490\" y2=\"705\"/><line x1=\"609\" y1=\"621\" x2=\"539\" y2=\"579\"/><line x1=\"609\" y1=\"621\" x2=\"777\" y2=\"412\"/><line x1=\"609\" y1=\"621\" x2=\"679\" y2=\"663\"/><line x1=\"820\" y1=\"748\" x2=\"749\" y2=\"705\"/><line x1=\"1507\" y1=\"539\" x2=\"1437\" y2=\"497\"/><line x1=\"1199\" y1=\"664\" x2=\"1318\" y2=\"581\"/><line x1=\"1199\" y1=\"664\" x2=\"1248\" y2=\"539\"/><line x1=\"1199\" y1=\"664\" x2=\"1269\" y2=\"707\"/><line x1=\"1199\" y1=\"664\" x2=\"1128\" y2=\"622\"/><line x1=\"1367\" y1=\"455\" x2=\"1296\" y2=\"413\"/><line x1=\"1340\" y1=\"749\" x2=\"1269\" y2=\"707\"/><line x1=\"1459\" y1=\"665\" x2=\"1388\" y2=\"623\"/><line x1=\"1388\" y1=\"623\" x2=\"1318\" y2=\"581\"/><line x1=\"300\" y1=\"747\" x2=\"349\" y2=\"621\"/><line x1=\"300\" y1=\"747\" x2=\"230\" y2=\"704\"/><line x1=\"349\" y1=\"621\" x2=\"279\" y2=\"578\"/><line x1=\"490\" y1=\"705\" x2=\"539\" y2=\"579\"/><line x1=\"539\" y1=\"579\" x2=\"586\" y2=\"454\"/><line x1=\"1128\" y1=\"622\" x2=\"1058\" y2=\"580\"/><line x1=\"1080\" y1=\"748\" x2=\"1128\" y2=\"622\"/><line x1=\"1248\" y1=\"539\" x2=\"1177\" y2=\"496\"/><line x1=\"1248\" y1=\"539\" x2=\"1296\" y2=\"413\"/><line x1=\"875\" y1=\"160\" x2=\"804\" y2=\"118\"/><line x1=\"669\" y1=\"75\" x2=\"734\" y2=\"75\"/><line x1=\"1486\" y1=\"875\" x2=\"1551\" y2=\"875\"/><line x1=\"1599\" y1=\"749\" x2=\"1529\" y2=\"707\"/><line x1=\"641\" y1=\"873\" x2=\"706\" y2=\"873\"/><line x1=\"706\" y1=\"873\" x2=\"771\" y2=\"873\"/><line x1=\"1735\" y1=\"792\" x2=\"1789\" y2=\"708\"/><line x1=\"1675\" y1=\"833\" x2=\"1735\" y2=\"792\"/><line x1=\"1789\" y1=\"708\" x2=\"1719\" y2=\"666\"/><line x1=\"1529\" y1=\"707\" x2=\"1459\" y2=\"665\"/><line x1=\"1648\" y1=\"623\" x2=\"1578\" y2=\"581\"/><line x1=\"1578\" y1=\"581\" x2=\"1507\" y2=\"539\"/><line x1=\"679\" y1=\"663\" x2=\"728\" y2=\"537\"/><line x1=\"869\" y1=\"622\" x2=\"917\" y2=\"496\"/><line x1=\"777\" y1=\"412\" x2=\"826\" y2=\"286\"/><line x1=\"945\" y1=\"202\" x2=\"875\" y2=\"160\"/><line x1=\"1015\" y1=\"244\" x2=\"945\" y2=\"202\"/><line x1=\"826\" y1=\"286\" x2=\"875\" y2=\"160\"/><line x1=\"312\" y1=\"326\" x2=\"371\" y2=\"285\"/><line x1=\"447\" y1=\"369\" x2=\"371\" y2=\"285\"/><line x1=\"431\" y1=\"243\" x2=\"491\" y2=\"201\"/><line x1=\"121\" y1=\"872\" x2=\"186\" y2=\"872\"/><line x1=\"105\" y1=\"746\" x2=\"159\" y2=\"662\"/><line x1=\"490\" y1=\"705\" x2=\"419\" y2=\"663\"/><line x1=\"896\" y1=\"328\" x2=\"826\" y2=\"286\"/><line x1=\"586\" y1=\"454\" x2=\"636\" y2=\"327\"/><line x1=\"491\" y1=\"201\" x2=\"550\" y2=\"159\"/><line x1=\"566\" y1=\"285\" x2=\"491\" y2=\"201\"/><line x1=\"1096\" y1=\"874\" x2=\"1080\" y2=\"748\"/><line x1=\"820\" y1=\"748\" x2=\"869\" y2=\"622\"/><line x1=\"1356\" y1=\"875\" x2=\"1421\" y2=\"875\"/><line x1=\"1421\" y1=\"875\" x2=\"1486\" y2=\"875\"/><line x1=\"836\" y1=\"874\" x2=\"820\" y2=\"748\"/><line x1=\"685\" y1=\"201\" x2=\"610\" y2=\"117\"/><line x1=\"610\" y1=\"117\" x2=\"669\" y2=\"75\"/><line x1=\"550\" y1=\"159\" x2=\"610\" y2=\"117\"/><line x1=\"1356\" y1=\"875\" x2=\"1340\" y2=\"749\"/><line x1=\"966\" y1=\"370\" x2=\"896\" y2=\"328\"/><line x1=\"1226\" y1=\"371\" x2=\"1156\" y2=\"328\"/><line x1=\"1031\" y1=\"874\" x2=\"1096\" y2=\"874\"/><line x1=\"1096\" y1=\"874\" x2=\"1161\" y2=\"874\"/><line x1=\"1161\" y1=\"874\" x2=\"1226\" y2=\"874\"/><line x1=\"966\" y1=\"874\" x2=\"1031\" y2=\"874\"/><line x1=\"251\" y1=\"872\" x2=\"316\" y2=\"872\"/><line x1=\"316\" y1=\"872\" x2=\"381\" y2=\"873\"/><line x1=\"771\" y1=\"873\" x2=\"836\" y2=\"874\"/><line x1=\"159\" y1=\"662\" x2=\"89\" y2=\"620\"/><line x1=\"230\" y1=\"704\" x2=\"159\" y2=\"662\"/><line x1=\"73\" y1=\"494\" x2=\"133\" y2=\"452\"/><line x1=\"133\" y1=\"452\" x2=\"193\" y2=\"410\"/><line x1=\"328\" y1=\"453\" x2=\"252\" y2=\"368\"/><line x1=\"1177\" y1=\"496\" x2=\"1107\" y2=\"454\"/><line x1=\"252\" y1=\"368\" x2=\"312\" y2=\"326\"/><line x1=\"193\" y1=\"410\" x2=\"252\" y2=\"368\"/><line x1=\"1719\" y1=\"666\" x2=\"1648\" y2=\"623\"/><line x1=\"186\" y1=\"872\" x2=\"251\" y2=\"872\"/><line x1=\"1296\" y1=\"413\" x2=\"1226\" y2=\"371\"/><line x1=\"279\" y1=\"578\" x2=\"208\" y2=\"536\"/><line x1=\"446\" y1=\"873\" x2=\"511\" y2=\"873\"/><line x1=\"511\" y1=\"873\" x2=\"576\" y2=\"873\"/><line x1=\"381\" y1=\"873\" x2=\"446\" y2=\"873\"/></g><g stroke=\"red\" stroke-dasharray=\"18 15\" stroke-width=\"4\" id=\"edges_tentative\"><line x1=\"609\" y1=\"621\" x2=\"447\" y2=\"369\"/><line x1=\"609\" y1=\"621\" x2=\"749\" y2=\"705\"/><line x1=\"609\" y1=\"621\" x2=\"576\" y2=\"873\"/><line x1=\"609\" y1=\"621\" x2=\"349\" y2=\"621\"/><line x1=\"609\" y1=\"621\" x2=\"566\" y2=\"285\"/><line x1=\"1199\" y1=\"664\" x2=\"1437\" y2=\"497\"/></g><g id=\"WTGgrp\"><g fill=\"#ff9896\"><use href=\"#wtg\" x=\"560\" y=\"747\"/><use href=\"#wtg\" x=\"539\" y=\"579\"/><use href=\"#wtg\" x=\"419\" y=\"663\"/><use href=\"#wtg\" x=\"586\" y=\"454\"/><use href=\"#wtg\" x=\"636\" y=\"327\"/><use href=\"#wtg\" x=\"490\" y=\"705\"/></g><g fill=\"#98df8a\"><use href=\"#wtg\" x=\"749\" y=\"705\"/><use href=\"#wtg\" x=\"641\" y=\"873\"/><use href=\"#wtg\" x=\"706\" y=\"873\"/><use href=\"#wtg\" x=\"917\" y=\"496\"/><use href=\"#wtg\" x=\"869\" y=\"622\"/><use href=\"#wtg\" x=\"820\" y=\"748\"/><use href=\"#wtg\" x=\"771\" y=\"873\"/><use href=\"#wtg\" x=\"836\" y=\"874\"/></g><g fill=\"#1f77b4\"><use href=\"#wtg\" x=\"1437\" y=\"497\"/><use href=\"#wtg\" x=\"1735\" y=\"792\"/><use href=\"#wtg\" x=\"1789\" y=\"708\"/><use href=\"#wtg\" x=\"1578\" y=\"581\"/><use href=\"#wtg\" x=\"1507\" y=\"539\"/><use href=\"#wtg\" x=\"1648\" y=\"623\"/><use href=\"#wtg\" x=\"1719\" y=\"666\"/><use href=\"#wtg\" x=\"1675\" y=\"833\"/></g><g fill=\"#ffbb78\"><use href=\"#wtg\" x=\"1367\" y=\"455\"/><use href=\"#wtg\" x=\"1248\" y=\"539\"/><use href=\"#wtg\" x=\"1156\" y=\"328\"/><use href=\"#wtg\" x=\"1107\" y=\"454\"/><use href=\"#wtg\" x=\"1177\" y=\"496\"/><use href=\"#wtg\" x=\"1296\" y=\"413\"/><use href=\"#wtg\" x=\"1226\" y=\"371\"/></g><g fill=\"#aec7e8\"><use href=\"#wtg\" x=\"1269\" y=\"707\"/><use href=\"#wtg\" x=\"1551\" y=\"875\"/><use href=\"#wtg\" x=\"1421\" y=\"875\"/><use href=\"#wtg\" x=\"1486\" y=\"875\"/><use href=\"#wtg\" x=\"1340\" y=\"749\"/><use href=\"#wtg\" x=\"1356\" y=\"875\"/></g><g fill=\"#2ca02c\"><use href=\"#wtg\" x=\"1388\" y=\"623\"/><use href=\"#wtg\" x=\"1599\" y=\"749\"/><use href=\"#wtg\" x=\"1459\" y=\"665\"/><use href=\"#wtg\" x=\"1318\" y=\"581\"/><use href=\"#wtg\" x=\"1529\" y=\"707\"/></g><g fill=\"#d62728\"><use href=\"#wtg\" x=\"300\" y=\"747\"/><use href=\"#wtg\" x=\"349\" y=\"621\"/><use href=\"#wtg\" x=\"105\" y=\"746\"/><use href=\"#wtg\" x=\"159\" y=\"662\"/><use href=\"#wtg\" x=\"89\" y=\"620\"/><use href=\"#wtg\" x=\"230\" y=\"704\"/><use href=\"#wtg\" x=\"279\" y=\"578\"/><use href=\"#wtg\" x=\"208\" y=\"536\"/></g><g fill=\"#ff7f0e\"><use href=\"#wtg\" x=\"1128\" y=\"622\"/><use href=\"#wtg\" x=\"1080\" y=\"748\"/><use href=\"#wtg\" x=\"1096\" y=\"874\"/><use href=\"#wtg\" x=\"1161\" y=\"874\"/><use href=\"#wtg\" x=\"966\" y=\"874\"/><use href=\"#wtg\" x=\"1226\" y=\"874\"/><use href=\"#wtg\" x=\"1058\" y=\"580\"/><use href=\"#wtg\" x=\"1031\" y=\"874\"/></g><g fill=\"#c5b0d5\"><use href=\"#wtg\" x=\"804\" y=\"118\"/><use href=\"#wtg\" x=\"777\" y=\"412\"/><use href=\"#wtg\" x=\"945\" y=\"202\"/><use href=\"#wtg\" x=\"875\" y=\"160\"/><use href=\"#wtg\" x=\"826\" y=\"286\"/><use href=\"#wtg\" x=\"966\" y=\"370\"/><use href=\"#wtg\" x=\"1015\" y=\"244\"/><use href=\"#wtg\" x=\"896\" y=\"328\"/></g><g fill=\"#c49c94\"><use href=\"#wtg\" x=\"734\" y=\"75\"/><use href=\"#wtg\" x=\"431\" y=\"243\"/><use href=\"#wtg\" x=\"491\" y=\"201\"/><use href=\"#wtg\" x=\"685\" y=\"201\"/><use href=\"#wtg\" x=\"610\" y=\"117\"/><use href=\"#wtg\" x=\"669\" y=\"75\"/><use href=\"#wtg\" x=\"550\" y=\"159\"/><use href=\"#wtg\" x=\"566\" y=\"285\"/></g><g fill=\"#9467bd\"><use href=\"#wtg\" x=\"679\" y=\"663\"/><use href=\"#wtg\" x=\"728\" y=\"537\"/></g><g fill=\"#8c564b\"><use href=\"#wtg\" x=\"371\" y=\"285\"/><use href=\"#wtg\" x=\"73\" y=\"494\"/><use href=\"#wtg\" x=\"133\" y=\"452\"/><use href=\"#wtg\" x=\"328\" y=\"453\"/><use href=\"#wtg\" x=\"447\" y=\"369\"/><use href=\"#wtg\" x=\"252\" y=\"368\"/><use href=\"#wtg\" x=\"312\" y=\"326\"/><use href=\"#wtg\" x=\"193\" y=\"410\"/></g><g fill=\"#e377c2\"><use href=\"#wtg\" x=\"121\" y=\"872\"/><use href=\"#wtg\" x=\"316\" y=\"872\"/><use href=\"#wtg\" x=\"186\" y=\"872\"/><use href=\"#wtg\" x=\"511\" y=\"873\"/><use href=\"#wtg\" x=\"381\" y=\"873\"/><use href=\"#wtg\" x=\"251\" y=\"872\"/><use href=\"#wtg\" x=\"446\" y=\"873\"/><use href=\"#wtg\" x=\"576\" y=\"873\"/></g></g><g id=\"OSSgrp\"><use href=\"#oss\" x=\"1188.5\" y=\"653.5\"/><use href=\"#oss\" x=\"598.5\" y=\"610.5\"/></g></g><text stroke=\"#000\" stroke-width=\"0.01em\" text-anchor=\"end\" font-family=\"sans-serif\" font-size=\"40\" fill=\"white\" x=\"1890\" y=\"896\"><tspan x=\"1890\" dy=\"-0.0em\">&#931;&#955; = 113076.0 m</tspan><tspan x=\"1890\" dy=\"-1.3em\">(+1) &#945;: 8, &#946;: 5</tspan><tspan x=\"1890\" dy=\"-1.3em\">&#954; = 8, T = 90</tspan></text></svg>"
      ],
      "text/plain": [
       "<interarray.svg.SvgRepr at 0x22153372b40>"
      ]
     },
     "execution_count": 9,
     "metadata": {},
     "output_type": "execute_result"
    }
   ],
   "source": [
    "Sʹ = EW_presolver(A, capacity=capacity)\n",
    "Gʹ = G_from_S(Sʹ, A)\n",
    "svgplot(Gʹ)"
   ]
  },
  {
   "cell_type": "code",
   "execution_count": 10,
   "id": "71e05720-3404-4701-b376-3962d9bd759b",
   "metadata": {},
   "outputs": [],
   "source": [
    "model = omo.make_min_length_model(\n",
    "    A, capacity,\n",
    "    gateXings_constraint=False,\n",
    "    branching=True,\n",
    "    gates_limit=False\n",
    ")\n",
    "omo.warmup_model(model, Sʹ);"
   ]
  },
  {
   "cell_type": "code",
   "execution_count": 11,
   "id": "ebe0ab78-9c38-4e26-8bde-28519035e4b8",
   "metadata": {
    "scrolled": true
   },
   "outputs": [
    {
     "name": "stdout",
     "output_type": "stream",
     "text": [
      "Solving \"triton\": {R=2, T=90, k=8}\n",
      "\n",
      "Running HiGHS 1.9.0 (git hash: n/a): Copyright (c) 2024 HiGHS under MIT licence terms\n",
      "RUN!\n",
      "Coefficient ranges:\n",
      "  Matrix [1e+00, 8e+00]\n",
      "  Cost   [8e+02, 1e+04]\n",
      "  Bound  [1e+00, 8e+00]\n",
      "  RHS    [1e+00, 9e+01]\n",
      "Presolving model\n",
      "2708 rows, 1764 cols, 9840 nonzeros  0s\n",
      "2344 rows, 1722 cols, 8788 nonzeros  0s\n",
      "\n",
      "Solving MIP model with:\n",
      "   2344 rows\n",
      "   1722 cols (842 binary, 880 integer, 0 implied int., 0 continuous)\n",
      "   8788 nonzeros\n",
      "\n",
      "Src: B => Branching; C => Central rounding; F => Feasibility pump; H => Heuristic; L => Sub-MIP;\n",
      "     P => Empty MIP; R => Randomized rounding; S => Solve LP; T => Evaluate node; U => Unbounded;\n",
      "     z => Trivial zero; l => Trivial lower; u => Trivial upper; p => Trivial point\n",
      "\n",
      "        Nodes      |    B&B Tree     |            Objective Bounds              |  Dynamic Constraints |       Work      \n",
      "Src  Proc. InQueue |  Leaves   Expl. | BestBound       BestSol              Gap |   Cuts   InLp Confl. | LpIters     Time\n",
      "\n",
      "         0       0         0   0.00%   33614.379116    inf                  inf        0      0      0         0     0.1s\n",
      "         0       0         0   0.00%   103058.96252    inf                  inf        0      0      1      1083     0.1s\n",
      " L       0       0         0   0.00%   104483.353442   107811.557887      3.09%     2105     70    126      2506     2.7s\n",
      "\n",
      "9.2% inactive integer columns, restarting\n",
      "Model after restart has 2183 rows, 1561 cols (760 bin., 801 int., 0 impl., 0 cont.), and 8068 nonzeros\n",
      "\n",
      "         0       0         0   0.00%   104483.595331   107811.557887      3.09%       47      0      0      7091     4.0s\n",
      "         0       0         0   0.00%   104483.595331   107811.557887      3.09%       47     46      1      7679     4.1s\n",
      " L       0       0         0   0.00%   104483.595331   106506.337921      1.90%       47     46      1      7679     5.9s\n",
      "\n",
      "8.1% inactive integer columns, restarting\n",
      "Model after restart has 2045 rows, 1428 cols (690 bin., 738 int., 0 impl., 0 cont.), and 7447 nonzeros\n",
      "\n",
      "         0       0         0   0.00%   104483.595331   106506.337921      1.90%       46      0      0     11618     6.5s\n",
      "         0       0         0   0.00%   104483.595331   106506.337921      1.90%       46     46      4     12428     6.5s\n",
      "         7       6         0   1.56%   104492.134045   106506.337921      1.89%       48     46    182     44887    11.8s\n",
      "        21      16         0   3.32%   104545.732521   106506.337921      1.84%       71     49    395    103170    19.7s\n",
      "        66      39         3   3.87%   104665.189357   106506.337921      1.73%     1552     77   1846    129799    24.9s\n",
      "       131      58         9   6.35%   104738.293093   106506.337921      1.66%     2806     97   3518    152271    30.0s\n",
      "       198      81        12  11.22%   104810.596476   106506.337921      1.59%     1176    119   5412    175809    35.2s\n",
      "       270     103        19  13.33%   104828.655082   106506.337921      1.58%     1315    101   7580    204755    42.0s\n",
      "       349     130        25  17.38%   104891.970096   106506.337921      1.52%      957    106   9513    231164    47.1s\n",
      "       458     177        32  18.01%   104948.7846     106506.337921      1.46%      761    113   9946    255714    52.1s\n",
      "       543     200        38  19.93%   104978.985542   106506.337921      1.43%     1212    115   9984    282016    57.2s\n",
      "       598     219        45  20.40%   105012.517      106506.337921      1.40%     1247    118   9934    294715    60.0s\n",
      "\n",
      "Solving report\n",
      "  Status            Time limit reached\n",
      "  Primal bound      106506.337921\n",
      "  Dual bound        105012.517\n",
      "  Gap               1.4% (tolerance: 0.5%)\n",
      "  P-D integral      1.00260721764\n",
      "  Solution status   feasible\n",
      "                    106506.337921 (objective)\n",
      "                    0 (bound viol.)\n",
      "                    0 (int. viol.)\n",
      "                    0 (row viol.)\n",
      "  Timing            60.01 (total)\n",
      "                    0.00 (presolve)\n",
      "                    0.00 (solve)\n",
      "                    0.00 (postsolve)\n",
      "  Max sub-MIP depth 5\n",
      "  Nodes             598\n",
      "  Repair LPs        0 (0 feasible; 0 iterations)\n",
      "  LP iterations     294715 (total)\n",
      "                    151566 (strong br.)\n",
      "                    25239 (separation)\n",
      "                    16790 (heuristics)\n",
      "WARNING: Loading a feasible but suboptimal solution. Please set\n",
      "load_solution=False and check results.termination_condition and\n",
      "results.found_feasible_solution() before loading a solution.\n"
     ]
    }
   ],
   "source": [
    "# not sure if this one is the correct one\n",
    "# highser = pyo.SolverFactory('appsi_highs')\n",
    "highser.options.update(dict(\n",
    "    time_limit=60,  # timelimit?\n",
    "    mip_rel_gap=0.005,  # mipgap?\n",
    "))\n",
    "print(f'Solving \"{model.handle}\": {{R={len(model.R)}, T={len(model.T)}, k={model.k.value}}}\\n')\n",
    "result = highser.solve(model, tee=True)"
   ]
  },
  {
   "cell_type": "code",
   "execution_count": 12,
   "id": "008da20f-7e6e-4df1-af59-f558d3ccad4a",
   "metadata": {},
   "outputs": [
    {
     "data": {
      "image/svg+xml": [
       "<svg xmlns=\"http://www.w3.org/2000/svg\" viewBox=\"0 0 1920 926\"><defs ><filter x=\"-5%\" y=\"-5%\" id=\"bg_textbox\" width=\"110%\" height=\"110%\"><feFlood flood-opacity=\"0.7\" flood-color=\"#111\" result=\"bg\"/><feMerge ><feMergeNode in=\"bg\"/><feMergeNode in=\"SourceGraphic\"/></feMerge></filter><circle stroke=\"none\" stroke-width=\"2\" id=\"wtg\" r=\"12\"/><rect stroke=\"none\" stroke-width=\"2\" id=\"oss\" width=\"21\" height=\"21\" fill=\"lawngreen\"/></defs><g id=\"triton\"><path stroke=\"silver\" stroke-dasharray=\"15 7\" stroke-width=\"2\" id=\"border\" d=\"M681 30 1890 728 1578 896 1270 890 90 884 30 485z\" fill-rule=\"evenodd\" fill=\"#111\"/><g stroke=\"crimson\" stroke-width=\"4\" id=\"edges_unspecified\"><line x1=\"1199\" y1=\"664\" x2=\"1318\" y2=\"581\"/><line x1=\"1199\" y1=\"664\" x2=\"1080\" y2=\"748\"/><line x1=\"1199\" y1=\"664\" x2=\"1248\" y2=\"539\"/><line x1=\"1199\" y1=\"664\" x2=\"1269\" y2=\"707\"/><line x1=\"1199\" y1=\"664\" x2=\"1128\" y2=\"622\"/><line x1=\"1199\" y1=\"664\" x2=\"1177\" y2=\"496\"/><line x1=\"1340\" y1=\"749\" x2=\"1269\" y2=\"707\"/><line x1=\"1128\" y1=\"622\" x2=\"1058\" y2=\"580\"/><line x1=\"1248\" y1=\"539\" x2=\"1296\" y2=\"413\"/><line x1=\"1096\" y1=\"874\" x2=\"1080\" y2=\"748\"/><line x1=\"1388\" y1=\"623\" x2=\"1318\" y2=\"581\"/><line x1=\"1177\" y1=\"496\" x2=\"1226\" y2=\"371\"/><line x1=\"1177\" y1=\"496\" x2=\"1107\" y2=\"454\"/><line x1=\"609\" y1=\"621\" x2=\"728\" y2=\"537\"/><line x1=\"609\" y1=\"621\" x2=\"586\" y2=\"454\"/><line x1=\"609\" y1=\"621\" x2=\"560\" y2=\"747\"/><line x1=\"609\" y1=\"621\" x2=\"539\" y2=\"579\"/><line x1=\"609\" y1=\"621\" x2=\"679\" y2=\"663\"/><line x1=\"609\" y1=\"621\" x2=\"490\" y2=\"705\"/><line x1=\"511\" y1=\"873\" x2=\"560\" y2=\"747\"/><line x1=\"349\" y1=\"621\" x2=\"539\" y2=\"579\"/><line x1=\"749\" y1=\"705\" x2=\"679\" y2=\"663\"/><line x1=\"728\" y1=\"537\" x2=\"777\" y2=\"412\"/><line x1=\"586\" y1=\"454\" x2=\"447\" y2=\"369\"/><line x1=\"490\" y1=\"705\" x2=\"419\" y2=\"663\"/><line x1=\"446\" y1=\"873\" x2=\"511\" y2=\"873\"/><line x1=\"820\" y1=\"748\" x2=\"749\" y2=\"705\"/><line x1=\"836\" y1=\"874\" x2=\"820\" y2=\"748\"/><line x1=\"1507\" y1=\"539\" x2=\"1437\" y2=\"497\"/><line x1=\"1437\" y1=\"497\" x2=\"1367\" y2=\"455\"/><line x1=\"1367\" y1=\"455\" x2=\"1296\" y2=\"413\"/><line x1=\"1578\" y1=\"581\" x2=\"1507\" y2=\"539\"/><line x1=\"1356\" y1=\"875\" x2=\"1340\" y2=\"749\"/><line x1=\"1459\" y1=\"665\" x2=\"1388\" y2=\"623\"/><line x1=\"1529\" y1=\"707\" x2=\"1459\" y2=\"665\"/><line x1=\"300\" y1=\"747\" x2=\"419\" y2=\"663\"/><line x1=\"300\" y1=\"747\" x2=\"230\" y2=\"704\"/><line x1=\"349\" y1=\"621\" x2=\"279\" y2=\"578\"/><line x1=\"1599\" y1=\"749\" x2=\"1529\" y2=\"707\"/><line x1=\"1675\" y1=\"833\" x2=\"1599\" y2=\"749\"/><line x1=\"1675\" y1=\"833\" x2=\"1735\" y2=\"792\"/><line x1=\"641\" y1=\"873\" x2=\"706\" y2=\"873\"/><line x1=\"576\" y1=\"873\" x2=\"641\" y2=\"873\"/><line x1=\"706\" y1=\"873\" x2=\"771\" y2=\"873\"/><line x1=\"771\" y1=\"873\" x2=\"836\" y2=\"874\"/><line x1=\"1719\" y1=\"666\" x2=\"1648\" y2=\"623\"/><line x1=\"1648\" y1=\"623\" x2=\"1578\" y2=\"581\"/><line x1=\"869\" y1=\"622\" x2=\"917\" y2=\"496\"/><line x1=\"917\" y1=\"496\" x2=\"966\" y2=\"370\"/><line x1=\"1058\" y1=\"580\" x2=\"917\" y2=\"496\"/><line x1=\"328\" y1=\"453\" x2=\"312\" y2=\"326\"/><line x1=\"312\" y1=\"326\" x2=\"371\" y2=\"285\"/><line x1=\"371\" y1=\"285\" x2=\"431\" y2=\"243\"/><line x1=\"447\" y1=\"369\" x2=\"371\" y2=\"285\"/><line x1=\"121\" y1=\"872\" x2=\"186\" y2=\"872\"/><line x1=\"186\" y1=\"872\" x2=\"251\" y2=\"872\"/><line x1=\"105\" y1=\"746\" x2=\"159\" y2=\"662\"/><line x1=\"159\" y1=\"662\" x2=\"89\" y2=\"620\"/><line x1=\"230\" y1=\"704\" x2=\"159\" y2=\"662\"/><line x1=\"1031\" y1=\"874\" x2=\"1096\" y2=\"874\"/><line x1=\"1096\" y1=\"874\" x2=\"1161\" y2=\"874\"/><line x1=\"1356\" y1=\"875\" x2=\"1421\" y2=\"875\"/><line x1=\"966\" y1=\"874\" x2=\"1031\" y2=\"874\"/><line x1=\"251\" y1=\"872\" x2=\"316\" y2=\"872\"/><line x1=\"316\" y1=\"872\" x2=\"381\" y2=\"873\"/><line x1=\"381\" y1=\"873\" x2=\"446\" y2=\"873\"/><line x1=\"73\" y1=\"494\" x2=\"133\" y2=\"452\"/><line x1=\"208\" y1=\"536\" x2=\"133\" y2=\"452\"/><line x1=\"133\" y1=\"452\" x2=\"193\" y2=\"410\"/><line x1=\"279\" y1=\"578\" x2=\"208\" y2=\"536\"/><line x1=\"875\" y1=\"160\" x2=\"804\" y2=\"118\"/><line x1=\"945\" y1=\"202\" x2=\"875\" y2=\"160\"/><line x1=\"669\" y1=\"75\" x2=\"734\" y2=\"75\"/><line x1=\"610\" y1=\"117\" x2=\"669\" y2=\"75\"/><line x1=\"1486\" y1=\"875\" x2=\"1551\" y2=\"875\"/><line x1=\"1421\" y1=\"875\" x2=\"1486\" y2=\"875\"/><line x1=\"1735\" y1=\"792\" x2=\"1789\" y2=\"708\"/><line x1=\"777\" y1=\"412\" x2=\"636\" y2=\"327\"/><line x1=\"966\" y1=\"370\" x2=\"896\" y2=\"328\"/><line x1=\"636\" y1=\"327\" x2=\"685\" y2=\"201\"/><line x1=\"636\" y1=\"327\" x2=\"566\" y2=\"285\"/><line x1=\"1015\" y1=\"244\" x2=\"945\" y2=\"202\"/><line x1=\"1156\" y1=\"328\" x2=\"1015\" y2=\"244\"/><line x1=\"431\" y1=\"243\" x2=\"491\" y2=\"201\"/><line x1=\"491\" y1=\"201\" x2=\"550\" y2=\"159\"/><line x1=\"896\" y1=\"328\" x2=\"826\" y2=\"286\"/><line x1=\"685\" y1=\"201\" x2=\"610\" y2=\"117\"/><line x1=\"1226\" y1=\"371\" x2=\"1156\" y2=\"328\"/><line x1=\"1161\" y1=\"874\" x2=\"1226\" y2=\"874\"/><line x1=\"193\" y1=\"410\" x2=\"252\" y2=\"368\"/></g><g id=\"WTGgrp\"><g fill=\"#1f77b4\"><use href=\"#wtg\" x=\"1269\" y=\"707\"/><use href=\"#wtg\" x=\"1340\" y=\"749\"/><use href=\"#wtg\" x=\"1356\" y=\"875\"/><use href=\"#wtg\" x=\"1551\" y=\"875\"/><use href=\"#wtg\" x=\"1486\" y=\"875\"/><use href=\"#wtg\" x=\"1421\" y=\"875\"/></g><g fill=\"#aec7e8\"><use href=\"#wtg\" x=\"1128\" y=\"622\"/><use href=\"#wtg\" x=\"869\" y=\"622\"/><use href=\"#wtg\" x=\"917\" y=\"496\"/><use href=\"#wtg\" x=\"1058\" y=\"580\"/><use href=\"#wtg\" x=\"966\" y=\"370\"/><use href=\"#wtg\" x=\"826\" y=\"286\"/><use href=\"#wtg\" x=\"896\" y=\"328\"/></g><g fill=\"#ff7f0e\"><use href=\"#wtg\" x=\"1248\" y=\"539\"/><use href=\"#wtg\" x=\"1437\" y=\"497\"/><use href=\"#wtg\" x=\"1367\" y=\"455\"/><use href=\"#wtg\" x=\"1507\" y=\"539\"/><use href=\"#wtg\" x=\"1296\" y=\"413\"/><use href=\"#wtg\" x=\"1648\" y=\"623\"/><use href=\"#wtg\" x=\"1578\" y=\"581\"/><use href=\"#wtg\" x=\"1719\" y=\"666\"/></g><g fill=\"#ffbb78\"><use href=\"#wtg\" x=\"1080\" y=\"748\"/><use href=\"#wtg\" x=\"1096\" y=\"874\"/><use href=\"#wtg\" x=\"1031\" y=\"874\"/><use href=\"#wtg\" x=\"966\" y=\"874\"/><use href=\"#wtg\" x=\"1161\" y=\"874\"/><use href=\"#wtg\" x=\"1226\" y=\"874\"/></g><g fill=\"#2ca02c\"><use href=\"#wtg\" x=\"1318\" y=\"581\"/><use href=\"#wtg\" x=\"1388\" y=\"623\"/><use href=\"#wtg\" x=\"1459\" y=\"665\"/><use href=\"#wtg\" x=\"1599\" y=\"749\"/><use href=\"#wtg\" x=\"1529\" y=\"707\"/><use href=\"#wtg\" x=\"1675\" y=\"833\"/><use href=\"#wtg\" x=\"1789\" y=\"708\"/><use href=\"#wtg\" x=\"1735\" y=\"792\"/></g><g fill=\"#98df8a\"><use href=\"#wtg\" x=\"1177\" y=\"496\"/><use href=\"#wtg\" x=\"804\" y=\"118\"/><use href=\"#wtg\" x=\"875\" y=\"160\"/><use href=\"#wtg\" x=\"945\" y=\"202\"/><use href=\"#wtg\" x=\"1015\" y=\"244\"/><use href=\"#wtg\" x=\"1156\" y=\"328\"/><use href=\"#wtg\" x=\"1226\" y=\"371\"/><use href=\"#wtg\" x=\"1107\" y=\"454\"/></g><g fill=\"#d62728\"><use href=\"#wtg\" x=\"560\" y=\"747\"/><use href=\"#wtg\" x=\"511\" y=\"873\"/><use href=\"#wtg\" x=\"121\" y=\"872\"/><use href=\"#wtg\" x=\"186\" y=\"872\"/><use href=\"#wtg\" x=\"251\" y=\"872\"/><use href=\"#wtg\" x=\"316\" y=\"872\"/><use href=\"#wtg\" x=\"381\" y=\"873\"/><use href=\"#wtg\" x=\"446\" y=\"873\"/></g><g fill=\"#ff9896\"><use href=\"#wtg\" x=\"539\" y=\"579\"/><use href=\"#wtg\" x=\"349\" y=\"621\"/><use href=\"#wtg\" x=\"73\" y=\"494\"/><use href=\"#wtg\" x=\"133\" y=\"452\"/><use href=\"#wtg\" x=\"279\" y=\"578\"/><use href=\"#wtg\" x=\"208\" y=\"536\"/><use href=\"#wtg\" x=\"193\" y=\"410\"/><use href=\"#wtg\" x=\"252\" y=\"368\"/></g><g fill=\"#9467bd\"><use href=\"#wtg\" x=\"679\" y=\"663\"/><use href=\"#wtg\" x=\"820\" y=\"748\"/><use href=\"#wtg\" x=\"749\" y=\"705\"/><use href=\"#wtg\" x=\"641\" y=\"873\"/><use href=\"#wtg\" x=\"706\" y=\"873\"/><use href=\"#wtg\" x=\"576\" y=\"873\"/><use href=\"#wtg\" x=\"771\" y=\"873\"/><use href=\"#wtg\" x=\"836\" y=\"874\"/></g><g fill=\"#c5b0d5\"><use href=\"#wtg\" x=\"728\" y=\"537\"/><use href=\"#wtg\" x=\"734\" y=\"75\"/><use href=\"#wtg\" x=\"669\" y=\"75\"/><use href=\"#wtg\" x=\"777\" y=\"412\"/><use href=\"#wtg\" x=\"636\" y=\"327\"/><use href=\"#wtg\" x=\"610\" y=\"117\"/><use href=\"#wtg\" x=\"685\" y=\"201\"/><use href=\"#wtg\" x=\"566\" y=\"285\"/></g><g fill=\"#8c564b\"><use href=\"#wtg\" x=\"586\" y=\"454\"/><use href=\"#wtg\" x=\"312\" y=\"326\"/><use href=\"#wtg\" x=\"371\" y=\"285\"/><use href=\"#wtg\" x=\"328\" y=\"453\"/><use href=\"#wtg\" x=\"431\" y=\"243\"/><use href=\"#wtg\" x=\"447\" y=\"369\"/><use href=\"#wtg\" x=\"491\" y=\"201\"/><use href=\"#wtg\" x=\"550\" y=\"159\"/></g><g fill=\"#c49c94\"><use href=\"#wtg\" x=\"490\" y=\"705\"/><use href=\"#wtg\" x=\"300\" y=\"747\"/><use href=\"#wtg\" x=\"419\" y=\"663\"/><use href=\"#wtg\" x=\"105\" y=\"746\"/><use href=\"#wtg\" x=\"159\" y=\"662\"/><use href=\"#wtg\" x=\"230\" y=\"704\"/><use href=\"#wtg\" x=\"89\" y=\"620\"/></g></g><g id=\"OSSgrp\"><use href=\"#oss\" x=\"1188.5\" y=\"653.5\"/><use href=\"#oss\" x=\"598.5\" y=\"610.5\"/></g></g><text stroke=\"#000\" stroke-width=\"0.01em\" text-anchor=\"end\" font-family=\"sans-serif\" font-size=\"40\" fill=\"white\" x=\"1890\" y=\"896\"><tspan x=\"1890\" dy=\"-0.0em\">&#931;&#955; = 106506.0 m</tspan><tspan x=\"1890\" dy=\"-1.3em\">(+0) &#945;: 6, &#946;: 6</tspan><tspan x=\"1890\" dy=\"-1.3em\">&#954; = 8, T = 90</tspan></text></svg>"
      ],
      "text/plain": [
       "<interarray.svg.SvgRepr at 0x221534c4da0>"
      ]
     },
     "execution_count": 12,
     "metadata": {},
     "output_type": "execute_result"
    }
   ],
   "source": [
    "S = omo.S_from_solution(model, highser, result)\n",
    "G = G_from_S(S, A)\n",
    "H = PathFinder(G, planar=P, A=A).create_detours()\n",
    "svgplot(H)"
   ]
  }
 ],
 "metadata": {
  "language_info": {
   "name": "python"
  }
 },
 "nbformat": 4,
 "nbformat_minor": 5
}
