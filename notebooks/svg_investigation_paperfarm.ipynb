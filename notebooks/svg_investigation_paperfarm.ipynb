{
 "cells": [
  {
   "cell_type": "code",
   "execution_count": 1,
   "id": "d4bdecfa-ec75-4efd-a2c1-09cca92606cb",
   "metadata": {
    "deletable": true,
    "editable": true,
    "execution": {
     "iopub.execute_input": "2025-03-10T19:25:06.666796Z",
     "iopub.status.busy": "2025-03-10T19:25:06.666796Z",
     "iopub.status.idle": "2025-03-10T19:25:08.496246Z",
     "shell.execute_reply": "2025-03-10T19:25:08.496246Z",
     "shell.execute_reply.started": "2025-03-10T19:25:06.666796Z"
    },
    "frozen": false
   },
   "outputs": [],
   "source": [
    "%load_ext autoreload\n",
    "%autoreload 1\n",
    "%aimport interarray.svg"
   ]
  },
  {
   "cell_type": "code",
   "execution_count": null,
   "id": "dcbf4812-8b63-4fba-ae0c-4ffff00895db",
   "metadata": {
    "execution": {
     "iopub.status.busy": "2025-03-10T19:24:30.637052Z",
     "iopub.status.idle": "2025-03-10T19:24:30.637052Z",
     "shell.execute_reply": "2025-03-10T19:24:30.637052Z",
     "shell.execute_reply.started": "2025-03-10T19:24:30.637052Z"
    }
   },
   "outputs": [],
   "source": [
    "import base64"
   ]
  },
  {
   "cell_type": "code",
   "execution_count": 2,
   "id": "342f6855-e2d1-4898-b8a3-3799a53106b5",
   "metadata": {
    "deletable": true,
    "editable": true,
    "execution": {
     "iopub.execute_input": "2025-03-10T19:25:09.612955Z",
     "iopub.status.busy": "2025-03-10T19:25:09.611963Z",
     "iopub.status.idle": "2025-03-10T19:25:09.782064Z",
     "shell.execute_reply": "2025-03-10T19:25:09.782064Z",
     "shell.execute_reply.started": "2025-03-10T19:25:09.612955Z"
    },
    "frozen": false
   },
   "outputs": [],
   "source": [
    "from interarray.importer import L_from_pbf, load_repository\n",
    "from interarray.mesh import make_planar_embedding\n",
    "from interarray.svg import svgplot, SvgRepr\n",
    "from interarray.heuristics import EW_presolver\n",
    "from interarray.interarraylib import G_from_S\n",
    "from interarray.pathfinding import PathFinder"
   ]
  },
  {
   "cell_type": "code",
   "execution_count": null,
   "id": "6f202db5-5446-483b-b16a-a77a55c7e190",
   "metadata": {},
   "outputs": [],
   "source": []
  },
  {
   "cell_type": "code",
   "execution_count": 3,
   "id": "7a3ff19d-f6b7-4bf7-aeea-eb264683fd93",
   "metadata": {
    "deletable": true,
    "editable": true,
    "execution": {
     "iopub.execute_input": "2025-03-10T19:25:13.514024Z",
     "iopub.status.busy": "2025-03-10T19:25:13.513023Z",
     "iopub.status.idle": "2025-03-10T19:25:14.318789Z",
     "shell.execute_reply": "2025-03-10T19:25:14.318789Z",
     "shell.execute_reply.started": "2025-03-10T19:25:13.514024Z"
    },
    "frozen": false
   },
   "outputs": [],
   "source": [
    "locations = load_repository()"
   ]
  },
  {
   "cell_type": "code",
   "execution_count": 4,
   "id": "bb392254-610b-446a-af95-68b967f9e87a",
   "metadata": {
    "execution": {
     "iopub.execute_input": "2025-03-10T19:25:15.123483Z",
     "iopub.status.busy": "2025-03-10T19:25:15.123483Z",
     "iopub.status.idle": "2025-03-10T19:25:15.168781Z",
     "shell.execute_reply": "2025-03-10T19:25:15.168781Z",
     "shell.execute_reply.started": "2025-03-10T19:25:15.123483Z"
    }
   },
   "outputs": [
    {
     "data": {
      "text/html": [
       "<img src=\"data:image/svg+xml;base64,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\"/>"
      ],
      "text/plain": [
       "<interarray.svg.SvgB64Img at 0x1cf66457730>"
      ]
     },
     "execution_count": 4,
     "metadata": {},
     "output_type": "execute_result"
    }
   ],
   "source": [
    "svgplot(locations.ormonde)"
   ]
  },
  {
   "cell_type": "code",
   "execution_count": 5,
   "id": "5b085e22-8f26-4d96-a0ae-7ff8ae32b0ae",
   "metadata": {
    "deletable": true,
    "editable": true,
    "execution": {
     "iopub.execute_input": "2025-03-10T19:25:19.184981Z",
     "iopub.status.busy": "2025-03-10T19:25:19.184000Z",
     "iopub.status.idle": "2025-03-10T19:25:19.699685Z",
     "shell.execute_reply": "2025-03-10T19:25:19.698632Z",
     "shell.execute_reply.started": "2025-03-10T19:25:19.184981Z"
    },
    "frozen": false
   },
   "outputs": [
    {
     "data": {
      "text/html": [
       "<img src=\"data:image/svg+xml;base64,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\"/>"
      ],
      "text/plain": [
       "<interarray.svg.SvgB64Img at 0x1cf6cca6c50>"
      ]
     },
     "execution_count": 5,
     "metadata": {},
     "output_type": "execute_result"
    }
   ],
   "source": [
    "L = locations.sandbank\n",
    "P, A = make_planar_embedding(L)\n",
    "S = EW_presolver(A, capacity=4)\n",
    "G = G_from_S(S, A)\n",
    "svgplot(G)"
   ]
  },
  {
   "cell_type": "code",
   "execution_count": 65,
   "id": "0b814503-d60d-4f54-9d0b-16f147938854",
   "metadata": {
    "editable": true,
    "execution": {
     "iopub.execute_input": "2025-03-10T19:19:19.223932Z",
     "iopub.status.busy": "2025-03-10T19:19:19.222929Z",
     "iopub.status.idle": "2025-03-10T19:19:19.311684Z",
     "shell.execute_reply": "2025-03-10T19:19:19.311684Z",
     "shell.execute_reply.started": "2025-03-10T19:19:19.223932Z"
    },
    "frozen": false
   },
   "outputs": [
    {
     "data": {
      "image/svg+xml": [
       "<svg xmlns=\"http://www.w3.org/2000/svg\" viewBox=\"0 0 1920 342\"><defs><filter x=\"-5%\" y=\"-5%\" id=\"bg_textbox\" width=\"110%\" height=\"110%\"><feFlood flood-opacity=\"0.7\" flood-color=\"#111\" result=\"bg\"/><feMerge><feMergeNode in=\"bg\"/><feMergeNode in=\"SourceGraphic\"/></feMerge></filter><circle stroke=\"none\" stroke-width=\"2\" id=\"wtg\" r=\"12\"/><rect stroke=\"none\" stroke-width=\"2\" id=\"oss\" width=\"21\" height=\"21\" fill=\"lawngreen\"/></defs><g id=\"sandbank\"><path stroke=\"silver\" stroke-dasharray=\"15 7\" stroke-width=\"2\" id=\"border\" d=\"M122 311 30 216 30 124 32 30 123 32 215 32 310 32 404 31 1238 32 1331 35 1423 34 1516 32 1611 32 1702 30 1798 30 1886 30 1890 218 1795 312 1703 312 1610 312 1516 312 1425 312 1327 312 1239 312 1143 312 1051 312 959 312 867 312 772 312 680 312 584 312 495 312 401 311 306 311 217 311z\" fill-rule=\"evenodd\" fill=\"#111\"/><g stroke=\"crimson\" stroke-width=\"4\" id=\"edges_unspecified\"><line x1=\"681\" y1=\"218\" x2=\"774\" y2=\"218\"/><line x1=\"1007\" y1=\"170\" x2=\"958\" y2=\"220\"/><line x1=\"1007\" y1=\"170\" x2=\"1051\" y2=\"125\"/><line x1=\"1007\" y1=\"170\" x2=\"957\" y2=\"127\"/><line x1=\"1007\" y1=\"170\" x2=\"1052\" y2=\"223\"/><line x1=\"1007\" y1=\"170\" x2=\"959\" y2=\"312\"/><line x1=\"867\" y1=\"125\" x2=\"957\" y2=\"127\"/><line x1=\"1702\" y1=\"127\" x2=\"1794\" y2=\"126\"/><line x1=\"1794\" y1=\"126\" x2=\"1888\" y2=\"125\"/><line x1=\"1886\" y1=\"30\" x2=\"1798\" y2=\"30\"/><line x1=\"1702\" y1=\"30\" x2=\"1798\" y2=\"30\"/><line x1=\"1052\" y1=\"223\" x2=\"1145\" y2=\"219\"/><line x1=\"1145\" y1=\"219\" x2=\"1239\" y2=\"217\"/><line x1=\"1239\" y1=\"217\" x2=\"1333\" y2=\"216\"/><line x1=\"1610\" y1=\"312\" x2=\"1703\" y2=\"312\"/><line x1=\"1516\" y1=\"312\" x2=\"1610\" y2=\"312\"/><line x1=\"1795\" y1=\"312\" x2=\"1703\" y2=\"312\"/><line x1=\"1143\" y1=\"312\" x2=\"1239\" y2=\"312\"/><line x1=\"1051\" y1=\"312\" x2=\"1143\" y2=\"312\"/><line x1=\"1239\" y1=\"312\" x2=\"1327\" y2=\"312\"/><line x1=\"1611\" y1=\"218\" x2=\"1702\" y2=\"220\"/><line x1=\"1702\" y1=\"220\" x2=\"1795\" y2=\"220\"/><line x1=\"309\" y1=\"126\" x2=\"401\" y2=\"128\"/><line x1=\"403\" y1=\"220\" x2=\"493\" y2=\"220\"/><line x1=\"493\" y1=\"220\" x2=\"495\" y2=\"312\"/><line x1=\"1238\" y1=\"32\" x2=\"1331\" y2=\"35\"/><line x1=\"1423\" y1=\"34\" x2=\"1516\" y2=\"32\"/><line x1=\"1423\" y1=\"123\" x2=\"1423\" y2=\"34\"/><line x1=\"1890\" y1=\"218\" x2=\"1795\" y2=\"220\"/><line x1=\"1329\" y1=\"127\" x2=\"1423\" y2=\"123\"/><line x1=\"404\" y1=\"31\" x2=\"310\" y2=\"32\"/><line x1=\"30\" y1=\"124\" x2=\"122\" y2=\"126\"/><line x1=\"122\" y1=\"126\" x2=\"123\" y2=\"216\"/><line x1=\"215\" y1=\"32\" x2=\"218\" y2=\"124\"/><line x1=\"1145\" y1=\"127\" x2=\"1237\" y2=\"127\"/><line x1=\"309\" y1=\"126\" x2=\"308\" y2=\"218\"/><line x1=\"215\" y1=\"218\" x2=\"308\" y2=\"218\"/><line x1=\"1611\" y1=\"32\" x2=\"1702\" y2=\"30\"/><line x1=\"1609\" y1=\"128\" x2=\"1702\" y2=\"127\"/><line x1=\"1238\" y1=\"32\" x2=\"1237\" y2=\"127\"/><line x1=\"122\" y1=\"311\" x2=\"217\" y2=\"311\"/><line x1=\"217\" y1=\"311\" x2=\"306\" y2=\"311\"/><line x1=\"32\" y1=\"30\" x2=\"123\" y2=\"32\"/><line x1=\"215\" y1=\"32\" x2=\"123\" y2=\"32\"/><line x1=\"495\" y1=\"123\" x2=\"591\" y2=\"123\"/><line x1=\"404\" y1=\"31\" x2=\"495\" y2=\"123\"/><line x1=\"587\" y1=\"218\" x2=\"681\" y2=\"218\"/><line x1=\"495\" y1=\"312\" x2=\"584\" y2=\"312\"/><line x1=\"1518\" y1=\"126\" x2=\"1518\" y2=\"219\"/><line x1=\"1425\" y1=\"312\" x2=\"1425\" y2=\"219\"/><line x1=\"681\" y1=\"126\" x2=\"681\" y2=\"218\"/><line x1=\"1425\" y1=\"219\" x2=\"1518\" y2=\"219\"/><line x1=\"306\" y1=\"311\" x2=\"401\" y2=\"311\"/><line x1=\"30\" y1=\"216\" x2=\"123\" y2=\"216\"/><line x1=\"772\" y1=\"312\" x2=\"867\" y2=\"312\"/><line x1=\"959\" y1=\"312\" x2=\"867\" y2=\"312\"/><line x1=\"680\" y1=\"312\" x2=\"772\" y2=\"312\"/></g><g stroke=\"red\" stroke-dasharray=\"18 15\" stroke-width=\"4\" id=\"edges_tentative\"><line x1=\"1007\" y1=\"170\" x2=\"774\" y2=\"218\"/><line x1=\"1007\" y1=\"170\" x2=\"1611\" y2=\"218\"/><line x1=\"1007\" y1=\"170\" x2=\"123\" y2=\"216\"/><line x1=\"1007\" y1=\"170\" x2=\"1329\" y2=\"127\"/><line x1=\"1007\" y1=\"170\" x2=\"584\" y2=\"312\"/><line x1=\"1007\" y1=\"170\" x2=\"218\" y2=\"124\"/><line x1=\"1007\" y1=\"170\" x2=\"401\" y2=\"128\"/><line x1=\"1007\" y1=\"170\" x2=\"1425\" y2=\"219\"/><line x1=\"1007\" y1=\"170\" x2=\"1145\" y2=\"127\"/><line x1=\"1007\" y1=\"170\" x2=\"1611\" y2=\"32\"/><line x1=\"1007\" y1=\"170\" x2=\"1051\" y2=\"312\"/><line x1=\"1007\" y1=\"170\" x2=\"1609\" y2=\"128\"/><line x1=\"1007\" y1=\"170\" x2=\"591\" y2=\"123\"/><line x1=\"1007\" y1=\"170\" x2=\"1516\" y2=\"312\"/><line x1=\"1007\" y1=\"170\" x2=\"401\" y2=\"311\"/></g><g id=\"WTGgrp\"><g fill=\"#1f77b4\"><use href=\"#wtg\" x=\"774\" y=\"218\"/><use href=\"#wtg\" x=\"587\" y=\"218\"/><use href=\"#wtg\" x=\"681\" y=\"218\"/><use href=\"#wtg\" x=\"681\" y=\"126\"/></g><g fill=\"#8c564b\"><use href=\"#wtg\" x=\"867\" y=\"125\"/><use href=\"#wtg\" x=\"957\" y=\"127\"/></g><g fill=\"#f7b6d2\"><use href=\"#wtg\" x=\"1794\" y=\"126\"/><use href=\"#wtg\" x=\"1888\" y=\"125\"/><use href=\"#wtg\" x=\"1702\" y=\"127\"/><use href=\"#wtg\" x=\"1609\" y=\"128\"/></g><g fill=\"#c5b0d5\"><use href=\"#wtg\" x=\"1798\" y=\"30\"/><use href=\"#wtg\" x=\"1611\" y=\"32\"/><use href=\"#wtg\" x=\"1702\" y=\"30\"/><use href=\"#wtg\" x=\"1886\" y=\"30\"/></g><g fill=\"#ffbb78\"><use href=\"#wtg\" x=\"1145\" y=\"219\"/><use href=\"#wtg\" x=\"1239\" y=\"217\"/><use href=\"#wtg\" x=\"1333\" y=\"216\"/><use href=\"#wtg\" x=\"1052\" y=\"223\"/></g><g fill=\"#7f7f7f\"><use href=\"#wtg\" x=\"1610\" y=\"312\"/><use href=\"#wtg\" x=\"1703\" y=\"312\"/><use href=\"#wtg\" x=\"1795\" y=\"312\"/><use href=\"#wtg\" x=\"1516\" y=\"312\"/></g><g fill=\"#c49c94\"><use href=\"#wtg\" x=\"1143\" y=\"312\"/><use href=\"#wtg\" x=\"1239\" y=\"312\"/><use href=\"#wtg\" x=\"1327\" y=\"312\"/><use href=\"#wtg\" x=\"1051\" y=\"312\"/></g><g fill=\"#aec7e8\"><use href=\"#wtg\" x=\"1611\" y=\"218\"/><use href=\"#wtg\" x=\"1702\" y=\"220\"/><use href=\"#wtg\" x=\"1890\" y=\"218\"/><use href=\"#wtg\" x=\"1795\" y=\"220\"/></g><g fill=\"#ff7f0e\"><use href=\"#wtg\" x=\"401\" y=\"128\"/><use href=\"#wtg\" x=\"309\" y=\"126\"/><use href=\"#wtg\" x=\"308\" y=\"218\"/><use href=\"#wtg\" x=\"215\" y=\"218\"/></g><g fill=\"#e377c2\"><use href=\"#wtg\" x=\"493\" y=\"220\"/><use href=\"#wtg\" x=\"584\" y=\"312\"/><use href=\"#wtg\" x=\"403\" y=\"220\"/><use href=\"#wtg\" x=\"495\" y=\"312\"/></g><g fill=\"#2ca02c\"><use href=\"#wtg\" x=\"1051\" y=\"125\"/></g><g fill=\"#ff9896\"><use href=\"#wtg\" x=\"1331\" y=\"35\"/><use href=\"#wtg\" x=\"1145\" y=\"127\"/><use href=\"#wtg\" x=\"1238\" y=\"32\"/><use href=\"#wtg\" x=\"1237\" y=\"127\"/></g><g fill=\"#98df8a\"><use href=\"#wtg\" x=\"1423\" y=\"34\"/><use href=\"#wtg\" x=\"1329\" y=\"127\"/><use href=\"#wtg\" x=\"1423\" y=\"123\"/><use href=\"#wtg\" x=\"1516\" y=\"32\"/></g><g fill=\"#17becf\"><use href=\"#wtg\" x=\"310\" y=\"32\"/><use href=\"#wtg\" x=\"495\" y=\"123\"/><use href=\"#wtg\" x=\"591\" y=\"123\"/><use href=\"#wtg\" x=\"404\" y=\"31\"/></g><g fill=\"#bcbd22\"><use href=\"#wtg\" x=\"122\" y=\"126\"/><use href=\"#wtg\" x=\"123\" y=\"216\"/><use href=\"#wtg\" x=\"30\" y=\"216\"/><use href=\"#wtg\" x=\"30\" y=\"124\"/></g><g fill=\"#d62728\"><use href=\"#wtg\" x=\"218\" y=\"124\"/><use href=\"#wtg\" x=\"32\" y=\"30\"/><use href=\"#wtg\" x=\"123\" y=\"32\"/><use href=\"#wtg\" x=\"215\" y=\"32\"/></g><g fill=\"#9467bd\"><use href=\"#wtg\" x=\"958\" y=\"220\"/></g><g fill=\"#c7c7c7\"><use href=\"#wtg\" x=\"122\" y=\"311\"/><use href=\"#wtg\" x=\"217\" y=\"311\"/><use href=\"#wtg\" x=\"401\" y=\"311\"/><use href=\"#wtg\" x=\"306\" y=\"311\"/></g><g fill=\"#dbdb8d\"><use href=\"#wtg\" x=\"1518\" y=\"126\"/><use href=\"#wtg\" x=\"1425\" y=\"312\"/><use href=\"#wtg\" x=\"1518\" y=\"219\"/><use href=\"#wtg\" x=\"1425\" y=\"219\"/></g><g fill=\"#9edae5\"><use href=\"#wtg\" x=\"867\" y=\"312\"/><use href=\"#wtg\" x=\"959\" y=\"312\"/><use href=\"#wtg\" x=\"680\" y=\"312\"/><use href=\"#wtg\" x=\"772\" y=\"312\"/></g></g><g id=\"OSSgrp\"><use href=\"#oss\" x=\"996.5\" y=\"159.5\"/></g></g><text filter=\"url(#bg_textbox)\" text-anchor=\"end\" font-family=\"sans-serif\" font-size=\"40\" fill=\"white\" x=\"1890\" y=\"312\"><tspan x=\"1890\" dy=\"-0.0em\">&#931;&#955; = 136684.0 m</tspan><tspan x=\"1890\" dy=\"-1.3em\">(+2) &#945;: 20</tspan><tspan x=\"1890\" dy=\"-1.3em\">&#954; = 4, T = 72</tspan></text></svg>"
      ],
      "text/plain": [
       "<interarray.svg.SvgRepr at 0x2649ac64a30>"
      ]
     },
     "execution_count": 65,
     "metadata": {},
     "output_type": "execute_result"
    }
   ],
   "source": [
    "L = locations.sandbank\n",
    "P, A = make_planar_embedding(L)\n",
    "S = EW_presolver(A, capacity=4)\n",
    "G = G_from_S(S, A)\n",
    "svgplot(G)"
   ]
  },
  {
   "cell_type": "code",
   "execution_count": 68,
   "id": "383cfd72-e71c-4479-bf21-4013fcb4ecfc",
   "metadata": {
    "execution": {
     "iopub.execute_input": "2025-03-10T19:20:22.996891Z",
     "iopub.status.busy": "2025-03-10T19:20:22.996891Z",
     "iopub.status.idle": "2025-03-10T19:20:23.014549Z",
     "shell.execute_reply": "2025-03-10T19:20:23.013547Z",
     "shell.execute_reply.started": "2025-03-10T19:20:22.996891Z"
    }
   },
   "outputs": [],
   "source": [
    "class SvgB64Img:\n",
    "    def __init__(self, data):\n",
    "        self.data = data\n",
    "\n",
    "    def _repr_html_(self):\n",
    "        encoded = base64.b64encode(self.data.encode()).decode()\n",
    "        self.encoded = encoded\n",
    "        return f'<img src=\"data:image/svg+xml;base64,{encoded}\"/>'"
   ]
  },
  {
   "cell_type": "code",
   "execution_count": 6,
   "id": "4e065446-a83d-4a3b-94bd-cbb3b6b589e7",
   "metadata": {
    "execution": {
     "iopub.execute_input": "2025-03-10T19:00:04.374445Z",
     "iopub.status.busy": "2025-03-10T19:00:04.374445Z",
     "iopub.status.idle": "2025-03-10T19:00:04.385701Z",
     "shell.execute_reply": "2025-03-10T19:00:04.385701Z",
     "shell.execute_reply.started": "2025-03-10T19:00:04.374445Z"
    }
   },
   "outputs": [],
   "source": [
    "s = _5.data"
   ]
  },
  {
   "cell_type": "code",
   "execution_count": 52,
   "id": "ad326839-ce76-43f7-9dd1-47fd0b9feb74",
   "metadata": {
    "execution": {
     "iopub.execute_input": "2025-03-10T19:16:37.759496Z",
     "iopub.status.busy": "2025-03-10T19:16:37.758502Z",
     "iopub.status.idle": "2025-03-10T19:16:37.777549Z",
     "shell.execute_reply": "2025-03-10T19:16:37.777549Z",
     "shell.execute_reply.started": "2025-03-10T19:16:37.759496Z"
    }
   },
   "outputs": [],
   "source": [
    "s = _46.data"
   ]
  },
  {
   "cell_type": "code",
   "execution_count": 48,
   "id": "7f5f0a8f-359b-41eb-aeb0-0d34b57c85cf",
   "metadata": {
    "execution": {
     "iopub.execute_input": "2025-03-10T19:15:53.840134Z",
     "iopub.status.busy": "2025-03-10T19:15:53.840134Z",
     "iopub.status.idle": "2025-03-10T19:15:53.859022Z",
     "shell.execute_reply": "2025-03-10T19:15:53.858030Z",
     "shell.execute_reply.started": "2025-03-10T19:15:53.840134Z"
    }
   },
   "outputs": [],
   "source": [
    "encoded = base64.b64encode(s.encode())"
   ]
  },
  {
   "cell_type": "code",
   "execution_count": 69,
   "id": "630511bb-d95e-446e-99cb-2581293dc80a",
   "metadata": {
    "execution": {
     "iopub.execute_input": "2025-03-10T19:20:33.818506Z",
     "iopub.status.busy": "2025-03-10T19:20:33.818506Z",
     "iopub.status.idle": "2025-03-10T19:20:33.831332Z",
     "shell.execute_reply": "2025-03-10T19:20:33.831225Z",
     "shell.execute_reply.started": "2025-03-10T19:20:33.818506Z"
    }
   },
   "outputs": [
    {
     "name": "stdout",
     "output_type": "stream",
     "text": [
      "init A\n"
     ]
    },
    {
     "data": {
      "text/html": [
       "<img src=\"data:image/svg+xml;base64,PHN2ZyB4bWxucz0iaHR0cDovL3d3dy53My5vcmcvMjAwMC9zdmciIHZpZXdCb3g9IjAgMCAxOTIwIDM0MiI+PGRlZnM+PGZpbHRlciB4PSItNSUiIHk9Ii01JSIgaWQ9ImJnX3RleHRib3giIHdpZHRoPSIxMTAlIiBoZWlnaHQ9IjExMCUiPjxmZUZsb29kIGZsb29kLW9wYWNpdHk9IjAuNyIgZmxvb2QtY29sb3I9IiMxMTEiIHJlc3VsdD0iYmciLz48ZmVNZXJnZT48ZmVNZXJnZU5vZGUgaW49ImJnIi8+PGZlTWVyZ2VOb2RlIGluPSJTb3VyY2VHcmFwaGljIi8+PC9mZU1lcmdlPjwvZmlsdGVyPjxjaXJjbGUgc3Ryb2tlPSJub25lIiBzdHJva2Utd2lkdGg9IjIiIGlkPSJ3dGciIHI9IjEyIi8+PHJlY3Qgc3Ryb2tlPSJub25lIiBzdHJva2Utd2lkdGg9IjIiIGlkPSJvc3MiIHdpZHRoPSIyMSIgaGVpZ2h0PSIyMSIgZmlsbD0ibGF3bmdyZWVuIi8+PC9kZWZzPjxnIGlkPSJzYW5kYmFuayI+PHBhdGggc3Ryb2tlPSJzaWx2ZXIiIHN0cm9rZS1kYXNoYXJyYXk9IjE1IDciIHN0cm9rZS13aWR0aD0iMiIgaWQ9ImJvcmRlciIgZD0iTTEyMiAzMTEgMzAgMjE2IDMwIDEyNCAzMiAzMCAxMjMgMzIgMjE1IDMyIDMxMCAzMiA0MDQgMzEgMTIzOCAzMiAxMzMxIDM1IDE0MjMgMzQgMTUxNiAzMiAxNjExIDMyIDE3MDIgMzAgMTc5OCAzMCAxODg2IDMwIDE4OTAgMjE4IDE3OTUgMzEyIDE3MDMgMzEyIDE2MTAgMzEyIDE1MTYgMzEyIDE0MjUgMzEyIDEzMjcgMzEyIDEyMzkgMzEyIDExNDMgMzEyIDEwNTEgMzEyIDk1OSAzMTIgODY3IDMxMiA3NzIgMzEyIDY4MCAzMTIgNTg0IDMxMiA0OTUgMzEyIDQwMSAzMTEgMzA2IDMxMSAyMTcgMzExeiIgZmlsbC1ydWxlPSJldmVub2RkIiBmaWxsPSIjMTExIi8+PGcgc3Ryb2tlPSJjcmltc29uIiBzdHJva2Utd2lkdGg9IjQiIGlkPSJlZGdlc191bnNwZWNpZmllZCI+PGxpbmUgeDE9IjY4MSIgeTE9IjIxOCIgeDI9Ijc3NCIgeTI9IjIxOCIvPjxsaW5lIHgxPSIxMDA3IiB5MT0iMTcwIiB4Mj0iOTU4IiB5Mj0iMjIwIi8+PGxpbmUgeDE9IjEwMDciIHkxPSIxNzAiIHgyPSIxMDUxIiB5Mj0iMTI1Ii8+PGxpbmUgeDE9IjEwMDciIHkxPSIxNzAiIHgyPSI5NTciIHkyPSIxMjciLz48bGluZSB4MT0iMTAwNyIgeTE9IjE3MCIgeDI9IjEwNTIiIHkyPSIyMjMiLz48bGluZSB4MT0iMTAwNyIgeTE9IjE3MCIgeDI9Ijk1OSIgeTI9IjMxMiIvPjxsaW5lIHgxPSI4NjciIHkxPSIxMjUiIHgyPSI5NTciIHkyPSIxMjciLz48bGluZSB4MT0iMTcwMiIgeTE9IjEyNyIgeDI9IjE3OTQiIHkyPSIxMjYiLz48bGluZSB4MT0iMTc5NCIgeTE9IjEyNiIgeDI9IjE4ODgiIHkyPSIxMjUiLz48bGluZSB4MT0iMTg4NiIgeTE9IjMwIiB4Mj0iMTc5OCIgeTI9IjMwIi8+PGxpbmUgeDE9IjE3MDIiIHkxPSIzMCIgeDI9IjE3OTgiIHkyPSIzMCIvPjxsaW5lIHgxPSIxMDUyIiB5MT0iMjIzIiB4Mj0iMTE0NSIgeTI9IjIxOSIvPjxsaW5lIHgxPSIxMTQ1IiB5MT0iMjE5IiB4Mj0iMTIzOSIgeTI9IjIxNyIvPjxsaW5lIHgxPSIxMjM5IiB5MT0iMjE3IiB4Mj0iMTMzMyIgeTI9IjIxNiIvPjxsaW5lIHgxPSIxNjEwIiB5MT0iMzEyIiB4Mj0iMTcwMyIgeTI9IjMxMiIvPjxsaW5lIHgxPSIxNTE2IiB5MT0iMzEyIiB4Mj0iMTYxMCIgeTI9IjMxMiIvPjxsaW5lIHgxPSIxNzk1IiB5MT0iMzEyIiB4Mj0iMTcwMyIgeTI9IjMxMiIvPjxsaW5lIHgxPSIxMTQzIiB5MT0iMzEyIiB4Mj0iMTIzOSIgeTI9IjMxMiIvPjxsaW5lIHgxPSIxMDUxIiB5MT0iMzEyIiB4Mj0iMTE0MyIgeTI9IjMxMiIvPjxsaW5lIHgxPSIxMjM5IiB5MT0iMzEyIiB4Mj0iMTMyNyIgeTI9IjMxMiIvPjxsaW5lIHgxPSIxNjExIiB5MT0iMjE4IiB4Mj0iMTcwMiIgeTI9IjIyMCIvPjxsaW5lIHgxPSIxNzAyIiB5MT0iMjIwIiB4Mj0iMTc5NSIgeTI9IjIyMCIvPjxsaW5lIHgxPSIzMDkiIHkxPSIxMjYiIHgyPSI0MDEiIHkyPSIxMjgiLz48bGluZSB4MT0iNDAzIiB5MT0iMjIwIiB4Mj0iNDkzIiB5Mj0iMjIwIi8+PGxpbmUgeDE9IjQ5MyIgeTE9IjIyMCIgeDI9IjQ5NSIgeTI9IjMxMiIvPjxsaW5lIHgxPSIxMjM4IiB5MT0iMzIiIHgyPSIxMzMxIiB5Mj0iMzUiLz48bGluZSB4MT0iMTQyMyIgeTE9IjM0IiB4Mj0iMTUxNiIgeTI9IjMyIi8+PGxpbmUgeDE9IjE0MjMiIHkxPSIxMjMiIHgyPSIxNDIzIiB5Mj0iMzQiLz48bGluZSB4MT0iMTg5MCIgeTE9IjIxOCIgeDI9IjE3OTUiIHkyPSIyMjAiLz48bGluZSB4MT0iMTMyOSIgeTE9IjEyNyIgeDI9IjE0MjMiIHkyPSIxMjMiLz48bGluZSB4MT0iNDA0IiB5MT0iMzEiIHgyPSIzMTAiIHkyPSIzMiIvPjxsaW5lIHgxPSIzMCIgeTE9IjEyNCIgeDI9IjEyMiIgeTI9IjEyNiIvPjxsaW5lIHgxPSIxMjIiIHkxPSIxMjYiIHgyPSIxMjMiIHkyPSIyMTYiLz48bGluZSB4MT0iMjE1IiB5MT0iMzIiIHgyPSIyMTgiIHkyPSIxMjQiLz48bGluZSB4MT0iMTE0NSIgeTE9IjEyNyIgeDI9IjEyMzciIHkyPSIxMjciLz48bGluZSB4MT0iMzA5IiB5MT0iMTI2IiB4Mj0iMzA4IiB5Mj0iMjE4Ii8+PGxpbmUgeDE9IjIxNSIgeTE9IjIxOCIgeDI9IjMwOCIgeTI9IjIxOCIvPjxsaW5lIHgxPSIxNjExIiB5MT0iMzIiIHgyPSIxNzAyIiB5Mj0iMzAiLz48bGluZSB4MT0iMTYwOSIgeTE9IjEyOCIgeDI9IjE3MDIiIHkyPSIxMjciLz48bGluZSB4MT0iMTIzOCIgeTE9IjMyIiB4Mj0iMTIzNyIgeTI9IjEyNyIvPjxsaW5lIHgxPSIxMjIiIHkxPSIzMTEiIHgyPSIyMTciIHkyPSIzMTEiLz48bGluZSB4MT0iMjE3IiB5MT0iMzExIiB4Mj0iMzA2IiB5Mj0iMzExIi8+PGxpbmUgeDE9IjMyIiB5MT0iMzAiIHgyPSIxMjMiIHkyPSIzMiIvPjxsaW5lIHgxPSIyMTUiIHkxPSIzMiIgeDI9IjEyMyIgeTI9IjMyIi8+PGxpbmUgeDE9IjQ5NSIgeTE9IjEyMyIgeDI9IjU5MSIgeTI9IjEyMyIvPjxsaW5lIHgxPSI0MDQiIHkxPSIzMSIgeDI9IjQ5NSIgeTI9IjEyMyIvPjxsaW5lIHgxPSI1ODciIHkxPSIyMTgiIHgyPSI2ODEiIHkyPSIyMTgiLz48bGluZSB4MT0iNDk1IiB5MT0iMzEyIiB4Mj0iNTg0IiB5Mj0iMzEyIi8+PGxpbmUgeDE9IjE1MTgiIHkxPSIxMjYiIHgyPSIxNTE4IiB5Mj0iMjE5Ii8+PGxpbmUgeDE9IjE0MjUiIHkxPSIzMTIiIHgyPSIxNDI1IiB5Mj0iMjE5Ii8+PGxpbmUgeDE9IjY4MSIgeTE9IjEyNiIgeDI9IjY4MSIgeTI9IjIxOCIvPjxsaW5lIHgxPSIxNDI1IiB5MT0iMjE5IiB4Mj0iMTUxOCIgeTI9IjIxOSIvPjxsaW5lIHgxPSIzMDYiIHkxPSIzMTEiIHgyPSI0MDEiIHkyPSIzMTEiLz48bGluZSB4MT0iMzAiIHkxPSIyMTYiIHgyPSIxMjMiIHkyPSIyMTYiLz48bGluZSB4MT0iNzcyIiB5MT0iMzEyIiB4Mj0iODY3IiB5Mj0iMzEyIi8+PGxpbmUgeDE9Ijk1OSIgeTE9IjMxMiIgeDI9Ijg2NyIgeTI9IjMxMiIvPjxsaW5lIHgxPSI2ODAiIHkxPSIzMTIiIHgyPSI3NzIiIHkyPSIzMTIiLz48L2c+PGcgc3Ryb2tlPSJyZWQiIHN0cm9rZS1kYXNoYXJyYXk9IjE4IDE1IiBzdHJva2Utd2lkdGg9IjQiIGlkPSJlZGdlc190ZW50YXRpdmUiPjxsaW5lIHgxPSIxMDA3IiB5MT0iMTcwIiB4Mj0iNzc0IiB5Mj0iMjE4Ii8+PGxpbmUgeDE9IjEwMDciIHkxPSIxNzAiIHgyPSIxNjExIiB5Mj0iMjE4Ii8+PGxpbmUgeDE9IjEwMDciIHkxPSIxNzAiIHgyPSIxMjMiIHkyPSIyMTYiLz48bGluZSB4MT0iMTAwNyIgeTE9IjE3MCIgeDI9IjEzMjkiIHkyPSIxMjciLz48bGluZSB4MT0iMTAwNyIgeTE9IjE3MCIgeDI9IjU4NCIgeTI9IjMxMiIvPjxsaW5lIHgxPSIxMDA3IiB5MT0iMTcwIiB4Mj0iMjE4IiB5Mj0iMTI0Ii8+PGxpbmUgeDE9IjEwMDciIHkxPSIxNzAiIHgyPSI0MDEiIHkyPSIxMjgiLz48bGluZSB4MT0iMTAwNyIgeTE9IjE3MCIgeDI9IjE0MjUiIHkyPSIyMTkiLz48bGluZSB4MT0iMTAwNyIgeTE9IjE3MCIgeDI9IjExNDUiIHkyPSIxMjciLz48bGluZSB4MT0iMTAwNyIgeTE9IjE3MCIgeDI9IjE2MTEiIHkyPSIzMiIvPjxsaW5lIHgxPSIxMDA3IiB5MT0iMTcwIiB4Mj0iMTA1MSIgeTI9IjMxMiIvPjxsaW5lIHgxPSIxMDA3IiB5MT0iMTcwIiB4Mj0iMTYwOSIgeTI9IjEyOCIvPjxsaW5lIHgxPSIxMDA3IiB5MT0iMTcwIiB4Mj0iNTkxIiB5Mj0iMTIzIi8+PGxpbmUgeDE9IjEwMDciIHkxPSIxNzAiIHgyPSIxNTE2IiB5Mj0iMzEyIi8+PGxpbmUgeDE9IjEwMDciIHkxPSIxNzAiIHgyPSI0MDEiIHkyPSIzMTEiLz48L2c+PGcgaWQ9IldUR2dycCI+PGcgZmlsbD0iIzFmNzdiNCI+PHVzZSBocmVmPSIjd3RnIiB4PSI3NzQiIHk9IjIxOCIvPjx1c2UgaHJlZj0iI3d0ZyIgeD0iNTg3IiB5PSIyMTgiLz48dXNlIGhyZWY9IiN3dGciIHg9IjY4MSIgeT0iMjE4Ii8+PHVzZSBocmVmPSIjd3RnIiB4PSI2ODEiIHk9IjEyNiIvPjwvZz48ZyBmaWxsPSIjOGM1NjRiIj48dXNlIGhyZWY9IiN3dGciIHg9Ijg2NyIgeT0iMTI1Ii8+PHVzZSBocmVmPSIjd3RnIiB4PSI5NTciIHk9IjEyNyIvPjwvZz48ZyBmaWxsPSIjZjdiNmQyIj48dXNlIGhyZWY9IiN3dGciIHg9IjE3OTQiIHk9IjEyNiIvPjx1c2UgaHJlZj0iI3d0ZyIgeD0iMTg4OCIgeT0iMTI1Ii8+PHVzZSBocmVmPSIjd3RnIiB4PSIxNzAyIiB5PSIxMjciLz48dXNlIGhyZWY9IiN3dGciIHg9IjE2MDkiIHk9IjEyOCIvPjwvZz48ZyBmaWxsPSIjYzViMGQ1Ij48dXNlIGhyZWY9IiN3dGciIHg9IjE3OTgiIHk9IjMwIi8+PHVzZSBocmVmPSIjd3RnIiB4PSIxNjExIiB5PSIzMiIvPjx1c2UgaHJlZj0iI3d0ZyIgeD0iMTcwMiIgeT0iMzAiLz48dXNlIGhyZWY9IiN3dGciIHg9IjE4ODYiIHk9IjMwIi8+PC9nPjxnIGZpbGw9IiNmZmJiNzgiPjx1c2UgaHJlZj0iI3d0ZyIgeD0iMTE0NSIgeT0iMjE5Ii8+PHVzZSBocmVmPSIjd3RnIiB4PSIxMjM5IiB5PSIyMTciLz48dXNlIGhyZWY9IiN3dGciIHg9IjEzMzMiIHk9IjIxNiIvPjx1c2UgaHJlZj0iI3d0ZyIgeD0iMTA1MiIgeT0iMjIzIi8+PC9nPjxnIGZpbGw9IiM3ZjdmN2YiPjx1c2UgaHJlZj0iI3d0ZyIgeD0iMTYxMCIgeT0iMzEyIi8+PHVzZSBocmVmPSIjd3RnIiB4PSIxNzAzIiB5PSIzMTIiLz48dXNlIGhyZWY9IiN3dGciIHg9IjE3OTUiIHk9IjMxMiIvPjx1c2UgaHJlZj0iI3d0ZyIgeD0iMTUxNiIgeT0iMzEyIi8+PC9nPjxnIGZpbGw9IiNjNDljOTQiPjx1c2UgaHJlZj0iI3d0ZyIgeD0iMTE0MyIgeT0iMzEyIi8+PHVzZSBocmVmPSIjd3RnIiB4PSIxMjM5IiB5PSIzMTIiLz48dXNlIGhyZWY9IiN3dGciIHg9IjEzMjciIHk9IjMxMiIvPjx1c2UgaHJlZj0iI3d0ZyIgeD0iMTA1MSIgeT0iMzEyIi8+PC9nPjxnIGZpbGw9IiNhZWM3ZTgiPjx1c2UgaHJlZj0iI3d0ZyIgeD0iMTYxMSIgeT0iMjE4Ii8+PHVzZSBocmVmPSIjd3RnIiB4PSIxNzAyIiB5PSIyMjAiLz48dXNlIGhyZWY9IiN3dGciIHg9IjE4OTAiIHk9IjIxOCIvPjx1c2UgaHJlZj0iI3d0ZyIgeD0iMTc5NSIgeT0iMjIwIi8+PC9nPjxnIGZpbGw9IiNmZjdmMGUiPjx1c2UgaHJlZj0iI3d0ZyIgeD0iNDAxIiB5PSIxMjgiLz48dXNlIGhyZWY9IiN3dGciIHg9IjMwOSIgeT0iMTI2Ii8+PHVzZSBocmVmPSIjd3RnIiB4PSIzMDgiIHk9IjIxOCIvPjx1c2UgaHJlZj0iI3d0ZyIgeD0iMjE1IiB5PSIyMTgiLz48L2c+PGcgZmlsbD0iI2UzNzdjMiI+PHVzZSBocmVmPSIjd3RnIiB4PSI0OTMiIHk9IjIyMCIvPjx1c2UgaHJlZj0iI3d0ZyIgeD0iNTg0IiB5PSIzMTIiLz48dXNlIGhyZWY9IiN3dGciIHg9IjQwMyIgeT0iMjIwIi8+PHVzZSBocmVmPSIjd3RnIiB4PSI0OTUiIHk9IjMxMiIvPjwvZz48ZyBmaWxsPSIjMmNhMDJjIj48dXNlIGhyZWY9IiN3dGciIHg9IjEwNTEiIHk9IjEyNSIvPjwvZz48ZyBmaWxsPSIjZmY5ODk2Ij48dXNlIGhyZWY9IiN3dGciIHg9IjEzMzEiIHk9IjM1Ii8+PHVzZSBocmVmPSIjd3RnIiB4PSIxMTQ1IiB5PSIxMjciLz48dXNlIGhyZWY9IiN3dGciIHg9IjEyMzgiIHk9IjMyIi8+PHVzZSBocmVmPSIjd3RnIiB4PSIxMjM3IiB5PSIxMjciLz48L2c+PGcgZmlsbD0iIzk4ZGY4YSI+PHVzZSBocmVmPSIjd3RnIiB4PSIxNDIzIiB5PSIzNCIvPjx1c2UgaHJlZj0iI3d0ZyIgeD0iMTMyOSIgeT0iMTI3Ii8+PHVzZSBocmVmPSIjd3RnIiB4PSIxNDIzIiB5PSIxMjMiLz48dXNlIGhyZWY9IiN3dGciIHg9IjE1MTYiIHk9IjMyIi8+PC9nPjxnIGZpbGw9IiMxN2JlY2YiPjx1c2UgaHJlZj0iI3d0ZyIgeD0iMzEwIiB5PSIzMiIvPjx1c2UgaHJlZj0iI3d0ZyIgeD0iNDk1IiB5PSIxMjMiLz48dXNlIGhyZWY9IiN3dGciIHg9IjU5MSIgeT0iMTIzIi8+PHVzZSBocmVmPSIjd3RnIiB4PSI0MDQiIHk9IjMxIi8+PC9nPjxnIGZpbGw9IiNiY2JkMjIiPjx1c2UgaHJlZj0iI3d0ZyIgeD0iMTIyIiB5PSIxMjYiLz48dXNlIGhyZWY9IiN3dGciIHg9IjEyMyIgeT0iMjE2Ii8+PHVzZSBocmVmPSIjd3RnIiB4PSIzMCIgeT0iMjE2Ii8+PHVzZSBocmVmPSIjd3RnIiB4PSIzMCIgeT0iMTI0Ii8+PC9nPjxnIGZpbGw9IiNkNjI3MjgiPjx1c2UgaHJlZj0iI3d0ZyIgeD0iMjE4IiB5PSIxMjQiLz48dXNlIGhyZWY9IiN3dGciIHg9IjMyIiB5PSIzMCIvPjx1c2UgaHJlZj0iI3d0ZyIgeD0iMTIzIiB5PSIzMiIvPjx1c2UgaHJlZj0iI3d0ZyIgeD0iMjE1IiB5PSIzMiIvPjwvZz48ZyBmaWxsPSIjOTQ2N2JkIj48dXNlIGhyZWY9IiN3dGciIHg9Ijk1OCIgeT0iMjIwIi8+PC9nPjxnIGZpbGw9IiNjN2M3YzciPjx1c2UgaHJlZj0iI3d0ZyIgeD0iMTIyIiB5PSIzMTEiLz48dXNlIGhyZWY9IiN3dGciIHg9IjIxNyIgeT0iMzExIi8+PHVzZSBocmVmPSIjd3RnIiB4PSI0MDEiIHk9IjMxMSIvPjx1c2UgaHJlZj0iI3d0ZyIgeD0iMzA2IiB5PSIzMTEiLz48L2c+PGcgZmlsbD0iI2RiZGI4ZCI+PHVzZSBocmVmPSIjd3RnIiB4PSIxNTE4IiB5PSIxMjYiLz48dXNlIGhyZWY9IiN3dGciIHg9IjE0MjUiIHk9IjMxMiIvPjx1c2UgaHJlZj0iI3d0ZyIgeD0iMTUxOCIgeT0iMjE5Ii8+PHVzZSBocmVmPSIjd3RnIiB4PSIxNDI1IiB5PSIyMTkiLz48L2c+PGcgZmlsbD0iIzllZGFlNSI+PHVzZSBocmVmPSIjd3RnIiB4PSI4NjciIHk9IjMxMiIvPjx1c2UgaHJlZj0iI3d0ZyIgeD0iOTU5IiB5PSIzMTIiLz48dXNlIGhyZWY9IiN3dGciIHg9IjY4MCIgeT0iMzEyIi8+PHVzZSBocmVmPSIjd3RnIiB4PSI3NzIiIHk9IjMxMiIvPjwvZz48L2c+PGcgaWQ9Ik9TU2dycCI+PHVzZSBocmVmPSIjb3NzIiB4PSI5OTYuNSIgeT0iMTU5LjUiLz48L2c+PC9nPjx0ZXh0IGZpbHRlcj0idXJsKCNiZ190ZXh0Ym94KSIgdGV4dC1hbmNob3I9ImVuZCIgZm9udC1mYW1pbHk9InNhbnMtc2VyaWYiIGZvbnQtc2l6ZT0iNDAiIGZpbGw9IndoaXRlIiB4PSIxODkwIiB5PSIzMTIiPjx0c3BhbiB4PSIxODkwIiBkeT0iLTAuMGVtIj4mIzkzMTsmIzk1NTsgPSAxMzY2ODQuMCBtPC90c3Bhbj48dHNwYW4geD0iMTg5MCIgZHk9Ii0xLjNlbSI+KCsyKSAmIzk0NTs6IDIwPC90c3Bhbj48dHNwYW4geD0iMTg5MCIgZHk9Ii0xLjNlbSI+JiM5NTQ7ID0gNCwgVCA9IDcyPC90c3Bhbj48L3RleHQ+PC9zdmc+\"/>"
      ],
      "text/plain": [
       "<__main__.SvgB64Img at 0x2649a644eb0>"
      ]
     },
     "execution_count": 69,
     "metadata": {},
     "output_type": "execute_result"
    }
   ],
   "source": [
    "a = SvgB64Img(_65.data)\n",
    "a"
   ]
  },
  {
   "cell_type": "code",
   "execution_count": 63,
   "id": "85328e04-b0fa-4a54-936a-a110e245a10a",
   "metadata": {
    "execution": {
     "iopub.execute_input": "2025-03-10T19:18:59.513913Z",
     "iopub.status.busy": "2025-03-10T19:18:59.512912Z",
     "iopub.status.idle": "2025-03-10T19:18:59.522912Z",
     "shell.execute_reply": "2025-03-10T19:18:59.522912Z",
     "shell.execute_reply.started": "2025-03-10T19:18:59.512912Z"
    }
   },
   "outputs": [
    {
     "name": "stdout",
     "output_type": "stream",
     "text": [
      "init A\n"
     ]
    }
   ],
   "source": [
    "a = A(_46.data)"
   ]
  },
  {
   "cell_type": "code",
   "execution_count": 64,
   "id": "c8bf667f-cbb7-4679-9f6e-7a9f7633b2cd",
   "metadata": {
    "execution": {
     "iopub.execute_input": "2025-03-10T19:19:00.753842Z",
     "iopub.status.busy": "2025-03-10T19:19:00.753842Z",
     "iopub.status.idle": "2025-03-10T19:19:00.766351Z",
     "shell.execute_reply": "2025-03-10T19:19:00.766062Z",
     "shell.execute_reply.started": "2025-03-10T19:19:00.753842Z"
    }
   },
   "outputs": [
    {
     "data": {
      "text/html": [
       "<img src=\"data:image/svg+xml;base64,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\"/>"
      ],
      "text/plain": [
       "<__main__.A at 0x2649a16c550>"
      ]
     },
     "execution_count": 64,
     "metadata": {},
     "output_type": "execute_result"
    }
   ],
   "source": [
    "a"
   ]
  },
  {
   "cell_type": "code",
   "execution_count": null,
   "id": "3a9177a7-3a3b-4ba8-a1f0-bbda223adf6a",
   "metadata": {},
   "outputs": [],
   "source": []
  },
  {
   "cell_type": "code",
   "execution_count": null,
   "id": "66a4033a-ef42-4988-9bf4-9a22d7b7db09",
   "metadata": {},
   "outputs": [],
   "source": []
  },
  {
   "cell_type": "code",
   "execution_count": null,
   "id": "c829c91d-e1b1-42fd-b3c1-a7ffc9f31025",
   "metadata": {},
   "outputs": [],
   "source": []
  },
  {
   "cell_type": "code",
   "execution_count": 25,
   "id": "0c6d454b-9252-4957-89e0-191b8f0453ca",
   "metadata": {
    "execution": {
     "iopub.execute_input": "2025-03-10T19:07:37.441999Z",
     "iopub.status.busy": "2025-03-10T19:07:37.441999Z",
     "iopub.status.idle": "2025-03-10T19:07:37.451979Z",
     "shell.execute_reply": "2025-03-10T19:07:37.451979Z",
     "shell.execute_reply.started": "2025-03-10T19:07:37.441999Z"
    }
   },
   "outputs": [],
   "source": [
    "example='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'"
   ]
  },
  {
   "cell_type": "code",
   "execution_count": null,
   "id": "bb95601e-4fd9-4865-97cc-157edd29c659",
   "metadata": {},
   "outputs": [],
   "source": []
  },
  {
   "cell_type": "code",
   "execution_count": 26,
   "id": "21cc5521-8dff-4379-9229-5c30940c99e5",
   "metadata": {
    "execution": {
     "iopub.execute_input": "2025-03-10T19:07:38.378576Z",
     "iopub.status.busy": "2025-03-10T19:07:38.378576Z",
     "iopub.status.idle": "2025-03-10T19:07:38.384308Z",
     "shell.execute_reply": "2025-03-10T19:07:38.384308Z",
     "shell.execute_reply.started": "2025-03-10T19:07:38.378576Z"
    },
    "scrolled": true
   },
   "outputs": [
    {
     "data": {
      "text/plain": [
       "'<svg viewBox=\"0 0 167.764 167.764\" xmlns=\"http://www.w3.org/2000/svg\">\\n<path d=\"M38.6274,38.6274 61.2548,61.2548 38.6274,83.8822 Z\" stroke=\"none\" fill-opacity=\"0.75\" fill=\"#4848FF\" />\\n<path d=\"M38.6274,38.6274 61.2548,61.2548 38.6274,83.8822 Z\" stroke=\"black\" fill=\"none\" />\\n<path d=\"M83.8822,38.6274 129.137,38.6274 106.51,61.2548 Z\" stroke=\"none\" fill-opacity=\"0.75\" fill=\"#FF4444\" />\\n<path d=\"M83.8822,38.6274 129.137,38.6274 106.51,61.2548 Z\" stroke=\"black\" fill=\"none\" />\\n<path d=\"M129.137,38.6274 151.764,61.2548 129.137,83.8822 106.51,61.2548 Z\" stroke=\"none\" fill-opacity=\"0.75\" fill=\"#4848FF\" />\\n<path d=\"M129.137,38.6274 151.764,61.2548 129.137,83.8822 106.51,61.2548 Z\" stroke=\"black\" fill=\"none\" />\\n<path d=\"M61.2548,61.2548 83.8822,83.8822 61.2548,106.51 38.6274,83.8822 Z\" stroke=\"none\" fill-opacity=\"0.75\" fill=\"#FF4444\" />\\n<path d=\"M61.2548,61.2548 83.8822,83.8822 61.2548,106.51 38.6274,83.8822 Z\" stroke=\"black\" fill=\"none\" />\\n<path d=\"M83.8822,83.8822 106.51,106.51 83.8822,129.137 61.2548,106.51 Z\" stroke=\"none\" fill-opacity=\"0.75\" fill=\"#4848FF\" />\\n<path d=\"M83.8822,83.8822 106.51,106.51 83.8822,129.137 61.2548,106.51 Z\" stroke=\"black\" fill=\"none\" />\\n<path d=\"M106.51,106.51 129.137,129.137 106.51,151.764 83.8822,129.137 Z\" stroke=\"none\" fill-opacity=\"0.75\" fill=\"#FF4444\" />\\n<path d=\"M106.51,106.51 129.137,129.137 106.51,151.764 83.8822,129.137 Z\" stroke=\"black\" fill=\"none\" />\\n<path d=\"M61.2548,16 83.8822,38.6274 61.2548,61.2548 38.6274,38.6274 Z\" stroke=\"none\" fill-opacity=\"0.75\" fill=\"#FF4444\" />\\n<path d=\"M61.2548,16 83.8822,38.6274 61.2548,61.2548 38.6274,38.6274 Z\" stroke=\"black\" fill=\"none\" />\\n<path d=\"M83.8822,38.6274 106.51,61.2548 83.8822,83.8822 61.2548,61.2548 Z\" stroke=\"none\" fill-opacity=\"0.75\" fill=\"#4848FF\" />\\n<path d=\"M83.8822,38.6274 106.51,61.2548 83.8822,83.8822 61.2548,61.2548 Z\" stroke=\"black\" fill=\"none\" />\\n<path d=\"M106.51,61.2548 129.137,83.8822 106.51,106.51 83.8822,83.8822 Z\" stroke=\"none\" fill-opacity=\"0.75\" fill=\"#FF4444\" />\\n<path d=\"M106.51,61.2548 129.137,83.8822 106.51,106.51 83.8822,83.8822 Z\" stroke=\"black\" fill=\"none\" />\\n<path d=\"M38.6274,83.8822 61.2548,106.51 38.6274,129.137 16,106.51 Z\" stroke=\"none\" fill-opacity=\"0.75\" fill=\"#4848FF\" />\\n<path d=\"M38.6274,83.8822 61.2548,106.51 38.6274,129.137 16,106.51 Z\" stroke=\"black\" fill=\"none\" />\\n<path d=\"M61.2548,106.51 83.8822,129.137 38.6274,129.137 Z\" stroke=\"none\" fill-opacity=\"0.75\" fill=\"#FF4444\" />\\n<path d=\"M61.2548,106.51 83.8822,129.137 38.6274,129.137 Z\" stroke=\"black\" fill=\"none\" />\\n<path d=\"M129.137,83.8822 129.137,129.137 106.51,106.51 Z\" stroke=\"none\" fill-opacity=\"0.75\" fill=\"#4848FF\" />\\n<path d=\"M129.137,83.8822 129.137,129.137 106.51,106.51 Z\" stroke=\"black\" fill=\"none\" />\\n<path d=\"M55.2548,16 a 6 6 0 0 0 12 0 a 6 6 0 0 0 -12 0\" stroke=\"none\" fill-opacity=\"1\" fill=\"#FF4444\" />\\n<path d=\"M55.2548,16 a 6 6 0 0 0 12 0 a 6 6 0 0 0 -12 0\" stroke=\"black\" fill=\"none\" />\\n<path d=\"M10,106.51 a 6 6 0 0 0 12 0 a 6 6 0 0 0 -12 0\" stroke=\"none\" fill-opacity=\"1\" fill=\"#4848FF\" />\\n<path d=\"M10,106.51 a 6 6 0 0 0 12 0 a 6 6 0 0 0 -12 0\" stroke=\"black\" fill=\"none\" />\\n<path d=\"M145.764,61.2548 a 6 6 0 0 0 12 0 a 6 6 0 0 0 -12 0\" stroke=\"none\" fill-opacity=\"1\" fill=\"#4848FF\" />\\n<path d=\"M145.764,61.2548 a 6 6 0 0 0 12 0 a 6 6 0 0 0 -12 0\" stroke=\"black\" fill=\"none\" />\\n<path d=\"M100.51,151.764 a 6 6 0 0 0 12 0 a 6 6 0 0 0 -12 0\" stroke=\"none\" fill-opacity=\"1\" fill=\"#FF4444\" />\\n<path d=\"M100.51,151.764 a 6 6 0 0 0 12 0 a 6 6 0 0 0 -12 0\" stroke=\"black\" fill=\"none\" />\\n<circle cx=\"38.6274\" cy=\"38.6274\" r=\"2\" stroke=\"none\" fill=\"black\" />\\n<circle cx=\"61.2548\" cy=\"16\" r=\"2\" stroke=\"none\" fill=\"black\" />\\n<circle cx=\"83.8822\" cy=\"38.6274\" r=\"2\" stroke=\"none\" fill=\"black\" />\\n<circle cx=\"129.137\" cy=\"38.6274\" r=\"2\" stroke=\"none\" fill=\"black\" />\\n<circle cx=\"38.6274\" cy=\"83.8822\" r=\"2\" stroke=\"none\" fill=\"black\" />\\n<circle cx=\"61.2548\" cy=\"61.2548\" r=\"2\" stroke=\"none\" fill=\"black\" />\\n<circle cx=\"83.8822\" cy=\"83.8822\" r=\"2\" stroke=\"none\" fill=\"black\" />\\n<circle cx=\"106.51\" cy=\"61.2548\" r=\"2\" stroke=\"none\" fill=\"black\" />\\n<circle cx=\"129.137\" cy=\"83.8822\" r=\"2\" stroke=\"none\" fill=\"black\" />\\n<circle cx=\"151.764\" cy=\"61.2548\" r=\"2\" stroke=\"none\" fill=\"black\" />\\n<circle cx=\"16\" cy=\"106.51\" r=\"2\" stroke=\"none\" fill=\"black\" />\\n<circle cx=\"38.6274\" cy=\"129.137\" r=\"2\" stroke=\"none\" fill=\"black\" />\\n<circle cx=\"61.2548\" cy=\"106.51\" r=\"2\" stroke=\"none\" fill=\"black\" />\\n<circle cx=\"83.8822\" cy=\"129.137\" r=\"2\" stroke=\"none\" fill=\"black\" />\\n<circle cx=\"106.51\" cy=\"106.51\" r=\"2\" stroke=\"none\" fill=\"black\" />\\n<circle cx=\"129.137\" cy=\"129.137\" r=\"2\" stroke=\"none\" fill=\"black\" />\\n<circle cx=\"106.51\" cy=\"151.764\" r=\"2\" stroke=\"none\" fill=\"black\" />\\n</svg>'"
      ]
     },
     "execution_count": 26,
     "metadata": {},
     "output_type": "execute_result"
    }
   ],
   "source": [
    "base64.b64decode(example).decode()"
   ]
  },
  {
   "cell_type": "code",
   "execution_count": null,
   "id": "7c94aaab-dfbe-4ac9-a31e-fb78a144c3d0",
   "metadata": {},
   "outputs": [],
   "source": [
    "data:image/svg+xml;base64,"
   ]
  },
  {
   "cell_type": "code",
   "execution_count": 22,
   "id": "ecb10866-9806-4ccb-8e21-bb87a134f8a1",
   "metadata": {
    "execution": {
     "iopub.execute_input": "2025-03-10T19:05:46.126063Z",
     "iopub.status.busy": "2025-03-10T19:05:46.125065Z",
     "iopub.status.idle": "2025-03-10T19:05:46.139278Z",
     "shell.execute_reply": "2025-03-10T19:05:46.139278Z",
     "shell.execute_reply.started": "2025-03-10T19:05:46.126063Z"
    },
    "scrolled": true
   },
   "outputs": [
    {
     "data": {
      "text/plain": [
       "'<svg xmlns=\"http://www.w3.org/2000/svg\" viewBox=\"0 0 1920 342\"><defs><filter x=\"-5%\" y=\"-5%\" id=\"bg_textbox\" width=\"110%\" height=\"110%\"><feFlood flood-opacity=\"0.7\" flood-color=\"#111\" result=\"bg\"/><feMerge><feMergeNode in=\"bg\"/><feMergeNode in=\"SourceGraphic\"/></feMerge></filter><circle stroke=\"none\" stroke-width=\"2\" id=\"wtg\" r=\"12\"/><rect stroke=\"none\" stroke-width=\"2\" id=\"oss\" width=\"21\" height=\"21\" fill=\"lawngreen\"/></defs><g id=\"sandbank\"><path stroke=\"silver\" stroke-dasharray=\"15 7\" stroke-width=\"2\" id=\"border\" d=\"M122 311 30 216 30 124 32 30 123 32 215 32 310 32 404 31 1238 32 1331 35 1423 34 1516 32 1611 32 1702 30 1798 30 1886 30 1890 218 1795 312 1703 312 1610 312 1516 312 1425 312 1327 312 1239 312 1143 312 1051 312 959 312 867 312 772 312 680 312 584 312 495 312 401 311 306 311 217 311z\" fill-rule=\"evenodd\" fill=\"#111\"/><g stroke=\"crimson\" stroke-width=\"4\" id=\"edges_unspecified\"><line x1=\"681\" y1=\"218\" x2=\"774\" y2=\"218\"/><line x1=\"1007\" y1=\"170\" x2=\"958\" y2=\"220\"/><line x1=\"1007\" y1=\"170\" x2=\"1051\" y2=\"125\"/><line x1=\"1007\" y1=\"170\" x2=\"957\" y2=\"127\"/><line x1=\"1007\" y1=\"170\" x2=\"1052\" y2=\"223\"/><line x1=\"1007\" y1=\"170\" x2=\"959\" y2=\"312\"/><line x1=\"867\" y1=\"125\" x2=\"957\" y2=\"127\"/><line x1=\"1702\" y1=\"127\" x2=\"1794\" y2=\"126\"/><line x1=\"1794\" y1=\"126\" x2=\"1888\" y2=\"125\"/><line x1=\"1886\" y1=\"30\" x2=\"1798\" y2=\"30\"/><line x1=\"1702\" y1=\"30\" x2=\"1798\" y2=\"30\"/><line x1=\"1052\" y1=\"223\" x2=\"1145\" y2=\"219\"/><line x1=\"1145\" y1=\"219\" x2=\"1239\" y2=\"217\"/><line x1=\"1239\" y1=\"217\" x2=\"1333\" y2=\"216\"/><line x1=\"1610\" y1=\"312\" x2=\"1703\" y2=\"312\"/><line x1=\"1516\" y1=\"312\" x2=\"1610\" y2=\"312\"/><line x1=\"1795\" y1=\"312\" x2=\"1703\" y2=\"312\"/><line x1=\"1143\" y1=\"312\" x2=\"1239\" y2=\"312\"/><line x1=\"1051\" y1=\"312\" x2=\"1143\" y2=\"312\"/><line x1=\"1239\" y1=\"312\" x2=\"1327\" y2=\"312\"/><line x1=\"1611\" y1=\"218\" x2=\"1702\" y2=\"220\"/><line x1=\"1702\" y1=\"220\" x2=\"1795\" y2=\"220\"/><line x1=\"309\" y1=\"126\" x2=\"401\" y2=\"128\"/><line x1=\"403\" y1=\"220\" x2=\"493\" y2=\"220\"/><line x1=\"493\" y1=\"220\" x2=\"495\" y2=\"312\"/><line x1=\"1238\" y1=\"32\" x2=\"1331\" y2=\"35\"/><line x1=\"1423\" y1=\"34\" x2=\"1516\" y2=\"32\"/><line x1=\"1423\" y1=\"123\" x2=\"1423\" y2=\"34\"/><line x1=\"1890\" y1=\"218\" x2=\"1795\" y2=\"220\"/><line x1=\"1329\" y1=\"127\" x2=\"1423\" y2=\"123\"/><line x1=\"404\" y1=\"31\" x2=\"310\" y2=\"32\"/><line x1=\"30\" y1=\"124\" x2=\"122\" y2=\"126\"/><line x1=\"122\" y1=\"126\" x2=\"123\" y2=\"216\"/><line x1=\"215\" y1=\"32\" x2=\"218\" y2=\"124\"/><line x1=\"1145\" y1=\"127\" x2=\"1237\" y2=\"127\"/><line x1=\"309\" y1=\"126\" x2=\"308\" y2=\"218\"/><line x1=\"215\" y1=\"218\" x2=\"308\" y2=\"218\"/><line x1=\"1611\" y1=\"32\" x2=\"1702\" y2=\"30\"/><line x1=\"1609\" y1=\"128\" x2=\"1702\" y2=\"127\"/><line x1=\"1238\" y1=\"32\" x2=\"1237\" y2=\"127\"/><line x1=\"122\" y1=\"311\" x2=\"217\" y2=\"311\"/><line x1=\"217\" y1=\"311\" x2=\"306\" y2=\"311\"/><line x1=\"32\" y1=\"30\" x2=\"123\" y2=\"32\"/><line x1=\"215\" y1=\"32\" x2=\"123\" y2=\"32\"/><line x1=\"495\" y1=\"123\" x2=\"591\" y2=\"123\"/><line x1=\"404\" y1=\"31\" x2=\"495\" y2=\"123\"/><line x1=\"587\" y1=\"218\" x2=\"681\" y2=\"218\"/><line x1=\"495\" y1=\"312\" x2=\"584\" y2=\"312\"/><line x1=\"1518\" y1=\"126\" x2=\"1518\" y2=\"219\"/><line x1=\"1425\" y1=\"312\" x2=\"1425\" y2=\"219\"/><line x1=\"681\" y1=\"126\" x2=\"681\" y2=\"218\"/><line x1=\"1425\" y1=\"219\" x2=\"1518\" y2=\"219\"/><line x1=\"306\" y1=\"311\" x2=\"401\" y2=\"311\"/><line x1=\"30\" y1=\"216\" x2=\"123\" y2=\"216\"/><line x1=\"772\" y1=\"312\" x2=\"867\" y2=\"312\"/><line x1=\"959\" y1=\"312\" x2=\"867\" y2=\"312\"/><line x1=\"680\" y1=\"312\" x2=\"772\" y2=\"312\"/></g><g stroke=\"red\" stroke-dasharray=\"18 15\" stroke-width=\"4\" id=\"edges_tentative\"><line x1=\"1007\" y1=\"170\" x2=\"774\" y2=\"218\"/><line x1=\"1007\" y1=\"170\" x2=\"1611\" y2=\"218\"/><line x1=\"1007\" y1=\"170\" x2=\"123\" y2=\"216\"/><line x1=\"1007\" y1=\"170\" x2=\"1329\" y2=\"127\"/><line x1=\"1007\" y1=\"170\" x2=\"584\" y2=\"312\"/><line x1=\"1007\" y1=\"170\" x2=\"218\" y2=\"124\"/><line x1=\"1007\" y1=\"170\" x2=\"401\" y2=\"128\"/><line x1=\"1007\" y1=\"170\" x2=\"1425\" y2=\"219\"/><line x1=\"1007\" y1=\"170\" x2=\"1145\" y2=\"127\"/><line x1=\"1007\" y1=\"170\" x2=\"1611\" y2=\"32\"/><line x1=\"1007\" y1=\"170\" x2=\"1051\" y2=\"312\"/><line x1=\"1007\" y1=\"170\" x2=\"1609\" y2=\"128\"/><line x1=\"1007\" y1=\"170\" x2=\"591\" y2=\"123\"/><line x1=\"1007\" y1=\"170\" x2=\"1516\" y2=\"312\"/><line x1=\"1007\" y1=\"170\" x2=\"401\" y2=\"311\"/></g><g id=\"WTGgrp\"><g fill=\"#1f77b4\"><use href=\"#wtg\" x=\"774\" y=\"218\"/><use href=\"#wtg\" x=\"587\" y=\"218\"/><use href=\"#wtg\" x=\"681\" y=\"218\"/><use href=\"#wtg\" x=\"681\" y=\"126\"/></g><g fill=\"#8c564b\"><use href=\"#wtg\" x=\"867\" y=\"125\"/><use href=\"#wtg\" x=\"957\" y=\"127\"/></g><g fill=\"#f7b6d2\"><use href=\"#wtg\" x=\"1794\" y=\"126\"/><use href=\"#wtg\" x=\"1888\" y=\"125\"/><use href=\"#wtg\" x=\"1702\" y=\"127\"/><use href=\"#wtg\" x=\"1609\" y=\"128\"/></g><g fill=\"#c5b0d5\"><use href=\"#wtg\" x=\"1798\" y=\"30\"/><use href=\"#wtg\" x=\"1611\" y=\"32\"/><use href=\"#wtg\" x=\"1702\" y=\"30\"/><use href=\"#wtg\" x=\"1886\" y=\"30\"/></g><g fill=\"#ffbb78\"><use href=\"#wtg\" x=\"1145\" y=\"219\"/><use href=\"#wtg\" x=\"1239\" y=\"217\"/><use href=\"#wtg\" x=\"1333\" y=\"216\"/><use href=\"#wtg\" x=\"1052\" y=\"223\"/></g><g fill=\"#7f7f7f\"><use href=\"#wtg\" x=\"1610\" y=\"312\"/><use href=\"#wtg\" x=\"1703\" y=\"312\"/><use href=\"#wtg\" x=\"1795\" y=\"312\"/><use href=\"#wtg\" x=\"1516\" y=\"312\"/></g><g fill=\"#c49c94\"><use href=\"#wtg\" x=\"1143\" y=\"312\"/><use href=\"#wtg\" x=\"1239\" y=\"312\"/><use href=\"#wtg\" x=\"1327\" y=\"312\"/><use href=\"#wtg\" x=\"1051\" y=\"312\"/></g><g fill=\"#aec7e8\"><use href=\"#wtg\" x=\"1611\" y=\"218\"/><use href=\"#wtg\" x=\"1702\" y=\"220\"/><use href=\"#wtg\" x=\"1890\" y=\"218\"/><use href=\"#wtg\" x=\"1795\" y=\"220\"/></g><g fill=\"#ff7f0e\"><use href=\"#wtg\" x=\"401\" y=\"128\"/><use href=\"#wtg\" x=\"309\" y=\"126\"/><use href=\"#wtg\" x=\"308\" y=\"218\"/><use href=\"#wtg\" x=\"215\" y=\"218\"/></g><g fill=\"#e377c2\"><use href=\"#wtg\" x=\"493\" y=\"220\"/><use href=\"#wtg\" x=\"584\" y=\"312\"/><use href=\"#wtg\" x=\"403\" y=\"220\"/><use href=\"#wtg\" x=\"495\" y=\"312\"/></g><g fill=\"#2ca02c\"><use href=\"#wtg\" x=\"1051\" y=\"125\"/></g><g fill=\"#ff9896\"><use href=\"#wtg\" x=\"1331\" y=\"35\"/><use href=\"#wtg\" x=\"1145\" y=\"127\"/><use href=\"#wtg\" x=\"1238\" y=\"32\"/><use href=\"#wtg\" x=\"1237\" y=\"127\"/></g><g fill=\"#98df8a\"><use href=\"#wtg\" x=\"1423\" y=\"34\"/><use href=\"#wtg\" x=\"1329\" y=\"127\"/><use href=\"#wtg\" x=\"1423\" y=\"123\"/><use href=\"#wtg\" x=\"1516\" y=\"32\"/></g><g fill=\"#17becf\"><use href=\"#wtg\" x=\"310\" y=\"32\"/><use href=\"#wtg\" x=\"495\" y=\"123\"/><use href=\"#wtg\" x=\"591\" y=\"123\"/><use href=\"#wtg\" x=\"404\" y=\"31\"/></g><g fill=\"#bcbd22\"><use href=\"#wtg\" x=\"122\" y=\"126\"/><use href=\"#wtg\" x=\"123\" y=\"216\"/><use href=\"#wtg\" x=\"30\" y=\"216\"/><use href=\"#wtg\" x=\"30\" y=\"124\"/></g><g fill=\"#d62728\"><use href=\"#wtg\" x=\"218\" y=\"124\"/><use href=\"#wtg\" x=\"32\" y=\"30\"/><use href=\"#wtg\" x=\"123\" y=\"32\"/><use href=\"#wtg\" x=\"215\" y=\"32\"/></g><g fill=\"#9467bd\"><use href=\"#wtg\" x=\"958\" y=\"220\"/></g><g fill=\"#c7c7c7\"><use href=\"#wtg\" x=\"122\" y=\"311\"/><use href=\"#wtg\" x=\"217\" y=\"311\"/><use href=\"#wtg\" x=\"401\" y=\"311\"/><use href=\"#wtg\" x=\"306\" y=\"311\"/></g><g fill=\"#dbdb8d\"><use href=\"#wtg\" x=\"1518\" y=\"126\"/><use href=\"#wtg\" x=\"1425\" y=\"312\"/><use href=\"#wtg\" x=\"1518\" y=\"219\"/><use href=\"#wtg\" x=\"1425\" y=\"219\"/></g><g fill=\"#9edae5\"><use href=\"#wtg\" x=\"867\" y=\"312\"/><use href=\"#wtg\" x=\"959\" y=\"312\"/><use href=\"#wtg\" x=\"680\" y=\"312\"/><use href=\"#wtg\" x=\"772\" y=\"312\"/></g></g><g id=\"OSSgrp\"><use href=\"#oss\" x=\"996.5\" y=\"159.5\"/></g></g><text filter=\"url(#bg_textbox)\" text-anchor=\"end\" font-family=\"sans-serif\" font-size=\"40\" fill=\"white\" x=\"1890\" y=\"312\"><tspan x=\"1890\" dy=\"-0.0em\">&#931;&#955; = 136684.0 m</tspan><tspan x=\"1890\" dy=\"-1.3em\">(+2) &#945;: 20</tspan><tspan x=\"1890\" dy=\"-1.3em\">&#954; = 4, T = 72</tspan></text></svg>'"
      ]
     },
     "execution_count": 22,
     "metadata": {},
     "output_type": "execute_result"
    }
   ],
   "source": [
    "base64.b64decode(encoded).decode()"
   ]
  },
  {
   "cell_type": "code",
   "execution_count": null,
   "id": "0c45eef0-31ce-428e-a333-442e000c9f6c",
   "metadata": {},
   "outputs": [],
   "source": []
  },
  {
   "cell_type": "code",
   "execution_count": 37,
   "id": "e9450a61-a1d6-4033-ac41-9edabe467999",
   "metadata": {
    "execution": {
     "iopub.execute_input": "2025-03-10T19:11:50.904900Z",
     "iopub.status.busy": "2025-03-10T19:11:50.903904Z",
     "iopub.status.idle": "2025-03-10T19:11:50.920038Z",
     "shell.execute_reply": "2025-03-10T19:11:50.920038Z",
     "shell.execute_reply.started": "2025-03-10T19:11:50.904900Z"
    }
   },
   "outputs": [],
   "source": [
    "class A:\n",
    "    def __init__(self, data):\n",
    "        print(\"init A\")\n",
    "        self.data = data\n",
    "\n",
    "    def _repr_html_(self):\n",
    "        return f'<img src=\"data:image/svg+xml,{self.data}/>\"'"
   ]
  },
  {
   "cell_type": "code",
   "execution_count": 38,
   "id": "4740ac18-6732-4893-b408-73c3b29ad053",
   "metadata": {
    "execution": {
     "iopub.execute_input": "2025-03-10T19:11:51.373667Z",
     "iopub.status.busy": "2025-03-10T19:11:51.373667Z",
     "iopub.status.idle": "2025-03-10T19:11:51.389704Z",
     "shell.execute_reply": "2025-03-10T19:11:51.389359Z",
     "shell.execute_reply.started": "2025-03-10T19:11:51.373667Z"
    }
   },
   "outputs": [
    {
     "name": "stdout",
     "output_type": "stream",
     "text": [
      "init A\n"
     ]
    },
    {
     "data": {
      "text/html": [
       "<img src=\"data:image/svg+xml,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/>\""
      ],
      "text/plain": [
       "<__main__.A at 0x2649a87a560>"
      ]
     },
     "execution_count": 38,
     "metadata": {},
     "output_type": "execute_result"
    }
   ],
   "source": [
    "a = A(example)\n",
    "a"
   ]
  },
  {
   "cell_type": "code",
   "execution_count": 33,
   "id": "d0a1aa83-2a29-474b-bf35-7f98b1106286",
   "metadata": {
    "execution": {
     "iopub.execute_input": "2025-03-10T19:11:28.500284Z",
     "iopub.status.busy": "2025-03-10T19:11:28.500284Z",
     "iopub.status.idle": "2025-03-10T19:11:28.507528Z",
     "shell.execute_reply": "2025-03-10T19:11:28.507528Z",
     "shell.execute_reply.started": "2025-03-10T19:11:28.500284Z"
    }
   },
   "outputs": [
    {
     "data": {
      "text/html": [
       "<img src=\"data:image/svg+xml;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/>\""
      ],
      "text/plain": [
       "<__main__.A at 0x2649aa7beb0>"
      ]
     },
     "execution_count": 33,
     "metadata": {},
     "output_type": "execute_result"
    }
   ],
   "source": [
    "a"
   ]
  },
  {
   "cell_type": "code",
   "execution_count": 16,
   "id": "0a776056-f761-4587-bb7f-6e30b57743ac",
   "metadata": {
    "execution": {
     "iopub.execute_input": "2025-03-10T19:03:01.078929Z",
     "iopub.status.busy": "2025-03-10T19:03:01.078929Z",
     "iopub.status.idle": "2025-03-10T19:03:01.094149Z",
     "shell.execute_reply": "2025-03-10T19:03:01.093204Z",
     "shell.execute_reply.started": "2025-03-10T19:03:01.078929Z"
    }
   },
   "outputs": [
    {
     "name": "stdout",
     "output_type": "stream",
     "text": [
      "init A\n"
     ]
    }
   ],
   "source": [
    "a = A(encoded)"
   ]
  },
  {
   "cell_type": "code",
   "execution_count": 18,
   "id": "d0c9ef83-6859-4d8c-b595-4011a1047a1b",
   "metadata": {
    "execution": {
     "iopub.execute_input": "2025-03-10T19:03:17.400967Z",
     "iopub.status.busy": "2025-03-10T19:03:17.399962Z",
     "iopub.status.idle": "2025-03-10T19:03:17.408935Z",
     "shell.execute_reply": "2025-03-10T19:03:17.408935Z",
     "shell.execute_reply.started": "2025-03-10T19:03:17.400967Z"
    }
   },
   "outputs": [
    {
     "data": {
      "text/html": [
       "<img src=\"data:image/svg+xml;base64,b'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'/>\""
      ],
      "text/plain": [
       "<__main__.A at 0x26499e6baf0>"
      ]
     },
     "execution_count": 18,
     "metadata": {},
     "output_type": "execute_result"
    }
   ],
   "source": [
    "a"
   ]
  },
  {
   "cell_type": "code",
   "execution_count": 19,
   "id": "3ecdde53-2e61-4968-8b00-e1257c2aa156",
   "metadata": {
    "execution": {
     "iopub.execute_input": "2025-03-10T19:04:44.480084Z",
     "iopub.status.busy": "2025-03-10T19:04:44.479092Z",
     "iopub.status.idle": "2025-03-10T19:04:44.496736Z",
     "shell.execute_reply": "2025-03-10T19:04:44.496736Z",
     "shell.execute_reply.started": "2025-03-10T19:04:44.480084Z"
    }
   },
   "outputs": [],
   "source": [
    "class A:\n",
    "    def __init__(self):\n",
    "        print(\"init A\")\n",
    "\n",
    "    def _repr_html_(self):\n",
    "        return '<img src=\"data:image/svg+xml;base64,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\"/>'"
   ]
  },
  {
   "cell_type": "code",
   "execution_count": 20,
   "id": "004403b5-9df7-4552-9b80-2d8a1689a539",
   "metadata": {
    "execution": {
     "iopub.execute_input": "2025-03-10T19:04:45.261026Z",
     "iopub.status.busy": "2025-03-10T19:04:45.261026Z",
     "iopub.status.idle": "2025-03-10T19:04:45.280612Z",
     "shell.execute_reply": "2025-03-10T19:04:45.280612Z",
     "shell.execute_reply.started": "2025-03-10T19:04:45.261026Z"
    }
   },
   "outputs": [
    {
     "name": "stdout",
     "output_type": "stream",
     "text": [
      "init A\n"
     ]
    },
    {
     "data": {
      "text/html": [
       "<img src=\"data:image/svg+xml;base64,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\"/>"
      ],
      "text/plain": [
       "<__main__.A at 0x2649a87a050>"
      ]
     },
     "execution_count": 20,
     "metadata": {},
     "output_type": "execute_result"
    }
   ],
   "source": [
    "A()"
   ]
  },
  {
   "cell_type": "code",
   "execution_count": 17,
   "id": "de056bb5-dba8-47b2-82f2-1515a074cbca",
   "metadata": {
    "execution": {
     "iopub.execute_input": "2025-03-10T19:03:05.827059Z",
     "iopub.status.busy": "2025-03-10T19:03:05.826058Z",
     "iopub.status.idle": "2025-03-10T19:03:05.837797Z",
     "shell.execute_reply": "2025-03-10T19:03:05.837243Z",
     "shell.execute_reply.started": "2025-03-10T19:03:05.827059Z"
    }
   },
   "outputs": [
    {
     "data": {
      "text/plain": [
       "b'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'"
      ]
     },
     "execution_count": 17,
     "metadata": {},
     "output_type": "execute_result"
    }
   ],
   "source": [
    "a.data"
   ]
  },
  {
   "cell_type": "code",
   "execution_count": null,
   "id": "f066f8a7-abf9-4718-a4bc-ca3f74759593",
   "metadata": {},
   "outputs": [],
   "source": []
  },
  {
   "cell_type": "code",
   "execution_count": null,
   "id": "bb39eea9-6621-4b40-9d96-8bdde26f5fa0",
   "metadata": {},
   "outputs": [],
   "source": []
  },
  {
   "cell_type": "code",
   "execution_count": 6,
   "id": "5319c636-9e9f-417e-bdbb-fbe7a303f878",
   "metadata": {
    "editable": true,
    "execution": {
     "iopub.execute_input": "2025-03-10T18:36:40.109173Z",
     "iopub.status.busy": "2025-03-10T18:36:40.108172Z",
     "iopub.status.idle": "2025-03-10T18:36:43.596037Z",
     "shell.execute_reply": "2025-03-10T18:36:43.596037Z",
     "shell.execute_reply.started": "2025-03-10T18:36:40.109173Z"
    },
    "frozen": false
   },
   "outputs": [
    {
     "data": {
      "image/svg+xml": [
       "<svg xmlns=\"http://www.w3.org/2000/svg\" viewBox=\"0 0 1920 342\"><defs><circle stroke=\"none\" stroke-width=\"2\" id=\"wtg\" r=\"12\"/><rect stroke=\"none\" stroke-width=\"2\" id=\"oss\" width=\"21\" height=\"21\" fill=\"lawngreen\"/></defs><g id=\"sandbank\"><path stroke=\"silver\" stroke-dasharray=\"15 7\" stroke-width=\"2\" id=\"border\" d=\"M122 311 30 216 30 124 32 30 123 32 215 32 310 32 404 31 1238 32 1331 35 1423 34 1516 32 1611 32 1702 30 1798 30 1886 30 1890 218 1795 312 1703 312 1610 312 1516 312 1425 312 1327 312 1239 312 1143 312 1051 312 959 312 867 312 772 312 680 312 584 312 495 312 401 311 306 311 217 311z\" fill-rule=\"evenodd\" fill=\"#111\"/><g stroke=\"crimson\" stroke-width=\"4\" id=\"edges_unspecified\"><line x1=\"681\" y1=\"218\" x2=\"774\" y2=\"218\"/><line x1=\"1007\" y1=\"170\" x2=\"958\" y2=\"220\"/><line x1=\"1007\" y1=\"170\" x2=\"1051\" y2=\"125\"/><line x1=\"1007\" y1=\"170\" x2=\"957\" y2=\"127\"/><line x1=\"1007\" y1=\"170\" x2=\"1052\" y2=\"223\"/><line x1=\"1007\" y1=\"170\" x2=\"959\" y2=\"312\"/><line x1=\"867\" y1=\"125\" x2=\"957\" y2=\"127\"/><line x1=\"1702\" y1=\"127\" x2=\"1794\" y2=\"126\"/><line x1=\"1794\" y1=\"126\" x2=\"1888\" y2=\"125\"/><line x1=\"1886\" y1=\"30\" x2=\"1798\" y2=\"30\"/><line x1=\"1702\" y1=\"30\" x2=\"1798\" y2=\"30\"/><line x1=\"1052\" y1=\"223\" x2=\"1145\" y2=\"219\"/><line x1=\"1145\" y1=\"219\" x2=\"1239\" y2=\"217\"/><line x1=\"1239\" y1=\"217\" x2=\"1333\" y2=\"216\"/><line x1=\"1610\" y1=\"312\" x2=\"1703\" y2=\"312\"/><line x1=\"1516\" y1=\"312\" x2=\"1610\" y2=\"312\"/><line x1=\"1795\" y1=\"312\" x2=\"1703\" y2=\"312\"/><line x1=\"1143\" y1=\"312\" x2=\"1239\" y2=\"312\"/><line x1=\"1051\" y1=\"312\" x2=\"1143\" y2=\"312\"/><line x1=\"1239\" y1=\"312\" x2=\"1327\" y2=\"312\"/><line x1=\"1611\" y1=\"218\" x2=\"1702\" y2=\"220\"/><line x1=\"1702\" y1=\"220\" x2=\"1795\" y2=\"220\"/><line x1=\"309\" y1=\"126\" x2=\"401\" y2=\"128\"/><line x1=\"403\" y1=\"220\" x2=\"493\" y2=\"220\"/><line x1=\"493\" y1=\"220\" x2=\"495\" y2=\"312\"/><line x1=\"1238\" y1=\"32\" x2=\"1331\" y2=\"35\"/><line x1=\"1423\" y1=\"34\" x2=\"1516\" y2=\"32\"/><line x1=\"1423\" y1=\"123\" x2=\"1423\" y2=\"34\"/><line x1=\"1890\" y1=\"218\" x2=\"1795\" y2=\"220\"/><line x1=\"1329\" y1=\"127\" x2=\"1423\" y2=\"123\"/><line x1=\"404\" y1=\"31\" x2=\"310\" y2=\"32\"/><line x1=\"30\" y1=\"124\" x2=\"122\" y2=\"126\"/><line x1=\"122\" y1=\"126\" x2=\"123\" y2=\"216\"/><line x1=\"215\" y1=\"32\" x2=\"218\" y2=\"124\"/><line x1=\"1145\" y1=\"127\" x2=\"1237\" y2=\"127\"/><line x1=\"309\" y1=\"126\" x2=\"308\" y2=\"218\"/><line x1=\"215\" y1=\"218\" x2=\"308\" y2=\"218\"/><line x1=\"1611\" y1=\"32\" x2=\"1702\" y2=\"30\"/><line x1=\"1609\" y1=\"128\" x2=\"1702\" y2=\"127\"/><line x1=\"1238\" y1=\"32\" x2=\"1237\" y2=\"127\"/><line x1=\"122\" y1=\"311\" x2=\"217\" y2=\"311\"/><line x1=\"217\" y1=\"311\" x2=\"306\" y2=\"311\"/><line x1=\"32\" y1=\"30\" x2=\"123\" y2=\"32\"/><line x1=\"215\" y1=\"32\" x2=\"123\" y2=\"32\"/><line x1=\"495\" y1=\"123\" x2=\"591\" y2=\"123\"/><line x1=\"404\" y1=\"31\" x2=\"495\" y2=\"123\"/><line x1=\"587\" y1=\"218\" x2=\"681\" y2=\"218\"/><line x1=\"495\" y1=\"312\" x2=\"584\" y2=\"312\"/><line x1=\"1518\" y1=\"126\" x2=\"1518\" y2=\"219\"/><line x1=\"1425\" y1=\"312\" x2=\"1425\" y2=\"219\"/><line x1=\"681\" y1=\"126\" x2=\"681\" y2=\"218\"/><line x1=\"1425\" y1=\"219\" x2=\"1518\" y2=\"219\"/><line x1=\"306\" y1=\"311\" x2=\"401\" y2=\"311\"/><line x1=\"30\" y1=\"216\" x2=\"123\" y2=\"216\"/><line x1=\"772\" y1=\"312\" x2=\"867\" y2=\"312\"/><line x1=\"959\" y1=\"312\" x2=\"867\" y2=\"312\"/><line x1=\"680\" y1=\"312\" x2=\"772\" y2=\"312\"/></g><g stroke=\"red\" stroke-dasharray=\"18 15\" stroke-width=\"4\" id=\"edges_tentative\"><line x1=\"1007\" y1=\"170\" x2=\"774\" y2=\"218\"/><line x1=\"1007\" y1=\"170\" x2=\"1611\" y2=\"218\"/><line x1=\"1007\" y1=\"170\" x2=\"123\" y2=\"216\"/><line x1=\"1007\" y1=\"170\" x2=\"1329\" y2=\"127\"/><line x1=\"1007\" y1=\"170\" x2=\"584\" y2=\"312\"/><line x1=\"1007\" y1=\"170\" x2=\"218\" y2=\"124\"/><line x1=\"1007\" y1=\"170\" x2=\"401\" y2=\"128\"/><line x1=\"1007\" y1=\"170\" x2=\"1425\" y2=\"219\"/><line x1=\"1007\" y1=\"170\" x2=\"1145\" y2=\"127\"/><line x1=\"1007\" y1=\"170\" x2=\"1611\" y2=\"32\"/><line x1=\"1007\" y1=\"170\" x2=\"1051\" y2=\"312\"/><line x1=\"1007\" y1=\"170\" x2=\"1609\" y2=\"128\"/><line x1=\"1007\" y1=\"170\" x2=\"591\" y2=\"123\"/><line x1=\"1007\" y1=\"170\" x2=\"1516\" y2=\"312\"/><line x1=\"1007\" y1=\"170\" x2=\"401\" y2=\"311\"/></g><g id=\"WTGgrp\"><g fill=\"#1f77b4\"><use href=\"#wtg\" x=\"774\" y=\"218\"/><use href=\"#wtg\" x=\"587\" y=\"218\"/><use href=\"#wtg\" x=\"681\" y=\"218\"/><use href=\"#wtg\" x=\"681\" y=\"126\"/></g><g fill=\"#8c564b\"><use href=\"#wtg\" x=\"867\" y=\"125\"/><use href=\"#wtg\" x=\"957\" y=\"127\"/></g><g fill=\"#f7b6d2\"><use href=\"#wtg\" x=\"1794\" y=\"126\"/><use href=\"#wtg\" x=\"1888\" y=\"125\"/><use href=\"#wtg\" x=\"1702\" y=\"127\"/><use href=\"#wtg\" x=\"1609\" y=\"128\"/></g><g fill=\"#c5b0d5\"><use href=\"#wtg\" x=\"1798\" y=\"30\"/><use href=\"#wtg\" x=\"1611\" y=\"32\"/><use href=\"#wtg\" x=\"1702\" y=\"30\"/><use href=\"#wtg\" x=\"1886\" y=\"30\"/></g><g fill=\"#ffbb78\"><use href=\"#wtg\" x=\"1145\" y=\"219\"/><use href=\"#wtg\" x=\"1239\" y=\"217\"/><use href=\"#wtg\" x=\"1333\" y=\"216\"/><use href=\"#wtg\" x=\"1052\" y=\"223\"/></g><g fill=\"#7f7f7f\"><use href=\"#wtg\" x=\"1610\" y=\"312\"/><use href=\"#wtg\" x=\"1703\" y=\"312\"/><use href=\"#wtg\" x=\"1795\" y=\"312\"/><use href=\"#wtg\" x=\"1516\" y=\"312\"/></g><g fill=\"#c49c94\"><use href=\"#wtg\" x=\"1143\" y=\"312\"/><use href=\"#wtg\" x=\"1239\" y=\"312\"/><use href=\"#wtg\" x=\"1327\" y=\"312\"/><use href=\"#wtg\" x=\"1051\" y=\"312\"/></g><g fill=\"#aec7e8\"><use href=\"#wtg\" x=\"1611\" y=\"218\"/><use href=\"#wtg\" x=\"1702\" y=\"220\"/><use href=\"#wtg\" x=\"1890\" y=\"218\"/><use href=\"#wtg\" x=\"1795\" y=\"220\"/></g><g fill=\"#ff7f0e\"><use href=\"#wtg\" x=\"401\" y=\"128\"/><use href=\"#wtg\" x=\"309\" y=\"126\"/><use href=\"#wtg\" x=\"308\" y=\"218\"/><use href=\"#wtg\" x=\"215\" y=\"218\"/></g><g fill=\"#e377c2\"><use href=\"#wtg\" x=\"493\" y=\"220\"/><use href=\"#wtg\" x=\"584\" y=\"312\"/><use href=\"#wtg\" x=\"403\" y=\"220\"/><use href=\"#wtg\" x=\"495\" y=\"312\"/></g><g fill=\"#2ca02c\"><use href=\"#wtg\" x=\"1051\" y=\"125\"/></g><g fill=\"#ff9896\"><use href=\"#wtg\" x=\"1331\" y=\"35\"/><use href=\"#wtg\" x=\"1145\" y=\"127\"/><use href=\"#wtg\" x=\"1238\" y=\"32\"/><use href=\"#wtg\" x=\"1237\" y=\"127\"/></g><g fill=\"#98df8a\"><use href=\"#wtg\" x=\"1423\" y=\"34\"/><use href=\"#wtg\" x=\"1329\" y=\"127\"/><use href=\"#wtg\" x=\"1423\" y=\"123\"/><use href=\"#wtg\" x=\"1516\" y=\"32\"/></g><g fill=\"#17becf\"><use href=\"#wtg\" x=\"310\" y=\"32\"/><use href=\"#wtg\" x=\"495\" y=\"123\"/><use href=\"#wtg\" x=\"591\" y=\"123\"/><use href=\"#wtg\" x=\"404\" y=\"31\"/></g><g fill=\"#bcbd22\"><use href=\"#wtg\" x=\"122\" y=\"126\"/><use href=\"#wtg\" x=\"123\" y=\"216\"/><use href=\"#wtg\" x=\"30\" y=\"216\"/><use href=\"#wtg\" x=\"30\" y=\"124\"/></g><g fill=\"#d62728\"><use href=\"#wtg\" x=\"218\" y=\"124\"/><use href=\"#wtg\" x=\"32\" y=\"30\"/><use href=\"#wtg\" x=\"123\" y=\"32\"/><use href=\"#wtg\" x=\"215\" y=\"32\"/></g><g fill=\"#9467bd\"><use href=\"#wtg\" x=\"958\" y=\"220\"/></g><g fill=\"#c7c7c7\"><use href=\"#wtg\" x=\"122\" y=\"311\"/><use href=\"#wtg\" x=\"217\" y=\"311\"/><use href=\"#wtg\" x=\"401\" y=\"311\"/><use href=\"#wtg\" x=\"306\" y=\"311\"/></g><g fill=\"#dbdb8d\"><use href=\"#wtg\" x=\"1518\" y=\"126\"/><use href=\"#wtg\" x=\"1425\" y=\"312\"/><use href=\"#wtg\" x=\"1518\" y=\"219\"/><use href=\"#wtg\" x=\"1425\" y=\"219\"/></g><g fill=\"#9edae5\"><use href=\"#wtg\" x=\"867\" y=\"312\"/><use href=\"#wtg\" x=\"959\" y=\"312\"/><use href=\"#wtg\" x=\"680\" y=\"312\"/><use href=\"#wtg\" x=\"772\" y=\"312\"/></g></g><g id=\"OSSgrp\"><use href=\"#oss\" x=\"996.5\" y=\"159.5\"/></g></g><text text-anchor=\"end\" font-family=\"sans-serif\" font-size=\"40\" fill=\"white\" x=\"1920\" y=\"342\"><tspan x=\"1920\" dx=\"-0.2em\" dy=\"-0.2em\">&#931;&#955; = 136684.0 m</tspan><tspan x=\"1920\" dx=\"-0.2em\" dy=\"-1.2em\">(+2) &#945;: 20</tspan><tspan x=\"1920\" dx=\"-0.2em\" dy=\"-1.2em\">&#954; = 4, T = 72</tspan></text></svg>"
      ],
      "text/plain": [
       "<interarray.svg.SvgRepr at 0x1505d29d090>"
      ]
     },
     "execution_count": 6,
     "metadata": {},
     "output_type": "execute_result"
    }
   ],
   "source": [
    "L = locations.sandbank\n",
    "P, A = make_planar_embedding(L)\n",
    "S = EW_presolver(A, capacity=4)\n",
    "G = G_from_S(S, A)\n",
    "svgplot(G)"
   ]
  },
  {
   "cell_type": "code",
   "execution_count": null,
   "id": "1854c299-6c01-49f5-8df9-49e971c5f80f",
   "metadata": {},
   "outputs": [],
   "source": []
  },
  {
   "cell_type": "code",
   "execution_count": 10,
   "id": "bcc1af9d-b801-4912-adfb-4aa71eabd90d",
   "metadata": {
    "deletable": true,
    "editable": true,
    "execution": {
     "iopub.execute_input": "2025-03-06T15:58:15.043769Z",
     "iopub.status.busy": "2025-03-06T15:58:15.043769Z",
     "iopub.status.idle": "2025-03-06T15:58:15.183265Z",
     "shell.execute_reply": "2025-03-06T15:58:15.182975Z",
     "shell.execute_reply.started": "2025-03-06T15:58:15.043769Z"
    },
    "frozen": false
   },
   "outputs": [
    {
     "data": {
      "image/svg+xml": [
       "<svg xmlns=\"http://www.w3.org/2000/svg\" viewBox=\"0 0 1920 342\"><defs><circle stroke=\"none\" stroke-width=\"2\" id=\"wtg\" r=\"12\"/><rect stroke=\"none\" stroke-width=\"2\" id=\"oss\" width=\"21\" height=\"21\" fill=\"lawngreen\"/><circle stroke=\"orange\" stroke-opacity=\"0.3\" stroke-width=\"4\" id=\"dt\" r=\"23\" fill=\"none\"/></defs><g id=\"sandbank\"><path stroke=\"silver\" stroke-dasharray=\"15 7\" stroke-width=\"2\" id=\"border\" d=\"M122 311 30 216 30 124 32 30 123 32 215 32 310 32 404 31 1238 32 1331 35 1423 34 1516 32 1611 32 1702 30 1798 30 1886 30 1890 218 1795 312 1703 312 1610 312 1516 312 1425 312 1327 312 1239 312 1143 312 1051 312 959 312 867 312 772 312 680 312 584 312 495 312 401 311 306 311 217 311z\" fill-rule=\"evenodd\" fill=\"#111\"/><g stroke=\"crimson\" stroke-width=\"4\" id=\"edges_unspecified\"><line x1=\"681\" y1=\"218\" x2=\"774\" y2=\"218\"/><line x1=\"1007\" y1=\"170\" x2=\"774\" y2=\"218\"/><line x1=\"1007\" y1=\"170\" x2=\"958\" y2=\"220\"/><line x1=\"1007\" y1=\"170\" x2=\"1051\" y2=\"125\"/><line x1=\"1007\" y1=\"170\" x2=\"957\" y2=\"127\"/><line x1=\"1007\" y1=\"170\" x2=\"1052\" y2=\"223\"/><line x1=\"1007\" y1=\"170\" x2=\"959\" y2=\"312\"/><line x1=\"1007\" y1=\"170\" x2=\"1329\" y2=\"127\"/><line x1=\"1007\" y1=\"170\" x2=\"584\" y2=\"312\"/><line x1=\"1007\" y1=\"170\" x2=\"1425\" y2=\"219\"/><line x1=\"1007\" y1=\"170\" x2=\"1145\" y2=\"127\"/><line x1=\"1007\" y1=\"170\" x2=\"1051\" y2=\"312\"/><line x1=\"867\" y1=\"125\" x2=\"957\" y2=\"127\"/><line x1=\"1702\" y1=\"127\" x2=\"1794\" y2=\"126\"/><line x1=\"1794\" y1=\"126\" x2=\"1888\" y2=\"125\"/><line x1=\"1886\" y1=\"30\" x2=\"1798\" y2=\"30\"/><line x1=\"1702\" y1=\"30\" x2=\"1798\" y2=\"30\"/><line x1=\"1052\" y1=\"223\" x2=\"1145\" y2=\"219\"/><line x1=\"1145\" y1=\"219\" x2=\"1239\" y2=\"217\"/><line x1=\"1239\" y1=\"217\" x2=\"1333\" y2=\"216\"/><line x1=\"1610\" y1=\"312\" x2=\"1703\" y2=\"312\"/><line x1=\"1516\" y1=\"312\" x2=\"1610\" y2=\"312\"/><line x1=\"1795\" y1=\"312\" x2=\"1703\" y2=\"312\"/><line x1=\"1143\" y1=\"312\" x2=\"1239\" y2=\"312\"/><line x1=\"1051\" y1=\"312\" x2=\"1143\" y2=\"312\"/><line x1=\"1239\" y1=\"312\" x2=\"1327\" y2=\"312\"/><line x1=\"1611\" y1=\"218\" x2=\"1702\" y2=\"220\"/><line x1=\"1702\" y1=\"220\" x2=\"1795\" y2=\"220\"/><line x1=\"309\" y1=\"126\" x2=\"401\" y2=\"128\"/><line x1=\"403\" y1=\"220\" x2=\"493\" y2=\"220\"/><line x1=\"493\" y1=\"220\" x2=\"495\" y2=\"312\"/><line x1=\"1238\" y1=\"32\" x2=\"1331\" y2=\"35\"/><line x1=\"1423\" y1=\"34\" x2=\"1516\" y2=\"32\"/><line x1=\"1423\" y1=\"123\" x2=\"1423\" y2=\"34\"/><line x1=\"1890\" y1=\"218\" x2=\"1795\" y2=\"220\"/><line x1=\"1329\" y1=\"127\" x2=\"1423\" y2=\"123\"/><line x1=\"404\" y1=\"31\" x2=\"310\" y2=\"32\"/><line x1=\"30\" y1=\"124\" x2=\"122\" y2=\"126\"/><line x1=\"122\" y1=\"126\" x2=\"123\" y2=\"216\"/><line x1=\"215\" y1=\"32\" x2=\"218\" y2=\"124\"/><line x1=\"1145\" y1=\"127\" x2=\"1237\" y2=\"127\"/><line x1=\"309\" y1=\"126\" x2=\"308\" y2=\"218\"/><line x1=\"215\" y1=\"218\" x2=\"308\" y2=\"218\"/><line x1=\"1611\" y1=\"32\" x2=\"1702\" y2=\"30\"/><line x1=\"1609\" y1=\"128\" x2=\"1702\" y2=\"127\"/><line x1=\"1238\" y1=\"32\" x2=\"1237\" y2=\"127\"/><line x1=\"122\" y1=\"311\" x2=\"217\" y2=\"311\"/><line x1=\"217\" y1=\"311\" x2=\"306\" y2=\"311\"/><line x1=\"32\" y1=\"30\" x2=\"123\" y2=\"32\"/><line x1=\"215\" y1=\"32\" x2=\"123\" y2=\"32\"/><line x1=\"495\" y1=\"123\" x2=\"591\" y2=\"123\"/><line x1=\"404\" y1=\"31\" x2=\"495\" y2=\"123\"/><line x1=\"587\" y1=\"218\" x2=\"681\" y2=\"218\"/><line x1=\"495\" y1=\"312\" x2=\"584\" y2=\"312\"/><line x1=\"1518\" y1=\"126\" x2=\"1518\" y2=\"219\"/><line x1=\"1425\" y1=\"312\" x2=\"1425\" y2=\"219\"/><line x1=\"681\" y1=\"126\" x2=\"681\" y2=\"218\"/><line x1=\"1425\" y1=\"219\" x2=\"1518\" y2=\"219\"/><line x1=\"306\" y1=\"311\" x2=\"401\" y2=\"311\"/><line x1=\"30\" y1=\"216\" x2=\"123\" y2=\"216\"/><line x1=\"772\" y1=\"312\" x2=\"867\" y2=\"312\"/><line x1=\"959\" y1=\"312\" x2=\"867\" y2=\"312\"/><line x1=\"680\" y1=\"312\" x2=\"772\" y2=\"312\"/></g><g stroke=\"darkorange\" stroke-dasharray=\"18 15\" stroke-width=\"4\" id=\"detours\" fill=\"none\"><polyline points=\"1007 170 681 126 122 126\"/><polyline points=\"1007 170 1518 126 1611 218\"/><polyline points=\"1007 170 681 126 218 124\"/><polyline points=\"1007 170 681 126 401 128\"/><polyline points=\"1007 170 1423 123 1611 32\"/><polyline points=\"1007 170 681 126 591 123\"/><polyline points=\"1007 170 1052 223 1425 312 1516 312\"/><polyline points=\"1007 170 1518 126 1609 128\"/><polyline points=\"1007 170 584 312 495 312 401 311\"/></g><g id=\"DTgrp\"><use href=\"#dt\" x=\"681\" y=\"126\"/><use href=\"#dt\" x=\"1518\" y=\"126\"/><use href=\"#dt\" x=\"681\" y=\"126\"/><use href=\"#dt\" x=\"681\" y=\"126\"/><use href=\"#dt\" x=\"1423\" y=\"123\"/><use href=\"#dt\" x=\"681\" y=\"126\"/><use href=\"#dt\" x=\"1425\" y=\"312\"/><use href=\"#dt\" x=\"1052\" y=\"223\"/><use href=\"#dt\" x=\"1518\" y=\"126\"/><use href=\"#dt\" x=\"495\" y=\"312\"/><use href=\"#dt\" x=\"584\" y=\"312\"/></g><g id=\"WTGgrp\"><g fill=\"#1f77b4\"><use href=\"#wtg\" x=\"774\" y=\"218\"/><use href=\"#wtg\" x=\"587\" y=\"218\"/><use href=\"#wtg\" x=\"681\" y=\"218\"/><use href=\"#wtg\" x=\"681\" y=\"126\"/></g><g fill=\"#8c564b\"><use href=\"#wtg\" x=\"867\" y=\"125\"/><use href=\"#wtg\" x=\"957\" y=\"127\"/></g><g fill=\"#f7b6d2\"><use href=\"#wtg\" x=\"1794\" y=\"126\"/><use href=\"#wtg\" x=\"1888\" y=\"125\"/><use href=\"#wtg\" x=\"1702\" y=\"127\"/><use href=\"#wtg\" x=\"1609\" y=\"128\"/></g><g fill=\"#c5b0d5\"><use href=\"#wtg\" x=\"1798\" y=\"30\"/><use href=\"#wtg\" x=\"1611\" y=\"32\"/><use href=\"#wtg\" x=\"1702\" y=\"30\"/><use href=\"#wtg\" x=\"1886\" y=\"30\"/></g><g fill=\"#ffbb78\"><use href=\"#wtg\" x=\"1145\" y=\"219\"/><use href=\"#wtg\" x=\"1239\" y=\"217\"/><use href=\"#wtg\" x=\"1333\" y=\"216\"/><use href=\"#wtg\" x=\"1052\" y=\"223\"/></g><g fill=\"#7f7f7f\"><use href=\"#wtg\" x=\"1610\" y=\"312\"/><use href=\"#wtg\" x=\"1703\" y=\"312\"/><use href=\"#wtg\" x=\"1795\" y=\"312\"/><use href=\"#wtg\" x=\"1516\" y=\"312\"/></g><g fill=\"#c49c94\"><use href=\"#wtg\" x=\"1143\" y=\"312\"/><use href=\"#wtg\" x=\"1239\" y=\"312\"/><use href=\"#wtg\" x=\"1327\" y=\"312\"/><use href=\"#wtg\" x=\"1051\" y=\"312\"/></g><g fill=\"#aec7e8\"><use href=\"#wtg\" x=\"1611\" y=\"218\"/><use href=\"#wtg\" x=\"1702\" y=\"220\"/><use href=\"#wtg\" x=\"1890\" y=\"218\"/><use href=\"#wtg\" x=\"1795\" y=\"220\"/></g><g fill=\"#ff7f0e\"><use href=\"#wtg\" x=\"401\" y=\"128\"/><use href=\"#wtg\" x=\"309\" y=\"126\"/><use href=\"#wtg\" x=\"308\" y=\"218\"/><use href=\"#wtg\" x=\"215\" y=\"218\"/></g><g fill=\"#e377c2\"><use href=\"#wtg\" x=\"493\" y=\"220\"/><use href=\"#wtg\" x=\"584\" y=\"312\"/><use href=\"#wtg\" x=\"403\" y=\"220\"/><use href=\"#wtg\" x=\"495\" y=\"312\"/></g><g fill=\"#2ca02c\"><use href=\"#wtg\" x=\"1051\" y=\"125\"/></g><g fill=\"#ff9896\"><use href=\"#wtg\" x=\"1331\" y=\"35\"/><use href=\"#wtg\" x=\"1145\" y=\"127\"/><use href=\"#wtg\" x=\"1238\" y=\"32\"/><use href=\"#wtg\" x=\"1237\" y=\"127\"/></g><g fill=\"#98df8a\"><use href=\"#wtg\" x=\"1423\" y=\"34\"/><use href=\"#wtg\" x=\"1329\" y=\"127\"/><use href=\"#wtg\" x=\"1423\" y=\"123\"/><use href=\"#wtg\" x=\"1516\" y=\"32\"/></g><g fill=\"#17becf\"><use href=\"#wtg\" x=\"310\" y=\"32\"/><use href=\"#wtg\" x=\"495\" y=\"123\"/><use href=\"#wtg\" x=\"591\" y=\"123\"/><use href=\"#wtg\" x=\"404\" y=\"31\"/></g><g fill=\"#bcbd22\"><use href=\"#wtg\" x=\"122\" y=\"126\"/><use href=\"#wtg\" x=\"123\" y=\"216\"/><use href=\"#wtg\" x=\"30\" y=\"216\"/><use href=\"#wtg\" x=\"30\" y=\"124\"/></g><g fill=\"#d62728\"><use href=\"#wtg\" x=\"218\" y=\"124\"/><use href=\"#wtg\" x=\"32\" y=\"30\"/><use href=\"#wtg\" x=\"123\" y=\"32\"/><use href=\"#wtg\" x=\"215\" y=\"32\"/></g><g fill=\"#9467bd\"><use href=\"#wtg\" x=\"958\" y=\"220\"/></g><g fill=\"#c7c7c7\"><use href=\"#wtg\" x=\"122\" y=\"311\"/><use href=\"#wtg\" x=\"217\" y=\"311\"/><use href=\"#wtg\" x=\"401\" y=\"311\"/><use href=\"#wtg\" x=\"306\" y=\"311\"/></g><g fill=\"#dbdb8d\"><use href=\"#wtg\" x=\"1518\" y=\"126\"/><use href=\"#wtg\" x=\"1425\" y=\"312\"/><use href=\"#wtg\" x=\"1518\" y=\"219\"/><use href=\"#wtg\" x=\"1425\" y=\"219\"/></g><g fill=\"#9edae5\"><use href=\"#wtg\" x=\"867\" y=\"312\"/><use href=\"#wtg\" x=\"959\" y=\"312\"/><use href=\"#wtg\" x=\"680\" y=\"312\"/><use href=\"#wtg\" x=\"772\" y=\"312\"/></g></g><g id=\"OSSgrp\"><use href=\"#oss\" x=\"996.5\" y=\"159.5\"/></g></g><text text-anchor=\"end\" font-family=\"sans-serif\" font-size=\"40\" fill=\"white\" x=\"-20002\" y=\"342\"><tspan x=\"-20002\" dx=\"-0.2em\" dy=\"-0.2em\">&#931;&#955; = 137494.0 m</tspan><tspan x=\"-20002\" dx=\"-0.2em\" dy=\"-1.2em\">(+2) &#945;: 20</tspan><tspan x=\"-20002\" dx=\"-0.2em\" dy=\"-1.2em\">&#954; = 4, T = 72</tspan></text></svg>"
      ],
      "text/plain": [
       "<interarray.svg.SvgRepr at 0x15838b8d360>"
      ]
     },
     "execution_count": 10,
     "metadata": {},
     "output_type": "execute_result"
    }
   ],
   "source": [
    "H = PathFinder(G, P, A).create_detours()\n",
    "svgplot(H)"
   ]
  },
  {
   "cell_type": "code",
   "execution_count": 11,
   "id": "a443f6ba-1d6b-4330-9c76-ca34f605aaaa",
   "metadata": {
    "deletable": true,
    "editable": true,
    "execution": {
     "iopub.execute_input": "2025-03-06T15:59:35.910750Z",
     "iopub.status.busy": "2025-03-06T15:59:35.909750Z",
     "iopub.status.idle": "2025-03-06T15:59:35.917473Z",
     "shell.execute_reply": "2025-03-06T15:59:35.917473Z",
     "shell.execute_reply.started": "2025-03-06T15:59:35.910750Z"
    },
    "frozen": false
   },
   "outputs": [],
   "source": [
    "_10.save('sandbank_detoured.svg')"
   ]
  },
  {
   "cell_type": "code",
   "execution_count": 5,
   "id": "f0034617-f201-4cfc-98f2-5ddfee4fc1b0",
   "metadata": {
    "deletable": true,
    "editable": true,
    "execution": {
     "iopub.execute_input": "2025-03-06T15:08:55.683006Z",
     "iopub.status.busy": "2025-03-06T15:08:55.682606Z",
     "iopub.status.idle": "2025-03-06T15:08:55.800297Z",
     "shell.execute_reply": "2025-03-06T15:08:55.799746Z",
     "shell.execute_reply.started": "2025-03-06T15:08:55.683006Z"
    },
    "frozen": false
   },
   "outputs": [
    {
     "data": {
      "image/svg+xml": [
       "<svg xmlns=\"http://www.w3.org/2000/svg\" viewBox=\"0 0 1920 342\"><style/><defs><circle stroke=\"none\" stroke-width=\"2\" id=\"wtg\" r=\"12\"/><rect stroke=\"none\" stroke-width=\"2\" id=\"oss\" width=\"21\" height=\"21\" fill=\"lawngreen\"/></defs><g id=\"sandbank\"><path stroke=\"silver\" stroke-dasharray=\"15 7\" stroke-width=\"2\" id=\"border\" d=\"M122 311 30 216 30 124 32 30 123 32 215 32 310 32 404 31 1238 32 1331 35 1423 34 1516 32 1611 32 1702 30 1798 30 1886 30 1890 218 1795 312 1703 312 1610 312 1516 312 1425 312 1327 312 1239 312 1143 312 1051 312 959 312 867 312 772 312 680 312 584 312 495 312 401 311 306 311 217 311z\" fill-rule=\"evenodd\" fill=\"#111\"/><g stroke=\"crimson\" stroke-width=\"4\" id=\"edges_unspecified\"><line x1=\"681\" y1=\"218\" x2=\"774\" y2=\"218\"/><line x1=\"1007\" y1=\"170\" x2=\"958\" y2=\"220\"/><line x1=\"1007\" y1=\"170\" x2=\"1051\" y2=\"125\"/><line x1=\"1007\" y1=\"170\" x2=\"957\" y2=\"127\"/><line x1=\"1007\" y1=\"170\" x2=\"1052\" y2=\"223\"/><line x1=\"1007\" y1=\"170\" x2=\"959\" y2=\"312\"/><line x1=\"867\" y1=\"125\" x2=\"957\" y2=\"127\"/><line x1=\"1702\" y1=\"127\" x2=\"1794\" y2=\"126\"/><line x1=\"1794\" y1=\"126\" x2=\"1888\" y2=\"125\"/><line x1=\"1886\" y1=\"30\" x2=\"1798\" y2=\"30\"/><line x1=\"1702\" y1=\"30\" x2=\"1798\" y2=\"30\"/><line x1=\"1052\" y1=\"223\" x2=\"1145\" y2=\"219\"/><line x1=\"1145\" y1=\"219\" x2=\"1239\" y2=\"217\"/><line x1=\"1239\" y1=\"217\" x2=\"1333\" y2=\"216\"/><line x1=\"1610\" y1=\"312\" x2=\"1703\" y2=\"312\"/><line x1=\"1516\" y1=\"312\" x2=\"1610\" y2=\"312\"/><line x1=\"1795\" y1=\"312\" x2=\"1703\" y2=\"312\"/><line x1=\"1143\" y1=\"312\" x2=\"1239\" y2=\"312\"/><line x1=\"1051\" y1=\"312\" x2=\"1143\" y2=\"312\"/><line x1=\"1239\" y1=\"312\" x2=\"1327\" y2=\"312\"/><line x1=\"1611\" y1=\"218\" x2=\"1702\" y2=\"220\"/><line x1=\"1702\" y1=\"220\" x2=\"1795\" y2=\"220\"/><line x1=\"309\" y1=\"126\" x2=\"401\" y2=\"128\"/><line x1=\"403\" y1=\"220\" x2=\"493\" y2=\"220\"/><line x1=\"493\" y1=\"220\" x2=\"495\" y2=\"312\"/><line x1=\"1238\" y1=\"32\" x2=\"1331\" y2=\"35\"/><line x1=\"1423\" y1=\"34\" x2=\"1516\" y2=\"32\"/><line x1=\"1423\" y1=\"123\" x2=\"1423\" y2=\"34\"/><line x1=\"1890\" y1=\"218\" x2=\"1795\" y2=\"220\"/><line x1=\"1329\" y1=\"127\" x2=\"1423\" y2=\"123\"/><line x1=\"404\" y1=\"31\" x2=\"310\" y2=\"32\"/><line x1=\"30\" y1=\"124\" x2=\"122\" y2=\"126\"/><line x1=\"122\" y1=\"126\" x2=\"123\" y2=\"216\"/><line x1=\"215\" y1=\"32\" x2=\"218\" y2=\"124\"/><line x1=\"1145\" y1=\"127\" x2=\"1237\" y2=\"127\"/><line x1=\"309\" y1=\"126\" x2=\"308\" y2=\"218\"/><line x1=\"215\" y1=\"218\" x2=\"308\" y2=\"218\"/><line x1=\"1611\" y1=\"32\" x2=\"1702\" y2=\"30\"/><line x1=\"1609\" y1=\"128\" x2=\"1702\" y2=\"127\"/><line x1=\"1238\" y1=\"32\" x2=\"1237\" y2=\"127\"/><line x1=\"122\" y1=\"311\" x2=\"217\" y2=\"311\"/><line x1=\"217\" y1=\"311\" x2=\"306\" y2=\"311\"/><line x1=\"32\" y1=\"30\" x2=\"123\" y2=\"32\"/><line x1=\"215\" y1=\"32\" x2=\"123\" y2=\"32\"/><line x1=\"495\" y1=\"123\" x2=\"591\" y2=\"123\"/><line x1=\"404\" y1=\"31\" x2=\"495\" y2=\"123\"/><line x1=\"587\" y1=\"218\" x2=\"681\" y2=\"218\"/><line x1=\"495\" y1=\"312\" x2=\"584\" y2=\"312\"/><line x1=\"1518\" y1=\"126\" x2=\"1518\" y2=\"219\"/><line x1=\"1425\" y1=\"312\" x2=\"1425\" y2=\"219\"/><line x1=\"681\" y1=\"126\" x2=\"681\" y2=\"218\"/><line x1=\"1425\" y1=\"219\" x2=\"1518\" y2=\"219\"/><line x1=\"306\" y1=\"311\" x2=\"401\" y2=\"311\"/><line x1=\"30\" y1=\"216\" x2=\"123\" y2=\"216\"/><line x1=\"772\" y1=\"312\" x2=\"867\" y2=\"312\"/><line x1=\"959\" y1=\"312\" x2=\"867\" y2=\"312\"/><line x1=\"680\" y1=\"312\" x2=\"772\" y2=\"312\"/></g><g stroke=\"red\" stroke-dasharray=\"18 15\" stroke-width=\"4\" id=\"edges_tentative\"><line x1=\"1007\" y1=\"170\" x2=\"774\" y2=\"218\"/><line x1=\"1007\" y1=\"170\" x2=\"1611\" y2=\"218\"/><line x1=\"1007\" y1=\"170\" x2=\"123\" y2=\"216\"/><line x1=\"1007\" y1=\"170\" x2=\"1329\" y2=\"127\"/><line x1=\"1007\" y1=\"170\" x2=\"584\" y2=\"312\"/><line x1=\"1007\" y1=\"170\" x2=\"218\" y2=\"124\"/><line x1=\"1007\" y1=\"170\" x2=\"401\" y2=\"128\"/><line x1=\"1007\" y1=\"170\" x2=\"1425\" y2=\"219\"/><line x1=\"1007\" y1=\"170\" x2=\"1145\" y2=\"127\"/><line x1=\"1007\" y1=\"170\" x2=\"1611\" y2=\"32\"/><line x1=\"1007\" y1=\"170\" x2=\"1051\" y2=\"312\"/><line x1=\"1007\" y1=\"170\" x2=\"1609\" y2=\"128\"/><line x1=\"1007\" y1=\"170\" x2=\"591\" y2=\"123\"/><line x1=\"1007\" y1=\"170\" x2=\"1516\" y2=\"312\"/><line x1=\"1007\" y1=\"170\" x2=\"401\" y2=\"311\"/></g><g id=\"WTGgrp\"><g fill=\"#1f77b4\"><use href=\"#wtg\" x=\"774\" y=\"218\"/><use href=\"#wtg\" x=\"587\" y=\"218\"/><use href=\"#wtg\" x=\"681\" y=\"218\"/><use href=\"#wtg\" x=\"681\" y=\"126\"/></g><g fill=\"#8c564b\"><use href=\"#wtg\" x=\"867\" y=\"125\"/><use href=\"#wtg\" x=\"957\" y=\"127\"/></g><g fill=\"#f7b6d2\"><use href=\"#wtg\" x=\"1794\" y=\"126\"/><use href=\"#wtg\" x=\"1888\" y=\"125\"/><use href=\"#wtg\" x=\"1702\" y=\"127\"/><use href=\"#wtg\" x=\"1609\" y=\"128\"/></g><g fill=\"#c5b0d5\"><use href=\"#wtg\" x=\"1798\" y=\"30\"/><use href=\"#wtg\" x=\"1611\" y=\"32\"/><use href=\"#wtg\" x=\"1702\" y=\"30\"/><use href=\"#wtg\" x=\"1886\" y=\"30\"/></g><g fill=\"#ffbb78\"><use href=\"#wtg\" x=\"1145\" y=\"219\"/><use href=\"#wtg\" x=\"1239\" y=\"217\"/><use href=\"#wtg\" x=\"1333\" y=\"216\"/><use href=\"#wtg\" x=\"1052\" y=\"223\"/></g><g fill=\"#7f7f7f\"><use href=\"#wtg\" x=\"1610\" y=\"312\"/><use href=\"#wtg\" x=\"1703\" y=\"312\"/><use href=\"#wtg\" x=\"1795\" y=\"312\"/><use href=\"#wtg\" x=\"1516\" y=\"312\"/></g><g fill=\"#c49c94\"><use href=\"#wtg\" x=\"1143\" y=\"312\"/><use href=\"#wtg\" x=\"1239\" y=\"312\"/><use href=\"#wtg\" x=\"1327\" y=\"312\"/><use href=\"#wtg\" x=\"1051\" y=\"312\"/></g><g fill=\"#aec7e8\"><use href=\"#wtg\" x=\"1611\" y=\"218\"/><use href=\"#wtg\" x=\"1702\" y=\"220\"/><use href=\"#wtg\" x=\"1890\" y=\"218\"/><use href=\"#wtg\" x=\"1795\" y=\"220\"/></g><g fill=\"#ff7f0e\"><use href=\"#wtg\" x=\"401\" y=\"128\"/><use href=\"#wtg\" x=\"309\" y=\"126\"/><use href=\"#wtg\" x=\"308\" y=\"218\"/><use href=\"#wtg\" x=\"215\" y=\"218\"/></g><g fill=\"#e377c2\"><use href=\"#wtg\" x=\"493\" y=\"220\"/><use href=\"#wtg\" x=\"584\" y=\"312\"/><use href=\"#wtg\" x=\"403\" y=\"220\"/><use href=\"#wtg\" x=\"495\" y=\"312\"/></g><g fill=\"#2ca02c\"><use href=\"#wtg\" x=\"1051\" y=\"125\"/></g><g fill=\"#ff9896\"><use href=\"#wtg\" x=\"1331\" y=\"35\"/><use href=\"#wtg\" x=\"1145\" y=\"127\"/><use href=\"#wtg\" x=\"1238\" y=\"32\"/><use href=\"#wtg\" x=\"1237\" y=\"127\"/></g><g fill=\"#98df8a\"><use href=\"#wtg\" x=\"1423\" y=\"34\"/><use href=\"#wtg\" x=\"1329\" y=\"127\"/><use href=\"#wtg\" x=\"1423\" y=\"123\"/><use href=\"#wtg\" x=\"1516\" y=\"32\"/></g><g fill=\"#17becf\"><use href=\"#wtg\" x=\"310\" y=\"32\"/><use href=\"#wtg\" x=\"495\" y=\"123\"/><use href=\"#wtg\" x=\"591\" y=\"123\"/><use href=\"#wtg\" x=\"404\" y=\"31\"/></g><g fill=\"#bcbd22\"><use href=\"#wtg\" x=\"122\" y=\"126\"/><use href=\"#wtg\" x=\"123\" y=\"216\"/><use href=\"#wtg\" x=\"30\" y=\"216\"/><use href=\"#wtg\" x=\"30\" y=\"124\"/></g><g fill=\"#d62728\"><use href=\"#wtg\" x=\"218\" y=\"124\"/><use href=\"#wtg\" x=\"32\" y=\"30\"/><use href=\"#wtg\" x=\"123\" y=\"32\"/><use href=\"#wtg\" x=\"215\" y=\"32\"/></g><g fill=\"#9467bd\"><use href=\"#wtg\" x=\"958\" y=\"220\"/></g><g fill=\"#c7c7c7\"><use href=\"#wtg\" x=\"122\" y=\"311\"/><use href=\"#wtg\" x=\"217\" y=\"311\"/><use href=\"#wtg\" x=\"401\" y=\"311\"/><use href=\"#wtg\" x=\"306\" y=\"311\"/></g><g fill=\"#dbdb8d\"><use href=\"#wtg\" x=\"1518\" y=\"126\"/><use href=\"#wtg\" x=\"1425\" y=\"312\"/><use href=\"#wtg\" x=\"1518\" y=\"219\"/><use href=\"#wtg\" x=\"1425\" y=\"219\"/></g><g fill=\"#9edae5\"><use href=\"#wtg\" x=\"867\" y=\"312\"/><use href=\"#wtg\" x=\"959\" y=\"312\"/><use href=\"#wtg\" x=\"680\" y=\"312\"/><use href=\"#wtg\" x=\"772\" y=\"312\"/></g></g><g id=\"OSSgrp\"><use href=\"#oss\" x=\"996.5\" y=\"159.5\"/></g></g><text text-anchor=\"end\" font-family=\"sans-serif\" font-size=\"40\" fill=\"white\" x=\"1920\" y=\"342\"><tspan x=\"1920\" dx=\"-0.2em\" dy=\"-0.2em\">&#931;&#955; = 136684.0 m</tspan><tspan x=\"1920\" dx=\"-0.2em\" dy=\"-1.2em\">(+2) &#945;: 20</tspan><tspan x=\"1920\" dx=\"-0.2em\" dy=\"-1.2em\">&#954; = 4, T = 72</tspan></text></svg>"
      ],
      "text/plain": [
       "<interarray.svg.SvgRepr at 0x15838054bb0>"
      ]
     },
     "execution_count": 5,
     "metadata": {},
     "output_type": "execute_result"
    }
   ],
   "source": [
    "L = locations.sandbank\n",
    "P, A = make_planar_embedding(L)\n",
    "S = EW_presolver(A, capacity=4)\n",
    "G = G_from_S(S, A)\n",
    "svgplot(G)"
   ]
  },
  {
   "cell_type": "code",
   "execution_count": 6,
   "id": "0c030696-948b-4bcc-99a2-cbe6fc15d9f3",
   "metadata": {
    "deletable": true,
    "editable": true,
    "execution": {
     "iopub.execute_input": "2025-03-06T15:15:05.065467Z",
     "iopub.status.busy": "2025-03-06T15:15:05.061586Z",
     "iopub.status.idle": "2025-03-06T15:15:05.075275Z",
     "shell.execute_reply": "2025-03-06T15:15:05.075275Z",
     "shell.execute_reply.started": "2025-03-06T15:15:05.065467Z"
    },
    "frozen": false
   },
   "outputs": [],
   "source": [
    "_5.save('finally_works.svg')"
   ]
  },
  {
   "cell_type": "code",
   "execution_count": 3,
   "id": "d6845191-9800-4ccf-8528-4472e15ed136",
   "metadata": {
    "deletable": true,
    "editable": true,
    "execution": {
     "iopub.execute_input": "2025-03-06T14:17:15.866481Z",
     "iopub.status.busy": "2025-03-06T14:17:15.866481Z",
     "iopub.status.idle": "2025-03-06T14:17:17.990024Z",
     "shell.execute_reply": "2025-03-06T14:17:17.989988Z",
     "shell.execute_reply.started": "2025-03-06T14:17:15.866481Z"
    },
    "frozen": false
   },
   "outputs": [
    {
     "data": {
      "image/svg+xml": [
       "<svg xmlns=\"http://www.w3.org/2000/svg\" viewBox=\"0 0 1920 342\"><style>line {stroke-width: 4} .std {stroke: crimson} .ttt {stroke: red; stroke-dasharray: 18 15}</style><defs><circle stroke=\"none\" stroke-width=\"2\" id=\"wtg\" r=\"12\"/><rect stroke=\"none\" stroke-width=\"2\" id=\"oss\" width=\"21\" height=\"21\" fill=\"lawngreen\"/></defs><g id=\"sandbank\"><path stroke=\"silver\" stroke-dasharray=\"15 7\" stroke-width=\"2\" id=\"border\" d=\"M122 311 30 216 30 124 32 30 123 32 215 32 310 32 404 31 1238 32 1331 35 1423 34 1516 32 1611 32 1702 30 1798 30 1886 30 1890 218 1795 312 1703 312 1610 312 1516 312 1425 312 1327 312 1239 312 1143 312 1051 312 959 312 867 312 772 312 680 312 584 312 495 312 401 311 306 311 217 311z\" fill-rule=\"evenodd\" fill=\"#111\"/><g id=\"edges\" class=\"std\"><line x1=\"681\" y1=\"218\" x2=\"774\" y2=\"218\"/><line x1=\"1007\" y1=\"170\" x2=\"958\" y2=\"220\"/><line x1=\"1007\" y1=\"170\" x2=\"1051\" y2=\"125\"/><line x1=\"1007\" y1=\"170\" x2=\"957\" y2=\"127\"/><line x1=\"1007\" y1=\"170\" x2=\"1052\" y2=\"223\"/><line x1=\"1007\" y1=\"170\" x2=\"959\" y2=\"312\"/><line x1=\"867\" y1=\"125\" x2=\"957\" y2=\"127\"/><line x1=\"1702\" y1=\"127\" x2=\"1794\" y2=\"126\"/><line x1=\"1794\" y1=\"126\" x2=\"1888\" y2=\"125\"/><line x1=\"1886\" y1=\"30\" x2=\"1798\" y2=\"30\"/><line x1=\"1702\" y1=\"30\" x2=\"1798\" y2=\"30\"/><line x1=\"1052\" y1=\"223\" x2=\"1145\" y2=\"219\"/><line x1=\"1145\" y1=\"219\" x2=\"1239\" y2=\"217\"/><line x1=\"1239\" y1=\"217\" x2=\"1333\" y2=\"216\"/><line x1=\"1610\" y1=\"312\" x2=\"1703\" y2=\"312\"/><line x1=\"1516\" y1=\"312\" x2=\"1610\" y2=\"312\"/><line x1=\"1795\" y1=\"312\" x2=\"1703\" y2=\"312\"/><line x1=\"1143\" y1=\"312\" x2=\"1239\" y2=\"312\"/><line x1=\"1051\" y1=\"312\" x2=\"1143\" y2=\"312\"/><line x1=\"1239\" y1=\"312\" x2=\"1327\" y2=\"312\"/><line x1=\"1611\" y1=\"218\" x2=\"1702\" y2=\"220\"/><line x1=\"1702\" y1=\"220\" x2=\"1795\" y2=\"220\"/><line x1=\"309\" y1=\"126\" x2=\"401\" y2=\"128\"/><line x1=\"403\" y1=\"220\" x2=\"493\" y2=\"220\"/><line x1=\"493\" y1=\"220\" x2=\"495\" y2=\"312\"/><line x1=\"1238\" y1=\"32\" x2=\"1331\" y2=\"35\"/><line x1=\"1423\" y1=\"34\" x2=\"1516\" y2=\"32\"/><line x1=\"1423\" y1=\"123\" x2=\"1423\" y2=\"34\"/><line x1=\"1890\" y1=\"218\" x2=\"1795\" y2=\"220\"/><line x1=\"1329\" y1=\"127\" x2=\"1423\" y2=\"123\"/><line x1=\"404\" y1=\"31\" x2=\"310\" y2=\"32\"/><line x1=\"30\" y1=\"124\" x2=\"122\" y2=\"126\"/><line x1=\"122\" y1=\"126\" x2=\"123\" y2=\"216\"/><line x1=\"215\" y1=\"32\" x2=\"218\" y2=\"124\"/><line x1=\"1145\" y1=\"127\" x2=\"1237\" y2=\"127\"/><line x1=\"309\" y1=\"126\" x2=\"308\" y2=\"218\"/><line x1=\"215\" y1=\"218\" x2=\"308\" y2=\"218\"/><line x1=\"1611\" y1=\"32\" x2=\"1702\" y2=\"30\"/><line x1=\"1609\" y1=\"128\" x2=\"1702\" y2=\"127\"/><line x1=\"1238\" y1=\"32\" x2=\"1237\" y2=\"127\"/><line x1=\"122\" y1=\"311\" x2=\"217\" y2=\"311\"/><line x1=\"217\" y1=\"311\" x2=\"306\" y2=\"311\"/><line x1=\"32\" y1=\"30\" x2=\"123\" y2=\"32\"/><line x1=\"215\" y1=\"32\" x2=\"123\" y2=\"32\"/><line x1=\"495\" y1=\"123\" x2=\"591\" y2=\"123\"/><line x1=\"404\" y1=\"31\" x2=\"495\" y2=\"123\"/><line x1=\"587\" y1=\"218\" x2=\"681\" y2=\"218\"/><line x1=\"495\" y1=\"312\" x2=\"584\" y2=\"312\"/><line x1=\"1518\" y1=\"126\" x2=\"1518\" y2=\"219\"/><line x1=\"1425\" y1=\"312\" x2=\"1425\" y2=\"219\"/><line x1=\"681\" y1=\"126\" x2=\"681\" y2=\"218\"/><line x1=\"1425\" y1=\"219\" x2=\"1518\" y2=\"219\"/><line x1=\"306\" y1=\"311\" x2=\"401\" y2=\"311\"/><line x1=\"30\" y1=\"216\" x2=\"123\" y2=\"216\"/><line x1=\"772\" y1=\"312\" x2=\"867\" y2=\"312\"/><line x1=\"959\" y1=\"312\" x2=\"867\" y2=\"312\"/><line x1=\"680\" y1=\"312\" x2=\"772\" y2=\"312\"/></g><g id=\"edges\" class=\"ttt\"><line x1=\"1007\" y1=\"170\" x2=\"774\" y2=\"218\"/><line x1=\"1007\" y1=\"170\" x2=\"1611\" y2=\"218\"/><line x1=\"1007\" y1=\"170\" x2=\"123\" y2=\"216\"/><line x1=\"1007\" y1=\"170\" x2=\"1329\" y2=\"127\"/><line x1=\"1007\" y1=\"170\" x2=\"584\" y2=\"312\"/><line x1=\"1007\" y1=\"170\" x2=\"218\" y2=\"124\"/><line x1=\"1007\" y1=\"170\" x2=\"401\" y2=\"128\"/><line x1=\"1007\" y1=\"170\" x2=\"1425\" y2=\"219\"/><line x1=\"1007\" y1=\"170\" x2=\"1145\" y2=\"127\"/><line x1=\"1007\" y1=\"170\" x2=\"1611\" y2=\"32\"/><line x1=\"1007\" y1=\"170\" x2=\"1051\" y2=\"312\"/><line x1=\"1007\" y1=\"170\" x2=\"1609\" y2=\"128\"/><line x1=\"1007\" y1=\"170\" x2=\"591\" y2=\"123\"/><line x1=\"1007\" y1=\"170\" x2=\"1516\" y2=\"312\"/><line x1=\"1007\" y1=\"170\" x2=\"401\" y2=\"311\"/></g><g id=\"WTGgrp\"><g fill=\"#1f77b4\"><use href=\"#wtg\" x=\"774\" y=\"218\"/><use href=\"#wtg\" x=\"587\" y=\"218\"/><use href=\"#wtg\" x=\"681\" y=\"218\"/><use href=\"#wtg\" x=\"681\" y=\"126\"/></g><g fill=\"#8c564b\"><use href=\"#wtg\" x=\"867\" y=\"125\"/><use href=\"#wtg\" x=\"957\" y=\"127\"/></g><g fill=\"#f7b6d2\"><use href=\"#wtg\" x=\"1794\" y=\"126\"/><use href=\"#wtg\" x=\"1888\" y=\"125\"/><use href=\"#wtg\" x=\"1702\" y=\"127\"/><use href=\"#wtg\" x=\"1609\" y=\"128\"/></g><g fill=\"#c5b0d5\"><use href=\"#wtg\" x=\"1798\" y=\"30\"/><use href=\"#wtg\" x=\"1611\" y=\"32\"/><use href=\"#wtg\" x=\"1702\" y=\"30\"/><use href=\"#wtg\" x=\"1886\" y=\"30\"/></g><g fill=\"#ffbb78\"><use href=\"#wtg\" x=\"1145\" y=\"219\"/><use href=\"#wtg\" x=\"1239\" y=\"217\"/><use href=\"#wtg\" x=\"1333\" y=\"216\"/><use href=\"#wtg\" x=\"1052\" y=\"223\"/></g><g fill=\"#7f7f7f\"><use href=\"#wtg\" x=\"1610\" y=\"312\"/><use href=\"#wtg\" x=\"1703\" y=\"312\"/><use href=\"#wtg\" x=\"1795\" y=\"312\"/><use href=\"#wtg\" x=\"1516\" y=\"312\"/></g><g fill=\"#c49c94\"><use href=\"#wtg\" x=\"1143\" y=\"312\"/><use href=\"#wtg\" x=\"1239\" y=\"312\"/><use href=\"#wtg\" x=\"1327\" y=\"312\"/><use href=\"#wtg\" x=\"1051\" y=\"312\"/></g><g fill=\"#aec7e8\"><use href=\"#wtg\" x=\"1611\" y=\"218\"/><use href=\"#wtg\" x=\"1702\" y=\"220\"/><use href=\"#wtg\" x=\"1890\" y=\"218\"/><use href=\"#wtg\" x=\"1795\" y=\"220\"/></g><g fill=\"#ff7f0e\"><use href=\"#wtg\" x=\"401\" y=\"128\"/><use href=\"#wtg\" x=\"309\" y=\"126\"/><use href=\"#wtg\" x=\"308\" y=\"218\"/><use href=\"#wtg\" x=\"215\" y=\"218\"/></g><g fill=\"#e377c2\"><use href=\"#wtg\" x=\"493\" y=\"220\"/><use href=\"#wtg\" x=\"584\" y=\"312\"/><use href=\"#wtg\" x=\"403\" y=\"220\"/><use href=\"#wtg\" x=\"495\" y=\"312\"/></g><g fill=\"#2ca02c\"><use href=\"#wtg\" x=\"1051\" y=\"125\"/></g><g fill=\"#ff9896\"><use href=\"#wtg\" x=\"1331\" y=\"35\"/><use href=\"#wtg\" x=\"1145\" y=\"127\"/><use href=\"#wtg\" x=\"1238\" y=\"32\"/><use href=\"#wtg\" x=\"1237\" y=\"127\"/></g><g fill=\"#98df8a\"><use href=\"#wtg\" x=\"1423\" y=\"34\"/><use href=\"#wtg\" x=\"1329\" y=\"127\"/><use href=\"#wtg\" x=\"1423\" y=\"123\"/><use href=\"#wtg\" x=\"1516\" y=\"32\"/></g><g fill=\"#17becf\"><use href=\"#wtg\" x=\"310\" y=\"32\"/><use href=\"#wtg\" x=\"495\" y=\"123\"/><use href=\"#wtg\" x=\"591\" y=\"123\"/><use href=\"#wtg\" x=\"404\" y=\"31\"/></g><g fill=\"#bcbd22\"><use href=\"#wtg\" x=\"122\" y=\"126\"/><use href=\"#wtg\" x=\"123\" y=\"216\"/><use href=\"#wtg\" x=\"30\" y=\"216\"/><use href=\"#wtg\" x=\"30\" y=\"124\"/></g><g fill=\"#d62728\"><use href=\"#wtg\" x=\"218\" y=\"124\"/><use href=\"#wtg\" x=\"32\" y=\"30\"/><use href=\"#wtg\" x=\"123\" y=\"32\"/><use href=\"#wtg\" x=\"215\" y=\"32\"/></g><g fill=\"#9467bd\"><use href=\"#wtg\" x=\"958\" y=\"220\"/></g><g fill=\"#c7c7c7\"><use href=\"#wtg\" x=\"122\" y=\"311\"/><use href=\"#wtg\" x=\"217\" y=\"311\"/><use href=\"#wtg\" x=\"401\" y=\"311\"/><use href=\"#wtg\" x=\"306\" y=\"311\"/></g><g fill=\"#dbdb8d\"><use href=\"#wtg\" x=\"1518\" y=\"126\"/><use href=\"#wtg\" x=\"1425\" y=\"312\"/><use href=\"#wtg\" x=\"1518\" y=\"219\"/><use href=\"#wtg\" x=\"1425\" y=\"219\"/></g><g fill=\"#9edae5\"><use href=\"#wtg\" x=\"867\" y=\"312\"/><use href=\"#wtg\" x=\"959\" y=\"312\"/><use href=\"#wtg\" x=\"680\" y=\"312\"/><use href=\"#wtg\" x=\"772\" y=\"312\"/></g></g><g id=\"OSSgrp\"><use href=\"#oss\" x=\"996.5\" y=\"159.5\"/></g></g><text text-anchor=\"end\" font-family=\"sans-serif\" font-size=\"40\" fill=\"white\" x=\"1920\" y=\"342\"><tspan x=\"1920\" dx=\"-0.2em\" dy=\"-0.2em\">&#931;&#955; = 136684.0 m</tspan><tspan x=\"1920\" dx=\"-0.2em\" dy=\"-1.2em\">(+2) &#945;: 20</tspan><tspan x=\"1920\" dx=\"-0.2em\" dy=\"-1.2em\">&#954; = 4, T = 72</tspan></text></svg>"
      ],
      "text/plain": [
       "<interarray.svg.SvgRepr at 0x1edf6059a20>"
      ]
     },
     "execution_count": 3,
     "metadata": {},
     "output_type": "execute_result"
    }
   ],
   "source": [
    "L = locations.sandbank\n",
    "P, A = make_planar_embedding(L)\n",
    "S = EW_presolver(A, capacity=4)\n",
    "G = G_from_S(S, A)\n",
    "svgplot(G)"
   ]
  },
  {
   "cell_type": "code",
   "execution_count": 9,
   "id": "eb7e762c-fa93-4a41-acaf-986739bcde6f",
   "metadata": {
    "deletable": true,
    "editable": true,
    "execution": {
     "iopub.execute_input": "2025-03-06T14:20:01.373482Z",
     "iopub.status.busy": "2025-03-06T14:20:01.373482Z",
     "iopub.status.idle": "2025-03-06T14:20:01.422878Z",
     "shell.execute_reply": "2025-03-06T14:20:01.422151Z",
     "shell.execute_reply.started": "2025-03-06T14:20:01.373482Z"
    },
    "frozen": false
   },
   "outputs": [],
   "source": [
    "ax.figure.savefig('sandbank_mpl.svg')"
   ]
  },
  {
   "cell_type": "code",
   "execution_count": 49,
   "id": "44150519-acb5-4cd8-bbf6-1fdaed291004",
   "metadata": {
    "deletable": true,
    "editable": true,
    "execution": {
     "iopub.execute_input": "2025-03-06T13:54:07.904355Z",
     "iopub.status.busy": "2025-03-06T13:54:07.904355Z",
     "iopub.status.idle": "2025-03-06T13:54:07.963626Z",
     "shell.execute_reply": "2025-03-06T13:54:07.963253Z",
     "shell.execute_reply.started": "2025-03-06T13:54:07.904355Z"
    },
    "frozen": false
   },
   "outputs": [
    {
     "data": {
      "image/svg+xml": [
       "<svg xmlns=\"http://www.w3.org/2000/svg\" viewBox=\"0 0 1920 1080\"><style>line {stroke-width: 4} .ttt {stroke: red; stroke-dasharray: 18 15} .std {stroke: crimson}</style><defs><circle stroke=\"none\" stroke-width=\"2\" id=\"wtg\" r=\"12\"/><rect stroke=\"none\" stroke-width=\"2\" id=\"oss\" width=\"21\" height=\"21\" fill=\"lawngreen\"/></defs><g id=\"amalia\"><path stroke=\"silver\" stroke-dasharray=\"15 7\" stroke-width=\"2\" id=\"border\" d=\"M1092 902 904 984 791 970 631 1050 274 1050 138 979 30 719 67 393 204 178 525 37 769 30 1061 241 1153 252 1237 322 1294 442 1278 691z\" fill-rule=\"evenodd\" fill=\"#111\"/><g id=\"edges\" class=\"std\"><line x1=\"516\" y1=\"505\" x2=\"397\" y2=\"491\"/><line x1=\"817\" y1=\"539\" x2=\"806\" y2=\"649\"/><line x1=\"817\" y1=\"539\" x2=\"756\" y2=\"532\"/><line x1=\"817\" y1=\"539\" x2=\"876\" y2=\"546\"/><line x1=\"817\" y1=\"539\" x2=\"949\" y2=\"444\"/><line x1=\"817\" y1=\"539\" x2=\"829\" y2=\"428\"/><line x1=\"817\" y1=\"539\" x2=\"926\" y2=\"660\"/><line x1=\"276\" y1=\"478\" x2=\"397\" y2=\"491\"/><line x1=\"664\" y1=\"292\" x2=\"545\" y2=\"274\"/><line x1=\"740\" y1=\"195\" x2=\"621\" y2=\"175\"/><line x1=\"621\" y1=\"175\" x2=\"502\" y2=\"155\"/><line x1=\"829\" y1=\"428\" x2=\"903\" y2=\"328\"/><line x1=\"903\" y1=\"328\" x2=\"784\" y2=\"310\"/><line x1=\"859\" y1=\"215\" x2=\"903\" y2=\"328\"/><line x1=\"276\" y1=\"478\" x2=\"156\" y2=\"464\"/><line x1=\"350\" y1=\"365\" x2=\"230\" y2=\"349\"/><line x1=\"976\" y1=\"772\" x2=\"926\" y2=\"660\"/><line x1=\"996\" y1=\"560\" x2=\"876\" y2=\"546\"/><line x1=\"480\" y1=\"954\" x2=\"359\" y2=\"949\"/><line x1=\"480\" y1=\"954\" x2=\"546\" y2=\"851\"/><line x1=\"238\" y1=\"944\" x2=\"359\" y2=\"949\"/><line x1=\"1188\" y1=\"476\" x2=\"1068\" y2=\"460\"/><line x1=\"1068\" y1=\"460\" x2=\"1142\" y2=\"364\"/><line x1=\"756\" y1=\"532\" x2=\"709\" y2=\"412\"/><line x1=\"699\" y1=\"81\" x2=\"740\" y2=\"195\"/><line x1=\"254\" y1=\"717\" x2=\"133\" y2=\"708\"/><line x1=\"325\" y1=\"603\" x2=\"205\" y2=\"592\"/><line x1=\"426\" y1=\"844\" x2=\"305\" y2=\"837\"/><line x1=\"305\" y1=\"837\" x2=\"185\" y2=\"830\"/><line x1=\"254\" y1=\"717\" x2=\"374\" y2=\"726\"/><line x1=\"806\" y1=\"649\" x2=\"686\" y2=\"637\"/><line x1=\"615\" y1=\"745\" x2=\"686\" y2=\"637\"/><line x1=\"374\" y1=\"726\" x2=\"565\" y2=\"626\"/><line x1=\"445\" y1=\"615\" x2=\"636\" y2=\"518\"/><line x1=\"787\" y1=\"865\" x2=\"735\" y2=\"754\"/><line x1=\"787\" y1=\"865\" x2=\"667\" y2=\"858\"/><line x1=\"426\" y1=\"844\" x2=\"494\" y2=\"736\"/><line x1=\"949\" y1=\"444\" x2=\"1023\" y2=\"346\"/><line x1=\"600\" y1=\"959\" x2=\"667\" y2=\"858\"/><line x1=\"545\" y1=\"274\" x2=\"426\" y2=\"255\"/><line x1=\"590\" y1=\"396\" x2=\"470\" y2=\"380\"/><line x1=\"908\" y1=\"872\" x2=\"856\" y2=\"763\"/><line x1=\"976\" y1=\"772\" x2=\"856\" y2=\"763\"/><line x1=\"445\" y1=\"615\" x2=\"325\" y2=\"603\"/><line x1=\"470\" y1=\"380\" x2=\"350\" y2=\"365\"/><line x1=\"1046\" y1=\"671\" x2=\"1167\" y2=\"683\"/><line x1=\"1097\" y1=\"781\" x2=\"1046\" y2=\"671\"/><line x1=\"1116\" y1=\"573\" x2=\"996\" y2=\"560\"/><line x1=\"306\" y1=\"237\" x2=\"426\" y2=\"255\"/></g><g id=\"edges\" class=\"ttt\"><line x1=\"817\" y1=\"539\" x2=\"516\" y2=\"505\"/><line x1=\"817\" y1=\"539\" x2=\"494\" y2=\"736\"/><line x1=\"817\" y1=\"539\" x2=\"565\" y2=\"626\"/><line x1=\"817\" y1=\"539\" x2=\"1068\" y2=\"460\"/><line x1=\"817\" y1=\"539\" x2=\"664\" y2=\"292\"/><line x1=\"817\" y1=\"539\" x2=\"1046\" y2=\"671\"/><line x1=\"817\" y1=\"539\" x2=\"546\" y2=\"851\"/><line x1=\"817\" y1=\"539\" x2=\"636\" y2=\"518\"/><line x1=\"817\" y1=\"539\" x2=\"740\" y2=\"195\"/><line x1=\"817\" y1=\"539\" x2=\"735\" y2=\"754\"/><line x1=\"817\" y1=\"539\" x2=\"590\" y2=\"396\"/></g><g id=\"WTGgrp\"><g fill=\"#1f77b4\"><use href=\"#wtg\" x=\"516\" y=\"505\"/><use href=\"#wtg\" x=\"397\" y=\"491\"/><use href=\"#wtg\" x=\"276\" y=\"478\"/><use href=\"#wtg\" x=\"156\" y=\"464\"/></g><g fill=\"#aec7e8\"><use href=\"#wtg\" x=\"664\" y=\"292\"/><use href=\"#wtg\" x=\"545\" y=\"274\"/><use href=\"#wtg\" x=\"306\" y=\"237\"/><use href=\"#wtg\" x=\"426\" y=\"255\"/></g><g fill=\"#d62728\"><use href=\"#wtg\" x=\"621\" y=\"175\"/><use href=\"#wtg\" x=\"699\" y=\"81\"/><use href=\"#wtg\" x=\"740\" y=\"195\"/><use href=\"#wtg\" x=\"502\" y=\"155\"/></g><g fill=\"#ff7f0e\"><use href=\"#wtg\" x=\"829\" y=\"428\"/><use href=\"#wtg\" x=\"903\" y=\"328\"/><use href=\"#wtg\" x=\"859\" y=\"215\"/><use href=\"#wtg\" x=\"784\" y=\"310\"/></g><g fill=\"#c49c94\"><use href=\"#wtg\" x=\"230\" y=\"349\"/><use href=\"#wtg\" x=\"590\" y=\"396\"/><use href=\"#wtg\" x=\"470\" y=\"380\"/><use href=\"#wtg\" x=\"350\" y=\"365\"/></g><g fill=\"#ffbb78\"><use href=\"#wtg\" x=\"926\" y=\"660\"/><use href=\"#wtg\" x=\"908\" y=\"872\"/><use href=\"#wtg\" x=\"856\" y=\"763\"/><use href=\"#wtg\" x=\"976\" y=\"772\"/></g><g fill=\"#2ca02c\"><use href=\"#wtg\" x=\"876\" y=\"546\"/><use href=\"#wtg\" x=\"1116\" y=\"573\"/><use href=\"#wtg\" x=\"996\" y=\"560\"/></g><g fill=\"#bcbd22\"><use href=\"#wtg\" x=\"480\" y=\"954\"/><use href=\"#wtg\" x=\"359\" y=\"949\"/><use href=\"#wtg\" x=\"546\" y=\"851\"/><use href=\"#wtg\" x=\"238\" y=\"944\"/></g><g fill=\"#8c564b\"><use href=\"#wtg\" x=\"1188\" y=\"476\"/><use href=\"#wtg\" x=\"1142\" y=\"364\"/><use href=\"#wtg\" x=\"1068\" y=\"460\"/></g><g fill=\"#98df8a\"><use href=\"#wtg\" x=\"756\" y=\"532\"/><use href=\"#wtg\" x=\"709\" y=\"412\"/></g><g fill=\"#ff9896\"><use href=\"#wtg\" x=\"133\" y=\"708\"/><use href=\"#wtg\" x=\"254\" y=\"717\"/><use href=\"#wtg\" x=\"565\" y=\"626\"/><use href=\"#wtg\" x=\"374\" y=\"726\"/></g><g fill=\"#9467bd\"><use href=\"#wtg\" x=\"205\" y=\"592\"/><use href=\"#wtg\" x=\"636\" y=\"518\"/><use href=\"#wtg\" x=\"325\" y=\"603\"/><use href=\"#wtg\" x=\"445\" y=\"615\"/></g><g fill=\"#7f7f7f\"><use href=\"#wtg\" x=\"305\" y=\"837\"/><use href=\"#wtg\" x=\"426\" y=\"844\"/><use href=\"#wtg\" x=\"185\" y=\"830\"/><use href=\"#wtg\" x=\"494\" y=\"736\"/></g><g fill=\"#f7b6d2\"><use href=\"#wtg\" x=\"686\" y=\"637\"/><use href=\"#wtg\" x=\"615\" y=\"745\"/><use href=\"#wtg\" x=\"806\" y=\"649\"/></g><g fill=\"#c5b0d5\"><use href=\"#wtg\" x=\"735\" y=\"754\"/><use href=\"#wtg\" x=\"787\" y=\"865\"/><use href=\"#wtg\" x=\"667\" y=\"858\"/><use href=\"#wtg\" x=\"600\" y=\"959\"/></g><g fill=\"#e377c2\"><use href=\"#wtg\" x=\"1023\" y=\"346\"/><use href=\"#wtg\" x=\"949\" y=\"444\"/></g><g fill=\"#c7c7c7\"><use href=\"#wtg\" x=\"1046\" y=\"671\"/><use href=\"#wtg\" x=\"1167\" y=\"683\"/><use href=\"#wtg\" x=\"1097\" y=\"781\"/></g></g><g id=\"OSSgrp\"><use href=\"#oss\" x=\"806.5\" y=\"528.5\"/></g></g><text text-anchor=\"end\" font-family=\"sans-serif\" font-size=\"40\" fill=\"white\" x=\"1324\" y=\"1080\"><tspan x=\"1324\" dx=\"-0.2em\" dy=\"-0.2em\">&#931;&#955; = 42330.0 m</tspan><tspan x=\"1324\" dx=\"-0.2em\" dy=\"-1.2em\">(+2) &#945;: 17</tspan><tspan x=\"1324\" dx=\"-0.2em\" dy=\"-1.2em\">&#954; = 4, T = 60</tspan></text></svg>"
      ],
      "text/plain": [
       "<interarray.svg.SvgRepr at 0x27a110c9c00>"
      ]
     },
     "execution_count": 49,
     "metadata": {},
     "output_type": "execute_result"
    }
   ],
   "source": [
    "L = locations.amalia\n",
    "P, A = make_planar_embedding(L)\n",
    "S = EW_presolver(A, capacity=4)\n",
    "G = G_from_S(S, A)\n",
    "svgplot(G)"
   ]
  },
  {
   "cell_type": "markdown",
   "id": "73aab560-eff2-4358-b145-a8c7107144c1",
   "metadata": {
    "deletable": true,
    "editable": true,
    "frozen": false
   },
   "source": [
    "### Paper Farm"
   ]
  },
  {
   "cell_type": "code",
   "execution_count": 50,
   "id": "b5cb2eca-35e5-4d89-bd0f-5f0b9891163a",
   "metadata": {
    "deletable": true,
    "editable": true,
    "execution": {
     "iopub.execute_input": "2025-03-06T13:54:15.872912Z",
     "iopub.status.busy": "2025-03-06T13:54:15.872912Z",
     "iopub.status.idle": "2025-03-06T13:54:15.888219Z",
     "shell.execute_reply": "2025-03-06T13:54:15.888219Z",
     "shell.execute_reply.started": "2025-03-06T13:54:15.872912Z"
    },
    "frozen": false
   },
   "outputs": [],
   "source": [
    "L = L_from_pbf('paperfarm.osm.pbf')"
   ]
  },
  {
   "cell_type": "code",
   "execution_count": 51,
   "id": "89817942-2747-473a-b423-1f617256ca23",
   "metadata": {
    "deletable": true,
    "editable": true,
    "execution": {
     "iopub.execute_input": "2025-03-06T13:54:16.123650Z",
     "iopub.status.busy": "2025-03-06T13:54:16.122651Z",
     "iopub.status.idle": "2025-03-06T13:54:16.164608Z",
     "shell.execute_reply": "2025-03-06T13:54:16.164608Z",
     "shell.execute_reply.started": "2025-03-06T13:54:16.123650Z"
    },
    "frozen": false
   },
   "outputs": [],
   "source": [
    "P, A = make_planar_embedding(L)"
   ]
  },
  {
   "cell_type": "code",
   "execution_count": 52,
   "id": "313a70fc-aa95-4805-aeb5-ad12efd56896",
   "metadata": {
    "deletable": true,
    "editable": true,
    "execution": {
     "iopub.execute_input": "2025-03-06T13:54:16.358467Z",
     "iopub.status.busy": "2025-03-06T13:54:16.358467Z",
     "iopub.status.idle": "2025-03-06T13:54:16.371854Z",
     "shell.execute_reply": "2025-03-06T13:54:16.371747Z",
     "shell.execute_reply.started": "2025-03-06T13:54:16.358467Z"
    },
    "frozen": false
   },
   "outputs": [],
   "source": [
    "S = EW_presolver(A, capacity=4)"
   ]
  },
  {
   "cell_type": "code",
   "execution_count": 53,
   "id": "b222bf94-5872-4451-b937-6de0239b5f8d",
   "metadata": {
    "deletable": true,
    "editable": true,
    "execution": {
     "iopub.execute_input": "2025-03-06T13:54:16.608416Z",
     "iopub.status.busy": "2025-03-06T13:54:16.608416Z",
     "iopub.status.idle": "2025-03-06T13:54:16.615384Z",
     "shell.execute_reply": "2025-03-06T13:54:16.615384Z",
     "shell.execute_reply.started": "2025-03-06T13:54:16.608416Z"
    },
    "frozen": false
   },
   "outputs": [],
   "source": [
    "G = G_from_S(S, A)"
   ]
  },
  {
   "cell_type": "code",
   "execution_count": 54,
   "id": "ba5012dc-b1ce-4d85-a6af-df4e6642c2c3",
   "metadata": {
    "deletable": true,
    "editable": true,
    "execution": {
     "iopub.execute_input": "2025-03-06T13:54:16.847509Z",
     "iopub.status.busy": "2025-03-06T13:54:16.844609Z",
     "iopub.status.idle": "2025-03-06T13:54:16.859280Z",
     "shell.execute_reply": "2025-03-06T13:54:16.859151Z",
     "shell.execute_reply.started": "2025-03-06T13:54:16.847509Z"
    },
    "frozen": false
   },
   "outputs": [
    {
     "data": {
      "image/svg+xml": [
       "<svg xmlns=\"http://www.w3.org/2000/svg\" viewBox=\"0 0 1920 1080\"><style>line {stroke-width: 4} .ttt {stroke: red; stroke-dasharray: 18 15} .std {stroke: crimson}</style><defs><circle stroke=\"none\" stroke-width=\"2\" id=\"wtg\" r=\"12\"/><rect stroke=\"none\" stroke-width=\"2\" id=\"oss\" width=\"21\" height=\"21\" fill=\"lawngreen\"/></defs><g><path stroke=\"silver\" stroke-dasharray=\"15 7\" stroke-width=\"2\" id=\"border\" d=\"M734 421 705 447 879 1050 30 1050 30 287 489 551 507 529 312 30 1470 30 1470 905z\" fill-rule=\"evenodd\" fill=\"#111\"/><g id=\"edges\" class=\"std\"><line x1=\"163\" y1=\"744\" x2=\"79\" y2=\"403\"/><line x1=\"541\" y1=\"266\" x2=\"971\" y2=\"94\"/><line x1=\"541\" y1=\"266\" x2=\"572\" y2=\"731\"/><line x1=\"541\" y1=\"266\" x2=\"1118\" y2=\"538\"/><line x1=\"541\" y1=\"266\" x2=\"354\" y2=\"48\"/><line x1=\"1447\" y1=\"532\" x2=\"1387\" y2=\"128\"/><line x1=\"1462\" y1=\"846\" x2=\"1447\" y2=\"532\"/><line x1=\"1447\" y1=\"532\" x2=\"1118\" y2=\"538\"/><line x1=\"572\" y1=\"731\" x2=\"413\" y2=\"922\"/><line x1=\"91\" y1=\"1026\" x2=\"163\" y2=\"744\"/><line x1=\"572\" y1=\"731\" x2=\"811\" y2=\"1033\"/></g><g id=\"edges\" class=\"ttt\"><line x1=\"541\" y1=\"266\" x2=\"163\" y2=\"744\"/></g><g id=\"WTGgrp\"><g fill=\"#2ca02c\"><use href=\"#wtg\" x=\"79\" y=\"403\"/><use href=\"#wtg\" x=\"91\" y=\"1026\"/><use href=\"#wtg\" x=\"163\" y=\"744\"/></g><g fill=\"#aec7e8\"><use href=\"#wtg\" x=\"1387\" y=\"128\"/><use href=\"#wtg\" x=\"1462\" y=\"846\"/><use href=\"#wtg\" x=\"1118\" y=\"538\"/><use href=\"#wtg\" x=\"1447\" y=\"532\"/></g><g fill=\"#1f77b4\"><use href=\"#wtg\" x=\"971\" y=\"94\"/></g><g fill=\"#ff7f0e\"><use href=\"#wtg\" x=\"413\" y=\"922\"/><use href=\"#wtg\" x=\"572\" y=\"731\"/><use href=\"#wtg\" x=\"811\" y=\"1033\"/></g><g fill=\"#ffbb78\"><use href=\"#wtg\" x=\"354\" y=\"48\"/></g></g><g id=\"OSSgrp\"><use href=\"#oss\" x=\"530.5\" y=\"255.5\"/></g></g><text text-anchor=\"end\" font-family=\"sans-serif\" font-size=\"40\" fill=\"white\" x=\"1500\" y=\"1080\"><tspan x=\"1500\" dx=\"-0.2em\" dy=\"-0.2em\">&#931;&#955; = 6565.6 m</tspan><tspan x=\"1500\" dx=\"-0.2em\" dy=\"-1.2em\">(+2) &#945;: 5</tspan><tspan x=\"1500\" dx=\"-0.2em\" dy=\"-1.2em\">&#954; = 4, T = 12</tspan></text></svg>"
      ],
      "text/plain": [
       "<interarray.svg.SvgRepr at 0x27a110ca050>"
      ]
     },
     "execution_count": 54,
     "metadata": {},
     "output_type": "execute_result"
    }
   ],
   "source": [
    "svgplot(G)"
   ]
  }
 ],
 "metadata": {
  "kernelspec": {
   "display_name": "«work»",
   "language": "python",
   "name": "work"
  },
  "language_info": {
   "codemirror_mode": {
    "name": "ipython",
    "version": 3
   },
   "file_extension": ".py",
   "mimetype": "text/x-python",
   "name": "python",
   "nbconvert_exporter": "python",
   "pygments_lexer": "ipython3",
   "version": "3.10.16"
  }
 },
 "nbformat": 4,
 "nbformat_minor": 5
}
