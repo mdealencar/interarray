{
 "cells": [
  {
   "cell_type": "code",
   "execution_count": 1,
   "id": "ae70f943-4b11-4ba0-ab93-5c6f1d8a1e55",
   "metadata": {
    "deletable": true,
    "editable": true,
    "execution": {
     "iopub.execute_input": "2025-03-06T13:07:34.643504Z",
     "iopub.status.busy": "2025-03-06T13:07:34.643504Z",
     "iopub.status.idle": "2025-03-06T13:07:35.124968Z",
     "shell.execute_reply": "2025-03-06T13:07:35.124493Z",
     "shell.execute_reply.started": "2025-03-06T13:07:34.643504Z"
    },
    "frozen": false
   },
   "outputs": [],
   "source": [
    "import matplotlib.pyplot as plt"
   ]
  },
  {
   "cell_type": "code",
   "execution_count": 37,
   "id": "342f6855-e2d1-4898-b8a3-3799a53106b5",
   "metadata": {
    "deletable": true,
    "editable": true,
    "execution": {
     "iopub.execute_input": "2025-03-06T13:44:11.928194Z",
     "iopub.status.busy": "2025-03-06T13:44:11.927195Z",
     "iopub.status.idle": "2025-03-06T13:44:11.948236Z",
     "shell.execute_reply": "2025-03-06T13:44:11.947357Z",
     "shell.execute_reply.started": "2025-03-06T13:44:11.928194Z"
    },
    "frozen": false
   },
   "outputs": [],
   "source": [
    "from interarray.importer import L_from_pbf, load_repository\n",
    "from interarray.mesh import make_planar_embedding\n",
    "from interarray.svg import svgplot\n",
    "from interarray.heuristics import EW_presolver\n",
    "from interarray.interarraylib import G_from_S"
   ]
  },
  {
   "cell_type": "code",
   "execution_count": 4,
   "id": "239b7245-19ac-4e28-babf-0974fb03f4ba",
   "metadata": {
    "deletable": true,
    "editable": true,
    "execution": {
     "iopub.execute_input": "2025-03-06T13:07:36.748219Z",
     "iopub.status.busy": "2025-03-06T13:07:36.748219Z",
     "iopub.status.idle": "2025-03-06T13:07:36.763297Z",
     "shell.execute_reply": "2025-03-06T13:07:36.763297Z",
     "shell.execute_reply.started": "2025-03-06T13:07:36.748219Z"
    },
    "frozen": false
   },
   "outputs": [],
   "source": [
    "from interarray.svg import svgplot"
   ]
  },
  {
   "cell_type": "code",
   "execution_count": 5,
   "id": "7200c1c2-653f-4f31-8d64-d3bb79aaa0b3",
   "metadata": {
    "deletable": true,
    "editable": true,
    "execution": {
     "iopub.execute_input": "2025-03-06T13:07:36.765296Z",
     "iopub.status.busy": "2025-03-06T13:07:36.764295Z",
     "iopub.status.idle": "2025-03-06T13:07:36.783859Z",
     "shell.execute_reply": "2025-03-06T13:07:36.783026Z",
     "shell.execute_reply.started": "2025-03-06T13:07:36.765296Z"
    },
    "frozen": false
   },
   "outputs": [],
   "source": [
    "%config InlineBackend.figure_formats = ['svg']\n",
    "plt.rcParams['svg.fonttype'] = 'none'"
   ]
  },
  {
   "cell_type": "code",
   "execution_count": 6,
   "id": "7a3ff19d-f6b7-4bf7-aeea-eb264683fd93",
   "metadata": {
    "execution": {
     "iopub.execute_input": "2025-03-06T13:07:36.783859Z",
     "iopub.status.busy": "2025-03-06T13:07:36.783859Z",
     "iopub.status.idle": "2025-03-06T13:07:37.447730Z",
     "shell.execute_reply": "2025-03-06T13:07:37.447730Z",
     "shell.execute_reply.started": "2025-03-06T13:07:36.783859Z"
    }
   },
   "outputs": [],
   "source": [
    "locations = load_repository()"
   ]
  },
  {
   "cell_type": "code",
   "execution_count": 47,
   "id": "5b085e22-8f26-4d96-a0ae-7ff8ae32b0ae",
   "metadata": {
    "editable": true,
    "execution": {
     "iopub.execute_input": "2025-03-06T13:53:36.296251Z",
     "iopub.status.busy": "2025-03-06T13:53:36.295256Z",
     "iopub.status.idle": "2025-03-06T13:53:36.382344Z",
     "shell.execute_reply": "2025-03-06T13:53:36.381347Z",
     "shell.execute_reply.started": "2025-03-06T13:53:36.296251Z"
    },
    "frozen": false
   },
   "outputs": [
    {
     "data": {
      "image/svg+xml": [
       "<svg xmlns=\"http://www.w3.org/2000/svg\" viewBox=\"0 0 1920 342\"><style>line {stroke-width: 4} .ttt {stroke: red; stroke-dasharray: 18 15} .std {stroke: crimson}</style><defs><circle stroke=\"none\" stroke-width=\"2\" id=\"wtg\" r=\"12\"/><rect stroke=\"none\" stroke-width=\"2\" id=\"oss\" width=\"21\" height=\"21\" fill=\"lawngreen\"/></defs><g id=\"sandbank\"><path stroke=\"silver\" stroke-dasharray=\"15 7\" stroke-width=\"2\" id=\"border\" d=\"M122 311 30 216 30 124 32 30 123 32 215 32 310 32 404 31 1238 32 1331 35 1423 34 1516 32 1611 32 1702 30 1798 30 1886 30 1890 218 1795 312 1703 312 1610 312 1516 312 1425 312 1327 312 1239 312 1143 312 1051 312 959 312 867 312 772 312 680 312 584 312 495 312 401 311 306 311 217 311z\" fill-rule=\"evenodd\" fill=\"#111\"/><g id=\"edges\" class=\"std\"><line x1=\"681\" y1=\"218\" x2=\"774\" y2=\"218\"/><line x1=\"1007\" y1=\"170\" x2=\"958\" y2=\"220\"/><line x1=\"1007\" y1=\"170\" x2=\"1051\" y2=\"125\"/><line x1=\"1007\" y1=\"170\" x2=\"957\" y2=\"127\"/><line x1=\"1007\" y1=\"170\" x2=\"1052\" y2=\"223\"/><line x1=\"1007\" y1=\"170\" x2=\"959\" y2=\"312\"/><line x1=\"867\" y1=\"125\" x2=\"957\" y2=\"127\"/><line x1=\"1702\" y1=\"127\" x2=\"1794\" y2=\"126\"/><line x1=\"1794\" y1=\"126\" x2=\"1888\" y2=\"125\"/><line x1=\"1886\" y1=\"30\" x2=\"1798\" y2=\"30\"/><line x1=\"1702\" y1=\"30\" x2=\"1798\" y2=\"30\"/><line x1=\"1052\" y1=\"223\" x2=\"1145\" y2=\"219\"/><line x1=\"1145\" y1=\"219\" x2=\"1239\" y2=\"217\"/><line x1=\"1239\" y1=\"217\" x2=\"1333\" y2=\"216\"/><line x1=\"1610\" y1=\"312\" x2=\"1703\" y2=\"312\"/><line x1=\"1516\" y1=\"312\" x2=\"1610\" y2=\"312\"/><line x1=\"1795\" y1=\"312\" x2=\"1703\" y2=\"312\"/><line x1=\"1143\" y1=\"312\" x2=\"1239\" y2=\"312\"/><line x1=\"1051\" y1=\"312\" x2=\"1143\" y2=\"312\"/><line x1=\"1239\" y1=\"312\" x2=\"1327\" y2=\"312\"/><line x1=\"1611\" y1=\"218\" x2=\"1702\" y2=\"220\"/><line x1=\"1702\" y1=\"220\" x2=\"1795\" y2=\"220\"/><line x1=\"309\" y1=\"126\" x2=\"401\" y2=\"128\"/><line x1=\"403\" y1=\"220\" x2=\"493\" y2=\"220\"/><line x1=\"493\" y1=\"220\" x2=\"495\" y2=\"312\"/><line x1=\"1238\" y1=\"32\" x2=\"1331\" y2=\"35\"/><line x1=\"1423\" y1=\"34\" x2=\"1516\" y2=\"32\"/><line x1=\"1423\" y1=\"123\" x2=\"1423\" y2=\"34\"/><line x1=\"1890\" y1=\"218\" x2=\"1795\" y2=\"220\"/><line x1=\"1329\" y1=\"127\" x2=\"1423\" y2=\"123\"/><line x1=\"404\" y1=\"31\" x2=\"310\" y2=\"32\"/><line x1=\"30\" y1=\"124\" x2=\"122\" y2=\"126\"/><line x1=\"122\" y1=\"126\" x2=\"123\" y2=\"216\"/><line x1=\"215\" y1=\"32\" x2=\"218\" y2=\"124\"/><line x1=\"1145\" y1=\"127\" x2=\"1237\" y2=\"127\"/><line x1=\"309\" y1=\"126\" x2=\"308\" y2=\"218\"/><line x1=\"215\" y1=\"218\" x2=\"308\" y2=\"218\"/><line x1=\"1611\" y1=\"32\" x2=\"1702\" y2=\"30\"/><line x1=\"1609\" y1=\"128\" x2=\"1702\" y2=\"127\"/><line x1=\"1238\" y1=\"32\" x2=\"1237\" y2=\"127\"/><line x1=\"122\" y1=\"311\" x2=\"217\" y2=\"311\"/><line x1=\"217\" y1=\"311\" x2=\"306\" y2=\"311\"/><line x1=\"32\" y1=\"30\" x2=\"123\" y2=\"32\"/><line x1=\"215\" y1=\"32\" x2=\"123\" y2=\"32\"/><line x1=\"495\" y1=\"123\" x2=\"591\" y2=\"123\"/><line x1=\"404\" y1=\"31\" x2=\"495\" y2=\"123\"/><line x1=\"587\" y1=\"218\" x2=\"681\" y2=\"218\"/><line x1=\"495\" y1=\"312\" x2=\"584\" y2=\"312\"/><line x1=\"1518\" y1=\"126\" x2=\"1518\" y2=\"219\"/><line x1=\"1425\" y1=\"312\" x2=\"1425\" y2=\"219\"/><line x1=\"681\" y1=\"126\" x2=\"681\" y2=\"218\"/><line x1=\"1425\" y1=\"219\" x2=\"1518\" y2=\"219\"/><line x1=\"306\" y1=\"311\" x2=\"401\" y2=\"311\"/><line x1=\"30\" y1=\"216\" x2=\"123\" y2=\"216\"/><line x1=\"772\" y1=\"312\" x2=\"867\" y2=\"312\"/><line x1=\"959\" y1=\"312\" x2=\"867\" y2=\"312\"/><line x1=\"680\" y1=\"312\" x2=\"772\" y2=\"312\"/></g><g id=\"edges\" class=\"ttt\"><line x1=\"1007\" y1=\"170\" x2=\"774\" y2=\"218\"/><line x1=\"1007\" y1=\"170\" x2=\"1611\" y2=\"218\"/><line x1=\"1007\" y1=\"170\" x2=\"123\" y2=\"216\"/><line x1=\"1007\" y1=\"170\" x2=\"1329\" y2=\"127\"/><line x1=\"1007\" y1=\"170\" x2=\"584\" y2=\"312\"/><line x1=\"1007\" y1=\"170\" x2=\"218\" y2=\"124\"/><line x1=\"1007\" y1=\"170\" x2=\"401\" y2=\"128\"/><line x1=\"1007\" y1=\"170\" x2=\"1425\" y2=\"219\"/><line x1=\"1007\" y1=\"170\" x2=\"1145\" y2=\"127\"/><line x1=\"1007\" y1=\"170\" x2=\"1611\" y2=\"32\"/><line x1=\"1007\" y1=\"170\" x2=\"1051\" y2=\"312\"/><line x1=\"1007\" y1=\"170\" x2=\"1609\" y2=\"128\"/><line x1=\"1007\" y1=\"170\" x2=\"591\" y2=\"123\"/><line x1=\"1007\" y1=\"170\" x2=\"1516\" y2=\"312\"/><line x1=\"1007\" y1=\"170\" x2=\"401\" y2=\"311\"/></g><g id=\"WTGgrp\"><g fill=\"#1f77b4\"><use href=\"#wtg\" x=\"774\" y=\"218\"/><use href=\"#wtg\" x=\"587\" y=\"218\"/><use href=\"#wtg\" x=\"681\" y=\"218\"/><use href=\"#wtg\" x=\"681\" y=\"126\"/></g><g fill=\"#8c564b\"><use href=\"#wtg\" x=\"867\" y=\"125\"/><use href=\"#wtg\" x=\"957\" y=\"127\"/></g><g fill=\"#f7b6d2\"><use href=\"#wtg\" x=\"1794\" y=\"126\"/><use href=\"#wtg\" x=\"1888\" y=\"125\"/><use href=\"#wtg\" x=\"1702\" y=\"127\"/><use href=\"#wtg\" x=\"1609\" y=\"128\"/></g><g fill=\"#c5b0d5\"><use href=\"#wtg\" x=\"1798\" y=\"30\"/><use href=\"#wtg\" x=\"1611\" y=\"32\"/><use href=\"#wtg\" x=\"1702\" y=\"30\"/><use href=\"#wtg\" x=\"1886\" y=\"30\"/></g><g fill=\"#ffbb78\"><use href=\"#wtg\" x=\"1145\" y=\"219\"/><use href=\"#wtg\" x=\"1239\" y=\"217\"/><use href=\"#wtg\" x=\"1333\" y=\"216\"/><use href=\"#wtg\" x=\"1052\" y=\"223\"/></g><g fill=\"#7f7f7f\"><use href=\"#wtg\" x=\"1610\" y=\"312\"/><use href=\"#wtg\" x=\"1703\" y=\"312\"/><use href=\"#wtg\" x=\"1795\" y=\"312\"/><use href=\"#wtg\" x=\"1516\" y=\"312\"/></g><g fill=\"#c49c94\"><use href=\"#wtg\" x=\"1143\" y=\"312\"/><use href=\"#wtg\" x=\"1239\" y=\"312\"/><use href=\"#wtg\" x=\"1327\" y=\"312\"/><use href=\"#wtg\" x=\"1051\" y=\"312\"/></g><g fill=\"#aec7e8\"><use href=\"#wtg\" x=\"1611\" y=\"218\"/><use href=\"#wtg\" x=\"1702\" y=\"220\"/><use href=\"#wtg\" x=\"1890\" y=\"218\"/><use href=\"#wtg\" x=\"1795\" y=\"220\"/></g><g fill=\"#ff7f0e\"><use href=\"#wtg\" x=\"401\" y=\"128\"/><use href=\"#wtg\" x=\"309\" y=\"126\"/><use href=\"#wtg\" x=\"308\" y=\"218\"/><use href=\"#wtg\" x=\"215\" y=\"218\"/></g><g fill=\"#e377c2\"><use href=\"#wtg\" x=\"493\" y=\"220\"/><use href=\"#wtg\" x=\"584\" y=\"312\"/><use href=\"#wtg\" x=\"403\" y=\"220\"/><use href=\"#wtg\" x=\"495\" y=\"312\"/></g><g fill=\"#2ca02c\"><use href=\"#wtg\" x=\"1051\" y=\"125\"/></g><g fill=\"#ff9896\"><use href=\"#wtg\" x=\"1331\" y=\"35\"/><use href=\"#wtg\" x=\"1145\" y=\"127\"/><use href=\"#wtg\" x=\"1238\" y=\"32\"/><use href=\"#wtg\" x=\"1237\" y=\"127\"/></g><g fill=\"#98df8a\"><use href=\"#wtg\" x=\"1423\" y=\"34\"/><use href=\"#wtg\" x=\"1329\" y=\"127\"/><use href=\"#wtg\" x=\"1423\" y=\"123\"/><use href=\"#wtg\" x=\"1516\" y=\"32\"/></g><g fill=\"#17becf\"><use href=\"#wtg\" x=\"310\" y=\"32\"/><use href=\"#wtg\" x=\"495\" y=\"123\"/><use href=\"#wtg\" x=\"591\" y=\"123\"/><use href=\"#wtg\" x=\"404\" y=\"31\"/></g><g fill=\"#bcbd22\"><use href=\"#wtg\" x=\"122\" y=\"126\"/><use href=\"#wtg\" x=\"123\" y=\"216\"/><use href=\"#wtg\" x=\"30\" y=\"216\"/><use href=\"#wtg\" x=\"30\" y=\"124\"/></g><g fill=\"#d62728\"><use href=\"#wtg\" x=\"218\" y=\"124\"/><use href=\"#wtg\" x=\"32\" y=\"30\"/><use href=\"#wtg\" x=\"123\" y=\"32\"/><use href=\"#wtg\" x=\"215\" y=\"32\"/></g><g fill=\"#9467bd\"><use href=\"#wtg\" x=\"958\" y=\"220\"/></g><g fill=\"#c7c7c7\"><use href=\"#wtg\" x=\"122\" y=\"311\"/><use href=\"#wtg\" x=\"217\" y=\"311\"/><use href=\"#wtg\" x=\"401\" y=\"311\"/><use href=\"#wtg\" x=\"306\" y=\"311\"/></g><g fill=\"#dbdb8d\"><use href=\"#wtg\" x=\"1518\" y=\"126\"/><use href=\"#wtg\" x=\"1425\" y=\"312\"/><use href=\"#wtg\" x=\"1518\" y=\"219\"/><use href=\"#wtg\" x=\"1425\" y=\"219\"/></g><g fill=\"#9edae5\"><use href=\"#wtg\" x=\"867\" y=\"312\"/><use href=\"#wtg\" x=\"959\" y=\"312\"/><use href=\"#wtg\" x=\"680\" y=\"312\"/><use href=\"#wtg\" x=\"772\" y=\"312\"/></g></g><g id=\"OSSgrp\"><use href=\"#oss\" x=\"996.5\" y=\"159.5\"/></g></g><text text-anchor=\"end\" font-family=\"sans-serif\" font-size=\"40\" fill=\"white\" x=\"1920\" y=\"342\"><tspan x=\"1920\" dx=\"-0.2em\" dy=\"-0.2em\">&#931;&#955; = 136684.0 m</tspan><tspan x=\"1920\" dx=\"-0.2em\" dy=\"-1.2em\">(+2) &#945;: 20</tspan><tspan x=\"1920\" dx=\"-0.2em\" dy=\"-1.2em\">&#954; = 4, T = 72</tspan></text></svg>"
      ],
      "text/plain": [
       "<interarray.svg.SvgRepr at 0x27a10fb49a0>"
      ]
     },
     "execution_count": 47,
     "metadata": {},
     "output_type": "execute_result"
    }
   ],
   "source": [
    "L = locations.sandbank\n",
    "P, A = make_planar_embedding(L)\n",
    "S = EW_presolver(A, capacity=4)\n",
    "G = G_from_S(S, A)\n",
    "svgplot(G)"
   ]
  },
  {
   "cell_type": "code",
   "execution_count": 49,
   "id": "44150519-acb5-4cd8-bbf6-1fdaed291004",
   "metadata": {
    "editable": true,
    "execution": {
     "iopub.execute_input": "2025-03-06T13:54:07.904355Z",
     "iopub.status.busy": "2025-03-06T13:54:07.904355Z",
     "iopub.status.idle": "2025-03-06T13:54:07.963626Z",
     "shell.execute_reply": "2025-03-06T13:54:07.963253Z",
     "shell.execute_reply.started": "2025-03-06T13:54:07.904355Z"
    },
    "frozen": false
   },
   "outputs": [
    {
     "data": {
      "image/svg+xml": [
       "<svg xmlns=\"http://www.w3.org/2000/svg\" viewBox=\"0 0 1920 1080\"><style>line {stroke-width: 4} .ttt {stroke: red; stroke-dasharray: 18 15} .std {stroke: crimson}</style><defs><circle stroke=\"none\" stroke-width=\"2\" id=\"wtg\" r=\"12\"/><rect stroke=\"none\" stroke-width=\"2\" id=\"oss\" width=\"21\" height=\"21\" fill=\"lawngreen\"/></defs><g id=\"amalia\"><path stroke=\"silver\" stroke-dasharray=\"15 7\" stroke-width=\"2\" id=\"border\" d=\"M1092 902 904 984 791 970 631 1050 274 1050 138 979 30 719 67 393 204 178 525 37 769 30 1061 241 1153 252 1237 322 1294 442 1278 691z\" fill-rule=\"evenodd\" fill=\"#111\"/><g id=\"edges\" class=\"std\"><line x1=\"516\" y1=\"505\" x2=\"397\" y2=\"491\"/><line x1=\"817\" y1=\"539\" x2=\"806\" y2=\"649\"/><line x1=\"817\" y1=\"539\" x2=\"756\" y2=\"532\"/><line x1=\"817\" y1=\"539\" x2=\"876\" y2=\"546\"/><line x1=\"817\" y1=\"539\" x2=\"949\" y2=\"444\"/><line x1=\"817\" y1=\"539\" x2=\"829\" y2=\"428\"/><line x1=\"817\" y1=\"539\" x2=\"926\" y2=\"660\"/><line x1=\"276\" y1=\"478\" x2=\"397\" y2=\"491\"/><line x1=\"664\" y1=\"292\" x2=\"545\" y2=\"274\"/><line x1=\"740\" y1=\"195\" x2=\"621\" y2=\"175\"/><line x1=\"621\" y1=\"175\" x2=\"502\" y2=\"155\"/><line x1=\"829\" y1=\"428\" x2=\"903\" y2=\"328\"/><line x1=\"903\" y1=\"328\" x2=\"784\" y2=\"310\"/><line x1=\"859\" y1=\"215\" x2=\"903\" y2=\"328\"/><line x1=\"276\" y1=\"478\" x2=\"156\" y2=\"464\"/><line x1=\"350\" y1=\"365\" x2=\"230\" y2=\"349\"/><line x1=\"976\" y1=\"772\" x2=\"926\" y2=\"660\"/><line x1=\"996\" y1=\"560\" x2=\"876\" y2=\"546\"/><line x1=\"480\" y1=\"954\" x2=\"359\" y2=\"949\"/><line x1=\"480\" y1=\"954\" x2=\"546\" y2=\"851\"/><line x1=\"238\" y1=\"944\" x2=\"359\" y2=\"949\"/><line x1=\"1188\" y1=\"476\" x2=\"1068\" y2=\"460\"/><line x1=\"1068\" y1=\"460\" x2=\"1142\" y2=\"364\"/><line x1=\"756\" y1=\"532\" x2=\"709\" y2=\"412\"/><line x1=\"699\" y1=\"81\" x2=\"740\" y2=\"195\"/><line x1=\"254\" y1=\"717\" x2=\"133\" y2=\"708\"/><line x1=\"325\" y1=\"603\" x2=\"205\" y2=\"592\"/><line x1=\"426\" y1=\"844\" x2=\"305\" y2=\"837\"/><line x1=\"305\" y1=\"837\" x2=\"185\" y2=\"830\"/><line x1=\"254\" y1=\"717\" x2=\"374\" y2=\"726\"/><line x1=\"806\" y1=\"649\" x2=\"686\" y2=\"637\"/><line x1=\"615\" y1=\"745\" x2=\"686\" y2=\"637\"/><line x1=\"374\" y1=\"726\" x2=\"565\" y2=\"626\"/><line x1=\"445\" y1=\"615\" x2=\"636\" y2=\"518\"/><line x1=\"787\" y1=\"865\" x2=\"735\" y2=\"754\"/><line x1=\"787\" y1=\"865\" x2=\"667\" y2=\"858\"/><line x1=\"426\" y1=\"844\" x2=\"494\" y2=\"736\"/><line x1=\"949\" y1=\"444\" x2=\"1023\" y2=\"346\"/><line x1=\"600\" y1=\"959\" x2=\"667\" y2=\"858\"/><line x1=\"545\" y1=\"274\" x2=\"426\" y2=\"255\"/><line x1=\"590\" y1=\"396\" x2=\"470\" y2=\"380\"/><line x1=\"908\" y1=\"872\" x2=\"856\" y2=\"763\"/><line x1=\"976\" y1=\"772\" x2=\"856\" y2=\"763\"/><line x1=\"445\" y1=\"615\" x2=\"325\" y2=\"603\"/><line x1=\"470\" y1=\"380\" x2=\"350\" y2=\"365\"/><line x1=\"1046\" y1=\"671\" x2=\"1167\" y2=\"683\"/><line x1=\"1097\" y1=\"781\" x2=\"1046\" y2=\"671\"/><line x1=\"1116\" y1=\"573\" x2=\"996\" y2=\"560\"/><line x1=\"306\" y1=\"237\" x2=\"426\" y2=\"255\"/></g><g id=\"edges\" class=\"ttt\"><line x1=\"817\" y1=\"539\" x2=\"516\" y2=\"505\"/><line x1=\"817\" y1=\"539\" x2=\"494\" y2=\"736\"/><line x1=\"817\" y1=\"539\" x2=\"565\" y2=\"626\"/><line x1=\"817\" y1=\"539\" x2=\"1068\" y2=\"460\"/><line x1=\"817\" y1=\"539\" x2=\"664\" y2=\"292\"/><line x1=\"817\" y1=\"539\" x2=\"1046\" y2=\"671\"/><line x1=\"817\" y1=\"539\" x2=\"546\" y2=\"851\"/><line x1=\"817\" y1=\"539\" x2=\"636\" y2=\"518\"/><line x1=\"817\" y1=\"539\" x2=\"740\" y2=\"195\"/><line x1=\"817\" y1=\"539\" x2=\"735\" y2=\"754\"/><line x1=\"817\" y1=\"539\" x2=\"590\" y2=\"396\"/></g><g id=\"WTGgrp\"><g fill=\"#1f77b4\"><use href=\"#wtg\" x=\"516\" y=\"505\"/><use href=\"#wtg\" x=\"397\" y=\"491\"/><use href=\"#wtg\" x=\"276\" y=\"478\"/><use href=\"#wtg\" x=\"156\" y=\"464\"/></g><g fill=\"#aec7e8\"><use href=\"#wtg\" x=\"664\" y=\"292\"/><use href=\"#wtg\" x=\"545\" y=\"274\"/><use href=\"#wtg\" x=\"306\" y=\"237\"/><use href=\"#wtg\" x=\"426\" y=\"255\"/></g><g fill=\"#d62728\"><use href=\"#wtg\" x=\"621\" y=\"175\"/><use href=\"#wtg\" x=\"699\" y=\"81\"/><use href=\"#wtg\" x=\"740\" y=\"195\"/><use href=\"#wtg\" x=\"502\" y=\"155\"/></g><g fill=\"#ff7f0e\"><use href=\"#wtg\" x=\"829\" y=\"428\"/><use href=\"#wtg\" x=\"903\" y=\"328\"/><use href=\"#wtg\" x=\"859\" y=\"215\"/><use href=\"#wtg\" x=\"784\" y=\"310\"/></g><g fill=\"#c49c94\"><use href=\"#wtg\" x=\"230\" y=\"349\"/><use href=\"#wtg\" x=\"590\" y=\"396\"/><use href=\"#wtg\" x=\"470\" y=\"380\"/><use href=\"#wtg\" x=\"350\" y=\"365\"/></g><g fill=\"#ffbb78\"><use href=\"#wtg\" x=\"926\" y=\"660\"/><use href=\"#wtg\" x=\"908\" y=\"872\"/><use href=\"#wtg\" x=\"856\" y=\"763\"/><use href=\"#wtg\" x=\"976\" y=\"772\"/></g><g fill=\"#2ca02c\"><use href=\"#wtg\" x=\"876\" y=\"546\"/><use href=\"#wtg\" x=\"1116\" y=\"573\"/><use href=\"#wtg\" x=\"996\" y=\"560\"/></g><g fill=\"#bcbd22\"><use href=\"#wtg\" x=\"480\" y=\"954\"/><use href=\"#wtg\" x=\"359\" y=\"949\"/><use href=\"#wtg\" x=\"546\" y=\"851\"/><use href=\"#wtg\" x=\"238\" y=\"944\"/></g><g fill=\"#8c564b\"><use href=\"#wtg\" x=\"1188\" y=\"476\"/><use href=\"#wtg\" x=\"1142\" y=\"364\"/><use href=\"#wtg\" x=\"1068\" y=\"460\"/></g><g fill=\"#98df8a\"><use href=\"#wtg\" x=\"756\" y=\"532\"/><use href=\"#wtg\" x=\"709\" y=\"412\"/></g><g fill=\"#ff9896\"><use href=\"#wtg\" x=\"133\" y=\"708\"/><use href=\"#wtg\" x=\"254\" y=\"717\"/><use href=\"#wtg\" x=\"565\" y=\"626\"/><use href=\"#wtg\" x=\"374\" y=\"726\"/></g><g fill=\"#9467bd\"><use href=\"#wtg\" x=\"205\" y=\"592\"/><use href=\"#wtg\" x=\"636\" y=\"518\"/><use href=\"#wtg\" x=\"325\" y=\"603\"/><use href=\"#wtg\" x=\"445\" y=\"615\"/></g><g fill=\"#7f7f7f\"><use href=\"#wtg\" x=\"305\" y=\"837\"/><use href=\"#wtg\" x=\"426\" y=\"844\"/><use href=\"#wtg\" x=\"185\" y=\"830\"/><use href=\"#wtg\" x=\"494\" y=\"736\"/></g><g fill=\"#f7b6d2\"><use href=\"#wtg\" x=\"686\" y=\"637\"/><use href=\"#wtg\" x=\"615\" y=\"745\"/><use href=\"#wtg\" x=\"806\" y=\"649\"/></g><g fill=\"#c5b0d5\"><use href=\"#wtg\" x=\"735\" y=\"754\"/><use href=\"#wtg\" x=\"787\" y=\"865\"/><use href=\"#wtg\" x=\"667\" y=\"858\"/><use href=\"#wtg\" x=\"600\" y=\"959\"/></g><g fill=\"#e377c2\"><use href=\"#wtg\" x=\"1023\" y=\"346\"/><use href=\"#wtg\" x=\"949\" y=\"444\"/></g><g fill=\"#c7c7c7\"><use href=\"#wtg\" x=\"1046\" y=\"671\"/><use href=\"#wtg\" x=\"1167\" y=\"683\"/><use href=\"#wtg\" x=\"1097\" y=\"781\"/></g></g><g id=\"OSSgrp\"><use href=\"#oss\" x=\"806.5\" y=\"528.5\"/></g></g><text text-anchor=\"end\" font-family=\"sans-serif\" font-size=\"40\" fill=\"white\" x=\"1324\" y=\"1080\"><tspan x=\"1324\" dx=\"-0.2em\" dy=\"-0.2em\">&#931;&#955; = 42330.0 m</tspan><tspan x=\"1324\" dx=\"-0.2em\" dy=\"-1.2em\">(+2) &#945;: 17</tspan><tspan x=\"1324\" dx=\"-0.2em\" dy=\"-1.2em\">&#954; = 4, T = 60</tspan></text></svg>"
      ],
      "text/plain": [
       "<interarray.svg.SvgRepr at 0x27a110c9c00>"
      ]
     },
     "execution_count": 49,
     "metadata": {},
     "output_type": "execute_result"
    }
   ],
   "source": [
    "L = locations.amalia\n",
    "P, A = make_planar_embedding(L)\n",
    "S = EW_presolver(A, capacity=4)\n",
    "G = G_from_S(S, A)\n",
    "svgplot(G)"
   ]
  },
  {
   "cell_type": "markdown",
   "id": "73aab560-eff2-4358-b145-a8c7107144c1",
   "metadata": {
    "deletable": true,
    "editable": true,
    "frozen": false
   },
   "source": [
    "### Paper Farm"
   ]
  },
  {
   "cell_type": "code",
   "execution_count": 50,
   "id": "b5cb2eca-35e5-4d89-bd0f-5f0b9891163a",
   "metadata": {
    "deletable": true,
    "editable": true,
    "execution": {
     "iopub.execute_input": "2025-03-06T13:54:15.872912Z",
     "iopub.status.busy": "2025-03-06T13:54:15.872912Z",
     "iopub.status.idle": "2025-03-06T13:54:15.888219Z",
     "shell.execute_reply": "2025-03-06T13:54:15.888219Z",
     "shell.execute_reply.started": "2025-03-06T13:54:15.872912Z"
    },
    "frozen": false
   },
   "outputs": [],
   "source": [
    "L = L_from_pbf('paperfarm.osm.pbf')"
   ]
  },
  {
   "cell_type": "code",
   "execution_count": 51,
   "id": "89817942-2747-473a-b423-1f617256ca23",
   "metadata": {
    "deletable": true,
    "editable": true,
    "execution": {
     "iopub.execute_input": "2025-03-06T13:54:16.123650Z",
     "iopub.status.busy": "2025-03-06T13:54:16.122651Z",
     "iopub.status.idle": "2025-03-06T13:54:16.164608Z",
     "shell.execute_reply": "2025-03-06T13:54:16.164608Z",
     "shell.execute_reply.started": "2025-03-06T13:54:16.123650Z"
    },
    "frozen": false
   },
   "outputs": [],
   "source": [
    "P, A = make_planar_embedding(L)"
   ]
  },
  {
   "cell_type": "code",
   "execution_count": 52,
   "id": "313a70fc-aa95-4805-aeb5-ad12efd56896",
   "metadata": {
    "deletable": true,
    "editable": true,
    "execution": {
     "iopub.execute_input": "2025-03-06T13:54:16.358467Z",
     "iopub.status.busy": "2025-03-06T13:54:16.358467Z",
     "iopub.status.idle": "2025-03-06T13:54:16.371854Z",
     "shell.execute_reply": "2025-03-06T13:54:16.371747Z",
     "shell.execute_reply.started": "2025-03-06T13:54:16.358467Z"
    },
    "frozen": false
   },
   "outputs": [],
   "source": [
    "S = EW_presolver(A, capacity=4)"
   ]
  },
  {
   "cell_type": "code",
   "execution_count": 53,
   "id": "b222bf94-5872-4451-b937-6de0239b5f8d",
   "metadata": {
    "deletable": true,
    "editable": true,
    "execution": {
     "iopub.execute_input": "2025-03-06T13:54:16.608416Z",
     "iopub.status.busy": "2025-03-06T13:54:16.608416Z",
     "iopub.status.idle": "2025-03-06T13:54:16.615384Z",
     "shell.execute_reply": "2025-03-06T13:54:16.615384Z",
     "shell.execute_reply.started": "2025-03-06T13:54:16.608416Z"
    },
    "frozen": false
   },
   "outputs": [],
   "source": [
    "G = G_from_S(S, A)"
   ]
  },
  {
   "cell_type": "code",
   "execution_count": 54,
   "id": "ba5012dc-b1ce-4d85-a6af-df4e6642c2c3",
   "metadata": {
    "editable": true,
    "execution": {
     "iopub.execute_input": "2025-03-06T13:54:16.847509Z",
     "iopub.status.busy": "2025-03-06T13:54:16.844609Z",
     "iopub.status.idle": "2025-03-06T13:54:16.859280Z",
     "shell.execute_reply": "2025-03-06T13:54:16.859151Z",
     "shell.execute_reply.started": "2025-03-06T13:54:16.847509Z"
    },
    "frozen": false
   },
   "outputs": [
    {
     "data": {
      "image/svg+xml": [
       "<svg xmlns=\"http://www.w3.org/2000/svg\" viewBox=\"0 0 1920 1080\"><style>line {stroke-width: 4} .ttt {stroke: red; stroke-dasharray: 18 15} .std {stroke: crimson}</style><defs><circle stroke=\"none\" stroke-width=\"2\" id=\"wtg\" r=\"12\"/><rect stroke=\"none\" stroke-width=\"2\" id=\"oss\" width=\"21\" height=\"21\" fill=\"lawngreen\"/></defs><g><path stroke=\"silver\" stroke-dasharray=\"15 7\" stroke-width=\"2\" id=\"border\" d=\"M734 421 705 447 879 1050 30 1050 30 287 489 551 507 529 312 30 1470 30 1470 905z\" fill-rule=\"evenodd\" fill=\"#111\"/><g id=\"edges\" class=\"std\"><line x1=\"163\" y1=\"744\" x2=\"79\" y2=\"403\"/><line x1=\"541\" y1=\"266\" x2=\"971\" y2=\"94\"/><line x1=\"541\" y1=\"266\" x2=\"572\" y2=\"731\"/><line x1=\"541\" y1=\"266\" x2=\"1118\" y2=\"538\"/><line x1=\"541\" y1=\"266\" x2=\"354\" y2=\"48\"/><line x1=\"1447\" y1=\"532\" x2=\"1387\" y2=\"128\"/><line x1=\"1462\" y1=\"846\" x2=\"1447\" y2=\"532\"/><line x1=\"1447\" y1=\"532\" x2=\"1118\" y2=\"538\"/><line x1=\"572\" y1=\"731\" x2=\"413\" y2=\"922\"/><line x1=\"91\" y1=\"1026\" x2=\"163\" y2=\"744\"/><line x1=\"572\" y1=\"731\" x2=\"811\" y2=\"1033\"/></g><g id=\"edges\" class=\"ttt\"><line x1=\"541\" y1=\"266\" x2=\"163\" y2=\"744\"/></g><g id=\"WTGgrp\"><g fill=\"#2ca02c\"><use href=\"#wtg\" x=\"79\" y=\"403\"/><use href=\"#wtg\" x=\"91\" y=\"1026\"/><use href=\"#wtg\" x=\"163\" y=\"744\"/></g><g fill=\"#aec7e8\"><use href=\"#wtg\" x=\"1387\" y=\"128\"/><use href=\"#wtg\" x=\"1462\" y=\"846\"/><use href=\"#wtg\" x=\"1118\" y=\"538\"/><use href=\"#wtg\" x=\"1447\" y=\"532\"/></g><g fill=\"#1f77b4\"><use href=\"#wtg\" x=\"971\" y=\"94\"/></g><g fill=\"#ff7f0e\"><use href=\"#wtg\" x=\"413\" y=\"922\"/><use href=\"#wtg\" x=\"572\" y=\"731\"/><use href=\"#wtg\" x=\"811\" y=\"1033\"/></g><g fill=\"#ffbb78\"><use href=\"#wtg\" x=\"354\" y=\"48\"/></g></g><g id=\"OSSgrp\"><use href=\"#oss\" x=\"530.5\" y=\"255.5\"/></g></g><text text-anchor=\"end\" font-family=\"sans-serif\" font-size=\"40\" fill=\"white\" x=\"1500\" y=\"1080\"><tspan x=\"1500\" dx=\"-0.2em\" dy=\"-0.2em\">&#931;&#955; = 6565.6 m</tspan><tspan x=\"1500\" dx=\"-0.2em\" dy=\"-1.2em\">(+2) &#945;: 5</tspan><tspan x=\"1500\" dx=\"-0.2em\" dy=\"-1.2em\">&#954; = 4, T = 12</tspan></text></svg>"
      ],
      "text/plain": [
       "<interarray.svg.SvgRepr at 0x27a110ca050>"
      ]
     },
     "execution_count": 54,
     "metadata": {},
     "output_type": "execute_result"
    }
   ],
   "source": [
    "svgplot(G)"
   ]
  }
 ],
 "metadata": {
  "kernelspec": {
   "display_name": "«work»",
   "language": "python",
   "name": "work"
  },
  "language_info": {
   "codemirror_mode": {
    "name": "ipython",
    "version": 3
   },
   "file_extension": ".py",
   "mimetype": "text/x-python",
   "name": "python",
   "nbconvert_exporter": "python",
   "pygments_lexer": "ipython3",
   "version": "3.10.16"
  }
 },
 "nbformat": 4,
 "nbformat_minor": 5
}
