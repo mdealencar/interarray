{
 "cells": [
  {
   "cell_type": "code",
   "execution_count": 1,
   "id": "d4bdecfa-ec75-4efd-a2c1-09cca92606cb",
   "metadata": {
    "deletable": true,
    "editable": true,
    "execution": {
     "iopub.execute_input": "2025-03-06T15:06:19.520646Z",
     "iopub.status.busy": "2025-03-06T15:06:19.520646Z",
     "iopub.status.idle": "2025-03-06T15:06:21.042131Z",
     "shell.execute_reply": "2025-03-06T15:06:21.041778Z",
     "shell.execute_reply.started": "2025-03-06T15:06:19.520646Z"
    },
    "frozen": false
   },
   "outputs": [],
   "source": [
    "%load_ext autoreload\n",
    "%autoreload 1\n",
    "%aimport interarray.svg"
   ]
  },
  {
   "cell_type": "code",
   "execution_count": 8,
   "id": "342f6855-e2d1-4898-b8a3-3799a53106b5",
   "metadata": {
    "deletable": true,
    "editable": true,
    "execution": {
     "iopub.execute_input": "2025-03-06T15:56:57.192880Z",
     "iopub.status.busy": "2025-03-06T15:56:57.192880Z",
     "iopub.status.idle": "2025-03-06T15:56:57.219746Z",
     "shell.execute_reply": "2025-03-06T15:56:57.219746Z",
     "shell.execute_reply.started": "2025-03-06T15:56:57.192880Z"
    },
    "frozen": false
   },
   "outputs": [],
   "source": [
    "from interarray.importer import L_from_pbf, load_repository\n",
    "from interarray.mesh import make_planar_embedding\n",
    "from interarray.svg import svgplot\n",
    "from interarray.heuristics import EW_presolver\n",
    "from interarray.interarraylib import G_from_S\n",
    "from interarray.pathfinding import PathFinder"
   ]
  },
  {
   "cell_type": "code",
   "execution_count": 9,
   "id": "1c158d63-2107-433e-b8dd-1b7b459213fc",
   "metadata": {
    "editable": true,
    "execution": {
     "iopub.execute_input": "2025-03-10T15:40:37.144515Z",
     "iopub.status.busy": "2025-03-10T15:40:37.144515Z",
     "iopub.status.idle": "2025-03-10T15:40:37.164022Z",
     "shell.execute_reply": "2025-03-10T15:40:37.164022Z",
     "shell.execute_reply.started": "2025-03-10T15:40:37.144515Z"
    },
    "frozen": false
   },
   "outputs": [
    {
     "data": {
      "image/svg+xml": [
       "<svg xmlns=\"http://www.w3.org/2000/svg\" viewBox=\"0 0 1920 926\"><defs ><filter x=\"-5%\" y=\"-5%\" id=\"bg_textbox\" width=\"110%\" height=\"110%\"><feFlood flood-opacity=\"0.7\" flood-color=\"#111\" result=\"bg\"/><feMerge ><feMergeNode in=\"bg\"/><feMergeNode in=\"SourceGraphic\"/></feMerge></filter><circle stroke=\"none\" stroke-width=\"2\" id=\"wtg\" r=\"12\"/><rect stroke=\"none\" stroke-width=\"2\" id=\"oss\" width=\"21\" height=\"21\" fill=\"lawngreen\"/></defs><g id=\"triton\"><path stroke=\"silver\" stroke-dasharray=\"15 7\" stroke-width=\"2\" id=\"border\" d=\"M681 30 1890 728 1578 896 1270 890 90 884 30 485z\" fill-rule=\"evenodd\" fill=\"#111\"/><g stroke=\"crimson\" stroke-width=\"4\" id=\"edges_unspecified\"><line x1=\"560\" y1=\"747\" x2=\"490\" y2=\"705\"/><line x1=\"609\" y1=\"621\" x2=\"539\" y2=\"579\"/><line x1=\"609\" y1=\"621\" x2=\"777\" y2=\"412\"/><line x1=\"609\" y1=\"621\" x2=\"679\" y2=\"663\"/><line x1=\"820\" y1=\"748\" x2=\"749\" y2=\"705\"/><line x1=\"1507\" y1=\"539\" x2=\"1437\" y2=\"497\"/><line x1=\"1199\" y1=\"664\" x2=\"1318\" y2=\"581\"/><line x1=\"1199\" y1=\"664\" x2=\"1248\" y2=\"539\"/><line x1=\"1199\" y1=\"664\" x2=\"1269\" y2=\"707\"/><line x1=\"1199\" y1=\"664\" x2=\"1128\" y2=\"622\"/><line x1=\"1367\" y1=\"455\" x2=\"1296\" y2=\"413\"/><line x1=\"1340\" y1=\"749\" x2=\"1269\" y2=\"707\"/><line x1=\"1459\" y1=\"665\" x2=\"1388\" y2=\"623\"/><line x1=\"1388\" y1=\"623\" x2=\"1318\" y2=\"581\"/><line x1=\"300\" y1=\"747\" x2=\"349\" y2=\"621\"/><line x1=\"300\" y1=\"747\" x2=\"230\" y2=\"704\"/><line x1=\"349\" y1=\"621\" x2=\"279\" y2=\"578\"/><line x1=\"490\" y1=\"705\" x2=\"539\" y2=\"579\"/><line x1=\"539\" y1=\"579\" x2=\"586\" y2=\"454\"/><line x1=\"1128\" y1=\"622\" x2=\"1058\" y2=\"580\"/><line x1=\"1080\" y1=\"748\" x2=\"1128\" y2=\"622\"/><line x1=\"1248\" y1=\"539\" x2=\"1177\" y2=\"496\"/><line x1=\"1248\" y1=\"539\" x2=\"1296\" y2=\"413\"/><line x1=\"875\" y1=\"160\" x2=\"804\" y2=\"118\"/><line x1=\"669\" y1=\"75\" x2=\"734\" y2=\"75\"/><line x1=\"1486\" y1=\"875\" x2=\"1551\" y2=\"875\"/><line x1=\"1599\" y1=\"749\" x2=\"1529\" y2=\"707\"/><line x1=\"641\" y1=\"873\" x2=\"706\" y2=\"873\"/><line x1=\"706\" y1=\"873\" x2=\"771\" y2=\"873\"/><line x1=\"1735\" y1=\"792\" x2=\"1789\" y2=\"708\"/><line x1=\"1675\" y1=\"833\" x2=\"1735\" y2=\"792\"/><line x1=\"1789\" y1=\"708\" x2=\"1719\" y2=\"666\"/><line x1=\"1529\" y1=\"707\" x2=\"1459\" y2=\"665\"/><line x1=\"1648\" y1=\"623\" x2=\"1578\" y2=\"581\"/><line x1=\"1578\" y1=\"581\" x2=\"1507\" y2=\"539\"/><line x1=\"679\" y1=\"663\" x2=\"728\" y2=\"537\"/><line x1=\"869\" y1=\"622\" x2=\"917\" y2=\"496\"/><line x1=\"777\" y1=\"412\" x2=\"826\" y2=\"286\"/><line x1=\"945\" y1=\"202\" x2=\"875\" y2=\"160\"/><line x1=\"1015\" y1=\"244\" x2=\"945\" y2=\"202\"/><line x1=\"826\" y1=\"286\" x2=\"875\" y2=\"160\"/><line x1=\"312\" y1=\"326\" x2=\"371\" y2=\"285\"/><line x1=\"447\" y1=\"369\" x2=\"371\" y2=\"285\"/><line x1=\"431\" y1=\"243\" x2=\"491\" y2=\"201\"/><line x1=\"121\" y1=\"872\" x2=\"186\" y2=\"872\"/><line x1=\"105\" y1=\"746\" x2=\"159\" y2=\"662\"/><line x1=\"490\" y1=\"705\" x2=\"419\" y2=\"663\"/><line x1=\"896\" y1=\"328\" x2=\"826\" y2=\"286\"/><line x1=\"586\" y1=\"454\" x2=\"636\" y2=\"327\"/><line x1=\"491\" y1=\"201\" x2=\"550\" y2=\"159\"/><line x1=\"566\" y1=\"285\" x2=\"491\" y2=\"201\"/><line x1=\"1096\" y1=\"874\" x2=\"1080\" y2=\"748\"/><line x1=\"820\" y1=\"748\" x2=\"869\" y2=\"622\"/><line x1=\"1356\" y1=\"875\" x2=\"1421\" y2=\"875\"/><line x1=\"1421\" y1=\"875\" x2=\"1486\" y2=\"875\"/><line x1=\"836\" y1=\"874\" x2=\"820\" y2=\"748\"/><line x1=\"685\" y1=\"201\" x2=\"610\" y2=\"117\"/><line x1=\"610\" y1=\"117\" x2=\"669\" y2=\"75\"/><line x1=\"550\" y1=\"159\" x2=\"610\" y2=\"117\"/><line x1=\"1356\" y1=\"875\" x2=\"1340\" y2=\"749\"/><line x1=\"966\" y1=\"370\" x2=\"896\" y2=\"328\"/><line x1=\"1226\" y1=\"371\" x2=\"1156\" y2=\"328\"/><line x1=\"1031\" y1=\"874\" x2=\"1096\" y2=\"874\"/><line x1=\"1096\" y1=\"874\" x2=\"1161\" y2=\"874\"/><line x1=\"1161\" y1=\"874\" x2=\"1226\" y2=\"874\"/><line x1=\"966\" y1=\"874\" x2=\"1031\" y2=\"874\"/><line x1=\"251\" y1=\"872\" x2=\"316\" y2=\"872\"/><line x1=\"316\" y1=\"872\" x2=\"381\" y2=\"873\"/><line x1=\"771\" y1=\"873\" x2=\"836\" y2=\"874\"/><line x1=\"159\" y1=\"662\" x2=\"89\" y2=\"620\"/><line x1=\"230\" y1=\"704\" x2=\"159\" y2=\"662\"/><line x1=\"73\" y1=\"494\" x2=\"133\" y2=\"452\"/><line x1=\"133\" y1=\"452\" x2=\"193\" y2=\"410\"/><line x1=\"328\" y1=\"453\" x2=\"252\" y2=\"368\"/><line x1=\"1177\" y1=\"496\" x2=\"1107\" y2=\"454\"/><line x1=\"252\" y1=\"368\" x2=\"312\" y2=\"326\"/><line x1=\"193\" y1=\"410\" x2=\"252\" y2=\"368\"/><line x1=\"1719\" y1=\"666\" x2=\"1648\" y2=\"623\"/><line x1=\"186\" y1=\"872\" x2=\"251\" y2=\"872\"/><line x1=\"1296\" y1=\"413\" x2=\"1226\" y2=\"371\"/><line x1=\"279\" y1=\"578\" x2=\"208\" y2=\"536\"/><line x1=\"446\" y1=\"873\" x2=\"511\" y2=\"873\"/><line x1=\"511\" y1=\"873\" x2=\"576\" y2=\"873\"/><line x1=\"381\" y1=\"873\" x2=\"446\" y2=\"873\"/></g><g stroke=\"red\" stroke-dasharray=\"18 15\" stroke-width=\"4\" id=\"edges_tentative\"><line x1=\"609\" y1=\"621\" x2=\"447\" y2=\"369\"/><line x1=\"609\" y1=\"621\" x2=\"749\" y2=\"705\"/><line x1=\"609\" y1=\"621\" x2=\"576\" y2=\"873\"/><line x1=\"609\" y1=\"621\" x2=\"349\" y2=\"621\"/><line x1=\"609\" y1=\"621\" x2=\"566\" y2=\"285\"/><line x1=\"1199\" y1=\"664\" x2=\"1437\" y2=\"497\"/></g><g id=\"WTGgrp\"><g fill=\"#ff9896\"><use href=\"#wtg\" x=\"560\" y=\"747\"/><use href=\"#wtg\" x=\"539\" y=\"579\"/><use href=\"#wtg\" x=\"419\" y=\"663\"/><use href=\"#wtg\" x=\"586\" y=\"454\"/><use href=\"#wtg\" x=\"636\" y=\"327\"/><use href=\"#wtg\" x=\"490\" y=\"705\"/></g><g fill=\"#98df8a\"><use href=\"#wtg\" x=\"749\" y=\"705\"/><use href=\"#wtg\" x=\"641\" y=\"873\"/><use href=\"#wtg\" x=\"706\" y=\"873\"/><use href=\"#wtg\" x=\"917\" y=\"496\"/><use href=\"#wtg\" x=\"869\" y=\"622\"/><use href=\"#wtg\" x=\"820\" y=\"748\"/><use href=\"#wtg\" x=\"771\" y=\"873\"/><use href=\"#wtg\" x=\"836\" y=\"874\"/></g><g fill=\"#1f77b4\"><use href=\"#wtg\" x=\"1437\" y=\"497\"/><use href=\"#wtg\" x=\"1735\" y=\"792\"/><use href=\"#wtg\" x=\"1789\" y=\"708\"/><use href=\"#wtg\" x=\"1578\" y=\"581\"/><use href=\"#wtg\" x=\"1507\" y=\"539\"/><use href=\"#wtg\" x=\"1648\" y=\"623\"/><use href=\"#wtg\" x=\"1719\" y=\"666\"/><use href=\"#wtg\" x=\"1675\" y=\"833\"/></g><g fill=\"#ffbb78\"><use href=\"#wtg\" x=\"1367\" y=\"455\"/><use href=\"#wtg\" x=\"1248\" y=\"539\"/><use href=\"#wtg\" x=\"1156\" y=\"328\"/><use href=\"#wtg\" x=\"1107\" y=\"454\"/><use href=\"#wtg\" x=\"1177\" y=\"496\"/><use href=\"#wtg\" x=\"1296\" y=\"413\"/><use href=\"#wtg\" x=\"1226\" y=\"371\"/></g><g fill=\"#aec7e8\"><use href=\"#wtg\" x=\"1269\" y=\"707\"/><use href=\"#wtg\" x=\"1551\" y=\"875\"/><use href=\"#wtg\" x=\"1421\" y=\"875\"/><use href=\"#wtg\" x=\"1486\" y=\"875\"/><use href=\"#wtg\" x=\"1340\" y=\"749\"/><use href=\"#wtg\" x=\"1356\" y=\"875\"/></g><g fill=\"#2ca02c\"><use href=\"#wtg\" x=\"1388\" y=\"623\"/><use href=\"#wtg\" x=\"1599\" y=\"749\"/><use href=\"#wtg\" x=\"1459\" y=\"665\"/><use href=\"#wtg\" x=\"1318\" y=\"581\"/><use href=\"#wtg\" x=\"1529\" y=\"707\"/></g><g fill=\"#d62728\"><use href=\"#wtg\" x=\"300\" y=\"747\"/><use href=\"#wtg\" x=\"349\" y=\"621\"/><use href=\"#wtg\" x=\"105\" y=\"746\"/><use href=\"#wtg\" x=\"159\" y=\"662\"/><use href=\"#wtg\" x=\"89\" y=\"620\"/><use href=\"#wtg\" x=\"230\" y=\"704\"/><use href=\"#wtg\" x=\"279\" y=\"578\"/><use href=\"#wtg\" x=\"208\" y=\"536\"/></g><g fill=\"#ff7f0e\"><use href=\"#wtg\" x=\"1128\" y=\"622\"/><use href=\"#wtg\" x=\"1080\" y=\"748\"/><use href=\"#wtg\" x=\"1096\" y=\"874\"/><use href=\"#wtg\" x=\"1161\" y=\"874\"/><use href=\"#wtg\" x=\"966\" y=\"874\"/><use href=\"#wtg\" x=\"1226\" y=\"874\"/><use href=\"#wtg\" x=\"1058\" y=\"580\"/><use href=\"#wtg\" x=\"1031\" y=\"874\"/></g><g fill=\"#c5b0d5\"><use href=\"#wtg\" x=\"804\" y=\"118\"/><use href=\"#wtg\" x=\"777\" y=\"412\"/><use href=\"#wtg\" x=\"945\" y=\"202\"/><use href=\"#wtg\" x=\"875\" y=\"160\"/><use href=\"#wtg\" x=\"826\" y=\"286\"/><use href=\"#wtg\" x=\"966\" y=\"370\"/><use href=\"#wtg\" x=\"1015\" y=\"244\"/><use href=\"#wtg\" x=\"896\" y=\"328\"/></g><g fill=\"#c49c94\"><use href=\"#wtg\" x=\"734\" y=\"75\"/><use href=\"#wtg\" x=\"431\" y=\"243\"/><use href=\"#wtg\" x=\"491\" y=\"201\"/><use href=\"#wtg\" x=\"685\" y=\"201\"/><use href=\"#wtg\" x=\"610\" y=\"117\"/><use href=\"#wtg\" x=\"669\" y=\"75\"/><use href=\"#wtg\" x=\"550\" y=\"159\"/><use href=\"#wtg\" x=\"566\" y=\"285\"/></g><g fill=\"#9467bd\"><use href=\"#wtg\" x=\"679\" y=\"663\"/><use href=\"#wtg\" x=\"728\" y=\"537\"/></g><g fill=\"#8c564b\"><use href=\"#wtg\" x=\"371\" y=\"285\"/><use href=\"#wtg\" x=\"73\" y=\"494\"/><use href=\"#wtg\" x=\"133\" y=\"452\"/><use href=\"#wtg\" x=\"328\" y=\"453\"/><use href=\"#wtg\" x=\"447\" y=\"369\"/><use href=\"#wtg\" x=\"252\" y=\"368\"/><use href=\"#wtg\" x=\"312\" y=\"326\"/><use href=\"#wtg\" x=\"193\" y=\"410\"/></g><g fill=\"#e377c2\"><use href=\"#wtg\" x=\"121\" y=\"872\"/><use href=\"#wtg\" x=\"316\" y=\"872\"/><use href=\"#wtg\" x=\"186\" y=\"872\"/><use href=\"#wtg\" x=\"511\" y=\"873\"/><use href=\"#wtg\" x=\"381\" y=\"873\"/><use href=\"#wtg\" x=\"251\" y=\"872\"/><use href=\"#wtg\" x=\"446\" y=\"873\"/><use href=\"#wtg\" x=\"576\" y=\"873\"/></g></g><g id=\"OSSgrp\"><use href=\"#oss\" x=\"1188.5\" y=\"653.5\"/><use href=\"#oss\" x=\"598.5\" y=\"610.5\"/></g></g><text filter=\"url(#bg_textbox)\" text-anchor=\"end\" font-family=\"sans-serif\" font-size=\"40\" fill=\"white\" x=\"1890\" y=\"896\"><tspan x=\"1890\" dy=\"-0.0em\">&#931;&#955; = 113076.0 m</tspan><tspan x=\"1890\" dy=\"-1.3em\">(+1) &#945;: 8, &#946;: 5</tspan><tspan x=\"1890\" dy=\"-1.3em\">&#954; = 8, T = 90</tspan></text></svg>"
      ],
      "text/plain": [
       "<interarray.svg.SvgRepr at 0x22153372b40>"
      ]
     },
     "execution_count": 9,
     "metadata": {},
     "output_type": "execute_result"
    }
   ],
   "source": [
    "Sʹ = EW_presolver(A, capacity=capacity)\n",
    "Gʹ = G_from_S(Sʹ, A)\n",
    "svgplot(Gʹ)"
   ]
  },
  {
   "cell_type": "code",
   "execution_count": 3,
   "id": "7a3ff19d-f6b7-4bf7-aeea-eb264683fd93",
   "metadata": {
    "deletable": true,
    "editable": true,
    "execution": {
     "iopub.execute_input": "2025-03-06T15:06:21.195800Z",
     "iopub.status.busy": "2025-03-06T15:06:21.195800Z",
     "iopub.status.idle": "2025-03-06T15:06:21.827996Z",
     "shell.execute_reply": "2025-03-06T15:06:21.826991Z",
     "shell.execute_reply.started": "2025-03-06T15:06:21.195800Z"
    },
    "frozen": false
   },
   "outputs": [],
   "source": [
    "locations = load_repository()"
   ]
  },
  {
   "cell_type": "code",
   "execution_count": 7,
   "id": "5b085e22-8f26-4d96-a0ae-7ff8ae32b0ae",
   "metadata": {
    "deletable": true,
    "editable": true,
    "execution": {
     "iopub.execute_input": "2025-03-06T15:56:35.673525Z",
     "iopub.status.busy": "2025-03-06T15:56:35.673525Z",
     "iopub.status.idle": "2025-03-06T15:56:35.946374Z",
     "shell.execute_reply": "2025-03-06T15:56:35.945348Z",
     "shell.execute_reply.started": "2025-03-06T15:56:35.673525Z"
    },
    "frozen": false
   },
   "outputs": [
    {
     "data": {
      "image/svg+xml": [
       "<svg xmlns=\"http://www.w3.org/2000/svg\" viewBox=\"0 0 1920 342\"><defs><circle stroke=\"none\" stroke-width=\"2\" id=\"wtg\" r=\"12\"/><rect stroke=\"none\" stroke-width=\"2\" id=\"oss\" width=\"21\" height=\"21\" fill=\"lawngreen\"/></defs><g id=\"sandbank\"><path stroke=\"silver\" stroke-dasharray=\"15 7\" stroke-width=\"2\" id=\"border\" d=\"M122 311 30 216 30 124 32 30 123 32 215 32 310 32 404 31 1238 32 1331 35 1423 34 1516 32 1611 32 1702 30 1798 30 1886 30 1890 218 1795 312 1703 312 1610 312 1516 312 1425 312 1327 312 1239 312 1143 312 1051 312 959 312 867 312 772 312 680 312 584 312 495 312 401 311 306 311 217 311z\" fill-rule=\"evenodd\" fill=\"#111\"/><g stroke=\"crimson\" stroke-width=\"4\" id=\"edges_unspecified\"><line x1=\"681\" y1=\"218\" x2=\"774\" y2=\"218\"/><line x1=\"1007\" y1=\"170\" x2=\"958\" y2=\"220\"/><line x1=\"1007\" y1=\"170\" x2=\"1051\" y2=\"125\"/><line x1=\"1007\" y1=\"170\" x2=\"957\" y2=\"127\"/><line x1=\"1007\" y1=\"170\" x2=\"1052\" y2=\"223\"/><line x1=\"1007\" y1=\"170\" x2=\"959\" y2=\"312\"/><line x1=\"867\" y1=\"125\" x2=\"957\" y2=\"127\"/><line x1=\"1702\" y1=\"127\" x2=\"1794\" y2=\"126\"/><line x1=\"1794\" y1=\"126\" x2=\"1888\" y2=\"125\"/><line x1=\"1886\" y1=\"30\" x2=\"1798\" y2=\"30\"/><line x1=\"1702\" y1=\"30\" x2=\"1798\" y2=\"30\"/><line x1=\"1052\" y1=\"223\" x2=\"1145\" y2=\"219\"/><line x1=\"1145\" y1=\"219\" x2=\"1239\" y2=\"217\"/><line x1=\"1239\" y1=\"217\" x2=\"1333\" y2=\"216\"/><line x1=\"1610\" y1=\"312\" x2=\"1703\" y2=\"312\"/><line x1=\"1516\" y1=\"312\" x2=\"1610\" y2=\"312\"/><line x1=\"1795\" y1=\"312\" x2=\"1703\" y2=\"312\"/><line x1=\"1143\" y1=\"312\" x2=\"1239\" y2=\"312\"/><line x1=\"1051\" y1=\"312\" x2=\"1143\" y2=\"312\"/><line x1=\"1239\" y1=\"312\" x2=\"1327\" y2=\"312\"/><line x1=\"1611\" y1=\"218\" x2=\"1702\" y2=\"220\"/><line x1=\"1702\" y1=\"220\" x2=\"1795\" y2=\"220\"/><line x1=\"309\" y1=\"126\" x2=\"401\" y2=\"128\"/><line x1=\"403\" y1=\"220\" x2=\"493\" y2=\"220\"/><line x1=\"493\" y1=\"220\" x2=\"495\" y2=\"312\"/><line x1=\"1238\" y1=\"32\" x2=\"1331\" y2=\"35\"/><line x1=\"1423\" y1=\"34\" x2=\"1516\" y2=\"32\"/><line x1=\"1423\" y1=\"123\" x2=\"1423\" y2=\"34\"/><line x1=\"1890\" y1=\"218\" x2=\"1795\" y2=\"220\"/><line x1=\"1329\" y1=\"127\" x2=\"1423\" y2=\"123\"/><line x1=\"404\" y1=\"31\" x2=\"310\" y2=\"32\"/><line x1=\"30\" y1=\"124\" x2=\"122\" y2=\"126\"/><line x1=\"122\" y1=\"126\" x2=\"123\" y2=\"216\"/><line x1=\"215\" y1=\"32\" x2=\"218\" y2=\"124\"/><line x1=\"1145\" y1=\"127\" x2=\"1237\" y2=\"127\"/><line x1=\"309\" y1=\"126\" x2=\"308\" y2=\"218\"/><line x1=\"215\" y1=\"218\" x2=\"308\" y2=\"218\"/><line x1=\"1611\" y1=\"32\" x2=\"1702\" y2=\"30\"/><line x1=\"1609\" y1=\"128\" x2=\"1702\" y2=\"127\"/><line x1=\"1238\" y1=\"32\" x2=\"1237\" y2=\"127\"/><line x1=\"122\" y1=\"311\" x2=\"217\" y2=\"311\"/><line x1=\"217\" y1=\"311\" x2=\"306\" y2=\"311\"/><line x1=\"32\" y1=\"30\" x2=\"123\" y2=\"32\"/><line x1=\"215\" y1=\"32\" x2=\"123\" y2=\"32\"/><line x1=\"495\" y1=\"123\" x2=\"591\" y2=\"123\"/><line x1=\"404\" y1=\"31\" x2=\"495\" y2=\"123\"/><line x1=\"587\" y1=\"218\" x2=\"681\" y2=\"218\"/><line x1=\"495\" y1=\"312\" x2=\"584\" y2=\"312\"/><line x1=\"1518\" y1=\"126\" x2=\"1518\" y2=\"219\"/><line x1=\"1425\" y1=\"312\" x2=\"1425\" y2=\"219\"/><line x1=\"681\" y1=\"126\" x2=\"681\" y2=\"218\"/><line x1=\"1425\" y1=\"219\" x2=\"1518\" y2=\"219\"/><line x1=\"306\" y1=\"311\" x2=\"401\" y2=\"311\"/><line x1=\"30\" y1=\"216\" x2=\"123\" y2=\"216\"/><line x1=\"772\" y1=\"312\" x2=\"867\" y2=\"312\"/><line x1=\"959\" y1=\"312\" x2=\"867\" y2=\"312\"/><line x1=\"680\" y1=\"312\" x2=\"772\" y2=\"312\"/></g><g stroke=\"red\" stroke-dasharray=\"18 15\" stroke-width=\"4\" id=\"edges_tentative\"><line x1=\"1007\" y1=\"170\" x2=\"774\" y2=\"218\"/><line x1=\"1007\" y1=\"170\" x2=\"1611\" y2=\"218\"/><line x1=\"1007\" y1=\"170\" x2=\"123\" y2=\"216\"/><line x1=\"1007\" y1=\"170\" x2=\"1329\" y2=\"127\"/><line x1=\"1007\" y1=\"170\" x2=\"584\" y2=\"312\"/><line x1=\"1007\" y1=\"170\" x2=\"218\" y2=\"124\"/><line x1=\"1007\" y1=\"170\" x2=\"401\" y2=\"128\"/><line x1=\"1007\" y1=\"170\" x2=\"1425\" y2=\"219\"/><line x1=\"1007\" y1=\"170\" x2=\"1145\" y2=\"127\"/><line x1=\"1007\" y1=\"170\" x2=\"1611\" y2=\"32\"/><line x1=\"1007\" y1=\"170\" x2=\"1051\" y2=\"312\"/><line x1=\"1007\" y1=\"170\" x2=\"1609\" y2=\"128\"/><line x1=\"1007\" y1=\"170\" x2=\"591\" y2=\"123\"/><line x1=\"1007\" y1=\"170\" x2=\"1516\" y2=\"312\"/><line x1=\"1007\" y1=\"170\" x2=\"401\" y2=\"311\"/></g><g id=\"WTGgrp\"><g fill=\"#1f77b4\"><use href=\"#wtg\" x=\"774\" y=\"218\"/><use href=\"#wtg\" x=\"587\" y=\"218\"/><use href=\"#wtg\" x=\"681\" y=\"218\"/><use href=\"#wtg\" x=\"681\" y=\"126\"/></g><g fill=\"#8c564b\"><use href=\"#wtg\" x=\"867\" y=\"125\"/><use href=\"#wtg\" x=\"957\" y=\"127\"/></g><g fill=\"#f7b6d2\"><use href=\"#wtg\" x=\"1794\" y=\"126\"/><use href=\"#wtg\" x=\"1888\" y=\"125\"/><use href=\"#wtg\" x=\"1702\" y=\"127\"/><use href=\"#wtg\" x=\"1609\" y=\"128\"/></g><g fill=\"#c5b0d5\"><use href=\"#wtg\" x=\"1798\" y=\"30\"/><use href=\"#wtg\" x=\"1611\" y=\"32\"/><use href=\"#wtg\" x=\"1702\" y=\"30\"/><use href=\"#wtg\" x=\"1886\" y=\"30\"/></g><g fill=\"#ffbb78\"><use href=\"#wtg\" x=\"1145\" y=\"219\"/><use href=\"#wtg\" x=\"1239\" y=\"217\"/><use href=\"#wtg\" x=\"1333\" y=\"216\"/><use href=\"#wtg\" x=\"1052\" y=\"223\"/></g><g fill=\"#7f7f7f\"><use href=\"#wtg\" x=\"1610\" y=\"312\"/><use href=\"#wtg\" x=\"1703\" y=\"312\"/><use href=\"#wtg\" x=\"1795\" y=\"312\"/><use href=\"#wtg\" x=\"1516\" y=\"312\"/></g><g fill=\"#c49c94\"><use href=\"#wtg\" x=\"1143\" y=\"312\"/><use href=\"#wtg\" x=\"1239\" y=\"312\"/><use href=\"#wtg\" x=\"1327\" y=\"312\"/><use href=\"#wtg\" x=\"1051\" y=\"312\"/></g><g fill=\"#aec7e8\"><use href=\"#wtg\" x=\"1611\" y=\"218\"/><use href=\"#wtg\" x=\"1702\" y=\"220\"/><use href=\"#wtg\" x=\"1890\" y=\"218\"/><use href=\"#wtg\" x=\"1795\" y=\"220\"/></g><g fill=\"#ff7f0e\"><use href=\"#wtg\" x=\"401\" y=\"128\"/><use href=\"#wtg\" x=\"309\" y=\"126\"/><use href=\"#wtg\" x=\"308\" y=\"218\"/><use href=\"#wtg\" x=\"215\" y=\"218\"/></g><g fill=\"#e377c2\"><use href=\"#wtg\" x=\"493\" y=\"220\"/><use href=\"#wtg\" x=\"584\" y=\"312\"/><use href=\"#wtg\" x=\"403\" y=\"220\"/><use href=\"#wtg\" x=\"495\" y=\"312\"/></g><g fill=\"#2ca02c\"><use href=\"#wtg\" x=\"1051\" y=\"125\"/></g><g fill=\"#ff9896\"><use href=\"#wtg\" x=\"1331\" y=\"35\"/><use href=\"#wtg\" x=\"1145\" y=\"127\"/><use href=\"#wtg\" x=\"1238\" y=\"32\"/><use href=\"#wtg\" x=\"1237\" y=\"127\"/></g><g fill=\"#98df8a\"><use href=\"#wtg\" x=\"1423\" y=\"34\"/><use href=\"#wtg\" x=\"1329\" y=\"127\"/><use href=\"#wtg\" x=\"1423\" y=\"123\"/><use href=\"#wtg\" x=\"1516\" y=\"32\"/></g><g fill=\"#17becf\"><use href=\"#wtg\" x=\"310\" y=\"32\"/><use href=\"#wtg\" x=\"495\" y=\"123\"/><use href=\"#wtg\" x=\"591\" y=\"123\"/><use href=\"#wtg\" x=\"404\" y=\"31\"/></g><g fill=\"#bcbd22\"><use href=\"#wtg\" x=\"122\" y=\"126\"/><use href=\"#wtg\" x=\"123\" y=\"216\"/><use href=\"#wtg\" x=\"30\" y=\"216\"/><use href=\"#wtg\" x=\"30\" y=\"124\"/></g><g fill=\"#d62728\"><use href=\"#wtg\" x=\"218\" y=\"124\"/><use href=\"#wtg\" x=\"32\" y=\"30\"/><use href=\"#wtg\" x=\"123\" y=\"32\"/><use href=\"#wtg\" x=\"215\" y=\"32\"/></g><g fill=\"#9467bd\"><use href=\"#wtg\" x=\"958\" y=\"220\"/></g><g fill=\"#c7c7c7\"><use href=\"#wtg\" x=\"122\" y=\"311\"/><use href=\"#wtg\" x=\"217\" y=\"311\"/><use href=\"#wtg\" x=\"401\" y=\"311\"/><use href=\"#wtg\" x=\"306\" y=\"311\"/></g><g fill=\"#dbdb8d\"><use href=\"#wtg\" x=\"1518\" y=\"126\"/><use href=\"#wtg\" x=\"1425\" y=\"312\"/><use href=\"#wtg\" x=\"1518\" y=\"219\"/><use href=\"#wtg\" x=\"1425\" y=\"219\"/></g><g fill=\"#9edae5\"><use href=\"#wtg\" x=\"867\" y=\"312\"/><use href=\"#wtg\" x=\"959\" y=\"312\"/><use href=\"#wtg\" x=\"680\" y=\"312\"/><use href=\"#wtg\" x=\"772\" y=\"312\"/></g></g><g id=\"OSSgrp\"><use href=\"#oss\" x=\"996.5\" y=\"159.5\"/></g></g><text text-anchor=\"end\" font-family=\"sans-serif\" font-size=\"40\" fill=\"white\" x=\"1920\" y=\"342\"><tspan x=\"1920\" dx=\"-0.2em\" dy=\"-0.2em\">&#931;&#955; = 136684.0 m</tspan><tspan x=\"1920\" dx=\"-0.2em\" dy=\"-1.2em\">(+2) &#945;: 20</tspan><tspan x=\"1920\" dx=\"-0.2em\" dy=\"-1.2em\">&#954; = 4, T = 72</tspan></text></svg>"
      ],
      "text/plain": [
       "<interarray.svg.SvgRepr at 0x15838792470>"
      ]
     },
     "execution_count": 7,
     "metadata": {},
     "output_type": "execute_result"
    }
   ],
   "source": [
    "L = locations.sandbank\n",
    "P, A = make_planar_embedding(L)\n",
    "S = EW_presolver(A, capacity=4)\n",
    "G = G_from_S(S, A)\n",
    "svgplot(G)"
   ]
  },
  {
   "cell_type": "code",
   "execution_count": 10,
   "id": "bcc1af9d-b801-4912-adfb-4aa71eabd90d",
   "metadata": {
    "deletable": true,
    "editable": true,
    "execution": {
     "iopub.execute_input": "2025-03-06T15:58:15.043769Z",
     "iopub.status.busy": "2025-03-06T15:58:15.043769Z",
     "iopub.status.idle": "2025-03-06T15:58:15.183265Z",
     "shell.execute_reply": "2025-03-06T15:58:15.182975Z",
     "shell.execute_reply.started": "2025-03-06T15:58:15.043769Z"
    },
    "frozen": false
   },
   "outputs": [
    {
     "data": {
      "image/svg+xml": [
       "<svg xmlns=\"http://www.w3.org/2000/svg\" viewBox=\"0 0 1920 342\"><defs><circle stroke=\"none\" stroke-width=\"2\" id=\"wtg\" r=\"12\"/><rect stroke=\"none\" stroke-width=\"2\" id=\"oss\" width=\"21\" height=\"21\" fill=\"lawngreen\"/><circle stroke=\"orange\" stroke-opacity=\"0.3\" stroke-width=\"4\" id=\"dt\" r=\"23\" fill=\"none\"/></defs><g id=\"sandbank\"><path stroke=\"silver\" stroke-dasharray=\"15 7\" stroke-width=\"2\" id=\"border\" d=\"M122 311 30 216 30 124 32 30 123 32 215 32 310 32 404 31 1238 32 1331 35 1423 34 1516 32 1611 32 1702 30 1798 30 1886 30 1890 218 1795 312 1703 312 1610 312 1516 312 1425 312 1327 312 1239 312 1143 312 1051 312 959 312 867 312 772 312 680 312 584 312 495 312 401 311 306 311 217 311z\" fill-rule=\"evenodd\" fill=\"#111\"/><g stroke=\"crimson\" stroke-width=\"4\" id=\"edges_unspecified\"><line x1=\"681\" y1=\"218\" x2=\"774\" y2=\"218\"/><line x1=\"1007\" y1=\"170\" x2=\"774\" y2=\"218\"/><line x1=\"1007\" y1=\"170\" x2=\"958\" y2=\"220\"/><line x1=\"1007\" y1=\"170\" x2=\"1051\" y2=\"125\"/><line x1=\"1007\" y1=\"170\" x2=\"957\" y2=\"127\"/><line x1=\"1007\" y1=\"170\" x2=\"1052\" y2=\"223\"/><line x1=\"1007\" y1=\"170\" x2=\"959\" y2=\"312\"/><line x1=\"1007\" y1=\"170\" x2=\"1329\" y2=\"127\"/><line x1=\"1007\" y1=\"170\" x2=\"584\" y2=\"312\"/><line x1=\"1007\" y1=\"170\" x2=\"1425\" y2=\"219\"/><line x1=\"1007\" y1=\"170\" x2=\"1145\" y2=\"127\"/><line x1=\"1007\" y1=\"170\" x2=\"1051\" y2=\"312\"/><line x1=\"867\" y1=\"125\" x2=\"957\" y2=\"127\"/><line x1=\"1702\" y1=\"127\" x2=\"1794\" y2=\"126\"/><line x1=\"1794\" y1=\"126\" x2=\"1888\" y2=\"125\"/><line x1=\"1886\" y1=\"30\" x2=\"1798\" y2=\"30\"/><line x1=\"1702\" y1=\"30\" x2=\"1798\" y2=\"30\"/><line x1=\"1052\" y1=\"223\" x2=\"1145\" y2=\"219\"/><line x1=\"1145\" y1=\"219\" x2=\"1239\" y2=\"217\"/><line x1=\"1239\" y1=\"217\" x2=\"1333\" y2=\"216\"/><line x1=\"1610\" y1=\"312\" x2=\"1703\" y2=\"312\"/><line x1=\"1516\" y1=\"312\" x2=\"1610\" y2=\"312\"/><line x1=\"1795\" y1=\"312\" x2=\"1703\" y2=\"312\"/><line x1=\"1143\" y1=\"312\" x2=\"1239\" y2=\"312\"/><line x1=\"1051\" y1=\"312\" x2=\"1143\" y2=\"312\"/><line x1=\"1239\" y1=\"312\" x2=\"1327\" y2=\"312\"/><line x1=\"1611\" y1=\"218\" x2=\"1702\" y2=\"220\"/><line x1=\"1702\" y1=\"220\" x2=\"1795\" y2=\"220\"/><line x1=\"309\" y1=\"126\" x2=\"401\" y2=\"128\"/><line x1=\"403\" y1=\"220\" x2=\"493\" y2=\"220\"/><line x1=\"493\" y1=\"220\" x2=\"495\" y2=\"312\"/><line x1=\"1238\" y1=\"32\" x2=\"1331\" y2=\"35\"/><line x1=\"1423\" y1=\"34\" x2=\"1516\" y2=\"32\"/><line x1=\"1423\" y1=\"123\" x2=\"1423\" y2=\"34\"/><line x1=\"1890\" y1=\"218\" x2=\"1795\" y2=\"220\"/><line x1=\"1329\" y1=\"127\" x2=\"1423\" y2=\"123\"/><line x1=\"404\" y1=\"31\" x2=\"310\" y2=\"32\"/><line x1=\"30\" y1=\"124\" x2=\"122\" y2=\"126\"/><line x1=\"122\" y1=\"126\" x2=\"123\" y2=\"216\"/><line x1=\"215\" y1=\"32\" x2=\"218\" y2=\"124\"/><line x1=\"1145\" y1=\"127\" x2=\"1237\" y2=\"127\"/><line x1=\"309\" y1=\"126\" x2=\"308\" y2=\"218\"/><line x1=\"215\" y1=\"218\" x2=\"308\" y2=\"218\"/><line x1=\"1611\" y1=\"32\" x2=\"1702\" y2=\"30\"/><line x1=\"1609\" y1=\"128\" x2=\"1702\" y2=\"127\"/><line x1=\"1238\" y1=\"32\" x2=\"1237\" y2=\"127\"/><line x1=\"122\" y1=\"311\" x2=\"217\" y2=\"311\"/><line x1=\"217\" y1=\"311\" x2=\"306\" y2=\"311\"/><line x1=\"32\" y1=\"30\" x2=\"123\" y2=\"32\"/><line x1=\"215\" y1=\"32\" x2=\"123\" y2=\"32\"/><line x1=\"495\" y1=\"123\" x2=\"591\" y2=\"123\"/><line x1=\"404\" y1=\"31\" x2=\"495\" y2=\"123\"/><line x1=\"587\" y1=\"218\" x2=\"681\" y2=\"218\"/><line x1=\"495\" y1=\"312\" x2=\"584\" y2=\"312\"/><line x1=\"1518\" y1=\"126\" x2=\"1518\" y2=\"219\"/><line x1=\"1425\" y1=\"312\" x2=\"1425\" y2=\"219\"/><line x1=\"681\" y1=\"126\" x2=\"681\" y2=\"218\"/><line x1=\"1425\" y1=\"219\" x2=\"1518\" y2=\"219\"/><line x1=\"306\" y1=\"311\" x2=\"401\" y2=\"311\"/><line x1=\"30\" y1=\"216\" x2=\"123\" y2=\"216\"/><line x1=\"772\" y1=\"312\" x2=\"867\" y2=\"312\"/><line x1=\"959\" y1=\"312\" x2=\"867\" y2=\"312\"/><line x1=\"680\" y1=\"312\" x2=\"772\" y2=\"312\"/></g><g stroke=\"darkorange\" stroke-dasharray=\"18 15\" stroke-width=\"4\" id=\"detours\" fill=\"none\"><polyline points=\"1007 170 681 126 122 126\"/><polyline points=\"1007 170 1518 126 1611 218\"/><polyline points=\"1007 170 681 126 218 124\"/><polyline points=\"1007 170 681 126 401 128\"/><polyline points=\"1007 170 1423 123 1611 32\"/><polyline points=\"1007 170 681 126 591 123\"/><polyline points=\"1007 170 1052 223 1425 312 1516 312\"/><polyline points=\"1007 170 1518 126 1609 128\"/><polyline points=\"1007 170 584 312 495 312 401 311\"/></g><g id=\"DTgrp\"><use href=\"#dt\" x=\"681\" y=\"126\"/><use href=\"#dt\" x=\"1518\" y=\"126\"/><use href=\"#dt\" x=\"681\" y=\"126\"/><use href=\"#dt\" x=\"681\" y=\"126\"/><use href=\"#dt\" x=\"1423\" y=\"123\"/><use href=\"#dt\" x=\"681\" y=\"126\"/><use href=\"#dt\" x=\"1425\" y=\"312\"/><use href=\"#dt\" x=\"1052\" y=\"223\"/><use href=\"#dt\" x=\"1518\" y=\"126\"/><use href=\"#dt\" x=\"495\" y=\"312\"/><use href=\"#dt\" x=\"584\" y=\"312\"/></g><g id=\"WTGgrp\"><g fill=\"#1f77b4\"><use href=\"#wtg\" x=\"774\" y=\"218\"/><use href=\"#wtg\" x=\"587\" y=\"218\"/><use href=\"#wtg\" x=\"681\" y=\"218\"/><use href=\"#wtg\" x=\"681\" y=\"126\"/></g><g fill=\"#8c564b\"><use href=\"#wtg\" x=\"867\" y=\"125\"/><use href=\"#wtg\" x=\"957\" y=\"127\"/></g><g fill=\"#f7b6d2\"><use href=\"#wtg\" x=\"1794\" y=\"126\"/><use href=\"#wtg\" x=\"1888\" y=\"125\"/><use href=\"#wtg\" x=\"1702\" y=\"127\"/><use href=\"#wtg\" x=\"1609\" y=\"128\"/></g><g fill=\"#c5b0d5\"><use href=\"#wtg\" x=\"1798\" y=\"30\"/><use href=\"#wtg\" x=\"1611\" y=\"32\"/><use href=\"#wtg\" x=\"1702\" y=\"30\"/><use href=\"#wtg\" x=\"1886\" y=\"30\"/></g><g fill=\"#ffbb78\"><use href=\"#wtg\" x=\"1145\" y=\"219\"/><use href=\"#wtg\" x=\"1239\" y=\"217\"/><use href=\"#wtg\" x=\"1333\" y=\"216\"/><use href=\"#wtg\" x=\"1052\" y=\"223\"/></g><g fill=\"#7f7f7f\"><use href=\"#wtg\" x=\"1610\" y=\"312\"/><use href=\"#wtg\" x=\"1703\" y=\"312\"/><use href=\"#wtg\" x=\"1795\" y=\"312\"/><use href=\"#wtg\" x=\"1516\" y=\"312\"/></g><g fill=\"#c49c94\"><use href=\"#wtg\" x=\"1143\" y=\"312\"/><use href=\"#wtg\" x=\"1239\" y=\"312\"/><use href=\"#wtg\" x=\"1327\" y=\"312\"/><use href=\"#wtg\" x=\"1051\" y=\"312\"/></g><g fill=\"#aec7e8\"><use href=\"#wtg\" x=\"1611\" y=\"218\"/><use href=\"#wtg\" x=\"1702\" y=\"220\"/><use href=\"#wtg\" x=\"1890\" y=\"218\"/><use href=\"#wtg\" x=\"1795\" y=\"220\"/></g><g fill=\"#ff7f0e\"><use href=\"#wtg\" x=\"401\" y=\"128\"/><use href=\"#wtg\" x=\"309\" y=\"126\"/><use href=\"#wtg\" x=\"308\" y=\"218\"/><use href=\"#wtg\" x=\"215\" y=\"218\"/></g><g fill=\"#e377c2\"><use href=\"#wtg\" x=\"493\" y=\"220\"/><use href=\"#wtg\" x=\"584\" y=\"312\"/><use href=\"#wtg\" x=\"403\" y=\"220\"/><use href=\"#wtg\" x=\"495\" y=\"312\"/></g><g fill=\"#2ca02c\"><use href=\"#wtg\" x=\"1051\" y=\"125\"/></g><g fill=\"#ff9896\"><use href=\"#wtg\" x=\"1331\" y=\"35\"/><use href=\"#wtg\" x=\"1145\" y=\"127\"/><use href=\"#wtg\" x=\"1238\" y=\"32\"/><use href=\"#wtg\" x=\"1237\" y=\"127\"/></g><g fill=\"#98df8a\"><use href=\"#wtg\" x=\"1423\" y=\"34\"/><use href=\"#wtg\" x=\"1329\" y=\"127\"/><use href=\"#wtg\" x=\"1423\" y=\"123\"/><use href=\"#wtg\" x=\"1516\" y=\"32\"/></g><g fill=\"#17becf\"><use href=\"#wtg\" x=\"310\" y=\"32\"/><use href=\"#wtg\" x=\"495\" y=\"123\"/><use href=\"#wtg\" x=\"591\" y=\"123\"/><use href=\"#wtg\" x=\"404\" y=\"31\"/></g><g fill=\"#bcbd22\"><use href=\"#wtg\" x=\"122\" y=\"126\"/><use href=\"#wtg\" x=\"123\" y=\"216\"/><use href=\"#wtg\" x=\"30\" y=\"216\"/><use href=\"#wtg\" x=\"30\" y=\"124\"/></g><g fill=\"#d62728\"><use href=\"#wtg\" x=\"218\" y=\"124\"/><use href=\"#wtg\" x=\"32\" y=\"30\"/><use href=\"#wtg\" x=\"123\" y=\"32\"/><use href=\"#wtg\" x=\"215\" y=\"32\"/></g><g fill=\"#9467bd\"><use href=\"#wtg\" x=\"958\" y=\"220\"/></g><g fill=\"#c7c7c7\"><use href=\"#wtg\" x=\"122\" y=\"311\"/><use href=\"#wtg\" x=\"217\" y=\"311\"/><use href=\"#wtg\" x=\"401\" y=\"311\"/><use href=\"#wtg\" x=\"306\" y=\"311\"/></g><g fill=\"#dbdb8d\"><use href=\"#wtg\" x=\"1518\" y=\"126\"/><use href=\"#wtg\" x=\"1425\" y=\"312\"/><use href=\"#wtg\" x=\"1518\" y=\"219\"/><use href=\"#wtg\" x=\"1425\" y=\"219\"/></g><g fill=\"#9edae5\"><use href=\"#wtg\" x=\"867\" y=\"312\"/><use href=\"#wtg\" x=\"959\" y=\"312\"/><use href=\"#wtg\" x=\"680\" y=\"312\"/><use href=\"#wtg\" x=\"772\" y=\"312\"/></g></g><g id=\"OSSgrp\"><use href=\"#oss\" x=\"996.5\" y=\"159.5\"/></g></g><text text-anchor=\"end\" font-family=\"sans-serif\" font-size=\"40\" fill=\"white\" x=\"-20002\" y=\"342\"><tspan x=\"-20002\" dx=\"-0.2em\" dy=\"-0.2em\">&#931;&#955; = 137494.0 m</tspan><tspan x=\"-20002\" dx=\"-0.2em\" dy=\"-1.2em\">(+2) &#945;: 20</tspan><tspan x=\"-20002\" dx=\"-0.2em\" dy=\"-1.2em\">&#954; = 4, T = 72</tspan></text></svg>"
      ],
      "text/plain": [
       "<interarray.svg.SvgRepr at 0x15838b8d360>"
      ]
     },
     "execution_count": 10,
     "metadata": {},
     "output_type": "execute_result"
    }
   ],
   "source": [
    "H = PathFinder(G, P, A).create_detours()\n",
    "svgplot(H)"
   ]
  },
  {
   "cell_type": "code",
   "execution_count": 11,
   "id": "a443f6ba-1d6b-4330-9c76-ca34f605aaaa",
   "metadata": {
    "deletable": true,
    "editable": true,
    "execution": {
     "iopub.execute_input": "2025-03-06T15:59:35.910750Z",
     "iopub.status.busy": "2025-03-06T15:59:35.909750Z",
     "iopub.status.idle": "2025-03-06T15:59:35.917473Z",
     "shell.execute_reply": "2025-03-06T15:59:35.917473Z",
     "shell.execute_reply.started": "2025-03-06T15:59:35.910750Z"
    },
    "frozen": false
   },
   "outputs": [],
   "source": [
    "_10.save('sandbank_detoured.svg')"
   ]
  },
  {
   "cell_type": "code",
   "execution_count": 5,
   "id": "f0034617-f201-4cfc-98f2-5ddfee4fc1b0",
   "metadata": {
    "deletable": true,
    "editable": true,
    "execution": {
     "iopub.execute_input": "2025-03-06T15:08:55.683006Z",
     "iopub.status.busy": "2025-03-06T15:08:55.682606Z",
     "iopub.status.idle": "2025-03-06T15:08:55.800297Z",
     "shell.execute_reply": "2025-03-06T15:08:55.799746Z",
     "shell.execute_reply.started": "2025-03-06T15:08:55.683006Z"
    },
    "frozen": false
   },
   "outputs": [
    {
     "data": {
      "image/svg+xml": [
       "<svg xmlns=\"http://www.w3.org/2000/svg\" viewBox=\"0 0 1920 342\"><style/><defs><circle stroke=\"none\" stroke-width=\"2\" id=\"wtg\" r=\"12\"/><rect stroke=\"none\" stroke-width=\"2\" id=\"oss\" width=\"21\" height=\"21\" fill=\"lawngreen\"/></defs><g id=\"sandbank\"><path stroke=\"silver\" stroke-dasharray=\"15 7\" stroke-width=\"2\" id=\"border\" d=\"M122 311 30 216 30 124 32 30 123 32 215 32 310 32 404 31 1238 32 1331 35 1423 34 1516 32 1611 32 1702 30 1798 30 1886 30 1890 218 1795 312 1703 312 1610 312 1516 312 1425 312 1327 312 1239 312 1143 312 1051 312 959 312 867 312 772 312 680 312 584 312 495 312 401 311 306 311 217 311z\" fill-rule=\"evenodd\" fill=\"#111\"/><g stroke=\"crimson\" stroke-width=\"4\" id=\"edges_unspecified\"><line x1=\"681\" y1=\"218\" x2=\"774\" y2=\"218\"/><line x1=\"1007\" y1=\"170\" x2=\"958\" y2=\"220\"/><line x1=\"1007\" y1=\"170\" x2=\"1051\" y2=\"125\"/><line x1=\"1007\" y1=\"170\" x2=\"957\" y2=\"127\"/><line x1=\"1007\" y1=\"170\" x2=\"1052\" y2=\"223\"/><line x1=\"1007\" y1=\"170\" x2=\"959\" y2=\"312\"/><line x1=\"867\" y1=\"125\" x2=\"957\" y2=\"127\"/><line x1=\"1702\" y1=\"127\" x2=\"1794\" y2=\"126\"/><line x1=\"1794\" y1=\"126\" x2=\"1888\" y2=\"125\"/><line x1=\"1886\" y1=\"30\" x2=\"1798\" y2=\"30\"/><line x1=\"1702\" y1=\"30\" x2=\"1798\" y2=\"30\"/><line x1=\"1052\" y1=\"223\" x2=\"1145\" y2=\"219\"/><line x1=\"1145\" y1=\"219\" x2=\"1239\" y2=\"217\"/><line x1=\"1239\" y1=\"217\" x2=\"1333\" y2=\"216\"/><line x1=\"1610\" y1=\"312\" x2=\"1703\" y2=\"312\"/><line x1=\"1516\" y1=\"312\" x2=\"1610\" y2=\"312\"/><line x1=\"1795\" y1=\"312\" x2=\"1703\" y2=\"312\"/><line x1=\"1143\" y1=\"312\" x2=\"1239\" y2=\"312\"/><line x1=\"1051\" y1=\"312\" x2=\"1143\" y2=\"312\"/><line x1=\"1239\" y1=\"312\" x2=\"1327\" y2=\"312\"/><line x1=\"1611\" y1=\"218\" x2=\"1702\" y2=\"220\"/><line x1=\"1702\" y1=\"220\" x2=\"1795\" y2=\"220\"/><line x1=\"309\" y1=\"126\" x2=\"401\" y2=\"128\"/><line x1=\"403\" y1=\"220\" x2=\"493\" y2=\"220\"/><line x1=\"493\" y1=\"220\" x2=\"495\" y2=\"312\"/><line x1=\"1238\" y1=\"32\" x2=\"1331\" y2=\"35\"/><line x1=\"1423\" y1=\"34\" x2=\"1516\" y2=\"32\"/><line x1=\"1423\" y1=\"123\" x2=\"1423\" y2=\"34\"/><line x1=\"1890\" y1=\"218\" x2=\"1795\" y2=\"220\"/><line x1=\"1329\" y1=\"127\" x2=\"1423\" y2=\"123\"/><line x1=\"404\" y1=\"31\" x2=\"310\" y2=\"32\"/><line x1=\"30\" y1=\"124\" x2=\"122\" y2=\"126\"/><line x1=\"122\" y1=\"126\" x2=\"123\" y2=\"216\"/><line x1=\"215\" y1=\"32\" x2=\"218\" y2=\"124\"/><line x1=\"1145\" y1=\"127\" x2=\"1237\" y2=\"127\"/><line x1=\"309\" y1=\"126\" x2=\"308\" y2=\"218\"/><line x1=\"215\" y1=\"218\" x2=\"308\" y2=\"218\"/><line x1=\"1611\" y1=\"32\" x2=\"1702\" y2=\"30\"/><line x1=\"1609\" y1=\"128\" x2=\"1702\" y2=\"127\"/><line x1=\"1238\" y1=\"32\" x2=\"1237\" y2=\"127\"/><line x1=\"122\" y1=\"311\" x2=\"217\" y2=\"311\"/><line x1=\"217\" y1=\"311\" x2=\"306\" y2=\"311\"/><line x1=\"32\" y1=\"30\" x2=\"123\" y2=\"32\"/><line x1=\"215\" y1=\"32\" x2=\"123\" y2=\"32\"/><line x1=\"495\" y1=\"123\" x2=\"591\" y2=\"123\"/><line x1=\"404\" y1=\"31\" x2=\"495\" y2=\"123\"/><line x1=\"587\" y1=\"218\" x2=\"681\" y2=\"218\"/><line x1=\"495\" y1=\"312\" x2=\"584\" y2=\"312\"/><line x1=\"1518\" y1=\"126\" x2=\"1518\" y2=\"219\"/><line x1=\"1425\" y1=\"312\" x2=\"1425\" y2=\"219\"/><line x1=\"681\" y1=\"126\" x2=\"681\" y2=\"218\"/><line x1=\"1425\" y1=\"219\" x2=\"1518\" y2=\"219\"/><line x1=\"306\" y1=\"311\" x2=\"401\" y2=\"311\"/><line x1=\"30\" y1=\"216\" x2=\"123\" y2=\"216\"/><line x1=\"772\" y1=\"312\" x2=\"867\" y2=\"312\"/><line x1=\"959\" y1=\"312\" x2=\"867\" y2=\"312\"/><line x1=\"680\" y1=\"312\" x2=\"772\" y2=\"312\"/></g><g stroke=\"red\" stroke-dasharray=\"18 15\" stroke-width=\"4\" id=\"edges_tentative\"><line x1=\"1007\" y1=\"170\" x2=\"774\" y2=\"218\"/><line x1=\"1007\" y1=\"170\" x2=\"1611\" y2=\"218\"/><line x1=\"1007\" y1=\"170\" x2=\"123\" y2=\"216\"/><line x1=\"1007\" y1=\"170\" x2=\"1329\" y2=\"127\"/><line x1=\"1007\" y1=\"170\" x2=\"584\" y2=\"312\"/><line x1=\"1007\" y1=\"170\" x2=\"218\" y2=\"124\"/><line x1=\"1007\" y1=\"170\" x2=\"401\" y2=\"128\"/><line x1=\"1007\" y1=\"170\" x2=\"1425\" y2=\"219\"/><line x1=\"1007\" y1=\"170\" x2=\"1145\" y2=\"127\"/><line x1=\"1007\" y1=\"170\" x2=\"1611\" y2=\"32\"/><line x1=\"1007\" y1=\"170\" x2=\"1051\" y2=\"312\"/><line x1=\"1007\" y1=\"170\" x2=\"1609\" y2=\"128\"/><line x1=\"1007\" y1=\"170\" x2=\"591\" y2=\"123\"/><line x1=\"1007\" y1=\"170\" x2=\"1516\" y2=\"312\"/><line x1=\"1007\" y1=\"170\" x2=\"401\" y2=\"311\"/></g><g id=\"WTGgrp\"><g fill=\"#1f77b4\"><use href=\"#wtg\" x=\"774\" y=\"218\"/><use href=\"#wtg\" x=\"587\" y=\"218\"/><use href=\"#wtg\" x=\"681\" y=\"218\"/><use href=\"#wtg\" x=\"681\" y=\"126\"/></g><g fill=\"#8c564b\"><use href=\"#wtg\" x=\"867\" y=\"125\"/><use href=\"#wtg\" x=\"957\" y=\"127\"/></g><g fill=\"#f7b6d2\"><use href=\"#wtg\" x=\"1794\" y=\"126\"/><use href=\"#wtg\" x=\"1888\" y=\"125\"/><use href=\"#wtg\" x=\"1702\" y=\"127\"/><use href=\"#wtg\" x=\"1609\" y=\"128\"/></g><g fill=\"#c5b0d5\"><use href=\"#wtg\" x=\"1798\" y=\"30\"/><use href=\"#wtg\" x=\"1611\" y=\"32\"/><use href=\"#wtg\" x=\"1702\" y=\"30\"/><use href=\"#wtg\" x=\"1886\" y=\"30\"/></g><g fill=\"#ffbb78\"><use href=\"#wtg\" x=\"1145\" y=\"219\"/><use href=\"#wtg\" x=\"1239\" y=\"217\"/><use href=\"#wtg\" x=\"1333\" y=\"216\"/><use href=\"#wtg\" x=\"1052\" y=\"223\"/></g><g fill=\"#7f7f7f\"><use href=\"#wtg\" x=\"1610\" y=\"312\"/><use href=\"#wtg\" x=\"1703\" y=\"312\"/><use href=\"#wtg\" x=\"1795\" y=\"312\"/><use href=\"#wtg\" x=\"1516\" y=\"312\"/></g><g fill=\"#c49c94\"><use href=\"#wtg\" x=\"1143\" y=\"312\"/><use href=\"#wtg\" x=\"1239\" y=\"312\"/><use href=\"#wtg\" x=\"1327\" y=\"312\"/><use href=\"#wtg\" x=\"1051\" y=\"312\"/></g><g fill=\"#aec7e8\"><use href=\"#wtg\" x=\"1611\" y=\"218\"/><use href=\"#wtg\" x=\"1702\" y=\"220\"/><use href=\"#wtg\" x=\"1890\" y=\"218\"/><use href=\"#wtg\" x=\"1795\" y=\"220\"/></g><g fill=\"#ff7f0e\"><use href=\"#wtg\" x=\"401\" y=\"128\"/><use href=\"#wtg\" x=\"309\" y=\"126\"/><use href=\"#wtg\" x=\"308\" y=\"218\"/><use href=\"#wtg\" x=\"215\" y=\"218\"/></g><g fill=\"#e377c2\"><use href=\"#wtg\" x=\"493\" y=\"220\"/><use href=\"#wtg\" x=\"584\" y=\"312\"/><use href=\"#wtg\" x=\"403\" y=\"220\"/><use href=\"#wtg\" x=\"495\" y=\"312\"/></g><g fill=\"#2ca02c\"><use href=\"#wtg\" x=\"1051\" y=\"125\"/></g><g fill=\"#ff9896\"><use href=\"#wtg\" x=\"1331\" y=\"35\"/><use href=\"#wtg\" x=\"1145\" y=\"127\"/><use href=\"#wtg\" x=\"1238\" y=\"32\"/><use href=\"#wtg\" x=\"1237\" y=\"127\"/></g><g fill=\"#98df8a\"><use href=\"#wtg\" x=\"1423\" y=\"34\"/><use href=\"#wtg\" x=\"1329\" y=\"127\"/><use href=\"#wtg\" x=\"1423\" y=\"123\"/><use href=\"#wtg\" x=\"1516\" y=\"32\"/></g><g fill=\"#17becf\"><use href=\"#wtg\" x=\"310\" y=\"32\"/><use href=\"#wtg\" x=\"495\" y=\"123\"/><use href=\"#wtg\" x=\"591\" y=\"123\"/><use href=\"#wtg\" x=\"404\" y=\"31\"/></g><g fill=\"#bcbd22\"><use href=\"#wtg\" x=\"122\" y=\"126\"/><use href=\"#wtg\" x=\"123\" y=\"216\"/><use href=\"#wtg\" x=\"30\" y=\"216\"/><use href=\"#wtg\" x=\"30\" y=\"124\"/></g><g fill=\"#d62728\"><use href=\"#wtg\" x=\"218\" y=\"124\"/><use href=\"#wtg\" x=\"32\" y=\"30\"/><use href=\"#wtg\" x=\"123\" y=\"32\"/><use href=\"#wtg\" x=\"215\" y=\"32\"/></g><g fill=\"#9467bd\"><use href=\"#wtg\" x=\"958\" y=\"220\"/></g><g fill=\"#c7c7c7\"><use href=\"#wtg\" x=\"122\" y=\"311\"/><use href=\"#wtg\" x=\"217\" y=\"311\"/><use href=\"#wtg\" x=\"401\" y=\"311\"/><use href=\"#wtg\" x=\"306\" y=\"311\"/></g><g fill=\"#dbdb8d\"><use href=\"#wtg\" x=\"1518\" y=\"126\"/><use href=\"#wtg\" x=\"1425\" y=\"312\"/><use href=\"#wtg\" x=\"1518\" y=\"219\"/><use href=\"#wtg\" x=\"1425\" y=\"219\"/></g><g fill=\"#9edae5\"><use href=\"#wtg\" x=\"867\" y=\"312\"/><use href=\"#wtg\" x=\"959\" y=\"312\"/><use href=\"#wtg\" x=\"680\" y=\"312\"/><use href=\"#wtg\" x=\"772\" y=\"312\"/></g></g><g id=\"OSSgrp\"><use href=\"#oss\" x=\"996.5\" y=\"159.5\"/></g></g><text text-anchor=\"end\" font-family=\"sans-serif\" font-size=\"40\" fill=\"white\" x=\"1920\" y=\"342\"><tspan x=\"1920\" dx=\"-0.2em\" dy=\"-0.2em\">&#931;&#955; = 136684.0 m</tspan><tspan x=\"1920\" dx=\"-0.2em\" dy=\"-1.2em\">(+2) &#945;: 20</tspan><tspan x=\"1920\" dx=\"-0.2em\" dy=\"-1.2em\">&#954; = 4, T = 72</tspan></text></svg>"
      ],
      "text/plain": [
       "<interarray.svg.SvgRepr at 0x15838054bb0>"
      ]
     },
     "execution_count": 5,
     "metadata": {},
     "output_type": "execute_result"
    }
   ],
   "source": [
    "L = locations.sandbank\n",
    "P, A = make_planar_embedding(L)\n",
    "S = EW_presolver(A, capacity=4)\n",
    "G = G_from_S(S, A)\n",
    "svgplot(G)"
   ]
  },
  {
   "cell_type": "code",
   "execution_count": 6,
   "id": "0c030696-948b-4bcc-99a2-cbe6fc15d9f3",
   "metadata": {
    "deletable": true,
    "editable": true,
    "execution": {
     "iopub.execute_input": "2025-03-06T15:15:05.065467Z",
     "iopub.status.busy": "2025-03-06T15:15:05.061586Z",
     "iopub.status.idle": "2025-03-06T15:15:05.075275Z",
     "shell.execute_reply": "2025-03-06T15:15:05.075275Z",
     "shell.execute_reply.started": "2025-03-06T15:15:05.065467Z"
    },
    "frozen": false
   },
   "outputs": [],
   "source": [
    "_5.save('finally_works.svg')"
   ]
  },
  {
   "cell_type": "code",
   "execution_count": 3,
   "id": "d6845191-9800-4ccf-8528-4472e15ed136",
   "metadata": {
    "deletable": true,
    "editable": true,
    "execution": {
     "iopub.execute_input": "2025-03-06T14:17:15.866481Z",
     "iopub.status.busy": "2025-03-06T14:17:15.866481Z",
     "iopub.status.idle": "2025-03-06T14:17:17.990024Z",
     "shell.execute_reply": "2025-03-06T14:17:17.989988Z",
     "shell.execute_reply.started": "2025-03-06T14:17:15.866481Z"
    },
    "frozen": false
   },
   "outputs": [
    {
     "data": {
      "image/svg+xml": [
       "<svg xmlns=\"http://www.w3.org/2000/svg\" viewBox=\"0 0 1920 342\"><style>line {stroke-width: 4} .std {stroke: crimson} .ttt {stroke: red; stroke-dasharray: 18 15}</style><defs><circle stroke=\"none\" stroke-width=\"2\" id=\"wtg\" r=\"12\"/><rect stroke=\"none\" stroke-width=\"2\" id=\"oss\" width=\"21\" height=\"21\" fill=\"lawngreen\"/></defs><g id=\"sandbank\"><path stroke=\"silver\" stroke-dasharray=\"15 7\" stroke-width=\"2\" id=\"border\" d=\"M122 311 30 216 30 124 32 30 123 32 215 32 310 32 404 31 1238 32 1331 35 1423 34 1516 32 1611 32 1702 30 1798 30 1886 30 1890 218 1795 312 1703 312 1610 312 1516 312 1425 312 1327 312 1239 312 1143 312 1051 312 959 312 867 312 772 312 680 312 584 312 495 312 401 311 306 311 217 311z\" fill-rule=\"evenodd\" fill=\"#111\"/><g id=\"edges\" class=\"std\"><line x1=\"681\" y1=\"218\" x2=\"774\" y2=\"218\"/><line x1=\"1007\" y1=\"170\" x2=\"958\" y2=\"220\"/><line x1=\"1007\" y1=\"170\" x2=\"1051\" y2=\"125\"/><line x1=\"1007\" y1=\"170\" x2=\"957\" y2=\"127\"/><line x1=\"1007\" y1=\"170\" x2=\"1052\" y2=\"223\"/><line x1=\"1007\" y1=\"170\" x2=\"959\" y2=\"312\"/><line x1=\"867\" y1=\"125\" x2=\"957\" y2=\"127\"/><line x1=\"1702\" y1=\"127\" x2=\"1794\" y2=\"126\"/><line x1=\"1794\" y1=\"126\" x2=\"1888\" y2=\"125\"/><line x1=\"1886\" y1=\"30\" x2=\"1798\" y2=\"30\"/><line x1=\"1702\" y1=\"30\" x2=\"1798\" y2=\"30\"/><line x1=\"1052\" y1=\"223\" x2=\"1145\" y2=\"219\"/><line x1=\"1145\" y1=\"219\" x2=\"1239\" y2=\"217\"/><line x1=\"1239\" y1=\"217\" x2=\"1333\" y2=\"216\"/><line x1=\"1610\" y1=\"312\" x2=\"1703\" y2=\"312\"/><line x1=\"1516\" y1=\"312\" x2=\"1610\" y2=\"312\"/><line x1=\"1795\" y1=\"312\" x2=\"1703\" y2=\"312\"/><line x1=\"1143\" y1=\"312\" x2=\"1239\" y2=\"312\"/><line x1=\"1051\" y1=\"312\" x2=\"1143\" y2=\"312\"/><line x1=\"1239\" y1=\"312\" x2=\"1327\" y2=\"312\"/><line x1=\"1611\" y1=\"218\" x2=\"1702\" y2=\"220\"/><line x1=\"1702\" y1=\"220\" x2=\"1795\" y2=\"220\"/><line x1=\"309\" y1=\"126\" x2=\"401\" y2=\"128\"/><line x1=\"403\" y1=\"220\" x2=\"493\" y2=\"220\"/><line x1=\"493\" y1=\"220\" x2=\"495\" y2=\"312\"/><line x1=\"1238\" y1=\"32\" x2=\"1331\" y2=\"35\"/><line x1=\"1423\" y1=\"34\" x2=\"1516\" y2=\"32\"/><line x1=\"1423\" y1=\"123\" x2=\"1423\" y2=\"34\"/><line x1=\"1890\" y1=\"218\" x2=\"1795\" y2=\"220\"/><line x1=\"1329\" y1=\"127\" x2=\"1423\" y2=\"123\"/><line x1=\"404\" y1=\"31\" x2=\"310\" y2=\"32\"/><line x1=\"30\" y1=\"124\" x2=\"122\" y2=\"126\"/><line x1=\"122\" y1=\"126\" x2=\"123\" y2=\"216\"/><line x1=\"215\" y1=\"32\" x2=\"218\" y2=\"124\"/><line x1=\"1145\" y1=\"127\" x2=\"1237\" y2=\"127\"/><line x1=\"309\" y1=\"126\" x2=\"308\" y2=\"218\"/><line x1=\"215\" y1=\"218\" x2=\"308\" y2=\"218\"/><line x1=\"1611\" y1=\"32\" x2=\"1702\" y2=\"30\"/><line x1=\"1609\" y1=\"128\" x2=\"1702\" y2=\"127\"/><line x1=\"1238\" y1=\"32\" x2=\"1237\" y2=\"127\"/><line x1=\"122\" y1=\"311\" x2=\"217\" y2=\"311\"/><line x1=\"217\" y1=\"311\" x2=\"306\" y2=\"311\"/><line x1=\"32\" y1=\"30\" x2=\"123\" y2=\"32\"/><line x1=\"215\" y1=\"32\" x2=\"123\" y2=\"32\"/><line x1=\"495\" y1=\"123\" x2=\"591\" y2=\"123\"/><line x1=\"404\" y1=\"31\" x2=\"495\" y2=\"123\"/><line x1=\"587\" y1=\"218\" x2=\"681\" y2=\"218\"/><line x1=\"495\" y1=\"312\" x2=\"584\" y2=\"312\"/><line x1=\"1518\" y1=\"126\" x2=\"1518\" y2=\"219\"/><line x1=\"1425\" y1=\"312\" x2=\"1425\" y2=\"219\"/><line x1=\"681\" y1=\"126\" x2=\"681\" y2=\"218\"/><line x1=\"1425\" y1=\"219\" x2=\"1518\" y2=\"219\"/><line x1=\"306\" y1=\"311\" x2=\"401\" y2=\"311\"/><line x1=\"30\" y1=\"216\" x2=\"123\" y2=\"216\"/><line x1=\"772\" y1=\"312\" x2=\"867\" y2=\"312\"/><line x1=\"959\" y1=\"312\" x2=\"867\" y2=\"312\"/><line x1=\"680\" y1=\"312\" x2=\"772\" y2=\"312\"/></g><g id=\"edges\" class=\"ttt\"><line x1=\"1007\" y1=\"170\" x2=\"774\" y2=\"218\"/><line x1=\"1007\" y1=\"170\" x2=\"1611\" y2=\"218\"/><line x1=\"1007\" y1=\"170\" x2=\"123\" y2=\"216\"/><line x1=\"1007\" y1=\"170\" x2=\"1329\" y2=\"127\"/><line x1=\"1007\" y1=\"170\" x2=\"584\" y2=\"312\"/><line x1=\"1007\" y1=\"170\" x2=\"218\" y2=\"124\"/><line x1=\"1007\" y1=\"170\" x2=\"401\" y2=\"128\"/><line x1=\"1007\" y1=\"170\" x2=\"1425\" y2=\"219\"/><line x1=\"1007\" y1=\"170\" x2=\"1145\" y2=\"127\"/><line x1=\"1007\" y1=\"170\" x2=\"1611\" y2=\"32\"/><line x1=\"1007\" y1=\"170\" x2=\"1051\" y2=\"312\"/><line x1=\"1007\" y1=\"170\" x2=\"1609\" y2=\"128\"/><line x1=\"1007\" y1=\"170\" x2=\"591\" y2=\"123\"/><line x1=\"1007\" y1=\"170\" x2=\"1516\" y2=\"312\"/><line x1=\"1007\" y1=\"170\" x2=\"401\" y2=\"311\"/></g><g id=\"WTGgrp\"><g fill=\"#1f77b4\"><use href=\"#wtg\" x=\"774\" y=\"218\"/><use href=\"#wtg\" x=\"587\" y=\"218\"/><use href=\"#wtg\" x=\"681\" y=\"218\"/><use href=\"#wtg\" x=\"681\" y=\"126\"/></g><g fill=\"#8c564b\"><use href=\"#wtg\" x=\"867\" y=\"125\"/><use href=\"#wtg\" x=\"957\" y=\"127\"/></g><g fill=\"#f7b6d2\"><use href=\"#wtg\" x=\"1794\" y=\"126\"/><use href=\"#wtg\" x=\"1888\" y=\"125\"/><use href=\"#wtg\" x=\"1702\" y=\"127\"/><use href=\"#wtg\" x=\"1609\" y=\"128\"/></g><g fill=\"#c5b0d5\"><use href=\"#wtg\" x=\"1798\" y=\"30\"/><use href=\"#wtg\" x=\"1611\" y=\"32\"/><use href=\"#wtg\" x=\"1702\" y=\"30\"/><use href=\"#wtg\" x=\"1886\" y=\"30\"/></g><g fill=\"#ffbb78\"><use href=\"#wtg\" x=\"1145\" y=\"219\"/><use href=\"#wtg\" x=\"1239\" y=\"217\"/><use href=\"#wtg\" x=\"1333\" y=\"216\"/><use href=\"#wtg\" x=\"1052\" y=\"223\"/></g><g fill=\"#7f7f7f\"><use href=\"#wtg\" x=\"1610\" y=\"312\"/><use href=\"#wtg\" x=\"1703\" y=\"312\"/><use href=\"#wtg\" x=\"1795\" y=\"312\"/><use href=\"#wtg\" x=\"1516\" y=\"312\"/></g><g fill=\"#c49c94\"><use href=\"#wtg\" x=\"1143\" y=\"312\"/><use href=\"#wtg\" x=\"1239\" y=\"312\"/><use href=\"#wtg\" x=\"1327\" y=\"312\"/><use href=\"#wtg\" x=\"1051\" y=\"312\"/></g><g fill=\"#aec7e8\"><use href=\"#wtg\" x=\"1611\" y=\"218\"/><use href=\"#wtg\" x=\"1702\" y=\"220\"/><use href=\"#wtg\" x=\"1890\" y=\"218\"/><use href=\"#wtg\" x=\"1795\" y=\"220\"/></g><g fill=\"#ff7f0e\"><use href=\"#wtg\" x=\"401\" y=\"128\"/><use href=\"#wtg\" x=\"309\" y=\"126\"/><use href=\"#wtg\" x=\"308\" y=\"218\"/><use href=\"#wtg\" x=\"215\" y=\"218\"/></g><g fill=\"#e377c2\"><use href=\"#wtg\" x=\"493\" y=\"220\"/><use href=\"#wtg\" x=\"584\" y=\"312\"/><use href=\"#wtg\" x=\"403\" y=\"220\"/><use href=\"#wtg\" x=\"495\" y=\"312\"/></g><g fill=\"#2ca02c\"><use href=\"#wtg\" x=\"1051\" y=\"125\"/></g><g fill=\"#ff9896\"><use href=\"#wtg\" x=\"1331\" y=\"35\"/><use href=\"#wtg\" x=\"1145\" y=\"127\"/><use href=\"#wtg\" x=\"1238\" y=\"32\"/><use href=\"#wtg\" x=\"1237\" y=\"127\"/></g><g fill=\"#98df8a\"><use href=\"#wtg\" x=\"1423\" y=\"34\"/><use href=\"#wtg\" x=\"1329\" y=\"127\"/><use href=\"#wtg\" x=\"1423\" y=\"123\"/><use href=\"#wtg\" x=\"1516\" y=\"32\"/></g><g fill=\"#17becf\"><use href=\"#wtg\" x=\"310\" y=\"32\"/><use href=\"#wtg\" x=\"495\" y=\"123\"/><use href=\"#wtg\" x=\"591\" y=\"123\"/><use href=\"#wtg\" x=\"404\" y=\"31\"/></g><g fill=\"#bcbd22\"><use href=\"#wtg\" x=\"122\" y=\"126\"/><use href=\"#wtg\" x=\"123\" y=\"216\"/><use href=\"#wtg\" x=\"30\" y=\"216\"/><use href=\"#wtg\" x=\"30\" y=\"124\"/></g><g fill=\"#d62728\"><use href=\"#wtg\" x=\"218\" y=\"124\"/><use href=\"#wtg\" x=\"32\" y=\"30\"/><use href=\"#wtg\" x=\"123\" y=\"32\"/><use href=\"#wtg\" x=\"215\" y=\"32\"/></g><g fill=\"#9467bd\"><use href=\"#wtg\" x=\"958\" y=\"220\"/></g><g fill=\"#c7c7c7\"><use href=\"#wtg\" x=\"122\" y=\"311\"/><use href=\"#wtg\" x=\"217\" y=\"311\"/><use href=\"#wtg\" x=\"401\" y=\"311\"/><use href=\"#wtg\" x=\"306\" y=\"311\"/></g><g fill=\"#dbdb8d\"><use href=\"#wtg\" x=\"1518\" y=\"126\"/><use href=\"#wtg\" x=\"1425\" y=\"312\"/><use href=\"#wtg\" x=\"1518\" y=\"219\"/><use href=\"#wtg\" x=\"1425\" y=\"219\"/></g><g fill=\"#9edae5\"><use href=\"#wtg\" x=\"867\" y=\"312\"/><use href=\"#wtg\" x=\"959\" y=\"312\"/><use href=\"#wtg\" x=\"680\" y=\"312\"/><use href=\"#wtg\" x=\"772\" y=\"312\"/></g></g><g id=\"OSSgrp\"><use href=\"#oss\" x=\"996.5\" y=\"159.5\"/></g></g><text text-anchor=\"end\" font-family=\"sans-serif\" font-size=\"40\" fill=\"white\" x=\"1920\" y=\"342\"><tspan x=\"1920\" dx=\"-0.2em\" dy=\"-0.2em\">&#931;&#955; = 136684.0 m</tspan><tspan x=\"1920\" dx=\"-0.2em\" dy=\"-1.2em\">(+2) &#945;: 20</tspan><tspan x=\"1920\" dx=\"-0.2em\" dy=\"-1.2em\">&#954; = 4, T = 72</tspan></text></svg>"
      ],
      "text/plain": [
       "<interarray.svg.SvgRepr at 0x1edf6059a20>"
      ]
     },
     "execution_count": 3,
     "metadata": {},
     "output_type": "execute_result"
    }
   ],
   "source": [
    "L = locations.sandbank\n",
    "P, A = make_planar_embedding(L)\n",
    "S = EW_presolver(A, capacity=4)\n",
    "G = G_from_S(S, A)\n",
    "svgplot(G)"
   ]
  },
  {
   "cell_type": "code",
   "execution_count": 9,
   "id": "eb7e762c-fa93-4a41-acaf-986739bcde6f",
   "metadata": {
    "deletable": true,
    "editable": true,
    "execution": {
     "iopub.execute_input": "2025-03-06T14:20:01.373482Z",
     "iopub.status.busy": "2025-03-06T14:20:01.373482Z",
     "iopub.status.idle": "2025-03-06T14:20:01.422878Z",
     "shell.execute_reply": "2025-03-06T14:20:01.422151Z",
     "shell.execute_reply.started": "2025-03-06T14:20:01.373482Z"
    },
    "frozen": false
   },
   "outputs": [],
   "source": [
    "ax.figure.savefig('sandbank_mpl.svg')"
   ]
  },
  {
   "cell_type": "code",
   "execution_count": 49,
   "id": "44150519-acb5-4cd8-bbf6-1fdaed291004",
   "metadata": {
    "deletable": true,
    "editable": true,
    "execution": {
     "iopub.execute_input": "2025-03-06T13:54:07.904355Z",
     "iopub.status.busy": "2025-03-06T13:54:07.904355Z",
     "iopub.status.idle": "2025-03-06T13:54:07.963626Z",
     "shell.execute_reply": "2025-03-06T13:54:07.963253Z",
     "shell.execute_reply.started": "2025-03-06T13:54:07.904355Z"
    },
    "frozen": false
   },
   "outputs": [
    {
     "data": {
      "image/svg+xml": [
       "<svg xmlns=\"http://www.w3.org/2000/svg\" viewBox=\"0 0 1920 1080\"><style>line {stroke-width: 4} .ttt {stroke: red; stroke-dasharray: 18 15} .std {stroke: crimson}</style><defs><circle stroke=\"none\" stroke-width=\"2\" id=\"wtg\" r=\"12\"/><rect stroke=\"none\" stroke-width=\"2\" id=\"oss\" width=\"21\" height=\"21\" fill=\"lawngreen\"/></defs><g id=\"amalia\"><path stroke=\"silver\" stroke-dasharray=\"15 7\" stroke-width=\"2\" id=\"border\" d=\"M1092 902 904 984 791 970 631 1050 274 1050 138 979 30 719 67 393 204 178 525 37 769 30 1061 241 1153 252 1237 322 1294 442 1278 691z\" fill-rule=\"evenodd\" fill=\"#111\"/><g id=\"edges\" class=\"std\"><line x1=\"516\" y1=\"505\" x2=\"397\" y2=\"491\"/><line x1=\"817\" y1=\"539\" x2=\"806\" y2=\"649\"/><line x1=\"817\" y1=\"539\" x2=\"756\" y2=\"532\"/><line x1=\"817\" y1=\"539\" x2=\"876\" y2=\"546\"/><line x1=\"817\" y1=\"539\" x2=\"949\" y2=\"444\"/><line x1=\"817\" y1=\"539\" x2=\"829\" y2=\"428\"/><line x1=\"817\" y1=\"539\" x2=\"926\" y2=\"660\"/><line x1=\"276\" y1=\"478\" x2=\"397\" y2=\"491\"/><line x1=\"664\" y1=\"292\" x2=\"545\" y2=\"274\"/><line x1=\"740\" y1=\"195\" x2=\"621\" y2=\"175\"/><line x1=\"621\" y1=\"175\" x2=\"502\" y2=\"155\"/><line x1=\"829\" y1=\"428\" x2=\"903\" y2=\"328\"/><line x1=\"903\" y1=\"328\" x2=\"784\" y2=\"310\"/><line x1=\"859\" y1=\"215\" x2=\"903\" y2=\"328\"/><line x1=\"276\" y1=\"478\" x2=\"156\" y2=\"464\"/><line x1=\"350\" y1=\"365\" x2=\"230\" y2=\"349\"/><line x1=\"976\" y1=\"772\" x2=\"926\" y2=\"660\"/><line x1=\"996\" y1=\"560\" x2=\"876\" y2=\"546\"/><line x1=\"480\" y1=\"954\" x2=\"359\" y2=\"949\"/><line x1=\"480\" y1=\"954\" x2=\"546\" y2=\"851\"/><line x1=\"238\" y1=\"944\" x2=\"359\" y2=\"949\"/><line x1=\"1188\" y1=\"476\" x2=\"1068\" y2=\"460\"/><line x1=\"1068\" y1=\"460\" x2=\"1142\" y2=\"364\"/><line x1=\"756\" y1=\"532\" x2=\"709\" y2=\"412\"/><line x1=\"699\" y1=\"81\" x2=\"740\" y2=\"195\"/><line x1=\"254\" y1=\"717\" x2=\"133\" y2=\"708\"/><line x1=\"325\" y1=\"603\" x2=\"205\" y2=\"592\"/><line x1=\"426\" y1=\"844\" x2=\"305\" y2=\"837\"/><line x1=\"305\" y1=\"837\" x2=\"185\" y2=\"830\"/><line x1=\"254\" y1=\"717\" x2=\"374\" y2=\"726\"/><line x1=\"806\" y1=\"649\" x2=\"686\" y2=\"637\"/><line x1=\"615\" y1=\"745\" x2=\"686\" y2=\"637\"/><line x1=\"374\" y1=\"726\" x2=\"565\" y2=\"626\"/><line x1=\"445\" y1=\"615\" x2=\"636\" y2=\"518\"/><line x1=\"787\" y1=\"865\" x2=\"735\" y2=\"754\"/><line x1=\"787\" y1=\"865\" x2=\"667\" y2=\"858\"/><line x1=\"426\" y1=\"844\" x2=\"494\" y2=\"736\"/><line x1=\"949\" y1=\"444\" x2=\"1023\" y2=\"346\"/><line x1=\"600\" y1=\"959\" x2=\"667\" y2=\"858\"/><line x1=\"545\" y1=\"274\" x2=\"426\" y2=\"255\"/><line x1=\"590\" y1=\"396\" x2=\"470\" y2=\"380\"/><line x1=\"908\" y1=\"872\" x2=\"856\" y2=\"763\"/><line x1=\"976\" y1=\"772\" x2=\"856\" y2=\"763\"/><line x1=\"445\" y1=\"615\" x2=\"325\" y2=\"603\"/><line x1=\"470\" y1=\"380\" x2=\"350\" y2=\"365\"/><line x1=\"1046\" y1=\"671\" x2=\"1167\" y2=\"683\"/><line x1=\"1097\" y1=\"781\" x2=\"1046\" y2=\"671\"/><line x1=\"1116\" y1=\"573\" x2=\"996\" y2=\"560\"/><line x1=\"306\" y1=\"237\" x2=\"426\" y2=\"255\"/></g><g id=\"edges\" class=\"ttt\"><line x1=\"817\" y1=\"539\" x2=\"516\" y2=\"505\"/><line x1=\"817\" y1=\"539\" x2=\"494\" y2=\"736\"/><line x1=\"817\" y1=\"539\" x2=\"565\" y2=\"626\"/><line x1=\"817\" y1=\"539\" x2=\"1068\" y2=\"460\"/><line x1=\"817\" y1=\"539\" x2=\"664\" y2=\"292\"/><line x1=\"817\" y1=\"539\" x2=\"1046\" y2=\"671\"/><line x1=\"817\" y1=\"539\" x2=\"546\" y2=\"851\"/><line x1=\"817\" y1=\"539\" x2=\"636\" y2=\"518\"/><line x1=\"817\" y1=\"539\" x2=\"740\" y2=\"195\"/><line x1=\"817\" y1=\"539\" x2=\"735\" y2=\"754\"/><line x1=\"817\" y1=\"539\" x2=\"590\" y2=\"396\"/></g><g id=\"WTGgrp\"><g fill=\"#1f77b4\"><use href=\"#wtg\" x=\"516\" y=\"505\"/><use href=\"#wtg\" x=\"397\" y=\"491\"/><use href=\"#wtg\" x=\"276\" y=\"478\"/><use href=\"#wtg\" x=\"156\" y=\"464\"/></g><g fill=\"#aec7e8\"><use href=\"#wtg\" x=\"664\" y=\"292\"/><use href=\"#wtg\" x=\"545\" y=\"274\"/><use href=\"#wtg\" x=\"306\" y=\"237\"/><use href=\"#wtg\" x=\"426\" y=\"255\"/></g><g fill=\"#d62728\"><use href=\"#wtg\" x=\"621\" y=\"175\"/><use href=\"#wtg\" x=\"699\" y=\"81\"/><use href=\"#wtg\" x=\"740\" y=\"195\"/><use href=\"#wtg\" x=\"502\" y=\"155\"/></g><g fill=\"#ff7f0e\"><use href=\"#wtg\" x=\"829\" y=\"428\"/><use href=\"#wtg\" x=\"903\" y=\"328\"/><use href=\"#wtg\" x=\"859\" y=\"215\"/><use href=\"#wtg\" x=\"784\" y=\"310\"/></g><g fill=\"#c49c94\"><use href=\"#wtg\" x=\"230\" y=\"349\"/><use href=\"#wtg\" x=\"590\" y=\"396\"/><use href=\"#wtg\" x=\"470\" y=\"380\"/><use href=\"#wtg\" x=\"350\" y=\"365\"/></g><g fill=\"#ffbb78\"><use href=\"#wtg\" x=\"926\" y=\"660\"/><use href=\"#wtg\" x=\"908\" y=\"872\"/><use href=\"#wtg\" x=\"856\" y=\"763\"/><use href=\"#wtg\" x=\"976\" y=\"772\"/></g><g fill=\"#2ca02c\"><use href=\"#wtg\" x=\"876\" y=\"546\"/><use href=\"#wtg\" x=\"1116\" y=\"573\"/><use href=\"#wtg\" x=\"996\" y=\"560\"/></g><g fill=\"#bcbd22\"><use href=\"#wtg\" x=\"480\" y=\"954\"/><use href=\"#wtg\" x=\"359\" y=\"949\"/><use href=\"#wtg\" x=\"546\" y=\"851\"/><use href=\"#wtg\" x=\"238\" y=\"944\"/></g><g fill=\"#8c564b\"><use href=\"#wtg\" x=\"1188\" y=\"476\"/><use href=\"#wtg\" x=\"1142\" y=\"364\"/><use href=\"#wtg\" x=\"1068\" y=\"460\"/></g><g fill=\"#98df8a\"><use href=\"#wtg\" x=\"756\" y=\"532\"/><use href=\"#wtg\" x=\"709\" y=\"412\"/></g><g fill=\"#ff9896\"><use href=\"#wtg\" x=\"133\" y=\"708\"/><use href=\"#wtg\" x=\"254\" y=\"717\"/><use href=\"#wtg\" x=\"565\" y=\"626\"/><use href=\"#wtg\" x=\"374\" y=\"726\"/></g><g fill=\"#9467bd\"><use href=\"#wtg\" x=\"205\" y=\"592\"/><use href=\"#wtg\" x=\"636\" y=\"518\"/><use href=\"#wtg\" x=\"325\" y=\"603\"/><use href=\"#wtg\" x=\"445\" y=\"615\"/></g><g fill=\"#7f7f7f\"><use href=\"#wtg\" x=\"305\" y=\"837\"/><use href=\"#wtg\" x=\"426\" y=\"844\"/><use href=\"#wtg\" x=\"185\" y=\"830\"/><use href=\"#wtg\" x=\"494\" y=\"736\"/></g><g fill=\"#f7b6d2\"><use href=\"#wtg\" x=\"686\" y=\"637\"/><use href=\"#wtg\" x=\"615\" y=\"745\"/><use href=\"#wtg\" x=\"806\" y=\"649\"/></g><g fill=\"#c5b0d5\"><use href=\"#wtg\" x=\"735\" y=\"754\"/><use href=\"#wtg\" x=\"787\" y=\"865\"/><use href=\"#wtg\" x=\"667\" y=\"858\"/><use href=\"#wtg\" x=\"600\" y=\"959\"/></g><g fill=\"#e377c2\"><use href=\"#wtg\" x=\"1023\" y=\"346\"/><use href=\"#wtg\" x=\"949\" y=\"444\"/></g><g fill=\"#c7c7c7\"><use href=\"#wtg\" x=\"1046\" y=\"671\"/><use href=\"#wtg\" x=\"1167\" y=\"683\"/><use href=\"#wtg\" x=\"1097\" y=\"781\"/></g></g><g id=\"OSSgrp\"><use href=\"#oss\" x=\"806.5\" y=\"528.5\"/></g></g><text text-anchor=\"end\" font-family=\"sans-serif\" font-size=\"40\" fill=\"white\" x=\"1324\" y=\"1080\"><tspan x=\"1324\" dx=\"-0.2em\" dy=\"-0.2em\">&#931;&#955; = 42330.0 m</tspan><tspan x=\"1324\" dx=\"-0.2em\" dy=\"-1.2em\">(+2) &#945;: 17</tspan><tspan x=\"1324\" dx=\"-0.2em\" dy=\"-1.2em\">&#954; = 4, T = 60</tspan></text></svg>"
      ],
      "text/plain": [
       "<interarray.svg.SvgRepr at 0x27a110c9c00>"
      ]
     },
     "execution_count": 49,
     "metadata": {},
     "output_type": "execute_result"
    }
   ],
   "source": [
    "L = locations.amalia\n",
    "P, A = make_planar_embedding(L)\n",
    "S = EW_presolver(A, capacity=4)\n",
    "G = G_from_S(S, A)\n",
    "svgplot(G)"
   ]
  },
  {
   "cell_type": "markdown",
   "id": "73aab560-eff2-4358-b145-a8c7107144c1",
   "metadata": {
    "deletable": true,
    "editable": true,
    "frozen": false
   },
   "source": [
    "### Paper Farm"
   ]
  },
  {
   "cell_type": "code",
   "execution_count": 50,
   "id": "b5cb2eca-35e5-4d89-bd0f-5f0b9891163a",
   "metadata": {
    "deletable": true,
    "editable": true,
    "execution": {
     "iopub.execute_input": "2025-03-06T13:54:15.872912Z",
     "iopub.status.busy": "2025-03-06T13:54:15.872912Z",
     "iopub.status.idle": "2025-03-06T13:54:15.888219Z",
     "shell.execute_reply": "2025-03-06T13:54:15.888219Z",
     "shell.execute_reply.started": "2025-03-06T13:54:15.872912Z"
    },
    "frozen": false
   },
   "outputs": [],
   "source": [
    "L = L_from_pbf('paperfarm.osm.pbf')"
   ]
  },
  {
   "cell_type": "code",
   "execution_count": 51,
   "id": "89817942-2747-473a-b423-1f617256ca23",
   "metadata": {
    "deletable": true,
    "editable": true,
    "execution": {
     "iopub.execute_input": "2025-03-06T13:54:16.123650Z",
     "iopub.status.busy": "2025-03-06T13:54:16.122651Z",
     "iopub.status.idle": "2025-03-06T13:54:16.164608Z",
     "shell.execute_reply": "2025-03-06T13:54:16.164608Z",
     "shell.execute_reply.started": "2025-03-06T13:54:16.123650Z"
    },
    "frozen": false
   },
   "outputs": [],
   "source": [
    "P, A = make_planar_embedding(L)"
   ]
  },
  {
   "cell_type": "code",
   "execution_count": 52,
   "id": "313a70fc-aa95-4805-aeb5-ad12efd56896",
   "metadata": {
    "deletable": true,
    "editable": true,
    "execution": {
     "iopub.execute_input": "2025-03-06T13:54:16.358467Z",
     "iopub.status.busy": "2025-03-06T13:54:16.358467Z",
     "iopub.status.idle": "2025-03-06T13:54:16.371854Z",
     "shell.execute_reply": "2025-03-06T13:54:16.371747Z",
     "shell.execute_reply.started": "2025-03-06T13:54:16.358467Z"
    },
    "frozen": false
   },
   "outputs": [],
   "source": [
    "S = EW_presolver(A, capacity=4)"
   ]
  },
  {
   "cell_type": "code",
   "execution_count": 53,
   "id": "b222bf94-5872-4451-b937-6de0239b5f8d",
   "metadata": {
    "deletable": true,
    "editable": true,
    "execution": {
     "iopub.execute_input": "2025-03-06T13:54:16.608416Z",
     "iopub.status.busy": "2025-03-06T13:54:16.608416Z",
     "iopub.status.idle": "2025-03-06T13:54:16.615384Z",
     "shell.execute_reply": "2025-03-06T13:54:16.615384Z",
     "shell.execute_reply.started": "2025-03-06T13:54:16.608416Z"
    },
    "frozen": false
   },
   "outputs": [],
   "source": [
    "G = G_from_S(S, A)"
   ]
  },
  {
   "cell_type": "code",
   "execution_count": 54,
   "id": "ba5012dc-b1ce-4d85-a6af-df4e6642c2c3",
   "metadata": {
    "deletable": true,
    "editable": true,
    "execution": {
     "iopub.execute_input": "2025-03-06T13:54:16.847509Z",
     "iopub.status.busy": "2025-03-06T13:54:16.844609Z",
     "iopub.status.idle": "2025-03-06T13:54:16.859280Z",
     "shell.execute_reply": "2025-03-06T13:54:16.859151Z",
     "shell.execute_reply.started": "2025-03-06T13:54:16.847509Z"
    },
    "frozen": false
   },
   "outputs": [
    {
     "data": {
      "image/svg+xml": [
       "<svg xmlns=\"http://www.w3.org/2000/svg\" viewBox=\"0 0 1920 1080\"><style>line {stroke-width: 4} .ttt {stroke: red; stroke-dasharray: 18 15} .std {stroke: crimson}</style><defs><circle stroke=\"none\" stroke-width=\"2\" id=\"wtg\" r=\"12\"/><rect stroke=\"none\" stroke-width=\"2\" id=\"oss\" width=\"21\" height=\"21\" fill=\"lawngreen\"/></defs><g><path stroke=\"silver\" stroke-dasharray=\"15 7\" stroke-width=\"2\" id=\"border\" d=\"M734 421 705 447 879 1050 30 1050 30 287 489 551 507 529 312 30 1470 30 1470 905z\" fill-rule=\"evenodd\" fill=\"#111\"/><g id=\"edges\" class=\"std\"><line x1=\"163\" y1=\"744\" x2=\"79\" y2=\"403\"/><line x1=\"541\" y1=\"266\" x2=\"971\" y2=\"94\"/><line x1=\"541\" y1=\"266\" x2=\"572\" y2=\"731\"/><line x1=\"541\" y1=\"266\" x2=\"1118\" y2=\"538\"/><line x1=\"541\" y1=\"266\" x2=\"354\" y2=\"48\"/><line x1=\"1447\" y1=\"532\" x2=\"1387\" y2=\"128\"/><line x1=\"1462\" y1=\"846\" x2=\"1447\" y2=\"532\"/><line x1=\"1447\" y1=\"532\" x2=\"1118\" y2=\"538\"/><line x1=\"572\" y1=\"731\" x2=\"413\" y2=\"922\"/><line x1=\"91\" y1=\"1026\" x2=\"163\" y2=\"744\"/><line x1=\"572\" y1=\"731\" x2=\"811\" y2=\"1033\"/></g><g id=\"edges\" class=\"ttt\"><line x1=\"541\" y1=\"266\" x2=\"163\" y2=\"744\"/></g><g id=\"WTGgrp\"><g fill=\"#2ca02c\"><use href=\"#wtg\" x=\"79\" y=\"403\"/><use href=\"#wtg\" x=\"91\" y=\"1026\"/><use href=\"#wtg\" x=\"163\" y=\"744\"/></g><g fill=\"#aec7e8\"><use href=\"#wtg\" x=\"1387\" y=\"128\"/><use href=\"#wtg\" x=\"1462\" y=\"846\"/><use href=\"#wtg\" x=\"1118\" y=\"538\"/><use href=\"#wtg\" x=\"1447\" y=\"532\"/></g><g fill=\"#1f77b4\"><use href=\"#wtg\" x=\"971\" y=\"94\"/></g><g fill=\"#ff7f0e\"><use href=\"#wtg\" x=\"413\" y=\"922\"/><use href=\"#wtg\" x=\"572\" y=\"731\"/><use href=\"#wtg\" x=\"811\" y=\"1033\"/></g><g fill=\"#ffbb78\"><use href=\"#wtg\" x=\"354\" y=\"48\"/></g></g><g id=\"OSSgrp\"><use href=\"#oss\" x=\"530.5\" y=\"255.5\"/></g></g><text text-anchor=\"end\" font-family=\"sans-serif\" font-size=\"40\" fill=\"white\" x=\"1500\" y=\"1080\"><tspan x=\"1500\" dx=\"-0.2em\" dy=\"-0.2em\">&#931;&#955; = 6565.6 m</tspan><tspan x=\"1500\" dx=\"-0.2em\" dy=\"-1.2em\">(+2) &#945;: 5</tspan><tspan x=\"1500\" dx=\"-0.2em\" dy=\"-1.2em\">&#954; = 4, T = 12</tspan></text></svg>"
      ],
      "text/plain": [
       "<interarray.svg.SvgRepr at 0x27a110ca050>"
      ]
     },
     "execution_count": 54,
     "metadata": {},
     "output_type": "execute_result"
    }
   ],
   "source": [
    "svgplot(G)"
   ]
  }
 ],
 "metadata": {
  "kernelspec": {
   "display_name": "«work»",
   "language": "python",
   "name": "work"
  },
  "language_info": {
   "codemirror_mode": {
    "name": "ipython",
    "version": 3
   },
   "file_extension": ".py",
   "mimetype": "text/x-python",
   "name": "python",
   "nbconvert_exporter": "python",
   "pygments_lexer": "ipython3",
   "version": "3.10.16"
  }
 },
 "nbformat": 4,
 "nbformat_minor": 5
}
