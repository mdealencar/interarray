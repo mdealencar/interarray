{
 "cells": [
  {
   "cell_type": "code",
   "execution_count": null,
   "id": "bb387705-6007-4ec3-aee8-630fb847404e",
   "metadata": {},
   "outputs": [],
   "source": []
  },
  {
   "cell_type": "code",
   "execution_count": 1,
   "id": "23c1c992-a563-4f2d-bbc8-cf0884e5b275",
   "metadata": {},
   "outputs": [],
   "source": [
    "from interarray.importer import load_repository\n",
    "from interarray.svg import svgplot\n",
    "from interarray.mesh import make_planar_embedding\n",
    "from interarray.interarraylib import G_from_S\n",
    "from interarray.heuristics import EW_presolver\n",
    "from interarray.MILP import pyomo as omo\n",
    "from interarray.pathfinding import PathFinder"
   ]
  },
  {
   "cell_type": "code",
   "execution_count": 2,
   "id": "4ac9d1b1-17f6-4ed5-906c-67179c34dd9f",
   "metadata": {},
   "outputs": [],
   "source": [
    "from pyomo import environ as pyo"
   ]
  },
  {
   "cell_type": "markdown",
   "id": "6a449ac4-8896-454c-ae22-cd0896da21ce",
   "metadata": {
    "deletable": true,
    "editable": true,
    "frozen": false
   },
   "source": [
    "## Load interarray's locations"
   ]
  },
  {
   "cell_type": "code",
   "execution_count": 3,
   "id": "29a6b5d1-a05f-4112-bf66-462b4d36b516",
   "metadata": {},
   "outputs": [],
   "source": [
    "locations = load_repository()"
   ]
  },
  {
   "cell_type": "markdown",
   "id": "b2bb8f58-4c20-4fe0-9cad-912d06b5871c",
   "metadata": {
    "deletable": true,
    "editable": true,
    "frozen": false
   },
   "source": [
    "## Optimize Gwynt y Mor"
   ]
  },
  {
   "cell_type": "code",
   "execution_count": 4,
   "id": "666ca26c-b3cf-4000-a44e-cab38866018d",
   "metadata": {},
   "outputs": [],
   "source": [
    "L = locations.gwynt\n",
    "capacity = 6"
   ]
  },
  {
   "cell_type": "code",
   "execution_count": 5,
   "id": "a23b577c-d334-405e-b70a-9b3717eefa2b",
   "metadata": {},
   "outputs": [
    {
     "data": {
      "image/svg+xml": [
       "<svg xmlns=\"http://www.w3.org/2000/svg\" viewBox=\"0 0 1920 1025\"><defs ><filter x=\"-5%\" y=\"-5%\" id=\"bg_textbox\" width=\"110%\" height=\"110%\"><feFlood flood-opacity=\"0.7\" flood-color=\"#111\" result=\"bg\"/><feMerge ><feMergeNode in=\"bg\"/><feMergeNode in=\"SourceGraphic\"/></feMerge></filter><circle stroke=\"none\" stroke-width=\"2\" id=\"wtg\" r=\"12\"/><rect stroke=\"none\" stroke-width=\"2\" id=\"oss\" width=\"21\" height=\"21\" fill=\"lawngreen\"/></defs><g id=\"gwynt\"><path stroke=\"silver\" stroke-dasharray=\"15 7\" stroke-width=\"2\" id=\"border\" d=\"M1228 156 1541 267 1890 995 1526 956 1269 866 953 924 932 820 786 842 636 967 477 991 367 868 351 779 90 453 51 416 30 318 247 138 868 30 1054 96z\" fill-rule=\"evenodd\" fill=\"#111\"/><g id=\"WTGgrp\"><g fill=\"#9edae5\"><use href=\"#wtg\" x=\"858\" y=\"36\"/><use href=\"#wtg\" x=\"943\" y=\"67\"/><use href=\"#wtg\" x=\"1029\" y=\"98\"/><use href=\"#wtg\" x=\"1221\" y=\"163\"/><use href=\"#wtg\" x=\"1306\" y=\"193\"/><use href=\"#wtg\" x=\"1391\" y=\"224\"/><use href=\"#wtg\" x=\"1476\" y=\"255\"/><use href=\"#wtg\" x=\"791\" y=\"90\"/><use href=\"#wtg\" x=\"876\" y=\"121\"/><use href=\"#wtg\" x=\"961\" y=\"152\"/><use href=\"#wtg\" x=\"1152\" y=\"221\"/><use href=\"#wtg\" x=\"1237\" y=\"252\"/><use href=\"#wtg\" x=\"1322\" y=\"283\"/><use href=\"#wtg\" x=\"1407\" y=\"314\"/><use href=\"#wtg\" x=\"1492\" y=\"344\"/><use href=\"#wtg\" x=\"1572\" y=\"378\"/><use href=\"#wtg\" x=\"1508\" y=\"433\"/><use href=\"#wtg\" x=\"1589\" y=\"461\"/><use href=\"#wtg\" x=\"637\" y=\"117\"/><use href=\"#wtg\" x=\"722\" y=\"148\"/><use href=\"#wtg\" x=\"807\" y=\"179\"/><use href=\"#wtg\" x=\"892\" y=\"210\"/><use href=\"#wtg\" x=\"977\" y=\"241\"/><use href=\"#wtg\" x=\"1168\" y=\"310\"/><use href=\"#wtg\" x=\"1253\" y=\"341\"/><use href=\"#wtg\" x=\"1338\" y=\"372\"/><use href=\"#wtg\" x=\"1423\" y=\"403\"/><use href=\"#wtg\" x=\"1439\" y=\"492\"/><use href=\"#wtg\" x=\"1524\" y=\"523\"/><use href=\"#wtg\" x=\"1609\" y=\"553\"/><use href=\"#wtg\" x=\"567\" y=\"176\"/><use href=\"#wtg\" x=\"652\" y=\"207\"/><use href=\"#wtg\" x=\"738\" y=\"237\"/><use href=\"#wtg\" x=\"823\" y=\"268\"/><use href=\"#wtg\" x=\"908\" y=\"299\"/><use href=\"#wtg\" x=\"1098\" y=\"368\"/><use href=\"#wtg\" x=\"1183\" y=\"399\"/><use href=\"#wtg\" x=\"1269\" y=\"430\"/><use href=\"#wtg\" x=\"1354\" y=\"461\"/><use href=\"#wtg\" x=\"1114\" y=\"458\"/><use href=\"#wtg\" x=\"1199\" y=\"488\"/><use href=\"#wtg\" x=\"1285\" y=\"519\"/><use href=\"#wtg\" x=\"1370\" y=\"550\"/><use href=\"#wtg\" x=\"1455\" y=\"581\"/><use href=\"#wtg\" x=\"1540\" y=\"612\"/><use href=\"#wtg\" x=\"1625\" y=\"643\"/><use href=\"#wtg\" x=\"1710\" y=\"673\"/><use href=\"#wtg\" x=\"242\" y=\"142\"/><use href=\"#wtg\" x=\"328\" y=\"172\"/><use href=\"#wtg\" x=\"413\" y=\"203\"/><use href=\"#wtg\" x=\"498\" y=\"234\"/><use href=\"#wtg\" x=\"583\" y=\"265\"/><use href=\"#wtg\" x=\"668\" y=\"296\"/><use href=\"#wtg\" x=\"754\" y=\"327\"/><use href=\"#wtg\" x=\"839\" y=\"357\"/><use href=\"#wtg\" x=\"924\" y=\"388\"/><use href=\"#wtg\" x=\"1045\" y=\"516\"/><use href=\"#wtg\" x=\"1130\" y=\"547\"/><use href=\"#wtg\" x=\"1215\" y=\"578\"/><use href=\"#wtg\" x=\"1300\" y=\"609\"/><use href=\"#wtg\" x=\"1386\" y=\"639\"/><use href=\"#wtg\" x=\"1471\" y=\"670\"/><use href=\"#wtg\" x=\"1556\" y=\"701\"/><use href=\"#wtg\" x=\"1641\" y=\"732\"/><use href=\"#wtg\" x=\"1726\" y=\"763\"/><use href=\"#wtg\" x=\"173\" y=\"200\"/><use href=\"#wtg\" x=\"258\" y=\"231\"/><use href=\"#wtg\" x=\"344\" y=\"262\"/><use href=\"#wtg\" x=\"429\" y=\"293\"/><use href=\"#wtg\" x=\"514\" y=\"323\"/><use href=\"#wtg\" x=\"599\" y=\"354\"/><use href=\"#wtg\" x=\"684\" y=\"385\"/><use href=\"#wtg\" x=\"769\" y=\"416\"/><use href=\"#wtg\" x=\"855\" y=\"447\"/><use href=\"#wtg\" x=\"870\" y=\"536\"/><use href=\"#wtg\" x=\"1061\" y=\"605\"/><use href=\"#wtg\" x=\"1146\" y=\"636\"/><use href=\"#wtg\" x=\"1231\" y=\"667\"/><use href=\"#wtg\" x=\"1316\" y=\"698\"/><use href=\"#wtg\" x=\"1402\" y=\"729\"/><use href=\"#wtg\" x=\"1487\" y=\"759\"/><use href=\"#wtg\" x=\"1572\" y=\"790\"/><use href=\"#wtg\" x=\"1657\" y=\"821\"/><use href=\"#wtg\" x=\"1742\" y=\"852\"/><use href=\"#wtg\" x=\"104\" y=\"258\"/><use href=\"#wtg\" x=\"189\" y=\"289\"/><use href=\"#wtg\" x=\"274\" y=\"320\"/><use href=\"#wtg\" x=\"359\" y=\"351\"/><use href=\"#wtg\" x=\"445\" y=\"382\"/><use href=\"#wtg\" x=\"530\" y=\"412\"/><use href=\"#wtg\" x=\"615\" y=\"443\"/><use href=\"#wtg\" x=\"700\" y=\"474\"/><use href=\"#wtg\" x=\"785\" y=\"505\"/><use href=\"#wtg\" x=\"801\" y=\"594\"/><use href=\"#wtg\" x=\"992\" y=\"664\"/><use href=\"#wtg\" x=\"1077\" y=\"694\"/><use href=\"#wtg\" x=\"1162\" y=\"725\"/><use href=\"#wtg\" x=\"1247\" y=\"756\"/><use href=\"#wtg\" x=\"1332\" y=\"787\"/><use href=\"#wtg\" x=\"1417\" y=\"818\"/><use href=\"#wtg\" x=\"1503\" y=\"849\"/><use href=\"#wtg\" x=\"1588\" y=\"879\"/><use href=\"#wtg\" x=\"1673\" y=\"910\"/><use href=\"#wtg\" x=\"35\" y=\"317\"/><use href=\"#wtg\" x=\"1758\" y=\"941\"/><use href=\"#wtg\" x=\"1843\" y=\"972\"/><use href=\"#wtg\" x=\"120\" y=\"348\"/><use href=\"#wtg\" x=\"205\" y=\"378\"/><use href=\"#wtg\" x=\"290\" y=\"409\"/><use href=\"#wtg\" x=\"375\" y=\"440\"/><use href=\"#wtg\" x=\"461\" y=\"471\"/><use href=\"#wtg\" x=\"546\" y=\"502\"/><use href=\"#wtg\" x=\"631\" y=\"532\"/><use href=\"#wtg\" x=\"716\" y=\"563\"/><use href=\"#wtg\" x=\"817\" y=\"683\"/><use href=\"#wtg\" x=\"1007\" y=\"753\"/><use href=\"#wtg\" x=\"1092\" y=\"784\"/><use href=\"#wtg\" x=\"1178\" y=\"814\"/><use href=\"#wtg\" x=\"1263\" y=\"845\"/><use href=\"#wtg\" x=\"1348\" y=\"876\"/><use href=\"#wtg\" x=\"1433\" y=\"907\"/><use href=\"#wtg\" x=\"1519\" y=\"936\"/><use href=\"#wtg\" x=\"52\" y=\"402\"/><use href=\"#wtg\" x=\"136\" y=\"437\"/><use href=\"#wtg\" x=\"221\" y=\"468\"/><use href=\"#wtg\" x=\"306\" y=\"498\"/><use href=\"#wtg\" x=\"391\" y=\"529\"/><use href=\"#wtg\" x=\"476\" y=\"560\"/><use href=\"#wtg\" x=\"562\" y=\"591\"/><use href=\"#wtg\" x=\"647\" y=\"622\"/><use href=\"#wtg\" x=\"732\" y=\"652\"/><use href=\"#wtg\" x=\"1023\" y=\"842\"/><use href=\"#wtg\" x=\"1108\" y=\"873\"/><use href=\"#wtg\" x=\"152\" y=\"526\"/><use href=\"#wtg\" x=\"237\" y=\"557\"/><use href=\"#wtg\" x=\"322\" y=\"587\"/><use href=\"#wtg\" x=\"407\" y=\"618\"/><use href=\"#wtg\" x=\"492\" y=\"649\"/><use href=\"#wtg\" x=\"577\" y=\"680\"/><use href=\"#wtg\" x=\"663\" y=\"711\"/><use href=\"#wtg\" x=\"748\" y=\"742\"/><use href=\"#wtg\" x=\"938\" y=\"811\"/><use href=\"#wtg\" x=\"253\" y=\"646\"/><use href=\"#wtg\" x=\"338\" y=\"677\"/><use href=\"#wtg\" x=\"423\" y=\"707\"/><use href=\"#wtg\" x=\"508\" y=\"738\"/><use href=\"#wtg\" x=\"593\" y=\"769\"/><use href=\"#wtg\" x=\"679\" y=\"800\"/><use href=\"#wtg\" x=\"764\" y=\"831\"/><use href=\"#wtg\" x=\"954\" y=\"900\"/><use href=\"#wtg\" x=\"354\" y=\"766\"/><use href=\"#wtg\" x=\"439\" y=\"797\"/><use href=\"#wtg\" x=\"524\" y=\"827\"/><use href=\"#wtg\" x=\"609\" y=\"858\"/><use href=\"#wtg\" x=\"694\" y=\"889\"/><use href=\"#wtg\" x=\"370\" y=\"855\"/><use href=\"#wtg\" x=\"455\" y=\"886\"/><use href=\"#wtg\" x=\"540\" y=\"917\"/><use href=\"#wtg\" x=\"625\" y=\"948\"/><use href=\"#wtg\" x=\"473\" y=\"970\"/></g></g><g id=\"OSSgrp\"><use href=\"#oss\" x=\"1282.5\" y=\"553.5\"/><use href=\"#oss\" x=\"489.5\" y=\"683.5\"/></g></g></svg>"
      ],
      "text/plain": [
       "<interarray.svg.SvgRepr at 0x27dd23f4da0>"
      ]
     },
     "execution_count": 5,
     "metadata": {},
     "output_type": "execute_result"
    }
   ],
   "source": [
    "svgplot(L)"
   ]
  },
  {
   "cell_type": "code",
   "execution_count": 6,
   "id": "df05184d-7caa-4b34-810e-37c13a7a8092",
   "metadata": {},
   "outputs": [],
   "source": [
    "P, A = make_planar_embedding(L)"
   ]
  },
  {
   "cell_type": "markdown",
   "id": "4f9b49b1-a597-4053-a3d1-f3de7bb8d164",
   "metadata": {
    "deletable": true,
    "editable": true,
    "frozen": false
   },
   "source": [
    "Initial heuristic solution to warm-start the solver:"
   ]
  },
  {
   "cell_type": "code",
   "execution_count": 7,
   "id": "19eb273d-f662-4851-bf09-e0ec532d7b8b",
   "metadata": {},
   "outputs": [
    {
     "data": {
      "image/svg+xml": [
       "<svg xmlns=\"http://www.w3.org/2000/svg\" viewBox=\"0 0 1920 1025\"><defs ><filter x=\"-5%\" y=\"-5%\" id=\"bg_textbox\" width=\"110%\" height=\"110%\"><feFlood flood-opacity=\"0.7\" flood-color=\"#111\" result=\"bg\"/><feMerge ><feMergeNode in=\"bg\"/><feMergeNode in=\"SourceGraphic\"/></feMerge></filter><circle stroke=\"none\" stroke-width=\"2\" id=\"wtg\" r=\"12\"/><rect stroke=\"none\" stroke-width=\"2\" id=\"oss\" width=\"21\" height=\"21\" fill=\"lawngreen\"/></defs><g id=\"gwynt\"><path stroke=\"silver\" stroke-dasharray=\"15 7\" stroke-width=\"2\" id=\"border\" d=\"M1228 156 1541 267 1890 995 1526 956 1269 866 953 924 932 820 786 842 636 967 477 991 367 868 351 779 90 453 51 416 30 318 247 138 868 30 1054 96z\" fill-rule=\"evenodd\" fill=\"#111\"/><g stroke=\"crimson\" stroke-width=\"4\" id=\"edges_unspecified\"><line x1=\"344\" y1=\"262\" x2=\"359\" y2=\"351\"/><line x1=\"328\" y1=\"172\" x2=\"344\" y2=\"262\"/><line x1=\"500\" y1=\"694\" x2=\"439\" y2=\"797\"/><line x1=\"500\" y1=\"694\" x2=\"423\" y2=\"707\"/><line x1=\"500\" y1=\"694\" x2=\"562\" y2=\"591\"/><line x1=\"500\" y1=\"694\" x2=\"492\" y2=\"649\"/><line x1=\"500\" y1=\"694\" x2=\"593\" y2=\"769\"/><line x1=\"500\" y1=\"694\" x2=\"508\" y2=\"738\"/><line x1=\"500\" y1=\"694\" x2=\"577\" y2=\"680\"/><line x1=\"413\" y1=\"203\" x2=\"429\" y2=\"293\"/><line x1=\"429\" y1=\"293\" x2=\"445\" y2=\"382\"/><line x1=\"1417\" y1=\"818\" x2=\"1433\" y2=\"907\"/><line x1=\"1402\" y1=\"729\" x2=\"1417\" y2=\"818\"/><line x1=\"1293\" y1=\"564\" x2=\"1285\" y2=\"519\"/><line x1=\"1293\" y1=\"564\" x2=\"1300\" y2=\"609\"/><line x1=\"1293\" y1=\"564\" x2=\"1354\" y2=\"461\"/><line x1=\"1293\" y1=\"564\" x2=\"1231\" y2=\"667\"/><line x1=\"1293\" y1=\"564\" x2=\"1199\" y2=\"488\"/><line x1=\"1293\" y1=\"564\" x2=\"1370\" y2=\"550\"/><line x1=\"1293\" y1=\"564\" x2=\"1215\" y2=\"578\"/><line x1=\"1293\" y1=\"564\" x2=\"1386\" y2=\"639\"/><line x1=\"1503\" y1=\"849\" x2=\"1588\" y2=\"879\"/><line x1=\"1503\" y1=\"849\" x2=\"1519\" y2=\"936\"/><line x1=\"445\" y1=\"382\" x2=\"461\" y2=\"471\"/><line x1=\"359\" y1=\"351\" x2=\"375\" y2=\"440\"/><line x1=\"858\" y1=\"36\" x2=\"876\" y2=\"121\"/><line x1=\"943\" y1=\"67\" x2=\"876\" y2=\"121\"/><line x1=\"943\" y1=\"67\" x2=\"961\" y2=\"152\"/><line x1=\"1029\" y1=\"98\" x2=\"961\" y2=\"152\"/><line x1=\"1183\" y1=\"399\" x2=\"1199\" y2=\"488\"/><line x1=\"1114\" y1=\"458\" x2=\"1199\" y2=\"488\"/><line x1=\"1269\" y1=\"430\" x2=\"1285\" y2=\"519\"/><line x1=\"1588\" y1=\"879\" x2=\"1673\" y2=\"910\"/><line x1=\"1237\" y1=\"252\" x2=\"1253\" y2=\"341\"/><line x1=\"1221\" y1=\"163\" x2=\"1237\" y2=\"252\"/><line x1=\"1168\" y1=\"310\" x2=\"1183\" y2=\"399\"/><line x1=\"1152\" y1=\"221\" x2=\"1168\" y2=\"310\"/><line x1=\"439\" y1=\"797\" x2=\"370\" y2=\"855\"/><line x1=\"439\" y1=\"797\" x2=\"455\" y2=\"886\"/><line x1=\"1439\" y1=\"492\" x2=\"1370\" y2=\"550\"/><line x1=\"855\" y1=\"447\" x2=\"785\" y2=\"505\"/><line x1=\"924\" y1=\"388\" x2=\"855\" y2=\"447\"/><line x1=\"870\" y1=\"536\" x2=\"801\" y2=\"594\"/><line x1=\"152\" y1=\"526\" x2=\"237\" y2=\"557\"/><line x1=\"237\" y1=\"557\" x2=\"322\" y2=\"587\"/><line x1=\"1492\" y1=\"344\" x2=\"1572\" y2=\"378\"/><line x1=\"1572\" y1=\"378\" x2=\"1508\" y2=\"433\"/><line x1=\"1455\" y1=\"581\" x2=\"1540\" y2=\"612\"/><line x1=\"1524\" y1=\"523\" x2=\"1455\" y2=\"581\"/><line x1=\"1386\" y1=\"639\" x2=\"1487\" y2=\"759\"/><line x1=\"120\" y1=\"348\" x2=\"205\" y2=\"378\"/><line x1=\"120\" y1=\"348\" x2=\"52\" y2=\"402\"/><line x1=\"205\" y1=\"378\" x2=\"290\" y2=\"409\"/><line x1=\"35\" y1=\"317\" x2=\"52\" y2=\"402\"/><line x1=\"1077\" y1=\"694\" x2=\"1007\" y2=\"753\"/><line x1=\"1146\" y1=\"636\" x2=\"1077\" y2=\"694\"/><line x1=\"1092\" y1=\"784\" x2=\"1023\" y2=\"842\"/><line x1=\"1162\" y1=\"725\" x2=\"1092\" y2=\"784\"/><line x1=\"1508\" y1=\"433\" x2=\"1589\" y2=\"461\"/><line x1=\"1508\" y1=\"433\" x2=\"1439\" y2=\"492\"/><line x1=\"242\" y1=\"142\" x2=\"258\" y2=\"231\"/><line x1=\"290\" y1=\"409\" x2=\"391\" y2=\"529\"/><line x1=\"407\" y1=\"618\" x2=\"423\" y2=\"707\"/><line x1=\"423\" y1=\"707\" x2=\"354\" y2=\"766\"/><line x1=\"338\" y1=\"677\" x2=\"423\" y2=\"707\"/><line x1=\"637\" y1=\"117\" x2=\"652\" y2=\"207\"/><line x1=\"567\" y1=\"176\" x2=\"583\" y2=\"265\"/><line x1=\"258\" y1=\"231\" x2=\"274\" y2=\"320\"/><line x1=\"1231\" y1=\"667\" x2=\"1162\" y2=\"725\"/><line x1=\"1178\" y1=\"814\" x2=\"1108\" y2=\"873\"/><line x1=\"1247\" y1=\"756\" x2=\"1178\" y2=\"814\"/><line x1=\"593\" y1=\"769\" x2=\"679\" y2=\"800\"/><line x1=\"679\" y1=\"800\" x2=\"764\" y2=\"831\"/><line x1=\"593\" y1=\"769\" x2=\"609\" y2=\"858\"/><line x1=\"609\" y1=\"858\" x2=\"694\" y2=\"889\"/><line x1=\"609\" y1=\"858\" x2=\"625\" y2=\"948\"/><line x1=\"1524\" y1=\"523\" x2=\"1609\" y2=\"553\"/><line x1=\"1625\" y1=\"643\" x2=\"1710\" y2=\"673\"/><line x1=\"1540\" y1=\"612\" x2=\"1625\" y2=\"643\"/><line x1=\"1487\" y1=\"759\" x2=\"1572\" y2=\"790\"/><line x1=\"1572\" y1=\"790\" x2=\"1657\" y2=\"821\"/><line x1=\"892\" y1=\"210\" x2=\"977\" y2=\"241\"/><line x1=\"1657\" y1=\"821\" x2=\"1742\" y2=\"852\"/><line x1=\"461\" y1=\"471\" x2=\"476\" y2=\"560\"/><line x1=\"476\" y1=\"560\" x2=\"492\" y2=\"649\"/><line x1=\"1407\" y1=\"314\" x2=\"1338\" y2=\"372\"/><line x1=\"1322\" y1=\"283\" x2=\"1338\" y2=\"372\"/><line x1=\"1423\" y1=\"403\" x2=\"1354\" y2=\"461\"/><line x1=\"221\" y1=\"468\" x2=\"306\" y2=\"498\"/><line x1=\"306\" y1=\"498\" x2=\"322\" y2=\"587\"/><line x1=\"908\" y1=\"299\" x2=\"924\" y2=\"388\"/><line x1=\"1045\" y1=\"516\" x2=\"1130\" y2=\"547\"/><line x1=\"1023\" y1=\"842\" x2=\"954\" y2=\"900\"/><line x1=\"1130\" y1=\"547\" x2=\"1215\" y2=\"578\"/><line x1=\"1061\" y1=\"605\" x2=\"1146\" y2=\"636\"/><line x1=\"1098\" y1=\"368\" x2=\"1183\" y2=\"399\"/><line x1=\"1758\" y1=\"941\" x2=\"1843\" y2=\"972\"/><line x1=\"1061\" y1=\"605\" x2=\"992\" y2=\"664\"/><line x1=\"817\" y1=\"683\" x2=\"732\" y2=\"652\"/><line x1=\"508\" y1=\"738\" x2=\"524\" y2=\"827\"/><line x1=\"1007\" y1=\"753\" x2=\"938\" y2=\"811\"/><line x1=\"253\" y1=\"646\" x2=\"338\" y2=\"677\"/><line x1=\"104\" y1=\"258\" x2=\"189\" y2=\"289\"/><line x1=\"173\" y1=\"200\" x2=\"189\" y2=\"289\"/><line x1=\"1476\" y1=\"255\" x2=\"1407\" y2=\"314\"/><line x1=\"892\" y1=\"210\" x2=\"908\" y2=\"299\"/><line x1=\"514\" y1=\"323\" x2=\"530\" y2=\"412\"/><line x1=\"498\" y1=\"234\" x2=\"514\" y2=\"323\"/><line x1=\"599\" y1=\"354\" x2=\"530\" y2=\"412\"/><line x1=\"839\" y1=\"357\" x2=\"769\" y2=\"416\"/><line x1=\"1673\" y1=\"910\" x2=\"1758\" y2=\"941\"/><line x1=\"769\" y1=\"416\" x2=\"700\" y2=\"474\"/><line x1=\"700\" y1=\"474\" x2=\"631\" y2=\"532\"/><line x1=\"716\" y1=\"563\" x2=\"647\" y2=\"622\"/><line x1=\"1471\" y1=\"670\" x2=\"1556\" y2=\"701\"/><line x1=\"1556\" y1=\"701\" x2=\"1641\" y2=\"732\"/><line x1=\"1641\" y1=\"732\" x2=\"1726\" y2=\"763\"/><line x1=\"1306\" y1=\"193\" x2=\"1322\" y2=\"283\"/><line x1=\"1253\" y1=\"341\" x2=\"1269\" y2=\"430\"/><line x1=\"631\" y1=\"532\" x2=\"562\" y2=\"591\"/><line x1=\"136\" y1=\"437\" x2=\"221\" y2=\"468\"/><line x1=\"647\" y1=\"622\" x2=\"577\" y2=\"680\"/><line x1=\"583\" y1=\"265\" x2=\"599\" y2=\"354\"/><line x1=\"684\" y1=\"385\" x2=\"615\" y2=\"443\"/><line x1=\"615\" y1=\"443\" x2=\"546\" y2=\"502\"/><line x1=\"722\" y1=\"148\" x2=\"652\" y2=\"207\"/><line x1=\"652\" y1=\"207\" x2=\"668\" y2=\"296\"/><line x1=\"738\" y1=\"237\" x2=\"668\" y2=\"296\"/><line x1=\"801\" y1=\"594\" x2=\"732\" y2=\"652\"/><line x1=\"732\" y1=\"652\" x2=\"663\" y2=\"711\"/><line x1=\"1300\" y1=\"609\" x2=\"1247\" y2=\"756\"/><line x1=\"1247\" y1=\"756\" x2=\"1263\" y2=\"845\"/><line x1=\"1332\" y1=\"787\" x2=\"1348\" y2=\"876\"/><line x1=\"1316\" y1=\"698\" x2=\"1332\" y2=\"787\"/><line x1=\"1391\" y1=\"224\" x2=\"1407\" y2=\"314\"/><line x1=\"754\" y1=\"327\" x2=\"684\" y2=\"385\"/><line x1=\"823\" y1=\"268\" x2=\"754\" y2=\"327\"/><line x1=\"807\" y1=\"179\" x2=\"738\" y2=\"237\"/><line x1=\"540\" y1=\"917\" x2=\"473\" y2=\"970\"/><line x1=\"1316\" y1=\"698\" x2=\"1402\" y2=\"729\"/><line x1=\"189\" y1=\"289\" x2=\"274\" y2=\"320\"/><line x1=\"455\" y1=\"886\" x2=\"473\" y2=\"970\"/><line x1=\"858\" y1=\"36\" x2=\"791\" y2=\"90\"/><line x1=\"663\" y1=\"711\" x2=\"748\" y2=\"742\"/></g><g stroke=\"red\" stroke-dasharray=\"18 15\" stroke-width=\"4\" id=\"edges_tentative\"><line x1=\"500\" y1=\"694\" x2=\"663\" y2=\"711\"/><line x1=\"500\" y1=\"694\" x2=\"668\" y2=\"296\"/><line x1=\"500\" y1=\"694\" x2=\"391\" y2=\"529\"/><line x1=\"500\" y1=\"694\" x2=\"322\" y2=\"587\"/><line x1=\"500\" y1=\"694\" x2=\"375\" y2=\"440\"/><line x1=\"500\" y1=\"694\" x2=\"530\" y2=\"412\"/><line x1=\"500\" y1=\"694\" x2=\"274\" y2=\"320\"/><line x1=\"500\" y1=\"694\" x2=\"785\" y2=\"505\"/><line x1=\"500\" y1=\"694\" x2=\"546\" y2=\"502\"/><line x1=\"1293\" y1=\"564\" x2=\"1455\" y2=\"581\"/><line x1=\"1293\" y1=\"564\" x2=\"1316\" y2=\"698\"/><line x1=\"1293\" y1=\"564\" x2=\"1503\" y2=\"849\"/><line x1=\"1293\" y1=\"564\" x2=\"1471\" y2=\"670\"/><line x1=\"1293\" y1=\"564\" x2=\"1338\" y2=\"372\"/><line x1=\"1293\" y1=\"564\" x2=\"961\" y2=\"152\"/><line x1=\"1293\" y1=\"564\" x2=\"1146\" y2=\"636\"/></g><g id=\"WTGgrp\"><g fill=\"#c7c7c7\"><use href=\"#wtg\" x=\"344\" y=\"262\"/><use href=\"#wtg\" x=\"375\" y=\"440\"/><use href=\"#wtg\" x=\"328\" y=\"172\"/><use href=\"#wtg\" x=\"359\" y=\"351\"/></g><g fill=\"#98df8a\"><use href=\"#wtg\" x=\"429\" y=\"293\"/><use href=\"#wtg\" x=\"445\" y=\"382\"/><use href=\"#wtg\" x=\"413\" y=\"203\"/><use href=\"#wtg\" x=\"461\" y=\"471\"/><use href=\"#wtg\" x=\"476\" y=\"560\"/><use href=\"#wtg\" x=\"492\" y=\"649\"/></g><g fill=\"#f7b6d2\"><use href=\"#wtg\" x=\"1417\" y=\"818\"/><use href=\"#wtg\" x=\"1433\" y=\"907\"/><use href=\"#wtg\" x=\"1332\" y=\"787\"/><use href=\"#wtg\" x=\"1348\" y=\"876\"/><use href=\"#wtg\" x=\"1316\" y=\"698\"/><use href=\"#wtg\" x=\"1402\" y=\"729\"/></g><g fill=\"#1f77b4\"><use href=\"#wtg\" x=\"1503\" y=\"849\"/><use href=\"#wtg\" x=\"1588\" y=\"879\"/><use href=\"#wtg\" x=\"1843\" y=\"972\"/><use href=\"#wtg\" x=\"1519\" y=\"936\"/><use href=\"#wtg\" x=\"1673\" y=\"910\"/><use href=\"#wtg\" x=\"1758\" y=\"941\"/></g><g fill=\"#aec7e8\"><use href=\"#wtg\" x=\"876\" y=\"121\"/><use href=\"#wtg\" x=\"961\" y=\"152\"/><use href=\"#wtg\" x=\"1029\" y=\"98\"/><use href=\"#wtg\" x=\"858\" y=\"36\"/><use href=\"#wtg\" x=\"943\" y=\"67\"/><use href=\"#wtg\" x=\"791\" y=\"90\"/></g><g fill=\"#ff7f0e\"><use href=\"#wtg\" x=\"1199\" y=\"488\"/><use href=\"#wtg\" x=\"1168\" y=\"310\"/><use href=\"#wtg\" x=\"1152\" y=\"221\"/><use href=\"#wtg\" x=\"1098\" y=\"368\"/><use href=\"#wtg\" x=\"1114\" y=\"458\"/><use href=\"#wtg\" x=\"1183\" y=\"399\"/></g><g fill=\"#ffbb78\"><use href=\"#wtg\" x=\"1285\" y=\"519\"/><use href=\"#wtg\" x=\"1237\" y=\"252\"/><use href=\"#wtg\" x=\"1221\" y=\"163\"/><use href=\"#wtg\" x=\"1253\" y=\"341\"/><use href=\"#wtg\" x=\"1269\" y=\"430\"/></g><g fill=\"#bcbd22\"><use href=\"#wtg\" x=\"439\" y=\"797\"/><use href=\"#wtg\" x=\"370\" y=\"855\"/><use href=\"#wtg\" x=\"540\" y=\"917\"/><use href=\"#wtg\" x=\"473\" y=\"970\"/><use href=\"#wtg\" x=\"455\" y=\"886\"/></g><g fill=\"#2ca02c\"><use href=\"#wtg\" x=\"1370\" y=\"550\"/><use href=\"#wtg\" x=\"1492\" y=\"344\"/><use href=\"#wtg\" x=\"1572\" y=\"378\"/><use href=\"#wtg\" x=\"1508\" y=\"433\"/><use href=\"#wtg\" x=\"1589\" y=\"461\"/><use href=\"#wtg\" x=\"1439\" y=\"492\"/></g><g fill=\"#dbdb8d\"><use href=\"#wtg\" x=\"855\" y=\"447\"/><use href=\"#wtg\" x=\"785\" y=\"505\"/><use href=\"#wtg\" x=\"977\" y=\"241\"/><use href=\"#wtg\" x=\"924\" y=\"388\"/><use href=\"#wtg\" x=\"892\" y=\"210\"/><use href=\"#wtg\" x=\"908\" y=\"299\"/></g><g fill=\"#8c564b\"><use href=\"#wtg\" x=\"870\" y=\"536\"/><use href=\"#wtg\" x=\"817\" y=\"683\"/><use href=\"#wtg\" x=\"801\" y=\"594\"/><use href=\"#wtg\" x=\"732\" y=\"652\"/><use href=\"#wtg\" x=\"663\" y=\"711\"/><use href=\"#wtg\" x=\"748\" y=\"742\"/></g><g fill=\"#1f77b4\"><use href=\"#wtg\" x=\"152\" y=\"526\"/><use href=\"#wtg\" x=\"237\" y=\"557\"/><use href=\"#wtg\" x=\"306\" y=\"498\"/><use href=\"#wtg\" x=\"322\" y=\"587\"/><use href=\"#wtg\" x=\"221\" y=\"468\"/><use href=\"#wtg\" x=\"136\" y=\"437\"/></g><g fill=\"#98df8a\"><use href=\"#wtg\" x=\"1455\" y=\"581\"/><use href=\"#wtg\" x=\"1609\" y=\"553\"/><use href=\"#wtg\" x=\"1625\" y=\"643\"/><use href=\"#wtg\" x=\"1524\" y=\"523\"/><use href=\"#wtg\" x=\"1540\" y=\"612\"/><use href=\"#wtg\" x=\"1710\" y=\"673\"/></g><g fill=\"#d62728\"><use href=\"#wtg\" x=\"1386\" y=\"639\"/><use href=\"#wtg\" x=\"1487\" y=\"759\"/><use href=\"#wtg\" x=\"1572\" y=\"790\"/><use href=\"#wtg\" x=\"1657\" y=\"821\"/><use href=\"#wtg\" x=\"1742\" y=\"852\"/></g><g fill=\"#aec7e8\"><use href=\"#wtg\" x=\"120\" y=\"348\"/><use href=\"#wtg\" x=\"205\" y=\"378\"/><use href=\"#wtg\" x=\"52\" y=\"402\"/><use href=\"#wtg\" x=\"290\" y=\"409\"/><use href=\"#wtg\" x=\"35\" y=\"317\"/><use href=\"#wtg\" x=\"391\" y=\"529\"/></g><g fill=\"#8c564b\"><use href=\"#wtg\" x=\"1077\" y=\"694\"/><use href=\"#wtg\" x=\"1146\" y=\"636\"/><use href=\"#wtg\" x=\"992\" y=\"664\"/><use href=\"#wtg\" x=\"938\" y=\"811\"/><use href=\"#wtg\" x=\"1007\" y=\"753\"/><use href=\"#wtg\" x=\"1061\" y=\"605\"/></g><g fill=\"#e377c2\"><use href=\"#wtg\" x=\"1092\" y=\"784\"/><use href=\"#wtg\" x=\"1162\" y=\"725\"/><use href=\"#wtg\" x=\"954\" y=\"900\"/><use href=\"#wtg\" x=\"1023\" y=\"842\"/><use href=\"#wtg\" x=\"1231\" y=\"667\"/></g><g fill=\"#c5b0d5\"><use href=\"#wtg\" x=\"242\" y=\"142\"/><use href=\"#wtg\" x=\"258\" y=\"231\"/><use href=\"#wtg\" x=\"104\" y=\"258\"/><use href=\"#wtg\" x=\"173\" y=\"200\"/><use href=\"#wtg\" x=\"189\" y=\"289\"/><use href=\"#wtg\" x=\"274\" y=\"320\"/></g><g fill=\"#17becf\"><use href=\"#wtg\" x=\"407\" y=\"618\"/><use href=\"#wtg\" x=\"423\" y=\"707\"/><use href=\"#wtg\" x=\"253\" y=\"646\"/><use href=\"#wtg\" x=\"338\" y=\"677\"/><use href=\"#wtg\" x=\"354\" y=\"766\"/></g><g fill=\"#9467bd\"><use href=\"#wtg\" x=\"637\" y=\"117\"/><use href=\"#wtg\" x=\"652\" y=\"207\"/><use href=\"#wtg\" x=\"668\" y=\"296\"/><use href=\"#wtg\" x=\"722\" y=\"148\"/><use href=\"#wtg\" x=\"738\" y=\"237\"/><use href=\"#wtg\" x=\"807\" y=\"179\"/></g><g fill=\"#ff7f0e\"><use href=\"#wtg\" x=\"567\" y=\"176\"/><use href=\"#wtg\" x=\"514\" y=\"323\"/><use href=\"#wtg\" x=\"530\" y=\"412\"/><use href=\"#wtg\" x=\"599\" y=\"354\"/><use href=\"#wtg\" x=\"498\" y=\"234\"/><use href=\"#wtg\" x=\"583\" y=\"265\"/></g><g fill=\"#7f7f7f\"><use href=\"#wtg\" x=\"1178\" y=\"814\"/><use href=\"#wtg\" x=\"1108\" y=\"873\"/><use href=\"#wtg\" x=\"1247\" y=\"756\"/><use href=\"#wtg\" x=\"1263\" y=\"845\"/><use href=\"#wtg\" x=\"1300\" y=\"609\"/></g><g fill=\"#9edae5\"><use href=\"#wtg\" x=\"679\" y=\"800\"/><use href=\"#wtg\" x=\"609\" y=\"858\"/><use href=\"#wtg\" x=\"764\" y=\"831\"/><use href=\"#wtg\" x=\"694\" y=\"889\"/><use href=\"#wtg\" x=\"593\" y=\"769\"/><use href=\"#wtg\" x=\"625\" y=\"948\"/></g><g fill=\"#ff9896\"><use href=\"#wtg\" x=\"1338\" y=\"372\"/><use href=\"#wtg\" x=\"1476\" y=\"255\"/><use href=\"#wtg\" x=\"1306\" y=\"193\"/><use href=\"#wtg\" x=\"1322\" y=\"283\"/><use href=\"#wtg\" x=\"1407\" y=\"314\"/><use href=\"#wtg\" x=\"1391\" y=\"224\"/></g><g fill=\"#9467bd\"><use href=\"#wtg\" x=\"1354\" y=\"461\"/><use href=\"#wtg\" x=\"1423\" y=\"403\"/></g><g fill=\"#c5b0d5\"><use href=\"#wtg\" x=\"1045\" y=\"516\"/><use href=\"#wtg\" x=\"1215\" y=\"578\"/><use href=\"#wtg\" x=\"1130\" y=\"547\"/></g><g fill=\"#ffbb78\"><use href=\"#wtg\" x=\"524\" y=\"827\"/><use href=\"#wtg\" x=\"508\" y=\"738\"/></g><g fill=\"#2ca02c\"><use href=\"#wtg\" x=\"839\" y=\"357\"/><use href=\"#wtg\" x=\"700\" y=\"474\"/><use href=\"#wtg\" x=\"562\" y=\"591\"/><use href=\"#wtg\" x=\"631\" y=\"532\"/><use href=\"#wtg\" x=\"769\" y=\"416\"/></g><g fill=\"#d62728\"><use href=\"#wtg\" x=\"716\" y=\"563\"/><use href=\"#wtg\" x=\"647\" y=\"622\"/><use href=\"#wtg\" x=\"577\" y=\"680\"/></g><g fill=\"#c49c94\"><use href=\"#wtg\" x=\"1471\" y=\"670\"/><use href=\"#wtg\" x=\"1556\" y=\"701\"/><use href=\"#wtg\" x=\"1641\" y=\"732\"/><use href=\"#wtg\" x=\"1726\" y=\"763\"/></g><g fill=\"#ff9896\"><use href=\"#wtg\" x=\"615\" y=\"443\"/><use href=\"#wtg\" x=\"546\" y=\"502\"/><use href=\"#wtg\" x=\"754\" y=\"327\"/><use href=\"#wtg\" x=\"684\" y=\"385\"/><use href=\"#wtg\" x=\"823\" y=\"268\"/></g></g><g id=\"OSSgrp\"><use href=\"#oss\" x=\"1282.5\" y=\"553.5\"/><use href=\"#oss\" x=\"489.5\" y=\"683.5\"/></g></g><text filter=\"url(#bg_textbox)\" text-anchor=\"end\" font-family=\"sans-serif\" font-size=\"40\" fill=\"white\" x=\"1890\" y=\"995\"><tspan x=\"1890\" dy=\"-0.0em\">&#931;&#955; = 138349.0 m</tspan><tspan x=\"1890\" dy=\"-1.3em\">(+4) &#945;: 16, &#946;: 15</tspan><tspan x=\"1890\" dy=\"-1.3em\">&#954; = 6, T = 160</tspan></text></svg>"
      ],
      "text/plain": [
       "<interarray.svg.SvgRepr at 0x27dd41869c0>"
      ]
     },
     "execution_count": 7,
     "metadata": {},
     "output_type": "execute_result"
    }
   ],
   "source": [
    "Sʹ = EW_presolver(A, capacity=capacity)\n",
    "Gʹ = G_from_S(Sʹ, A)\n",
    "svgplot(Gʹ)"
   ]
  },
  {
   "cell_type": "code",
   "execution_count": 8,
   "id": "003714e7-bf75-4cda-ae19-58c74e126c75",
   "metadata": {},
   "outputs": [],
   "source": [
    "model = omo.make_min_length_model(\n",
    "    A, capacity,\n",
    "    gateXings_constraint=False,\n",
    "    branching=True,\n",
    "    gates_limit=False\n",
    ")\n",
    "omo.warmup_model(model, Sʹ);"
   ]
  },
  {
   "cell_type": "markdown",
   "id": "1dbc6982-18fe-447e-b6d0-935f491af2dc",
   "metadata": {
    "deletable": true,
    "editable": true,
    "frozen": false
   },
   "source": [
    "The pyomo GurobiDirect class can work as context manager by passing the `manage_env=True` parameter to SolverFactory. Advantages of operating this way:\n",
    "- the Gurobi license is released after the context's scope ends\n",
    "- one can pass `options` that can only be set at the Gurobi environment creation (such as `threadlimit`)"
   ]
  },
  {
   "cell_type": "code",
   "execution_count": 9,
   "id": "e6cb074e-6852-46e0-8399-93e5c733e1da",
   "metadata": {
    "scrolled": true
   },
   "outputs": [
    {
     "name": "stdout",
     "output_type": "stream",
     "text": [
      "True <class 'pyomo.solvers.plugins.solvers.gurobi_direct.GurobiDirect'>\n",
      "Solving \"gwynt\": {R=2, T=160, κ=6}\n",
      "\n",
      "Set parameter OutputFlag to value 1\n",
      "Set parameter MIPGap to value 0.005\n",
      "Set parameter TimeLimit to value 90\n",
      "Set parameter MIPFocus to value 1\n",
      "Gurobi Optimizer version 12.0.0 build v12.0.0rc1 (win64 - Windows 10.0 (19045.2))\n",
      "\n",
      "CPU model: 11th Gen Intel(R) Core(TM) i7-11850H @ 2.50GHz, instruction set [SSE2|AVX|AVX2|AVX512]\n",
      "Thread count: 8 physical cores, 16 logical processors, using up to 16 threads\n",
      "\n",
      "Non-default parameters:\n",
      "TimeLimit  90\n",
      "MIPGap  0.005\n",
      "MIPFocus  1\n",
      "\n",
      "Academic license 937681 - for non-commercial use only - registered to ma___@dtu.dk\n",
      "Optimize a model with 6093 rows, 3972 columns and 22844 nonzeros\n",
      "Model fingerprint: 0x7e2889a1\n",
      "Variable types: 0 continuous, 3972 integer (1986 binary)\n",
      "Coefficient statistics:\n",
      "  Matrix range     [1e+00, 6e+00]\n",
      "  Objective range  [4e+02, 1e+04]\n",
      "  Bounds range     [1e+00, 6e+00]\n",
      "  RHS range        [1e+00, 2e+02]\n",
      "\n",
      "Loaded user MIP start with objective 138349\n",
      "\n",
      "Presolve removed 917 rows and 0 columns\n",
      "Presolve time: 0.03s\n",
      "Presolved: 5176 rows, 3972 columns, 19026 nonzeros\n",
      "Variable types: 0 continuous, 3972 integer (1986 binary)\n",
      "\n",
      "Root relaxation: objective 1.252287e+05, 4792 iterations, 0.08 seconds (0.11 work units)\n",
      "\n",
      "    Nodes    |    Current Node    |     Objective Bounds      |     Work\n",
      " Expl Unexpl |  Obj  Depth IntInf | Incumbent    BestBd   Gap | It/Node Time\n",
      "\n",
      "     0     0 125228.749    0  310 138349.264 125228.749  9.48%     -    0s\n",
      "H    0     0                    138335.78117 125228.749  9.47%     -    0s\n",
      "H    0     0                    138334.29480 125228.749  9.47%     -    0s\n",
      "H    0     0                    138243.60043 125228.749  9.41%     -    0s\n",
      "H    0     0                    137666.67720 125228.749  9.03%     -    0s\n",
      "H    0     0                    136252.16062 125228.749  8.09%     -    0s\n",
      "H    0     0                    136251.38209 125228.749  8.09%     -    0s\n",
      "H    0     0                    136180.79381 125228.749  8.04%     -    0s\n",
      "H    0     0                    136179.05703 125228.749  8.04%     -    0s\n",
      "H    0     0                    136178.11299 125228.749  8.04%     -    0s\n",
      "H    0     0                    136177.61459 125228.749  8.04%     -    0s\n",
      "H    0     0                    135970.13731 125228.749  7.90%     -    0s\n",
      "H    0     0                    135957.54421 125228.749  7.89%     -    0s\n",
      "H    0     0                    135956.47455 125228.749  7.89%     -    0s\n",
      "H    0     0                    135109.44597 125228.749  7.31%     -    0s\n",
      "H    0     0                    134879.51584 125665.812  6.83%     -    0s\n",
      "H    0     0                    134204.09714 125665.812  6.36%     -    0s\n",
      "     0     0 125665.812    0  494 134204.097 125665.812  6.36%     -    0s\n",
      "H    0     0                    134203.53541 125665.812  6.36%     -    0s\n",
      "H    0     0                    134203.51207 125665.812  6.36%     -    0s\n",
      "H    0     0                    134190.66672 125665.812  6.35%     -    0s\n",
      "H    0     0                    134190.30694 125665.812  6.35%     -    0s\n",
      "H    0     0                    134190.17631 125665.812  6.35%     -    0s\n",
      "H    0     0                    134189.08843 125665.812  6.35%     -    0s\n",
      "H    0     0                    134187.69882 125665.812  6.35%     -    0s\n",
      "     0     0 125712.399    0  518 134187.699 125712.399  6.32%     -    0s\n",
      "     0     0 125713.796    0  523 134187.699 125713.796  6.31%     -    0s\n",
      "     0     0 125713.822    0  535 134187.699 125713.822  6.31%     -    0s\n",
      "H    0     0                    133019.67033 125713.822  5.49%     -    0s\n",
      "H    0     0                    132993.16088 126124.395  5.16%     -    0s\n",
      "H    0     0                    132981.22883 126124.395  5.16%     -    0s\n",
      "     0     0 126124.395    0  556 132981.229 126124.395  5.16%     -    0s\n",
      "     0     0 126129.704    0  532 132981.229 126129.704  5.15%     -    0s\n",
      "     0     0 126138.595    0  554 132981.229 126138.595  5.15%     -    0s\n",
      "     0     0 126138.755    0  572 132981.229 126138.755  5.15%     -    0s\n",
      "     0     0 126138.822    0  563 132981.229 126138.822  5.15%     -    0s\n",
      "H    0     0                    132980.65779 126138.822  5.14%     -    1s\n",
      "H    0     0                    132979.95298 126138.822  5.14%     -    1s\n",
      "H    0     0                    132979.42194 126138.822  5.14%     -    1s\n",
      "H    0     0                    132978.88413 126189.329  5.11%     -    1s\n",
      "     0     0 126189.329    0  600 132978.884 126189.329  5.11%     -    1s\n",
      "H    0     0                    132976.90680 126189.329  5.10%     -    1s\n",
      "     0     0 126219.653    0  600 132976.907 126219.653  5.08%     -    1s\n",
      "H    0     0                    132966.57659 126225.976  5.07%     -    1s\n",
      "     0     0 126225.976    0  604 132966.577 126225.976  5.07%     -    1s\n",
      "     0     0 126226.189    0  600 132966.577 126226.189  5.07%     -    1s\n",
      "     0     0 126226.633    0  622 132966.577 126226.633  5.07%     -    1s\n",
      "     0     0 126226.712    0  623 132966.577 126226.712  5.07%     -    1s\n",
      "H    0     0                    132759.34098 126313.276  4.86%     -    2s\n",
      "     0     0 126313.276    0  570 132759.341 126313.276  4.86%     -    2s\n",
      "     0     0 126337.184    0  594 132759.341 126337.184  4.84%     -    2s\n",
      "     0     0 126340.161    0  599 132759.341 126340.161  4.84%     -    2s\n",
      "     0     0 126341.231    0  611 132759.341 126341.231  4.83%     -    2s\n",
      "     0     0 126341.313    0  621 132759.341 126341.313  4.83%     -    2s\n",
      "     0     0 126366.043    0  538 132759.341 126366.043  4.82%     -    2s\n",
      "H    0     0                    132758.07980 126366.043  4.81%     -    2s\n",
      "H    0     0                    132756.96612 126366.043  4.81%     -    2s\n",
      "H    0     0                    132755.75850 126366.043  4.81%     -    3s\n",
      "H    0     0                    132754.98776 126366.043  4.81%     -    3s\n",
      "     0     2 126366.043    0  538 132754.988 126366.043  4.81%     -    5s\n",
      "H    8    16                    132040.22822 126376.679  4.29%   285    5s\n",
      "H   39    47                    132039.30492 126379.833  4.29%   363    6s\n",
      "H   48    60                    132037.90797 126379.833  4.29%   362    6s\n",
      "H   74    81                    132037.33693 126379.833  4.28%   380    6s\n",
      "H   82    95                    132037.11367 126379.833  4.28%   385    6s\n",
      "H   85    95                    132037.05450 126379.833  4.28%   380    6s\n",
      "H  129   134                    132036.48347 126379.833  4.28%   334    7s\n",
      "H  132   134                    132036.32265 126379.833  4.28%   331    7s\n",
      "H  169   177                    132036.25150 126379.833  4.28%   305    8s\n",
      "H  251   255                    131772.82046 126379.833  4.09%   258    9s\n",
      "H  254   273                    131480.07679 126379.833  3.88%   259    9s\n",
      "H  259   273                    131273.98064 126379.833  3.73%   256    9s\n",
      "H  315   324                    131242.04328 126379.833  3.70%   242    9s\n",
      "H  320   324                    130735.60125 126379.833  3.33%   241    9s\n",
      "   323   384 127834.531   31  477 130735.601 126379.833  3.33%   240   10s\n",
      "H  383   392                    130703.66389 126379.833  3.31%   224   10s\n",
      "H  385   392                    130156.25218 126379.833  2.90%   223   10s\n",
      "H  402   433                    130124.61431 126379.833  2.88%   219   10s\n",
      "H  518   493                    130124.56272 126379.833  2.88%   194   11s\n",
      "H  541   542                    130124.36280 126379.833  2.88%   189   11s\n",
      "H  597   550                    130121.20063 126379.833  2.88%   180   11s\n",
      "   885   804 126592.933   14  524 130121.201 126390.619  2.87%   176   15s\n",
      "H 1062   974                    130112.19009 126390.619  2.86%   179   19s\n",
      "H 1063  1028                    130042.24287 126390.619  2.81%   179   19s\n",
      "  1279  1243 127956.147   50  422 130042.243 126391.177  2.81%   170   20s\n",
      "  1712  1541 129632.599   53  683 130042.243 126507.303  2.72%   156   25s\n",
      "  1752  1569 128860.858   76  624 130042.243 126618.662  2.63%   162   30s\n",
      "H 1752  1490                    129833.40145 126618.663  2.48%   162   32s\n",
      "H 1752  1415                    129820.91000 126618.663  2.47%   162   34s\n",
      "  1756  1423 126671.421   24  604 129820.910 126633.590  2.46%   170   35s\n",
      "H 2104  1587                    129820.03519 126665.037  2.43%   215   39s\n",
      "  2112  1633 126837.566   37  533 129820.035 126665.037  2.43%   216   40s\n",
      "  2912  2122 127209.943   47  554 129820.035 126665.037  2.43%   224   45s\n",
      "H 3481  2074                    129330.01947 126677.080  2.05%   217   48s\n",
      "H 3503  2064                    129329.22577 126677.080  2.05%   217   49s\n",
      "H 3568  1977                    129328.14858 126677.080  2.05%   215   49s\n",
      "  3806  2122 127871.791   58  490 129328.149 126677.150  2.05%   212   50s\n",
      "  5412  3187 127680.635   52  393 129328.149 126706.709  2.03%   202   55s\n",
      "  6348  3827 127629.674   49  448 129328.149 126708.823  2.03%   194   60s\n",
      "H 6565  3812                    129249.28497 126708.823  1.97%   193   63s\n",
      "H 6575  3884                    129248.85517 126708.823  1.97%   193   64s\n",
      "  6658  4277 129240.692   66  390 129248.855 126708.823  1.97%   192   65s\n",
      "  8023  5328 127860.584   51  472 129248.855 126715.177  1.96%   183   70s\n",
      "  9744  6464 129048.508   66  423 129248.855 126715.735  1.96%   178   75s\n",
      "  9955  6605     cutoff   66      129248.855 126715.735  1.96%   178   80s\n",
      " 10815  7395 127930.146   70  485 129248.855 126724.228  1.95%   175   85s\n",
      " 12274  8533 128642.608   99  267 129248.855 126727.766  1.95%   173   90s\n",
      "\n",
      "Cutting planes:\n",
      "  Learned: 1\n",
      "  Gomory: 39\n",
      "  Lift-and-project: 1\n",
      "  Cover: 4\n",
      "  MIR: 391\n",
      "  StrongCG: 24\n",
      "  Flow cover: 298\n",
      "  Flow path: 7\n",
      "  GUB cover: 1\n",
      "  Zero half: 2\n",
      "  Mod-K: 2\n",
      "  Network: 18\n",
      "  Relax-and-lift: 4\n",
      "\n",
      "Explored 12305 nodes (2143142 simplex iterations) in 90.12 seconds (104.59 work units)\n",
      "Thread count was 16 (of 16 available processors)\n",
      "\n",
      "Solution count 10: 129249 129249 129328 ... 130112\n",
      "\n",
      "Time limit reached\n",
      "Best objective 1.292488551663e+05, best bound 1.267277664824e+05, gap 1.9506%\n",
      "WARNING: Loading a SolverResults object with an 'aborted' status, but\n",
      "containing a solution\n"
     ]
    }
   ],
   "source": [
    "with pyo.SolverFactory('gurobi', solver_io='python', manage_env=True,\n",
    "                       options={'threadlimit': 16}) as gurober:\n",
    "    print(gurober.available(), type(gurober))\n",
    "    gurober.options.mipgap = 0.005  # relative lower-bound to objective-value gap\n",
    "    gurober.options.timelimit = 90  # seconds\n",
    "    gurober.options.mipfocus = 1  # focus on producing solutions\n",
    "    print(f'Solving \"{model.handle}\": {{R={len(model.R)}, T={len(model.T)}, κ={model.k.value}}}\\n')\n",
    "    result = gurober.solve(model, warmstart=model.warmed_by, tee=True)"
   ]
  },
  {
   "cell_type": "code",
   "execution_count": 10,
   "id": "2e66dc89-22fc-48ac-a231-648545678179",
   "metadata": {},
   "outputs": [
    {
     "data": {
      "image/svg+xml": [
       "<svg xmlns=\"http://www.w3.org/2000/svg\" viewBox=\"0 0 1920 1025\"><defs ><filter x=\"-5%\" y=\"-5%\" id=\"bg_textbox\" width=\"110%\" height=\"110%\"><feFlood flood-opacity=\"0.7\" flood-color=\"#111\" result=\"bg\"/><feMerge ><feMergeNode in=\"bg\"/><feMergeNode in=\"SourceGraphic\"/></feMerge></filter><circle stroke=\"none\" stroke-width=\"2\" id=\"wtg\" r=\"12\"/><rect stroke=\"none\" stroke-width=\"2\" id=\"oss\" width=\"21\" height=\"21\" fill=\"lawngreen\"/></defs><g id=\"gwynt\"><path stroke=\"silver\" stroke-dasharray=\"15 7\" stroke-width=\"2\" id=\"border\" d=\"M1228 156 1541 267 1890 995 1526 956 1269 866 953 924 932 820 786 842 636 967 477 991 367 868 351 779 90 453 51 416 30 318 247 138 868 30 1054 96z\" fill-rule=\"evenodd\" fill=\"#111\"/><g stroke=\"crimson\" stroke-width=\"4\" id=\"edges_unspecified\"><line x1=\"1293\" y1=\"564\" x2=\"1285\" y2=\"519\"/><line x1=\"1293\" y1=\"564\" x2=\"1300\" y2=\"609\"/><line x1=\"1293\" y1=\"564\" x2=\"1354\" y2=\"461\"/><line x1=\"1293\" y1=\"564\" x2=\"1231\" y2=\"667\"/><line x1=\"1293\" y1=\"564\" x2=\"1199\" y2=\"488\"/><line x1=\"1293\" y1=\"564\" x2=\"1370\" y2=\"550\"/><line x1=\"1293\" y1=\"564\" x2=\"1215\" y2=\"578\"/><line x1=\"1293\" y1=\"564\" x2=\"1386\" y2=\"639\"/><line x1=\"1293\" y1=\"564\" x2=\"1402\" y2=\"729\"/><line x1=\"1293\" y1=\"564\" x2=\"1439\" y2=\"492\"/><line x1=\"1293\" y1=\"564\" x2=\"1183\" y2=\"399\"/><line x1=\"1293\" y1=\"564\" x2=\"1098\" y2=\"368\"/><line x1=\"1293\" y1=\"564\" x2=\"1417\" y2=\"818\"/><line x1=\"1293\" y1=\"564\" x2=\"1130\" y2=\"547\"/><line x1=\"1417\" y1=\"818\" x2=\"1503\" y2=\"849\"/><line x1=\"1114\" y1=\"458\" x2=\"1199\" y2=\"488\"/><line x1=\"1269\" y1=\"430\" x2=\"1285\" y2=\"519\"/><line x1=\"1370\" y1=\"550\" x2=\"1455\" y2=\"581\"/><line x1=\"1386\" y1=\"639\" x2=\"1471\" y2=\"670\"/><line x1=\"1338\" y1=\"372\" x2=\"1354\" y2=\"461\"/><line x1=\"1215\" y1=\"578\" x2=\"1146\" y2=\"636\"/><line x1=\"977\" y1=\"241\" x2=\"1098\" y2=\"368\"/><line x1=\"1130\" y1=\"547\" x2=\"1061\" y2=\"605\"/><line x1=\"1045\" y1=\"516\" x2=\"1130\" y2=\"547\"/><line x1=\"1168\" y1=\"310\" x2=\"1183\" y2=\"399\"/><line x1=\"1423\" y1=\"403\" x2=\"1439\" y2=\"492\"/><line x1=\"1231\" y1=\"667\" x2=\"1162\" y2=\"725\"/><line x1=\"1300\" y1=\"609\" x2=\"1316\" y2=\"698\"/><line x1=\"1402\" y1=\"729\" x2=\"1487\" y2=\"759\"/><line x1=\"500\" y1=\"694\" x2=\"439\" y2=\"797\"/><line x1=\"500\" y1=\"694\" x2=\"423\" y2=\"707\"/><line x1=\"500\" y1=\"694\" x2=\"562\" y2=\"591\"/><line x1=\"500\" y1=\"694\" x2=\"492\" y2=\"649\"/><line x1=\"500\" y1=\"694\" x2=\"593\" y2=\"769\"/><line x1=\"500\" y1=\"694\" x2=\"407\" y2=\"618\"/><line x1=\"500\" y1=\"694\" x2=\"508\" y2=\"738\"/><line x1=\"500\" y1=\"694\" x2=\"577\" y2=\"680\"/><line x1=\"500\" y1=\"694\" x2=\"391\" y2=\"529\"/><line x1=\"500\" y1=\"694\" x2=\"322\" y2=\"587\"/><line x1=\"500\" y1=\"694\" x2=\"375\" y2=\"440\"/><line x1=\"500\" y1=\"694\" x2=\"631\" y2=\"532\"/><line x1=\"500\" y1=\"694\" x2=\"546\" y2=\"502\"/><line x1=\"359\" y1=\"351\" x2=\"375\" y2=\"440\"/><line x1=\"439\" y1=\"797\" x2=\"455\" y2=\"886\"/><line x1=\"306\" y1=\"498\" x2=\"407\" y2=\"618\"/><line x1=\"423\" y1=\"707\" x2=\"354\" y2=\"766\"/><line x1=\"338\" y1=\"677\" x2=\"423\" y2=\"707\"/><line x1=\"663\" y1=\"711\" x2=\"593\" y2=\"769\"/><line x1=\"237\" y1=\"557\" x2=\"322\" y2=\"587\"/><line x1=\"290\" y1=\"409\" x2=\"391\" y2=\"529\"/><line x1=\"508\" y1=\"738\" x2=\"524\" y2=\"827\"/><line x1=\"615\" y1=\"443\" x2=\"562\" y2=\"591\"/><line x1=\"476\" y1=\"560\" x2=\"492\" y2=\"649\"/><line x1=\"647\" y1=\"622\" x2=\"577\" y2=\"680\"/><line x1=\"530\" y1=\"412\" x2=\"546\" y2=\"502\"/><line x1=\"700\" y1=\"474\" x2=\"631\" y2=\"532\"/><line x1=\"242\" y1=\"142\" x2=\"328\" y2=\"172\"/><line x1=\"328\" y1=\"172\" x2=\"344\" y2=\"262\"/><line x1=\"413\" y1=\"203\" x2=\"344\" y2=\"262\"/><line x1=\"344\" y1=\"262\" x2=\"359\" y2=\"351\"/><line x1=\"429\" y1=\"293\" x2=\"514\" y2=\"323\"/><line x1=\"514\" y1=\"323\" x2=\"445\" y2=\"382\"/><line x1=\"445\" y1=\"382\" x2=\"461\" y2=\"471\"/><line x1=\"461\" y1=\"471\" x2=\"476\" y2=\"560\"/><line x1=\"858\" y1=\"36\" x2=\"791\" y2=\"90\"/><line x1=\"858\" y1=\"36\" x2=\"876\" y2=\"121\"/><line x1=\"876\" y1=\"121\" x2=\"892\" y2=\"210\"/><line x1=\"892\" y1=\"210\" x2=\"977\" y2=\"241\"/><line x1=\"943\" y1=\"67\" x2=\"961\" y2=\"152\"/><line x1=\"1029\" y1=\"98\" x2=\"961\" y2=\"152\"/><line x1=\"1114\" y1=\"458\" x2=\"924\" y2=\"388\"/><line x1=\"1253\" y1=\"341\" x2=\"1269\" y2=\"430\"/><line x1=\"1306\" y1=\"193\" x2=\"1237\" y2=\"252\"/><line x1=\"1237\" y1=\"252\" x2=\"1253\" y2=\"341\"/><line x1=\"1221\" y1=\"163\" x2=\"1237\" y2=\"252\"/><line x1=\"1152\" y1=\"221\" x2=\"1168\" y2=\"310\"/><line x1=\"1029\" y1=\"98\" x2=\"1152\" y2=\"221\"/><line x1=\"855\" y1=\"447\" x2=\"785\" y2=\"505\"/><line x1=\"839\" y1=\"357\" x2=\"855\" y2=\"447\"/><line x1=\"785\" y1=\"505\" x2=\"716\" y2=\"563\"/><line x1=\"870\" y1=\"536\" x2=\"801\" y2=\"594\"/><line x1=\"801\" y1=\"594\" x2=\"732\" y2=\"652\"/><line x1=\"136\" y1=\"437\" x2=\"152\" y2=\"526\"/><line x1=\"152\" y1=\"526\" x2=\"237\" y2=\"557\"/><line x1=\"52\" y1=\"402\" x2=\"136\" y2=\"437\"/><line x1=\"716\" y1=\"563\" x2=\"647\" y2=\"622\"/><line x1=\"1492\" y1=\"344\" x2=\"1572\" y2=\"378\"/><line x1=\"1492\" y1=\"344\" x2=\"1423\" y2=\"403\"/><line x1=\"1524\" y1=\"523\" x2=\"1455\" y2=\"581\"/><line x1=\"1524\" y1=\"523\" x2=\"1609\" y2=\"553\"/><line x1=\"1455\" y1=\"581\" x2=\"1540\" y2=\"612\"/><line x1=\"104\" y1=\"258\" x2=\"120\" y2=\"348\"/><line x1=\"120\" y1=\"348\" x2=\"205\" y2=\"378\"/><line x1=\"205\" y1=\"378\" x2=\"221\" y2=\"468\"/><line x1=\"221\" y1=\"468\" x2=\"306\" y2=\"498\"/><line x1=\"35\" y1=\"317\" x2=\"52\" y2=\"402\"/><line x1=\"274\" y1=\"320\" x2=\"290\" y2=\"409\"/><line x1=\"258\" y1=\"231\" x2=\"274\" y2=\"320\"/><line x1=\"253\" y1=\"646\" x2=\"338\" y2=\"677\"/><line x1=\"637\" y1=\"117\" x2=\"652\" y2=\"207\"/><line x1=\"652\" y1=\"207\" x2=\"668\" y2=\"296\"/><line x1=\"567\" y1=\"176\" x2=\"583\" y2=\"265\"/><line x1=\"498\" y1=\"234\" x2=\"583\" y2=\"265\"/><line x1=\"583\" y1=\"265\" x2=\"599\" y2=\"354\"/><line x1=\"258\" y1=\"231\" x2=\"189\" y2=\"289\"/><line x1=\"679\" y1=\"800\" x2=\"609\" y2=\"858\"/><line x1=\"748\" y1=\"742\" x2=\"679\" y2=\"800\"/><line x1=\"524\" y1=\"827\" x2=\"609\" y2=\"858\"/><line x1=\"748\" y1=\"742\" x2=\"764\" y2=\"831\"/><line x1=\"1625\" y1=\"643\" x2=\"1556\" y2=\"701\"/><line x1=\"1625\" y1=\"643\" x2=\"1710\" y2=\"673\"/><line x1=\"1471\" y1=\"670\" x2=\"1556\" y2=\"701\"/><line x1=\"1641\" y1=\"732\" x2=\"1572\" y2=\"790\"/><line x1=\"1641\" y1=\"732\" x2=\"1657\" y2=\"821\"/><line x1=\"1487\" y1=\"759\" x2=\"1572\" y2=\"790\"/><line x1=\"694\" y1=\"889\" x2=\"625\" y2=\"948\"/><line x1=\"540\" y1=\"917\" x2=\"625\" y2=\"948\"/><line x1=\"1407\" y1=\"314\" x2=\"1338\" y2=\"372\"/><line x1=\"1322\" y1=\"283\" x2=\"1407\" y2=\"314\"/><line x1=\"908\" y1=\"299\" x2=\"924\" y2=\"388\"/><line x1=\"823\" y1=\"268\" x2=\"908\" y2=\"299\"/><line x1=\"817\" y1=\"683\" x2=\"732\" y2=\"652\"/><line x1=\"732\" y1=\"652\" x2=\"663\" y2=\"711\"/><line x1=\"173\" y1=\"200\" x2=\"189\" y2=\"289\"/><line x1=\"599\" y1=\"354\" x2=\"530\" y2=\"412\"/><line x1=\"769\" y1=\"416\" x2=\"700\" y2=\"474\"/><line x1=\"754\" y1=\"327\" x2=\"769\" y2=\"416\"/><line x1=\"684\" y1=\"385\" x2=\"615\" y2=\"443\"/><line x1=\"668\" y1=\"296\" x2=\"684\" y2=\"385\"/><line x1=\"1391\" y1=\"224\" x2=\"1322\" y2=\"283\"/><line x1=\"1391\" y1=\"224\" x2=\"1476\" y2=\"255\"/><line x1=\"738\" y1=\"237\" x2=\"754\" y2=\"327\"/><line x1=\"722\" y1=\"148\" x2=\"738\" y2=\"237\"/><line x1=\"807\" y1=\"179\" x2=\"823\" y2=\"268\"/><line x1=\"540\" y1=\"917\" x2=\"473\" y2=\"970\"/><line x1=\"455\" y1=\"886\" x2=\"473\" y2=\"970\"/><line x1=\"1503\" y1=\"849\" x2=\"1588\" y2=\"879\"/><line x1=\"1588\" y1=\"879\" x2=\"1673\" y2=\"910\"/><line x1=\"1673\" y1=\"910\" x2=\"1758\" y2=\"941\"/><line x1=\"354\" y1=\"766\" x2=\"370\" y2=\"855\"/><line x1=\"1572\" y1=\"378\" x2=\"1508\" y2=\"433\"/><line x1=\"1508\" y1=\"433\" x2=\"1589\" y2=\"461\"/><line x1=\"1077\" y1=\"694\" x2=\"1092\" y2=\"784\"/><line x1=\"1092\" y1=\"784\" x2=\"1023\" y2=\"842\"/><line x1=\"1146\" y1=\"636\" x2=\"1077\" y2=\"694\"/><line x1=\"1023\" y1=\"842\" x2=\"954\" y2=\"900\"/><line x1=\"1247\" y1=\"756\" x2=\"1178\" y2=\"814\"/><line x1=\"1162\" y1=\"725\" x2=\"1247\" y2=\"756\"/><line x1=\"1247\" y1=\"756\" x2=\"1263\" y2=\"845\"/><line x1=\"1178\" y1=\"814\" x2=\"1108\" y2=\"873\"/><line x1=\"1710\" y1=\"673\" x2=\"1726\" y2=\"763\"/><line x1=\"1657\" y1=\"821\" x2=\"1742\" y2=\"852\"/><line x1=\"1433\" y1=\"907\" x2=\"1519\" y2=\"936\"/><line x1=\"1348\" y1=\"876\" x2=\"1433\" y2=\"907\"/><line x1=\"1332\" y1=\"787\" x2=\"1348\" y2=\"876\"/><line x1=\"1758\" y1=\"941\" x2=\"1843\" y2=\"972\"/><line x1=\"1061\" y1=\"605\" x2=\"992\" y2=\"664\"/><line x1=\"992\" y1=\"664\" x2=\"1007\" y2=\"753\"/><line x1=\"1007\" y1=\"753\" x2=\"938\" y2=\"811\"/><line x1=\"1316\" y1=\"698\" x2=\"1332\" y2=\"787\"/></g><g id=\"WTGgrp\"><g fill=\"#1f77b4\"><use href=\"#wtg\" x=\"1417\" y=\"818\"/><use href=\"#wtg\" x=\"1503\" y=\"849\"/><use href=\"#wtg\" x=\"1588\" y=\"879\"/><use href=\"#wtg\" x=\"1673\" y=\"910\"/><use href=\"#wtg\" x=\"1843\" y=\"972\"/><use href=\"#wtg\" x=\"1758\" y=\"941\"/></g><g fill=\"#aec7e8\"><use href=\"#wtg\" x=\"1199\" y=\"488\"/><use href=\"#wtg\" x=\"1114\" y=\"458\"/><use href=\"#wtg\" x=\"908\" y=\"299\"/><use href=\"#wtg\" x=\"924\" y=\"388\"/><use href=\"#wtg\" x=\"807\" y=\"179\"/><use href=\"#wtg\" x=\"823\" y=\"268\"/></g><g fill=\"#ff7f0e\"><use href=\"#wtg\" x=\"1285\" y=\"519\"/><use href=\"#wtg\" x=\"1269\" y=\"430\"/><use href=\"#wtg\" x=\"1306\" y=\"193\"/><use href=\"#wtg\" x=\"1237\" y=\"252\"/><use href=\"#wtg\" x=\"1221\" y=\"163\"/><use href=\"#wtg\" x=\"1253\" y=\"341\"/></g><g fill=\"#ffbb78\"><use href=\"#wtg\" x=\"1370\" y=\"550\"/><use href=\"#wtg\" x=\"1524\" y=\"523\"/><use href=\"#wtg\" x=\"1455\" y=\"581\"/><use href=\"#wtg\" x=\"1540\" y=\"612\"/><use href=\"#wtg\" x=\"1609\" y=\"553\"/></g><g fill=\"#2ca02c\"><use href=\"#wtg\" x=\"1386\" y=\"639\"/><use href=\"#wtg\" x=\"1625\" y=\"643\"/><use href=\"#wtg\" x=\"1556\" y=\"701\"/><use href=\"#wtg\" x=\"1471\" y=\"670\"/><use href=\"#wtg\" x=\"1710\" y=\"673\"/><use href=\"#wtg\" x=\"1726\" y=\"763\"/></g><g fill=\"#98df8a\"><use href=\"#wtg\" x=\"1354\" y=\"461\"/><use href=\"#wtg\" x=\"1338\" y=\"372\"/><use href=\"#wtg\" x=\"1407\" y=\"314\"/><use href=\"#wtg\" x=\"1391\" y=\"224\"/><use href=\"#wtg\" x=\"1322\" y=\"283\"/><use href=\"#wtg\" x=\"1476\" y=\"255\"/></g><g fill=\"#d62728\"><use href=\"#wtg\" x=\"1215\" y=\"578\"/><use href=\"#wtg\" x=\"1092\" y=\"784\"/><use href=\"#wtg\" x=\"1077\" y=\"694\"/><use href=\"#wtg\" x=\"1146\" y=\"636\"/><use href=\"#wtg\" x=\"1023\" y=\"842\"/><use href=\"#wtg\" x=\"954\" y=\"900\"/></g><g fill=\"#ff9896\"><use href=\"#wtg\" x=\"1098\" y=\"368\"/><use href=\"#wtg\" x=\"858\" y=\"36\"/><use href=\"#wtg\" x=\"876\" y=\"121\"/><use href=\"#wtg\" x=\"892\" y=\"210\"/><use href=\"#wtg\" x=\"977\" y=\"241\"/><use href=\"#wtg\" x=\"791\" y=\"90\"/></g><g fill=\"#9467bd\"><use href=\"#wtg\" x=\"1130\" y=\"547\"/><use href=\"#wtg\" x=\"1045\" y=\"516\"/><use href=\"#wtg\" x=\"992\" y=\"664\"/><use href=\"#wtg\" x=\"1061\" y=\"605\"/><use href=\"#wtg\" x=\"1007\" y=\"753\"/><use href=\"#wtg\" x=\"938\" y=\"811\"/></g><g fill=\"#c5b0d5\"><use href=\"#wtg\" x=\"1183\" y=\"399\"/><use href=\"#wtg\" x=\"943\" y=\"67\"/><use href=\"#wtg\" x=\"961\" y=\"152\"/><use href=\"#wtg\" x=\"1152\" y=\"221\"/><use href=\"#wtg\" x=\"1168\" y=\"310\"/><use href=\"#wtg\" x=\"1029\" y=\"98\"/></g><g fill=\"#8c564b\"><use href=\"#wtg\" x=\"1439\" y=\"492\"/><use href=\"#wtg\" x=\"1492\" y=\"344\"/><use href=\"#wtg\" x=\"1423\" y=\"403\"/><use href=\"#wtg\" x=\"1572\" y=\"378\"/><use href=\"#wtg\" x=\"1508\" y=\"433\"/><use href=\"#wtg\" x=\"1589\" y=\"461\"/></g><g fill=\"#c49c94\"><use href=\"#wtg\" x=\"1231\" y=\"667\"/><use href=\"#wtg\" x=\"1247\" y=\"756\"/><use href=\"#wtg\" x=\"1162\" y=\"725\"/><use href=\"#wtg\" x=\"1178\" y=\"814\"/><use href=\"#wtg\" x=\"1108\" y=\"873\"/><use href=\"#wtg\" x=\"1263\" y=\"845\"/></g><g fill=\"#e377c2\"><use href=\"#wtg\" x=\"1300\" y=\"609\"/><use href=\"#wtg\" x=\"1519\" y=\"936\"/><use href=\"#wtg\" x=\"1433\" y=\"907\"/><use href=\"#wtg\" x=\"1348\" y=\"876\"/><use href=\"#wtg\" x=\"1332\" y=\"787\"/><use href=\"#wtg\" x=\"1316\" y=\"698\"/></g><g fill=\"#f7b6d2\"><use href=\"#wtg\" x=\"1402\" y=\"729\"/><use href=\"#wtg\" x=\"1641\" y=\"732\"/><use href=\"#wtg\" x=\"1572\" y=\"790\"/><use href=\"#wtg\" x=\"1487\" y=\"759\"/><use href=\"#wtg\" x=\"1742\" y=\"852\"/><use href=\"#wtg\" x=\"1657\" y=\"821\"/></g><g fill=\"#7f7f7f\"><use href=\"#wtg\" x=\"375\" y=\"440\"/><use href=\"#wtg\" x=\"328\" y=\"172\"/><use href=\"#wtg\" x=\"344\" y=\"262\"/><use href=\"#wtg\" x=\"413\" y=\"203\"/><use href=\"#wtg\" x=\"359\" y=\"351\"/><use href=\"#wtg\" x=\"242\" y=\"142\"/></g><g fill=\"#c7c7c7\"><use href=\"#wtg\" x=\"439\" y=\"797\"/><use href=\"#wtg\" x=\"694\" y=\"889\"/><use href=\"#wtg\" x=\"625\" y=\"948\"/><use href=\"#wtg\" x=\"540\" y=\"917\"/><use href=\"#wtg\" x=\"473\" y=\"970\"/><use href=\"#wtg\" x=\"455\" y=\"886\"/></g><g fill=\"#bcbd22\"><use href=\"#wtg\" x=\"407\" y=\"618\"/><use href=\"#wtg\" x=\"120\" y=\"348\"/><use href=\"#wtg\" x=\"205\" y=\"378\"/><use href=\"#wtg\" x=\"104\" y=\"258\"/><use href=\"#wtg\" x=\"221\" y=\"468\"/><use href=\"#wtg\" x=\"306\" y=\"498\"/></g><g fill=\"#dbdb8d\"><use href=\"#wtg\" x=\"423\" y=\"707\"/><use href=\"#wtg\" x=\"338\" y=\"677\"/><use href=\"#wtg\" x=\"253\" y=\"646\"/><use href=\"#wtg\" x=\"370\" y=\"855\"/><use href=\"#wtg\" x=\"354\" y=\"766\"/></g><g fill=\"#17becf\"><use href=\"#wtg\" x=\"593\" y=\"769\"/><use href=\"#wtg\" x=\"870\" y=\"536\"/><use href=\"#wtg\" x=\"801\" y=\"594\"/><use href=\"#wtg\" x=\"817\" y=\"683\"/><use href=\"#wtg\" x=\"732\" y=\"652\"/><use href=\"#wtg\" x=\"663\" y=\"711\"/></g><g fill=\"#9edae5\"><use href=\"#wtg\" x=\"322\" y=\"587\"/><use href=\"#wtg\" x=\"152\" y=\"526\"/><use href=\"#wtg\" x=\"237\" y=\"557\"/><use href=\"#wtg\" x=\"136\" y=\"437\"/><use href=\"#wtg\" x=\"52\" y=\"402\"/><use href=\"#wtg\" x=\"35\" y=\"317\"/></g><g fill=\"#1f77b4\"><use href=\"#wtg\" x=\"391\" y=\"529\"/><use href=\"#wtg\" x=\"274\" y=\"320\"/><use href=\"#wtg\" x=\"290\" y=\"409\"/><use href=\"#wtg\" x=\"258\" y=\"231\"/><use href=\"#wtg\" x=\"173\" y=\"200\"/><use href=\"#wtg\" x=\"189\" y=\"289\"/></g><g fill=\"#aec7e8\"><use href=\"#wtg\" x=\"508\" y=\"738\"/><use href=\"#wtg\" x=\"679\" y=\"800\"/><use href=\"#wtg\" x=\"609\" y=\"858\"/><use href=\"#wtg\" x=\"748\" y=\"742\"/><use href=\"#wtg\" x=\"524\" y=\"827\"/><use href=\"#wtg\" x=\"764\" y=\"831\"/></g><g fill=\"#ff7f0e\"><use href=\"#wtg\" x=\"562\" y=\"591\"/><use href=\"#wtg\" x=\"637\" y=\"117\"/><use href=\"#wtg\" x=\"652\" y=\"207\"/><use href=\"#wtg\" x=\"615\" y=\"443\"/><use href=\"#wtg\" x=\"684\" y=\"385\"/><use href=\"#wtg\" x=\"668\" y=\"296\"/></g><g fill=\"#ffbb78\"><use href=\"#wtg\" x=\"492\" y=\"649\"/><use href=\"#wtg\" x=\"429\" y=\"293\"/><use href=\"#wtg\" x=\"514\" y=\"323\"/><use href=\"#wtg\" x=\"445\" y=\"382\"/><use href=\"#wtg\" x=\"461\" y=\"471\"/><use href=\"#wtg\" x=\"476\" y=\"560\"/></g><g fill=\"#2ca02c\"><use href=\"#wtg\" x=\"577\" y=\"680\"/><use href=\"#wtg\" x=\"855\" y=\"447\"/><use href=\"#wtg\" x=\"785\" y=\"505\"/><use href=\"#wtg\" x=\"839\" y=\"357\"/><use href=\"#wtg\" x=\"716\" y=\"563\"/><use href=\"#wtg\" x=\"647\" y=\"622\"/></g><g fill=\"#98df8a\"><use href=\"#wtg\" x=\"546\" y=\"502\"/><use href=\"#wtg\" x=\"567\" y=\"176\"/><use href=\"#wtg\" x=\"583\" y=\"265\"/><use href=\"#wtg\" x=\"599\" y=\"354\"/><use href=\"#wtg\" x=\"530\" y=\"412\"/><use href=\"#wtg\" x=\"498\" y=\"234\"/></g><g fill=\"#d62728\"><use href=\"#wtg\" x=\"631\" y=\"532\"/><use href=\"#wtg\" x=\"700\" y=\"474\"/><use href=\"#wtg\" x=\"769\" y=\"416\"/><use href=\"#wtg\" x=\"738\" y=\"237\"/><use href=\"#wtg\" x=\"754\" y=\"327\"/><use href=\"#wtg\" x=\"722\" y=\"148\"/></g></g><g id=\"OSSgrp\"><use href=\"#oss\" x=\"1282.5\" y=\"553.5\"/><use href=\"#oss\" x=\"489.5\" y=\"683.5\"/></g></g><text filter=\"url(#bg_textbox)\" text-anchor=\"end\" font-family=\"sans-serif\" font-size=\"40\" fill=\"white\" x=\"1890\" y=\"995\"><tspan x=\"1890\" dy=\"-0.0em\">&#931;&#955; = 129249.0 m</tspan><tspan x=\"1890\" dy=\"-1.3em\">(+0) &#945;: 13, &#946;: 14</tspan><tspan x=\"1890\" dy=\"-1.3em\">&#954; = 6, T = 160</tspan></text></svg>"
      ],
      "text/plain": [
       "<interarray.svg.SvgRepr at 0x27dd68f9040>"
      ]
     },
     "execution_count": 10,
     "metadata": {},
     "output_type": "execute_result"
    }
   ],
   "source": [
    "S = omo.S_from_solution(model, gurober, result)\n",
    "G = G_from_S(S, A)\n",
    "H = PathFinder(G, planar=P, A=A).create_detours()\n",
    "svgplot(H)"
   ]
  }
 ],
 "metadata": {
  "language_info": {
   "name": "python"
  }
 },
 "nbformat": 4,
 "nbformat_minor": 5
}
