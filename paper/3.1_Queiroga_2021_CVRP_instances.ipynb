{
 "cells": [
  {
   "cell_type": "markdown",
   "id": "833ef04c-0db6-4592-bcd1-c05ee0290184",
   "metadata": {
    "deletable": true,
    "editable": true,
    "frozen": false
   },
   "source": [
    "This is used in the paper **Flexible cable routing framework for wind farm collection system optimization**."
   ]
  },
  {
   "cell_type": "code",
   "execution_count": 1,
   "id": "55be235d-1cc5-4b06-8ddb-01f1d9fb5c90",
   "metadata": {},
   "outputs": [],
   "source": [
    "import urllib.request\n",
    "import zipfile\n",
    "import fnmatch\n",
    "import os\n",
    "from itertools import chain, pairwise, accumulate\n",
    "import networkx as nx\n",
    "import numpy as np"
   ]
  },
  {
   "cell_type": "code",
   "execution_count": 2,
   "id": "4caf3f04-bcca-43a1-8803-8fba37473e25",
   "metadata": {},
   "outputs": [],
   "source": [
    "import vrplib"
   ]
  },
  {
   "cell_type": "code",
   "execution_count": 3,
   "id": "8d9d606d-ac9b-4352-84a4-f046c8c7b2c5",
   "metadata": {},
   "outputs": [],
   "source": [
    "from interarray.svg import svgplot\n",
    "from interarray.interarraylib import G_from_S, L_from_site\n",
    "from interarray.mesh import make_planar_embedding"
   ]
  },
  {
   "cell_type": "code",
   "execution_count": 4,
   "id": "5b4844e4-c76f-4cb3-8e82-caef6b8287a7",
   "metadata": {},
   "outputs": [],
   "source": [
    "import matplotlib.pyplot as plt\n",
    "plt.style.use('jupyter_dark')"
   ]
  },
  {
   "cell_type": "code",
   "execution_count": 5,
   "id": "6d3b7a26-858f-44b8-b2d1-303ded71fa2f",
   "metadata": {},
   "outputs": [],
   "source": [
    "%config InlineBackend.figure_formats = ['svg']\n",
    "plt.rcParams['svg.fonttype'] = 'none'"
   ]
  },
  {
   "cell_type": "code",
   "execution_count": 6,
   "id": "389ad434-e702-4aaa-8f34-97aa82c211c8",
   "metadata": {},
   "outputs": [],
   "source": [
    "dir_instances = 'Vrp-Set-XML100/instances/'\n",
    "dir_solutions = 'Vrp-Set-XML100/solutions/'"
   ]
  },
  {
   "cell_type": "markdown",
   "id": "6de2a586-04d9-42cf-b2d3-f178b36045b8",
   "metadata": {
    "deletable": true,
    "editable": true,
    "frozen": false
   },
   "source": [
    "## Data download"
   ]
  },
  {
   "cell_type": "markdown",
   "id": "c783317b-0eae-45eb-a6e6-6900c401872a",
   "metadata": {
    "deletable": true,
    "editable": true,
    "execution": {
     "iopub.execute_input": "2025-02-28T18:15:57.119210Z",
     "iopub.status.busy": "2025-02-28T18:15:57.115668Z",
     "iopub.status.idle": "2025-02-28T18:15:57.135895Z",
     "shell.execute_reply": "2025-02-28T18:15:57.135770Z",
     "shell.execute_reply.started": "2025-02-28T18:15:57.119210Z"
    },
    "frozen": false
   },
   "source": [
    "Queiroga, E., Sadykov, R., Uchoa, E., & Vidal, T. (2021, November 24). 10,000 optimal CVRP solutions for testing machine learning based heuristics. AAAI-22 Workshop on Machine Learning for Operations Research (ML4OR). https://openreview.net/forum?id=yHiMXKN6nTl"
   ]
  },
  {
   "cell_type": "code",
   "execution_count": null,
   "id": "5a2e1dbe-d952-4e91-9e63-e330ce25e0c7",
   "metadata": {},
   "outputs": [],
   "source": [
    "url = 'http://vrp.galgos.inf.puc-rio.br/media/com_vrp/instances/Vrp-Set-XML100.zip'\n",
    "filehandle, _ = urllib.request.urlretrieve(url)\n",
    "zip_file_object = zipfile.ZipFile(filehandle, 'r')"
   ]
  },
  {
   "cell_type": "code",
   "execution_count": null,
   "id": "fd43603a-6392-42f7-abde-fde4f10ffadc",
   "metadata": {},
   "outputs": [],
   "source": [
    "instances = fnmatch.filter(zip_file_object.namelist(),\n",
    "                           dir_instances + 'XML100_?11?_??.vrp')\n",
    "solutions = fnmatch.filter(zip_file_object.namelist(),\n",
    "                           dir_solutions + 'XML100_?11?_??.sol')\n",
    "len(instances), len(solutions)"
   ]
  },
  {
   "cell_type": "code",
   "execution_count": null,
   "id": "af11882f-92fc-4d6b-83d2-a78216f88cc0",
   "metadata": {},
   "outputs": [],
   "source": [
    "for filename in instances + solutions:\n",
    "    zip_file_object.extract(filename)"
   ]
  },
  {
   "cell_type": "markdown",
   "id": "148daecc-c508-458b-afd6-f69a140ae68e",
   "metadata": {
    "deletable": true,
    "editable": true,
    "frozen": false
   },
   "source": [
    "## If already downloaded skip to this cell"
   ]
  },
  {
   "cell_type": "code",
   "execution_count": 7,
   "id": "27e8fb14-0d2d-442e-bc3d-dae269249920",
   "metadata": {},
   "outputs": [
    {
     "data": {
      "text/plain": [
       "(480, 480)"
      ]
     },
     "execution_count": 7,
     "metadata": {},
     "output_type": "execute_result"
    }
   ],
   "source": [
    "# now the lists do not include the full path\n",
    "instances = os.listdir(dir_instances)\n",
    "solutions = [instance.replace('/instances/', '/solutions/').replace('.vrp', '.sol')\n",
    "             for instance in instances]\n",
    "len(instances), len(solutions)"
   ]
  },
  {
   "cell_type": "markdown",
   "id": "205f5b2d-bbe3-464b-b5d3-ff8fe9168e5b",
   "metadata": {
    "deletable": true,
    "editable": true,
    "frozen": false
   },
   "source": [
    "## Definitions"
   ]
  },
  {
   "cell_type": "code",
   "execution_count": 8,
   "id": "3b1621e6-b4e6-40ac-99a1-4a2b1654de5d",
   "metadata": {},
   "outputs": [],
   "source": [
    "def check_rogues(solution, A):\n",
    "    rogues = []\n",
    "    branches = ([n - 1 for n in branch] for branch in solution['routes'])\n",
    "    for branch in branches:\n",
    "        for edge in pairwise(branch):\n",
    "            if edge not in A.edges:\n",
    "                rogues.append(edge)\n",
    "    return rogues"
   ]
  },
  {
   "cell_type": "code",
   "execution_count": 9,
   "id": "dc8c242e-e87a-48a1-95f0-ecd2bbb884cf",
   "metadata": {},
   "outputs": [],
   "source": [
    "def S_from_vrplib(solution, Sʹ):\n",
    "    '''\n",
    "    Beware: assumes a single depot!\n",
    "    '''\n",
    "    # create a topology graph S from the solution\n",
    "    S = nx.Graph(\n",
    "        T=Sʹ.graph['T'], R=Sʹ.graph['R'],\n",
    "        capacity=Sʹ.graph['capacity'],\n",
    "        has_loads=True,\n",
    "        objective=solution['cost'],\n",
    "        creator='vrplib',\n",
    "    )\n",
    "\n",
    "    branches = ([n - 1 for n in branch] for branch in solution['routes'])\n",
    "    for subtree_id, branch in enumerate(branches):\n",
    "        loads = range(len(branch), 0, -1)\n",
    "        S.add_nodes_from(((n, {'load': load})\n",
    "                          for n, load in zip(branch, loads)),\n",
    "                         subtree=subtree_id)\n",
    "        branch_roll = [-1] + branch[:-1]\n",
    "        reverses = tuple(u < v for u, v in zip(branch, branch_roll))\n",
    "        edgeD = ({'load': load, 'reverse': reverse}\n",
    "                 for load, reverse in zip(loads, reverses))\n",
    "        S.add_edges_from(zip(branch_roll, branch, edgeD))\n",
    "    root_load = sum(S.nodes[n]['load'] for n in S.neighbors(-1))\n",
    "    S.nodes[-1]['load'] = root_load\n",
    "    return S"
   ]
  },
  {
   "cell_type": "code",
   "execution_count": 10,
   "id": "6b591101-512d-417f-8cc2-e0aa96157691",
   "metadata": {},
   "outputs": [],
   "source": [
    "def L_from_vrplib(instance):\n",
    "    R = len(instance['depot'])\n",
    "    T = instance['dimension'] - R\n",
    "    # make sure depots are numbered 0..M-1\n",
    "    assert all(depot == i for i, depot in enumerate(instance['depot']))\n",
    "    L = L_from_site(\n",
    "        B=4, border=list(range(T, T + 4)),\n",
    "        R=R, T=T, name=instance['name'], capacity=instance['capacity'],\n",
    "        VertexC=np.vstack((instance['node_coord'][R:],\n",
    "                           [[0,0], [1000, 0], [1000, 1000], [0, 1000]],\n",
    "                           instance['node_coord'][:R])),\n",
    "    )\n",
    "    return L"
   ]
  },
  {
   "cell_type": "markdown",
   "id": "a5b1bdb1-6157-433c-b1f2-f2a9dc6168a6",
   "metadata": {
    "deletable": true,
    "editable": true,
    "frozen": false
   },
   "source": [
    "## Examine XML100 \\_11\\_\n",
    "\n",
    "(i.e. random client positions, 1-demand)"
   ]
  },
  {
   "cell_type": "code",
   "execution_count": 11,
   "id": "7cf8bd99-e3cd-4c0b-96f3-7b2953f5b4cc",
   "metadata": {},
   "outputs": [],
   "source": [
    "inst_id = '2115_07'\n",
    "instance = vrplib.read_instance(dir_instances + f'XML100_{inst_id}.vrp')\n",
    "solution = vrplib.read_solution(dir_solutions + f'XML100_{inst_id}.sol')"
   ]
  },
  {
   "cell_type": "code",
   "execution_count": 12,
   "id": "03ebcb82-bcf7-4a9e-861b-868463bc6ac5",
   "metadata": {},
   "outputs": [
    {
     "data": {
      "text/plain": [
       "dict_keys(['name', 'comment', 'type', 'dimension', 'edge_weight_type', 'capacity', 'node_coord', 'demand', 'depot', 'edge_weight'])"
      ]
     },
     "execution_count": 12,
     "metadata": {},
     "output_type": "execute_result"
    }
   ],
   "source": [
    "instance.keys()"
   ]
  },
  {
   "cell_type": "code",
   "execution_count": 13,
   "id": "093488d6-9484-4af6-83ee-673e4876843a",
   "metadata": {},
   "outputs": [
    {
     "data": {
      "text/plain": [
       "dict_keys(['routes', 'cost'])"
      ]
     },
     "execution_count": 13,
     "metadata": {},
     "output_type": "execute_result"
    }
   ],
   "source": [
    "solution.keys()"
   ]
  },
  {
   "cell_type": "code",
   "execution_count": 14,
   "id": "9454307a-5a0a-4525-8ef6-c2d99b3e1682",
   "metadata": {},
   "outputs": [],
   "source": [
    "L = L_from_vrplib(instance)"
   ]
  },
  {
   "cell_type": "code",
   "execution_count": 15,
   "id": "bb0abae0-fde3-4506-aa9b-5ef312249084",
   "metadata": {},
   "outputs": [
    {
     "data": {
      "image/svg+xml": [
       "<svg xmlns=\"http://www.w3.org/2000/svg\" viewBox=\"0 0 1920 1080\"><defs ><filter x=\"-5%\" y=\"-5%\" id=\"bg_textbox\" width=\"110%\" height=\"110%\"><feFlood flood-opacity=\"0.7\" flood-color=\"#111\" result=\"bg\"/><feMerge ><feMergeNode in=\"bg\"/><feMergeNode in=\"SourceGraphic\"/></feMerge></filter><circle stroke=\"none\" stroke-width=\"2\" id=\"wtg\" r=\"12\"/><rect stroke=\"none\" stroke-width=\"2\" id=\"oss\" width=\"21\" height=\"21\" fill=\"lawngreen\"/></defs><g id=\"L_from_site\"><path stroke=\"silver\" stroke-dasharray=\"15 7\" stroke-width=\"2\" id=\"border\" d=\"M30 1050 1050 1050 1050 30 30 30z\" fill-rule=\"evenodd\" fill=\"#111\"/><g id=\"WTGgrp\"><g fill=\"#9edae5\"><use href=\"#wtg\" x=\"290\" y=\"826\"/><use href=\"#wtg\" x=\"122\" y=\"46\"/><use href=\"#wtg\" x=\"865\" y=\"68\"/><use href=\"#wtg\" x=\"752\" y=\"823\"/><use href=\"#wtg\" x=\"394\" y=\"106\"/><use href=\"#wtg\" x=\"1012\" y=\"480\"/><use href=\"#wtg\" x=\"271\" y=\"540\"/><use href=\"#wtg\" x=\"672\" y=\"342\"/><use href=\"#wtg\" x=\"469\" y=\"915\"/><use href=\"#wtg\" x=\"200\" y=\"327\"/><use href=\"#wtg\" x=\"839\" y=\"199\"/><use href=\"#wtg\" x=\"178\" y=\"545\"/><use href=\"#wtg\" x=\"245\" y=\"654\"/><use href=\"#wtg\" x=\"458\" y=\"416\"/><use href=\"#wtg\" x=\"1010\" y=\"205\"/><use href=\"#wtg\" x=\"518\" y=\"84\"/><use href=\"#wtg\" x=\"964\" y=\"491\"/><use href=\"#wtg\" x=\"967\" y=\"764\"/><use href=\"#wtg\" x=\"649\" y=\"398\"/><use href=\"#wtg\" x=\"947\" y=\"784\"/><use href=\"#wtg\" x=\"651\" y=\"115\"/><use href=\"#wtg\" x=\"139\" y=\"98\"/><use href=\"#wtg\" x=\"765\" y=\"224\"/><use href=\"#wtg\" x=\"407\" y=\"837\"/><use href=\"#wtg\" x=\"581\" y=\"512\"/><use href=\"#wtg\" x=\"558\" y=\"511\"/><use href=\"#wtg\" x=\"1020\" y=\"717\"/><use href=\"#wtg\" x=\"729\" y=\"896\"/><use href=\"#wtg\" x=\"125\" y=\"30\"/><use href=\"#wtg\" x=\"341\" y=\"615\"/><use href=\"#wtg\" x=\"1035\" y=\"241\"/><use href=\"#wtg\" x=\"1016\" y=\"698\"/><use href=\"#wtg\" x=\"567\" y=\"683\"/><use href=\"#wtg\" x=\"1038\" y=\"313\"/><use href=\"#wtg\" x=\"1003\" y=\"113\"/><use href=\"#wtg\" x=\"34\" y=\"411\"/><use href=\"#wtg\" x=\"672\" y=\"303\"/><use href=\"#wtg\" x=\"147\" y=\"563\"/><use href=\"#wtg\" x=\"630\" y=\"790\"/><use href=\"#wtg\" x=\"314\" y=\"330\"/><use href=\"#wtg\" x=\"1047\" y=\"1017\"/><use href=\"#wtg\" x=\"287\" y=\"764\"/><use href=\"#wtg\" x=\"210\" y=\"288\"/><use href=\"#wtg\" x=\"174\" y=\"231\"/><use href=\"#wtg\" x=\"212\" y=\"1002\"/><use href=\"#wtg\" x=\"540\" y=\"328\"/><use href=\"#wtg\" x=\"1022\" y=\"592\"/><use href=\"#wtg\" x=\"316\" y=\"226\"/><use href=\"#wtg\" x=\"523\" y=\"744\"/><use href=\"#wtg\" x=\"691\" y=\"276\"/><use href=\"#wtg\" x=\"490\" y=\"116\"/><use href=\"#wtg\" x=\"955\" y=\"179\"/><use href=\"#wtg\" x=\"610\" y=\"786\"/><use href=\"#wtg\" x=\"901\" y=\"835\"/><use href=\"#wtg\" x=\"765\" y=\"959\"/><use href=\"#wtg\" x=\"747\" y=\"865\"/><use href=\"#wtg\" x=\"611\" y=\"189\"/><use href=\"#wtg\" x=\"1021\" y=\"161\"/><use href=\"#wtg\" x=\"175\" y=\"858\"/><use href=\"#wtg\" x=\"419\" y=\"607\"/><use href=\"#wtg\" x=\"809\" y=\"48\"/><use href=\"#wtg\" x=\"840\" y=\"912\"/><use href=\"#wtg\" x=\"727\" y=\"581\"/><use href=\"#wtg\" x=\"269\" y=\"529\"/><use href=\"#wtg\" x=\"536\" y=\"614\"/><use href=\"#wtg\" x=\"210\" y=\"327\"/><use href=\"#wtg\" x=\"829\" y=\"493\"/><use href=\"#wtg\" x=\"233\" y=\"461\"/><use href=\"#wtg\" x=\"494\" y=\"862\"/><use href=\"#wtg\" x=\"776\" y=\"58\"/><use href=\"#wtg\" x=\"471\" y=\"691\"/><use href=\"#wtg\" x=\"37\" y=\"838\"/><use href=\"#wtg\" x=\"737\" y=\"163\"/><use href=\"#wtg\" x=\"807\" y=\"189\"/><use href=\"#wtg\" x=\"691\" y=\"195\"/><use href=\"#wtg\" x=\"728\" y=\"678\"/><use href=\"#wtg\" x=\"473\" y=\"783\"/><use href=\"#wtg\" x=\"618\" y=\"289\"/><use href=\"#wtg\" x=\"922\" y=\"513\"/><use href=\"#wtg\" x=\"840\" y=\"64\"/><use href=\"#wtg\" x=\"34\" y=\"139\"/><use href=\"#wtg\" x=\"479\" y=\"88\"/><use href=\"#wtg\" x=\"397\" y=\"203\"/><use href=\"#wtg\" x=\"706\" y=\"103\"/><use href=\"#wtg\" x=\"715\" y=\"1018\"/><use href=\"#wtg\" x=\"291\" y=\"857\"/><use href=\"#wtg\" x=\"805\" y=\"594\"/><use href=\"#wtg\" x=\"266\" y=\"905\"/><use href=\"#wtg\" x=\"445\" y=\"420\"/><use href=\"#wtg\" x=\"941\" y=\"236\"/><use href=\"#wtg\" x=\"605\" y=\"638\"/><use href=\"#wtg\" x=\"198\" y=\"542\"/><use href=\"#wtg\" x=\"514\" y=\"489\"/><use href=\"#wtg\" x=\"933\" y=\"231\"/><use href=\"#wtg\" x=\"85\" y=\"850\"/><use href=\"#wtg\" x=\"472\" y=\"425\"/><use href=\"#wtg\" x=\"299\" y=\"65\"/><use href=\"#wtg\" x=\"233\" y=\"894\"/><use href=\"#wtg\" x=\"578\" y=\"355\"/><use href=\"#wtg\" x=\"644\" y=\"778\"/></g></g><g id=\"OSSgrp\"><use href=\"#oss\" x=\"529.5\" y=\"529.5\"/></g></g></svg>"
      ],
      "text/plain": [
       "<interarray.svg.SvgRepr at 0x1c8e938b740>"
      ]
     },
     "execution_count": 15,
     "metadata": {},
     "output_type": "execute_result"
    }
   ],
   "source": [
    "svgplot(L)"
   ]
  },
  {
   "cell_type": "code",
   "execution_count": 16,
   "id": "7b74b839-2ec5-4243-a16b-df2edccf1f72",
   "metadata": {},
   "outputs": [],
   "source": [
    "P, A = make_planar_embedding(L)"
   ]
  },
  {
   "cell_type": "code",
   "execution_count": 17,
   "id": "cbf57590-b17a-4f61-b738-f1f695a4d962",
   "metadata": {},
   "outputs": [
    {
     "data": {
      "image/svg+xml": [
       "<svg xmlns=\"http://www.w3.org/2000/svg\" viewBox=\"0 0 1920 1080\"><defs ><filter x=\"-5%\" y=\"-5%\" id=\"bg_textbox\" width=\"110%\" height=\"110%\"><feFlood flood-opacity=\"0.7\" flood-color=\"#111\" result=\"bg\"/><feMerge ><feMergeNode in=\"bg\"/><feMergeNode in=\"SourceGraphic\"/></feMerge></filter><circle stroke=\"none\" stroke-width=\"2\" id=\"wtg\" r=\"12\"/><rect stroke=\"none\" stroke-width=\"2\" id=\"oss\" width=\"21\" height=\"21\" fill=\"lawngreen\"/></defs><g id=\"L_from_site\"><path stroke=\"silver\" stroke-dasharray=\"15 7\" stroke-width=\"2\" id=\"border\" d=\"M30 1050 1050 1050 1050 30 30 30z\" fill-rule=\"evenodd\" fill=\"#111\"/><g stroke=\"darkcyan\" stroke-width=\"4\" id=\"edges_delaunay\"><line x1=\"737\" y1=\"163\" x2=\"807\" y2=\"189\"/><line x1=\"737\" y1=\"163\" x2=\"691\" y2=\"195\"/><line x1=\"737\" y1=\"163\" x2=\"706\" y2=\"103\"/><line x1=\"765\" y1=\"224\" x2=\"737\" y2=\"163\"/><line x1=\"776\" y1=\"58\" x2=\"737\" y2=\"163\"/><line x1=\"765\" y1=\"224\" x2=\"807\" y2=\"189\"/><line x1=\"776\" y1=\"58\" x2=\"807\" y2=\"189\"/><line x1=\"839\" y1=\"199\" x2=\"807\" y2=\"189\"/><line x1=\"807\" y1=\"189\" x2=\"840\" y2=\"64\"/><line x1=\"865\" y1=\"68\" x2=\"807\" y2=\"189\"/><line x1=\"458\" y1=\"416\" x2=\"445\" y2=\"420\"/><line x1=\"458\" y1=\"416\" x2=\"397\" y2=\"203\"/><line x1=\"458\" y1=\"416\" x2=\"314\" y2=\"330\"/><line x1=\"458\" y1=\"416\" x2=\"540\" y2=\"328\"/><line x1=\"458\" y1=\"416\" x2=\"472\" y2=\"425\"/><line x1=\"314\" y1=\"330\" x2=\"445\" y2=\"420\"/><line x1=\"445\" y1=\"420\" x2=\"472\" y2=\"425\"/><line x1=\"269\" y1=\"529\" x2=\"445\" y2=\"420\"/><line x1=\"233\" y1=\"461\" x2=\"445\" y2=\"420\"/><line x1=\"445\" y1=\"420\" x2=\"514\" y2=\"489\"/><line x1=\"419\" y1=\"607\" x2=\"445\" y2=\"420\"/><line x1=\"407\" y1=\"837\" x2=\"494\" y2=\"862\"/><line x1=\"290\" y1=\"826\" x2=\"407\" y2=\"837\"/><line x1=\"407\" y1=\"837\" x2=\"473\" y2=\"783\"/><line x1=\"407\" y1=\"837\" x2=\"291\" y2=\"857\"/><line x1=\"407\" y1=\"837\" x2=\"266\" y2=\"905\"/><line x1=\"469\" y1=\"915\" x2=\"407\" y2=\"837\"/><line x1=\"407\" y1=\"837\" x2=\"287\" y2=\"764\"/><line x1=\"729\" y1=\"896\" x2=\"494\" y2=\"862\"/><line x1=\"494\" y1=\"862\" x2=\"715\" y2=\"1018\"/><line x1=\"469\" y1=\"915\" x2=\"494\" y2=\"862\"/><line x1=\"630\" y1=\"790\" x2=\"494\" y2=\"862\"/><line x1=\"610\" y1=\"786\" x2=\"494\" y2=\"862\"/><line x1=\"494\" y1=\"862\" x2=\"473\" y2=\"783\"/><line x1=\"523\" y1=\"744\" x2=\"494\" y2=\"862\"/><line x1=\"139\" y1=\"98\" x2=\"34\" y2=\"139\"/><line x1=\"139\" y1=\"98\" x2=\"299\" y2=\"65\"/><line x1=\"139\" y1=\"98\" x2=\"174\" y2=\"231\"/><line x1=\"122\" y1=\"46\" x2=\"139\" y2=\"98\"/><line x1=\"139\" y1=\"98\" x2=\"125\" y2=\"30\"/><line x1=\"125\" y1=\"30\" x2=\"34\" y2=\"139\"/><line x1=\"174\" y1=\"231\" x2=\"34\" y2=\"139\"/><line x1=\"34\" y1=\"411\" x2=\"34\" y2=\"139\"/><line x1=\"122\" y1=\"46\" x2=\"34\" y2=\"139\"/><line x1=\"419\" y1=\"607\" x2=\"536\" y2=\"614\"/><line x1=\"341\" y1=\"615\" x2=\"419\" y2=\"607\"/><line x1=\"271\" y1=\"540\" x2=\"419\" y2=\"607\"/><line x1=\"419\" y1=\"607\" x2=\"471\" y2=\"691\"/><line x1=\"540\" y1=\"540\" x2=\"419\" y2=\"607\"/><line x1=\"419\" y1=\"607\" x2=\"269\" y2=\"529\"/><line x1=\"419\" y1=\"607\" x2=\"514\" y2=\"489\"/><line x1=\"540\" y1=\"540\" x2=\"536\" y2=\"614\"/><line x1=\"567\" y1=\"683\" x2=\"536\" y2=\"614\"/><line x1=\"536\" y1=\"614\" x2=\"471\" y2=\"691\"/><line x1=\"536\" y1=\"614\" x2=\"605\" y2=\"638\"/><line x1=\"271\" y1=\"540\" x2=\"198\" y2=\"542\"/><line x1=\"271\" y1=\"540\" x2=\"269\" y2=\"529\"/><line x1=\"271\" y1=\"540\" x2=\"341\" y2=\"615\"/><line x1=\"271\" y1=\"540\" x2=\"245\" y2=\"654\"/><line x1=\"269\" y1=\"529\" x2=\"198\" y2=\"542\"/><line x1=\"245\" y1=\"654\" x2=\"198\" y2=\"542\"/><line x1=\"178\" y1=\"545\" x2=\"198\" y2=\"542\"/><line x1=\"233\" y1=\"461\" x2=\"198\" y2=\"542\"/><line x1=\"287\" y1=\"764\" x2=\"175\" y2=\"858\"/><line x1=\"341\" y1=\"615\" x2=\"287\" y2=\"764\"/><line x1=\"287\" y1=\"764\" x2=\"473\" y2=\"783\"/><line x1=\"290\" y1=\"826\" x2=\"287\" y2=\"764\"/><line x1=\"287\" y1=\"764\" x2=\"471\" y2=\"691\"/><line x1=\"245\" y1=\"654\" x2=\"287\" y2=\"764\"/><line x1=\"175\" y1=\"858\" x2=\"233\" y2=\"894\"/><line x1=\"175\" y1=\"858\" x2=\"85\" y2=\"850\"/><line x1=\"212\" y1=\"1002\" x2=\"175\" y2=\"858\"/><line x1=\"245\" y1=\"654\" x2=\"175\" y2=\"858\"/><line x1=\"290\" y1=\"826\" x2=\"175\" y2=\"858\"/><line x1=\"611\" y1=\"189\" x2=\"691\" y2=\"195\"/><line x1=\"651\" y1=\"115\" x2=\"611\" y2=\"189\"/><line x1=\"490\" y1=\"116\" x2=\"611\" y2=\"189\"/><line x1=\"611\" y1=\"189\" x2=\"618\" y2=\"289\"/><line x1=\"691\" y1=\"276\" x2=\"611\" y2=\"189\"/><line x1=\"518\" y1=\"84\" x2=\"611\" y2=\"189\"/><line x1=\"540\" y1=\"328\" x2=\"611\" y2=\"189\"/><line x1=\"765\" y1=\"224\" x2=\"691\" y2=\"195\"/><line x1=\"651\" y1=\"115\" x2=\"691\" y2=\"195\"/><line x1=\"691\" y1=\"195\" x2=\"706\" y2=\"103\"/><line x1=\"691\" y1=\"276\" x2=\"691\" y2=\"195\"/><line x1=\"727\" y1=\"581\" x2=\"605\" y2=\"638\"/><line x1=\"649\" y1=\"398\" x2=\"727\" y2=\"581\"/><line x1=\"581\" y1=\"512\" x2=\"727\" y2=\"581\"/><line x1=\"727\" y1=\"581\" x2=\"829\" y2=\"493\"/><line x1=\"727\" y1=\"581\" x2=\"728\" y2=\"678\"/><line x1=\"727\" y1=\"581\" x2=\"805\" y2=\"594\"/><line x1=\"728\" y1=\"678\" x2=\"605\" y2=\"638\"/><line x1=\"581\" y1=\"512\" x2=\"605\" y2=\"638\"/><line x1=\"605\" y1=\"638\" x2=\"644\" y2=\"778\"/><line x1=\"540\" y1=\"540\" x2=\"605\" y2=\"638\"/><line x1=\"567\" y1=\"683\" x2=\"605\" y2=\"638\"/><line x1=\"729\" y1=\"896\" x2=\"765\" y2=\"959\"/><line x1=\"729\" y1=\"896\" x2=\"630\" y2=\"790\"/><line x1=\"729\" y1=\"896\" x2=\"747\" y2=\"865\"/><line x1=\"729\" y1=\"896\" x2=\"715\" y2=\"1018\"/><line x1=\"314\" y1=\"330\" x2=\"210\" y2=\"288\"/><line x1=\"314\" y1=\"330\" x2=\"397\" y2=\"203\"/><line x1=\"314\" y1=\"330\" x2=\"233\" y2=\"461\"/><line x1=\"314\" y1=\"330\" x2=\"316\" y2=\"226\"/><line x1=\"314\" y1=\"330\" x2=\"210\" y2=\"327\"/><line x1=\"210\" y1=\"288\" x2=\"174\" y2=\"231\"/><line x1=\"200\" y1=\"327\" x2=\"210\" y2=\"288\"/><line x1=\"210\" y1=\"288\" x2=\"316\" y2=\"226\"/><line x1=\"210\" y1=\"288\" x2=\"210\" y2=\"327\"/><line x1=\"341\" y1=\"615\" x2=\"471\" y2=\"691\"/><line x1=\"245\" y1=\"654\" x2=\"341\" y2=\"615\"/><line x1=\"518\" y1=\"84\" x2=\"809\" y2=\"48\"/><line x1=\"518\" y1=\"84\" x2=\"776\" y2=\"58\"/><line x1=\"518\" y1=\"84\" x2=\"299\" y2=\"65\"/><line x1=\"518\" y1=\"84\" x2=\"490\" y2=\"116\"/><line x1=\"518\" y1=\"84\" x2=\"651\" y2=\"115\"/><line x1=\"518\" y1=\"84\" x2=\"479\" y2=\"88\"/><line x1=\"809\" y1=\"48\" x2=\"776\" y2=\"58\"/><line x1=\"809\" y1=\"48\" x2=\"299\" y2=\"65\"/><line x1=\"809\" y1=\"48\" x2=\"840\" y2=\"64\"/><line x1=\"865\" y1=\"68\" x2=\"809\" y2=\"48\"/><line x1=\"829\" y1=\"493\" x2=\"922\" y2=\"513\"/><line x1=\"829\" y1=\"493\" x2=\"941\" y2=\"236\"/><line x1=\"672\" y1=\"342\" x2=\"829\" y2=\"493\"/><line x1=\"649\" y1=\"398\" x2=\"829\" y2=\"493\"/><line x1=\"765\" y1=\"224\" x2=\"829\" y2=\"493\"/><line x1=\"829\" y1=\"493\" x2=\"933\" y2=\"231\"/><line x1=\"829\" y1=\"493\" x2=\"805\" y2=\"594\"/><line x1=\"964\" y1=\"491\" x2=\"829\" y2=\"493\"/><line x1=\"922\" y1=\"513\" x2=\"805\" y2=\"594\"/><line x1=\"964\" y1=\"491\" x2=\"922\" y2=\"513\"/><line x1=\"1022\" y1=\"592\" x2=\"922\" y2=\"513\"/><line x1=\"290\" y1=\"826\" x2=\"233\" y2=\"894\"/><line x1=\"290\" y1=\"826\" x2=\"291\" y2=\"857\"/><line x1=\"955\" y1=\"179\" x2=\"941\" y2=\"236\"/><line x1=\"1010\" y1=\"205\" x2=\"955\" y2=\"179\"/><line x1=\"955\" y1=\"179\" x2=\"1021\" y2=\"161\"/><line x1=\"955\" y1=\"179\" x2=\"933\" y2=\"231\"/><line x1=\"839\" y1=\"199\" x2=\"955\" y2=\"179\"/><line x1=\"865\" y1=\"68\" x2=\"955\" y2=\"179\"/><line x1=\"1003\" y1=\"113\" x2=\"955\" y2=\"179\"/><line x1=\"941\" y1=\"236\" x2=\"933\" y2=\"231\"/><line x1=\"1010\" y1=\"205\" x2=\"941\" y2=\"236\"/><line x1=\"1038\" y1=\"313\" x2=\"941\" y2=\"236\"/><line x1=\"964\" y1=\"491\" x2=\"941\" y2=\"236\"/><line x1=\"1035\" y1=\"241\" x2=\"941\" y2=\"236\"/><line x1=\"200\" y1=\"327\" x2=\"34\" y2=\"411\"/><line x1=\"200\" y1=\"327\" x2=\"210\" y2=\"327\"/><line x1=\"200\" y1=\"327\" x2=\"233\" y2=\"461\"/><line x1=\"200\" y1=\"327\" x2=\"174\" y2=\"231\"/><line x1=\"34\" y1=\"411\" x2=\"147\" y2=\"563\"/><line x1=\"34\" y1=\"411\" x2=\"233\" y2=\"461\"/><line x1=\"34\" y1=\"411\" x2=\"37\" y2=\"838\"/><line x1=\"34\" y1=\"411\" x2=\"174\" y2=\"231\"/><line x1=\"178\" y1=\"545\" x2=\"34\" y2=\"411\"/><line x1=\"728\" y1=\"678\" x2=\"644\" y2=\"778\"/><line x1=\"947\" y1=\"784\" x2=\"728\" y2=\"678\"/><line x1=\"901\" y1=\"835\" x2=\"728\" y2=\"678\"/><line x1=\"752\" y1=\"823\" x2=\"728\" y2=\"678\"/><line x1=\"728\" y1=\"678\" x2=\"805\" y2=\"594\"/><line x1=\"212\" y1=\"1002\" x2=\"715\" y2=\"1018\"/><line x1=\"1047\" y1=\"1017\" x2=\"715\" y2=\"1018\"/><line x1=\"469\" y1=\"915\" x2=\"715\" y2=\"1018\"/><line x1=\"765\" y1=\"959\" x2=\"715\" y2=\"1018\"/><line x1=\"212\" y1=\"1002\" x2=\"233\" y2=\"894\"/><line x1=\"212\" y1=\"1002\" x2=\"85\" y2=\"850\"/><line x1=\"212\" y1=\"1002\" x2=\"266\" y2=\"905\"/><line x1=\"212\" y1=\"1002\" x2=\"37\" y2=\"838\"/><line x1=\"469\" y1=\"915\" x2=\"212\" y2=\"1002\"/><line x1=\"651\" y1=\"115\" x2=\"706\" y2=\"103\"/><line x1=\"651\" y1=\"115\" x2=\"776\" y2=\"58\"/><line x1=\"610\" y1=\"786\" x2=\"644\" y2=\"778\"/><line x1=\"752\" y1=\"823\" x2=\"644\" y2=\"778\"/><line x1=\"747\" y1=\"865\" x2=\"644\" y2=\"778\"/><line x1=\"630\" y1=\"790\" x2=\"644\" y2=\"778\"/><line x1=\"567\" y1=\"683\" x2=\"644\" y2=\"778\"/><line x1=\"776\" y1=\"58\" x2=\"706\" y2=\"103\"/><line x1=\"776\" y1=\"58\" x2=\"840\" y2=\"64\"/><line x1=\"316\" y1=\"226\" x2=\"397\" y2=\"203\"/><line x1=\"394\" y1=\"106\" x2=\"397\" y2=\"203\"/><line x1=\"540\" y1=\"328\" x2=\"397\" y2=\"203\"/><line x1=\"490\" y1=\"116\" x2=\"397\" y2=\"203\"/><line x1=\"581\" y1=\"512\" x2=\"558\" y2=\"511\"/><line x1=\"540\" y1=\"540\" x2=\"581\" y2=\"512\"/><line x1=\"581\" y1=\"512\" x2=\"578\" y2=\"355\"/><line x1=\"649\" y1=\"398\" x2=\"581\" y2=\"512\"/><line x1=\"479\" y1=\"88\" x2=\"299\" y2=\"65\"/><line x1=\"394\" y1=\"106\" x2=\"299\" y2=\"65\"/><line x1=\"174\" y1=\"231\" x2=\"299\" y2=\"65\"/><line x1=\"125\" y1=\"30\" x2=\"299\" y2=\"65\"/><line x1=\"316\" y1=\"226\" x2=\"299\" y2=\"65\"/><line x1=\"558\" y1=\"511\" x2=\"578\" y2=\"355\"/><line x1=\"540\" y1=\"540\" x2=\"558\" y2=\"511\"/><line x1=\"558\" y1=\"511\" x2=\"514\" y2=\"489\"/><line x1=\"618\" y1=\"289\" x2=\"578\" y2=\"355\"/><line x1=\"540\" y1=\"328\" x2=\"578\" y2=\"355\"/><line x1=\"649\" y1=\"398\" x2=\"578\" y2=\"355\"/><line x1=\"672\" y1=\"342\" x2=\"578\" y2=\"355\"/><line x1=\"514\" y1=\"489\" x2=\"578\" y2=\"355\"/><line x1=\"472\" y1=\"425\" x2=\"578\" y2=\"355\"/><line x1=\"540\" y1=\"540\" x2=\"514\" y2=\"489\"/><line x1=\"839\" y1=\"199\" x2=\"765\" y2=\"224\"/><line x1=\"765\" y1=\"224\" x2=\"933\" y2=\"231\"/><line x1=\"672\" y1=\"342\" x2=\"765\" y2=\"224\"/><line x1=\"765\" y1=\"224\" x2=\"691\" y2=\"276\"/><line x1=\"1035\" y1=\"241\" x2=\"1021\" y2=\"161\"/><line x1=\"1010\" y1=\"205\" x2=\"1035\" y2=\"241\"/><line x1=\"1035\" y1=\"241\" x2=\"1038\" y2=\"313\"/><line x1=\"1003\" y1=\"113\" x2=\"1021\" y2=\"161\"/><line x1=\"1010\" y1=\"205\" x2=\"1021\" y2=\"161\"/><line x1=\"490\" y1=\"116\" x2=\"479\" y2=\"88\"/><line x1=\"394\" y1=\"106\" x2=\"479\" y2=\"88\"/><line x1=\"1016\" y1=\"698\" x2=\"805\" y2=\"594\"/><line x1=\"1016\" y1=\"698\" x2=\"1022\" y2=\"592\"/><line x1=\"1020\" y1=\"717\" x2=\"1016\" y2=\"698\"/><line x1=\"967\" y1=\"764\" x2=\"1016\" y2=\"698\"/><line x1=\"1022\" y1=\"592\" x2=\"805\" y2=\"594\"/><line x1=\"947\" y1=\"784\" x2=\"805\" y2=\"594\"/><line x1=\"967\" y1=\"764\" x2=\"805\" y2=\"594\"/><line x1=\"394\" y1=\"106\" x2=\"316\" y2=\"226\"/><line x1=\"174\" y1=\"231\" x2=\"316\" y2=\"226\"/><line x1=\"210\" y1=\"327\" x2=\"233\" y2=\"461\"/><line x1=\"269\" y1=\"529\" x2=\"233\" y2=\"461\"/><line x1=\"947\" y1=\"784\" x2=\"1047\" y2=\"1017\"/><line x1=\"947\" y1=\"784\" x2=\"901\" y2=\"835\"/><line x1=\"967\" y1=\"764\" x2=\"947\" y2=\"784\"/><line x1=\"245\" y1=\"654\" x2=\"147\" y2=\"563\"/><line x1=\"245\" y1=\"654\" x2=\"85\" y2=\"850\"/><line x1=\"178\" y1=\"545\" x2=\"245\" y2=\"654\"/><line x1=\"630\" y1=\"790\" x2=\"747\" y2=\"865\"/><line x1=\"630\" y1=\"790\" x2=\"610\" y2=\"786\"/><line x1=\"747\" y1=\"865\" x2=\"840\" y2=\"912\"/><line x1=\"765\" y1=\"959\" x2=\"747\" y2=\"865\"/><line x1=\"752\" y1=\"823\" x2=\"747\" y2=\"865\"/><line x1=\"291\" y1=\"857\" x2=\"233\" y2=\"894\"/><line x1=\"266\" y1=\"905\" x2=\"233\" y2=\"894\"/><line x1=\"1047\" y1=\"1017\" x2=\"840\" y2=\"912\"/><line x1=\"1047\" y1=\"1017\" x2=\"765\" y2=\"959\"/><line x1=\"1020\" y1=\"717\" x2=\"1047\" y2=\"1017\"/><line x1=\"967\" y1=\"764\" x2=\"1047\" y2=\"1017\"/><line x1=\"1047\" y1=\"1017\" x2=\"901\" y2=\"835\"/><line x1=\"901\" y1=\"835\" x2=\"840\" y2=\"912\"/><line x1=\"765\" y1=\"959\" x2=\"840\" y2=\"912\"/><line x1=\"752\" y1=\"823\" x2=\"840\" y2=\"912\"/><line x1=\"394\" y1=\"106\" x2=\"490\" y2=\"116\"/><line x1=\"523\" y1=\"744\" x2=\"471\" y2=\"691\"/><line x1=\"567\" y1=\"683\" x2=\"471\" y2=\"691\"/><line x1=\"471\" y1=\"691\" x2=\"473\" y2=\"783\"/><line x1=\"567\" y1=\"683\" x2=\"610\" y2=\"786\"/><line x1=\"523\" y1=\"744\" x2=\"610\" y2=\"786\"/><line x1=\"540\" y1=\"328\" x2=\"490\" y2=\"116\"/><line x1=\"839\" y1=\"199\" x2=\"933\" y2=\"231\"/><line x1=\"865\" y1=\"68\" x2=\"839\" y2=\"199\"/><line x1=\"540\" y1=\"328\" x2=\"472\" y2=\"425\"/><line x1=\"514\" y1=\"489\" x2=\"472\" y2=\"425\"/><line x1=\"178\" y1=\"545\" x2=\"147\" y2=\"563\"/><line x1=\"147\" y1=\"563\" x2=\"85\" y2=\"850\"/><line x1=\"147\" y1=\"563\" x2=\"37\" y2=\"838\"/><line x1=\"178\" y1=\"545\" x2=\"233\" y2=\"461\"/><line x1=\"865\" y1=\"68\" x2=\"1003\" y2=\"113\"/><line x1=\"865\" y1=\"68\" x2=\"840\" y2=\"64\"/><line x1=\"964\" y1=\"491\" x2=\"1038\" y2=\"313\"/><line x1=\"1012\" y1=\"480\" x2=\"964\" y2=\"491\"/><line x1=\"964\" y1=\"491\" x2=\"1022\" y2=\"592\"/><line x1=\"1038\" y1=\"313\" x2=\"1022\" y2=\"592\"/><line x1=\"1012\" y1=\"480\" x2=\"1038\" y2=\"313\"/><line x1=\"469\" y1=\"915\" x2=\"266\" y2=\"905\"/><line x1=\"122\" y1=\"46\" x2=\"125\" y2=\"30\"/><line x1=\"752\" y1=\"823\" x2=\"901\" y2=\"835\"/><line x1=\"672\" y1=\"303\" x2=\"618\" y2=\"289\"/><line x1=\"672\" y1=\"303\" x2=\"691\" y2=\"276\"/><line x1=\"672\" y1=\"342\" x2=\"672\" y2=\"303\"/><line x1=\"540\" y1=\"328\" x2=\"618\" y2=\"289\"/><line x1=\"691\" y1=\"276\" x2=\"618\" y2=\"289\"/><line x1=\"672\" y1=\"342\" x2=\"618\" y2=\"289\"/><line x1=\"1012\" y1=\"480\" x2=\"1022\" y2=\"592\"/><line x1=\"37\" y1=\"838\" x2=\"85\" y2=\"850\"/><line x1=\"523\" y1=\"744\" x2=\"473\" y2=\"783\"/><line x1=\"567\" y1=\"683\" x2=\"523\" y2=\"744\"/><line x1=\"672\" y1=\"342\" x2=\"649\" y2=\"398\"/><line x1=\"672\" y1=\"342\" x2=\"691\" y2=\"276\"/><line x1=\"291\" y1=\"857\" x2=\"266\" y2=\"905\"/><line x1=\"967\" y1=\"764\" x2=\"1020\" y2=\"717\"/></g><g stroke=\"darkcyan\" stroke-dasharray=\"18 15\" stroke-width=\"4\" id=\"edges_extended\"><line x1=\"737\" y1=\"163\" x2=\"840\" y2=\"64\"/><line x1=\"691\" y1=\"276\" x2=\"737\" y2=\"163\"/><line x1=\"651\" y1=\"115\" x2=\"737\" y2=\"163\"/><line x1=\"807\" y1=\"189\" x2=\"933\" y2=\"231\"/><line x1=\"955\" y1=\"179\" x2=\"807\" y2=\"189\"/><line x1=\"809\" y1=\"48\" x2=\"807\" y2=\"189\"/><line x1=\"807\" y1=\"189\" x2=\"706\" y2=\"103\"/><line x1=\"807\" y1=\"189\" x2=\"691\" y2=\"195\"/><line x1=\"458\" y1=\"416\" x2=\"233\" y2=\"461\"/><line x1=\"458\" y1=\"416\" x2=\"514\" y2=\"489\"/><line x1=\"458\" y1=\"416\" x2=\"316\" y2=\"226\"/><line x1=\"458\" y1=\"416\" x2=\"578\" y2=\"355\"/><line x1=\"458\" y1=\"416\" x2=\"490\" y2=\"116\"/><line x1=\"271\" y1=\"540\" x2=\"445\" y2=\"420\"/><line x1=\"397\" y1=\"203\" x2=\"445\" y2=\"420\"/><line x1=\"210\" y1=\"327\" x2=\"445\" y2=\"420\"/><line x1=\"445\" y1=\"420\" x2=\"198\" y2=\"542\"/><line x1=\"540\" y1=\"540\" x2=\"445\" y2=\"420\"/><line x1=\"407\" y1=\"837\" x2=\"523\" y2=\"744\"/><line x1=\"407\" y1=\"837\" x2=\"212\" y2=\"1002\"/><line x1=\"407\" y1=\"837\" x2=\"715\" y2=\"1018\"/><line x1=\"407\" y1=\"837\" x2=\"471\" y2=\"691\"/><line x1=\"407\" y1=\"837\" x2=\"233\" y2=\"894\"/><line x1=\"287\" y1=\"764\" x2=\"494\" y2=\"862\"/><line x1=\"765\" y1=\"959\" x2=\"494\" y2=\"862\"/><line x1=\"747\" y1=\"865\" x2=\"494\" y2=\"862\"/><line x1=\"494\" y1=\"862\" x2=\"644\" y2=\"778\"/><line x1=\"494\" y1=\"862\" x2=\"471\" y2=\"691\"/><line x1=\"494\" y1=\"862\" x2=\"266\" y2=\"905\"/><line x1=\"567\" y1=\"683\" x2=\"494\" y2=\"862\"/><line x1=\"139\" y1=\"98\" x2=\"316\" y2=\"226\"/><line x1=\"139\" y1=\"98\" x2=\"34\" y2=\"411\"/><line x1=\"34\" y1=\"139\" x2=\"299\" y2=\"65\"/><line x1=\"200\" y1=\"327\" x2=\"34\" y2=\"139\"/><line x1=\"287\" y1=\"764\" x2=\"419\" y2=\"607\"/><line x1=\"419\" y1=\"607\" x2=\"472\" y2=\"425\"/><line x1=\"419\" y1=\"607\" x2=\"233\" y2=\"461\"/><line x1=\"567\" y1=\"683\" x2=\"419\" y2=\"607\"/><line x1=\"558\" y1=\"511\" x2=\"419\" y2=\"607\"/><line x1=\"341\" y1=\"615\" x2=\"536\" y2=\"614\"/><line x1=\"536\" y1=\"614\" x2=\"514\" y2=\"489\"/><line x1=\"523\" y1=\"744\" x2=\"536\" y2=\"614\"/><line x1=\"581\" y1=\"512\" x2=\"536\" y2=\"614\"/><line x1=\"536\" y1=\"614\" x2=\"644\" y2=\"778\"/><line x1=\"271\" y1=\"540\" x2=\"471\" y2=\"691\"/><line x1=\"271\" y1=\"540\" x2=\"178\" y2=\"545\"/><line x1=\"271\" y1=\"540\" x2=\"233\" y2=\"461\"/><line x1=\"271\" y1=\"540\" x2=\"287\" y2=\"764\"/><line x1=\"341\" y1=\"615\" x2=\"198\" y2=\"542\"/><line x1=\"34\" y1=\"411\" x2=\"198\" y2=\"542\"/><line x1=\"147\" y1=\"563\" x2=\"198\" y2=\"542\"/><line x1=\"287\" y1=\"764\" x2=\"85\" y2=\"850\"/><line x1=\"287\" y1=\"764\" x2=\"233\" y2=\"894\"/><line x1=\"287\" y1=\"764\" x2=\"523\" y2=\"744\"/><line x1=\"147\" y1=\"563\" x2=\"175\" y2=\"858\"/><line x1=\"175\" y1=\"858\" x2=\"291\" y2=\"857\"/><line x1=\"341\" y1=\"615\" x2=\"175\" y2=\"858\"/><line x1=\"611\" y1=\"189\" x2=\"706\" y2=\"103\"/><line x1=\"672\" y1=\"303\" x2=\"611\" y2=\"189\"/><line x1=\"765\" y1=\"224\" x2=\"611\" y2=\"189\"/><line x1=\"611\" y1=\"189\" x2=\"479\" y2=\"88\"/><line x1=\"611\" y1=\"189\" x2=\"397\" y2=\"203\"/><line x1=\"611\" y1=\"189\" x2=\"578\" y2=\"355\"/><line x1=\"776\" y1=\"58\" x2=\"691\" y2=\"195\"/><line x1=\"518\" y1=\"84\" x2=\"691\" y2=\"195\"/><line x1=\"691\" y1=\"195\" x2=\"618\" y2=\"289\"/><line x1=\"540\" y1=\"540\" x2=\"727\" y2=\"581\"/><line x1=\"947\" y1=\"784\" x2=\"727\" y2=\"581\"/><line x1=\"727\" y1=\"581\" x2=\"644\" y2=\"778\"/><line x1=\"672\" y1=\"342\" x2=\"727\" y2=\"581\"/><line x1=\"727\" y1=\"581\" x2=\"922\" y2=\"513\"/><line x1=\"727\" y1=\"581\" x2=\"578\" y2=\"355\"/><line x1=\"471\" y1=\"691\" x2=\"605\" y2=\"638\"/><line x1=\"649\" y1=\"398\" x2=\"605\" y2=\"638\"/><line x1=\"805\" y1=\"594\" x2=\"605\" y2=\"638\"/><line x1=\"558\" y1=\"511\" x2=\"605\" y2=\"638\"/><line x1=\"752\" y1=\"823\" x2=\"605\" y2=\"638\"/><line x1=\"610\" y1=\"786\" x2=\"605\" y2=\"638\"/><line x1=\"729\" y1=\"896\" x2=\"840\" y2=\"912\"/><line x1=\"469\" y1=\"915\" x2=\"729\" y2=\"896\"/><line x1=\"729\" y1=\"896\" x2=\"644\" y2=\"778\"/><line x1=\"729\" y1=\"896\" x2=\"610\" y2=\"786\"/><line x1=\"314\" y1=\"330\" x2=\"472\" y2=\"425\"/><line x1=\"394\" y1=\"106\" x2=\"314\" y2=\"330\"/><line x1=\"314\" y1=\"330\" x2=\"540\" y2=\"328\"/><line x1=\"200\" y1=\"327\" x2=\"314\" y2=\"330\"/><line x1=\"314\" y1=\"330\" x2=\"174\" y2=\"231\"/><line x1=\"314\" y1=\"330\" x2=\"269\" y2=\"529\"/><line x1=\"34\" y1=\"411\" x2=\"210\" y2=\"288\"/><line x1=\"210\" y1=\"288\" x2=\"299\" y2=\"65\"/><line x1=\"210\" y1=\"288\" x2=\"397\" y2=\"203\"/><line x1=\"210\" y1=\"288\" x2=\"233\" y2=\"461\"/><line x1=\"341\" y1=\"615\" x2=\"269\" y2=\"529\"/><line x1=\"341\" y1=\"615\" x2=\"473\" y2=\"783\"/><line x1=\"394\" y1=\"106\" x2=\"518\" y2=\"84\"/><line x1=\"518\" y1=\"84\" x2=\"706\" y2=\"103\"/><line x1=\"518\" y1=\"84\" x2=\"540\" y2=\"328\"/><line x1=\"809\" y1=\"48\" x2=\"479\" y2=\"88\"/><line x1=\"839\" y1=\"199\" x2=\"829\" y2=\"493\"/><line x1=\"955\" y1=\"179\" x2=\"829\" y2=\"493\"/><line x1=\"1022\" y1=\"592\" x2=\"829\" y2=\"493\"/><line x1=\"581\" y1=\"512\" x2=\"829\" y2=\"493\"/><line x1=\"829\" y1=\"493\" x2=\"578\" y2=\"355\"/><line x1=\"691\" y1=\"276\" x2=\"829\" y2=\"493\"/><line x1=\"1038\" y1=\"313\" x2=\"829\" y2=\"493\"/><line x1=\"829\" y1=\"493\" x2=\"728\" y2=\"678\"/><line x1=\"1016\" y1=\"698\" x2=\"922\" y2=\"513\"/><line x1=\"1012\" y1=\"480\" x2=\"922\" y2=\"513\"/><line x1=\"922\" y1=\"513\" x2=\"941\" y2=\"236\"/><line x1=\"290\" y1=\"826\" x2=\"245\" y2=\"654\"/><line x1=\"290\" y1=\"826\" x2=\"473\" y2=\"783\"/><line x1=\"290\" y1=\"826\" x2=\"266\" y2=\"905\"/><line x1=\"765\" y1=\"224\" x2=\"955\" y2=\"179\"/><line x1=\"1035\" y1=\"241\" x2=\"955\" y2=\"179\"/><line x1=\"1021\" y1=\"161\" x2=\"941\" y2=\"236\"/><line x1=\"1012\" y1=\"480\" x2=\"941\" y2=\"236\"/><line x1=\"765\" y1=\"224\" x2=\"941\" y2=\"236\"/><line x1=\"200\" y1=\"327\" x2=\"178\" y2=\"545\"/><line x1=\"34\" y1=\"411\" x2=\"210\" y2=\"327\"/><line x1=\"245\" y1=\"654\" x2=\"34\" y2=\"411\"/><line x1=\"34\" y1=\"411\" x2=\"85\" y2=\"850\"/><line x1=\"581\" y1=\"512\" x2=\"728\" y2=\"678\"/><line x1=\"967\" y1=\"764\" x2=\"728\" y2=\"678\"/><line x1=\"567\" y1=\"683\" x2=\"728\" y2=\"678\"/><line x1=\"747\" y1=\"865\" x2=\"728\" y2=\"678\"/><line x1=\"840\" y1=\"912\" x2=\"728\" y2=\"678\"/><line x1=\"840\" y1=\"912\" x2=\"715\" y2=\"1018\"/><line x1=\"630\" y1=\"790\" x2=\"715\" y2=\"1018\"/><line x1=\"747\" y1=\"865\" x2=\"715\" y2=\"1018\"/><line x1=\"715\" y1=\"1018\" x2=\"266\" y2=\"905\"/><line x1=\"212\" y1=\"1002\" x2=\"291\" y2=\"857\"/><line x1=\"651\" y1=\"115\" x2=\"691\" y2=\"276\"/><line x1=\"651\" y1=\"115\" x2=\"490\" y2=\"116\"/><line x1=\"523\" y1=\"744\" x2=\"644\" y2=\"778\"/><line x1=\"840\" y1=\"912\" x2=\"644\" y2=\"778\"/><line x1=\"901\" y1=\"835\" x2=\"644\" y2=\"778\"/><line x1=\"765\" y1=\"224\" x2=\"776\" y2=\"58\"/><line x1=\"776\" y1=\"58\" x2=\"299\" y2=\"65\"/><line x1=\"865\" y1=\"68\" x2=\"776\" y2=\"58\"/><line x1=\"397\" y1=\"203\" x2=\"472\" y2=\"425\"/><line x1=\"479\" y1=\"88\" x2=\"397\" y2=\"203\"/><line x1=\"397\" y1=\"203\" x2=\"299\" y2=\"65\"/><line x1=\"672\" y1=\"342\" x2=\"581\" y2=\"512\"/><line x1=\"581\" y1=\"512\" x2=\"514\" y2=\"489\"/><line x1=\"490\" y1=\"116\" x2=\"299\" y2=\"65\"/><line x1=\"122\" y1=\"46\" x2=\"299\" y2=\"65\"/><line x1=\"649\" y1=\"398\" x2=\"558\" y2=\"511\"/><line x1=\"558\" y1=\"511\" x2=\"472\" y2=\"425\"/><line x1=\"672\" y1=\"303\" x2=\"578\" y2=\"355\"/><line x1=\"540\" y1=\"540\" x2=\"578\" y2=\"355\"/><line x1=\"540\" y1=\"540\" x2=\"471\" y2=\"691\"/><line x1=\"540\" y1=\"540\" x2=\"567\" y2=\"683\"/><line x1=\"765\" y1=\"224\" x2=\"706\" y2=\"103\"/><line x1=\"649\" y1=\"398\" x2=\"765\" y2=\"224\"/><line x1=\"765\" y1=\"224\" x2=\"672\" y2=\"303\"/><line x1=\"964\" y1=\"491\" x2=\"1035\" y2=\"241\"/><line x1=\"865\" y1=\"68\" x2=\"1021\" y2=\"161\"/><line x1=\"1016\" y1=\"698\" x2=\"1047\" y2=\"1017\"/><line x1=\"947\" y1=\"784\" x2=\"1016\" y2=\"698\"/><line x1=\"649\" y1=\"398\" x2=\"805\" y2=\"594\"/><line x1=\"1020\" y1=\"717\" x2=\"805\" y2=\"594\"/><line x1=\"964\" y1=\"491\" x2=\"805\" y2=\"594\"/><line x1=\"901\" y1=\"835\" x2=\"805\" y2=\"594\"/><line x1=\"316\" y1=\"226\" x2=\"490\" y2=\"116\"/><line x1=\"316\" y1=\"226\" x2=\"210\" y2=\"327\"/><line x1=\"174\" y1=\"231\" x2=\"210\" y2=\"327\"/><line x1=\"245\" y1=\"654\" x2=\"269\" y2=\"529\"/><line x1=\"269\" y1=\"529\" x2=\"514\" y2=\"489\"/><line x1=\"178\" y1=\"545\" x2=\"269\" y2=\"529\"/><line x1=\"947\" y1=\"784\" x2=\"1020\" y2=\"717\"/><line x1=\"752\" y1=\"823\" x2=\"947\" y2=\"784\"/><line x1=\"947\" y1=\"784\" x2=\"840\" y2=\"912\"/><line x1=\"245\" y1=\"654\" x2=\"471\" y2=\"691\"/><line x1=\"245\" y1=\"654\" x2=\"37\" y2=\"838\"/><line x1=\"567\" y1=\"683\" x2=\"630\" y2=\"790\"/><line x1=\"752\" y1=\"823\" x2=\"630\" y2=\"790\"/><line x1=\"1047\" y1=\"1017\" x2=\"747\" y2=\"865\"/><line x1=\"901\" y1=\"835\" x2=\"747\" y2=\"865\"/><line x1=\"85\" y1=\"850\" x2=\"233\" y2=\"894\"/><line x1=\"752\" y1=\"823\" x2=\"1047\" y2=\"1017\"/><line x1=\"394\" y1=\"106\" x2=\"540\" y2=\"328\"/><line x1=\"394\" y1=\"106\" x2=\"174\" y2=\"231\"/><line x1=\"610\" y1=\"786\" x2=\"471\" y2=\"691\"/><line x1=\"1010\" y1=\"205\" x2=\"933\" y2=\"231\"/><line x1=\"1010\" y1=\"205\" x2=\"1003\" y2=\"113\"/><line x1=\"1010\" y1=\"205\" x2=\"1038\" y2=\"313\"/><line x1=\"610\" y1=\"786\" x2=\"473\" y2=\"783\"/><line x1=\"490\" y1=\"116\" x2=\"618\" y2=\"289\"/><line x1=\"839\" y1=\"199\" x2=\"1003\" y2=\"113\"/><line x1=\"839\" y1=\"199\" x2=\"840\" y2=\"64\"/><line x1=\"964\" y1=\"491\" x2=\"933\" y2=\"231\"/><line x1=\"865\" y1=\"68\" x2=\"933\" y2=\"231\"/><line x1=\"672\" y1=\"342\" x2=\"933\" y2=\"231\"/><line x1=\"122\" y1=\"46\" x2=\"174\" y2=\"231\"/><line x1=\"174\" y1=\"231\" x2=\"233\" y2=\"461\"/><line x1=\"125\" y1=\"30\" x2=\"174\" y2=\"231\"/><line x1=\"618\" y1=\"289\" x2=\"472\" y2=\"425\"/><line x1=\"147\" y1=\"563\" x2=\"233\" y2=\"461\"/><line x1=\"178\" y1=\"545\" x2=\"85\" y2=\"850\"/><line x1=\"752\" y1=\"823\" x2=\"765\" y2=\"959\"/><line x1=\"469\" y1=\"915\" x2=\"291\" y2=\"857\"/><line x1=\"469\" y1=\"915\" x2=\"473\" y2=\"783\"/><line x1=\"967\" y1=\"764\" x2=\"901\" y2=\"835\"/><line x1=\"649\" y1=\"398\" x2=\"618\" y2=\"289\"/><line x1=\"567\" y1=\"683\" x2=\"473\" y2=\"783\"/><line x1=\"967\" y1=\"764\" x2=\"1022\" y2=\"592\"/><line x1=\"672\" y1=\"342\" x2=\"540\" y2=\"328\"/><line x1=\"540\" y1=\"328\" x2=\"514\" y2=\"489\"/></g><g id=\"WTGgrp\"><g fill=\"#9edae5\"><use href=\"#wtg\" x=\"737\" y=\"163\"/><use href=\"#wtg\" x=\"807\" y=\"189\"/><use href=\"#wtg\" x=\"458\" y=\"416\"/><use href=\"#wtg\" x=\"445\" y=\"420\"/><use href=\"#wtg\" x=\"407\" y=\"837\"/><use href=\"#wtg\" x=\"494\" y=\"862\"/><use href=\"#wtg\" x=\"139\" y=\"98\"/><use href=\"#wtg\" x=\"34\" y=\"139\"/><use href=\"#wtg\" x=\"419\" y=\"607\"/><use href=\"#wtg\" x=\"536\" y=\"614\"/><use href=\"#wtg\" x=\"271\" y=\"540\"/><use href=\"#wtg\" x=\"198\" y=\"542\"/><use href=\"#wtg\" x=\"287\" y=\"764\"/><use href=\"#wtg\" x=\"175\" y=\"858\"/><use href=\"#wtg\" x=\"611\" y=\"189\"/><use href=\"#wtg\" x=\"691\" y=\"195\"/><use href=\"#wtg\" x=\"727\" y=\"581\"/><use href=\"#wtg\" x=\"605\" y=\"638\"/><use href=\"#wtg\" x=\"729\" y=\"896\"/><use href=\"#wtg\" x=\"314\" y=\"330\"/><use href=\"#wtg\" x=\"210\" y=\"288\"/><use href=\"#wtg\" x=\"341\" y=\"615\"/><use href=\"#wtg\" x=\"518\" y=\"84\"/><use href=\"#wtg\" x=\"809\" y=\"48\"/><use href=\"#wtg\" x=\"829\" y=\"493\"/><use href=\"#wtg\" x=\"922\" y=\"513\"/><use href=\"#wtg\" x=\"290\" y=\"826\"/><use href=\"#wtg\" x=\"955\" y=\"179\"/><use href=\"#wtg\" x=\"941\" y=\"236\"/><use href=\"#wtg\" x=\"200\" y=\"327\"/><use href=\"#wtg\" x=\"34\" y=\"411\"/><use href=\"#wtg\" x=\"728\" y=\"678\"/><use href=\"#wtg\" x=\"715\" y=\"1018\"/><use href=\"#wtg\" x=\"212\" y=\"1002\"/><use href=\"#wtg\" x=\"651\" y=\"115\"/><use href=\"#wtg\" x=\"644\" y=\"778\"/><use href=\"#wtg\" x=\"776\" y=\"58\"/><use href=\"#wtg\" x=\"397\" y=\"203\"/><use href=\"#wtg\" x=\"581\" y=\"512\"/><use href=\"#wtg\" x=\"299\" y=\"65\"/><use href=\"#wtg\" x=\"558\" y=\"511\"/><use href=\"#wtg\" x=\"578\" y=\"355\"/><use href=\"#wtg\" x=\"765\" y=\"224\"/><use href=\"#wtg\" x=\"1035\" y=\"241\"/><use href=\"#wtg\" x=\"1021\" y=\"161\"/><use href=\"#wtg\" x=\"479\" y=\"88\"/><use href=\"#wtg\" x=\"1016\" y=\"698\"/><use href=\"#wtg\" x=\"805\" y=\"594\"/><use href=\"#wtg\" x=\"316\" y=\"226\"/><use href=\"#wtg\" x=\"210\" y=\"327\"/><use href=\"#wtg\" x=\"269\" y=\"529\"/><use href=\"#wtg\" x=\"947\" y=\"784\"/><use href=\"#wtg\" x=\"245\" y=\"654\"/><use href=\"#wtg\" x=\"630\" y=\"790\"/><use href=\"#wtg\" x=\"747\" y=\"865\"/><use href=\"#wtg\" x=\"233\" y=\"894\"/><use href=\"#wtg\" x=\"1047\" y=\"1017\"/><use href=\"#wtg\" x=\"840\" y=\"912\"/><use href=\"#wtg\" x=\"394\" y=\"106\"/><use href=\"#wtg\" x=\"471\" y=\"691\"/><use href=\"#wtg\" x=\"1010\" y=\"205\"/><use href=\"#wtg\" x=\"610\" y=\"786\"/><use href=\"#wtg\" x=\"490\" y=\"116\"/><use href=\"#wtg\" x=\"839\" y=\"199\"/><use href=\"#wtg\" x=\"933\" y=\"231\"/><use href=\"#wtg\" x=\"174\" y=\"231\"/><use href=\"#wtg\" x=\"472\" y=\"425\"/><use href=\"#wtg\" x=\"147\" y=\"563\"/><use href=\"#wtg\" x=\"178\" y=\"545\"/><use href=\"#wtg\" x=\"865\" y=\"68\"/><use href=\"#wtg\" x=\"1003\" y=\"113\"/><use href=\"#wtg\" x=\"765\" y=\"959\"/><use href=\"#wtg\" x=\"964\" y=\"491\"/><use href=\"#wtg\" x=\"1038\" y=\"313\"/><use href=\"#wtg\" x=\"469\" y=\"915\"/><use href=\"#wtg\" x=\"233\" y=\"461\"/><use href=\"#wtg\" x=\"125\" y=\"30\"/><use href=\"#wtg\" x=\"752\" y=\"823\"/><use href=\"#wtg\" x=\"122\" y=\"46\"/><use href=\"#wtg\" x=\"901\" y=\"835\"/><use href=\"#wtg\" x=\"672\" y=\"303\"/><use href=\"#wtg\" x=\"618\" y=\"289\"/><use href=\"#wtg\" x=\"1012\" y=\"480\"/><use href=\"#wtg\" x=\"706\" y=\"103\"/><use href=\"#wtg\" x=\"85\" y=\"850\"/><use href=\"#wtg\" x=\"473\" y=\"783\"/><use href=\"#wtg\" x=\"567\" y=\"683\"/><use href=\"#wtg\" x=\"649\" y=\"398\"/><use href=\"#wtg\" x=\"1022\" y=\"592\"/><use href=\"#wtg\" x=\"523\" y=\"744\"/><use href=\"#wtg\" x=\"540\" y=\"328\"/><use href=\"#wtg\" x=\"37\" y=\"838\"/><use href=\"#wtg\" x=\"514\" y=\"489\"/><use href=\"#wtg\" x=\"672\" y=\"342\"/><use href=\"#wtg\" x=\"840\" y=\"64\"/><use href=\"#wtg\" x=\"691\" y=\"276\"/><use href=\"#wtg\" x=\"266\" y=\"905\"/><use href=\"#wtg\" x=\"291\" y=\"857\"/><use href=\"#wtg\" x=\"1020\" y=\"717\"/><use href=\"#wtg\" x=\"967\" y=\"764\"/></g></g><g id=\"OSSgrp\"><use href=\"#oss\" x=\"529.5\" y=\"529.5\"/></g></g></svg>"
      ],
      "text/plain": [
       "<interarray.svg.SvgRepr at 0x1c8eb319ac0>"
      ]
     },
     "execution_count": 17,
     "metadata": {},
     "output_type": "execute_result"
    }
   ],
   "source": [
    "svgplot(A)"
   ]
  },
  {
   "cell_type": "code",
   "execution_count": 18,
   "id": "f90fa638-62a9-4cc6-a6ff-ee29ec4a7307",
   "metadata": {},
   "outputs": [],
   "source": [
    "S = S_from_vrplib(solution, L)"
   ]
  },
  {
   "cell_type": "code",
   "execution_count": 19,
   "id": "5ac25266-3d21-4a31-a31c-43b25ab37261",
   "metadata": {},
   "outputs": [],
   "source": [
    "G = G_from_S(S, A)"
   ]
  },
  {
   "cell_type": "code",
   "execution_count": 20,
   "id": "49f1445e-b682-4887-a69f-d7ad2124852c",
   "metadata": {},
   "outputs": [
    {
     "data": {
      "image/svg+xml": [
       "<svg xmlns=\"http://www.w3.org/2000/svg\" viewBox=\"0 0 1920 1080\"><defs ><filter x=\"-5%\" y=\"-5%\" id=\"bg_textbox\" width=\"110%\" height=\"110%\"><feFlood flood-opacity=\"0.7\" flood-color=\"#111\" result=\"bg\"/><feMerge ><feMergeNode in=\"bg\"/><feMergeNode in=\"SourceGraphic\"/></feMerge></filter><circle stroke=\"none\" stroke-width=\"2\" id=\"wtg\" r=\"12\"/><rect stroke=\"none\" stroke-width=\"2\" id=\"oss\" width=\"21\" height=\"21\" fill=\"lawngreen\"/></defs><g id=\"L_from_site\"><path stroke=\"silver\" stroke-dasharray=\"15 7\" stroke-width=\"2\" id=\"border\" d=\"M30 1050 1050 1050 1050 30 30 30z\" fill-rule=\"evenodd\" fill=\"#111\"/><g stroke=\"crimson\" stroke-width=\"4\" id=\"edges_unspecified\"><line x1=\"341\" y1=\"615\" x2=\"419\" y2=\"607\"/><line x1=\"540\" y1=\"540\" x2=\"419\" y2=\"607\"/><line x1=\"245\" y1=\"654\" x2=\"341\" y2=\"615\"/><line x1=\"245\" y1=\"654\" x2=\"287\" y2=\"764\"/><line x1=\"287\" y1=\"764\" x2=\"175\" y2=\"858\"/><line x1=\"175\" y1=\"858\" x2=\"85\" y2=\"850\"/><line x1=\"37\" y1=\"838\" x2=\"85\" y2=\"850\"/><line x1=\"212\" y1=\"1002\" x2=\"37\" y2=\"838\"/><line x1=\"212\" y1=\"1002\" x2=\"233\" y2=\"894\"/><line x1=\"266\" y1=\"905\" x2=\"233\" y2=\"894\"/><line x1=\"291\" y1=\"857\" x2=\"266\" y2=\"905\"/><line x1=\"290\" y1=\"826\" x2=\"291\" y2=\"857\"/><line x1=\"290\" y1=\"826\" x2=\"407\" y2=\"837\"/><line x1=\"469\" y1=\"915\" x2=\"407\" y2=\"837\"/><line x1=\"469\" y1=\"915\" x2=\"494\" y2=\"862\"/><line x1=\"494\" y1=\"862\" x2=\"473\" y2=\"783\"/><line x1=\"523\" y1=\"744\" x2=\"473\" y2=\"783\"/><line x1=\"523\" y1=\"744\" x2=\"471\" y2=\"691\"/><line x1=\"536\" y1=\"614\" x2=\"471\" y2=\"691\"/><line x1=\"540\" y1=\"540\" x2=\"445\" y2=\"420\"/><line x1=\"540\" y1=\"540\" x2=\"605\" y2=\"638\"/><line x1=\"540\" y1=\"540\" x2=\"514\" y2=\"489\"/><line x1=\"458\" y1=\"416\" x2=\"514\" y2=\"489\"/><line x1=\"458\" y1=\"416\" x2=\"472\" y2=\"425\"/><line x1=\"558\" y1=\"511\" x2=\"472\" y2=\"425\"/><line x1=\"581\" y1=\"512\" x2=\"558\" y2=\"511\"/><line x1=\"618\" y1=\"289\" x2=\"578\" y2=\"355\"/><line x1=\"765\" y1=\"224\" x2=\"807\" y2=\"189\"/><line x1=\"839\" y1=\"199\" x2=\"807\" y2=\"189\"/><line x1=\"839\" y1=\"199\" x2=\"933\" y2=\"231\"/><line x1=\"941\" y1=\"236\" x2=\"933\" y2=\"231\"/><line x1=\"955\" y1=\"179\" x2=\"941\" y2=\"236\"/><line x1=\"1003\" y1=\"113\" x2=\"955\" y2=\"179\"/><line x1=\"1003\" y1=\"113\" x2=\"1021\" y2=\"161\"/><line x1=\"1010\" y1=\"205\" x2=\"1021\" y2=\"161\"/><line x1=\"1010\" y1=\"205\" x2=\"1035\" y2=\"241\"/><line x1=\"1035\" y1=\"241\" x2=\"1038\" y2=\"313\"/><line x1=\"1012\" y1=\"480\" x2=\"1038\" y2=\"313\"/><line x1=\"1012\" y1=\"480\" x2=\"964\" y2=\"491\"/><line x1=\"964\" y1=\"491\" x2=\"922\" y2=\"513\"/><line x1=\"829\" y1=\"493\" x2=\"922\" y2=\"513\"/><line x1=\"829\" y1=\"493\" x2=\"805\" y2=\"594\"/><line x1=\"727\" y1=\"581\" x2=\"805\" y2=\"594\"/><line x1=\"728\" y1=\"678\" x2=\"605\" y2=\"638\"/><line x1=\"1016\" y1=\"698\" x2=\"1022\" y2=\"592\"/><line x1=\"1020\" y1=\"717\" x2=\"1016\" y2=\"698\"/><line x1=\"967\" y1=\"764\" x2=\"1020\" y2=\"717\"/><line x1=\"967\" y1=\"764\" x2=\"947\" y2=\"784\"/><line x1=\"947\" y1=\"784\" x2=\"901\" y2=\"835\"/><line x1=\"1047\" y1=\"1017\" x2=\"901\" y2=\"835\"/><line x1=\"1047\" y1=\"1017\" x2=\"840\" y2=\"912\"/><line x1=\"765\" y1=\"959\" x2=\"840\" y2=\"912\"/><line x1=\"765\" y1=\"959\" x2=\"715\" y2=\"1018\"/><line x1=\"729\" y1=\"896\" x2=\"715\" y2=\"1018\"/><line x1=\"729\" y1=\"896\" x2=\"747\" y2=\"865\"/><line x1=\"752\" y1=\"823\" x2=\"747\" y2=\"865\"/><line x1=\"752\" y1=\"823\" x2=\"644\" y2=\"778\"/><line x1=\"630\" y1=\"790\" x2=\"644\" y2=\"778\"/><line x1=\"630\" y1=\"790\" x2=\"610\" y2=\"786\"/><line x1=\"567\" y1=\"683\" x2=\"610\" y2=\"786\"/><line x1=\"314\" y1=\"330\" x2=\"445\" y2=\"420\"/><line x1=\"314\" y1=\"330\" x2=\"316\" y2=\"226\"/><line x1=\"316\" y1=\"226\" x2=\"299\" y2=\"65\"/><line x1=\"125\" y1=\"30\" x2=\"299\" y2=\"65\"/><line x1=\"122\" y1=\"46\" x2=\"125\" y2=\"30\"/><line x1=\"122\" y1=\"46\" x2=\"139\" y2=\"98\"/><line x1=\"139\" y1=\"98\" x2=\"34\" y2=\"139\"/><line x1=\"174\" y1=\"231\" x2=\"34\" y2=\"139\"/><line x1=\"210\" y1=\"288\" x2=\"174\" y2=\"231\"/><line x1=\"210\" y1=\"288\" x2=\"210\" y2=\"327\"/><line x1=\"200\" y1=\"327\" x2=\"210\" y2=\"327\"/><line x1=\"200\" y1=\"327\" x2=\"34\" y2=\"411\"/><line x1=\"34\" y1=\"411\" x2=\"147\" y2=\"563\"/><line x1=\"178\" y1=\"545\" x2=\"147\" y2=\"563\"/><line x1=\"178\" y1=\"545\" x2=\"198\" y2=\"542\"/><line x1=\"233\" y1=\"461\" x2=\"198\" y2=\"542\"/><line x1=\"269\" y1=\"529\" x2=\"233\" y2=\"461\"/><line x1=\"271\" y1=\"540\" x2=\"269\" y2=\"529\"/><line x1=\"672\" y1=\"342\" x2=\"649\" y2=\"398\"/><line x1=\"672\" y1=\"342\" x2=\"672\" y2=\"303\"/><line x1=\"672\" y1=\"303\" x2=\"691\" y2=\"276\"/><line x1=\"691\" y1=\"276\" x2=\"691\" y2=\"195\"/><line x1=\"737\" y1=\"163\" x2=\"691\" y2=\"195\"/><line x1=\"865\" y1=\"68\" x2=\"840\" y2=\"64\"/><line x1=\"809\" y1=\"48\" x2=\"840\" y2=\"64\"/><line x1=\"809\" y1=\"48\" x2=\"776\" y2=\"58\"/><line x1=\"776\" y1=\"58\" x2=\"706\" y2=\"103\"/><line x1=\"651\" y1=\"115\" x2=\"706\" y2=\"103\"/><line x1=\"651\" y1=\"115\" x2=\"611\" y2=\"189\"/><line x1=\"518\" y1=\"84\" x2=\"611\" y2=\"189\"/><line x1=\"518\" y1=\"84\" x2=\"490\" y2=\"116\"/><line x1=\"490\" y1=\"116\" x2=\"479\" y2=\"88\"/><line x1=\"394\" y1=\"106\" x2=\"479\" y2=\"88\"/><line x1=\"394\" y1=\"106\" x2=\"397\" y2=\"203\"/><line x1=\"540\" y1=\"328\" x2=\"397\" y2=\"203\"/></g><g stroke=\"red\" stroke-dasharray=\"18 15\" stroke-width=\"4\" id=\"edges_tentative\"><line x1=\"540\" y1=\"540\" x2=\"578\" y2=\"355\"/><line x1=\"540\" y1=\"540\" x2=\"649\" y2=\"398\"/></g><g stroke=\"yellow\" stroke-dasharray=\"25 5\" stroke-width=\"4\" id=\"edges_rogue\"><line x1=\"765\" y1=\"224\" x2=\"618\" y2=\"289\"/><line x1=\"1022\" y1=\"592\" x2=\"728\" y2=\"678\"/><line x1=\"865\" y1=\"68\" x2=\"737\" y2=\"163\"/></g><g id=\"WTGgrp\"><g fill=\"#1f77b4\"><use href=\"#wtg\" x=\"419\" y=\"607\"/><use href=\"#wtg\" x=\"341\" y=\"615\"/><use href=\"#wtg\" x=\"245\" y=\"654\"/><use href=\"#wtg\" x=\"287\" y=\"764\"/><use href=\"#wtg\" x=\"175\" y=\"858\"/><use href=\"#wtg\" x=\"85\" y=\"850\"/><use href=\"#wtg\" x=\"37\" y=\"838\"/><use href=\"#wtg\" x=\"212\" y=\"1002\"/><use href=\"#wtg\" x=\"233\" y=\"894\"/><use href=\"#wtg\" x=\"266\" y=\"905\"/><use href=\"#wtg\" x=\"291\" y=\"857\"/><use href=\"#wtg\" x=\"290\" y=\"826\"/><use href=\"#wtg\" x=\"407\" y=\"837\"/><use href=\"#wtg\" x=\"469\" y=\"915\"/><use href=\"#wtg\" x=\"494\" y=\"862\"/><use href=\"#wtg\" x=\"473\" y=\"783\"/><use href=\"#wtg\" x=\"523\" y=\"744\"/><use href=\"#wtg\" x=\"471\" y=\"691\"/><use href=\"#wtg\" x=\"536\" y=\"614\"/></g><g fill=\"#aec7e8\"><use href=\"#wtg\" x=\"514\" y=\"489\"/><use href=\"#wtg\" x=\"458\" y=\"416\"/><use href=\"#wtg\" x=\"472\" y=\"425\"/><use href=\"#wtg\" x=\"558\" y=\"511\"/><use href=\"#wtg\" x=\"581\" y=\"512\"/></g><g fill=\"#ff7f0e\"><use href=\"#wtg\" x=\"578\" y=\"355\"/><use href=\"#wtg\" x=\"618\" y=\"289\"/><use href=\"#wtg\" x=\"765\" y=\"224\"/><use href=\"#wtg\" x=\"807\" y=\"189\"/><use href=\"#wtg\" x=\"839\" y=\"199\"/><use href=\"#wtg\" x=\"933\" y=\"231\"/><use href=\"#wtg\" x=\"941\" y=\"236\"/><use href=\"#wtg\" x=\"955\" y=\"179\"/><use href=\"#wtg\" x=\"1003\" y=\"113\"/><use href=\"#wtg\" x=\"1021\" y=\"161\"/><use href=\"#wtg\" x=\"1010\" y=\"205\"/><use href=\"#wtg\" x=\"1035\" y=\"241\"/><use href=\"#wtg\" x=\"1038\" y=\"313\"/><use href=\"#wtg\" x=\"1012\" y=\"480\"/><use href=\"#wtg\" x=\"964\" y=\"491\"/><use href=\"#wtg\" x=\"922\" y=\"513\"/><use href=\"#wtg\" x=\"829\" y=\"493\"/><use href=\"#wtg\" x=\"805\" y=\"594\"/><use href=\"#wtg\" x=\"727\" y=\"581\"/></g><g fill=\"#ffbb78\"><use href=\"#wtg\" x=\"605\" y=\"638\"/><use href=\"#wtg\" x=\"728\" y=\"678\"/><use href=\"#wtg\" x=\"1022\" y=\"592\"/><use href=\"#wtg\" x=\"1016\" y=\"698\"/><use href=\"#wtg\" x=\"1020\" y=\"717\"/><use href=\"#wtg\" x=\"967\" y=\"764\"/><use href=\"#wtg\" x=\"947\" y=\"784\"/><use href=\"#wtg\" x=\"901\" y=\"835\"/><use href=\"#wtg\" x=\"1047\" y=\"1017\"/><use href=\"#wtg\" x=\"840\" y=\"912\"/><use href=\"#wtg\" x=\"765\" y=\"959\"/><use href=\"#wtg\" x=\"715\" y=\"1018\"/><use href=\"#wtg\" x=\"729\" y=\"896\"/><use href=\"#wtg\" x=\"747\" y=\"865\"/><use href=\"#wtg\" x=\"752\" y=\"823\"/><use href=\"#wtg\" x=\"644\" y=\"778\"/><use href=\"#wtg\" x=\"630\" y=\"790\"/><use href=\"#wtg\" x=\"610\" y=\"786\"/><use href=\"#wtg\" x=\"567\" y=\"683\"/></g><g fill=\"#2ca02c\"><use href=\"#wtg\" x=\"445\" y=\"420\"/><use href=\"#wtg\" x=\"314\" y=\"330\"/><use href=\"#wtg\" x=\"316\" y=\"226\"/><use href=\"#wtg\" x=\"299\" y=\"65\"/><use href=\"#wtg\" x=\"125\" y=\"30\"/><use href=\"#wtg\" x=\"122\" y=\"46\"/><use href=\"#wtg\" x=\"139\" y=\"98\"/><use href=\"#wtg\" x=\"34\" y=\"139\"/><use href=\"#wtg\" x=\"174\" y=\"231\"/><use href=\"#wtg\" x=\"210\" y=\"288\"/><use href=\"#wtg\" x=\"210\" y=\"327\"/><use href=\"#wtg\" x=\"200\" y=\"327\"/><use href=\"#wtg\" x=\"34\" y=\"411\"/><use href=\"#wtg\" x=\"147\" y=\"563\"/><use href=\"#wtg\" x=\"178\" y=\"545\"/><use href=\"#wtg\" x=\"198\" y=\"542\"/><use href=\"#wtg\" x=\"233\" y=\"461\"/><use href=\"#wtg\" x=\"269\" y=\"529\"/><use href=\"#wtg\" x=\"271\" y=\"540\"/></g><g fill=\"#98df8a\"><use href=\"#wtg\" x=\"649\" y=\"398\"/><use href=\"#wtg\" x=\"672\" y=\"342\"/><use href=\"#wtg\" x=\"672\" y=\"303\"/><use href=\"#wtg\" x=\"691\" y=\"276\"/><use href=\"#wtg\" x=\"691\" y=\"195\"/><use href=\"#wtg\" x=\"737\" y=\"163\"/><use href=\"#wtg\" x=\"865\" y=\"68\"/><use href=\"#wtg\" x=\"840\" y=\"64\"/><use href=\"#wtg\" x=\"809\" y=\"48\"/><use href=\"#wtg\" x=\"776\" y=\"58\"/><use href=\"#wtg\" x=\"706\" y=\"103\"/><use href=\"#wtg\" x=\"651\" y=\"115\"/><use href=\"#wtg\" x=\"611\" y=\"189\"/><use href=\"#wtg\" x=\"518\" y=\"84\"/><use href=\"#wtg\" x=\"490\" y=\"116\"/><use href=\"#wtg\" x=\"479\" y=\"88\"/><use href=\"#wtg\" x=\"394\" y=\"106\"/><use href=\"#wtg\" x=\"397\" y=\"203\"/><use href=\"#wtg\" x=\"540\" y=\"328\"/></g></g><g id=\"OSSgrp\"><use href=\"#oss\" x=\"529.5\" y=\"529.5\"/></g></g><text stroke=\"#000\" stroke-width=\"0.01em\" text-anchor=\"end\" font-family=\"sans-serif\" font-size=\"40\" fill=\"white\" x=\"1050\" y=\"1050\"><tspan x=\"1050\" dy=\"-0.0em\">&#931;&#955; = 8740.0 m</tspan><tspan x=\"1050\" dy=\"-1.3em\">(+0) &#945;: 6</tspan><tspan x=\"1050\" dy=\"-1.3em\">&#954; = 19, T = 100</tspan></text></svg>"
      ],
      "text/plain": [
       "<interarray.svg.SvgRepr at 0x1c8e83d84d0>"
      ]
     },
     "execution_count": 20,
     "metadata": {},
     "output_type": "execute_result"
    }
   ],
   "source": [
    "svgplot(G)"
   ]
  },
  {
   "cell_type": "markdown",
   "id": "d5817069-d24c-4007-8023-93b759fd7210",
   "metadata": {
    "deletable": true,
    "editable": true,
    "frozen": false
   },
   "source": [
    "## Get Statistics!"
   ]
  },
  {
   "cell_type": "code",
   "execution_count": 21,
   "id": "f684c6d1-7918-4583-993e-2deeb60ea808",
   "metadata": {
    "scrolled": true
   },
   "outputs": [
    {
     "name": "stdout",
     "output_type": "stream",
     "text": [
      "ROGUES (4): XML100_1111_01.sol\n",
      "CLEAN: XML100_1111_02.sol\n",
      "ROGUES (2): XML100_1111_03.sol\n",
      "ROGUES (1): XML100_1111_04.sol\n",
      "ROGUES (1): XML100_1111_05.sol\n",
      "ROGUES (2): XML100_1111_06.sol\n",
      "ROGUES (1): XML100_1111_07.sol\n",
      "CLEAN: XML100_1111_08.sol\n",
      "ROGUES (2): XML100_1111_09.sol\n",
      "CLEAN: XML100_1111_10.sol\n",
      "ROGUES (2): XML100_1111_11.sol\n",
      "ROGUES (1): XML100_1111_12.sol\n",
      "CLEAN: XML100_1111_13.sol\n",
      "CLEAN: XML100_1111_14.sol\n",
      "CLEAN: XML100_1111_15.sol\n",
      "CLEAN: XML100_1111_16.sol\n",
      "ROGUES (1): XML100_1111_17.sol\n",
      "ROGUES (2): XML100_1111_18.sol\n",
      "ROGUES (1): XML100_1111_19.sol\n",
      "CLEAN: XML100_1111_20.sol\n",
      "CLEAN: XML100_1111_21.sol\n",
      "CLEAN: XML100_1111_22.sol\n",
      "ROGUES (2): XML100_1111_23.sol\n",
      "CLEAN: XML100_1111_24.sol\n",
      "CLEAN: XML100_1111_25.sol\n",
      "CLEAN: XML100_1111_26.sol\n",
      "CLEAN: XML100_1111_27.sol\n",
      "ROGUES (2): XML100_1112_01.sol\n",
      "ROGUES (3): XML100_1112_02.sol\n",
      "ROGUES (2): XML100_1112_03.sol\n",
      "CLEAN: XML100_1112_04.sol\n",
      "ROGUES (2): XML100_1112_05.sol\n",
      "ROGUES (2): XML100_1112_06.sol\n",
      "ROGUES (4): XML100_1112_07.sol\n",
      "ROGUES (1): XML100_1112_08.sol\n",
      "ROGUES (2): XML100_1112_09.sol\n",
      "ROGUES (3): XML100_1112_10.sol\n",
      "ROGUES (2): XML100_1112_11.sol\n",
      "CLEAN: XML100_1112_12.sol\n",
      "ROGUES (3): XML100_1112_13.sol\n",
      "ROGUES (1): XML100_1112_14.sol\n",
      "ROGUES (3): XML100_1112_15.sol\n",
      "CLEAN: XML100_1112_16.sol\n",
      "ROGUES (2): XML100_1112_17.sol\n",
      "CLEAN: XML100_1112_18.sol\n",
      "ROGUES (2): XML100_1112_19.sol\n",
      "ROGUES (3): XML100_1112_20.sol\n",
      "ROGUES (1): XML100_1112_21.sol\n",
      "CLEAN: XML100_1112_22.sol\n",
      "ROGUES (2): XML100_1112_23.sol\n",
      "ROGUES (1): XML100_1112_24.sol\n",
      "ROGUES (1): XML100_1112_25.sol\n",
      "ROGUES (1): XML100_1112_26.sol\n",
      "ROGUES (3): XML100_1112_27.sol\n",
      "ROGUES (3): XML100_1113_01.sol\n",
      "ROGUES (1): XML100_1113_02.sol\n",
      "ROGUES (3): XML100_1113_03.sol\n",
      "ROGUES (1): XML100_1113_04.sol\n",
      "ROGUES (2): XML100_1113_05.sol\n",
      "ROGUES (1): XML100_1113_06.sol\n",
      "ROGUES (2): XML100_1113_07.sol\n",
      "ROGUES (3): XML100_1113_08.sol\n",
      "ROGUES (2): XML100_1113_09.sol\n",
      "ROGUES (1): XML100_1113_10.sol\n",
      "ROGUES (1): XML100_1113_11.sol\n",
      "CLEAN: XML100_1113_12.sol\n",
      "ROGUES (3): XML100_1113_13.sol\n",
      "ROGUES (2): XML100_1113_14.sol\n",
      "ROGUES (1): XML100_1113_15.sol\n",
      "CLEAN: XML100_1113_16.sol\n",
      "CLEAN: XML100_1113_17.sol\n",
      "ROGUES (2): XML100_1113_18.sol\n",
      "ROGUES (1): XML100_1113_19.sol\n",
      "ROGUES (1): XML100_1113_20.sol\n",
      "ROGUES (3): XML100_1113_21.sol\n",
      "ROGUES (1): XML100_1113_22.sol\n",
      "ROGUES (2): XML100_1113_23.sol\n",
      "ROGUES (1): XML100_1113_24.sol\n",
      "ROGUES (3): XML100_1113_25.sol\n",
      "ROGUES (1): XML100_1113_26.sol\n",
      "ROGUES (3): XML100_1113_27.sol\n",
      "ROGUES (3): XML100_1114_01.sol\n",
      "ROGUES (1): XML100_1114_02.sol\n",
      "ROGUES (2): XML100_1114_03.sol\n",
      "CLEAN: XML100_1114_04.sol\n",
      "ROGUES (3): XML100_1114_05.sol\n",
      "ROGUES (3): XML100_1114_06.sol\n",
      "ROGUES (1): XML100_1114_07.sol\n",
      "ROGUES (1): XML100_1114_08.sol\n",
      "ROGUES (2): XML100_1114_09.sol\n",
      "ROGUES (2): XML100_1114_10.sol\n",
      "CLEAN: XML100_1114_11.sol\n",
      "ROGUES (2): XML100_1114_12.sol\n",
      "ROGUES (2): XML100_1114_13.sol\n",
      "ROGUES (4): XML100_1114_14.sol\n",
      "ROGUES (3): XML100_1114_15.sol\n",
      "ROGUES (3): XML100_1114_16.sol\n",
      "ROGUES (2): XML100_1114_17.sol\n",
      "ROGUES (3): XML100_1114_18.sol\n",
      "ROGUES (2): XML100_1114_19.sol\n",
      "ROGUES (1): XML100_1114_20.sol\n",
      "ROGUES (2): XML100_1114_21.sol\n",
      "CLEAN: XML100_1114_22.sol\n",
      "CLEAN: XML100_1114_23.sol\n",
      "ROGUES (1): XML100_1114_24.sol\n",
      "ROGUES (1): XML100_1114_25.sol\n",
      "ROGUES (2): XML100_1114_26.sol\n",
      "ROGUES (4): XML100_1114_27.sol\n",
      "ROGUES (1): XML100_1115_01.sol\n",
      "ROGUES (2): XML100_1115_02.sol\n",
      "ROGUES (2): XML100_1115_03.sol\n",
      "CLEAN: XML100_1115_04.sol\n",
      "ROGUES (3): XML100_1115_05.sol\n",
      "ROGUES (3): XML100_1115_06.sol\n",
      "ROGUES (1): XML100_1115_07.sol\n",
      "ROGUES (2): XML100_1115_08.sol\n",
      "ROGUES (3): XML100_1115_09.sol\n",
      "ROGUES (1): XML100_1115_10.sol\n",
      "CLEAN: XML100_1115_11.sol\n",
      "CLEAN: XML100_1115_12.sol\n",
      "ROGUES (1): XML100_1115_13.sol\n",
      "ROGUES (1): XML100_1115_14.sol\n",
      "ROGUES (1): XML100_1115_15.sol\n",
      "ROGUES (3): XML100_1115_16.sol\n",
      "ROGUES (2): XML100_1115_17.sol\n",
      "CLEAN: XML100_1115_18.sol\n",
      "ROGUES (2): XML100_1115_19.sol\n",
      "ROGUES (2): XML100_1115_20.sol\n",
      "ROGUES (1): XML100_1115_21.sol\n",
      "ROGUES (1): XML100_1115_22.sol\n",
      "ROGUES (3): XML100_1115_23.sol\n",
      "CLEAN: XML100_1115_24.sol\n",
      "ROGUES (1): XML100_1115_25.sol\n",
      "ROGUES (3): XML100_1115_26.sol\n",
      "CLEAN: XML100_1115_27.sol\n",
      "CLEAN: XML100_1116_01.sol\n",
      "CLEAN: XML100_1116_02.sol\n",
      "CLEAN: XML100_1116_03.sol\n",
      "CLEAN: XML100_1116_04.sol\n",
      "ROGUES (1): XML100_1116_05.sol\n",
      "ROGUES (1): XML100_1116_06.sol\n",
      "CLEAN: XML100_1116_07.sol\n",
      "CLEAN: XML100_1116_08.sol\n",
      "CLEAN: XML100_1116_09.sol\n",
      "CLEAN: XML100_1116_10.sol\n",
      "CLEAN: XML100_1116_11.sol\n",
      "ROGUES (1): XML100_1116_12.sol\n",
      "CLEAN: XML100_1116_13.sol\n",
      "ROGUES (2): XML100_1116_14.sol\n",
      "ROGUES (1): XML100_1116_15.sol\n",
      "CLEAN: XML100_1116_16.sol\n",
      "CLEAN: XML100_1116_17.sol\n",
      "ROGUES (2): XML100_1116_18.sol\n",
      "CLEAN: XML100_1116_19.sol\n",
      "CLEAN: XML100_1116_20.sol\n",
      "CLEAN: XML100_1116_21.sol\n",
      "ROGUES (1): XML100_1116_22.sol\n",
      "CLEAN: XML100_1116_23.sol\n",
      "CLEAN: XML100_1116_24.sol\n",
      "CLEAN: XML100_1116_25.sol\n",
      "CLEAN: XML100_1116_26.sol\n",
      "CLEAN: XML100_1116_27.sol\n",
      "ROGUES (1): XML100_2111_01.sol\n",
      "ROGUES (1): XML100_2111_02.sol\n",
      "ROGUES (2): XML100_2111_03.sol\n",
      "ROGUES (1): XML100_2111_04.sol\n",
      "CLEAN: XML100_2111_05.sol\n",
      "ROGUES (1): XML100_2111_06.sol\n",
      "ROGUES (1): XML100_2111_07.sol\n",
      "ROGUES (1): XML100_2111_08.sol\n",
      "CLEAN: XML100_2111_09.sol\n",
      "ROGUES (1): XML100_2111_10.sol\n",
      "ROGUES (1): XML100_2111_11.sol\n",
      "CLEAN: XML100_2111_12.sol\n",
      "CLEAN: XML100_2111_13.sol\n",
      "ROGUES (1): XML100_2111_14.sol\n",
      "CLEAN: XML100_2111_15.sol\n",
      "CLEAN: XML100_2111_16.sol\n",
      "ROGUES (2): XML100_2111_17.sol\n",
      "CLEAN: XML100_2111_18.sol\n",
      "CLEAN: XML100_2111_19.sol\n",
      "CLEAN: XML100_2111_20.sol\n",
      "CLEAN: XML100_2111_21.sol\n",
      "CLEAN: XML100_2111_22.sol\n",
      "ROGUES (1): XML100_2111_23.sol\n",
      "ROGUES (3): XML100_2111_24.sol\n",
      "ROGUES (1): XML100_2111_25.sol\n",
      "ROGUES (1): XML100_2111_26.sol\n",
      "CLEAN: XML100_2111_27.sol\n",
      "ROGUES (1): XML100_2112_01.sol\n",
      "CLEAN: XML100_2112_02.sol\n",
      "ROGUES (1): XML100_2112_03.sol\n",
      "ROGUES (1): XML100_2112_04.sol\n",
      "ROGUES (3): XML100_2112_05.sol\n",
      "ROGUES (2): XML100_2112_06.sol\n",
      "ROGUES (2): XML100_2112_07.sol\n",
      "ROGUES (1): XML100_2112_08.sol\n",
      "ROGUES (2): XML100_2112_09.sol\n",
      "ROGUES (1): XML100_2112_10.sol\n",
      "CLEAN: XML100_2112_11.sol\n",
      "ROGUES (1): XML100_2112_12.sol\n",
      "ROGUES (1): XML100_2112_13.sol\n",
      "ROGUES (4): XML100_2112_14.sol\n",
      "ROGUES (1): XML100_2112_15.sol\n",
      "ROGUES (2): XML100_2112_16.sol\n",
      "ROGUES (3): XML100_2112_17.sol\n",
      "ROGUES (1): XML100_2112_18.sol\n",
      "ROGUES (3): XML100_2112_19.sol\n",
      "CLEAN: XML100_2112_20.sol\n",
      "ROGUES (1): XML100_2112_21.sol\n",
      "ROGUES (3): XML100_2112_22.sol\n",
      "ROGUES (4): XML100_2112_23.sol\n",
      "ROGUES (1): XML100_2112_24.sol\n",
      "ROGUES (3): XML100_2112_25.sol\n",
      "CLEAN: XML100_2112_26.sol\n",
      "ROGUES (3): XML100_2112_27.sol\n",
      "ROGUES (3): XML100_2113_01.sol\n",
      "ROGUES (2): XML100_2113_02.sol\n",
      "ROGUES (2): XML100_2113_03.sol\n",
      "CLEAN: XML100_2113_04.sol\n",
      "CLEAN: XML100_2113_05.sol\n",
      "ROGUES (1): XML100_2113_06.sol\n",
      "CLEAN: XML100_2113_07.sol\n",
      "ROGUES (2): XML100_2113_08.sol\n",
      "ROGUES (3): XML100_2113_09.sol\n",
      "ROGUES (4): XML100_2113_10.sol\n",
      "CLEAN: XML100_2113_11.sol\n",
      "ROGUES (3): XML100_2113_12.sol\n",
      "ROGUES (2): XML100_2113_13.sol\n",
      "ROGUES (4): XML100_2113_14.sol\n",
      "ROGUES (2): XML100_2113_15.sol\n",
      "ROGUES (3): XML100_2113_16.sol\n",
      "CLEAN: XML100_2113_17.sol\n",
      "CLEAN: XML100_2113_18.sol\n",
      "CLEAN: XML100_2113_19.sol\n",
      "ROGUES (1): XML100_2113_20.sol\n",
      "ROGUES (1): XML100_2113_21.sol\n",
      "CLEAN: XML100_2113_22.sol\n",
      "ROGUES (2): XML100_2113_23.sol\n",
      "CLEAN: XML100_2113_24.sol\n",
      "ROGUES (2): XML100_2113_25.sol\n",
      "ROGUES (2): XML100_2113_26.sol\n",
      "ROGUES (2): XML100_2113_27.sol\n",
      "ROGUES (2): XML100_2114_01.sol\n",
      "CLEAN: XML100_2114_02.sol\n",
      "ROGUES (2): XML100_2114_03.sol\n",
      "CLEAN: XML100_2114_04.sol\n",
      "ROGUES (1): XML100_2114_05.sol\n",
      "ROGUES (2): XML100_2114_06.sol\n",
      "ROGUES (1): XML100_2114_07.sol\n",
      "CLEAN: XML100_2114_08.sol\n",
      "ROGUES (1): XML100_2114_09.sol\n",
      "CLEAN: XML100_2114_10.sol\n",
      "ROGUES (1): XML100_2114_11.sol\n",
      "ROGUES (1): XML100_2114_12.sol\n",
      "CLEAN: XML100_2114_13.sol\n",
      "ROGUES (2): XML100_2114_14.sol\n",
      "ROGUES (2): XML100_2114_15.sol\n",
      "ROGUES (1): XML100_2114_16.sol\n",
      "ROGUES (2): XML100_2114_17.sol\n",
      "ROGUES (1): XML100_2114_18.sol\n",
      "ROGUES (1): XML100_2114_19.sol\n",
      "CLEAN: XML100_2114_20.sol\n",
      "ROGUES (1): XML100_2114_21.sol\n",
      "CLEAN: XML100_2114_22.sol\n",
      "ROGUES (2): XML100_2114_23.sol\n",
      "CLEAN: XML100_2114_24.sol\n",
      "CLEAN: XML100_2114_25.sol\n",
      "CLEAN: XML100_2114_26.sol\n",
      "ROGUES (1): XML100_2114_27.sol\n",
      "CLEAN: XML100_2115_01.sol\n",
      "CLEAN: XML100_2115_02.sol\n",
      "ROGUES (1): XML100_2115_03.sol\n",
      "ROGUES (1): XML100_2115_04.sol\n",
      "CLEAN: XML100_2115_05.sol\n",
      "CLEAN: XML100_2115_06.sol\n",
      "ROGUES (3): XML100_2115_07.sol\n",
      "ROGUES (2): XML100_2115_08.sol\n",
      "CLEAN: XML100_2115_09.sol\n",
      "CLEAN: XML100_2115_10.sol\n",
      "CLEAN: XML100_2115_11.sol\n",
      "ROGUES (2): XML100_2115_12.sol\n",
      "CLEAN: XML100_2115_13.sol\n",
      "CLEAN: XML100_2115_14.sol\n",
      "CLEAN: XML100_2115_15.sol\n",
      "CLEAN: XML100_2115_16.sol\n",
      "ROGUES (4): XML100_2115_17.sol\n",
      "CLEAN: XML100_2115_18.sol\n",
      "CLEAN: XML100_2115_19.sol\n",
      "ROGUES (1): XML100_2115_20.sol\n",
      "CLEAN: XML100_2115_21.sol\n",
      "ROGUES (1): XML100_2115_22.sol\n",
      "CLEAN: XML100_2115_23.sol\n",
      "CLEAN: XML100_2115_24.sol\n",
      "CLEAN: XML100_2115_25.sol\n",
      "CLEAN: XML100_2115_26.sol\n",
      "ROGUES (1): XML100_2115_27.sol\n",
      "CLEAN: XML100_2116_01.sol\n",
      "CLEAN: XML100_2116_02.sol\n",
      "CLEAN: XML100_2116_03.sol\n",
      "ROGUES (1): XML100_2116_04.sol\n",
      "ROGUES (1): XML100_2116_05.sol\n",
      "CLEAN: XML100_2116_06.sol\n",
      "ROGUES (1): XML100_2116_07.sol\n",
      "CLEAN: XML100_2116_08.sol\n",
      "ROGUES (1): XML100_2116_09.sol\n",
      "CLEAN: XML100_2116_10.sol\n",
      "CLEAN: XML100_2116_11.sol\n",
      "CLEAN: XML100_2116_12.sol\n",
      "CLEAN: XML100_2116_13.sol\n",
      "CLEAN: XML100_2116_14.sol\n",
      "CLEAN: XML100_2116_15.sol\n",
      "ROGUES (2): XML100_2116_16.sol\n",
      "CLEAN: XML100_2116_17.sol\n",
      "CLEAN: XML100_2116_18.sol\n",
      "CLEAN: XML100_2116_19.sol\n",
      "ROGUES (1): XML100_2116_20.sol\n",
      "CLEAN: XML100_2116_21.sol\n",
      "CLEAN: XML100_2116_22.sol\n",
      "CLEAN: XML100_2116_23.sol\n",
      "CLEAN: XML100_2116_24.sol\n",
      "ROGUES (1): XML100_2116_25.sol\n",
      "CLEAN: XML100_2116_26.sol\n",
      "CLEAN: XML100_2116_27.sol\n",
      "ROGUES (3): XML100_3111_01.sol\n",
      "ROGUES (1): XML100_3111_02.sol\n",
      "ROGUES (2): XML100_3111_03.sol\n",
      "CLEAN: XML100_3111_04.sol\n",
      "CLEAN: XML100_3111_05.sol\n",
      "ROGUES (1): XML100_3111_06.sol\n",
      "ROGUES (4): XML100_3111_07.sol\n",
      "ROGUES (3): XML100_3111_08.sol\n",
      "CLEAN: XML100_3111_09.sol\n",
      "CLEAN: XML100_3111_10.sol\n",
      "ROGUES (1): XML100_3111_11.sol\n",
      "CLEAN: XML100_3111_12.sol\n",
      "ROGUES (2): XML100_3111_13.sol\n",
      "CLEAN: XML100_3111_14.sol\n",
      "ROGUES (2): XML100_3111_15.sol\n",
      "ROGUES (3): XML100_3111_16.sol\n",
      "ROGUES (2): XML100_3111_17.sol\n",
      "ROGUES (1): XML100_3111_18.sol\n",
      "ROGUES (2): XML100_3111_19.sol\n",
      "ROGUES (1): XML100_3111_20.sol\n",
      "ROGUES (1): XML100_3111_21.sol\n",
      "CLEAN: XML100_3111_22.sol\n",
      "ROGUES (3): XML100_3111_23.sol\n",
      "CLEAN: XML100_3111_24.sol\n",
      "ROGUES (1): XML100_3111_25.sol\n",
      "CLEAN: XML100_3111_26.sol\n",
      "ROGUES (2): XML100_3112_01.sol\n",
      "ROGUES (1): XML100_3112_02.sol\n",
      "ROGUES (2): XML100_3112_03.sol\n",
      "CLEAN: XML100_3112_04.sol\n",
      "ROGUES (2): XML100_3112_05.sol\n",
      "ROGUES (1): XML100_3112_06.sol\n",
      "ROGUES (2): XML100_3112_07.sol\n",
      "CLEAN: XML100_3112_08.sol\n",
      "ROGUES (4): XML100_3112_09.sol\n",
      "ROGUES (1): XML100_3112_10.sol\n",
      "ROGUES (1): XML100_3112_11.sol\n",
      "ROGUES (3): XML100_3112_12.sol\n",
      "CLEAN: XML100_3112_13.sol\n",
      "ROGUES (2): XML100_3112_14.sol\n",
      "ROGUES (2): XML100_3112_15.sol\n",
      "ROGUES (2): XML100_3112_16.sol\n",
      "ROGUES (2): XML100_3112_17.sol\n",
      "ROGUES (3): XML100_3112_18.sol\n",
      "ROGUES (1): XML100_3112_19.sol\n",
      "ROGUES (4): XML100_3112_20.sol\n",
      "ROGUES (1): XML100_3112_21.sol\n",
      "ROGUES (1): XML100_3112_22.sol\n",
      "ROGUES (3): XML100_3112_23.sol\n",
      "ROGUES (2): XML100_3112_24.sol\n",
      "ROGUES (1): XML100_3112_25.sol\n",
      "ROGUES (1): XML100_3112_26.sol\n",
      "ROGUES (5): XML100_3113_01.sol\n",
      "ROGUES (3): XML100_3113_02.sol\n",
      "ROGUES (2): XML100_3113_03.sol\n",
      "ROGUES (2): XML100_3113_04.sol\n",
      "CLEAN: XML100_3113_05.sol\n",
      "ROGUES (1): XML100_3113_06.sol\n",
      "CLEAN: XML100_3113_07.sol\n",
      "ROGUES (1): XML100_3113_08.sol\n",
      "ROGUES (1): XML100_3113_09.sol\n",
      "ROGUES (1): XML100_3113_10.sol\n",
      "ROGUES (2): XML100_3113_11.sol\n",
      "ROGUES (3): XML100_3113_12.sol\n",
      "ROGUES (2): XML100_3113_13.sol\n",
      "ROGUES (1): XML100_3113_14.sol\n",
      "CLEAN: XML100_3113_15.sol\n",
      "ROGUES (2): XML100_3113_16.sol\n",
      "ROGUES (4): XML100_3113_17.sol\n",
      "ROGUES (1): XML100_3113_18.sol\n",
      "ROGUES (1): XML100_3113_19.sol\n",
      "ROGUES (2): XML100_3113_20.sol\n",
      "ROGUES (1): XML100_3113_21.sol\n",
      "ROGUES (1): XML100_3113_22.sol\n",
      "CLEAN: XML100_3113_23.sol\n",
      "ROGUES (3): XML100_3113_24.sol\n",
      "ROGUES (2): XML100_3113_25.sol\n",
      "ROGUES (1): XML100_3113_26.sol\n",
      "ROGUES (5): XML100_3114_01.sol\n",
      "ROGUES (3): XML100_3114_02.sol\n",
      "ROGUES (1): XML100_3114_03.sol\n",
      "ROGUES (2): XML100_3114_04.sol\n",
      "ROGUES (6): XML100_3114_05.sol\n",
      "ROGUES (3): XML100_3114_06.sol\n",
      "ROGUES (2): XML100_3114_07.sol\n",
      "ROGUES (3): XML100_3114_08.sol\n",
      "ROGUES (2): XML100_3114_09.sol\n",
      "CLEAN: XML100_3114_10.sol\n",
      "ROGUES (2): XML100_3114_11.sol\n",
      "ROGUES (1): XML100_3114_12.sol\n",
      "ROGUES (1): XML100_3114_13.sol\n",
      "ROGUES (2): XML100_3114_14.sol\n",
      "CLEAN: XML100_3114_15.sol\n",
      "ROGUES (2): XML100_3114_16.sol\n",
      "ROGUES (2): XML100_3114_17.sol\n",
      "ROGUES (1): XML100_3114_18.sol\n",
      "CLEAN: XML100_3114_19.sol\n",
      "CLEAN: XML100_3114_20.sol\n",
      "ROGUES (2): XML100_3114_21.sol\n",
      "ROGUES (3): XML100_3114_22.sol\n",
      "ROGUES (1): XML100_3114_23.sol\n",
      "ROGUES (2): XML100_3114_24.sol\n",
      "ROGUES (3): XML100_3114_25.sol\n",
      "CLEAN: XML100_3114_26.sol\n",
      "CLEAN: XML100_3115_01.sol\n",
      "ROGUES (3): XML100_3115_02.sol\n",
      "ROGUES (1): XML100_3115_03.sol\n",
      "ROGUES (3): XML100_3115_04.sol\n",
      "ROGUES (3): XML100_3115_05.sol\n",
      "ROGUES (3): XML100_3115_06.sol\n",
      "ROGUES (5): XML100_3115_07.sol\n",
      "ROGUES (2): XML100_3115_08.sol\n",
      "CLEAN: XML100_3115_09.sol\n",
      "ROGUES (1): XML100_3115_10.sol\n",
      "ROGUES (1): XML100_3115_11.sol\n",
      "ROGUES (2): XML100_3115_12.sol\n",
      "ROGUES (2): XML100_3115_13.sol\n",
      "CLEAN: XML100_3115_14.sol\n",
      "ROGUES (4): XML100_3115_15.sol\n",
      "CLEAN: XML100_3115_16.sol\n",
      "ROGUES (2): XML100_3115_17.sol\n",
      "CLEAN: XML100_3115_18.sol\n",
      "ROGUES (4): XML100_3115_19.sol\n",
      "ROGUES (2): XML100_3115_20.sol\n",
      "ROGUES (1): XML100_3115_21.sol\n",
      "ROGUES (1): XML100_3115_22.sol\n",
      "ROGUES (2): XML100_3115_23.sol\n",
      "ROGUES (3): XML100_3115_24.sol\n",
      "CLEAN: XML100_3115_25.sol\n",
      "ROGUES (1): XML100_3115_26.sol\n",
      "CLEAN: XML100_3116_01.sol\n",
      "ROGUES (1): XML100_3116_02.sol\n",
      "ROGUES (1): XML100_3116_03.sol\n",
      "ROGUES (1): XML100_3116_04.sol\n",
      "ROGUES (2): XML100_3116_05.sol\n",
      "ROGUES (1): XML100_3116_06.sol\n",
      "ROGUES (1): XML100_3116_07.sol\n",
      "CLEAN: XML100_3116_08.sol\n",
      "ROGUES (1): XML100_3116_09.sol\n",
      "CLEAN: XML100_3116_10.sol\n",
      "CLEAN: XML100_3116_11.sol\n",
      "ROGUES (1): XML100_3116_12.sol\n",
      "ROGUES (2): XML100_3116_13.sol\n",
      "CLEAN: XML100_3116_14.sol\n",
      "CLEAN: XML100_3116_15.sol\n",
      "ROGUES (1): XML100_3116_16.sol\n",
      "ROGUES (1): XML100_3116_17.sol\n",
      "ROGUES (1): XML100_3116_18.sol\n",
      "CLEAN: XML100_3116_19.sol\n",
      "ROGUES (3): XML100_3116_20.sol\n",
      "ROGUES (1): XML100_3116_21.sol\n",
      "ROGUES (1): XML100_3116_22.sol\n",
      "ROGUES (2): XML100_3116_23.sol\n",
      "ROGUES (1): XML100_3116_24.sol\n",
      "ROGUES (1): XML100_3116_25.sol\n",
      "CLEAN: XML100_3116_26.sol\n"
     ]
    }
   ],
   "source": [
    "num_instances = 0\n",
    "num_total_edges = 0\n",
    "num_total_rogues = 0\n",
    "edge_counts = []\n",
    "problems = []\n",
    "for solfile in solutions:\n",
    "    num_instances += 1\n",
    "    vrpfile = solfile.replace('.sol', '.vrp')\n",
    "    instance = vrplib.read_instance(dir_instances + vrpfile)\n",
    "    solution = vrplib.read_solution(dir_solutions + solfile)\n",
    "    L = L_from_vrplib(instance)\n",
    "    P, A = make_planar_embedding(L)\n",
    "    S = S_from_vrplib(solution, L)\n",
    "    num_gates = S.degree[-1]\n",
    "    # num_edges = T.number_of_edges() - num_gates\n",
    "    # num_total_edges += num_edges\n",
    "    num_edges = S.number_of_edges()\n",
    "    num_total_edges += num_edges\n",
    "    edge_counts.append(num_edges)\n",
    "    rogues = check_rogues(solution, A)\n",
    "    if rogues:\n",
    "        # print(rogues)\n",
    "        num_total_rogues += len(rogues)\n",
    "        G = G_from_S(S, A)\n",
    "        problems.append((solfile.split('/')[-1], rogues, svgplot(G)))\n",
    "        print(f'ROGUES ({len(rogues)}):', solfile)\n",
    "    else:\n",
    "        print('CLEAN:', solfile)"
   ]
  },
  {
   "cell_type": "code",
   "execution_count": 22,
   "id": "8c6632f7-fe7a-4d79-873f-6e0d320069dd",
   "metadata": {},
   "outputs": [],
   "source": [
    "rogue_counts = np.array([len(rogues) for _, rogues, _ in problems])\n",
    "num_rogues_range = range(0, max(rogue_counts) + 1)\n",
    "count_per_num_rogues = [sum(rogue_counts == num_rogues) for num_rogues in num_rogues_range]\n",
    "count_per_num_rogues[0] = num_instances - len(problems)"
   ]
  },
  {
   "cell_type": "code",
   "execution_count": 23,
   "id": "22ff5357-7c3a-4f6f-a032-1b5f00248380",
   "metadata": {},
   "outputs": [
    {
     "data": {
      "image/svg+xml": [
       "<?xml version=\"1.0\" encoding=\"utf-8\" standalone=\"no\"?>\n",
       "<!DOCTYPE svg PUBLIC \"-//W3C//DTD SVG 1.1//EN\"\n",
       "  \"http://www.w3.org/Graphics/SVG/1.1/DTD/svg11.dtd\">\n",
       "<svg xmlns:xlink=\"http://www.w3.org/1999/xlink\" width=\"515.52pt\" height=\"227.52pt\" viewBox=\"0 0 515.52 227.52\" xmlns=\"http://www.w3.org/2000/svg\" version=\"1.1\">\n",
       " <metadata>\n",
       "  <rdf:RDF xmlns:dc=\"http://purl.org/dc/elements/1.1/\" xmlns:cc=\"http://creativecommons.org/ns#\" xmlns:rdf=\"http://www.w3.org/1999/02/22-rdf-syntax-ns#\">\n",
       "   <cc:Work>\n",
       "    <dc:type rdf:resource=\"http://purl.org/dc/dcmitype/StillImage\"/>\n",
       "    <dc:date>2025-03-10T10:34:12.192265</dc:date>\n",
       "    <dc:format>image/svg+xml</dc:format>\n",
       "    <dc:creator>\n",
       "     <cc:Agent>\n",
       "      <dc:title>Matplotlib v3.10.1, https://matplotlib.org/</dc:title>\n",
       "     </cc:Agent>\n",
       "    </dc:creator>\n",
       "   </cc:Work>\n",
       "  </rdf:RDF>\n",
       " </metadata>\n",
       " <defs>\n",
       "  <style type=\"text/css\">*{stroke-linejoin: round; stroke-linecap: butt}</style>\n",
       " </defs>\n",
       " <g id=\"figure_1\">\n",
       "  <g id=\"patch_1\">\n",
       "   <path d=\"M 0 227.52 \n",
       "L 515.52 227.52 \n",
       "L 515.52 -0 \n",
       "L 0 -0 \n",
       "z\n",
       "\" style=\"fill: #010409\"/>\n",
       "  </g>\n",
       "  <g id=\"axes_1\">\n",
       "   <g id=\"patch_2\">\n",
       "    <path d=\"M 34.103125 193.48875 \n",
       "L 508.32 193.48875 \n",
       "L 508.32 7.2 \n",
       "L 34.103125 7.2 \n",
       "z\n",
       "\"/>\n",
       "   </g>\n",
       "   <g id=\"matplotlib.axis_1\">\n",
       "    <g id=\"xtick_1\">\n",
       "     <g id=\"line2d_1\">\n",
       "      <path d=\"M 70.044902 193.48875 \n",
       "L 70.044902 7.2 \n",
       "\" clip-path=\"url(#p5e19b1b89a)\" style=\"fill: none; stroke: #010409; stroke-width: 1.7; stroke-linecap: round\"/>\n",
       "     </g>\n",
       "     <g id=\"line2d_2\"/>\n",
       "     <g id=\"text_1\">\n",
       "      <text style=\"font-size: 10px; font-family: 'Roboto Condensed', sans-serif; text-anchor: middle; fill: #e6e6e6\" x=\"70.044902\" y=\"204.48875\" transform=\"rotate(-0 70.044902 204.48875)\">0</text>\n",
       "     </g>\n",
       "    </g>\n",
       "    <g id=\"xtick_2\">\n",
       "     <g id=\"line2d_3\">\n",
       "      <path d=\"M 137.100455 193.48875 \n",
       "L 137.100455 7.2 \n",
       "\" clip-path=\"url(#p5e19b1b89a)\" style=\"fill: none; stroke: #010409; stroke-width: 1.7; stroke-linecap: round\"/>\n",
       "     </g>\n",
       "     <g id=\"line2d_4\"/>\n",
       "     <g id=\"text_2\">\n",
       "      <text style=\"font-size: 10px; font-family: 'Roboto Condensed', sans-serif; text-anchor: middle; fill: #e6e6e6\" x=\"137.100455\" y=\"204.48875\" transform=\"rotate(-0 137.100455 204.48875)\">1</text>\n",
       "     </g>\n",
       "    </g>\n",
       "    <g id=\"xtick_3\">\n",
       "     <g id=\"line2d_5\">\n",
       "      <path d=\"M 204.156009 193.48875 \n",
       "L 204.156009 7.2 \n",
       "\" clip-path=\"url(#p5e19b1b89a)\" style=\"fill: none; stroke: #010409; stroke-width: 1.7; stroke-linecap: round\"/>\n",
       "     </g>\n",
       "     <g id=\"line2d_6\"/>\n",
       "     <g id=\"text_3\">\n",
       "      <text style=\"font-size: 10px; font-family: 'Roboto Condensed', sans-serif; text-anchor: middle; fill: #e6e6e6\" x=\"204.156009\" y=\"204.48875\" transform=\"rotate(-0 204.156009 204.48875)\">2</text>\n",
       "     </g>\n",
       "    </g>\n",
       "    <g id=\"xtick_4\">\n",
       "     <g id=\"line2d_7\">\n",
       "      <path d=\"M 271.211563 193.48875 \n",
       "L 271.211563 7.2 \n",
       "\" clip-path=\"url(#p5e19b1b89a)\" style=\"fill: none; stroke: #010409; stroke-width: 1.7; stroke-linecap: round\"/>\n",
       "     </g>\n",
       "     <g id=\"line2d_8\"/>\n",
       "     <g id=\"text_4\">\n",
       "      <text style=\"font-size: 10px; font-family: 'Roboto Condensed', sans-serif; text-anchor: middle; fill: #e6e6e6\" x=\"271.211563\" y=\"204.48875\" transform=\"rotate(-0 271.211563 204.48875)\">3</text>\n",
       "     </g>\n",
       "    </g>\n",
       "    <g id=\"xtick_5\">\n",
       "     <g id=\"line2d_9\">\n",
       "      <path d=\"M 338.267116 193.48875 \n",
       "L 338.267116 7.2 \n",
       "\" clip-path=\"url(#p5e19b1b89a)\" style=\"fill: none; stroke: #010409; stroke-width: 1.7; stroke-linecap: round\"/>\n",
       "     </g>\n",
       "     <g id=\"line2d_10\"/>\n",
       "     <g id=\"text_5\">\n",
       "      <text style=\"font-size: 10px; font-family: 'Roboto Condensed', sans-serif; text-anchor: middle; fill: #e6e6e6\" x=\"338.267116\" y=\"204.48875\" transform=\"rotate(-0 338.267116 204.48875)\">4</text>\n",
       "     </g>\n",
       "    </g>\n",
       "    <g id=\"xtick_6\">\n",
       "     <g id=\"line2d_11\">\n",
       "      <path d=\"M 405.32267 193.48875 \n",
       "L 405.32267 7.2 \n",
       "\" clip-path=\"url(#p5e19b1b89a)\" style=\"fill: none; stroke: #010409; stroke-width: 1.7; stroke-linecap: round\"/>\n",
       "     </g>\n",
       "     <g id=\"line2d_12\"/>\n",
       "     <g id=\"text_6\">\n",
       "      <text style=\"font-size: 10px; font-family: 'Roboto Condensed', sans-serif; text-anchor: middle; fill: #e6e6e6\" x=\"405.32267\" y=\"204.48875\" transform=\"rotate(-0 405.32267 204.48875)\">5</text>\n",
       "     </g>\n",
       "    </g>\n",
       "    <g id=\"xtick_7\">\n",
       "     <g id=\"line2d_13\">\n",
       "      <path d=\"M 472.378223 193.48875 \n",
       "L 472.378223 7.2 \n",
       "\" clip-path=\"url(#p5e19b1b89a)\" style=\"fill: none; stroke: #010409; stroke-width: 1.7; stroke-linecap: round\"/>\n",
       "     </g>\n",
       "     <g id=\"line2d_14\"/>\n",
       "     <g id=\"text_7\">\n",
       "      <text style=\"font-size: 10px; font-family: 'Roboto Condensed', sans-serif; text-anchor: middle; fill: #e6e6e6\" x=\"472.378223\" y=\"204.48875\" transform=\"rotate(-0 472.378223 204.48875)\">6</text>\n",
       "     </g>\n",
       "    </g>\n",
       "    <g id=\"text_8\">\n",
       "     <!-- number of edges not included in the sparsified set $A$ -->\n",
       "     <g style=\"fill: #e6e6e6\" transform=\"translate(167.861562 218.22)\">\n",
       "      <text>\n",
       "       <tspan x=\"0\" y=\"-0.390625\" style=\"font-size: 10px; font-family: 'Roboto Condensed'; font-stretch: condensed; fill: #e6e6e6\">n</tspan>\n",
       "       <tspan x=\"4.838867\" y=\"-0.390625\" style=\"font-size: 10px; font-family: 'Roboto Condensed'; font-stretch: condensed; fill: #e6e6e6\">u</tspan>\n",
       "       <tspan x=\"9.672852\" y=\"-0.390625\" style=\"font-size: 10px; font-family: 'Roboto Condensed'; font-stretch: condensed; fill: #e6e6e6\">m</tspan>\n",
       "       <tspan x=\"17.197266\" y=\"-0.390625\" style=\"font-size: 10px; font-family: 'Roboto Condensed'; font-stretch: condensed; fill: #e6e6e6\">b</tspan>\n",
       "       <tspan x=\"22.128906\" y=\"-0.390625\" style=\"font-size: 10px; font-family: 'Roboto Condensed'; font-stretch: condensed; fill: #e6e6e6\">e</tspan>\n",
       "       <tspan x=\"26.811523\" y=\"-0.390625\" style=\"font-size: 10px; font-family: 'Roboto Condensed'; font-stretch: condensed; fill: #e6e6e6\">r</tspan>\n",
       "       <tspan x=\"29.853516\" y=\"-0.390625\" style=\"font-size: 10px; font-family: 'Roboto Condensed'; font-stretch: condensed; fill: #e6e6e6\"> </tspan>\n",
       "       <tspan x=\"32.143555\" y=\"-0.390625\" style=\"font-size: 10px; font-family: 'Roboto Condensed'; font-stretch: condensed; fill: #e6e6e6\">o</tspan>\n",
       "       <tspan x=\"37.163086\" y=\"-0.390625\" style=\"font-size: 10px; font-family: 'Roboto Condensed'; font-stretch: condensed; fill: #e6e6e6\">f</tspan>\n",
       "       <tspan x=\"40.327148\" y=\"-0.390625\" style=\"font-size: 10px; font-family: 'Roboto Condensed'; font-stretch: condensed; fill: #e6e6e6\"> </tspan>\n",
       "       <tspan x=\"42.617188\" y=\"-0.390625\" style=\"font-size: 10px; font-family: 'Roboto Condensed'; font-stretch: condensed; fill: #e6e6e6\">e</tspan>\n",
       "       <tspan x=\"47.299805\" y=\"-0.390625\" style=\"font-size: 10px; font-family: 'Roboto Condensed'; font-stretch: condensed; fill: #e6e6e6\">d</tspan>\n",
       "       <tspan x=\"52.260742\" y=\"-0.390625\" style=\"font-size: 10px; font-family: 'Roboto Condensed'; font-stretch: condensed; fill: #e6e6e6\">g</tspan>\n",
       "       <tspan x=\"57.1875\" y=\"-0.390625\" style=\"font-size: 10px; font-family: 'Roboto Condensed'; font-stretch: condensed; fill: #e6e6e6\">e</tspan>\n",
       "       <tspan x=\"61.870117\" y=\"-0.390625\" style=\"font-size: 10px; font-family: 'Roboto Condensed'; font-stretch: condensed; fill: #e6e6e6\">s</tspan>\n",
       "       <tspan x=\"66.425781\" y=\"-0.390625\" style=\"font-size: 10px; font-family: 'Roboto Condensed'; font-stretch: condensed; fill: #e6e6e6\"> </tspan>\n",
       "       <tspan x=\"68.71582\" y=\"-0.390625\" style=\"font-size: 10px; font-family: 'Roboto Condensed'; font-stretch: condensed; fill: #e6e6e6\">n</tspan>\n",
       "       <tspan x=\"73.554688\" y=\"-0.390625\" style=\"font-size: 10px; font-family: 'Roboto Condensed'; font-stretch: condensed; fill: #e6e6e6\">o</tspan>\n",
       "       <tspan x=\"78.574219\" y=\"-0.390625\" style=\"font-size: 10px; font-family: 'Roboto Condensed'; font-stretch: condensed; fill: #e6e6e6\">t</tspan>\n",
       "       <tspan x=\"81.52832\" y=\"-0.390625\" style=\"font-size: 10px; font-family: 'Roboto Condensed'; font-stretch: condensed; fill: #e6e6e6\"> </tspan>\n",
       "       <tspan x=\"83.818359\" y=\"-0.390625\" style=\"font-size: 10px; font-family: 'Roboto Condensed'; font-stretch: condensed; fill: #e6e6e6\">i</tspan>\n",
       "       <tspan x=\"86.108398\" y=\"-0.390625\" style=\"font-size: 10px; font-family: 'Roboto Condensed'; font-stretch: condensed; fill: #e6e6e6\">n</tspan>\n",
       "       <tspan x=\"90.947266\" y=\"-0.390625\" style=\"font-size: 10px; font-family: 'Roboto Condensed'; font-stretch: condensed; fill: #e6e6e6\">c</tspan>\n",
       "       <tspan x=\"95.566406\" y=\"-0.390625\" style=\"font-size: 10px; font-family: 'Roboto Condensed'; font-stretch: condensed; fill: #e6e6e6\">l</tspan>\n",
       "       <tspan x=\"97.856445\" y=\"-0.390625\" style=\"font-size: 10px; font-family: 'Roboto Condensed'; font-stretch: condensed; fill: #e6e6e6\">u</tspan>\n",
       "       <tspan x=\"102.69043\" y=\"-0.390625\" style=\"font-size: 10px; font-family: 'Roboto Condensed'; font-stretch: condensed; fill: #e6e6e6\">d</tspan>\n",
       "       <tspan x=\"107.651367\" y=\"-0.390625\" style=\"font-size: 10px; font-family: 'Roboto Condensed'; font-stretch: condensed; fill: #e6e6e6\">e</tspan>\n",
       "       <tspan x=\"112.333984\" y=\"-0.390625\" style=\"font-size: 10px; font-family: 'Roboto Condensed'; font-stretch: condensed; fill: #e6e6e6\">d</tspan>\n",
       "       <tspan x=\"117.294922\" y=\"-0.390625\" style=\"font-size: 10px; font-family: 'Roboto Condensed'; font-stretch: condensed; fill: #e6e6e6\"> </tspan>\n",
       "       <tspan x=\"119.584961\" y=\"-0.390625\" style=\"font-size: 10px; font-family: 'Roboto Condensed'; font-stretch: condensed; fill: #e6e6e6\">i</tspan>\n",
       "       <tspan x=\"121.875\" y=\"-0.390625\" style=\"font-size: 10px; font-family: 'Roboto Condensed'; font-stretch: condensed; fill: #e6e6e6\">n</tspan>\n",
       "       <tspan x=\"126.713867\" y=\"-0.390625\" style=\"font-size: 10px; font-family: 'Roboto Condensed'; font-stretch: condensed; fill: #e6e6e6\"> </tspan>\n",
       "       <tspan x=\"129.003906\" y=\"-0.390625\" style=\"font-size: 10px; font-family: 'Roboto Condensed'; font-stretch: condensed; fill: #e6e6e6\">t</tspan>\n",
       "       <tspan x=\"131.958008\" y=\"-0.390625\" style=\"font-size: 10px; font-family: 'Roboto Condensed'; font-stretch: condensed; fill: #e6e6e6\">h</tspan>\n",
       "       <tspan x=\"136.787109\" y=\"-0.390625\" style=\"font-size: 10px; font-family: 'Roboto Condensed'; font-stretch: condensed; fill: #e6e6e6\">e</tspan>\n",
       "       <tspan x=\"141.469727\" y=\"-0.390625\" style=\"font-size: 10px; font-family: 'Roboto Condensed'; font-stretch: condensed; fill: #e6e6e6\"> </tspan>\n",
       "       <tspan x=\"143.759766\" y=\"-0.390625\" style=\"font-size: 10px; font-family: 'Roboto Condensed'; font-stretch: condensed; fill: #e6e6e6\">s</tspan>\n",
       "       <tspan x=\"148.31543\" y=\"-0.390625\" style=\"font-size: 10px; font-family: 'Roboto Condensed'; font-stretch: condensed; fill: #e6e6e6\">p</tspan>\n",
       "       <tspan x=\"153.24707\" y=\"-0.390625\" style=\"font-size: 10px; font-family: 'Roboto Condensed'; font-stretch: condensed; fill: #e6e6e6\">a</tspan>\n",
       "       <tspan x=\"158.037109\" y=\"-0.390625\" style=\"font-size: 10px; font-family: 'Roboto Condensed'; font-stretch: condensed; fill: #e6e6e6\">r</tspan>\n",
       "       <tspan x=\"161.079102\" y=\"-0.390625\" style=\"font-size: 10px; font-family: 'Roboto Condensed'; font-stretch: condensed; fill: #e6e6e6\">s</tspan>\n",
       "       <tspan x=\"165.634766\" y=\"-0.390625\" style=\"font-size: 10px; font-family: 'Roboto Condensed'; font-stretch: condensed; fill: #e6e6e6\">i</tspan>\n",
       "       <tspan x=\"167.924805\" y=\"-0.390625\" style=\"font-size: 10px; font-family: 'Roboto Condensed'; font-stretch: condensed; fill: #e6e6e6\">f</tspan>\n",
       "       <tspan x=\"171.088867\" y=\"-0.390625\" style=\"font-size: 10px; font-family: 'Roboto Condensed'; font-stretch: condensed; fill: #e6e6e6\">i</tspan>\n",
       "       <tspan x=\"173.378906\" y=\"-0.390625\" style=\"font-size: 10px; font-family: 'Roboto Condensed'; font-stretch: condensed; fill: #e6e6e6\">e</tspan>\n",
       "       <tspan x=\"178.061523\" y=\"-0.390625\" style=\"font-size: 10px; font-family: 'Roboto Condensed'; font-stretch: condensed; fill: #e6e6e6\">d</tspan>\n",
       "       <tspan x=\"183.022461\" y=\"-0.390625\" style=\"font-size: 10px; font-family: 'Roboto Condensed'; font-stretch: condensed; fill: #e6e6e6\"> </tspan>\n",
       "       <tspan x=\"185.3125\" y=\"-0.390625\" style=\"font-size: 10px; font-family: 'Roboto Condensed'; font-stretch: condensed; fill: #e6e6e6\">s</tspan>\n",
       "       <tspan x=\"189.868164\" y=\"-0.390625\" style=\"font-size: 10px; font-family: 'Roboto Condensed'; font-stretch: condensed; fill: #e6e6e6\">e</tspan>\n",
       "       <tspan x=\"194.550781\" y=\"-0.390625\" style=\"font-size: 10px; font-family: 'Roboto Condensed'; font-stretch: condensed; fill: #e6e6e6\">t</tspan>\n",
       "       <tspan x=\"197.504883\" y=\"-0.390625\" style=\"font-size: 10px; font-family: 'Roboto Condensed'; font-stretch: condensed; fill: #e6e6e6\"> </tspan>\n",
       "       <tspan x=\"199.794922\" y=\"-0.390625\" style=\"font-style: oblique; font-size: 10px; font-family: 'DejaVu Sans'; fill: #e6e6e6\">A</tspan>\n",
       "      </text>\n",
       "     </g>\n",
       "    </g>\n",
       "   </g>\n",
       "   <g id=\"matplotlib.axis_2\">\n",
       "    <g id=\"ytick_1\">\n",
       "     <g id=\"line2d_15\">\n",
       "      <path d=\"M 34.103125 193.48875 \n",
       "L 508.32 193.48875 \n",
       "\" clip-path=\"url(#p5e19b1b89a)\" style=\"fill: none; stroke: #010409; stroke-width: 1.7; stroke-linecap: round\"/>\n",
       "     </g>\n",
       "     <g id=\"line2d_16\"/>\n",
       "     <g id=\"text_9\">\n",
       "      <text style=\"font-size: 10px; font-family: 'Roboto Condensed', sans-serif; text-anchor: end; fill: #e6e6e6\" x=\"30.603125\" y=\"197.23875\" transform=\"rotate(-0 30.603125 197.23875)\">0</text>\n",
       "     </g>\n",
       "    </g>\n",
       "    <g id=\"ytick_2\">\n",
       "     <g id=\"line2d_17\">\n",
       "      <path d=\"M 34.103125 166.093346 \n",
       "L 508.32 166.093346 \n",
       "\" clip-path=\"url(#p5e19b1b89a)\" style=\"fill: none; stroke: #010409; stroke-width: 1.7; stroke-linecap: round\"/>\n",
       "     </g>\n",
       "     <g id=\"line2d_18\"/>\n",
       "     <g id=\"text_10\">\n",
       "      <text style=\"font-size: 10px; font-family: 'Roboto Condensed', sans-serif; text-anchor: end; fill: #e6e6e6\" x=\"30.603125\" y=\"169.843346\" transform=\"rotate(-0 30.603125 169.843346)\">5</text>\n",
       "     </g>\n",
       "    </g>\n",
       "    <g id=\"ytick_3\">\n",
       "     <g id=\"line2d_19\">\n",
       "      <path d=\"M 34.103125 138.697941 \n",
       "L 508.32 138.697941 \n",
       "\" clip-path=\"url(#p5e19b1b89a)\" style=\"fill: none; stroke: #010409; stroke-width: 1.7; stroke-linecap: round\"/>\n",
       "     </g>\n",
       "     <g id=\"line2d_20\"/>\n",
       "     <g id=\"text_11\">\n",
       "      <text style=\"font-size: 10px; font-family: 'Roboto Condensed', sans-serif; text-anchor: end; fill: #e6e6e6\" x=\"30.603125\" y=\"142.447941\" transform=\"rotate(-0 30.603125 142.447941)\">10</text>\n",
       "     </g>\n",
       "    </g>\n",
       "    <g id=\"ytick_4\">\n",
       "     <g id=\"line2d_21\">\n",
       "      <path d=\"M 34.103125 111.302537 \n",
       "L 508.32 111.302537 \n",
       "\" clip-path=\"url(#p5e19b1b89a)\" style=\"fill: none; stroke: #010409; stroke-width: 1.7; stroke-linecap: round\"/>\n",
       "     </g>\n",
       "     <g id=\"line2d_22\"/>\n",
       "     <g id=\"text_12\">\n",
       "      <text style=\"font-size: 10px; font-family: 'Roboto Condensed', sans-serif; text-anchor: end; fill: #e6e6e6\" x=\"30.603125\" y=\"115.052537\" transform=\"rotate(-0 30.603125 115.052537)\">15</text>\n",
       "     </g>\n",
       "    </g>\n",
       "    <g id=\"ytick_5\">\n",
       "     <g id=\"line2d_23\">\n",
       "      <path d=\"M 34.103125 83.907132 \n",
       "L 508.32 83.907132 \n",
       "\" clip-path=\"url(#p5e19b1b89a)\" style=\"fill: none; stroke: #010409; stroke-width: 1.7; stroke-linecap: round\"/>\n",
       "     </g>\n",
       "     <g id=\"line2d_24\"/>\n",
       "     <g id=\"text_13\">\n",
       "      <text style=\"font-size: 10px; font-family: 'Roboto Condensed', sans-serif; text-anchor: end; fill: #e6e6e6\" x=\"30.603125\" y=\"87.657132\" transform=\"rotate(-0 30.603125 87.657132)\">20</text>\n",
       "     </g>\n",
       "    </g>\n",
       "    <g id=\"ytick_6\">\n",
       "     <g id=\"line2d_25\">\n",
       "      <path d=\"M 34.103125 56.511728 \n",
       "L 508.32 56.511728 \n",
       "\" clip-path=\"url(#p5e19b1b89a)\" style=\"fill: none; stroke: #010409; stroke-width: 1.7; stroke-linecap: round\"/>\n",
       "     </g>\n",
       "     <g id=\"line2d_26\"/>\n",
       "     <g id=\"text_14\">\n",
       "      <text style=\"font-size: 10px; font-family: 'Roboto Condensed', sans-serif; text-anchor: end; fill: #e6e6e6\" x=\"30.603125\" y=\"60.261728\" transform=\"rotate(-0 30.603125 60.261728)\">25</text>\n",
       "     </g>\n",
       "    </g>\n",
       "    <g id=\"ytick_7\">\n",
       "     <g id=\"line2d_27\">\n",
       "      <path d=\"M 34.103125 29.116324 \n",
       "L 508.32 29.116324 \n",
       "\" clip-path=\"url(#p5e19b1b89a)\" style=\"fill: none; stroke: #010409; stroke-width: 1.7; stroke-linecap: round\"/>\n",
       "     </g>\n",
       "     <g id=\"line2d_28\"/>\n",
       "     <g id=\"text_15\">\n",
       "      <text style=\"font-size: 10px; font-family: 'Roboto Condensed', sans-serif; text-anchor: end; fill: #e6e6e6\" x=\"30.603125\" y=\"32.866324\" transform=\"rotate(-0 30.603125 32.866324)\">30</text>\n",
       "     </g>\n",
       "    </g>\n",
       "    <g id=\"text_16\">\n",
       "     <text style=\"font-size: 10px; font-family: 'Roboto Condensed', sans-serif; text-anchor: middle; fill: #e6e6e6\" x=\"14.7\" y=\"100.344375\" transform=\"rotate(-90 14.7 100.344375)\">% of instances</text>\n",
       "    </g>\n",
       "   </g>\n",
       "   <g id=\"patch_3\">\n",
       "    <path d=\"M 43.22268 193.48875 \n",
       "L 96.867123 193.48875 \n",
       "L 96.867123 10.852721 \n",
       "L 43.22268 10.852721 \n",
       "z\n",
       "\" clip-path=\"url(#p5e19b1b89a)\" style=\"fill: #1f77b4\"/>\n",
       "   </g>\n",
       "   <g id=\"patch_4\">\n",
       "    <path d=\"M 110.278234 193.48875 \n",
       "L 163.922677 193.48875 \n",
       "L 163.922677 32.540749 \n",
       "L 110.278234 32.540749 \n",
       "z\n",
       "\" clip-path=\"url(#p5e19b1b89a)\" style=\"fill: #1f77b4\"/>\n",
       "   </g>\n",
       "   <g id=\"patch_5\">\n",
       "    <path d=\"M 177.333787 193.48875 \n",
       "L 230.97823 193.48875 \n",
       "L 230.97823 77.058281 \n",
       "L 177.333787 77.058281 \n",
       "z\n",
       "\" clip-path=\"url(#p5e19b1b89a)\" style=\"fill: #1f77b4\"/>\n",
       "   </g>\n",
       "   <g id=\"patch_6\">\n",
       "    <path d=\"M 244.389341 193.48875 \n",
       "L 298.033784 193.48875 \n",
       "L 298.033784 127.283189 \n",
       "L 244.389341 127.283189 \n",
       "z\n",
       "\" clip-path=\"url(#p5e19b1b89a)\" style=\"fill: #1f77b4\"/>\n",
       "   </g>\n",
       "   <g id=\"patch_7\">\n",
       "    <path d=\"M 311.444895 193.48875 \n",
       "L 365.089338 193.48875 \n",
       "L 365.089338 176.366622 \n",
       "L 311.444895 176.366622 \n",
       "z\n",
       "\" clip-path=\"url(#p5e19b1b89a)\" style=\"fill: #1f77b4\"/>\n",
       "   </g>\n",
       "   <g id=\"patch_8\">\n",
       "    <path d=\"M 378.500448 193.48875 \n",
       "L 432.144891 193.48875 \n",
       "L 432.144891 190.064324 \n",
       "L 378.500448 190.064324 \n",
       "z\n",
       "\" clip-path=\"url(#p5e19b1b89a)\" style=\"fill: #1f77b4\"/>\n",
       "   </g>\n",
       "   <g id=\"patch_9\">\n",
       "    <path d=\"M 445.556002 193.48875 \n",
       "L 499.200445 193.48875 \n",
       "L 499.200445 192.347275 \n",
       "L 445.556002 192.347275 \n",
       "z\n",
       "\" clip-path=\"url(#p5e19b1b89a)\" style=\"fill: #1f77b4\"/>\n",
       "   </g>\n",
       "   <g id=\"patch_10\">\n",
       "    <path d=\"M 34.103125 193.48875 \n",
       "L 34.103125 7.2 \n",
       "\" style=\"fill: none\"/>\n",
       "   </g>\n",
       "   <g id=\"patch_11\">\n",
       "    <path d=\"M 508.32 193.48875 \n",
       "L 508.32 7.2 \n",
       "\" style=\"fill: none\"/>\n",
       "   </g>\n",
       "   <g id=\"patch_12\">\n",
       "    <path d=\"M 34.103125 193.48875 \n",
       "L 508.32 193.48875 \n",
       "\" style=\"fill: none\"/>\n",
       "   </g>\n",
       "   <g id=\"patch_13\">\n",
       "    <path d=\"M 34.103125 7.2 \n",
       "L 508.32 7.2 \n",
       "\" style=\"fill: none\"/>\n",
       "   </g>\n",
       "  </g>\n",
       " </g>\n",
       " <defs>\n",
       "  <clipPath id=\"p5e19b1b89a\">\n",
       "   <rect x=\"34.103125\" y=\"7.2\" width=\"474.216875\" height=\"186.28875\"/>\n",
       "  </clipPath>\n",
       " </defs>\n",
       "</svg>\n"
      ],
      "text/plain": [
       "<Figure size 2520x1080 with 1 Axes>"
      ]
     },
     "metadata": {},
     "output_type": "display_data"
    }
   ],
   "source": [
    "plt.bar(num_rogues_range, 100*np.array(count_per_num_rogues)/num_instances);\n",
    "plt.xlabel('number of edges not included in the sparsified set $A$')\n",
    "plt.ylabel('% of instances');"
   ]
  },
  {
   "cell_type": "code",
   "execution_count": 24,
   "id": "0096912a-cb61-4649-a138-476850a9ee87",
   "metadata": {},
   "outputs": [],
   "source": [
    "bench_pct_per_num_rogues = 100*np.array(count_per_num_rogues)/num_instances"
   ]
  },
  {
   "cell_type": "code",
   "execution_count": 25,
   "id": "650613d2-35b2-4823-b3f4-20d55efddcd3",
   "metadata": {},
   "outputs": [
    {
     "data": {
      "image/svg+xml": [
       "<?xml version=\"1.0\" encoding=\"utf-8\" standalone=\"no\"?>\n",
       "<!DOCTYPE svg PUBLIC \"-//W3C//DTD SVG 1.1//EN\"\n",
       "  \"http://www.w3.org/Graphics/SVG/1.1/DTD/svg11.dtd\">\n",
       "<svg xmlns:xlink=\"http://www.w3.org/1999/xlink\" width=\"315.36pt\" height=\"41.80449pt\" viewBox=\"0 0 315.36 41.80449\" xmlns=\"http://www.w3.org/2000/svg\" version=\"1.1\">\n",
       " <metadata>\n",
       "  <rdf:RDF xmlns:dc=\"http://purl.org/dc/elements/1.1/\" xmlns:cc=\"http://creativecommons.org/ns#\" xmlns:rdf=\"http://www.w3.org/1999/02/22-rdf-syntax-ns#\">\n",
       "   <cc:Work>\n",
       "    <dc:type rdf:resource=\"http://purl.org/dc/dcmitype/StillImage\"/>\n",
       "    <dc:date>2025-03-10T10:34:12.602149</dc:date>\n",
       "    <dc:format>image/svg+xml</dc:format>\n",
       "    <dc:creator>\n",
       "     <cc:Agent>\n",
       "      <dc:title>Matplotlib v3.10.1, https://matplotlib.org/</dc:title>\n",
       "     </cc:Agent>\n",
       "    </dc:creator>\n",
       "   </cc:Work>\n",
       "  </rdf:RDF>\n",
       " </metadata>\n",
       " <defs>\n",
       "  <style type=\"text/css\">*{stroke-linejoin: round; stroke-linecap: butt}</style>\n",
       " </defs>\n",
       " <g id=\"figure_1\">\n",
       "  <g id=\"patch_1\">\n",
       "   <path d=\"M 0 41.80449 \n",
       "L 315.36 41.80449 \n",
       "L 315.36 0 \n",
       "L 0 0 \n",
       "z\n",
       "\" style=\"fill: #ffffff\"/>\n",
       "  </g>\n",
       "  <g id=\"axes_1\">\n",
       "   <g id=\"patch_2\">\n",
       "    <path d=\"M 7.2 34.293583 \n",
       "L 107.52 34.293583 \n",
       "L 107.52 18.74825 \n",
       "L 7.2 18.74825 \n",
       "z\n",
       "\" clip-path=\"url(#pd792864e49)\" style=\"fill: #006400; stroke: #ffffff; stroke-linejoin: miter\"/>\n",
       "   </g>\n",
       "   <g id=\"patch_3\">\n",
       "    <path d=\"M 107.52 34.293583 \n",
       "L 195.927 34.293583 \n",
       "L 195.927 18.74825 \n",
       "L 107.52 18.74825 \n",
       "z\n",
       "\" clip-path=\"url(#pd792864e49)\" style=\"fill: #ff8c00; stroke: #ffffff; stroke-linejoin: miter\"/>\n",
       "   </g>\n",
       "   <g id=\"patch_4\">\n",
       "    <path d=\"M 195.927 34.293583 \n",
       "L 259.881 34.293583 \n",
       "L 259.881 18.74825 \n",
       "L 195.927 18.74825 \n",
       "z\n",
       "\" clip-path=\"url(#pd792864e49)\" style=\"fill: #4169e1; stroke: #ffffff; stroke-linejoin: miter\"/>\n",
       "   </g>\n",
       "   <g id=\"patch_5\">\n",
       "    <path d=\"M 259.881 34.293583 \n",
       "L 296.247 34.293583 \n",
       "L 296.247 18.74825 \n",
       "L 259.881 18.74825 \n",
       "z\n",
       "\" clip-path=\"url(#pd792864e49)\" style=\"fill: #b22222; stroke: #ffffff; stroke-linejoin: miter\"/>\n",
       "   </g>\n",
       "   <g id=\"patch_6\">\n",
       "    <path d=\"M 296.247 34.293583 \n",
       "L 308.16 34.293583 \n",
       "L 308.16 18.74825 \n",
       "L 296.247 18.74825 \n",
       "z\n",
       "\" clip-path=\"url(#pd792864e49)\" style=\"fill: #9932cc; stroke: #ffffff; stroke-linejoin: miter\"/>\n",
       "   </g>\n",
       "   <g id=\"text_1\">\n",
       "    <text style=\"font-size: 8.33px; font-family: 'Roboto Condensed', sans-serif; text-anchor: middle; fill: #ffffff\" x=\"57.36\" y=\"28.798651\" transform=\"rotate(-0 57.36 28.798651)\">33%</text>\n",
       "   </g>\n",
       "   <g id=\"text_2\">\n",
       "    <text style=\"font-size: 8.33px; font-family: 'Roboto Condensed', sans-serif; text-anchor: middle; fill: #ffffff\" x=\"151.7235\" y=\"28.798651\" transform=\"rotate(-0 151.7235 28.798651)\">29%</text>\n",
       "   </g>\n",
       "   <g id=\"text_3\">\n",
       "    <text style=\"font-size: 8.33px; font-family: 'Roboto Condensed', sans-serif; text-anchor: middle; fill: #ffffff\" x=\"227.904\" y=\"28.798651\" transform=\"rotate(-0 227.904 28.798651)\">21%</text>\n",
       "   </g>\n",
       "   <g id=\"text_4\">\n",
       "    <text style=\"font-size: 8.33px; font-family: 'Roboto Condensed', sans-serif; text-anchor: middle; fill: #ffffff\" x=\"278.064\" y=\"28.798651\" transform=\"rotate(-0 278.064 28.798651)\">12%</text>\n",
       "   </g>\n",
       "   <g id=\"text_5\">\n",
       "    <text style=\"font-size: 8.33px; font-family: 'Roboto Condensed', sans-serif; text-anchor: middle; fill: #ffffff\" x=\"302.2035\" y=\"28.798651\" transform=\"rotate(-0 302.2035 28.798651)\">4%</text>\n",
       "   </g>\n",
       "   <g id=\"text_6\">\n",
       "    <text style=\"font-size: 12px; font-family: 'Roboto Condensed', sans-serif; text-anchor: middle\" x=\"57.36\" y=\"16.2\" transform=\"rotate(-0 57.36 16.2)\">0</text>\n",
       "   </g>\n",
       "   <g id=\"text_7\">\n",
       "    <text style=\"font-size: 12px; font-family: 'Roboto Condensed', sans-serif; text-anchor: middle\" x=\"151.7235\" y=\"16.2\" transform=\"rotate(-0 151.7235 16.2)\">1</text>\n",
       "   </g>\n",
       "   <g id=\"text_8\">\n",
       "    <text style=\"font-size: 12px; font-family: 'Roboto Condensed', sans-serif; text-anchor: middle\" x=\"227.904\" y=\"16.2\" transform=\"rotate(-0 227.904 16.2)\">2</text>\n",
       "   </g>\n",
       "   <g id=\"text_9\">\n",
       "    <text style=\"font-size: 12px; font-family: 'Roboto Condensed', sans-serif; text-anchor: middle\" x=\"278.064\" y=\"16.2\" transform=\"rotate(-0 278.064 16.2)\">3</text>\n",
       "   </g>\n",
       "   <g id=\"text_10\">\n",
       "    <text style=\"font-size: 12px; font-family: 'Roboto Condensed', sans-serif; text-anchor: middle\" x=\"302.2035\" y=\"16.2\" transform=\"rotate(-0 302.2035 16.2)\">4+</text>\n",
       "   </g>\n",
       "  </g>\n",
       " </g>\n",
       " <defs>\n",
       "  <clipPath id=\"pd792864e49\">\n",
       "   <rect x=\"7.2\" y=\"18.437343\" width=\"300.96\" height=\"16.167146\"/>\n",
       "  </clipPath>\n",
       " </defs>\n",
       "</svg>\n"
      ],
      "text/plain": [
       "<Figure size 806.4x76.8 with 1 Axes>"
      ]
     },
     "metadata": {},
     "output_type": "display_data"
    }
   ],
   "source": [
    "with plt.style.context('pub_paperfarm'):\n",
    "    fig, ax = plt.subplots(figsize=(4.2, 0.4), frameon=True, facecolor='w')\n",
    "    values = list(chain(bench_pct_per_num_rogues[:4],\n",
    "                  (sum(bench_pct_per_num_rogues[4:]),)))\n",
    "    tags = '0', '1', '2', '3', '4+'\n",
    "    colors = 'darkgreen', 'darkorange', 'royalblue', 'firebrick', 'darkorchid'\n",
    "    limits = list(accumulate(values, initial=0))\n",
    "    centers = [(a + b)/2 for a, b in pairwise(limits)]\n",
    "    ax.barh(0, values, left=limits[:-1], color=colors, edgecolor='white')\n",
    "    value_tags = [ax.text(x, 0, f'{v:.0f}%',\n",
    "                          color='white', fontsize='small',\n",
    "                          verticalalignment='center',\n",
    "                          horizontalalignment='center') for v, x in zip(values, centers)]\n",
    "    label_tags = [ax.text(x, 0.7, s,\n",
    "                          fontsize='large',\n",
    "                          verticalalignment='center',\n",
    "                          horizontalalignment='center') for s, x in zip(tags, centers)]\n",
    "    ax.axis(False)\n",
    "    ax.set_xlim(0, 100)\n",
    "    ax.figure.savefig('XML100_480_edges_not_in_A.pdf')"
   ]
  },
  {
   "cell_type": "code",
   "execution_count": 26,
   "id": "53ddcbbd-258a-4c4f-a857-eb91c2152312",
   "metadata": {},
   "outputs": [
    {
     "data": {
      "text/plain": [
       "0.0125"
      ]
     },
     "execution_count": 26,
     "metadata": {},
     "output_type": "execute_result"
    }
   ],
   "source": [
    "# this counts feeders in num_total_edges\n",
    "num_total_rogues/num_total_edges"
   ]
  },
  {
   "cell_type": "markdown",
   "id": "02f4562f-43ab-4553-ae90-969a4e434283",
   "metadata": {
    "deletable": true,
    "editable": true,
    "frozen": false
   },
   "source": [
    "## Check the rogues >= 4 offenders"
   ]
  },
  {
   "cell_type": "code",
   "execution_count": 27,
   "id": "e9106f2f-3b06-48f8-8f42-4a1995adb99f",
   "metadata": {},
   "outputs": [
    {
     "data": {
      "image/svg+xml": [
       "<svg xmlns=\"http://www.w3.org/2000/svg\" viewBox=\"0 0 1920 1080\"><defs ><filter x=\"-5%\" y=\"-5%\" id=\"bg_textbox\" width=\"110%\" height=\"110%\"><feFlood flood-opacity=\"0.7\" flood-color=\"#111\" result=\"bg\"/><feMerge ><feMergeNode in=\"bg\"/><feMergeNode in=\"SourceGraphic\"/></feMerge></filter><circle stroke=\"none\" stroke-width=\"2\" id=\"wtg\" r=\"12\"/><rect stroke=\"none\" stroke-width=\"2\" id=\"oss\" width=\"21\" height=\"21\" fill=\"lawngreen\"/></defs><g id=\"L_from_site\"><path stroke=\"silver\" stroke-dasharray=\"15 7\" stroke-width=\"2\" id=\"border\" d=\"M30 1050 1050 1050 1050 30 30 30z\" fill-rule=\"evenodd\" fill=\"#111\"/><g stroke=\"crimson\" stroke-width=\"4\" id=\"edges_unspecified\"><line x1=\"809\" y1=\"790\" x2=\"844\" y2=\"628\"/><line x1=\"855\" y1=\"521\" x2=\"844\" y2=\"628\"/><line x1=\"844\" y1=\"523\" x2=\"855\" y2=\"521\"/><line x1=\"844\" y1=\"523\" x2=\"816\" y2=\"499\"/><line x1=\"809\" y1=\"790\" x2=\"908\" y2=\"813\"/><line x1=\"809\" y1=\"790\" x2=\"789\" y2=\"626\"/><line x1=\"655\" y1=\"583\" x2=\"620\" y2=\"582\"/><line x1=\"602\" y1=\"615\" x2=\"620\" y2=\"582\"/><line x1=\"561\" y1=\"649\" x2=\"602\" y2=\"615\"/><line x1=\"206\" y1=\"490\" x2=\"211\" y2=\"453\"/><line x1=\"206\" y1=\"490\" x2=\"192\" y2=\"512\"/><line x1=\"252\" y1=\"581\" x2=\"192\" y2=\"512\"/><line x1=\"136\" y1=\"371\" x2=\"141\" y2=\"412\"/><line x1=\"74\" y1=\"332\" x2=\"136\" y2=\"371\"/><line x1=\"74\" y1=\"332\" x2=\"56\" y2=\"498\"/><line x1=\"87\" y1=\"163\" x2=\"140\" y2=\"132\"/><line x1=\"254\" y1=\"54\" x2=\"140\" y2=\"132\"/><line x1=\"263\" y1=\"85\" x2=\"254\" y2=\"54\"/><line x1=\"748\" y1=\"531\" x2=\"789\" y2=\"626\"/><line x1=\"748\" y1=\"531\" x2=\"722\" y2=\"494\"/><line x1=\"722\" y1=\"494\" x2=\"756\" y2=\"586\"/><line x1=\"239\" y1=\"363\" x2=\"179\" y2=\"317\"/><line x1=\"193\" y1=\"331\" x2=\"179\" y2=\"317\"/><line x1=\"950\" y1=\"1019\" x2=\"927\" y2=\"1012\"/><line x1=\"948\" y1=\"1032\" x2=\"950\" y2=\"1019\"/><line x1=\"948\" y1=\"1032\" x2=\"1007\" y2=\"1045\"/><line x1=\"1034\" y1=\"445\" x2=\"935\" y2=\"294\"/><line x1=\"877\" y1=\"367\" x2=\"935\" y2=\"294\"/><line x1=\"885\" y1=\"482\" x2=\"877\" y2=\"367\"/><line x1=\"554\" y1=\"78\" x2=\"542\" y2=\"47\"/><line x1=\"554\" y1=\"78\" x2=\"548\" y2=\"255\"/><line x1=\"381\" y1=\"980\" x2=\"287\" y2=\"1042\"/><line x1=\"326\" y1=\"1029\" x2=\"287\" y2=\"1042\"/><line x1=\"326\" y1=\"1029\" x2=\"530\" y2=\"1020\"/><line x1=\"648\" y1=\"217\" x2=\"695\" y2=\"245\"/><line x1=\"766\" y1=\"325\" x2=\"695\" y2=\"245\"/><line x1=\"766\" y1=\"325\" x2=\"747\" y2=\"362\"/><line x1=\"332\" y1=\"540\" x2=\"477\" y2=\"544\"/><line x1=\"332\" y1=\"540\" x2=\"358\" y2=\"567\"/><line x1=\"412\" y1=\"602\" x2=\"358\" y2=\"567\"/><line x1=\"46\" y1=\"1036\" x2=\"125\" y2=\"1021\"/><line x1=\"46\" y1=\"1036\" x2=\"50\" y2=\"1033\"/><line x1=\"268\" y1=\"814\" x2=\"50\" y2=\"1033\"/><line x1=\"915\" y1=\"57\" x2=\"866\" y2=\"68\"/><line x1=\"915\" y1=\"57\" x2=\"1017\" y2=\"156\"/><line x1=\"1043\" y1=\"173\" x2=\"1017\" y2=\"156\"/><line x1=\"339\" y1=\"450\" x2=\"304\" y2=\"491\"/><line x1=\"339\" y1=\"450\" x2=\"357\" y2=\"406\"/><line x1=\"433\" y1=\"462\" x2=\"357\" y2=\"406\"/><line x1=\"545\" y1=\"449\" x2=\"580\" y2=\"414\"/><line x1=\"545\" y1=\"449\" x2=\"545\" y2=\"555\"/><line x1=\"545\" y1=\"555\" x2=\"535\" y2=\"592\"/><line x1=\"65\" y1=\"803\" x2=\"201\" y2=\"772\"/><line x1=\"65\" y1=\"803\" x2=\"59\" y2=\"816\"/><line x1=\"60\" y1=\"825\" x2=\"59\" y2=\"816\"/><line x1=\"908\" y1=\"813\" x2=\"989\" y2=\"661\"/><line x1=\"989\" y1=\"661\" x2=\"986\" y2=\"620\"/><line x1=\"883\" y1=\"608\" x2=\"986\" y2=\"620\"/><line x1=\"431\" y1=\"877\" x2=\"459\" y2=\"858\"/><line x1=\"472\" y1=\"852\" x2=\"459\" y2=\"858\"/><line x1=\"843\" y1=\"217\" x2=\"830\" y2=\"213\"/><line x1=\"843\" y1=\"217\" x2=\"931\" y2=\"186\"/><line x1=\"931\" y1=\"186\" x2=\"908\" y2=\"235\"/><line x1=\"716\" y1=\"965\" x2=\"808\" y2=\"1048\"/><line x1=\"716\" y1=\"965\" x2=\"685\" y2=\"860\"/><line x1=\"801\" y1=\"796\" x2=\"685\" y2=\"860\"/><line x1=\"342\" y1=\"174\" x2=\"290\" y2=\"191\"/><line x1=\"342\" y1=\"174\" x2=\"346\" y2=\"91\"/><line x1=\"346\" y1=\"91\" x2=\"362\" y2=\"161\"/><line x1=\"550\" y1=\"837\" x2=\"611\" y2=\"846\"/><line x1=\"416\" y1=\"696\" x2=\"394\" y2=\"697\"/><line x1=\"53\" y1=\"656\" x2=\"250\" y2=\"620\"/><line x1=\"53\" y1=\"656\" x2=\"89\" y2=\"746\"/><line x1=\"153\" y1=\"710\" x2=\"89\" y2=\"746\"/></g><g stroke=\"red\" stroke-dasharray=\"18 15\" stroke-width=\"4\" id=\"edges_tentative\"><line x1=\"809\" y1=\"790\" x2=\"655\" y2=\"583\"/><line x1=\"809\" y1=\"790\" x2=\"211\" y2=\"453\"/><line x1=\"809\" y1=\"790\" x2=\"87\" y2=\"163\"/><line x1=\"809\" y1=\"790\" x2=\"239\" y2=\"363\"/><line x1=\"809\" y1=\"790\" x2=\"830\" y2=\"213\"/><line x1=\"809\" y1=\"790\" x2=\"808\" y2=\"1048\"/><line x1=\"809\" y1=\"790\" x2=\"611\" y2=\"846\"/><line x1=\"809\" y1=\"790\" x2=\"484\" y2=\"314\"/><line x1=\"809\" y1=\"790\" x2=\"201\" y2=\"772\"/><line x1=\"809\" y1=\"790\" x2=\"1034\" y2=\"445\"/><line x1=\"809\" y1=\"790\" x2=\"125\" y2=\"1021\"/><line x1=\"809\" y1=\"790\" x2=\"580\" y2=\"414\"/><line x1=\"809\" y1=\"790\" x2=\"250\" y2=\"620\"/><line x1=\"809\" y1=\"790\" x2=\"304\" y2=\"491\"/><line x1=\"809\" y1=\"790\" x2=\"290\" y2=\"191\"/><line x1=\"809\" y1=\"790\" x2=\"141\" y2=\"412\"/><line x1=\"809\" y1=\"790\" x2=\"927\" y2=\"1012\"/><line x1=\"809\" y1=\"790\" x2=\"477\" y2=\"544\"/><line x1=\"809\" y1=\"790\" x2=\"866\" y2=\"68\"/><line x1=\"809\" y1=\"790\" x2=\"381\" y2=\"980\"/><line x1=\"809\" y1=\"790\" x2=\"611\" y2=\"876\"/><line x1=\"809\" y1=\"790\" x2=\"648\" y2=\"217\"/></g><g stroke=\"yellow\" stroke-dasharray=\"25 5\" stroke-width=\"4\" id=\"edges_rogue\"><line x1=\"257\" y1=\"388\" x2=\"193\" y2=\"331\"/><line x1=\"484\" y1=\"314\" x2=\"542\" y2=\"47\"/><line x1=\"431\" y1=\"877\" x2=\"611\" y2=\"876\"/><line x1=\"550\" y1=\"837\" x2=\"394\" y2=\"697\"/></g><g id=\"WTGgrp\"><g fill=\"#1f77b4\"><use href=\"#wtg\" x=\"844\" y=\"628\"/><use href=\"#wtg\" x=\"855\" y=\"521\"/><use href=\"#wtg\" x=\"844\" y=\"523\"/><use href=\"#wtg\" x=\"816\" y=\"499\"/></g><g fill=\"#aec7e8\"><use href=\"#wtg\" x=\"655\" y=\"583\"/><use href=\"#wtg\" x=\"620\" y=\"582\"/><use href=\"#wtg\" x=\"602\" y=\"615\"/><use href=\"#wtg\" x=\"561\" y=\"649\"/></g><g fill=\"#ff7f0e\"><use href=\"#wtg\" x=\"211\" y=\"453\"/><use href=\"#wtg\" x=\"206\" y=\"490\"/><use href=\"#wtg\" x=\"192\" y=\"512\"/><use href=\"#wtg\" x=\"252\" y=\"581\"/></g><g fill=\"#ffbb78\"><use href=\"#wtg\" x=\"141\" y=\"412\"/><use href=\"#wtg\" x=\"136\" y=\"371\"/><use href=\"#wtg\" x=\"74\" y=\"332\"/><use href=\"#wtg\" x=\"56\" y=\"498\"/></g><g fill=\"#2ca02c\"><use href=\"#wtg\" x=\"87\" y=\"163\"/><use href=\"#wtg\" x=\"140\" y=\"132\"/><use href=\"#wtg\" x=\"254\" y=\"54\"/><use href=\"#wtg\" x=\"263\" y=\"85\"/></g><g fill=\"#98df8a\"><use href=\"#wtg\" x=\"789\" y=\"626\"/><use href=\"#wtg\" x=\"748\" y=\"531\"/><use href=\"#wtg\" x=\"722\" y=\"494\"/><use href=\"#wtg\" x=\"756\" y=\"586\"/></g><g fill=\"#d62728\"><use href=\"#wtg\" x=\"239\" y=\"363\"/><use href=\"#wtg\" x=\"179\" y=\"317\"/><use href=\"#wtg\" x=\"193\" y=\"331\"/><use href=\"#wtg\" x=\"257\" y=\"388\"/></g><g fill=\"#ff9896\"><use href=\"#wtg\" x=\"927\" y=\"1012\"/><use href=\"#wtg\" x=\"950\" y=\"1019\"/><use href=\"#wtg\" x=\"948\" y=\"1032\"/><use href=\"#wtg\" x=\"1007\" y=\"1045\"/></g><g fill=\"#9467bd\"><use href=\"#wtg\" x=\"1034\" y=\"445\"/><use href=\"#wtg\" x=\"935\" y=\"294\"/><use href=\"#wtg\" x=\"877\" y=\"367\"/><use href=\"#wtg\" x=\"885\" y=\"482\"/></g><g fill=\"#c5b0d5\"><use href=\"#wtg\" x=\"484\" y=\"314\"/><use href=\"#wtg\" x=\"542\" y=\"47\"/><use href=\"#wtg\" x=\"554\" y=\"78\"/><use href=\"#wtg\" x=\"548\" y=\"255\"/></g><g fill=\"#8c564b\"><use href=\"#wtg\" x=\"381\" y=\"980\"/><use href=\"#wtg\" x=\"287\" y=\"1042\"/><use href=\"#wtg\" x=\"326\" y=\"1029\"/><use href=\"#wtg\" x=\"530\" y=\"1020\"/></g><g fill=\"#c49c94\"><use href=\"#wtg\" x=\"648\" y=\"217\"/><use href=\"#wtg\" x=\"695\" y=\"245\"/><use href=\"#wtg\" x=\"766\" y=\"325\"/><use href=\"#wtg\" x=\"747\" y=\"362\"/></g><g fill=\"#e377c2\"><use href=\"#wtg\" x=\"477\" y=\"544\"/><use href=\"#wtg\" x=\"332\" y=\"540\"/><use href=\"#wtg\" x=\"358\" y=\"567\"/><use href=\"#wtg\" x=\"412\" y=\"602\"/></g><g fill=\"#f7b6d2\"><use href=\"#wtg\" x=\"125\" y=\"1021\"/><use href=\"#wtg\" x=\"46\" y=\"1036\"/><use href=\"#wtg\" x=\"50\" y=\"1033\"/><use href=\"#wtg\" x=\"268\" y=\"814\"/></g><g fill=\"#7f7f7f\"><use href=\"#wtg\" x=\"866\" y=\"68\"/><use href=\"#wtg\" x=\"915\" y=\"57\"/><use href=\"#wtg\" x=\"1017\" y=\"156\"/><use href=\"#wtg\" x=\"1043\" y=\"173\"/></g><g fill=\"#c7c7c7\"><use href=\"#wtg\" x=\"304\" y=\"491\"/><use href=\"#wtg\" x=\"339\" y=\"450\"/><use href=\"#wtg\" x=\"357\" y=\"406\"/><use href=\"#wtg\" x=\"433\" y=\"462\"/></g><g fill=\"#bcbd22\"><use href=\"#wtg\" x=\"580\" y=\"414\"/><use href=\"#wtg\" x=\"545\" y=\"449\"/><use href=\"#wtg\" x=\"545\" y=\"555\"/><use href=\"#wtg\" x=\"535\" y=\"592\"/></g><g fill=\"#dbdb8d\"><use href=\"#wtg\" x=\"201\" y=\"772\"/><use href=\"#wtg\" x=\"65\" y=\"803\"/><use href=\"#wtg\" x=\"59\" y=\"816\"/><use href=\"#wtg\" x=\"60\" y=\"825\"/></g><g fill=\"#17becf\"><use href=\"#wtg\" x=\"908\" y=\"813\"/><use href=\"#wtg\" x=\"989\" y=\"661\"/><use href=\"#wtg\" x=\"986\" y=\"620\"/><use href=\"#wtg\" x=\"883\" y=\"608\"/></g><g fill=\"#9edae5\"><use href=\"#wtg\" x=\"611\" y=\"876\"/><use href=\"#wtg\" x=\"431\" y=\"877\"/><use href=\"#wtg\" x=\"459\" y=\"858\"/><use href=\"#wtg\" x=\"472\" y=\"852\"/></g><g fill=\"#1f77b4\"><use href=\"#wtg\" x=\"830\" y=\"213\"/><use href=\"#wtg\" x=\"843\" y=\"217\"/><use href=\"#wtg\" x=\"931\" y=\"186\"/><use href=\"#wtg\" x=\"908\" y=\"235\"/></g><g fill=\"#aec7e8\"><use href=\"#wtg\" x=\"808\" y=\"1048\"/><use href=\"#wtg\" x=\"716\" y=\"965\"/><use href=\"#wtg\" x=\"685\" y=\"860\"/><use href=\"#wtg\" x=\"801\" y=\"796\"/></g><g fill=\"#ff7f0e\"><use href=\"#wtg\" x=\"290\" y=\"191\"/><use href=\"#wtg\" x=\"342\" y=\"174\"/><use href=\"#wtg\" x=\"346\" y=\"91\"/><use href=\"#wtg\" x=\"362\" y=\"161\"/></g><g fill=\"#ffbb78\"><use href=\"#wtg\" x=\"611\" y=\"846\"/><use href=\"#wtg\" x=\"550\" y=\"837\"/><use href=\"#wtg\" x=\"394\" y=\"697\"/><use href=\"#wtg\" x=\"416\" y=\"696\"/></g><g fill=\"#2ca02c\"><use href=\"#wtg\" x=\"250\" y=\"620\"/><use href=\"#wtg\" x=\"53\" y=\"656\"/><use href=\"#wtg\" x=\"89\" y=\"746\"/><use href=\"#wtg\" x=\"153\" y=\"710\"/></g></g><g id=\"OSSgrp\"><use href=\"#oss\" x=\"798.5\" y=\"779.5\"/></g></g><text stroke=\"#000\" stroke-width=\"0.01em\" text-anchor=\"end\" font-family=\"sans-serif\" font-size=\"40\" fill=\"white\" x=\"1050\" y=\"1050\"><tspan x=\"1050\" dy=\"-0.0em\">&#931;&#955; = 18154.0 m</tspan><tspan x=\"1050\" dy=\"-1.3em\">(+0) &#945;: 25</tspan><tspan x=\"1050\" dy=\"-1.3em\">&#954; = 4, T = 100</tspan></text></svg>"
      ],
      "text/plain": [
       "<interarray.svg.SvgRepr at 0x1c8eb14ede0>"
      ]
     },
     "metadata": {},
     "output_type": "display_data"
    },
    {
     "data": {
      "image/svg+xml": [
       "<svg xmlns=\"http://www.w3.org/2000/svg\" viewBox=\"0 0 1920 1080\"><defs ><filter x=\"-5%\" y=\"-5%\" id=\"bg_textbox\" width=\"110%\" height=\"110%\"><feFlood flood-opacity=\"0.7\" flood-color=\"#111\" result=\"bg\"/><feMerge ><feMergeNode in=\"bg\"/><feMergeNode in=\"SourceGraphic\"/></feMerge></filter><circle stroke=\"none\" stroke-width=\"2\" id=\"wtg\" r=\"12\"/><rect stroke=\"none\" stroke-width=\"2\" id=\"oss\" width=\"21\" height=\"21\" fill=\"lawngreen\"/></defs><g id=\"L_from_site\"><path stroke=\"silver\" stroke-dasharray=\"15 7\" stroke-width=\"2\" id=\"border\" d=\"M30 1050 1050 1050 1050 30 30 30z\" fill-rule=\"evenodd\" fill=\"#111\"/><g stroke=\"crimson\" stroke-width=\"4\" id=\"edges_unspecified\"><line x1=\"552\" y1=\"893\" x2=\"544\" y2=\"1013\"/><line x1=\"544\" y1=\"1013\" x2=\"573\" y2=\"992\"/><line x1=\"726\" y1=\"1014\" x2=\"573\" y2=\"992\"/><line x1=\"731\" y1=\"1021\" x2=\"726\" y2=\"1014\"/><line x1=\"795\" y1=\"1005\" x2=\"731\" y2=\"1021\"/><line x1=\"891\" y1=\"133\" x2=\"823\" y2=\"282\"/><line x1=\"891\" y1=\"133\" x2=\"932\" y2=\"140\"/><line x1=\"823\" y1=\"701\" x2=\"838\" y2=\"637\"/><line x1=\"820\" y1=\"730\" x2=\"823\" y2=\"701\"/><line x1=\"820\" y1=\"730\" x2=\"827\" y2=\"747\"/><line x1=\"827\" y1=\"747\" x2=\"840\" y2=\"779\"/><line x1=\"766\" y1=\"402\" x2=\"797\" y2=\"332\"/><line x1=\"766\" y1=\"402\" x2=\"799\" y2=\"417\"/><line x1=\"862\" y1=\"457\" x2=\"799\" y2=\"417\"/><line x1=\"912\" y1=\"436\" x2=\"862\" y2=\"457\"/><line x1=\"908\" y1=\"434\" x2=\"912\" y2=\"436\"/><line x1=\"576\" y1=\"431\" x2=\"504\" y2=\"444\"/><line x1=\"504\" y1=\"444\" x2=\"445\" y2=\"578\"/><line x1=\"458\" y1=\"579\" x2=\"445\" y2=\"578\"/><line x1=\"458\" y1=\"579\" x2=\"533\" y2=\"650\"/><line x1=\"584\" y1=\"579\" x2=\"533\" y2=\"650\"/><line x1=\"624\" y1=\"779\" x2=\"614\" y2=\"650\"/><line x1=\"624\" y1=\"779\" x2=\"657\" y2=\"785\"/><line x1=\"680\" y1=\"752\" x2=\"657\" y2=\"785\"/><line x1=\"680\" y1=\"752\" x2=\"715\" y2=\"763\"/><line x1=\"718\" y1=\"635\" x2=\"715\" y2=\"763\"/><line x1=\"269\" y1=\"748\" x2=\"221\" y2=\"822\"/><line x1=\"221\" y1=\"822\" x2=\"152\" y2=\"809\"/><line x1=\"164\" y1=\"770\" x2=\"152\" y2=\"809\"/><line x1=\"164\" y1=\"770\" x2=\"99\" y2=\"745\"/><line x1=\"99\" y1=\"745\" x2=\"178\" y2=\"644\"/><line x1=\"1022\" y1=\"174\" x2=\"932\" y2=\"140\"/><line x1=\"1022\" y1=\"174\" x2=\"1033\" y2=\"200\"/><line x1=\"928\" y1=\"257\" x2=\"1033\" y2=\"200\"/><line x1=\"928\" y1=\"257\" x2=\"905\" y2=\"300\"/><line x1=\"905\" y1=\"300\" x2=\"886\" y2=\"233\"/><line x1=\"474\" y1=\"429\" x2=\"338\" y2=\"506\"/><line x1=\"338\" y1=\"506\" x2=\"290\" y2=\"487\"/><line x1=\"309\" y1=\"427\" x2=\"290\" y2=\"487\"/><line x1=\"309\" y1=\"427\" x2=\"347\" y2=\"368\"/><line x1=\"347\" y1=\"368\" x2=\"589\" y2=\"272\"/><line x1=\"379\" y1=\"680\" x2=\"373\" y2=\"723\"/><line x1=\"444\" y1=\"818\" x2=\"373\" y2=\"723\"/><line x1=\"462\" y1=\"797\" x2=\"444\" y2=\"818\"/><line x1=\"492\" y1=\"828\" x2=\"462\" y2=\"797\"/><line x1=\"552\" y1=\"673\" x2=\"492\" y2=\"828\"/><line x1=\"1012\" y1=\"38\" x2=\"982\" y2=\"44\"/><line x1=\"927\" y1=\"75\" x2=\"982\" y2=\"44\"/><line x1=\"927\" y1=\"75\" x2=\"914\" y2=\"87\"/><line x1=\"200\" y1=\"596\" x2=\"304\" y2=\"539\"/><line x1=\"200\" y1=\"596\" x2=\"141\" y2=\"582\"/><line x1=\"128\" y1=\"579\" x2=\"141\" y2=\"582\"/><line x1=\"128\" y1=\"579\" x2=\"136\" y2=\"514\"/><line x1=\"998\" y1=\"618\" x2=\"983\" y2=\"449\"/><line x1=\"987\" y1=\"702\" x2=\"998\" y2=\"618\"/><line x1=\"987\" y1=\"702\" x2=\"993\" y2=\"735\"/><line x1=\"995\" y1=\"738\" x2=\"993\" y2=\"735\"/><line x1=\"995\" y1=\"738\" x2=\"1040\" y2=\"508\"/><line x1=\"573\" y1=\"137\" x2=\"560\" y2=\"62\"/><line x1=\"573\" y1=\"137\" x2=\"525\" y2=\"178\"/><line x1=\"525\" y1=\"178\" x2=\"610\" y2=\"186\"/><line x1=\"610\" y1=\"186\" x2=\"652\" y2=\"162\"/><line x1=\"757\" y1=\"136\" x2=\"652\" y2=\"162\"/><line x1=\"725\" y1=\"825\" x2=\"913\" y2=\"958\"/><line x1=\"1039\" y1=\"900\" x2=\"913\" y2=\"958\"/><line x1=\"1039\" y1=\"900\" x2=\"1047\" y2=\"893\"/><line x1=\"994\" y1=\"811\" x2=\"1047\" y2=\"893\"/><line x1=\"931\" y1=\"678\" x2=\"994\" y2=\"811\"/><line x1=\"823\" y1=\"282\" x2=\"815\" y2=\"293\"/><line x1=\"789\" y1=\"241\" x2=\"815\" y2=\"293\"/><line x1=\"789\" y1=\"241\" x2=\"794\" y2=\"222\"/><line x1=\"804\" y1=\"65\" x2=\"786\" y2=\"49\"/><line x1=\"231\" y1=\"334\" x2=\"96\" y2=\"301\"/><line x1=\"96\" y1=\"301\" x2=\"200\" y2=\"172\"/><line x1=\"319\" y1=\"124\" x2=\"200\" y2=\"172\"/><line x1=\"314\" y1=\"97\" x2=\"319\" y2=\"124\"/><line x1=\"118\" y1=\"988\" x2=\"93\" y2=\"949\"/><line x1=\"317\" y1=\"931\" x2=\"118\" y2=\"988\"/><line x1=\"317\" y1=\"931\" x2=\"342\" y2=\"954\"/><line x1=\"341\" y1=\"876\" x2=\"342\" y2=\"954\"/><line x1=\"350\" y1=\"840\" x2=\"341\" y2=\"876\"/></g><g stroke=\"red\" stroke-dasharray=\"18 15\" stroke-width=\"4\" id=\"edges_tentative\"><line x1=\"891\" y1=\"133\" x2=\"552\" y2=\"893\"/><line x1=\"891\" y1=\"133\" x2=\"1012\" y2=\"38\"/><line x1=\"891\" y1=\"133\" x2=\"576\" y2=\"431\"/><line x1=\"891\" y1=\"133\" x2=\"797\" y2=\"332\"/><line x1=\"891\" y1=\"133\" x2=\"304\" y2=\"539\"/><line x1=\"891\" y1=\"133\" x2=\"614\" y2=\"650\"/><line x1=\"891\" y1=\"133\" x2=\"379\" y2=\"680\"/><line x1=\"891\" y1=\"133\" x2=\"838\" y2=\"637\"/><line x1=\"891\" y1=\"133\" x2=\"725\" y2=\"825\"/><line x1=\"891\" y1=\"133\" x2=\"560\" y2=\"62\"/><line x1=\"891\" y1=\"133\" x2=\"93\" y2=\"949\"/><line x1=\"891\" y1=\"133\" x2=\"474\" y2=\"429\"/><line x1=\"891\" y1=\"133\" x2=\"269\" y2=\"748\"/><line x1=\"891\" y1=\"133\" x2=\"983\" y2=\"449\"/><line x1=\"891\" y1=\"133\" x2=\"405\" y2=\"220\"/></g><g stroke=\"yellow\" stroke-dasharray=\"25 5\" stroke-width=\"4\" id=\"edges_rogue\"><line x1=\"902\" y1=\"601\" x2=\"840\" y2=\"779\"/><line x1=\"136\" y1=\"514\" x2=\"287\" y2=\"342\"/><line x1=\"794\" y1=\"222\" x2=\"786\" y2=\"49\"/><line x1=\"405\" y1=\"220\" x2=\"231\" y2=\"334\"/></g><g id=\"WTGgrp\"><g fill=\"#1f77b4\"><use href=\"#wtg\" x=\"552\" y=\"893\"/><use href=\"#wtg\" x=\"544\" y=\"1013\"/><use href=\"#wtg\" x=\"573\" y=\"992\"/><use href=\"#wtg\" x=\"726\" y=\"1014\"/><use href=\"#wtg\" x=\"731\" y=\"1021\"/><use href=\"#wtg\" x=\"795\" y=\"1005\"/></g><g fill=\"#aec7e8\"><use href=\"#wtg\" x=\"838\" y=\"637\"/><use href=\"#wtg\" x=\"823\" y=\"701\"/><use href=\"#wtg\" x=\"820\" y=\"730\"/><use href=\"#wtg\" x=\"827\" y=\"747\"/><use href=\"#wtg\" x=\"840\" y=\"779\"/><use href=\"#wtg\" x=\"902\" y=\"601\"/></g><g fill=\"#ff7f0e\"><use href=\"#wtg\" x=\"797\" y=\"332\"/><use href=\"#wtg\" x=\"766\" y=\"402\"/><use href=\"#wtg\" x=\"799\" y=\"417\"/><use href=\"#wtg\" x=\"862\" y=\"457\"/><use href=\"#wtg\" x=\"912\" y=\"436\"/><use href=\"#wtg\" x=\"908\" y=\"434\"/></g><g fill=\"#ffbb78\"><use href=\"#wtg\" x=\"576\" y=\"431\"/><use href=\"#wtg\" x=\"504\" y=\"444\"/><use href=\"#wtg\" x=\"445\" y=\"578\"/><use href=\"#wtg\" x=\"458\" y=\"579\"/><use href=\"#wtg\" x=\"533\" y=\"650\"/><use href=\"#wtg\" x=\"584\" y=\"579\"/></g><g fill=\"#2ca02c\"><use href=\"#wtg\" x=\"614\" y=\"650\"/><use href=\"#wtg\" x=\"624\" y=\"779\"/><use href=\"#wtg\" x=\"657\" y=\"785\"/><use href=\"#wtg\" x=\"680\" y=\"752\"/><use href=\"#wtg\" x=\"715\" y=\"763\"/><use href=\"#wtg\" x=\"718\" y=\"635\"/></g><g fill=\"#98df8a\"><use href=\"#wtg\" x=\"269\" y=\"748\"/><use href=\"#wtg\" x=\"221\" y=\"822\"/><use href=\"#wtg\" x=\"152\" y=\"809\"/><use href=\"#wtg\" x=\"164\" y=\"770\"/><use href=\"#wtg\" x=\"99\" y=\"745\"/><use href=\"#wtg\" x=\"178\" y=\"644\"/></g><g fill=\"#d62728\"><use href=\"#wtg\" x=\"932\" y=\"140\"/><use href=\"#wtg\" x=\"1022\" y=\"174\"/><use href=\"#wtg\" x=\"1033\" y=\"200\"/><use href=\"#wtg\" x=\"928\" y=\"257\"/><use href=\"#wtg\" x=\"905\" y=\"300\"/><use href=\"#wtg\" x=\"886\" y=\"233\"/></g><g fill=\"#ff9896\"><use href=\"#wtg\" x=\"474\" y=\"429\"/><use href=\"#wtg\" x=\"338\" y=\"506\"/><use href=\"#wtg\" x=\"290\" y=\"487\"/><use href=\"#wtg\" x=\"309\" y=\"427\"/><use href=\"#wtg\" x=\"347\" y=\"368\"/><use href=\"#wtg\" x=\"589\" y=\"272\"/></g><g fill=\"#9467bd\"><use href=\"#wtg\" x=\"379\" y=\"680\"/><use href=\"#wtg\" x=\"373\" y=\"723\"/><use href=\"#wtg\" x=\"444\" y=\"818\"/><use href=\"#wtg\" x=\"462\" y=\"797\"/><use href=\"#wtg\" x=\"492\" y=\"828\"/><use href=\"#wtg\" x=\"552\" y=\"673\"/></g><g fill=\"#c5b0d5\"><use href=\"#wtg\" x=\"1012\" y=\"38\"/><use href=\"#wtg\" x=\"982\" y=\"44\"/><use href=\"#wtg\" x=\"927\" y=\"75\"/><use href=\"#wtg\" x=\"914\" y=\"87\"/></g><g fill=\"#8c564b\"><use href=\"#wtg\" x=\"304\" y=\"539\"/><use href=\"#wtg\" x=\"200\" y=\"596\"/><use href=\"#wtg\" x=\"141\" y=\"582\"/><use href=\"#wtg\" x=\"128\" y=\"579\"/><use href=\"#wtg\" x=\"136\" y=\"514\"/><use href=\"#wtg\" x=\"287\" y=\"342\"/></g><g fill=\"#c49c94\"><use href=\"#wtg\" x=\"983\" y=\"449\"/><use href=\"#wtg\" x=\"998\" y=\"618\"/><use href=\"#wtg\" x=\"987\" y=\"702\"/><use href=\"#wtg\" x=\"993\" y=\"735\"/><use href=\"#wtg\" x=\"995\" y=\"738\"/><use href=\"#wtg\" x=\"1040\" y=\"508\"/></g><g fill=\"#e377c2\"><use href=\"#wtg\" x=\"560\" y=\"62\"/><use href=\"#wtg\" x=\"573\" y=\"137\"/><use href=\"#wtg\" x=\"525\" y=\"178\"/><use href=\"#wtg\" x=\"610\" y=\"186\"/><use href=\"#wtg\" x=\"652\" y=\"162\"/><use href=\"#wtg\" x=\"757\" y=\"136\"/></g><g fill=\"#f7b6d2\"><use href=\"#wtg\" x=\"725\" y=\"825\"/><use href=\"#wtg\" x=\"913\" y=\"958\"/><use href=\"#wtg\" x=\"1039\" y=\"900\"/><use href=\"#wtg\" x=\"1047\" y=\"893\"/><use href=\"#wtg\" x=\"994\" y=\"811\"/><use href=\"#wtg\" x=\"931\" y=\"678\"/></g><g fill=\"#7f7f7f\"><use href=\"#wtg\" x=\"823\" y=\"282\"/><use href=\"#wtg\" x=\"815\" y=\"293\"/><use href=\"#wtg\" x=\"789\" y=\"241\"/><use href=\"#wtg\" x=\"794\" y=\"222\"/><use href=\"#wtg\" x=\"786\" y=\"49\"/><use href=\"#wtg\" x=\"804\" y=\"65\"/></g><g fill=\"#c7c7c7\"><use href=\"#wtg\" x=\"405\" y=\"220\"/><use href=\"#wtg\" x=\"231\" y=\"334\"/><use href=\"#wtg\" x=\"96\" y=\"301\"/><use href=\"#wtg\" x=\"200\" y=\"172\"/><use href=\"#wtg\" x=\"319\" y=\"124\"/><use href=\"#wtg\" x=\"314\" y=\"97\"/></g><g fill=\"#bcbd22\"><use href=\"#wtg\" x=\"93\" y=\"949\"/><use href=\"#wtg\" x=\"118\" y=\"988\"/><use href=\"#wtg\" x=\"317\" y=\"931\"/><use href=\"#wtg\" x=\"342\" y=\"954\"/><use href=\"#wtg\" x=\"341\" y=\"876\"/><use href=\"#wtg\" x=\"350\" y=\"840\"/></g></g><g id=\"OSSgrp\"><use href=\"#oss\" x=\"880.5\" y=\"122.5\"/></g></g><text stroke=\"#000\" stroke-width=\"0.01em\" text-anchor=\"end\" font-family=\"sans-serif\" font-size=\"40\" fill=\"white\" x=\"1050\" y=\"1050\"><tspan x=\"1050\" dy=\"-0.0em\">&#931;&#955; = 15499.0 m</tspan><tspan x=\"1050\" dy=\"-1.3em\">(+0) &#945;: 17</tspan><tspan x=\"1050\" dy=\"-1.3em\">&#954; = 6, T = 100</tspan></text></svg>"
      ],
      "text/plain": [
       "<interarray.svg.SvgRepr at 0x1c8eb319d00>"
      ]
     },
     "metadata": {},
     "output_type": "display_data"
    },
    {
     "data": {
      "image/svg+xml": [
       "<svg xmlns=\"http://www.w3.org/2000/svg\" viewBox=\"0 0 1920 1080\"><defs ><filter x=\"-5%\" y=\"-5%\" id=\"bg_textbox\" width=\"110%\" height=\"110%\"><feFlood flood-opacity=\"0.7\" flood-color=\"#111\" result=\"bg\"/><feMerge ><feMergeNode in=\"bg\"/><feMergeNode in=\"SourceGraphic\"/></feMerge></filter><circle stroke=\"none\" stroke-width=\"2\" id=\"wtg\" r=\"12\"/><rect stroke=\"none\" stroke-width=\"2\" id=\"oss\" width=\"21\" height=\"21\" fill=\"lawngreen\"/></defs><g id=\"L_from_site\"><path stroke=\"silver\" stroke-dasharray=\"15 7\" stroke-width=\"2\" id=\"border\" d=\"M30 1050 1050 1050 1050 30 30 30z\" fill-rule=\"evenodd\" fill=\"#111\"/><g stroke=\"crimson\" stroke-width=\"4\" id=\"edges_unspecified\"><line x1=\"936\" y1=\"531\" x2=\"955\" y2=\"528\"/><line x1=\"1048\" y1=\"500\" x2=\"955\" y2=\"528\"/><line x1=\"1048\" y1=\"500\" x2=\"826\" y2=\"321\"/><line x1=\"142\" y1=\"534\" x2=\"256\" y2=\"502\"/><line x1=\"70\" y1=\"338\" x2=\"142\" y2=\"534\"/><line x1=\"80\" y1=\"285\" x2=\"70\" y2=\"338\"/><line x1=\"80\" y1=\"285\" x2=\"46\" y2=\"239\"/><line x1=\"46\" y1=\"239\" x2=\"65\" y2=\"196\"/><line x1=\"65\" y1=\"196\" x2=\"97\" y2=\"93\"/><line x1=\"144\" y1=\"75\" x2=\"97\" y2=\"93\"/><line x1=\"144\" y1=\"75\" x2=\"165\" y2=\"96\"/><line x1=\"173\" y1=\"154\" x2=\"165\" y2=\"96\"/><line x1=\"173\" y1=\"154\" x2=\"218\" y2=\"76\"/><line x1=\"332\" y1=\"78\" x2=\"218\" y2=\"76\"/><line x1=\"332\" y1=\"78\" x2=\"385\" y2=\"76\"/><line x1=\"495\" y1=\"213\" x2=\"385\" y2=\"76\"/><line x1=\"850\" y1=\"635\" x2=\"695\" y2=\"706\"/><line x1=\"695\" y1=\"706\" x2=\"669\" y2=\"721\"/><line x1=\"669\" y1=\"721\" x2=\"633\" y2=\"745\"/><line x1=\"616\" y1=\"764\" x2=\"633\" y2=\"745\"/><line x1=\"616\" y1=\"764\" x2=\"595\" y2=\"802\"/><line x1=\"700\" y1=\"882\" x2=\"595\" y2=\"802\"/><line x1=\"788\" y1=\"935\" x2=\"700\" y2=\"882\"/><line x1=\"788\" y1=\"935\" x2=\"806\" y2=\"915\"/><line x1=\"907\" y1=\"1043\" x2=\"806\" y2=\"915\"/><line x1=\"907\" y1=\"1043\" x2=\"950\" y2=\"926\"/><line x1=\"985\" y1=\"919\" x2=\"950\" y2=\"926\"/><line x1=\"985\" y1=\"919\" x2=\"937\" y2=\"846\"/><line x1=\"990\" y1=\"668\" x2=\"937\" y2=\"846\"/><line x1=\"248\" y1=\"652\" x2=\"408\" y2=\"611\"/><line x1=\"248\" y1=\"652\" x2=\"41\" y2=\"746\"/><line x1=\"81\" y1=\"824\" x2=\"41\" y2=\"746\"/><line x1=\"81\" y1=\"824\" x2=\"42\" y2=\"964\"/><line x1=\"42\" y1=\"964\" x2=\"52\" y2=\"1042\"/><line x1=\"82\" y1=\"936\" x2=\"52\" y2=\"1042\"/><line x1=\"82\" y1=\"936\" x2=\"115\" y2=\"881\"/><line x1=\"170\" y1=\"883\" x2=\"115\" y2=\"881\"/><line x1=\"170\" y1=\"883\" x2=\"183\" y2=\"824\"/><line x1=\"222\" y1=\"745\" x2=\"183\" y2=\"824\"/><line x1=\"222\" y1=\"745\" x2=\"417\" y2=\"753\"/><line x1=\"547\" y1=\"770\" x2=\"417\" y2=\"753\"/><line x1=\"495\" y1=\"275\" x2=\"397\" y2=\"291\"/><line x1=\"397\" y1=\"291\" x2=\"329\" y2=\"264\"/><line x1=\"329\" y1=\"264\" x2=\"299\" y2=\"297\"/><line x1=\"299\" y1=\"297\" x2=\"226\" y2=\"292\"/><line x1=\"191\" y1=\"300\" x2=\"226\" y2=\"292\"/><line x1=\"191\" y1=\"300\" x2=\"228\" y2=\"388\"/><line x1=\"228\" y1=\"388\" x2=\"354\" y2=\"395\"/><line x1=\"375\" y1=\"424\" x2=\"354\" y2=\"395\"/><line x1=\"375\" y1=\"424\" x2=\"458\" y2=\"387\"/><line x1=\"459\" y1=\"353\" x2=\"458\" y2=\"387\"/><line x1=\"459\" y1=\"353\" x2=\"496\" y2=\"341\"/><line x1=\"663\" y1=\"437\" x2=\"496\" y2=\"341\"/><line x1=\"513\" y1=\"953\" x2=\"534\" y2=\"908\"/><line x1=\"513\" y1=\"953\" x2=\"425\" y2=\"893\"/><line x1=\"312\" y1=\"853\" x2=\"425\" y2=\"893\"/><line x1=\"262\" y1=\"935\" x2=\"312\" y2=\"853\"/><line x1=\"262\" y1=\"935\" x2=\"296\" y2=\"957\"/><line x1=\"296\" y1=\"957\" x2=\"374\" y2=\"1034\"/><line x1=\"374\" y1=\"1034\" x2=\"509\" y2=\"1036\"/><line x1=\"584\" y1=\"1032\" x2=\"509\" y2=\"1036\"/><line x1=\"584\" y1=\"1032\" x2=\"604\" y2=\"1036\"/><line x1=\"633\" y1=\"996\" x2=\"604\" y2=\"1036\"/><line x1=\"831\" y1=\"849\" x2=\"853\" y2=\"798\"/><line x1=\"906\" y1=\"670\" x2=\"853\" y2=\"798\"/><line x1=\"737\" y1=\"614\" x2=\"886\" y2=\"545\"/><line x1=\"737\" y1=\"614\" x2=\"669\" y2=\"602\"/><line x1=\"588\" y1=\"604\" x2=\"669\" y2=\"602\"/><line x1=\"588\" y1=\"604\" x2=\"501\" y2=\"590\"/><line x1=\"491\" y1=\"582\" x2=\"501\" y2=\"590\"/><line x1=\"466\" y1=\"592\" x2=\"491\" y2=\"582\"/><line x1=\"466\" y1=\"592\" x2=\"421\" y2=\"522\"/><line x1=\"421\" y1=\"522\" x2=\"407\" y2=\"509\"/><line x1=\"476\" y1=\"419\" x2=\"407\" y2=\"509\"/><line x1=\"476\" y1=\"419\" x2=\"529\" y2=\"477\"/><line x1=\"609\" y1=\"510\" x2=\"529\" y2=\"477\"/><line x1=\"609\" y1=\"510\" x2=\"638\" y2=\"531\"/><line x1=\"826\" y1=\"321\" x2=\"722\" y2=\"335\"/><line x1=\"638\" y1=\"290\" x2=\"722\" y2=\"335\"/><line x1=\"593\" y1=\"211\" x2=\"638\" y2=\"290\"/><line x1=\"593\" y1=\"211\" x2=\"576\" y2=\"193\"/><line x1=\"576\" y1=\"193\" x2=\"556\" y2=\"203\"/><line x1=\"556\" y1=\"203\" x2=\"533\" y2=\"38\"/><line x1=\"620\" y1=\"40\" x2=\"533\" y2=\"38\"/><line x1=\"620\" y1=\"40\" x2=\"728\" y2=\"158\"/><line x1=\"728\" y1=\"158\" x2=\"775\" y2=\"205\"/><line x1=\"798\" y1=\"248\" x2=\"775\" y2=\"205\"/><line x1=\"798\" y1=\"248\" x2=\"1028\" y2=\"241\"/><line x1=\"1028\" y1=\"241\" x2=\"1014\" y2=\"325\"/><line x1=\"1006\" y1=\"349\" x2=\"1014\" y2=\"325\"/></g><g stroke=\"red\" stroke-dasharray=\"18 15\" stroke-width=\"4\" id=\"edges_tentative\"><line x1=\"1048\" y1=\"500\" x2=\"408\" y2=\"611\"/><line x1=\"1048\" y1=\"500\" x2=\"256\" y2=\"502\"/><line x1=\"1048\" y1=\"500\" x2=\"850\" y2=\"635\"/><line x1=\"1048\" y1=\"500\" x2=\"810\" y2=\"409\"/><line x1=\"1048\" y1=\"500\" x2=\"534\" y2=\"908\"/><line x1=\"1048\" y1=\"500\" x2=\"886\" y2=\"545\"/></g><g stroke=\"yellow\" stroke-dasharray=\"25 5\" stroke-width=\"4\" id=\"edges_rogue\"><line x1=\"547\" y1=\"770\" x2=\"697\" y2=\"659\"/><line x1=\"495\" y1=\"275\" x2=\"810\" y2=\"409\"/><line x1=\"633\" y1=\"996\" x2=\"831\" y2=\"849\"/><line x1=\"965\" y1=\"464\" x2=\"638\" y2=\"531\"/></g><g id=\"WTGgrp\"><g fill=\"#1f77b4\"><use href=\"#wtg\" x=\"955\" y=\"528\"/><use href=\"#wtg\" x=\"936\" y=\"531\"/></g><g fill=\"#aec7e8\"><use href=\"#wtg\" x=\"256\" y=\"502\"/><use href=\"#wtg\" x=\"142\" y=\"534\"/><use href=\"#wtg\" x=\"70\" y=\"338\"/><use href=\"#wtg\" x=\"80\" y=\"285\"/><use href=\"#wtg\" x=\"46\" y=\"239\"/><use href=\"#wtg\" x=\"65\" y=\"196\"/><use href=\"#wtg\" x=\"97\" y=\"93\"/><use href=\"#wtg\" x=\"144\" y=\"75\"/><use href=\"#wtg\" x=\"165\" y=\"96\"/><use href=\"#wtg\" x=\"173\" y=\"154\"/><use href=\"#wtg\" x=\"218\" y=\"76\"/><use href=\"#wtg\" x=\"332\" y=\"78\"/><use href=\"#wtg\" x=\"385\" y=\"76\"/><use href=\"#wtg\" x=\"495\" y=\"213\"/></g><g fill=\"#ff7f0e\"><use href=\"#wtg\" x=\"850\" y=\"635\"/><use href=\"#wtg\" x=\"695\" y=\"706\"/><use href=\"#wtg\" x=\"669\" y=\"721\"/><use href=\"#wtg\" x=\"633\" y=\"745\"/><use href=\"#wtg\" x=\"616\" y=\"764\"/><use href=\"#wtg\" x=\"595\" y=\"802\"/><use href=\"#wtg\" x=\"700\" y=\"882\"/><use href=\"#wtg\" x=\"788\" y=\"935\"/><use href=\"#wtg\" x=\"806\" y=\"915\"/><use href=\"#wtg\" x=\"907\" y=\"1043\"/><use href=\"#wtg\" x=\"950\" y=\"926\"/><use href=\"#wtg\" x=\"985\" y=\"919\"/><use href=\"#wtg\" x=\"937\" y=\"846\"/><use href=\"#wtg\" x=\"990\" y=\"668\"/></g><g fill=\"#ffbb78\"><use href=\"#wtg\" x=\"408\" y=\"611\"/><use href=\"#wtg\" x=\"248\" y=\"652\"/><use href=\"#wtg\" x=\"41\" y=\"746\"/><use href=\"#wtg\" x=\"81\" y=\"824\"/><use href=\"#wtg\" x=\"42\" y=\"964\"/><use href=\"#wtg\" x=\"52\" y=\"1042\"/><use href=\"#wtg\" x=\"82\" y=\"936\"/><use href=\"#wtg\" x=\"115\" y=\"881\"/><use href=\"#wtg\" x=\"170\" y=\"883\"/><use href=\"#wtg\" x=\"183\" y=\"824\"/><use href=\"#wtg\" x=\"222\" y=\"745\"/><use href=\"#wtg\" x=\"417\" y=\"753\"/><use href=\"#wtg\" x=\"547\" y=\"770\"/><use href=\"#wtg\" x=\"697\" y=\"659\"/></g><g fill=\"#2ca02c\"><use href=\"#wtg\" x=\"810\" y=\"409\"/><use href=\"#wtg\" x=\"495\" y=\"275\"/><use href=\"#wtg\" x=\"397\" y=\"291\"/><use href=\"#wtg\" x=\"329\" y=\"264\"/><use href=\"#wtg\" x=\"299\" y=\"297\"/><use href=\"#wtg\" x=\"226\" y=\"292\"/><use href=\"#wtg\" x=\"191\" y=\"300\"/><use href=\"#wtg\" x=\"228\" y=\"388\"/><use href=\"#wtg\" x=\"354\" y=\"395\"/><use href=\"#wtg\" x=\"375\" y=\"424\"/><use href=\"#wtg\" x=\"458\" y=\"387\"/><use href=\"#wtg\" x=\"459\" y=\"353\"/><use href=\"#wtg\" x=\"496\" y=\"341\"/><use href=\"#wtg\" x=\"663\" y=\"437\"/></g><g fill=\"#98df8a\"><use href=\"#wtg\" x=\"534\" y=\"908\"/><use href=\"#wtg\" x=\"513\" y=\"953\"/><use href=\"#wtg\" x=\"425\" y=\"893\"/><use href=\"#wtg\" x=\"312\" y=\"853\"/><use href=\"#wtg\" x=\"262\" y=\"935\"/><use href=\"#wtg\" x=\"296\" y=\"957\"/><use href=\"#wtg\" x=\"374\" y=\"1034\"/><use href=\"#wtg\" x=\"509\" y=\"1036\"/><use href=\"#wtg\" x=\"584\" y=\"1032\"/><use href=\"#wtg\" x=\"604\" y=\"1036\"/><use href=\"#wtg\" x=\"633\" y=\"996\"/><use href=\"#wtg\" x=\"831\" y=\"849\"/><use href=\"#wtg\" x=\"853\" y=\"798\"/><use href=\"#wtg\" x=\"906\" y=\"670\"/></g><g fill=\"#d62728\"><use href=\"#wtg\" x=\"886\" y=\"545\"/><use href=\"#wtg\" x=\"737\" y=\"614\"/><use href=\"#wtg\" x=\"669\" y=\"602\"/><use href=\"#wtg\" x=\"588\" y=\"604\"/><use href=\"#wtg\" x=\"501\" y=\"590\"/><use href=\"#wtg\" x=\"491\" y=\"582\"/><use href=\"#wtg\" x=\"466\" y=\"592\"/><use href=\"#wtg\" x=\"421\" y=\"522\"/><use href=\"#wtg\" x=\"407\" y=\"509\"/><use href=\"#wtg\" x=\"476\" y=\"419\"/><use href=\"#wtg\" x=\"529\" y=\"477\"/><use href=\"#wtg\" x=\"609\" y=\"510\"/><use href=\"#wtg\" x=\"638\" y=\"531\"/><use href=\"#wtg\" x=\"965\" y=\"464\"/></g><g fill=\"#ff9896\"><use href=\"#wtg\" x=\"826\" y=\"321\"/><use href=\"#wtg\" x=\"722\" y=\"335\"/><use href=\"#wtg\" x=\"638\" y=\"290\"/><use href=\"#wtg\" x=\"593\" y=\"211\"/><use href=\"#wtg\" x=\"576\" y=\"193\"/><use href=\"#wtg\" x=\"556\" y=\"203\"/><use href=\"#wtg\" x=\"533\" y=\"38\"/><use href=\"#wtg\" x=\"620\" y=\"40\"/><use href=\"#wtg\" x=\"728\" y=\"158\"/><use href=\"#wtg\" x=\"775\" y=\"205\"/><use href=\"#wtg\" x=\"798\" y=\"248\"/><use href=\"#wtg\" x=\"1028\" y=\"241\"/><use href=\"#wtg\" x=\"1014\" y=\"325\"/><use href=\"#wtg\" x=\"1006\" y=\"349\"/></g></g><g id=\"OSSgrp\"><use href=\"#oss\" x=\"1037.5\" y=\"489.5\"/></g></g><text stroke=\"#000\" stroke-width=\"0.01em\" text-anchor=\"end\" font-family=\"sans-serif\" font-size=\"40\" fill=\"white\" x=\"1050\" y=\"1050\"><tspan x=\"1050\" dy=\"-0.0em\">&#931;&#955; = 11782.0 m</tspan><tspan x=\"1050\" dy=\"-1.3em\">(+0) &#945;: 8</tspan><tspan x=\"1050\" dy=\"-1.3em\">&#954; = 14, T = 100</tspan></text></svg>"
      ],
      "text/plain": [
       "<interarray.svg.SvgRepr at 0x1c8e93dd5b0>"
      ]
     },
     "metadata": {},
     "output_type": "display_data"
    },
    {
     "data": {
      "image/svg+xml": [
       "<svg xmlns=\"http://www.w3.org/2000/svg\" viewBox=\"0 0 1920 1080\"><defs ><filter x=\"-5%\" y=\"-5%\" id=\"bg_textbox\" width=\"110%\" height=\"110%\"><feFlood flood-opacity=\"0.7\" flood-color=\"#111\" result=\"bg\"/><feMerge ><feMergeNode in=\"bg\"/><feMergeNode in=\"SourceGraphic\"/></feMerge></filter><circle stroke=\"none\" stroke-width=\"2\" id=\"wtg\" r=\"12\"/><rect stroke=\"none\" stroke-width=\"2\" id=\"oss\" width=\"21\" height=\"21\" fill=\"lawngreen\"/></defs><g id=\"L_from_site\"><path stroke=\"silver\" stroke-dasharray=\"15 7\" stroke-width=\"2\" id=\"border\" d=\"M30 1050 1050 1050 1050 30 30 30z\" fill-rule=\"evenodd\" fill=\"#111\"/><g stroke=\"crimson\" stroke-width=\"4\" id=\"edges_unspecified\"><line x1=\"592\" y1=\"875\" x2=\"541\" y2=\"943\"/><line x1=\"442\" y1=\"1019\" x2=\"541\" y2=\"943\"/><line x1=\"442\" y1=\"1019\" x2=\"360\" y2=\"947\"/><line x1=\"296\" y1=\"1010\" x2=\"360\" y2=\"947\"/><line x1=\"296\" y1=\"1010\" x2=\"174\" y2=\"919\"/><line x1=\"174\" y1=\"919\" x2=\"36\" y2=\"879\"/><line x1=\"36\" y1=\"879\" x2=\"85\" y2=\"823\"/><line x1=\"101\" y1=\"830\" x2=\"85\" y2=\"823\"/><line x1=\"112\" y1=\"831\" x2=\"101\" y2=\"830\"/><line x1=\"112\" y1=\"831\" x2=\"169\" y2=\"793\"/><line x1=\"224\" y1=\"856\" x2=\"169\" y2=\"793\"/><line x1=\"224\" y1=\"856\" x2=\"312\" y2=\"850\"/><line x1=\"426\" y1=\"861\" x2=\"312\" y2=\"850\"/><line x1=\"426\" y1=\"861\" x2=\"530\" y2=\"793\"/><line x1=\"929\" y1=\"657\" x2=\"939\" y2=\"662\"/><line x1=\"929\" y1=\"657\" x2=\"905\" y2=\"720\"/><line x1=\"867\" y1=\"824\" x2=\"905\" y2=\"720\"/><line x1=\"867\" y1=\"824\" x2=\"831\" y2=\"864\"/><line x1=\"756\" y1=\"854\" x2=\"831\" y2=\"864\"/><line x1=\"756\" y1=\"854\" x2=\"688\" y2=\"906\"/><line x1=\"647\" y1=\"886\" x2=\"688\" y2=\"906\"/><line x1=\"647\" y1=\"886\" x2=\"647\" y2=\"936\"/><line x1=\"647\" y1=\"936\" x2=\"690\" y2=\"994\"/><line x1=\"792\" y1=\"999\" x2=\"690\" y2=\"994\"/><line x1=\"775\" y1=\"936\" x2=\"792\" y2=\"999\"/><line x1=\"820\" y1=\"918\" x2=\"775\" y2=\"936\"/><line x1=\"820\" y1=\"918\" x2=\"931\" y2=\"938\"/><line x1=\"931\" y1=\"938\" x2=\"933\" y2=\"937\"/><line x1=\"940\" y1=\"849\" x2=\"933\" y2=\"937\"/><line x1=\"940\" y1=\"849\" x2=\"992\" y2=\"845\"/><line x1=\"1015\" y1=\"327\" x2=\"999\" y2=\"414\"/><line x1=\"1015\" y1=\"327\" x2=\"927\" y2=\"224\"/><line x1=\"977\" y1=\"114\" x2=\"927\" y2=\"224\"/><line x1=\"1041\" y1=\"116\" x2=\"977\" y2=\"114\"/><line x1=\"1041\" y1=\"116\" x2=\"1038\" y2=\"60\"/><line x1=\"980\" y1=\"77\" x2=\"1038\" y2=\"60\"/><line x1=\"980\" y1=\"77\" x2=\"855\" y2=\"37\"/><line x1=\"855\" y1=\"37\" x2=\"767\" y2=\"40\"/><line x1=\"767\" y1=\"40\" x2=\"782\" y2=\"106\"/><line x1=\"837\" y1=\"180\" x2=\"782\" y2=\"106\"/><line x1=\"767\" y1=\"220\" x2=\"837\" y2=\"180\"/><line x1=\"767\" y1=\"220\" x2=\"781\" y2=\"412\"/><line x1=\"822\" y1=\"441\" x2=\"781\" y2=\"412\"/><line x1=\"822\" y1=\"441\" x2=\"905\" y2=\"554\"/><line x1=\"487\" y1=\"697\" x2=\"672\" y2=\"691\"/><line x1=\"487\" y1=\"697\" x2=\"328\" y2=\"655\"/><line x1=\"134\" y1=\"721\" x2=\"328\" y2=\"655\"/><line x1=\"97\" y1=\"671\" x2=\"134\" y2=\"721\"/><line x1=\"97\" y1=\"671\" x2=\"106\" y2=\"639\"/><line x1=\"178\" y1=\"551\" x2=\"106\" y2=\"639\"/><line x1=\"178\" y1=\"551\" x2=\"153\" y2=\"502\"/><line x1=\"150\" y1=\"443\" x2=\"153\" y2=\"502\"/><line x1=\"205\" y1=\"479\" x2=\"150\" y2=\"443\"/><line x1=\"205\" y1=\"479\" x2=\"225\" y2=\"508\"/><line x1=\"225\" y1=\"508\" x2=\"269\" y2=\"602\"/><line x1=\"269\" y1=\"602\" x2=\"587\" y2=\"590\"/><line x1=\"737\" y1=\"632\" x2=\"587\" y2=\"590\"/><line x1=\"737\" y1=\"632\" x2=\"800\" y2=\"607\"/><line x1=\"954\" y1=\"689\" x2=\"939\" y2=\"662\"/><line x1=\"969\" y1=\"727\" x2=\"954\" y2=\"689\"/><line x1=\"969\" y1=\"727\" x2=\"1042\" y2=\"666\"/><line x1=\"1039\" y1=\"652\" x2=\"1042\" y2=\"666\"/><line x1=\"1018\" y1=\"614\" x2=\"1039\" y2=\"652\"/><line x1=\"1045\" y1=\"526\" x2=\"1018\" y2=\"614\"/><line x1=\"1045\" y1=\"526\" x2=\"1038\" y2=\"479\"/><line x1=\"1021\" y1=\"455\" x2=\"1038\" y2=\"479\"/><line x1=\"777\" y1=\"555\" x2=\"640\" y2=\"487\"/><line x1=\"543\" y1=\"407\" x2=\"640\" y2=\"487\"/><line x1=\"519\" y1=\"402\" x2=\"543\" y2=\"407\"/><line x1=\"512\" y1=\"377\" x2=\"519\" y2=\"402\"/><line x1=\"440\" y1=\"251\" x2=\"512\" y2=\"377\"/><line x1=\"333\" y1=\"90\" x2=\"348\" y2=\"90\"/><line x1=\"417\" y1=\"74\" x2=\"348\" y2=\"90\"/><line x1=\"417\" y1=\"74\" x2=\"444\" y2=\"84\"/><line x1=\"524\" y1=\"130\" x2=\"444\" y2=\"84\"/><line x1=\"657\" y1=\"140\" x2=\"524\" y2=\"130\"/><line x1=\"657\" y1=\"140\" x2=\"671\" y2=\"344\"/><line x1=\"672\" y1=\"408\" x2=\"671\" y2=\"344\"/><line x1=\"330\" y1=\"317\" x2=\"452\" y2=\"390\"/><line x1=\"330\" y1=\"317\" x2=\"183\" y2=\"301\"/><line x1=\"193\" y1=\"373\" x2=\"183\" y2=\"301\"/><line x1=\"193\" y1=\"373\" x2=\"134\" y2=\"386\"/><line x1=\"51\" y1=\"418\" x2=\"134\" y2=\"386\"/><line x1=\"67\" y1=\"342\" x2=\"51\" y2=\"418\"/><line x1=\"67\" y1=\"342\" x2=\"104\" y2=\"330\"/><line x1=\"58\" y1=\"242\" x2=\"104\" y2=\"330\"/><line x1=\"58\" y1=\"242\" x2=\"117\" y2=\"155\"/><line x1=\"102\" y1=\"104\" x2=\"117\" y2=\"155\"/><line x1=\"102\" y1=\"104\" x2=\"236\" y2=\"179\"/><line x1=\"236\" y1=\"179\" x2=\"313\" y2=\"174\"/><line x1=\"347\" y1=\"241\" x2=\"313\" y2=\"174\"/></g><g stroke=\"red\" stroke-dasharray=\"18 15\" stroke-width=\"4\" id=\"edges_tentative\"><line x1=\"929\" y1=\"657\" x2=\"592\" y2=\"875\"/><line x1=\"929\" y1=\"657\" x2=\"672\" y2=\"691\"/><line x1=\"929\" y1=\"657\" x2=\"777\" y2=\"555\"/><line x1=\"929\" y1=\"657\" x2=\"999\" y2=\"414\"/><line x1=\"929\" y1=\"657\" x2=\"784\" y2=\"595\"/></g><g stroke=\"yellow\" stroke-dasharray=\"25 5\" stroke-width=\"4\" id=\"edges_rogue\"><line x1=\"1021\" y1=\"455\" x2=\"927\" y2=\"593\"/><line x1=\"440\" y1=\"251\" x2=\"333\" y2=\"90\"/><line x1=\"672\" y1=\"408\" x2=\"804\" y2=\"550\"/><line x1=\"784\" y1=\"595\" x2=\"452\" y2=\"390\"/></g><g id=\"WTGgrp\"><g fill=\"#1f77b4\"><use href=\"#wtg\" x=\"592\" y=\"875\"/><use href=\"#wtg\" x=\"541\" y=\"943\"/><use href=\"#wtg\" x=\"442\" y=\"1019\"/><use href=\"#wtg\" x=\"360\" y=\"947\"/><use href=\"#wtg\" x=\"296\" y=\"1010\"/><use href=\"#wtg\" x=\"174\" y=\"919\"/><use href=\"#wtg\" x=\"36\" y=\"879\"/><use href=\"#wtg\" x=\"85\" y=\"823\"/><use href=\"#wtg\" x=\"101\" y=\"830\"/><use href=\"#wtg\" x=\"112\" y=\"831\"/><use href=\"#wtg\" x=\"169\" y=\"793\"/><use href=\"#wtg\" x=\"224\" y=\"856\"/><use href=\"#wtg\" x=\"312\" y=\"850\"/><use href=\"#wtg\" x=\"426\" y=\"861\"/><use href=\"#wtg\" x=\"530\" y=\"793\"/></g><g fill=\"#aec7e8\"><use href=\"#wtg\" x=\"905\" y=\"720\"/><use href=\"#wtg\" x=\"867\" y=\"824\"/><use href=\"#wtg\" x=\"831\" y=\"864\"/><use href=\"#wtg\" x=\"756\" y=\"854\"/><use href=\"#wtg\" x=\"688\" y=\"906\"/><use href=\"#wtg\" x=\"647\" y=\"886\"/><use href=\"#wtg\" x=\"647\" y=\"936\"/><use href=\"#wtg\" x=\"690\" y=\"994\"/><use href=\"#wtg\" x=\"792\" y=\"999\"/><use href=\"#wtg\" x=\"775\" y=\"936\"/><use href=\"#wtg\" x=\"820\" y=\"918\"/><use href=\"#wtg\" x=\"931\" y=\"938\"/><use href=\"#wtg\" x=\"933\" y=\"937\"/><use href=\"#wtg\" x=\"940\" y=\"849\"/><use href=\"#wtg\" x=\"992\" y=\"845\"/></g><g fill=\"#ff7f0e\"><use href=\"#wtg\" x=\"999\" y=\"414\"/><use href=\"#wtg\" x=\"1015\" y=\"327\"/><use href=\"#wtg\" x=\"927\" y=\"224\"/><use href=\"#wtg\" x=\"977\" y=\"114\"/><use href=\"#wtg\" x=\"1041\" y=\"116\"/><use href=\"#wtg\" x=\"1038\" y=\"60\"/><use href=\"#wtg\" x=\"980\" y=\"77\"/><use href=\"#wtg\" x=\"855\" y=\"37\"/><use href=\"#wtg\" x=\"767\" y=\"40\"/><use href=\"#wtg\" x=\"782\" y=\"106\"/><use href=\"#wtg\" x=\"837\" y=\"180\"/><use href=\"#wtg\" x=\"767\" y=\"220\"/><use href=\"#wtg\" x=\"781\" y=\"412\"/><use href=\"#wtg\" x=\"822\" y=\"441\"/><use href=\"#wtg\" x=\"905\" y=\"554\"/></g><g fill=\"#ffbb78\"><use href=\"#wtg\" x=\"672\" y=\"691\"/><use href=\"#wtg\" x=\"487\" y=\"697\"/><use href=\"#wtg\" x=\"328\" y=\"655\"/><use href=\"#wtg\" x=\"134\" y=\"721\"/><use href=\"#wtg\" x=\"97\" y=\"671\"/><use href=\"#wtg\" x=\"106\" y=\"639\"/><use href=\"#wtg\" x=\"178\" y=\"551\"/><use href=\"#wtg\" x=\"153\" y=\"502\"/><use href=\"#wtg\" x=\"150\" y=\"443\"/><use href=\"#wtg\" x=\"205\" y=\"479\"/><use href=\"#wtg\" x=\"225\" y=\"508\"/><use href=\"#wtg\" x=\"269\" y=\"602\"/><use href=\"#wtg\" x=\"587\" y=\"590\"/><use href=\"#wtg\" x=\"737\" y=\"632\"/><use href=\"#wtg\" x=\"800\" y=\"607\"/></g><g fill=\"#2ca02c\"><use href=\"#wtg\" x=\"939\" y=\"662\"/><use href=\"#wtg\" x=\"954\" y=\"689\"/><use href=\"#wtg\" x=\"969\" y=\"727\"/><use href=\"#wtg\" x=\"1042\" y=\"666\"/><use href=\"#wtg\" x=\"1039\" y=\"652\"/><use href=\"#wtg\" x=\"1018\" y=\"614\"/><use href=\"#wtg\" x=\"1045\" y=\"526\"/><use href=\"#wtg\" x=\"1038\" y=\"479\"/><use href=\"#wtg\" x=\"1021\" y=\"455\"/><use href=\"#wtg\" x=\"927\" y=\"593\"/></g><g fill=\"#98df8a\"><use href=\"#wtg\" x=\"777\" y=\"555\"/><use href=\"#wtg\" x=\"640\" y=\"487\"/><use href=\"#wtg\" x=\"543\" y=\"407\"/><use href=\"#wtg\" x=\"519\" y=\"402\"/><use href=\"#wtg\" x=\"512\" y=\"377\"/><use href=\"#wtg\" x=\"440\" y=\"251\"/><use href=\"#wtg\" x=\"333\" y=\"90\"/><use href=\"#wtg\" x=\"348\" y=\"90\"/><use href=\"#wtg\" x=\"417\" y=\"74\"/><use href=\"#wtg\" x=\"444\" y=\"84\"/><use href=\"#wtg\" x=\"524\" y=\"130\"/><use href=\"#wtg\" x=\"657\" y=\"140\"/><use href=\"#wtg\" x=\"671\" y=\"344\"/><use href=\"#wtg\" x=\"672\" y=\"408\"/><use href=\"#wtg\" x=\"804\" y=\"550\"/></g><g fill=\"#d62728\"><use href=\"#wtg\" x=\"784\" y=\"595\"/><use href=\"#wtg\" x=\"452\" y=\"390\"/><use href=\"#wtg\" x=\"330\" y=\"317\"/><use href=\"#wtg\" x=\"183\" y=\"301\"/><use href=\"#wtg\" x=\"193\" y=\"373\"/><use href=\"#wtg\" x=\"134\" y=\"386\"/><use href=\"#wtg\" x=\"51\" y=\"418\"/><use href=\"#wtg\" x=\"67\" y=\"342\"/><use href=\"#wtg\" x=\"104\" y=\"330\"/><use href=\"#wtg\" x=\"58\" y=\"242\"/><use href=\"#wtg\" x=\"117\" y=\"155\"/><use href=\"#wtg\" x=\"102\" y=\"104\"/><use href=\"#wtg\" x=\"236\" y=\"179\"/><use href=\"#wtg\" x=\"313\" y=\"174\"/><use href=\"#wtg\" x=\"347\" y=\"241\"/></g></g><g id=\"OSSgrp\"><use href=\"#oss\" x=\"918.5\" y=\"646.5\"/></g></g><text stroke=\"#000\" stroke-width=\"0.01em\" text-anchor=\"end\" font-family=\"sans-serif\" font-size=\"40\" fill=\"white\" x=\"1050\" y=\"1050\"><tspan x=\"1050\" dy=\"-0.0em\">&#931;&#955; = 9987.1 m</tspan><tspan x=\"1050\" dy=\"-1.3em\">(+0) &#945;: 7</tspan><tspan x=\"1050\" dy=\"-1.3em\">&#954; = 15, T = 100</tspan></text></svg>"
      ],
      "text/plain": [
       "<interarray.svg.SvgRepr at 0x1c8eb7bff80>"
      ]
     },
     "metadata": {},
     "output_type": "display_data"
    },
    {
     "data": {
      "image/svg+xml": [
       "<svg xmlns=\"http://www.w3.org/2000/svg\" viewBox=\"0 0 1920 1080\"><defs ><filter x=\"-5%\" y=\"-5%\" id=\"bg_textbox\" width=\"110%\" height=\"110%\"><feFlood flood-opacity=\"0.7\" flood-color=\"#111\" result=\"bg\"/><feMerge ><feMergeNode in=\"bg\"/><feMergeNode in=\"SourceGraphic\"/></feMerge></filter><circle stroke=\"none\" stroke-width=\"2\" id=\"wtg\" r=\"12\"/><rect stroke=\"none\" stroke-width=\"2\" id=\"oss\" width=\"21\" height=\"21\" fill=\"lawngreen\"/></defs><g id=\"L_from_site\"><path stroke=\"silver\" stroke-dasharray=\"15 7\" stroke-width=\"2\" id=\"border\" d=\"M30 1050 1050 1050 1050 30 30 30z\" fill-rule=\"evenodd\" fill=\"#111\"/><g stroke=\"crimson\" stroke-width=\"4\" id=\"edges_unspecified\"><line x1=\"540\" y1=\"540\" x2=\"594\" y2=\"321\"/><line x1=\"612\" y1=\"303\" x2=\"594\" y2=\"321\"/><line x1=\"612\" y1=\"303\" x2=\"658\" y2=\"302\"/><line x1=\"658\" y1=\"302\" x2=\"660\" y2=\"269\"/><line x1=\"757\" y1=\"282\" x2=\"660\" y2=\"269\"/><line x1=\"757\" y1=\"282\" x2=\"782\" y2=\"319\"/><line x1=\"782\" y1=\"319\" x2=\"664\" y2=\"429\"/><line x1=\"540\" y1=\"540\" x2=\"539\" y2=\"540\"/><line x1=\"540\" y1=\"540\" x2=\"418\" y2=\"441\"/><line x1=\"638\" y1=\"816\" x2=\"627\" y2=\"794\"/><line x1=\"575\" y1=\"874\" x2=\"638\" y2=\"816\"/><line x1=\"484\" y1=\"983\" x2=\"575\" y2=\"874\"/><line x1=\"400\" y1=\"1016\" x2=\"484\" y2=\"983\"/><line x1=\"400\" y1=\"1016\" x2=\"389\" y2=\"829\"/><line x1=\"389\" y1=\"829\" x2=\"442\" y2=\"746\"/><line x1=\"929\" y1=\"830\" x2=\"886\" y2=\"806\"/><line x1=\"929\" y1=\"830\" x2=\"936\" y2=\"826\"/><line x1=\"1049\" y1=\"981\" x2=\"936\" y2=\"826\"/><line x1=\"1049\" y1=\"981\" x2=\"1044\" y2=\"895\"/><line x1=\"984\" y1=\"793\" x2=\"1044\" y2=\"895\"/><line x1=\"984\" y1=\"793\" x2=\"981\" y2=\"732\"/><line x1=\"539\" y1=\"540\" x2=\"537\" y2=\"559\"/><line x1=\"308\" y1=\"387\" x2=\"418\" y2=\"441\"/><line x1=\"308\" y1=\"387\" x2=\"192\" y2=\"364\"/><line x1=\"224\" y1=\"474\" x2=\"192\" y2=\"364\"/><line x1=\"224\" y1=\"474\" x2=\"225\" y2=\"483\"/><line x1=\"276\" y1=\"461\" x2=\"225\" y2=\"483\"/><line x1=\"367\" y1=\"546\" x2=\"276\" y2=\"461\"/><line x1=\"237\" y1=\"240\" x2=\"297\" y2=\"289\"/><line x1=\"156\" y1=\"222\" x2=\"237\" y2=\"240\"/><line x1=\"156\" y1=\"222\" x2=\"77\" y2=\"330\"/><line x1=\"77\" y1=\"330\" x2=\"103\" y2=\"438\"/><line x1=\"118\" y1=\"551\" x2=\"103\" y2=\"438\"/><line x1=\"118\" y1=\"551\" x2=\"243\" y2=\"605\"/><line x1=\"732\" y1=\"110\" x2=\"679\" y2=\"147\"/><line x1=\"732\" y1=\"110\" x2=\"743\" y2=\"38\"/><line x1=\"730\" y1=\"64\" x2=\"743\" y2=\"38\"/><line x1=\"686\" y1=\"112\" x2=\"730\" y2=\"64\"/><line x1=\"531\" y1=\"234\" x2=\"523\" y2=\"213\"/><line x1=\"243\" y1=\"64\" x2=\"314\" y2=\"162\"/><line x1=\"243\" y1=\"64\" x2=\"172\" y2=\"46\"/><line x1=\"139\" y1=\"66\" x2=\"172\" y2=\"46\"/><line x1=\"99\" y1=\"71\" x2=\"139\" y2=\"66\"/><line x1=\"239\" y1=\"164\" x2=\"225\" y2=\"189\"/><line x1=\"568\" y1=\"596\" x2=\"521\" y2=\"624\"/><line x1=\"568\" y1=\"596\" x2=\"753\" y2=\"670\"/><line x1=\"772\" y1=\"615\" x2=\"753\" y2=\"670\"/><line x1=\"772\" y1=\"615\" x2=\"785\" y2=\"596\"/><line x1=\"785\" y1=\"596\" x2=\"751\" y2=\"591\"/><line x1=\"751\" y1=\"591\" x2=\"631\" y2=\"540\"/><line x1=\"448\" y1=\"160\" x2=\"439\" y2=\"236\"/><line x1=\"452\" y1=\"63\" x2=\"448\" y2=\"160\"/><line x1=\"452\" y1=\"63\" x2=\"478\" y2=\"42\"/><line x1=\"493\" y1=\"32\" x2=\"478\" y2=\"42\"/><line x1=\"493\" y1=\"32\" x2=\"542\" y2=\"164\"/><line x1=\"542\" y1=\"164\" x2=\"543\" y2=\"165\"/><line x1=\"303\" y1=\"843\" x2=\"329\" y2=\"840\"/><line x1=\"305\" y1=\"813\" x2=\"303\" y2=\"843\"/><line x1=\"305\" y1=\"813\" x2=\"202\" y2=\"800\"/><line x1=\"193\" y1=\"799\" x2=\"202\" y2=\"800\"/><line x1=\"193\" y1=\"799\" x2=\"300\" y2=\"715\"/><line x1=\"300\" y1=\"715\" x2=\"327\" y2=\"681\"/><line x1=\"934\" y1=\"72\" x2=\"794\" y2=\"98\"/><line x1=\"934\" y1=\"72\" x2=\"994\" y2=\"43\"/><line x1=\"996\" y1=\"161\" x2=\"994\" y2=\"43\"/><line x1=\"996\" y1=\"161\" x2=\"991\" y2=\"165\"/><line x1=\"953\" y1=\"161\" x2=\"991\" y2=\"165\"/><line x1=\"840\" y1=\"835\" x2=\"833\" y2=\"828\"/><line x1=\"844\" y1=\"839\" x2=\"840\" y2=\"835\"/><line x1=\"844\" y1=\"839\" x2=\"834\" y2=\"874\"/><line x1=\"834\" y1=\"874\" x2=\"799\" y2=\"1023\"/><line x1=\"763\" y1=\"1016\" x2=\"799\" y2=\"1023\"/><line x1=\"42\" y1=\"693\" x2=\"62\" y2=\"750\"/><line x1=\"160\" y1=\"867\" x2=\"62\" y2=\"750\"/><line x1=\"112\" y1=\"869\" x2=\"160\" y2=\"867\"/><line x1=\"112\" y1=\"869\" x2=\"102\" y2=\"878\"/><line x1=\"65\" y1=\"1002\" x2=\"102\" y2=\"878\"/><line x1=\"237\" y1=\"966\" x2=\"65\" y2=\"1002\"/><line x1=\"862\" y1=\"634\" x2=\"836\" y2=\"577\"/><line x1=\"862\" y1=\"634\" x2=\"1050\" y2=\"548\"/><line x1=\"1050\" y1=\"548\" x2=\"1034\" y2=\"504\"/><line x1=\"1034\" y1=\"504\" x2=\"946\" y2=\"435\"/><line x1=\"946\" y1=\"435\" x2=\"836\" y2=\"501\"/><line x1=\"836\" y1=\"501\" x2=\"815\" y2=\"484\"/></g><g stroke=\"red\" stroke-dasharray=\"18 15\" stroke-width=\"4\" id=\"edges_tentative\"><line x1=\"540\" y1=\"540\" x2=\"627\" y2=\"794\"/><line x1=\"540\" y1=\"540\" x2=\"439\" y2=\"236\"/><line x1=\"540\" y1=\"540\" x2=\"297\" y2=\"289\"/><line x1=\"540\" y1=\"540\" x2=\"836\" y2=\"577\"/><line x1=\"540\" y1=\"540\" x2=\"679\" y2=\"147\"/><line x1=\"540\" y1=\"540\" x2=\"833\" y2=\"828\"/><line x1=\"540\" y1=\"540\" x2=\"794\" y2=\"98\"/><line x1=\"540\" y1=\"540\" x2=\"886\" y2=\"806\"/><line x1=\"540\" y1=\"540\" x2=\"314\" y2=\"162\"/><line x1=\"540\" y1=\"540\" x2=\"329\" y2=\"840\"/><line x1=\"540\" y1=\"540\" x2=\"42\" y2=\"693\"/><line x1=\"540\" y1=\"540\" x2=\"521\" y2=\"624\"/></g><g stroke=\"yellow\" stroke-dasharray=\"25 5\" stroke-width=\"4\" id=\"edges_rogue\"><line x1=\"686\" y1=\"112\" x2=\"523\" y2=\"213\"/><line x1=\"99\" y1=\"71\" x2=\"239\" y2=\"164\"/><line x1=\"750\" y1=\"449\" x2=\"953\" y2=\"161\"/><line x1=\"763\" y1=\"1016\" x2=\"529\" y2=\"804\"/></g><g id=\"WTGgrp\"><g fill=\"#1f77b4\"><use href=\"#wtg\" x=\"594\" y=\"321\"/><use href=\"#wtg\" x=\"612\" y=\"303\"/><use href=\"#wtg\" x=\"658\" y=\"302\"/><use href=\"#wtg\" x=\"660\" y=\"269\"/><use href=\"#wtg\" x=\"757\" y=\"282\"/><use href=\"#wtg\" x=\"782\" y=\"319\"/><use href=\"#wtg\" x=\"664\" y=\"429\"/></g><g fill=\"#aec7e8\"><use href=\"#wtg\" x=\"627\" y=\"794\"/><use href=\"#wtg\" x=\"638\" y=\"816\"/><use href=\"#wtg\" x=\"575\" y=\"874\"/><use href=\"#wtg\" x=\"484\" y=\"983\"/><use href=\"#wtg\" x=\"400\" y=\"1016\"/><use href=\"#wtg\" x=\"389\" y=\"829\"/><use href=\"#wtg\" x=\"442\" y=\"746\"/></g><g fill=\"#ff7f0e\"><use href=\"#wtg\" x=\"886\" y=\"806\"/><use href=\"#wtg\" x=\"929\" y=\"830\"/><use href=\"#wtg\" x=\"936\" y=\"826\"/><use href=\"#wtg\" x=\"1049\" y=\"981\"/><use href=\"#wtg\" x=\"1044\" y=\"895\"/><use href=\"#wtg\" x=\"984\" y=\"793\"/><use href=\"#wtg\" x=\"981\" y=\"732\"/></g><g fill=\"#ffbb78\"><use href=\"#wtg\" x=\"539\" y=\"540\"/><use href=\"#wtg\" x=\"537\" y=\"559\"/></g><g fill=\"#2ca02c\"><use href=\"#wtg\" x=\"418\" y=\"441\"/><use href=\"#wtg\" x=\"308\" y=\"387\"/><use href=\"#wtg\" x=\"192\" y=\"364\"/><use href=\"#wtg\" x=\"224\" y=\"474\"/><use href=\"#wtg\" x=\"225\" y=\"483\"/><use href=\"#wtg\" x=\"276\" y=\"461\"/><use href=\"#wtg\" x=\"367\" y=\"546\"/></g><g fill=\"#98df8a\"><use href=\"#wtg\" x=\"297\" y=\"289\"/><use href=\"#wtg\" x=\"237\" y=\"240\"/><use href=\"#wtg\" x=\"156\" y=\"222\"/><use href=\"#wtg\" x=\"77\" y=\"330\"/><use href=\"#wtg\" x=\"103\" y=\"438\"/><use href=\"#wtg\" x=\"118\" y=\"551\"/><use href=\"#wtg\" x=\"243\" y=\"605\"/></g><g fill=\"#d62728\"><use href=\"#wtg\" x=\"679\" y=\"147\"/><use href=\"#wtg\" x=\"732\" y=\"110\"/><use href=\"#wtg\" x=\"743\" y=\"38\"/><use href=\"#wtg\" x=\"730\" y=\"64\"/><use href=\"#wtg\" x=\"686\" y=\"112\"/><use href=\"#wtg\" x=\"523\" y=\"213\"/><use href=\"#wtg\" x=\"531\" y=\"234\"/></g><g fill=\"#ff9896\"><use href=\"#wtg\" x=\"314\" y=\"162\"/><use href=\"#wtg\" x=\"243\" y=\"64\"/><use href=\"#wtg\" x=\"172\" y=\"46\"/><use href=\"#wtg\" x=\"139\" y=\"66\"/><use href=\"#wtg\" x=\"99\" y=\"71\"/><use href=\"#wtg\" x=\"239\" y=\"164\"/><use href=\"#wtg\" x=\"225\" y=\"189\"/></g><g fill=\"#9467bd\"><use href=\"#wtg\" x=\"521\" y=\"624\"/><use href=\"#wtg\" x=\"568\" y=\"596\"/><use href=\"#wtg\" x=\"753\" y=\"670\"/><use href=\"#wtg\" x=\"772\" y=\"615\"/><use href=\"#wtg\" x=\"785\" y=\"596\"/><use href=\"#wtg\" x=\"751\" y=\"591\"/><use href=\"#wtg\" x=\"631\" y=\"540\"/></g><g fill=\"#c5b0d5\"><use href=\"#wtg\" x=\"439\" y=\"236\"/><use href=\"#wtg\" x=\"448\" y=\"160\"/><use href=\"#wtg\" x=\"452\" y=\"63\"/><use href=\"#wtg\" x=\"478\" y=\"42\"/><use href=\"#wtg\" x=\"493\" y=\"32\"/><use href=\"#wtg\" x=\"542\" y=\"164\"/><use href=\"#wtg\" x=\"543\" y=\"165\"/></g><g fill=\"#8c564b\"><use href=\"#wtg\" x=\"329\" y=\"840\"/><use href=\"#wtg\" x=\"303\" y=\"843\"/><use href=\"#wtg\" x=\"305\" y=\"813\"/><use href=\"#wtg\" x=\"202\" y=\"800\"/><use href=\"#wtg\" x=\"193\" y=\"799\"/><use href=\"#wtg\" x=\"300\" y=\"715\"/><use href=\"#wtg\" x=\"327\" y=\"681\"/></g><g fill=\"#c49c94\"><use href=\"#wtg\" x=\"794\" y=\"98\"/><use href=\"#wtg\" x=\"934\" y=\"72\"/><use href=\"#wtg\" x=\"994\" y=\"43\"/><use href=\"#wtg\" x=\"996\" y=\"161\"/><use href=\"#wtg\" x=\"991\" y=\"165\"/><use href=\"#wtg\" x=\"953\" y=\"161\"/><use href=\"#wtg\" x=\"750\" y=\"449\"/></g><g fill=\"#e377c2\"><use href=\"#wtg\" x=\"833\" y=\"828\"/><use href=\"#wtg\" x=\"840\" y=\"835\"/><use href=\"#wtg\" x=\"844\" y=\"839\"/><use href=\"#wtg\" x=\"834\" y=\"874\"/><use href=\"#wtg\" x=\"799\" y=\"1023\"/><use href=\"#wtg\" x=\"763\" y=\"1016\"/><use href=\"#wtg\" x=\"529\" y=\"804\"/></g><g fill=\"#f7b6d2\"><use href=\"#wtg\" x=\"42\" y=\"693\"/><use href=\"#wtg\" x=\"62\" y=\"750\"/><use href=\"#wtg\" x=\"160\" y=\"867\"/><use href=\"#wtg\" x=\"112\" y=\"869\"/><use href=\"#wtg\" x=\"102\" y=\"878\"/><use href=\"#wtg\" x=\"65\" y=\"1002\"/><use href=\"#wtg\" x=\"237\" y=\"966\"/></g><g fill=\"#7f7f7f\"><use href=\"#wtg\" x=\"836\" y=\"577\"/><use href=\"#wtg\" x=\"862\" y=\"634\"/><use href=\"#wtg\" x=\"1050\" y=\"548\"/><use href=\"#wtg\" x=\"1034\" y=\"504\"/><use href=\"#wtg\" x=\"946\" y=\"435\"/><use href=\"#wtg\" x=\"836\" y=\"501\"/><use href=\"#wtg\" x=\"815\" y=\"484\"/></g></g><g id=\"OSSgrp\"><use href=\"#oss\" x=\"529.5\" y=\"529.5\"/></g></g><text stroke=\"#000\" stroke-width=\"0.01em\" text-anchor=\"end\" font-family=\"sans-serif\" font-size=\"40\" fill=\"white\" x=\"1050\" y=\"1050\"><tspan x=\"1050\" dy=\"-0.0em\">&#931;&#955; = 11914.0 m</tspan><tspan x=\"1050\" dy=\"-1.3em\">(+0) &#945;: 15</tspan><tspan x=\"1050\" dy=\"-1.3em\">&#954; = 7, T = 100</tspan></text></svg>"
      ],
      "text/plain": [
       "<interarray.svg.SvgRepr at 0x1c8eb7bfce0>"
      ]
     },
     "metadata": {},
     "output_type": "display_data"
    },
    {
     "data": {
      "image/svg+xml": [
       "<svg xmlns=\"http://www.w3.org/2000/svg\" viewBox=\"0 0 1920 1080\"><defs ><filter x=\"-5%\" y=\"-5%\" id=\"bg_textbox\" width=\"110%\" height=\"110%\"><feFlood flood-opacity=\"0.7\" flood-color=\"#111\" result=\"bg\"/><feMerge ><feMergeNode in=\"bg\"/><feMergeNode in=\"SourceGraphic\"/></feMerge></filter><circle stroke=\"none\" stroke-width=\"2\" id=\"wtg\" r=\"12\"/><rect stroke=\"none\" stroke-width=\"2\" id=\"oss\" width=\"21\" height=\"21\" fill=\"lawngreen\"/></defs><g id=\"L_from_site\"><path stroke=\"silver\" stroke-dasharray=\"15 7\" stroke-width=\"2\" id=\"border\" d=\"M30 1050 1050 1050 1050 30 30 30z\" fill-rule=\"evenodd\" fill=\"#111\"/><g stroke=\"crimson\" stroke-width=\"4\" id=\"edges_unspecified\"><line x1=\"540\" y1=\"540\" x2=\"575\" y2=\"680\"/><line x1=\"575\" y1=\"680\" x2=\"574\" y2=\"681\"/><line x1=\"618\" y1=\"709\" x2=\"574\" y2=\"681\"/><line x1=\"620\" y1=\"702\" x2=\"618\" y2=\"709\"/><line x1=\"620\" y1=\"702\" x2=\"630\" y2=\"625\"/><line x1=\"540\" y1=\"540\" x2=\"543\" y2=\"408\"/><line x1=\"540\" y1=\"540\" x2=\"615\" y2=\"465\"/><line x1=\"540\" y1=\"540\" x2=\"284\" y2=\"530\"/><line x1=\"540\" y1=\"540\" x2=\"347\" y2=\"403\"/><line x1=\"347\" y1=\"403\" x2=\"315\" y2=\"330\"/><line x1=\"328\" y1=\"335\" x2=\"315\" y2=\"330\"/><line x1=\"402\" y1=\"297\" x2=\"328\" y2=\"335\"/><line x1=\"481\" y1=\"338\" x2=\"402\" y2=\"297\"/><line x1=\"284\" y1=\"530\" x2=\"306\" y2=\"562\"/><line x1=\"321\" y1=\"621\" x2=\"306\" y2=\"562\"/><line x1=\"388\" y1=\"674\" x2=\"321\" y2=\"621\"/><line x1=\"411\" y1=\"731\" x2=\"388\" y2=\"674\"/><line x1=\"793\" y1=\"820\" x2=\"823\" y2=\"879\"/><line x1=\"823\" y1=\"879\" x2=\"841\" y2=\"855\"/><line x1=\"883\" y1=\"859\" x2=\"841\" y2=\"855\"/><line x1=\"883\" y1=\"859\" x2=\"855\" y2=\"849\"/><line x1=\"54\" y1=\"601\" x2=\"138\" y2=\"575\"/><line x1=\"39\" y1=\"439\" x2=\"54\" y2=\"601\"/><line x1=\"39\" y1=\"439\" x2=\"47\" y2=\"439\"/><line x1=\"131\" y1=\"353\" x2=\"47\" y2=\"439\"/><line x1=\"669\" y1=\"697\" x2=\"760\" y2=\"810\"/><line x1=\"698\" y1=\"858\" x2=\"760\" y2=\"810\"/><line x1=\"698\" y1=\"858\" x2=\"677\" y2=\"859\"/><line x1=\"677\" y1=\"859\" x2=\"664\" y2=\"836\"/><line x1=\"658\" y1=\"474\" x2=\"615\" y2=\"465\"/><line x1=\"658\" y1=\"474\" x2=\"607\" y2=\"535\"/><line x1=\"607\" y1=\"535\" x2=\"625\" y2=\"557\"/><line x1=\"625\" y1=\"557\" x2=\"595\" y2=\"563\"/><line x1=\"345\" y1=\"211\" x2=\"364\" y2=\"121\"/><line x1=\"170\" y1=\"32\" x2=\"364\" y2=\"121\"/><line x1=\"170\" y1=\"32\" x2=\"42\" y2=\"69\"/><line x1=\"42\" y1=\"69\" x2=\"143\" y2=\"145\"/><line x1=\"555\" y1=\"1014\" x2=\"589\" y2=\"1042\"/><line x1=\"534\" y1=\"999\" x2=\"555\" y2=\"1014\"/><line x1=\"894\" y1=\"372\" x2=\"935\" y2=\"400\"/><line x1=\"1040\" y1=\"397\" x2=\"935\" y2=\"400\"/><line x1=\"1043\" y1=\"469\" x2=\"1040\" y2=\"397\"/><line x1=\"1043\" y1=\"469\" x2=\"1022\" y2=\"490\"/><line x1=\"816\" y1=\"796\" x2=\"905\" y2=\"764\"/><line x1=\"905\" y1=\"764\" x2=\"868\" y2=\"734\"/><line x1=\"868\" y1=\"734\" x2=\"822\" y2=\"642\"/><line x1=\"784\" y1=\"634\" x2=\"822\" y2=\"642\"/><line x1=\"863\" y1=\"161\" x2=\"908\" y2=\"62\"/><line x1=\"990\" y1=\"122\" x2=\"908\" y2=\"62\"/><line x1=\"990\" y1=\"122\" x2=\"932\" y2=\"272\"/><line x1=\"941\" y1=\"305\" x2=\"932\" y2=\"272\"/><line x1=\"397\" y1=\"905\" x2=\"466\" y2=\"816\"/><line x1=\"397\" y1=\"905\" x2=\"398\" y2=\"951\"/><line x1=\"398\" y1=\"951\" x2=\"347\" y2=\"1015\"/><line x1=\"260\" y1=\"852\" x2=\"166\" y2=\"937\"/><line x1=\"166\" y1=\"937\" x2=\"110\" y2=\"895\"/><line x1=\"110\" y1=\"895\" x2=\"52\" y2=\"790\"/><line x1=\"84\" y1=\"690\" x2=\"52\" y2=\"790\"/><line x1=\"941\" y1=\"1026\" x2=\"845\" y2=\"1019\"/><line x1=\"1018\" y1=\"862\" x2=\"941\" y2=\"1026\"/><line x1=\"1018\" y1=\"862\" x2=\"948\" y2=\"824\"/><line x1=\"948\" y1=\"824\" x2=\"935\" y2=\"838\"/><line x1=\"785\" y1=\"372\" x2=\"775\" y2=\"295\"/><line x1=\"732\" y1=\"328\" x2=\"775\" y2=\"295\"/><line x1=\"732\" y1=\"328\" x2=\"649\" y2=\"268\"/><line x1=\"649\" y1=\"268\" x2=\"602\" y2=\"383\"/><line x1=\"508\" y1=\"321\" x2=\"543\" y2=\"408\"/><line x1=\"490\" y1=\"49\" x2=\"493\" y2=\"43\"/><line x1=\"421\" y1=\"240\" x2=\"490\" y2=\"49\"/><line x1=\"753\" y1=\"108\" x2=\"770\" y2=\"158\"/><line x1=\"779\" y1=\"182\" x2=\"770\" y2=\"158\"/><line x1=\"797\" y1=\"181\" x2=\"779\" y2=\"182\"/><line x1=\"797\" y1=\"181\" x2=\"868\" y2=\"241\"/><line x1=\"889\" y1=\"612\" x2=\"882\" y2=\"527\"/><line x1=\"882\" y1=\"527\" x2=\"856\" y2=\"447\"/><line x1=\"855\" y1=\"430\" x2=\"856\" y2=\"447\"/><line x1=\"765\" y1=\"464\" x2=\"855\" y2=\"430\"/><line x1=\"189\" y1=\"774\" x2=\"268\" y2=\"738\"/><line x1=\"130\" y1=\"754\" x2=\"189\" y2=\"774\"/><line x1=\"130\" y1=\"754\" x2=\"170\" y2=\"638\"/><line x1=\"170\" y1=\"638\" x2=\"191\" y2=\"595\"/></g><g stroke=\"red\" stroke-dasharray=\"18 15\" stroke-width=\"4\" id=\"edges_tentative\"><line x1=\"540\" y1=\"540\" x2=\"894\" y2=\"372\"/><line x1=\"540\" y1=\"540\" x2=\"816\" y2=\"796\"/><line x1=\"540\" y1=\"540\" x2=\"466\" y2=\"816\"/><line x1=\"540\" y1=\"540\" x2=\"345\" y2=\"211\"/><line x1=\"540\" y1=\"540\" x2=\"669\" y2=\"697\"/><line x1=\"540\" y1=\"540\" x2=\"138\" y2=\"575\"/><line x1=\"540\" y1=\"540\" x2=\"793\" y2=\"820\"/><line x1=\"540\" y1=\"540\" x2=\"260\" y2=\"852\"/><line x1=\"540\" y1=\"540\" x2=\"863\" y2=\"161\"/><line x1=\"540\" y1=\"540\" x2=\"845\" y2=\"1019\"/><line x1=\"540\" y1=\"540\" x2=\"889\" y2=\"612\"/><line x1=\"540\" y1=\"540\" x2=\"544\" y2=\"753\"/><line x1=\"540\" y1=\"540\" x2=\"753\" y2=\"108\"/><line x1=\"540\" y1=\"540\" x2=\"268\" y2=\"738\"/><line x1=\"540\" y1=\"540\" x2=\"785\" y2=\"372\"/></g><g stroke=\"yellow\" stroke-dasharray=\"25 5\" stroke-width=\"4\" id=\"edges_rogue\"><line x1=\"589\" y1=\"1042\" x2=\"544\" y2=\"753\"/><line x1=\"534\" y1=\"999\" x2=\"506\" y2=\"748\"/><line x1=\"347\" y1=\"1015\" x2=\"328\" y2=\"824\"/><line x1=\"508\" y1=\"321\" x2=\"493\" y2=\"43\"/></g><g id=\"WTGgrp\"><g fill=\"#1f77b4\"><use href=\"#wtg\" x=\"575\" y=\"680\"/><use href=\"#wtg\" x=\"574\" y=\"681\"/><use href=\"#wtg\" x=\"618\" y=\"709\"/><use href=\"#wtg\" x=\"620\" y=\"702\"/><use href=\"#wtg\" x=\"630\" y=\"625\"/></g><g fill=\"#aec7e8\"><use href=\"#wtg\" x=\"347\" y=\"403\"/><use href=\"#wtg\" x=\"315\" y=\"330\"/><use href=\"#wtg\" x=\"328\" y=\"335\"/><use href=\"#wtg\" x=\"402\" y=\"297\"/><use href=\"#wtg\" x=\"481\" y=\"338\"/></g><g fill=\"#ff7f0e\"><use href=\"#wtg\" x=\"284\" y=\"530\"/><use href=\"#wtg\" x=\"306\" y=\"562\"/><use href=\"#wtg\" x=\"321\" y=\"621\"/><use href=\"#wtg\" x=\"388\" y=\"674\"/><use href=\"#wtg\" x=\"411\" y=\"731\"/></g><g fill=\"#ffbb78\"><use href=\"#wtg\" x=\"793\" y=\"820\"/><use href=\"#wtg\" x=\"823\" y=\"879\"/><use href=\"#wtg\" x=\"841\" y=\"855\"/><use href=\"#wtg\" x=\"883\" y=\"859\"/><use href=\"#wtg\" x=\"855\" y=\"849\"/></g><g fill=\"#2ca02c\"><use href=\"#wtg\" x=\"138\" y=\"575\"/><use href=\"#wtg\" x=\"54\" y=\"601\"/><use href=\"#wtg\" x=\"39\" y=\"439\"/><use href=\"#wtg\" x=\"47\" y=\"439\"/><use href=\"#wtg\" x=\"131\" y=\"353\"/></g><g fill=\"#98df8a\"><use href=\"#wtg\" x=\"669\" y=\"697\"/><use href=\"#wtg\" x=\"760\" y=\"810\"/><use href=\"#wtg\" x=\"698\" y=\"858\"/><use href=\"#wtg\" x=\"677\" y=\"859\"/><use href=\"#wtg\" x=\"664\" y=\"836\"/></g><g fill=\"#d62728\"><use href=\"#wtg\" x=\"615\" y=\"465\"/><use href=\"#wtg\" x=\"658\" y=\"474\"/><use href=\"#wtg\" x=\"607\" y=\"535\"/><use href=\"#wtg\" x=\"625\" y=\"557\"/><use href=\"#wtg\" x=\"595\" y=\"563\"/></g><g fill=\"#ff9896\"><use href=\"#wtg\" x=\"345\" y=\"211\"/><use href=\"#wtg\" x=\"364\" y=\"121\"/><use href=\"#wtg\" x=\"170\" y=\"32\"/><use href=\"#wtg\" x=\"42\" y=\"69\"/><use href=\"#wtg\" x=\"143\" y=\"145\"/></g><g fill=\"#9467bd\"><use href=\"#wtg\" x=\"544\" y=\"753\"/><use href=\"#wtg\" x=\"589\" y=\"1042\"/><use href=\"#wtg\" x=\"555\" y=\"1014\"/><use href=\"#wtg\" x=\"534\" y=\"999\"/><use href=\"#wtg\" x=\"506\" y=\"748\"/></g><g fill=\"#c5b0d5\"><use href=\"#wtg\" x=\"894\" y=\"372\"/><use href=\"#wtg\" x=\"935\" y=\"400\"/><use href=\"#wtg\" x=\"1040\" y=\"397\"/><use href=\"#wtg\" x=\"1043\" y=\"469\"/><use href=\"#wtg\" x=\"1022\" y=\"490\"/></g><g fill=\"#8c564b\"><use href=\"#wtg\" x=\"816\" y=\"796\"/><use href=\"#wtg\" x=\"905\" y=\"764\"/><use href=\"#wtg\" x=\"868\" y=\"734\"/><use href=\"#wtg\" x=\"822\" y=\"642\"/><use href=\"#wtg\" x=\"784\" y=\"634\"/></g><g fill=\"#c49c94\"><use href=\"#wtg\" x=\"863\" y=\"161\"/><use href=\"#wtg\" x=\"908\" y=\"62\"/><use href=\"#wtg\" x=\"990\" y=\"122\"/><use href=\"#wtg\" x=\"932\" y=\"272\"/><use href=\"#wtg\" x=\"941\" y=\"305\"/></g><g fill=\"#e377c2\"><use href=\"#wtg\" x=\"466\" y=\"816\"/><use href=\"#wtg\" x=\"397\" y=\"905\"/><use href=\"#wtg\" x=\"398\" y=\"951\"/><use href=\"#wtg\" x=\"347\" y=\"1015\"/><use href=\"#wtg\" x=\"328\" y=\"824\"/></g><g fill=\"#f7b6d2\"><use href=\"#wtg\" x=\"260\" y=\"852\"/><use href=\"#wtg\" x=\"166\" y=\"937\"/><use href=\"#wtg\" x=\"110\" y=\"895\"/><use href=\"#wtg\" x=\"52\" y=\"790\"/><use href=\"#wtg\" x=\"84\" y=\"690\"/></g><g fill=\"#7f7f7f\"><use href=\"#wtg\" x=\"845\" y=\"1019\"/><use href=\"#wtg\" x=\"941\" y=\"1026\"/><use href=\"#wtg\" x=\"1018\" y=\"862\"/><use href=\"#wtg\" x=\"948\" y=\"824\"/><use href=\"#wtg\" x=\"935\" y=\"838\"/></g><g fill=\"#c7c7c7\"><use href=\"#wtg\" x=\"785\" y=\"372\"/><use href=\"#wtg\" x=\"775\" y=\"295\"/><use href=\"#wtg\" x=\"732\" y=\"328\"/><use href=\"#wtg\" x=\"649\" y=\"268\"/><use href=\"#wtg\" x=\"602\" y=\"383\"/></g><g fill=\"#bcbd22\"><use href=\"#wtg\" x=\"543\" y=\"408\"/><use href=\"#wtg\" x=\"508\" y=\"321\"/><use href=\"#wtg\" x=\"493\" y=\"43\"/><use href=\"#wtg\" x=\"490\" y=\"49\"/><use href=\"#wtg\" x=\"421\" y=\"240\"/></g><g fill=\"#dbdb8d\"><use href=\"#wtg\" x=\"753\" y=\"108\"/><use href=\"#wtg\" x=\"770\" y=\"158\"/><use href=\"#wtg\" x=\"779\" y=\"182\"/><use href=\"#wtg\" x=\"797\" y=\"181\"/><use href=\"#wtg\" x=\"868\" y=\"241\"/></g><g fill=\"#17becf\"><use href=\"#wtg\" x=\"889\" y=\"612\"/><use href=\"#wtg\" x=\"882\" y=\"527\"/><use href=\"#wtg\" x=\"856\" y=\"447\"/><use href=\"#wtg\" x=\"855\" y=\"430\"/><use href=\"#wtg\" x=\"765\" y=\"464\"/></g><g fill=\"#9edae5\"><use href=\"#wtg\" x=\"268\" y=\"738\"/><use href=\"#wtg\" x=\"189\" y=\"774\"/><use href=\"#wtg\" x=\"130\" y=\"754\"/><use href=\"#wtg\" x=\"170\" y=\"638\"/><use href=\"#wtg\" x=\"191\" y=\"595\"/></g></g><g id=\"OSSgrp\"><use href=\"#oss\" x=\"529.5\" y=\"529.5\"/></g></g><text stroke=\"#000\" stroke-width=\"0.01em\" text-anchor=\"end\" font-family=\"sans-serif\" font-size=\"40\" fill=\"white\" x=\"1050\" y=\"1050\"><tspan x=\"1050\" dy=\"-0.0em\">&#931;&#955; = 12948.0 m</tspan><tspan x=\"1050\" dy=\"-1.3em\">(+0) &#945;: 20</tspan><tspan x=\"1050\" dy=\"-1.3em\">&#954; = 5, T = 100</tspan></text></svg>"
      ],
      "text/plain": [
       "<interarray.svg.SvgRepr at 0x1c8e8b86f30>"
      ]
     },
     "metadata": {},
     "output_type": "display_data"
    },
    {
     "data": {
      "image/svg+xml": [
       "<svg xmlns=\"http://www.w3.org/2000/svg\" viewBox=\"0 0 1920 1080\"><defs ><filter x=\"-5%\" y=\"-5%\" id=\"bg_textbox\" width=\"110%\" height=\"110%\"><feFlood flood-opacity=\"0.7\" flood-color=\"#111\" result=\"bg\"/><feMerge ><feMergeNode in=\"bg\"/><feMergeNode in=\"SourceGraphic\"/></feMerge></filter><circle stroke=\"none\" stroke-width=\"2\" id=\"wtg\" r=\"12\"/><rect stroke=\"none\" stroke-width=\"2\" id=\"oss\" width=\"21\" height=\"21\" fill=\"lawngreen\"/></defs><g id=\"L_from_site\"><path stroke=\"silver\" stroke-dasharray=\"15 7\" stroke-width=\"2\" id=\"border\" d=\"M30 1050 1050 1050 1050 30 30 30z\" fill-rule=\"evenodd\" fill=\"#111\"/><g stroke=\"crimson\" stroke-width=\"4\" id=\"edges_unspecified\"><line x1=\"540\" y1=\"540\" x2=\"374\" y2=\"545\"/><line x1=\"374\" y1=\"545\" x2=\"375\" y2=\"578\"/><line x1=\"297\" y1=\"564\" x2=\"375\" y2=\"578\"/><line x1=\"297\" y1=\"564\" x2=\"283\" y2=\"562\"/><line x1=\"283\" y1=\"562\" x2=\"230\" y2=\"526\"/><line x1=\"230\" y1=\"526\" x2=\"187\" y2=\"473\"/><line x1=\"248\" y1=\"434\" x2=\"187\" y2=\"473\"/><line x1=\"310\" y1=\"401\" x2=\"248\" y2=\"434\"/><line x1=\"310\" y1=\"401\" x2=\"290\" y2=\"347\"/><line x1=\"351\" y1=\"351\" x2=\"290\" y2=\"347\"/><line x1=\"540\" y1=\"540\" x2=\"432\" y2=\"716\"/><line x1=\"540\" y1=\"540\" x2=\"512\" y2=\"389\"/><line x1=\"540\" y1=\"540\" x2=\"637\" y2=\"595\"/><line x1=\"540\" y1=\"540\" x2=\"549\" y2=\"773\"/><line x1=\"540\" y1=\"540\" x2=\"721\" y2=\"561\"/><line x1=\"776\" y1=\"383\" x2=\"739\" y2=\"399\"/><line x1=\"801\" y1=\"279\" x2=\"776\" y2=\"383\"/><line x1=\"801\" y1=\"279\" x2=\"965\" y2=\"211\"/><line x1=\"965\" y1=\"211\" x2=\"775\" y2=\"69\"/><line x1=\"775\" y1=\"69\" x2=\"664\" y2=\"87\"/><line x1=\"664\" y1=\"87\" x2=\"636\" y2=\"67\"/><line x1=\"636\" y1=\"67\" x2=\"666\" y2=\"282\"/><line x1=\"651\" y1=\"302\" x2=\"666\" y2=\"282\"/><line x1=\"619\" y1=\"420\" x2=\"651\" y2=\"302\"/><line x1=\"549\" y1=\"773\" x2=\"534\" y2=\"835\"/><line x1=\"544\" y1=\"928\" x2=\"534\" y2=\"835\"/><line x1=\"502\" y1=\"938\" x2=\"544\" y2=\"928\"/><line x1=\"502\" y1=\"938\" x2=\"450\" y2=\"901\"/><line x1=\"462\" y1=\"888\" x2=\"450\" y2=\"901\"/><line x1=\"453\" y1=\"876\" x2=\"462\" y2=\"888\"/><line x1=\"453\" y1=\"876\" x2=\"466\" y2=\"816\"/><line x1=\"466\" y1=\"816\" x2=\"502\" y2=\"785\"/><line x1=\"502\" y1=\"720\" x2=\"502\" y2=\"785\"/><line x1=\"819\" y1=\"773\" x2=\"900\" y2=\"778\"/><line x1=\"867\" y1=\"866\" x2=\"900\" y2=\"778\"/><line x1=\"867\" y1=\"866\" x2=\"859\" y2=\"862\"/><line x1=\"815\" y1=\"841\" x2=\"859\" y2=\"862\"/><line x1=\"785\" y1=\"841\" x2=\"815\" y2=\"841\"/><line x1=\"785\" y1=\"841\" x2=\"781\" y2=\"806\"/><line x1=\"759\" y1=\"825\" x2=\"781\" y2=\"806\"/><line x1=\"728\" y1=\"786\" x2=\"759\" y2=\"825\"/><line x1=\"432\" y1=\"716\" x2=\"325\" y2=\"886\"/><line x1=\"480\" y1=\"990\" x2=\"325\" y2=\"886\"/><line x1=\"497\" y1=\"994\" x2=\"480\" y2=\"990\"/><line x1=\"557\" y1=\"996\" x2=\"497\" y2=\"994\"/><line x1=\"564\" y1=\"975\" x2=\"557\" y2=\"996\"/><line x1=\"564\" y1=\"975\" x2=\"628\" y2=\"1031\"/><line x1=\"649\" y1=\"891\" x2=\"628\" y2=\"1031\"/><line x1=\"649\" y1=\"891\" x2=\"620\" y2=\"765\"/><line x1=\"587\" y1=\"683\" x2=\"620\" y2=\"765\"/><line x1=\"155\" y1=\"320\" x2=\"214\" y2=\"289\"/><line x1=\"155\" y1=\"320\" x2=\"158\" y2=\"340\"/><line x1=\"158\" y1=\"340\" x2=\"115\" y2=\"375\"/><line x1=\"97\" y1=\"313\" x2=\"115\" y2=\"375\"/><line x1=\"38\" y1=\"142\" x2=\"97\" y2=\"313\"/><line x1=\"38\" y1=\"142\" x2=\"236\" y2=\"82\"/><line x1=\"268\" y1=\"37\" x2=\"236\" y2=\"82\"/><line x1=\"268\" y1=\"37\" x2=\"303\" y2=\"76\"/><line x1=\"303\" y1=\"76\" x2=\"345\" y2=\"177\"/><line x1=\"512\" y1=\"389\" x2=\"527\" y2=\"327\"/><line x1=\"527\" y1=\"327\" x2=\"576\" y2=\"276\"/><line x1=\"541\" y1=\"148\" x2=\"576\" y2=\"276\"/><line x1=\"539\" y1=\"146\" x2=\"541\" y2=\"148\"/><line x1=\"539\" y1=\"146\" x2=\"476\" y2=\"89\"/><line x1=\"476\" y1=\"89\" x2=\"465\" y2=\"95\"/><line x1=\"457\" y1=\"80\" x2=\"465\" y2=\"95\"/><line x1=\"457\" y1=\"80\" x2=\"405\" y2=\"62\"/><line x1=\"54\" y1=\"585\" x2=\"149\" y2=\"509\"/><line x1=\"54\" y1=\"585\" x2=\"99\" y2=\"805\"/><line x1=\"84\" y1=\"1020\" x2=\"99\" y2=\"805\"/><line x1=\"158\" y1=\"823\" x2=\"84\" y2=\"1020\"/><line x1=\"152\" y1=\"782\" x2=\"158\" y2=\"823\"/><line x1=\"152\" y1=\"782\" x2=\"221\" y2=\"812\"/><line x1=\"222\" y1=\"801\" x2=\"221\" y2=\"812\"/><line x1=\"222\" y1=\"801\" x2=\"274\" y2=\"690\"/><line x1=\"737\" y1=\"473\" x2=\"787\" y2=\"491\"/><line x1=\"787\" y1=\"491\" x2=\"845\" y2=\"524\"/><line x1=\"887\" y1=\"486\" x2=\"845\" y2=\"524\"/><line x1=\"1044\" y1=\"526\" x2=\"887\" y2=\"486\"/><line x1=\"1044\" y1=\"526\" x2=\"965\" y2=\"349\"/><line x1=\"965\" y1=\"349\" x2=\"910\" y2=\"351\"/><line x1=\"823\" y1=\"418\" x2=\"910\" y2=\"351\"/><line x1=\"823\" y1=\"418\" x2=\"819\" y2=\"440\"/><line x1=\"819\" y1=\"440\" x2=\"739\" y2=\"429\"/><line x1=\"810\" y1=\"582\" x2=\"721\" y2=\"561\"/><line x1=\"810\" y1=\"582\" x2=\"931\" y2=\"724\"/><line x1=\"1040\" y1=\"781\" x2=\"931\" y2=\"724\"/><line x1=\"967\" y1=\"869\" x2=\"1040\" y2=\"781\"/><line x1=\"967\" y1=\"869\" x2=\"929\" y2=\"935\"/><line x1=\"929\" y1=\"935\" x2=\"884\" y2=\"949\"/><line x1=\"884\" y1=\"949\" x2=\"885\" y2=\"1017\"/><line x1=\"827\" y1=\"1026\" x2=\"885\" y2=\"1017\"/></g><g stroke=\"red\" stroke-dasharray=\"18 15\" stroke-width=\"4\" id=\"edges_tentative\"><line x1=\"540\" y1=\"540\" x2=\"296\" y2=\"503\"/><line x1=\"540\" y1=\"540\" x2=\"737\" y2=\"473\"/><line x1=\"540\" y1=\"540\" x2=\"214\" y2=\"289\"/><line x1=\"540\" y1=\"540\" x2=\"739\" y2=\"399\"/></g><g stroke=\"yellow\" stroke-dasharray=\"25 5\" stroke-width=\"4\" id=\"edges_rogue\"><line x1=\"819\" y1=\"773\" x2=\"637\" y2=\"595\"/><line x1=\"480\" y1=\"356\" x2=\"405\" y2=\"62\"/><line x1=\"296\" y1=\"503\" x2=\"149\" y2=\"509\"/><line x1=\"631\" y1=\"754\" x2=\"827\" y2=\"1026\"/></g><g id=\"WTGgrp\"><g fill=\"#1f77b4\"><use href=\"#wtg\" x=\"374\" y=\"545\"/><use href=\"#wtg\" x=\"375\" y=\"578\"/><use href=\"#wtg\" x=\"297\" y=\"564\"/><use href=\"#wtg\" x=\"283\" y=\"562\"/><use href=\"#wtg\" x=\"230\" y=\"526\"/><use href=\"#wtg\" x=\"187\" y=\"473\"/><use href=\"#wtg\" x=\"248\" y=\"434\"/><use href=\"#wtg\" x=\"310\" y=\"401\"/><use href=\"#wtg\" x=\"290\" y=\"347\"/><use href=\"#wtg\" x=\"351\" y=\"351\"/></g><g fill=\"#aec7e8\"><use href=\"#wtg\" x=\"739\" y=\"399\"/><use href=\"#wtg\" x=\"776\" y=\"383\"/><use href=\"#wtg\" x=\"801\" y=\"279\"/><use href=\"#wtg\" x=\"965\" y=\"211\"/><use href=\"#wtg\" x=\"775\" y=\"69\"/><use href=\"#wtg\" x=\"664\" y=\"87\"/><use href=\"#wtg\" x=\"636\" y=\"67\"/><use href=\"#wtg\" x=\"666\" y=\"282\"/><use href=\"#wtg\" x=\"651\" y=\"302\"/><use href=\"#wtg\" x=\"619\" y=\"420\"/></g><g fill=\"#ff7f0e\"><use href=\"#wtg\" x=\"549\" y=\"773\"/><use href=\"#wtg\" x=\"534\" y=\"835\"/><use href=\"#wtg\" x=\"544\" y=\"928\"/><use href=\"#wtg\" x=\"502\" y=\"938\"/><use href=\"#wtg\" x=\"450\" y=\"901\"/><use href=\"#wtg\" x=\"462\" y=\"888\"/><use href=\"#wtg\" x=\"453\" y=\"876\"/><use href=\"#wtg\" x=\"466\" y=\"816\"/><use href=\"#wtg\" x=\"502\" y=\"785\"/><use href=\"#wtg\" x=\"502\" y=\"720\"/></g><g fill=\"#ffbb78\"><use href=\"#wtg\" x=\"637\" y=\"595\"/><use href=\"#wtg\" x=\"819\" y=\"773\"/><use href=\"#wtg\" x=\"900\" y=\"778\"/><use href=\"#wtg\" x=\"867\" y=\"866\"/><use href=\"#wtg\" x=\"859\" y=\"862\"/><use href=\"#wtg\" x=\"815\" y=\"841\"/><use href=\"#wtg\" x=\"785\" y=\"841\"/><use href=\"#wtg\" x=\"781\" y=\"806\"/><use href=\"#wtg\" x=\"759\" y=\"825\"/><use href=\"#wtg\" x=\"728\" y=\"786\"/></g><g fill=\"#2ca02c\"><use href=\"#wtg\" x=\"432\" y=\"716\"/><use href=\"#wtg\" x=\"325\" y=\"886\"/><use href=\"#wtg\" x=\"480\" y=\"990\"/><use href=\"#wtg\" x=\"497\" y=\"994\"/><use href=\"#wtg\" x=\"557\" y=\"996\"/><use href=\"#wtg\" x=\"564\" y=\"975\"/><use href=\"#wtg\" x=\"628\" y=\"1031\"/><use href=\"#wtg\" x=\"649\" y=\"891\"/><use href=\"#wtg\" x=\"620\" y=\"765\"/><use href=\"#wtg\" x=\"587\" y=\"683\"/></g><g fill=\"#98df8a\"><use href=\"#wtg\" x=\"214\" y=\"289\"/><use href=\"#wtg\" x=\"155\" y=\"320\"/><use href=\"#wtg\" x=\"158\" y=\"340\"/><use href=\"#wtg\" x=\"115\" y=\"375\"/><use href=\"#wtg\" x=\"97\" y=\"313\"/><use href=\"#wtg\" x=\"38\" y=\"142\"/><use href=\"#wtg\" x=\"236\" y=\"82\"/><use href=\"#wtg\" x=\"268\" y=\"37\"/><use href=\"#wtg\" x=\"303\" y=\"76\"/><use href=\"#wtg\" x=\"345\" y=\"177\"/></g><g fill=\"#d62728\"><use href=\"#wtg\" x=\"512\" y=\"389\"/><use href=\"#wtg\" x=\"527\" y=\"327\"/><use href=\"#wtg\" x=\"576\" y=\"276\"/><use href=\"#wtg\" x=\"541\" y=\"148\"/><use href=\"#wtg\" x=\"539\" y=\"146\"/><use href=\"#wtg\" x=\"476\" y=\"89\"/><use href=\"#wtg\" x=\"465\" y=\"95\"/><use href=\"#wtg\" x=\"457\" y=\"80\"/><use href=\"#wtg\" x=\"405\" y=\"62\"/><use href=\"#wtg\" x=\"480\" y=\"356\"/></g><g fill=\"#ff9896\"><use href=\"#wtg\" x=\"296\" y=\"503\"/><use href=\"#wtg\" x=\"149\" y=\"509\"/><use href=\"#wtg\" x=\"54\" y=\"585\"/><use href=\"#wtg\" x=\"99\" y=\"805\"/><use href=\"#wtg\" x=\"84\" y=\"1020\"/><use href=\"#wtg\" x=\"158\" y=\"823\"/><use href=\"#wtg\" x=\"152\" y=\"782\"/><use href=\"#wtg\" x=\"221\" y=\"812\"/><use href=\"#wtg\" x=\"222\" y=\"801\"/><use href=\"#wtg\" x=\"274\" y=\"690\"/></g><g fill=\"#9467bd\"><use href=\"#wtg\" x=\"737\" y=\"473\"/><use href=\"#wtg\" x=\"787\" y=\"491\"/><use href=\"#wtg\" x=\"845\" y=\"524\"/><use href=\"#wtg\" x=\"887\" y=\"486\"/><use href=\"#wtg\" x=\"1044\" y=\"526\"/><use href=\"#wtg\" x=\"965\" y=\"349\"/><use href=\"#wtg\" x=\"910\" y=\"351\"/><use href=\"#wtg\" x=\"823\" y=\"418\"/><use href=\"#wtg\" x=\"819\" y=\"440\"/><use href=\"#wtg\" x=\"739\" y=\"429\"/></g><g fill=\"#c5b0d5\"><use href=\"#wtg\" x=\"721\" y=\"561\"/><use href=\"#wtg\" x=\"810\" y=\"582\"/><use href=\"#wtg\" x=\"931\" y=\"724\"/><use href=\"#wtg\" x=\"1040\" y=\"781\"/><use href=\"#wtg\" x=\"967\" y=\"869\"/><use href=\"#wtg\" x=\"929\" y=\"935\"/><use href=\"#wtg\" x=\"884\" y=\"949\"/><use href=\"#wtg\" x=\"885\" y=\"1017\"/><use href=\"#wtg\" x=\"827\" y=\"1026\"/><use href=\"#wtg\" x=\"631\" y=\"754\"/></g></g><g id=\"OSSgrp\"><use href=\"#oss\" x=\"529.5\" y=\"529.5\"/></g></g><text stroke=\"#000\" stroke-width=\"0.01em\" text-anchor=\"end\" font-family=\"sans-serif\" font-size=\"40\" fill=\"white\" x=\"1050\" y=\"1050\"><tspan x=\"1050\" dy=\"-0.0em\">&#931;&#955; = 10212.0 m</tspan><tspan x=\"1050\" dy=\"-1.3em\">(+0) &#945;: 10</tspan><tspan x=\"1050\" dy=\"-1.3em\">&#954; = 10, T = 100</tspan></text></svg>"
      ],
      "text/plain": [
       "<interarray.svg.SvgRepr at 0x1c8eeeea840>"
      ]
     },
     "metadata": {},
     "output_type": "display_data"
    },
    {
     "data": {
      "image/svg+xml": [
       "<svg xmlns=\"http://www.w3.org/2000/svg\" viewBox=\"0 0 1920 1080\"><defs ><filter x=\"-5%\" y=\"-5%\" id=\"bg_textbox\" width=\"110%\" height=\"110%\"><feFlood flood-opacity=\"0.7\" flood-color=\"#111\" result=\"bg\"/><feMerge ><feMergeNode in=\"bg\"/><feMergeNode in=\"SourceGraphic\"/></feMerge></filter><circle stroke=\"none\" stroke-width=\"2\" id=\"wtg\" r=\"12\"/><rect stroke=\"none\" stroke-width=\"2\" id=\"oss\" width=\"21\" height=\"21\" fill=\"lawngreen\"/></defs><g id=\"L_from_site\"><path stroke=\"silver\" stroke-dasharray=\"15 7\" stroke-width=\"2\" id=\"border\" d=\"M30 1050 1050 1050 1050 30 30 30z\" fill-rule=\"evenodd\" fill=\"#111\"/><g stroke=\"crimson\" stroke-width=\"4\" id=\"edges_unspecified\"><line x1=\"814\" y1=\"610\" x2=\"858\" y2=\"585\"/><line x1=\"874\" y1=\"608\" x2=\"858\" y2=\"585\"/><line x1=\"874\" y1=\"608\" x2=\"794\" y2=\"666\"/><line x1=\"794\" y1=\"666\" x2=\"739\" y2=\"660\"/><line x1=\"739\" y1=\"660\" x2=\"692\" y2=\"701\"/><line x1=\"623\" y1=\"713\" x2=\"692\" y2=\"701\"/><line x1=\"623\" y1=\"713\" x2=\"566\" y2=\"606\"/><line x1=\"540\" y1=\"540\" x2=\"570\" y2=\"541\"/><line x1=\"540\" y1=\"540\" x2=\"405\" y2=\"707\"/><line x1=\"540\" y1=\"540\" x2=\"406\" y2=\"499\"/><line x1=\"555\" y1=\"868\" x2=\"568\" y2=\"877\"/><line x1=\"681\" y1=\"941\" x2=\"568\" y2=\"877\"/><line x1=\"744\" y1=\"1029\" x2=\"681\" y2=\"941\"/><line x1=\"744\" y1=\"1029\" x2=\"757\" y2=\"1013\"/><line x1=\"785\" y1=\"863\" x2=\"757\" y2=\"1013\"/><line x1=\"794\" y1=\"792\" x2=\"785\" y2=\"863\"/><line x1=\"794\" y1=\"792\" x2=\"778\" y2=\"759\"/><line x1=\"110\" y1=\"447\" x2=\"127\" y2=\"478\"/><line x1=\"151\" y1=\"541\" x2=\"127\" y2=\"478\"/><line x1=\"162\" y1=\"528\" x2=\"151\" y2=\"541\"/><line x1=\"162\" y1=\"528\" x2=\"194\" y2=\"511\"/><line x1=\"200\" y1=\"504\" x2=\"194\" y2=\"511\"/><line x1=\"200\" y1=\"504\" x2=\"330\" y2=\"550\"/><line x1=\"362\" y1=\"218\" x2=\"353\" y2=\"278\"/><line x1=\"362\" y1=\"218\" x2=\"400\" y2=\"101\"/><line x1=\"400\" y1=\"101\" x2=\"394\" y2=\"68\"/><line x1=\"394\" y1=\"68\" x2=\"346\" y2=\"44\"/><line x1=\"282\" y1=\"212\" x2=\"346\" y2=\"44\"/><line x1=\"282\" y1=\"212\" x2=\"215\" y2=\"270\"/><line x1=\"313\" y1=\"321\" x2=\"215\" y2=\"270\"/><line x1=\"684\" y1=\"400\" x2=\"712\" y2=\"383\"/><line x1=\"781\" y1=\"214\" x2=\"712\" y2=\"383\"/><line x1=\"864\" y1=\"141\" x2=\"781\" y2=\"214\"/><line x1=\"864\" y1=\"141\" x2=\"1048\" y2=\"310\"/><line x1=\"1048\" y1=\"310\" x2=\"902\" y2=\"471\"/><line x1=\"882\" y1=\"504\" x2=\"902\" y2=\"471\"/><line x1=\"681\" y1=\"484\" x2=\"882\" y2=\"504\"/><line x1=\"162\" y1=\"362\" x2=\"102\" y2=\"292\"/><line x1=\"65\" y1=\"160\" x2=\"102\" y2=\"292\"/><line x1=\"65\" y1=\"160\" x2=\"96\" y2=\"48\"/><line x1=\"117\" y1=\"58\" x2=\"96\" y2=\"48\"/><line x1=\"150\" y1=\"66\" x2=\"117\" y2=\"58\"/><line x1=\"150\" y1=\"66\" x2=\"182\" y2=\"51\"/><line x1=\"165\" y1=\"125\" x2=\"182\" y2=\"51\"/><line x1=\"419\" y1=\"454\" x2=\"406\" y2=\"499\"/><line x1=\"419\" y1=\"454\" x2=\"423\" y2=\"438\"/><line x1=\"479\" y1=\"385\" x2=\"423\" y2=\"438\"/><line x1=\"479\" y1=\"385\" x2=\"546\" y2=\"384\"/><line x1=\"546\" y1=\"384\" x2=\"591\" y2=\"411\"/><line x1=\"572\" y1=\"426\" x2=\"591\" y2=\"411\"/><line x1=\"405\" y1=\"707\" x2=\"331\" y2=\"752\"/><line x1=\"225\" y1=\"739\" x2=\"331\" y2=\"752\"/><line x1=\"225\" y1=\"739\" x2=\"117\" y2=\"729\"/><line x1=\"78\" y1=\"768\" x2=\"117\" y2=\"729\"/><line x1=\"78\" y1=\"768\" x2=\"58\" y2=\"662\"/><line x1=\"58\" y1=\"662\" x2=\"142\" y2=\"610\"/><line x1=\"932\" y1=\"882\" x2=\"933\" y2=\"995\"/><line x1=\"933\" y1=\"995\" x2=\"1031\" y2=\"1029\"/><line x1=\"1031\" y1=\"1029\" x2=\"1011\" y2=\"1005\"/><line x1=\"1000\" y1=\"965\" x2=\"1011\" y2=\"1005\"/><line x1=\"980\" y1=\"885\" x2=\"1000\" y2=\"965\"/><line x1=\"980\" y1=\"885\" x2=\"971\" y2=\"829\"/><line x1=\"971\" y1=\"829\" x2=\"1046\" y2=\"619\"/><line x1=\"126\" y1=\"809\" x2=\"49\" y2=\"903\"/><line x1=\"50\" y1=\"977\" x2=\"49\" y2=\"903\"/><line x1=\"50\" y1=\"977\" x2=\"161\" y2=\"1046\"/><line x1=\"257\" y1=\"949\" x2=\"161\" y2=\"1046\"/><line x1=\"322\" y1=\"894\" x2=\"257\" y2=\"949\"/><line x1=\"404\" y1=\"818\" x2=\"322\" y2=\"894\"/><line x1=\"570\" y1=\"541\" x2=\"628\" y2=\"525\"/><line x1=\"644\" y1=\"499\" x2=\"628\" y2=\"525\"/><line x1=\"644\" y1=\"499\" x2=\"649\" y2=\"574\"/><line x1=\"649\" y1=\"574\" x2=\"616\" y2=\"578\"/><line x1=\"669\" y1=\"148\" x2=\"558\" y2=\"266\"/><line x1=\"669\" y1=\"148\" x2=\"713\" y2=\"42\"/><line x1=\"645\" y1=\"66\" x2=\"713\" y2=\"42\"/><line x1=\"645\" y1=\"66\" x2=\"615\" y2=\"48\"/><line x1=\"543\" y1=\"45\" x2=\"615\" y2=\"48\"/><line x1=\"428\" y1=\"255\" x2=\"543\" y2=\"45\"/><line x1=\"564\" y1=\"789\" x2=\"475\" y2=\"869\"/><line x1=\"475\" y1=\"869\" x2=\"491\" y2=\"945\"/><line x1=\"486\" y1=\"990\" x2=\"491\" y2=\"945\"/><line x1=\"486\" y1=\"990\" x2=\"414\" y2=\"969\"/><line x1=\"414\" y1=\"969\" x2=\"389\" y2=\"1048\"/><line x1=\"343\" y1=\"967\" x2=\"389\" y2=\"1048\"/><line x1=\"343\" y1=\"967\" x2=\"408\" y2=\"895\"/></g><g stroke=\"red\" stroke-dasharray=\"18 15\" stroke-width=\"4\" id=\"edges_tentative\"><line x1=\"540\" y1=\"540\" x2=\"814\" y2=\"610\"/><line x1=\"540\" y1=\"540\" x2=\"684\" y2=\"400\"/><line x1=\"540\" y1=\"540\" x2=\"564\" y2=\"789\"/><line x1=\"540\" y1=\"540\" x2=\"558\" y2=\"266\"/><line x1=\"540\" y1=\"540\" x2=\"162\" y2=\"362\"/><line x1=\"540\" y1=\"540\" x2=\"932\" y2=\"882\"/><line x1=\"540\" y1=\"540\" x2=\"555\" y2=\"868\"/><line x1=\"540\" y1=\"540\" x2=\"256\" y2=\"453\"/><line x1=\"540\" y1=\"540\" x2=\"353\" y2=\"680\"/><line x1=\"540\" y1=\"540\" x2=\"353\" y2=\"278\"/></g><g stroke=\"yellow\" stroke-dasharray=\"25 5\" stroke-width=\"4\" id=\"edges_rogue\"><line x1=\"256\" y1=\"453\" x2=\"110\" y2=\"447\"/><line x1=\"362\" y1=\"576\" x2=\"142\" y2=\"610\"/><line x1=\"353\" y1=\"680\" x2=\"126\" y2=\"809\"/><line x1=\"428\" y1=\"255\" x2=\"507\" y2=\"464\"/></g><g id=\"WTGgrp\"><g fill=\"#1f77b4\"><use href=\"#wtg\" x=\"814\" y=\"610\"/><use href=\"#wtg\" x=\"858\" y=\"585\"/><use href=\"#wtg\" x=\"874\" y=\"608\"/><use href=\"#wtg\" x=\"794\" y=\"666\"/><use href=\"#wtg\" x=\"739\" y=\"660\"/><use href=\"#wtg\" x=\"692\" y=\"701\"/><use href=\"#wtg\" x=\"623\" y=\"713\"/><use href=\"#wtg\" x=\"566\" y=\"606\"/></g><g fill=\"#aec7e8\"><use href=\"#wtg\" x=\"555\" y=\"868\"/><use href=\"#wtg\" x=\"568\" y=\"877\"/><use href=\"#wtg\" x=\"681\" y=\"941\"/><use href=\"#wtg\" x=\"744\" y=\"1029\"/><use href=\"#wtg\" x=\"757\" y=\"1013\"/><use href=\"#wtg\" x=\"785\" y=\"863\"/><use href=\"#wtg\" x=\"794\" y=\"792\"/><use href=\"#wtg\" x=\"778\" y=\"759\"/></g><g fill=\"#ff7f0e\"><use href=\"#wtg\" x=\"256\" y=\"453\"/><use href=\"#wtg\" x=\"110\" y=\"447\"/><use href=\"#wtg\" x=\"127\" y=\"478\"/><use href=\"#wtg\" x=\"151\" y=\"541\"/><use href=\"#wtg\" x=\"162\" y=\"528\"/><use href=\"#wtg\" x=\"194\" y=\"511\"/><use href=\"#wtg\" x=\"200\" y=\"504\"/><use href=\"#wtg\" x=\"330\" y=\"550\"/></g><g fill=\"#ffbb78\"><use href=\"#wtg\" x=\"353\" y=\"278\"/><use href=\"#wtg\" x=\"362\" y=\"218\"/><use href=\"#wtg\" x=\"400\" y=\"101\"/><use href=\"#wtg\" x=\"394\" y=\"68\"/><use href=\"#wtg\" x=\"346\" y=\"44\"/><use href=\"#wtg\" x=\"282\" y=\"212\"/><use href=\"#wtg\" x=\"215\" y=\"270\"/><use href=\"#wtg\" x=\"313\" y=\"321\"/></g><g fill=\"#2ca02c\"><use href=\"#wtg\" x=\"684\" y=\"400\"/><use href=\"#wtg\" x=\"712\" y=\"383\"/><use href=\"#wtg\" x=\"781\" y=\"214\"/><use href=\"#wtg\" x=\"864\" y=\"141\"/><use href=\"#wtg\" x=\"1048\" y=\"310\"/><use href=\"#wtg\" x=\"902\" y=\"471\"/><use href=\"#wtg\" x=\"882\" y=\"504\"/><use href=\"#wtg\" x=\"681\" y=\"484\"/></g><g fill=\"#98df8a\"><use href=\"#wtg\" x=\"162\" y=\"362\"/><use href=\"#wtg\" x=\"102\" y=\"292\"/><use href=\"#wtg\" x=\"65\" y=\"160\"/><use href=\"#wtg\" x=\"96\" y=\"48\"/><use href=\"#wtg\" x=\"117\" y=\"58\"/><use href=\"#wtg\" x=\"150\" y=\"66\"/><use href=\"#wtg\" x=\"182\" y=\"51\"/><use href=\"#wtg\" x=\"165\" y=\"125\"/></g><g fill=\"#d62728\"><use href=\"#wtg\" x=\"406\" y=\"499\"/><use href=\"#wtg\" x=\"419\" y=\"454\"/><use href=\"#wtg\" x=\"423\" y=\"438\"/><use href=\"#wtg\" x=\"479\" y=\"385\"/><use href=\"#wtg\" x=\"546\" y=\"384\"/><use href=\"#wtg\" x=\"591\" y=\"411\"/><use href=\"#wtg\" x=\"572\" y=\"426\"/></g><g fill=\"#ff9896\"><use href=\"#wtg\" x=\"405\" y=\"707\"/><use href=\"#wtg\" x=\"331\" y=\"752\"/><use href=\"#wtg\" x=\"225\" y=\"739\"/><use href=\"#wtg\" x=\"117\" y=\"729\"/><use href=\"#wtg\" x=\"78\" y=\"768\"/><use href=\"#wtg\" x=\"58\" y=\"662\"/><use href=\"#wtg\" x=\"142\" y=\"610\"/><use href=\"#wtg\" x=\"362\" y=\"576\"/></g><g fill=\"#9467bd\"><use href=\"#wtg\" x=\"932\" y=\"882\"/><use href=\"#wtg\" x=\"933\" y=\"995\"/><use href=\"#wtg\" x=\"1031\" y=\"1029\"/><use href=\"#wtg\" x=\"1011\" y=\"1005\"/><use href=\"#wtg\" x=\"1000\" y=\"965\"/><use href=\"#wtg\" x=\"980\" y=\"885\"/><use href=\"#wtg\" x=\"971\" y=\"829\"/><use href=\"#wtg\" x=\"1046\" y=\"619\"/></g><g fill=\"#c5b0d5\"><use href=\"#wtg\" x=\"353\" y=\"680\"/><use href=\"#wtg\" x=\"126\" y=\"809\"/><use href=\"#wtg\" x=\"49\" y=\"903\"/><use href=\"#wtg\" x=\"50\" y=\"977\"/><use href=\"#wtg\" x=\"161\" y=\"1046\"/><use href=\"#wtg\" x=\"257\" y=\"949\"/><use href=\"#wtg\" x=\"322\" y=\"894\"/><use href=\"#wtg\" x=\"404\" y=\"818\"/></g><g fill=\"#8c564b\"><use href=\"#wtg\" x=\"570\" y=\"541\"/><use href=\"#wtg\" x=\"628\" y=\"525\"/><use href=\"#wtg\" x=\"644\" y=\"499\"/><use href=\"#wtg\" x=\"649\" y=\"574\"/><use href=\"#wtg\" x=\"616\" y=\"578\"/></g><g fill=\"#c49c94\"><use href=\"#wtg\" x=\"558\" y=\"266\"/><use href=\"#wtg\" x=\"669\" y=\"148\"/><use href=\"#wtg\" x=\"713\" y=\"42\"/><use href=\"#wtg\" x=\"645\" y=\"66\"/><use href=\"#wtg\" x=\"615\" y=\"48\"/><use href=\"#wtg\" x=\"543\" y=\"45\"/><use href=\"#wtg\" x=\"428\" y=\"255\"/><use href=\"#wtg\" x=\"507\" y=\"464\"/></g><g fill=\"#e377c2\"><use href=\"#wtg\" x=\"564\" y=\"789\"/><use href=\"#wtg\" x=\"475\" y=\"869\"/><use href=\"#wtg\" x=\"491\" y=\"945\"/><use href=\"#wtg\" x=\"486\" y=\"990\"/><use href=\"#wtg\" x=\"414\" y=\"969\"/><use href=\"#wtg\" x=\"389\" y=\"1048\"/><use href=\"#wtg\" x=\"343\" y=\"967\"/><use href=\"#wtg\" x=\"408\" y=\"895\"/></g></g><g id=\"OSSgrp\"><use href=\"#oss\" x=\"529.5\" y=\"529.5\"/></g></g><text stroke=\"#000\" stroke-width=\"0.01em\" text-anchor=\"end\" font-family=\"sans-serif\" font-size=\"40\" fill=\"white\" x=\"1050\" y=\"1050\"><tspan x=\"1050\" dy=\"-0.0em\">&#931;&#955; = 11302.0 m</tspan><tspan x=\"1050\" dy=\"-1.3em\">(+0) &#945;: 13</tspan><tspan x=\"1050\" dy=\"-1.3em\">&#954; = 8, T = 100</tspan></text></svg>"
      ],
      "text/plain": [
       "<interarray.svg.SvgRepr at 0x1c8eb49d880>"
      ]
     },
     "metadata": {},
     "output_type": "display_data"
    },
    {
     "data": {
      "image/svg+xml": [
       "<svg xmlns=\"http://www.w3.org/2000/svg\" viewBox=\"0 0 1920 1080\"><defs ><filter x=\"-5%\" y=\"-5%\" id=\"bg_textbox\" width=\"110%\" height=\"110%\"><feFlood flood-opacity=\"0.7\" flood-color=\"#111\" result=\"bg\"/><feMerge ><feMergeNode in=\"bg\"/><feMergeNode in=\"SourceGraphic\"/></feMerge></filter><circle stroke=\"none\" stroke-width=\"2\" id=\"wtg\" r=\"12\"/><rect stroke=\"none\" stroke-width=\"2\" id=\"oss\" width=\"21\" height=\"21\" fill=\"lawngreen\"/></defs><g id=\"L_from_site\"><path stroke=\"silver\" stroke-dasharray=\"15 7\" stroke-width=\"2\" id=\"border\" d=\"M30 1050 1050 1050 1050 30 30 30z\" fill-rule=\"evenodd\" fill=\"#111\"/><g stroke=\"crimson\" stroke-width=\"4\" id=\"edges_unspecified\"><line x1=\"540\" y1=\"540\" x2=\"433\" y2=\"669\"/><line x1=\"433\" y1=\"669\" x2=\"396\" y2=\"670\"/><line x1=\"321\" y1=\"678\" x2=\"396\" y2=\"670\"/><line x1=\"321\" y1=\"678\" x2=\"275\" y2=\"647\"/><line x1=\"275\" y1=\"647\" x2=\"199\" y2=\"613\"/><line x1=\"101\" y1=\"616\" x2=\"199\" y2=\"613\"/><line x1=\"101\" y1=\"616\" x2=\"90\" y2=\"653\"/><line x1=\"90\" y1=\"653\" x2=\"124\" y2=\"847\"/><line x1=\"202\" y1=\"921\" x2=\"124\" y2=\"847\"/><line x1=\"202\" y1=\"921\" x2=\"230\" y2=\"1041\"/><line x1=\"265\" y1=\"977\" x2=\"230\" y2=\"1041\"/><line x1=\"327\" y1=\"809\" x2=\"265\" y2=\"977\"/><line x1=\"327\" y1=\"809\" x2=\"391\" y2=\"837\"/><line x1=\"443\" y1=\"855\" x2=\"391\" y2=\"837\"/><line x1=\"443\" y1=\"855\" x2=\"484\" y2=\"960\"/><line x1=\"492\" y1=\"1014\" x2=\"484\" y2=\"960\"/><line x1=\"492\" y1=\"1014\" x2=\"544\" y2=\"948\"/><line x1=\"636\" y1=\"867\" x2=\"544\" y2=\"948\"/><line x1=\"636\" y1=\"867\" x2=\"634\" y2=\"691\"/><line x1=\"634\" y1=\"691\" x2=\"549\" y2=\"682\"/><line x1=\"540\" y1=\"540\" x2=\"726\" y2=\"576\"/><line x1=\"540\" y1=\"540\" x2=\"545\" y2=\"372\"/><line x1=\"536\" y1=\"287\" x2=\"545\" y2=\"372\"/><line x1=\"536\" y1=\"287\" x2=\"542\" y2=\"238\"/><line x1=\"542\" y1=\"238\" x2=\"579\" y2=\"187\"/><line x1=\"579\" y1=\"187\" x2=\"570\" y2=\"185\"/><line x1=\"570\" y1=\"185\" x2=\"546\" y2=\"170\"/><line x1=\"554\" y1=\"120\" x2=\"546\" y2=\"170\"/><line x1=\"554\" y1=\"120\" x2=\"607\" y2=\"123\"/><line x1=\"607\" y1=\"99\" x2=\"607\" y2=\"123\"/><line x1=\"607\" y1=\"99\" x2=\"673\" y2=\"78\"/><line x1=\"635\" y1=\"41\" x2=\"673\" y2=\"78\"/><line x1=\"635\" y1=\"41\" x2=\"456\" y2=\"35\"/><line x1=\"407\" y1=\"110\" x2=\"456\" y2=\"35\"/><line x1=\"292\" y1=\"46\" x2=\"407\" y2=\"110\"/><line x1=\"232\" y1=\"38\" x2=\"292\" y2=\"46\"/><line x1=\"232\" y1=\"38\" x2=\"185\" y2=\"78\"/><line x1=\"232\" y1=\"81\" x2=\"185\" y2=\"78\"/><line x1=\"232\" y1=\"81\" x2=\"242\" y2=\"88\"/><line x1=\"486\" y1=\"343\" x2=\"442\" y2=\"280\"/><line x1=\"1037\" y1=\"754\" x2=\"1043\" y2=\"626\"/><line x1=\"1005\" y1=\"812\" x2=\"1037\" y2=\"754\"/><line x1=\"1005\" y1=\"812\" x2=\"993\" y2=\"866\"/><line x1=\"993\" y1=\"866\" x2=\"1014\" y2=\"876\"/><line x1=\"1013\" y1=\"884\" x2=\"1014\" y2=\"876\"/><line x1=\"1004\" y1=\"952\" x2=\"1013\" y2=\"884\"/><line x1=\"1004\" y1=\"952\" x2=\"1008\" y2=\"986\"/><line x1=\"1023\" y1=\"1024\" x2=\"1008\" y2=\"986\"/><line x1=\"922\" y1=\"1030\" x2=\"1023\" y2=\"1024\"/><line x1=\"906\" y1=\"1030\" x2=\"922\" y2=\"1030\"/><line x1=\"774\" y1=\"919\" x2=\"906\" y2=\"1030\"/><line x1=\"868\" y1=\"854\" x2=\"774\" y2=\"919\"/><line x1=\"868\" y1=\"854\" x2=\"846\" y2=\"802\"/><line x1=\"846\" y1=\"802\" x2=\"882\" y2=\"725\"/><line x1=\"864\" y1=\"716\" x2=\"882\" y2=\"725\"/><line x1=\"866\" y1=\"712\" x2=\"864\" y2=\"716\"/><line x1=\"861\" y1=\"673\" x2=\"866\" y2=\"712\"/><line x1=\"820\" y1=\"642\" x2=\"726\" y2=\"576\"/><line x1=\"820\" y1=\"642\" x2=\"870\" y2=\"598\"/><line x1=\"870\" y1=\"598\" x2=\"905\" y2=\"581\"/><line x1=\"905\" y1=\"581\" x2=\"910\" y2=\"531\"/><line x1=\"910\" y1=\"531\" x2=\"924\" y2=\"486\"/><line x1=\"947\" y1=\"470\" x2=\"924\" y2=\"486\"/><line x1=\"947\" y1=\"470\" x2=\"900\" y2=\"419\"/><line x1=\"900\" y1=\"419\" x2=\"884\" y2=\"360\"/><line x1=\"886\" y1=\"352\" x2=\"884\" y2=\"360\"/><line x1=\"886\" y1=\"352\" x2=\"908\" y2=\"214\"/><line x1=\"965\" y1=\"41\" x2=\"908\" y2=\"214\"/><line x1=\"965\" y1=\"41\" x2=\"897\" y2=\"59\"/><line x1=\"730\" y1=\"148\" x2=\"897\" y2=\"59\"/><line x1=\"730\" y1=\"148\" x2=\"783\" y2=\"193\"/><line x1=\"799\" y1=\"201\" x2=\"783\" y2=\"193\"/><line x1=\"816\" y1=\"261\" x2=\"799\" y2=\"201\"/><line x1=\"816\" y1=\"261\" x2=\"662\" y2=\"293\"/><line x1=\"622\" y1=\"382\" x2=\"662\" y2=\"293\"/><line x1=\"622\" y1=\"382\" x2=\"586\" y2=\"449\"/><line x1=\"302\" y1=\"467\" x2=\"369\" y2=\"428\"/><line x1=\"253\" y1=\"448\" x2=\"302\" y2=\"467\"/><line x1=\"247\" y1=\"431\" x2=\"253\" y2=\"448\"/><line x1=\"247\" y1=\"431\" x2=\"249\" y2=\"354\"/><line x1=\"275\" y1=\"341\" x2=\"249\" y2=\"354\"/><line x1=\"239\" y1=\"330\" x2=\"275\" y2=\"341\"/><line x1=\"181\" y1=\"208\" x2=\"239\" y2=\"330\"/><line x1=\"181\" y1=\"208\" x2=\"187\" y2=\"169\"/><line x1=\"178\" y1=\"159\" x2=\"187\" y2=\"169\"/><line x1=\"178\" y1=\"159\" x2=\"178\" y2=\"166\"/><line x1=\"153\" y1=\"231\" x2=\"178\" y2=\"166\"/><line x1=\"153\" y1=\"231\" x2=\"51\" y2=\"233\"/><line x1=\"78\" y1=\"257\" x2=\"51\" y2=\"233\"/><line x1=\"78\" y1=\"257\" x2=\"66\" y2=\"297\"/><line x1=\"61\" y1=\"389\" x2=\"66\" y2=\"297\"/><line x1=\"61\" y1=\"389\" x2=\"59\" y2=\"502\"/><line x1=\"119\" y1=\"483\" x2=\"59\" y2=\"502\"/><line x1=\"119\" y1=\"483\" x2=\"210\" y2=\"594\"/></g><g stroke=\"red\" stroke-dasharray=\"18 15\" stroke-width=\"4\" id=\"edges_tentative\"><line x1=\"540\" y1=\"540\" x2=\"369\" y2=\"428\"/><line x1=\"540\" y1=\"540\" x2=\"813\" y2=\"482\"/></g><g stroke=\"yellow\" stroke-dasharray=\"25 5\" stroke-width=\"4\" id=\"edges_rogue\"><line x1=\"442\" y1=\"280\" x2=\"242\" y2=\"88\"/><line x1=\"813\" y1=\"482\" x2=\"1043\" y2=\"626\"/><line x1=\"680\" y1=\"633\" x2=\"861\" y2=\"673\"/><line x1=\"462\" y1=\"525\" x2=\"210\" y2=\"594\"/></g><g id=\"WTGgrp\"><g fill=\"#1f77b4\"><use href=\"#wtg\" x=\"433\" y=\"669\"/><use href=\"#wtg\" x=\"396\" y=\"670\"/><use href=\"#wtg\" x=\"321\" y=\"678\"/><use href=\"#wtg\" x=\"275\" y=\"647\"/><use href=\"#wtg\" x=\"199\" y=\"613\"/><use href=\"#wtg\" x=\"101\" y=\"616\"/><use href=\"#wtg\" x=\"90\" y=\"653\"/><use href=\"#wtg\" x=\"124\" y=\"847\"/><use href=\"#wtg\" x=\"202\" y=\"921\"/><use href=\"#wtg\" x=\"230\" y=\"1041\"/><use href=\"#wtg\" x=\"265\" y=\"977\"/><use href=\"#wtg\" x=\"327\" y=\"809\"/><use href=\"#wtg\" x=\"391\" y=\"837\"/><use href=\"#wtg\" x=\"443\" y=\"855\"/><use href=\"#wtg\" x=\"484\" y=\"960\"/><use href=\"#wtg\" x=\"492\" y=\"1014\"/><use href=\"#wtg\" x=\"544\" y=\"948\"/><use href=\"#wtg\" x=\"636\" y=\"867\"/><use href=\"#wtg\" x=\"634\" y=\"691\"/><use href=\"#wtg\" x=\"549\" y=\"682\"/></g><g fill=\"#aec7e8\"><use href=\"#wtg\" x=\"545\" y=\"372\"/><use href=\"#wtg\" x=\"536\" y=\"287\"/><use href=\"#wtg\" x=\"542\" y=\"238\"/><use href=\"#wtg\" x=\"579\" y=\"187\"/><use href=\"#wtg\" x=\"570\" y=\"185\"/><use href=\"#wtg\" x=\"546\" y=\"170\"/><use href=\"#wtg\" x=\"554\" y=\"120\"/><use href=\"#wtg\" x=\"607\" y=\"123\"/><use href=\"#wtg\" x=\"607\" y=\"99\"/><use href=\"#wtg\" x=\"673\" y=\"78\"/><use href=\"#wtg\" x=\"635\" y=\"41\"/><use href=\"#wtg\" x=\"456\" y=\"35\"/><use href=\"#wtg\" x=\"407\" y=\"110\"/><use href=\"#wtg\" x=\"292\" y=\"46\"/><use href=\"#wtg\" x=\"232\" y=\"38\"/><use href=\"#wtg\" x=\"185\" y=\"78\"/><use href=\"#wtg\" x=\"232\" y=\"81\"/><use href=\"#wtg\" x=\"242\" y=\"88\"/><use href=\"#wtg\" x=\"442\" y=\"280\"/><use href=\"#wtg\" x=\"486\" y=\"343\"/></g><g fill=\"#ff7f0e\"><use href=\"#wtg\" x=\"813\" y=\"482\"/><use href=\"#wtg\" x=\"1043\" y=\"626\"/><use href=\"#wtg\" x=\"1037\" y=\"754\"/><use href=\"#wtg\" x=\"1005\" y=\"812\"/><use href=\"#wtg\" x=\"993\" y=\"866\"/><use href=\"#wtg\" x=\"1014\" y=\"876\"/><use href=\"#wtg\" x=\"1013\" y=\"884\"/><use href=\"#wtg\" x=\"1004\" y=\"952\"/><use href=\"#wtg\" x=\"1008\" y=\"986\"/><use href=\"#wtg\" x=\"1023\" y=\"1024\"/><use href=\"#wtg\" x=\"922\" y=\"1030\"/><use href=\"#wtg\" x=\"906\" y=\"1030\"/><use href=\"#wtg\" x=\"774\" y=\"919\"/><use href=\"#wtg\" x=\"868\" y=\"854\"/><use href=\"#wtg\" x=\"846\" y=\"802\"/><use href=\"#wtg\" x=\"882\" y=\"725\"/><use href=\"#wtg\" x=\"864\" y=\"716\"/><use href=\"#wtg\" x=\"866\" y=\"712\"/><use href=\"#wtg\" x=\"861\" y=\"673\"/><use href=\"#wtg\" x=\"680\" y=\"633\"/></g><g fill=\"#ffbb78\"><use href=\"#wtg\" x=\"726\" y=\"576\"/><use href=\"#wtg\" x=\"820\" y=\"642\"/><use href=\"#wtg\" x=\"870\" y=\"598\"/><use href=\"#wtg\" x=\"905\" y=\"581\"/><use href=\"#wtg\" x=\"910\" y=\"531\"/><use href=\"#wtg\" x=\"924\" y=\"486\"/><use href=\"#wtg\" x=\"947\" y=\"470\"/><use href=\"#wtg\" x=\"900\" y=\"419\"/><use href=\"#wtg\" x=\"884\" y=\"360\"/><use href=\"#wtg\" x=\"886\" y=\"352\"/><use href=\"#wtg\" x=\"908\" y=\"214\"/><use href=\"#wtg\" x=\"965\" y=\"41\"/><use href=\"#wtg\" x=\"897\" y=\"59\"/><use href=\"#wtg\" x=\"730\" y=\"148\"/><use href=\"#wtg\" x=\"783\" y=\"193\"/><use href=\"#wtg\" x=\"799\" y=\"201\"/><use href=\"#wtg\" x=\"816\" y=\"261\"/><use href=\"#wtg\" x=\"662\" y=\"293\"/><use href=\"#wtg\" x=\"622\" y=\"382\"/><use href=\"#wtg\" x=\"586\" y=\"449\"/></g><g fill=\"#2ca02c\"><use href=\"#wtg\" x=\"369\" y=\"428\"/><use href=\"#wtg\" x=\"302\" y=\"467\"/><use href=\"#wtg\" x=\"253\" y=\"448\"/><use href=\"#wtg\" x=\"247\" y=\"431\"/><use href=\"#wtg\" x=\"249\" y=\"354\"/><use href=\"#wtg\" x=\"275\" y=\"341\"/><use href=\"#wtg\" x=\"239\" y=\"330\"/><use href=\"#wtg\" x=\"181\" y=\"208\"/><use href=\"#wtg\" x=\"187\" y=\"169\"/><use href=\"#wtg\" x=\"178\" y=\"159\"/><use href=\"#wtg\" x=\"178\" y=\"166\"/><use href=\"#wtg\" x=\"153\" y=\"231\"/><use href=\"#wtg\" x=\"51\" y=\"233\"/><use href=\"#wtg\" x=\"78\" y=\"257\"/><use href=\"#wtg\" x=\"66\" y=\"297\"/><use href=\"#wtg\" x=\"61\" y=\"389\"/><use href=\"#wtg\" x=\"59\" y=\"502\"/><use href=\"#wtg\" x=\"119\" y=\"483\"/><use href=\"#wtg\" x=\"210\" y=\"594\"/><use href=\"#wtg\" x=\"462\" y=\"525\"/></g></g><g id=\"OSSgrp\"><use href=\"#oss\" x=\"529.5\" y=\"529.5\"/></g></g><text stroke=\"#000\" stroke-width=\"0.01em\" text-anchor=\"end\" font-family=\"sans-serif\" font-size=\"40\" fill=\"white\" x=\"1050\" y=\"1050\"><tspan x=\"1050\" dy=\"-0.0em\">&#931;&#955; = 8534.1 m</tspan><tspan x=\"1050\" dy=\"-1.3em\">(+0) &#945;: 5</tspan><tspan x=\"1050\" dy=\"-1.3em\">&#954; = 20, T = 100</tspan></text></svg>"
      ],
      "text/plain": [
       "<interarray.svg.SvgRepr at 0x1c8eca2fec0>"
      ]
     },
     "metadata": {},
     "output_type": "display_data"
    },
    {
     "data": {
      "image/svg+xml": [
       "<svg xmlns=\"http://www.w3.org/2000/svg\" viewBox=\"0 0 1920 1080\"><defs ><filter x=\"-5%\" y=\"-5%\" id=\"bg_textbox\" width=\"110%\" height=\"110%\"><feFlood flood-opacity=\"0.7\" flood-color=\"#111\" result=\"bg\"/><feMerge ><feMergeNode in=\"bg\"/><feMergeNode in=\"SourceGraphic\"/></feMerge></filter><circle stroke=\"none\" stroke-width=\"2\" id=\"wtg\" r=\"12\"/><rect stroke=\"none\" stroke-width=\"2\" id=\"oss\" width=\"21\" height=\"21\" fill=\"lawngreen\"/></defs><g id=\"L_from_site\"><path stroke=\"silver\" stroke-dasharray=\"15 7\" stroke-width=\"2\" id=\"border\" d=\"M30 1050 1050 1050 1050 30 30 30z\" fill-rule=\"evenodd\" fill=\"#111\"/><g stroke=\"crimson\" stroke-width=\"4\" id=\"edges_unspecified\"><line x1=\"30\" y1=\"1050\" x2=\"77\" y2=\"979\"/><line x1=\"105\" y1=\"940\" x2=\"77\" y2=\"979\"/><line x1=\"135\" y1=\"911\" x2=\"105\" y2=\"940\"/><line x1=\"30\" y1=\"1050\" x2=\"353\" y2=\"1045\"/><line x1=\"30\" y1=\"1050\" x2=\"35\" y2=\"1002\"/><line x1=\"969\" y1=\"917\" x2=\"951\" y2=\"929\"/><line x1=\"969\" y1=\"917\" x2=\"978\" y2=\"955\"/><line x1=\"225\" y1=\"613\" x2=\"191\" y2=\"657\"/><line x1=\"266\" y1=\"665\" x2=\"225\" y2=\"613\"/><line x1=\"768\" y1=\"778\" x2=\"855\" y2=\"703\"/><line x1=\"855\" y1=\"703\" x2=\"831\" y2=\"694\"/><line x1=\"223\" y1=\"749\" x2=\"229\" y2=\"781\"/><line x1=\"223\" y1=\"749\" x2=\"83\" y2=\"824\"/><line x1=\"989\" y1=\"37\" x2=\"980\" y2=\"57\"/><line x1=\"989\" y1=\"37\" x2=\"1048\" y2=\"64\"/><line x1=\"298\" y1=\"540\" x2=\"297\" y2=\"514\"/><line x1=\"172\" y1=\"444\" x2=\"297\" y2=\"514\"/><line x1=\"429\" y1=\"336\" x2=\"448\" y2=\"292\"/><line x1=\"480\" y1=\"310\" x2=\"448\" y2=\"292\"/><line x1=\"850\" y1=\"591\" x2=\"826\" y2=\"571\"/><line x1=\"850\" y1=\"591\" x2=\"907\" y2=\"676\"/><line x1=\"414\" y1=\"971\" x2=\"350\" y2=\"984\"/><line x1=\"276\" y1=\"960\" x2=\"414\" y2=\"971\"/><line x1=\"316\" y1=\"103\" x2=\"306\" y2=\"35\"/><line x1=\"356\" y1=\"131\" x2=\"306\" y2=\"35\"/><line x1=\"180\" y1=\"106\" x2=\"182\" y2=\"137\"/><line x1=\"180\" y1=\"106\" x2=\"172\" y2=\"74\"/><line x1=\"850\" y1=\"385\" x2=\"969\" y2=\"391\"/><line x1=\"901\" y1=\"481\" x2=\"969\" y2=\"391\"/><line x1=\"760\" y1=\"187\" x2=\"789\" y2=\"124\"/><line x1=\"766\" y1=\"133\" x2=\"789\" y2=\"124\"/><line x1=\"694\" y1=\"255\" x2=\"679\" y2=\"237\"/><line x1=\"694\" y1=\"255\" x2=\"689\" y2=\"363\"/><line x1=\"241\" y1=\"130\" x2=\"206\" y2=\"76\"/><line x1=\"206\" y1=\"76\" x2=\"195\" y2=\"93\"/><line x1=\"516\" y1=\"544\" x2=\"418\" y2=\"633\"/><line x1=\"508\" y1=\"611\" x2=\"516\" y2=\"544\"/><line x1=\"856\" y1=\"301\" x2=\"866\" y2=\"240\"/><line x1=\"109\" y1=\"38\" x2=\"141\" y2=\"74\"/><line x1=\"96\" y1=\"81\" x2=\"109\" y2=\"38\"/><line x1=\"414\" y1=\"822\" x2=\"335\" y2=\"925\"/><line x1=\"372\" y1=\"825\" x2=\"414\" y2=\"822\"/><line x1=\"50\" y1=\"501\" x2=\"40\" y2=\"524\"/><line x1=\"811\" y1=\"184\" x2=\"891\" y2=\"76\"/><line x1=\"971\" y1=\"42\" x2=\"891\" y2=\"76\"/><line x1=\"621\" y1=\"794\" x2=\"684\" y2=\"681\"/><line x1=\"684\" y1=\"681\" x2=\"604\" y2=\"763\"/><line x1=\"888\" y1=\"483\" x2=\"886\" y2=\"567\"/><line x1=\"888\" y1=\"483\" x2=\"833\" y2=\"500\"/><line x1=\"449\" y1=\"156\" x2=\"443\" y2=\"193\"/><line x1=\"624\" y1=\"69\" x2=\"752\" y2=\"39\"/><line x1=\"624\" y1=\"69\" x2=\"554\" y2=\"197\"/><line x1=\"221\" y1=\"227\" x2=\"217\" y2=\"220\"/><line x1=\"280\" y1=\"244\" x2=\"217\" y2=\"220\"/><line x1=\"145\" y1=\"544\" x2=\"148\" y2=\"504\"/><line x1=\"148\" y1=\"504\" x2=\"133\" y2=\"500\"/><line x1=\"353\" y1=\"1045\" x2=\"362\" y2=\"1023\"/><line x1=\"1008\" y1=\"837\" x2=\"1033\" y2=\"873\"/><line x1=\"993\" y1=\"879\" x2=\"1033\" y2=\"873\"/><line x1=\"205\" y1=\"964\" x2=\"194\" y2=\"960\"/><line x1=\"205\" y1=\"964\" x2=\"158\" y2=\"1001\"/><line x1=\"485\" y1=\"718\" x2=\"556\" y2=\"829\"/><line x1=\"471\" y1=\"893\" x2=\"556\" y2=\"829\"/><line x1=\"751\" y1=\"523\" x2=\"696\" y2=\"536\"/><line x1=\"626\" y1=\"552\" x2=\"696\" y2=\"536\"/></g><g stroke=\"red\" stroke-dasharray=\"18 15\" stroke-width=\"4\" id=\"edges_tentative\"><line x1=\"30\" y1=\"1050\" x2=\"980\" y2=\"57\"/><line x1=\"30\" y1=\"1050\" x2=\"1008\" y2=\"837\"/><line x1=\"30\" y1=\"1050\" x2=\"485\" y2=\"718\"/><line x1=\"30\" y1=\"1050\" x2=\"751\" y2=\"523\"/><line x1=\"30\" y1=\"1050\" x2=\"335\" y2=\"925\"/><line x1=\"30\" y1=\"1050\" x2=\"145\" y2=\"544\"/><line x1=\"30\" y1=\"1050\" x2=\"737\" y2=\"357\"/><line x1=\"30\" y1=\"1050\" x2=\"221\" y2=\"227\"/><line x1=\"30\" y1=\"1050\" x2=\"760\" y2=\"187\"/><line x1=\"30\" y1=\"1050\" x2=\"768\" y2=\"778\"/><line x1=\"30\" y1=\"1050\" x2=\"886\" y2=\"567\"/><line x1=\"30\" y1=\"1050\" x2=\"826\" y2=\"571\"/><line x1=\"30\" y1=\"1050\" x2=\"316\" y2=\"103\"/><line x1=\"30\" y1=\"1050\" x2=\"621\" y2=\"794\"/><line x1=\"30\" y1=\"1050\" x2=\"229\" y2=\"781\"/><line x1=\"30\" y1=\"1050\" x2=\"191\" y2=\"657\"/><line x1=\"30\" y1=\"1050\" x2=\"951\" y2=\"929\"/><line x1=\"30\" y1=\"1050\" x2=\"182\" y2=\"137\"/><line x1=\"30\" y1=\"1050\" x2=\"418\" y2=\"633\"/><line x1=\"30\" y1=\"1050\" x2=\"241\" y2=\"130\"/><line x1=\"30\" y1=\"1050\" x2=\"368\" y2=\"321\"/><line x1=\"30\" y1=\"1050\" x2=\"429\" y2=\"336\"/><line x1=\"30\" y1=\"1050\" x2=\"40\" y2=\"524\"/><line x1=\"30\" y1=\"1050\" x2=\"141\" y2=\"74\"/><line x1=\"30\" y1=\"1050\" x2=\"752\" y2=\"39\"/><line x1=\"30\" y1=\"1050\" x2=\"194\" y2=\"960\"/><line x1=\"30\" y1=\"1050\" x2=\"850\" y2=\"385\"/><line x1=\"30\" y1=\"1050\" x2=\"298\" y2=\"540\"/><line x1=\"30\" y1=\"1050\" x2=\"811\" y2=\"184\"/><line x1=\"30\" y1=\"1050\" x2=\"350\" y2=\"984\"/><line x1=\"30\" y1=\"1050\" x2=\"679\" y2=\"237\"/></g><g stroke=\"yellow\" stroke-dasharray=\"25 5\" stroke-width=\"4\" id=\"edges_rogue\"><line x1=\"866\" y1=\"240\" x2=\"737\" y2=\"357\"/><line x1=\"79\" y1=\"715\" x2=\"50\" y2=\"501\"/><line x1=\"368\" y1=\"321\" x2=\"449\" y2=\"156\"/><line x1=\"362\" y1=\"1023\" x2=\"236\" y2=\"1028\"/></g><g id=\"WTGgrp\"><g fill=\"#1f77b4\"><use href=\"#wtg\" x=\"77\" y=\"979\"/><use href=\"#wtg\" x=\"105\" y=\"940\"/><use href=\"#wtg\" x=\"135\" y=\"911\"/></g><g fill=\"#aec7e8\"><use href=\"#wtg\" x=\"951\" y=\"929\"/><use href=\"#wtg\" x=\"969\" y=\"917\"/><use href=\"#wtg\" x=\"978\" y=\"955\"/></g><g fill=\"#ff7f0e\"><use href=\"#wtg\" x=\"191\" y=\"657\"/><use href=\"#wtg\" x=\"225\" y=\"613\"/><use href=\"#wtg\" x=\"266\" y=\"665\"/></g><g fill=\"#ffbb78\"><use href=\"#wtg\" x=\"768\" y=\"778\"/><use href=\"#wtg\" x=\"855\" y=\"703\"/><use href=\"#wtg\" x=\"831\" y=\"694\"/></g><g fill=\"#2ca02c\"><use href=\"#wtg\" x=\"229\" y=\"781\"/><use href=\"#wtg\" x=\"223\" y=\"749\"/><use href=\"#wtg\" x=\"83\" y=\"824\"/></g><g fill=\"#98df8a\"><use href=\"#wtg\" x=\"980\" y=\"57\"/><use href=\"#wtg\" x=\"989\" y=\"37\"/><use href=\"#wtg\" x=\"1048\" y=\"64\"/></g><g fill=\"#d62728\"><use href=\"#wtg\" x=\"35\" y=\"1002\"/></g><g fill=\"#ff9896\"><use href=\"#wtg\" x=\"298\" y=\"540\"/><use href=\"#wtg\" x=\"297\" y=\"514\"/><use href=\"#wtg\" x=\"172\" y=\"444\"/></g><g fill=\"#9467bd\"><use href=\"#wtg\" x=\"429\" y=\"336\"/><use href=\"#wtg\" x=\"448\" y=\"292\"/><use href=\"#wtg\" x=\"480\" y=\"310\"/></g><g fill=\"#c5b0d5\"><use href=\"#wtg\" x=\"826\" y=\"571\"/><use href=\"#wtg\" x=\"850\" y=\"591\"/><use href=\"#wtg\" x=\"907\" y=\"676\"/></g><g fill=\"#8c564b\"><use href=\"#wtg\" x=\"350\" y=\"984\"/><use href=\"#wtg\" x=\"414\" y=\"971\"/><use href=\"#wtg\" x=\"276\" y=\"960\"/></g><g fill=\"#c49c94\"><use href=\"#wtg\" x=\"316\" y=\"103\"/><use href=\"#wtg\" x=\"306\" y=\"35\"/><use href=\"#wtg\" x=\"356\" y=\"131\"/></g><g fill=\"#e377c2\"><use href=\"#wtg\" x=\"182\" y=\"137\"/><use href=\"#wtg\" x=\"180\" y=\"106\"/><use href=\"#wtg\" x=\"172\" y=\"74\"/></g><g fill=\"#f7b6d2\"><use href=\"#wtg\" x=\"850\" y=\"385\"/><use href=\"#wtg\" x=\"969\" y=\"391\"/><use href=\"#wtg\" x=\"901\" y=\"481\"/></g><g fill=\"#7f7f7f\"><use href=\"#wtg\" x=\"760\" y=\"187\"/><use href=\"#wtg\" x=\"789\" y=\"124\"/><use href=\"#wtg\" x=\"766\" y=\"133\"/></g><g fill=\"#c7c7c7\"><use href=\"#wtg\" x=\"679\" y=\"237\"/><use href=\"#wtg\" x=\"694\" y=\"255\"/><use href=\"#wtg\" x=\"689\" y=\"363\"/></g><g fill=\"#bcbd22\"><use href=\"#wtg\" x=\"241\" y=\"130\"/><use href=\"#wtg\" x=\"206\" y=\"76\"/><use href=\"#wtg\" x=\"195\" y=\"93\"/></g><g fill=\"#dbdb8d\"><use href=\"#wtg\" x=\"418\" y=\"633\"/><use href=\"#wtg\" x=\"516\" y=\"544\"/><use href=\"#wtg\" x=\"508\" y=\"611\"/></g><g fill=\"#17becf\"><use href=\"#wtg\" x=\"737\" y=\"357\"/><use href=\"#wtg\" x=\"866\" y=\"240\"/><use href=\"#wtg\" x=\"856\" y=\"301\"/></g><g fill=\"#9edae5\"><use href=\"#wtg\" x=\"141\" y=\"74\"/><use href=\"#wtg\" x=\"109\" y=\"38\"/><use href=\"#wtg\" x=\"96\" y=\"81\"/></g><g fill=\"#1f77b4\"><use href=\"#wtg\" x=\"335\" y=\"925\"/><use href=\"#wtg\" x=\"414\" y=\"822\"/><use href=\"#wtg\" x=\"372\" y=\"825\"/></g><g fill=\"#aec7e8\"><use href=\"#wtg\" x=\"40\" y=\"524\"/><use href=\"#wtg\" x=\"50\" y=\"501\"/><use href=\"#wtg\" x=\"79\" y=\"715\"/></g><g fill=\"#ff7f0e\"><use href=\"#wtg\" x=\"811\" y=\"184\"/><use href=\"#wtg\" x=\"891\" y=\"76\"/><use href=\"#wtg\" x=\"971\" y=\"42\"/></g><g fill=\"#ffbb78\"><use href=\"#wtg\" x=\"621\" y=\"794\"/><use href=\"#wtg\" x=\"684\" y=\"681\"/><use href=\"#wtg\" x=\"604\" y=\"763\"/></g><g fill=\"#2ca02c\"><use href=\"#wtg\" x=\"886\" y=\"567\"/><use href=\"#wtg\" x=\"888\" y=\"483\"/><use href=\"#wtg\" x=\"833\" y=\"500\"/></g><g fill=\"#98df8a\"><use href=\"#wtg\" x=\"368\" y=\"321\"/><use href=\"#wtg\" x=\"449\" y=\"156\"/><use href=\"#wtg\" x=\"443\" y=\"193\"/></g><g fill=\"#d62728\"><use href=\"#wtg\" x=\"752\" y=\"39\"/><use href=\"#wtg\" x=\"624\" y=\"69\"/><use href=\"#wtg\" x=\"554\" y=\"197\"/></g><g fill=\"#ff9896\"><use href=\"#wtg\" x=\"221\" y=\"227\"/><use href=\"#wtg\" x=\"217\" y=\"220\"/><use href=\"#wtg\" x=\"280\" y=\"244\"/></g><g fill=\"#9467bd\"><use href=\"#wtg\" x=\"145\" y=\"544\"/><use href=\"#wtg\" x=\"148\" y=\"504\"/><use href=\"#wtg\" x=\"133\" y=\"500\"/></g><g fill=\"#c5b0d5\"><use href=\"#wtg\" x=\"353\" y=\"1045\"/><use href=\"#wtg\" x=\"362\" y=\"1023\"/><use href=\"#wtg\" x=\"236\" y=\"1028\"/></g><g fill=\"#8c564b\"><use href=\"#wtg\" x=\"1008\" y=\"837\"/><use href=\"#wtg\" x=\"1033\" y=\"873\"/><use href=\"#wtg\" x=\"993\" y=\"879\"/></g><g fill=\"#c49c94\"><use href=\"#wtg\" x=\"194\" y=\"960\"/><use href=\"#wtg\" x=\"205\" y=\"964\"/><use href=\"#wtg\" x=\"158\" y=\"1001\"/></g><g fill=\"#e377c2\"><use href=\"#wtg\" x=\"485\" y=\"718\"/><use href=\"#wtg\" x=\"556\" y=\"829\"/><use href=\"#wtg\" x=\"471\" y=\"893\"/></g><g fill=\"#f7b6d2\"><use href=\"#wtg\" x=\"751\" y=\"523\"/><use href=\"#wtg\" x=\"696\" y=\"536\"/><use href=\"#wtg\" x=\"626\" y=\"552\"/></g></g><g id=\"OSSgrp\"><use href=\"#oss\" x=\"19.5\" y=\"1039.5\"/></g></g><text stroke=\"#000\" stroke-width=\"0.01em\" text-anchor=\"end\" font-family=\"sans-serif\" font-size=\"40\" fill=\"white\" x=\"1050\" y=\"1050\"><tspan x=\"1050\" dy=\"-0.0em\">&#931;&#955; = 29607.0 m</tspan><tspan x=\"1050\" dy=\"-1.3em\">(+0) &#945;: 34</tspan><tspan x=\"1050\" dy=\"-1.3em\">&#954; = 3, T = 100</tspan></text></svg>"
      ],
      "text/plain": [
       "<interarray.svg.SvgRepr at 0x1c8eb7bd4c0>"
      ]
     },
     "metadata": {},
     "output_type": "display_data"
    },
    {
     "data": {
      "image/svg+xml": [
       "<svg xmlns=\"http://www.w3.org/2000/svg\" viewBox=\"0 0 1920 1080\"><defs ><filter x=\"-5%\" y=\"-5%\" id=\"bg_textbox\" width=\"110%\" height=\"110%\"><feFlood flood-opacity=\"0.7\" flood-color=\"#111\" result=\"bg\"/><feMerge ><feMergeNode in=\"bg\"/><feMergeNode in=\"SourceGraphic\"/></feMerge></filter><circle stroke=\"none\" stroke-width=\"2\" id=\"wtg\" r=\"12\"/><rect stroke=\"none\" stroke-width=\"2\" id=\"oss\" width=\"21\" height=\"21\" fill=\"lawngreen\"/></defs><g id=\"L_from_site\"><path stroke=\"silver\" stroke-dasharray=\"15 7\" stroke-width=\"2\" id=\"border\" d=\"M30 1050 1050 1050 1050 30 30 30z\" fill-rule=\"evenodd\" fill=\"#111\"/><g stroke=\"crimson\" stroke-width=\"4\" id=\"edges_unspecified\"><line x1=\"584\" y1=\"44\" x2=\"509\" y2=\"143\"/><line x1=\"584\" y1=\"44\" x2=\"702\" y2=\"41\"/><line x1=\"702\" y1=\"41\" x2=\"697\" y2=\"67\"/><line x1=\"643\" y1=\"88\" x2=\"697\" y2=\"67\"/><line x1=\"643\" y1=\"88\" x2=\"626\" y2=\"114\"/><line x1=\"593\" y1=\"265\" x2=\"626\" y2=\"114\"/><line x1=\"30\" y1=\"1050\" x2=\"32\" y2=\"997\"/><line x1=\"476\" y1=\"816\" x2=\"580\" y2=\"750\"/><line x1=\"555\" y1=\"721\" x2=\"580\" y2=\"750\"/><line x1=\"498\" y1=\"723\" x2=\"555\" y2=\"721\"/><line x1=\"498\" y1=\"723\" x2=\"458\" y2=\"702\"/><line x1=\"385\" y1=\"789\" x2=\"458\" y2=\"702\"/><line x1=\"385\" y1=\"789\" x2=\"301\" y2=\"802\"/><line x1=\"921\" y1=\"990\" x2=\"955\" y2=\"1023\"/><line x1=\"955\" y1=\"1023\" x2=\"969\" y2=\"1048\"/><line x1=\"998\" y1=\"1037\" x2=\"969\" y2=\"1048\"/><line x1=\"1009\" y1=\"893\" x2=\"998\" y2=\"1037\"/><line x1=\"909\" y1=\"927\" x2=\"1009\" y2=\"893\"/><line x1=\"909\" y1=\"927\" x2=\"843\" y2=\"936\"/><line x1=\"79\" y1=\"1039\" x2=\"32\" y2=\"997\"/><line x1=\"378\" y1=\"378\" x2=\"394\" y2=\"285\"/><line x1=\"394\" y1=\"285\" x2=\"468\" y2=\"218\"/><line x1=\"468\" y1=\"218\" x2=\"532\" y2=\"275\"/><line x1=\"518\" y1=\"280\" x2=\"532\" y2=\"275\"/><line x1=\"518\" y1=\"280\" x2=\"501\" y2=\"288\"/><line x1=\"416\" y1=\"479\" x2=\"501\" y2=\"288\"/><line x1=\"916\" y1=\"559\" x2=\"832\" y2=\"649\"/><line x1=\"916\" y1=\"559\" x2=\"935\" y2=\"619\"/><line x1=\"940\" y1=\"648\" x2=\"935\" y2=\"619\"/><line x1=\"1005\" y1=\"647\" x2=\"940\" y2=\"648\"/><line x1=\"1005\" y1=\"647\" x2=\"1007\" y2=\"650\"/><line x1=\"972\" y1=\"803\" x2=\"1007\" y2=\"650\"/><line x1=\"93\" y1=\"677\" x2=\"133\" y2=\"542\"/><line x1=\"89\" y1=\"474\" x2=\"93\" y2=\"457\"/><line x1=\"95\" y1=\"521\" x2=\"89\" y2=\"474\"/><line x1=\"95\" y1=\"521\" x2=\"62\" y2=\"546\"/><line x1=\"62\" y1=\"546\" x2=\"34\" y2=\"558\"/><line x1=\"401\" y1=\"195\" x2=\"387\" y2=\"185\"/><line x1=\"387\" y1=\"185\" x2=\"386\" y2=\"91\"/><line x1=\"338\" y1=\"136\" x2=\"386\" y2=\"91\"/><line x1=\"338\" y1=\"136\" x2=\"269\" y2=\"147\"/><line x1=\"269\" y1=\"147\" x2=\"88\" y2=\"105\"/><line x1=\"88\" y1=\"105\" x2=\"75\" y2=\"341\"/><line x1=\"951\" y1=\"65\" x2=\"904\" y2=\"245\"/><line x1=\"951\" y1=\"65\" x2=\"762\" y2=\"173\"/><line x1=\"762\" y1=\"173\" x2=\"761\" y2=\"169\"/><line x1=\"740\" y1=\"166\" x2=\"761\" y2=\"169\"/><line x1=\"740\" y1=\"166\" x2=\"635\" y2=\"283\"/><line x1=\"573\" y1=\"577\" x2=\"471\" y2=\"627\"/><line x1=\"573\" y1=\"577\" x2=\"726\" y2=\"507\"/><line x1=\"789\" y1=\"511\" x2=\"726\" y2=\"507\"/><line x1=\"789\" y1=\"511\" x2=\"717\" y2=\"587\"/><line x1=\"658\" y1=\"583\" x2=\"717\" y2=\"587\"/><line x1=\"557\" y1=\"621\" x2=\"658\" y2=\"583\"/><line x1=\"207\" y1=\"825\" x2=\"174\" y2=\"789\"/><line x1=\"305\" y1=\"887\" x2=\"207\" y2=\"825\"/><line x1=\"305\" y1=\"887\" x2=\"301\" y2=\"925\"/><line x1=\"296\" y1=\"954\" x2=\"301\" y2=\"925\"/><line x1=\"296\" y1=\"954\" x2=\"241\" y2=\"1035\"/><line x1=\"241\" y1=\"1035\" x2=\"222\" y2=\"1043\"/><line x1=\"803\" y1=\"582\" x2=\"839\" y2=\"534\"/><line x1=\"877\" y1=\"487\" x2=\"839\" y2=\"534\"/><line x1=\"877\" y1=\"487\" x2=\"1032\" y2=\"337\"/><line x1=\"1032\" y1=\"337\" x2=\"917\" y2=\"348\"/><line x1=\"904\" y1=\"385\" x2=\"917\" y2=\"348\"/><line x1=\"904\" y1=\"385\" x2=\"764\" y2=\"426\"/><line x1=\"695\" y1=\"875\" x2=\"688\" y2=\"862\"/><line x1=\"774\" y1=\"864\" x2=\"695\" y2=\"875\"/><line x1=\"774\" y1=\"864\" x2=\"762\" y2=\"918\"/><line x1=\"762\" y1=\"918\" x2=\"774\" y2=\"1028\"/><line x1=\"726\" y1=\"1012\" x2=\"774\" y2=\"1028\"/><line x1=\"255\" y1=\"461\" x2=\"320\" y2=\"324\"/><line x1=\"280\" y1=\"230\" x2=\"320\" y2=\"324\"/><line x1=\"262\" y1=\"206\" x2=\"280\" y2=\"230\"/><line x1=\"262\" y1=\"206\" x2=\"278\" y2=\"288\"/><line x1=\"267\" y1=\"318\" x2=\"278\" y2=\"288\"/><line x1=\"133\" y1=\"400\" x2=\"75\" y2=\"393\"/><line x1=\"168\" y1=\"347\" x2=\"133\" y2=\"400\"/><line x1=\"168\" y1=\"347\" x2=\"191\" y2=\"364\"/><line x1=\"190\" y1=\"454\" x2=\"191\" y2=\"364\"/><line x1=\"190\" y1=\"454\" x2=\"197\" y2=\"489\"/><line x1=\"197\" y1=\"489\" x2=\"168\" y2=\"710\"/></g><g stroke=\"red\" stroke-dasharray=\"18 15\" stroke-width=\"4\" id=\"edges_tentative\"><line x1=\"30\" y1=\"1050\" x2=\"509\" y2=\"143\"/><line x1=\"30\" y1=\"1050\" x2=\"832\" y2=\"649\"/><line x1=\"30\" y1=\"1050\" x2=\"476\" y2=\"816\"/><line x1=\"30\" y1=\"1050\" x2=\"339\" y2=\"864\"/><line x1=\"30\" y1=\"1050\" x2=\"401\" y2=\"195\"/><line x1=\"30\" y1=\"1050\" x2=\"921\" y2=\"990\"/><line x1=\"30\" y1=\"1050\" x2=\"255\" y2=\"461\"/><line x1=\"30\" y1=\"1050\" x2=\"93\" y2=\"677\"/><line x1=\"30\" y1=\"1050\" x2=\"642\" y2=\"432\"/><line x1=\"30\" y1=\"1050\" x2=\"75\" y2=\"393\"/><line x1=\"30\" y1=\"1050\" x2=\"803\" y2=\"582\"/><line x1=\"30\" y1=\"1050\" x2=\"471\" y2=\"627\"/><line x1=\"30\" y1=\"1050\" x2=\"378\" y2=\"378\"/><line x1=\"30\" y1=\"1050\" x2=\"174\" y2=\"789\"/></g><g stroke=\"yellow\" stroke-dasharray=\"25 5\" stroke-width=\"4\" id=\"edges_rogue\"><line x1=\"133\" y1=\"542\" x2=\"93\" y2=\"457\"/><line x1=\"904\" y1=\"245\" x2=\"642\" y2=\"432\"/><line x1=\"688\" y1=\"862\" x2=\"339\" y2=\"864\"/><line x1=\"222\" y1=\"473\" x2=\"267\" y2=\"318\"/></g><g id=\"WTGgrp\"><g fill=\"#1f77b4\"><use href=\"#wtg\" x=\"509\" y=\"143\"/><use href=\"#wtg\" x=\"584\" y=\"44\"/><use href=\"#wtg\" x=\"702\" y=\"41\"/><use href=\"#wtg\" x=\"697\" y=\"67\"/><use href=\"#wtg\" x=\"643\" y=\"88\"/><use href=\"#wtg\" x=\"626\" y=\"114\"/><use href=\"#wtg\" x=\"593\" y=\"265\"/></g><g fill=\"#aec7e8\"><use href=\"#wtg\" x=\"476\" y=\"816\"/><use href=\"#wtg\" x=\"580\" y=\"750\"/><use href=\"#wtg\" x=\"555\" y=\"721\"/><use href=\"#wtg\" x=\"498\" y=\"723\"/><use href=\"#wtg\" x=\"458\" y=\"702\"/><use href=\"#wtg\" x=\"385\" y=\"789\"/><use href=\"#wtg\" x=\"301\" y=\"802\"/></g><g fill=\"#ff7f0e\"><use href=\"#wtg\" x=\"921\" y=\"990\"/><use href=\"#wtg\" x=\"955\" y=\"1023\"/><use href=\"#wtg\" x=\"969\" y=\"1048\"/><use href=\"#wtg\" x=\"998\" y=\"1037\"/><use href=\"#wtg\" x=\"1009\" y=\"893\"/><use href=\"#wtg\" x=\"909\" y=\"927\"/><use href=\"#wtg\" x=\"843\" y=\"936\"/></g><g fill=\"#ffbb78\"><use href=\"#wtg\" x=\"32\" y=\"997\"/><use href=\"#wtg\" x=\"79\" y=\"1039\"/></g><g fill=\"#2ca02c\"><use href=\"#wtg\" x=\"378\" y=\"378\"/><use href=\"#wtg\" x=\"394\" y=\"285\"/><use href=\"#wtg\" x=\"468\" y=\"218\"/><use href=\"#wtg\" x=\"532\" y=\"275\"/><use href=\"#wtg\" x=\"518\" y=\"280\"/><use href=\"#wtg\" x=\"501\" y=\"288\"/><use href=\"#wtg\" x=\"416\" y=\"479\"/></g><g fill=\"#98df8a\"><use href=\"#wtg\" x=\"832\" y=\"649\"/><use href=\"#wtg\" x=\"916\" y=\"559\"/><use href=\"#wtg\" x=\"935\" y=\"619\"/><use href=\"#wtg\" x=\"940\" y=\"648\"/><use href=\"#wtg\" x=\"1005\" y=\"647\"/><use href=\"#wtg\" x=\"1007\" y=\"650\"/><use href=\"#wtg\" x=\"972\" y=\"803\"/></g><g fill=\"#d62728\"><use href=\"#wtg\" x=\"93\" y=\"677\"/><use href=\"#wtg\" x=\"133\" y=\"542\"/><use href=\"#wtg\" x=\"93\" y=\"457\"/><use href=\"#wtg\" x=\"89\" y=\"474\"/><use href=\"#wtg\" x=\"95\" y=\"521\"/><use href=\"#wtg\" x=\"62\" y=\"546\"/><use href=\"#wtg\" x=\"34\" y=\"558\"/></g><g fill=\"#ff9896\"><use href=\"#wtg\" x=\"401\" y=\"195\"/><use href=\"#wtg\" x=\"387\" y=\"185\"/><use href=\"#wtg\" x=\"386\" y=\"91\"/><use href=\"#wtg\" x=\"338\" y=\"136\"/><use href=\"#wtg\" x=\"269\" y=\"147\"/><use href=\"#wtg\" x=\"88\" y=\"105\"/><use href=\"#wtg\" x=\"75\" y=\"341\"/></g><g fill=\"#9467bd\"><use href=\"#wtg\" x=\"642\" y=\"432\"/><use href=\"#wtg\" x=\"904\" y=\"245\"/><use href=\"#wtg\" x=\"951\" y=\"65\"/><use href=\"#wtg\" x=\"762\" y=\"173\"/><use href=\"#wtg\" x=\"761\" y=\"169\"/><use href=\"#wtg\" x=\"740\" y=\"166\"/><use href=\"#wtg\" x=\"635\" y=\"283\"/></g><g fill=\"#c5b0d5\"><use href=\"#wtg\" x=\"471\" y=\"627\"/><use href=\"#wtg\" x=\"573\" y=\"577\"/><use href=\"#wtg\" x=\"726\" y=\"507\"/><use href=\"#wtg\" x=\"789\" y=\"511\"/><use href=\"#wtg\" x=\"717\" y=\"587\"/><use href=\"#wtg\" x=\"658\" y=\"583\"/><use href=\"#wtg\" x=\"557\" y=\"621\"/></g><g fill=\"#8c564b\"><use href=\"#wtg\" x=\"174\" y=\"789\"/><use href=\"#wtg\" x=\"207\" y=\"825\"/><use href=\"#wtg\" x=\"305\" y=\"887\"/><use href=\"#wtg\" x=\"301\" y=\"925\"/><use href=\"#wtg\" x=\"296\" y=\"954\"/><use href=\"#wtg\" x=\"241\" y=\"1035\"/><use href=\"#wtg\" x=\"222\" y=\"1043\"/></g><g fill=\"#c49c94\"><use href=\"#wtg\" x=\"803\" y=\"582\"/><use href=\"#wtg\" x=\"839\" y=\"534\"/><use href=\"#wtg\" x=\"877\" y=\"487\"/><use href=\"#wtg\" x=\"1032\" y=\"337\"/><use href=\"#wtg\" x=\"917\" y=\"348\"/><use href=\"#wtg\" x=\"904\" y=\"385\"/><use href=\"#wtg\" x=\"764\" y=\"426\"/></g><g fill=\"#e377c2\"><use href=\"#wtg\" x=\"339\" y=\"864\"/><use href=\"#wtg\" x=\"688\" y=\"862\"/><use href=\"#wtg\" x=\"695\" y=\"875\"/><use href=\"#wtg\" x=\"774\" y=\"864\"/><use href=\"#wtg\" x=\"762\" y=\"918\"/><use href=\"#wtg\" x=\"774\" y=\"1028\"/><use href=\"#wtg\" x=\"726\" y=\"1012\"/></g><g fill=\"#f7b6d2\"><use href=\"#wtg\" x=\"255\" y=\"461\"/><use href=\"#wtg\" x=\"320\" y=\"324\"/><use href=\"#wtg\" x=\"280\" y=\"230\"/><use href=\"#wtg\" x=\"262\" y=\"206\"/><use href=\"#wtg\" x=\"278\" y=\"288\"/><use href=\"#wtg\" x=\"267\" y=\"318\"/><use href=\"#wtg\" x=\"222\" y=\"473\"/></g><g fill=\"#7f7f7f\"><use href=\"#wtg\" x=\"75\" y=\"393\"/><use href=\"#wtg\" x=\"133\" y=\"400\"/><use href=\"#wtg\" x=\"168\" y=\"347\"/><use href=\"#wtg\" x=\"191\" y=\"364\"/><use href=\"#wtg\" x=\"190\" y=\"454\"/><use href=\"#wtg\" x=\"197\" y=\"489\"/><use href=\"#wtg\" x=\"168\" y=\"710\"/></g></g><g id=\"OSSgrp\"><use href=\"#oss\" x=\"19.5\" y=\"1039.5\"/></g></g><text stroke=\"#000\" stroke-width=\"0.01em\" text-anchor=\"end\" font-family=\"sans-serif\" font-size=\"40\" fill=\"white\" x=\"1050\" y=\"1050\"><tspan x=\"1050\" dy=\"-0.0em\">&#931;&#955; = 17120.0 m</tspan><tspan x=\"1050\" dy=\"-1.3em\">(+0) &#945;: 15</tspan><tspan x=\"1050\" dy=\"-1.3em\">&#954; = 7, T = 100</tspan></text></svg>"
      ],
      "text/plain": [
       "<interarray.svg.SvgRepr at 0x1c8eca2d040>"
      ]
     },
     "metadata": {},
     "output_type": "display_data"
    },
    {
     "data": {
      "image/svg+xml": [
       "<svg xmlns=\"http://www.w3.org/2000/svg\" viewBox=\"0 0 1920 1080\"><defs ><filter x=\"-5%\" y=\"-5%\" id=\"bg_textbox\" width=\"110%\" height=\"110%\"><feFlood flood-opacity=\"0.7\" flood-color=\"#111\" result=\"bg\"/><feMerge ><feMergeNode in=\"bg\"/><feMergeNode in=\"SourceGraphic\"/></feMerge></filter><circle stroke=\"none\" stroke-width=\"2\" id=\"wtg\" r=\"12\"/><rect stroke=\"none\" stroke-width=\"2\" id=\"oss\" width=\"21\" height=\"21\" fill=\"lawngreen\"/></defs><g id=\"L_from_site\"><path stroke=\"silver\" stroke-dasharray=\"15 7\" stroke-width=\"2\" id=\"border\" d=\"M30 1050 1050 1050 1050 30 30 30z\" fill-rule=\"evenodd\" fill=\"#111\"/><g stroke=\"crimson\" stroke-width=\"4\" id=\"edges_unspecified\"><line x1=\"30\" y1=\"1050\" x2=\"285\" y2=\"1048\"/><line x1=\"316\" y1=\"1050\" x2=\"285\" y2=\"1048\"/><line x1=\"316\" y1=\"1050\" x2=\"443\" y2=\"1045\"/><line x1=\"423\" y1=\"931\" x2=\"443\" y2=\"1045\"/><line x1=\"423\" y1=\"931\" x2=\"304\" y2=\"878\"/><line x1=\"285\" y1=\"957\" x2=\"304\" y2=\"878\"/><line x1=\"30\" y1=\"1050\" x2=\"77\" y2=\"1006\"/><line x1=\"385\" y1=\"529\" x2=\"366\" y2=\"587\"/><line x1=\"385\" y1=\"529\" x2=\"389\" y2=\"402\"/><line x1=\"389\" y1=\"402\" x2=\"397\" y2=\"385\"/><line x1=\"301\" y1=\"465\" x2=\"397\" y2=\"385\"/><line x1=\"299\" y1=\"534\" x2=\"301\" y2=\"465\"/><line x1=\"50\" y1=\"738\" x2=\"93\" y2=\"549\"/><line x1=\"152\" y1=\"535\" x2=\"93\" y2=\"549\"/><line x1=\"152\" y1=\"535\" x2=\"227\" y2=\"539\"/><line x1=\"227\" y1=\"539\" x2=\"256\" y2=\"639\"/><line x1=\"144\" y1=\"927\" x2=\"256\" y2=\"639\"/><line x1=\"898\" y1=\"165\" x2=\"779\" y2=\"253\"/><line x1=\"898\" y1=\"165\" x2=\"1030\" y2=\"89\"/><line x1=\"933\" y1=\"232\" x2=\"1030\" y2=\"89\"/><line x1=\"933\" y1=\"232\" x2=\"914\" y2=\"316\"/><line x1=\"852\" y1=\"320\" x2=\"914\" y2=\"316\"/><line x1=\"519\" y1=\"324\" x2=\"492\" y2=\"340\"/><line x1=\"525\" y1=\"247\" x2=\"519\" y2=\"324\"/><line x1=\"595\" y1=\"274\" x2=\"525\" y2=\"247\"/><line x1=\"595\" y1=\"274\" x2=\"611\" y2=\"301\"/><line x1=\"563\" y1=\"488\" x2=\"611\" y2=\"301\"/><line x1=\"867\" y1=\"756\" x2=\"957\" y2=\"697\"/><line x1=\"959\" y1=\"693\" x2=\"957\" y2=\"697\"/><line x1=\"951\" y1=\"805\" x2=\"942\" y2=\"759\"/><line x1=\"951\" y1=\"805\" x2=\"866\" y2=\"885\"/><line x1=\"420\" y1=\"170\" x2=\"375\" y2=\"280\"/><line x1=\"387\" y1=\"114\" x2=\"420\" y2=\"170\"/><line x1=\"437\" y1=\"58\" x2=\"387\" y2=\"114\"/><line x1=\"437\" y1=\"58\" x2=\"379\" y2=\"39\"/><line x1=\"237\" y1=\"197\" x2=\"379\" y2=\"39\"/><line x1=\"476\" y1=\"788\" x2=\"614\" y2=\"709\"/><line x1=\"612\" y1=\"669\" x2=\"614\" y2=\"709\"/><line x1=\"634\" y1=\"656\" x2=\"612\" y2=\"669\"/><line x1=\"604\" y1=\"641\" x2=\"634\" y2=\"656\"/><line x1=\"604\" y1=\"641\" x2=\"417\" y2=\"764\"/><line x1=\"741\" y1=\"876\" x2=\"791\" y2=\"886\"/><line x1=\"828\" y1=\"948\" x2=\"791\" y2=\"886\"/><line x1=\"828\" y1=\"948\" x2=\"930\" y2=\"953\"/><line x1=\"930\" y1=\"953\" x2=\"933\" y2=\"1029\"/><line x1=\"933\" y1=\"1029\" x2=\"657\" y2=\"993\"/><line x1=\"692\" y1=\"391\" x2=\"664\" y2=\"492\"/><line x1=\"692\" y1=\"391\" x2=\"779\" y2=\"346\"/><line x1=\"751\" y1=\"304\" x2=\"779\" y2=\"346\"/><line x1=\"751\" y1=\"304\" x2=\"707\" y2=\"331\"/><line x1=\"707\" y1=\"331\" x2=\"638\" y2=\"360\"/><line x1=\"774\" y1=\"652\" x2=\"673\" y2=\"639\"/><line x1=\"774\" y1=\"652\" x2=\"799\" y2=\"680\"/><line x1=\"823\" y1=\"708\" x2=\"799\" y2=\"680\"/><line x1=\"785\" y1=\"727\" x2=\"823\" y2=\"708\"/><line x1=\"732\" y1=\"748\" x2=\"785\" y2=\"727\"/><line x1=\"711\" y1=\"73\" x2=\"795\" y2=\"41\"/><line x1=\"811\" y1=\"60\" x2=\"795\" y2=\"41\"/><line x1=\"811\" y1=\"60\" x2=\"779\" y2=\"106\"/><line x1=\"779\" y1=\"139\" x2=\"779\" y2=\"106\"/><line x1=\"661\" y1=\"233\" x2=\"779\" y2=\"139\"/><line x1=\"767\" y1=\"546\" x2=\"697\" y2=\"535\"/><line x1=\"997\" y1=\"538\" x2=\"927\" y2=\"586\"/><line x1=\"867\" y1=\"590\" x2=\"927\" y2=\"586\"/><line x1=\"758\" y1=\"607\" x2=\"867\" y2=\"590\"/><line x1=\"155\" y1=\"326\" x2=\"138\" y2=\"243\"/><line x1=\"133\" y1=\"151\" x2=\"138\" y2=\"243\"/><line x1=\"133\" y1=\"151\" x2=\"159\" y2=\"177\"/><line x1=\"232\" y1=\"393\" x2=\"233\" y2=\"433\"/><line x1=\"650\" y1=\"49\" x2=\"623\" y2=\"30\"/><line x1=\"603\" y1=\"79\" x2=\"623\" y2=\"30\"/><line x1=\"603\" y1=\"79\" x2=\"477\" y2=\"191\"/><line x1=\"415\" y1=\"296\" x2=\"477\" y2=\"191\"/><line x1=\"575\" y1=\"776\" x2=\"652\" y2=\"714\"/><line x1=\"652\" y1=\"714\" x2=\"661\" y2=\"729\"/><line x1=\"661\" y1=\"729\" x2=\"736\" y2=\"793\"/><line x1=\"682\" y1=\"805\" x2=\"736\" y2=\"793\"/><line x1=\"529\" y1=\"922\" x2=\"682\" y2=\"805\"/><line x1=\"77\" y1=\"1006\" x2=\"37\" y2=\"913\"/><line x1=\"37\" y1=\"913\" x2=\"33\" y2=\"991\"/><line x1=\"45\" y1=\"998\" x2=\"33\" y2=\"991\"/></g><g stroke=\"red\" stroke-dasharray=\"18 15\" stroke-width=\"4\" id=\"edges_tentative\"><line x1=\"30\" y1=\"1050\" x2=\"556\" y2=\"189\"/><line x1=\"30\" y1=\"1050\" x2=\"366\" y2=\"587\"/><line x1=\"30\" y1=\"1050\" x2=\"492\" y2=\"340\"/><line x1=\"30\" y1=\"1050\" x2=\"867\" y2=\"756\"/><line x1=\"30\" y1=\"1050\" x2=\"741\" y2=\"876\"/><line x1=\"30\" y1=\"1050\" x2=\"50\" y2=\"738\"/><line x1=\"30\" y1=\"1050\" x2=\"375\" y2=\"280\"/><line x1=\"30\" y1=\"1050\" x2=\"575\" y2=\"776\"/><line x1=\"30\" y1=\"1050\" x2=\"155\" y2=\"326\"/><line x1=\"30\" y1=\"1050\" x2=\"476\" y2=\"788\"/><line x1=\"30\" y1=\"1050\" x2=\"673\" y2=\"639\"/><line x1=\"30\" y1=\"1050\" x2=\"664\" y2=\"492\"/><line x1=\"30\" y1=\"1050\" x2=\"779\" y2=\"253\"/><line x1=\"30\" y1=\"1050\" x2=\"697\" y2=\"535\"/><line x1=\"30\" y1=\"1050\" x2=\"711\" y2=\"73\"/></g><g stroke=\"yellow\" stroke-dasharray=\"25 5\" stroke-width=\"4\" id=\"edges_rogue\"><line x1=\"959\" y1=\"693\" x2=\"942\" y2=\"759\"/><line x1=\"767\" y1=\"546\" x2=\"997\" y2=\"538\"/><line x1=\"232\" y1=\"393\" x2=\"159\" y2=\"177\"/><line x1=\"556\" y1=\"189\" x2=\"650\" y2=\"49\"/></g><g id=\"WTGgrp\"><g fill=\"#1f77b4\"><use href=\"#wtg\" x=\"285\" y=\"1048\"/><use href=\"#wtg\" x=\"316\" y=\"1050\"/><use href=\"#wtg\" x=\"443\" y=\"1045\"/><use href=\"#wtg\" x=\"423\" y=\"931\"/><use href=\"#wtg\" x=\"304\" y=\"878\"/><use href=\"#wtg\" x=\"285\" y=\"957\"/></g><g fill=\"#aec7e8\"><use href=\"#wtg\" x=\"366\" y=\"587\"/><use href=\"#wtg\" x=\"385\" y=\"529\"/><use href=\"#wtg\" x=\"389\" y=\"402\"/><use href=\"#wtg\" x=\"397\" y=\"385\"/><use href=\"#wtg\" x=\"301\" y=\"465\"/><use href=\"#wtg\" x=\"299\" y=\"534\"/></g><g fill=\"#ff7f0e\"><use href=\"#wtg\" x=\"50\" y=\"738\"/><use href=\"#wtg\" x=\"93\" y=\"549\"/><use href=\"#wtg\" x=\"152\" y=\"535\"/><use href=\"#wtg\" x=\"227\" y=\"539\"/><use href=\"#wtg\" x=\"256\" y=\"639\"/><use href=\"#wtg\" x=\"144\" y=\"927\"/></g><g fill=\"#ffbb78\"><use href=\"#wtg\" x=\"779\" y=\"253\"/><use href=\"#wtg\" x=\"898\" y=\"165\"/><use href=\"#wtg\" x=\"1030\" y=\"89\"/><use href=\"#wtg\" x=\"933\" y=\"232\"/><use href=\"#wtg\" x=\"914\" y=\"316\"/><use href=\"#wtg\" x=\"852\" y=\"320\"/></g><g fill=\"#2ca02c\"><use href=\"#wtg\" x=\"492\" y=\"340\"/><use href=\"#wtg\" x=\"519\" y=\"324\"/><use href=\"#wtg\" x=\"525\" y=\"247\"/><use href=\"#wtg\" x=\"595\" y=\"274\"/><use href=\"#wtg\" x=\"611\" y=\"301\"/><use href=\"#wtg\" x=\"563\" y=\"488\"/></g><g fill=\"#98df8a\"><use href=\"#wtg\" x=\"867\" y=\"756\"/><use href=\"#wtg\" x=\"957\" y=\"697\"/><use href=\"#wtg\" x=\"959\" y=\"693\"/><use href=\"#wtg\" x=\"942\" y=\"759\"/><use href=\"#wtg\" x=\"951\" y=\"805\"/><use href=\"#wtg\" x=\"866\" y=\"885\"/></g><g fill=\"#d62728\"><use href=\"#wtg\" x=\"375\" y=\"280\"/><use href=\"#wtg\" x=\"420\" y=\"170\"/><use href=\"#wtg\" x=\"387\" y=\"114\"/><use href=\"#wtg\" x=\"437\" y=\"58\"/><use href=\"#wtg\" x=\"379\" y=\"39\"/><use href=\"#wtg\" x=\"237\" y=\"197\"/></g><g fill=\"#ff9896\"><use href=\"#wtg\" x=\"476\" y=\"788\"/><use href=\"#wtg\" x=\"614\" y=\"709\"/><use href=\"#wtg\" x=\"612\" y=\"669\"/><use href=\"#wtg\" x=\"634\" y=\"656\"/><use href=\"#wtg\" x=\"604\" y=\"641\"/><use href=\"#wtg\" x=\"417\" y=\"764\"/></g><g fill=\"#9467bd\"><use href=\"#wtg\" x=\"741\" y=\"876\"/><use href=\"#wtg\" x=\"791\" y=\"886\"/><use href=\"#wtg\" x=\"828\" y=\"948\"/><use href=\"#wtg\" x=\"930\" y=\"953\"/><use href=\"#wtg\" x=\"933\" y=\"1029\"/><use href=\"#wtg\" x=\"657\" y=\"993\"/></g><g fill=\"#c5b0d5\"><use href=\"#wtg\" x=\"664\" y=\"492\"/><use href=\"#wtg\" x=\"692\" y=\"391\"/><use href=\"#wtg\" x=\"779\" y=\"346\"/><use href=\"#wtg\" x=\"751\" y=\"304\"/><use href=\"#wtg\" x=\"707\" y=\"331\"/><use href=\"#wtg\" x=\"638\" y=\"360\"/></g><g fill=\"#8c564b\"><use href=\"#wtg\" x=\"673\" y=\"639\"/><use href=\"#wtg\" x=\"774\" y=\"652\"/><use href=\"#wtg\" x=\"799\" y=\"680\"/><use href=\"#wtg\" x=\"823\" y=\"708\"/><use href=\"#wtg\" x=\"785\" y=\"727\"/><use href=\"#wtg\" x=\"732\" y=\"748\"/></g><g fill=\"#c49c94\"><use href=\"#wtg\" x=\"711\" y=\"73\"/><use href=\"#wtg\" x=\"795\" y=\"41\"/><use href=\"#wtg\" x=\"811\" y=\"60\"/><use href=\"#wtg\" x=\"779\" y=\"106\"/><use href=\"#wtg\" x=\"779\" y=\"139\"/><use href=\"#wtg\" x=\"661\" y=\"233\"/></g><g fill=\"#e377c2\"><use href=\"#wtg\" x=\"697\" y=\"535\"/><use href=\"#wtg\" x=\"767\" y=\"546\"/><use href=\"#wtg\" x=\"997\" y=\"538\"/><use href=\"#wtg\" x=\"927\" y=\"586\"/><use href=\"#wtg\" x=\"867\" y=\"590\"/><use href=\"#wtg\" x=\"758\" y=\"607\"/></g><g fill=\"#f7b6d2\"><use href=\"#wtg\" x=\"155\" y=\"326\"/><use href=\"#wtg\" x=\"138\" y=\"243\"/><use href=\"#wtg\" x=\"133\" y=\"151\"/><use href=\"#wtg\" x=\"159\" y=\"177\"/><use href=\"#wtg\" x=\"232\" y=\"393\"/><use href=\"#wtg\" x=\"233\" y=\"433\"/></g><g fill=\"#7f7f7f\"><use href=\"#wtg\" x=\"556\" y=\"189\"/><use href=\"#wtg\" x=\"650\" y=\"49\"/><use href=\"#wtg\" x=\"623\" y=\"30\"/><use href=\"#wtg\" x=\"603\" y=\"79\"/><use href=\"#wtg\" x=\"477\" y=\"191\"/><use href=\"#wtg\" x=\"415\" y=\"296\"/></g><g fill=\"#c7c7c7\"><use href=\"#wtg\" x=\"575\" y=\"776\"/><use href=\"#wtg\" x=\"652\" y=\"714\"/><use href=\"#wtg\" x=\"661\" y=\"729\"/><use href=\"#wtg\" x=\"736\" y=\"793\"/><use href=\"#wtg\" x=\"682\" y=\"805\"/><use href=\"#wtg\" x=\"529\" y=\"922\"/></g><g fill=\"#bcbd22\"><use href=\"#wtg\" x=\"77\" y=\"1006\"/><use href=\"#wtg\" x=\"37\" y=\"913\"/><use href=\"#wtg\" x=\"33\" y=\"991\"/><use href=\"#wtg\" x=\"45\" y=\"998\"/></g></g><g id=\"OSSgrp\"><use href=\"#oss\" x=\"19.5\" y=\"1039.5\"/></g></g><text stroke=\"#000\" stroke-width=\"0.01em\" text-anchor=\"end\" font-family=\"sans-serif\" font-size=\"40\" fill=\"white\" x=\"1050\" y=\"1050\"><tspan x=\"1050\" dy=\"-0.0em\">&#931;&#955; = 19570.0 m</tspan><tspan x=\"1050\" dy=\"-1.3em\">(+0) &#945;: 17</tspan><tspan x=\"1050\" dy=\"-1.3em\">&#954; = 6, T = 100</tspan></text></svg>"
      ],
      "text/plain": [
       "<interarray.svg.SvgRepr at 0x1c8eca2e2a0>"
      ]
     },
     "metadata": {},
     "output_type": "display_data"
    },
    {
     "data": {
      "image/svg+xml": [
       "<svg xmlns=\"http://www.w3.org/2000/svg\" viewBox=\"0 0 1920 1080\"><defs ><filter x=\"-5%\" y=\"-5%\" id=\"bg_textbox\" width=\"110%\" height=\"110%\"><feFlood flood-opacity=\"0.7\" flood-color=\"#111\" result=\"bg\"/><feMerge ><feMergeNode in=\"bg\"/><feMergeNode in=\"SourceGraphic\"/></feMerge></filter><circle stroke=\"none\" stroke-width=\"2\" id=\"wtg\" r=\"12\"/><rect stroke=\"none\" stroke-width=\"2\" id=\"oss\" width=\"21\" height=\"21\" fill=\"lawngreen\"/></defs><g id=\"L_from_site\"><path stroke=\"silver\" stroke-dasharray=\"15 7\" stroke-width=\"2\" id=\"border\" d=\"M30 1050 1050 1050 1050 30 30 30z\" fill-rule=\"evenodd\" fill=\"#111\"/><g stroke=\"crimson\" stroke-width=\"4\" id=\"edges_unspecified\"><line x1=\"479\" y1=\"753\" x2=\"510\" y2=\"696\"/><line x1=\"521\" y1=\"698\" x2=\"510\" y2=\"696\"/><line x1=\"521\" y1=\"698\" x2=\"607\" y2=\"651\"/><line x1=\"601\" y1=\"610\" x2=\"607\" y2=\"651\"/><line x1=\"601\" y1=\"610\" x2=\"665\" y2=\"526\"/><line x1=\"615\" y1=\"439\" x2=\"665\" y2=\"526\"/><line x1=\"512\" y1=\"577\" x2=\"615\" y2=\"439\"/><line x1=\"30\" y1=\"1050\" x2=\"141\" y2=\"1021\"/><line x1=\"192\" y1=\"280\" x2=\"291\" y2=\"161\"/><line x1=\"238\" y1=\"74\" x2=\"291\" y2=\"161\"/><line x1=\"217\" y1=\"32\" x2=\"238\" y2=\"74\"/><line x1=\"169\" y1=\"124\" x2=\"217\" y2=\"32\"/><line x1=\"169\" y1=\"124\" x2=\"156\" y2=\"154\"/><line x1=\"33\" y1=\"188\" x2=\"156\" y2=\"154\"/><line x1=\"33\" y1=\"188\" x2=\"30\" y2=\"443\"/><line x1=\"669\" y1=\"785\" x2=\"594\" y2=\"805\"/><line x1=\"716\" y1=\"736\" x2=\"669\" y2=\"785\"/><line x1=\"716\" y1=\"736\" x2=\"833\" y2=\"657\"/><line x1=\"869\" y1=\"668\" x2=\"833\" y2=\"657\"/><line x1=\"869\" y1=\"668\" x2=\"827\" y2=\"700\"/><line x1=\"802\" y1=\"771\" x2=\"827\" y2=\"700\"/><line x1=\"802\" y1=\"771\" x2=\"718\" y2=\"846\"/><line x1=\"254\" y1=\"717\" x2=\"149\" y2=\"919\"/><line x1=\"254\" y1=\"717\" x2=\"278\" y2=\"695\"/><line x1=\"331\" y1=\"691\" x2=\"278\" y2=\"695\"/><line x1=\"309\" y1=\"675\" x2=\"331\" y2=\"691\"/><line x1=\"309\" y1=\"675\" x2=\"193\" y2=\"673\"/><line x1=\"182\" y1=\"755\" x2=\"193\" y2=\"673\"/><line x1=\"931\" y1=\"962\" x2=\"820\" y2=\"924\"/><line x1=\"931\" y1=\"962\" x2=\"1046\" y2=\"881\"/><line x1=\"1024\" y1=\"692\" x2=\"1046\" y2=\"881\"/><line x1=\"1024\" y1=\"692\" x2=\"1037\" y2=\"608\"/><line x1=\"952\" y1=\"678\" x2=\"1037\" y2=\"608\"/><line x1=\"926\" y1=\"685\" x2=\"952\" y2=\"678\"/><line x1=\"926\" y1=\"685\" x2=\"918\" y2=\"691\"/><line x1=\"818\" y1=\"428\" x2=\"902\" y2=\"389\"/><line x1=\"902\" y1=\"389\" x2=\"931\" y2=\"338\"/><line x1=\"931\" y1=\"338\" x2=\"944\" y2=\"317\"/><line x1=\"971\" y1=\"229\" x2=\"944\" y2=\"317\"/><line x1=\"971\" y1=\"229\" x2=\"964\" y2=\"211\"/><line x1=\"964\" y1=\"211\" x2=\"896\" y2=\"164\"/><line x1=\"141\" y1=\"1021\" x2=\"218\" y2=\"985\"/><line x1=\"218\" y1=\"985\" x2=\"222\" y2=\"976\"/><line x1=\"460\" y1=\"475\" x2=\"482\" y2=\"475\"/><line x1=\"482\" y1=\"475\" x2=\"448\" y2=\"434\"/><line x1=\"399\" y1=\"441\" x2=\"448\" y2=\"434\"/><line x1=\"399\" y1=\"441\" x2=\"375\" y2=\"418\"/><line x1=\"293\" y1=\"454\" x2=\"375\" y2=\"418\"/><line x1=\"293\" y1=\"454\" x2=\"112\" y2=\"424\"/><line x1=\"58\" y1=\"422\" x2=\"112\" y2=\"424\"/><line x1=\"116\" y1=\"738\" x2=\"108\" y2=\"709\"/><line x1=\"108\" y1=\"709\" x2=\"104\" y2=\"675\"/><line x1=\"123\" y1=\"657\" x2=\"104\" y2=\"675\"/><line x1=\"123\" y1=\"657\" x2=\"111\" y2=\"613\"/><line x1=\"111\" y1=\"613\" x2=\"148\" y2=\"549\"/><line x1=\"64\" y1=\"626\" x2=\"148\" y2=\"549\"/><line x1=\"38\" y1=\"779\" x2=\"64\" y2=\"626\"/><line x1=\"569\" y1=\"124\" x2=\"525\" y2=\"58\"/><line x1=\"550\" y1=\"51\" x2=\"525\" y2=\"58\"/><line x1=\"594\" y1=\"92\" x2=\"550\" y2=\"51\"/><line x1=\"594\" y1=\"92\" x2=\"678\" y2=\"67\"/><line x1=\"644\" y1=\"123\" x2=\"678\" y2=\"67\"/><line x1=\"609\" y1=\"146\" x2=\"644\" y2=\"123\"/><line x1=\"457\" y1=\"135\" x2=\"480\" y2=\"277\"/><line x1=\"451\" y1=\"47\" x2=\"457\" y2=\"135\"/><line x1=\"451\" y1=\"47\" x2=\"443\" y2=\"50\"/><line x1=\"443\" y1=\"50\" x2=\"409\" y2=\"108\"/><line x1=\"409\" y1=\"108\" x2=\"407\" y2=\"152\"/><line x1=\"392\" y1=\"198\" x2=\"407\" y2=\"152\"/><line x1=\"392\" y1=\"198\" x2=\"393\" y2=\"219\"/><line x1=\"1004\" y1=\"245\" x2=\"971\" y2=\"307\"/><line x1=\"1026\" y1=\"194\" x2=\"1004\" y2=\"245\"/><line x1=\"1026\" y1=\"194\" x2=\"1027\" y2=\"97\"/><line x1=\"893\" y1=\"52\" x2=\"1027\" y2=\"97\"/><line x1=\"893\" y1=\"52\" x2=\"816\" y2=\"154\"/><line x1=\"816\" y1=\"154\" x2=\"763\" y2=\"234\"/><line x1=\"402\" y1=\"846\" x2=\"279\" y2=\"924\"/><line x1=\"402\" y1=\"846\" x2=\"426\" y2=\"869\"/><line x1=\"584\" y1=\"933\" x2=\"426\" y2=\"869\"/><line x1=\"584\" y1=\"933\" x2=\"717\" y2=\"896\"/><line x1=\"762\" y1=\"966\" x2=\"717\" y2=\"896\"/><line x1=\"724\" y1=\"1036\" x2=\"762\" y2=\"966\"/><line x1=\"724\" y1=\"1036\" x2=\"539\" y2=\"994\"/></g><g stroke=\"red\" stroke-dasharray=\"18 15\" stroke-width=\"4\" id=\"edges_tentative\"><line x1=\"30\" y1=\"1050\" x2=\"479\" y2=\"753\"/><line x1=\"30\" y1=\"1050\" x2=\"192\" y2=\"280\"/><line x1=\"30\" y1=\"1050\" x2=\"460\" y2=\"475\"/><line x1=\"30\" y1=\"1050\" x2=\"818\" y2=\"428\"/><line x1=\"30\" y1=\"1050\" x2=\"279\" y2=\"924\"/><line x1=\"30\" y1=\"1050\" x2=\"480\" y2=\"277\"/><line x1=\"30\" y1=\"1050\" x2=\"116\" y2=\"738\"/><line x1=\"30\" y1=\"1050\" x2=\"820\" y2=\"924\"/><line x1=\"30\" y1=\"1050\" x2=\"818\" y2=\"412\"/><line x1=\"30\" y1=\"1050\" x2=\"594\" y2=\"805\"/><line x1=\"30\" y1=\"1050\" x2=\"569\" y2=\"124\"/><line x1=\"30\" y1=\"1050\" x2=\"149\" y2=\"919\"/></g><g stroke=\"yellow\" stroke-dasharray=\"25 5\" stroke-width=\"4\" id=\"edges_rogue\"><line x1=\"92\" y1=\"949\" x2=\"182\" y2=\"755\"/><line x1=\"734\" y1=\"329\" x2=\"896\" y2=\"164\"/><line x1=\"222\" y1=\"976\" x2=\"30\" y2=\"1038\"/><line x1=\"472\" y1=\"351\" x2=\"609\" y2=\"146\"/><line x1=\"818\" y1=\"412\" x2=\"971\" y2=\"307\"/></g><g id=\"WTGgrp\"><g fill=\"#1f77b4\"><use href=\"#wtg\" x=\"479\" y=\"753\"/><use href=\"#wtg\" x=\"510\" y=\"696\"/><use href=\"#wtg\" x=\"521\" y=\"698\"/><use href=\"#wtg\" x=\"607\" y=\"651\"/><use href=\"#wtg\" x=\"601\" y=\"610\"/><use href=\"#wtg\" x=\"665\" y=\"526\"/><use href=\"#wtg\" x=\"615\" y=\"439\"/><use href=\"#wtg\" x=\"512\" y=\"577\"/></g><g fill=\"#aec7e8\"><use href=\"#wtg\" x=\"192\" y=\"280\"/><use href=\"#wtg\" x=\"291\" y=\"161\"/><use href=\"#wtg\" x=\"238\" y=\"74\"/><use href=\"#wtg\" x=\"217\" y=\"32\"/><use href=\"#wtg\" x=\"169\" y=\"124\"/><use href=\"#wtg\" x=\"156\" y=\"154\"/><use href=\"#wtg\" x=\"33\" y=\"188\"/><use href=\"#wtg\" x=\"30\" y=\"443\"/></g><g fill=\"#ff7f0e\"><use href=\"#wtg\" x=\"594\" y=\"805\"/><use href=\"#wtg\" x=\"669\" y=\"785\"/><use href=\"#wtg\" x=\"716\" y=\"736\"/><use href=\"#wtg\" x=\"833\" y=\"657\"/><use href=\"#wtg\" x=\"869\" y=\"668\"/><use href=\"#wtg\" x=\"827\" y=\"700\"/><use href=\"#wtg\" x=\"802\" y=\"771\"/><use href=\"#wtg\" x=\"718\" y=\"846\"/></g><g fill=\"#ffbb78\"><use href=\"#wtg\" x=\"149\" y=\"919\"/><use href=\"#wtg\" x=\"254\" y=\"717\"/><use href=\"#wtg\" x=\"278\" y=\"695\"/><use href=\"#wtg\" x=\"331\" y=\"691\"/><use href=\"#wtg\" x=\"309\" y=\"675\"/><use href=\"#wtg\" x=\"193\" y=\"673\"/><use href=\"#wtg\" x=\"182\" y=\"755\"/><use href=\"#wtg\" x=\"92\" y=\"949\"/></g><g fill=\"#2ca02c\"><use href=\"#wtg\" x=\"820\" y=\"924\"/><use href=\"#wtg\" x=\"931\" y=\"962\"/><use href=\"#wtg\" x=\"1046\" y=\"881\"/><use href=\"#wtg\" x=\"1024\" y=\"692\"/><use href=\"#wtg\" x=\"1037\" y=\"608\"/><use href=\"#wtg\" x=\"952\" y=\"678\"/><use href=\"#wtg\" x=\"926\" y=\"685\"/><use href=\"#wtg\" x=\"918\" y=\"691\"/></g><g fill=\"#98df8a\"><use href=\"#wtg\" x=\"818\" y=\"428\"/><use href=\"#wtg\" x=\"902\" y=\"389\"/><use href=\"#wtg\" x=\"931\" y=\"338\"/><use href=\"#wtg\" x=\"944\" y=\"317\"/><use href=\"#wtg\" x=\"971\" y=\"229\"/><use href=\"#wtg\" x=\"964\" y=\"211\"/><use href=\"#wtg\" x=\"896\" y=\"164\"/><use href=\"#wtg\" x=\"734\" y=\"329\"/></g><g fill=\"#d62728\"><use href=\"#wtg\" x=\"141\" y=\"1021\"/><use href=\"#wtg\" x=\"218\" y=\"985\"/><use href=\"#wtg\" x=\"222\" y=\"976\"/><use href=\"#wtg\" x=\"30\" y=\"1038\"/></g><g fill=\"#ff9896\"><use href=\"#wtg\" x=\"460\" y=\"475\"/><use href=\"#wtg\" x=\"482\" y=\"475\"/><use href=\"#wtg\" x=\"448\" y=\"434\"/><use href=\"#wtg\" x=\"399\" y=\"441\"/><use href=\"#wtg\" x=\"375\" y=\"418\"/><use href=\"#wtg\" x=\"293\" y=\"454\"/><use href=\"#wtg\" x=\"112\" y=\"424\"/><use href=\"#wtg\" x=\"58\" y=\"422\"/></g><g fill=\"#9467bd\"><use href=\"#wtg\" x=\"116\" y=\"738\"/><use href=\"#wtg\" x=\"108\" y=\"709\"/><use href=\"#wtg\" x=\"104\" y=\"675\"/><use href=\"#wtg\" x=\"123\" y=\"657\"/><use href=\"#wtg\" x=\"111\" y=\"613\"/><use href=\"#wtg\" x=\"148\" y=\"549\"/><use href=\"#wtg\" x=\"64\" y=\"626\"/><use href=\"#wtg\" x=\"38\" y=\"779\"/></g><g fill=\"#c5b0d5\"><use href=\"#wtg\" x=\"569\" y=\"124\"/><use href=\"#wtg\" x=\"525\" y=\"58\"/><use href=\"#wtg\" x=\"550\" y=\"51\"/><use href=\"#wtg\" x=\"594\" y=\"92\"/><use href=\"#wtg\" x=\"678\" y=\"67\"/><use href=\"#wtg\" x=\"644\" y=\"123\"/><use href=\"#wtg\" x=\"609\" y=\"146\"/><use href=\"#wtg\" x=\"472\" y=\"351\"/></g><g fill=\"#8c564b\"><use href=\"#wtg\" x=\"480\" y=\"277\"/><use href=\"#wtg\" x=\"457\" y=\"135\"/><use href=\"#wtg\" x=\"451\" y=\"47\"/><use href=\"#wtg\" x=\"443\" y=\"50\"/><use href=\"#wtg\" x=\"409\" y=\"108\"/><use href=\"#wtg\" x=\"407\" y=\"152\"/><use href=\"#wtg\" x=\"392\" y=\"198\"/><use href=\"#wtg\" x=\"393\" y=\"219\"/></g><g fill=\"#c49c94\"><use href=\"#wtg\" x=\"818\" y=\"412\"/><use href=\"#wtg\" x=\"971\" y=\"307\"/><use href=\"#wtg\" x=\"1004\" y=\"245\"/><use href=\"#wtg\" x=\"1026\" y=\"194\"/><use href=\"#wtg\" x=\"1027\" y=\"97\"/><use href=\"#wtg\" x=\"893\" y=\"52\"/><use href=\"#wtg\" x=\"816\" y=\"154\"/><use href=\"#wtg\" x=\"763\" y=\"234\"/></g><g fill=\"#e377c2\"><use href=\"#wtg\" x=\"279\" y=\"924\"/><use href=\"#wtg\" x=\"402\" y=\"846\"/><use href=\"#wtg\" x=\"426\" y=\"869\"/><use href=\"#wtg\" x=\"584\" y=\"933\"/><use href=\"#wtg\" x=\"717\" y=\"896\"/><use href=\"#wtg\" x=\"762\" y=\"966\"/><use href=\"#wtg\" x=\"724\" y=\"1036\"/><use href=\"#wtg\" x=\"539\" y=\"994\"/></g></g><g id=\"OSSgrp\"><use href=\"#oss\" x=\"19.5\" y=\"1039.5\"/></g></g><text stroke=\"#000\" stroke-width=\"0.01em\" text-anchor=\"end\" font-family=\"sans-serif\" font-size=\"40\" fill=\"white\" x=\"1050\" y=\"1050\"><tspan x=\"1050\" dy=\"-0.0em\">&#931;&#955; = 15936.0 m</tspan><tspan x=\"1050\" dy=\"-1.3em\">(+0) &#945;: 13</tspan><tspan x=\"1050\" dy=\"-1.3em\">&#954; = 8, T = 100</tspan></text></svg>"
      ],
      "text/plain": [
       "<interarray.svg.SvgRepr at 0x1c8ee3ce030>"
      ]
     },
     "metadata": {},
     "output_type": "display_data"
    },
    {
     "data": {
      "image/svg+xml": [
       "<svg xmlns=\"http://www.w3.org/2000/svg\" viewBox=\"0 0 1920 1080\"><defs ><filter x=\"-5%\" y=\"-5%\" id=\"bg_textbox\" width=\"110%\" height=\"110%\"><feFlood flood-opacity=\"0.7\" flood-color=\"#111\" result=\"bg\"/><feMerge ><feMergeNode in=\"bg\"/><feMergeNode in=\"SourceGraphic\"/></feMerge></filter><circle stroke=\"none\" stroke-width=\"2\" id=\"wtg\" r=\"12\"/><rect stroke=\"none\" stroke-width=\"2\" id=\"oss\" width=\"21\" height=\"21\" fill=\"lawngreen\"/></defs><g id=\"L_from_site\"><path stroke=\"silver\" stroke-dasharray=\"15 7\" stroke-width=\"2\" id=\"border\" d=\"M30 1050 1050 1050 1050 30 30 30z\" fill-rule=\"evenodd\" fill=\"#111\"/><g stroke=\"crimson\" stroke-width=\"4\" id=\"edges_unspecified\"><line x1=\"30\" y1=\"1050\" x2=\"37\" y2=\"1018\"/><line x1=\"30\" y1=\"1050\" x2=\"417\" y2=\"957\"/><line x1=\"30\" y1=\"1050\" x2=\"304\" y2=\"877\"/><line x1=\"838\" y1=\"612\" x2=\"1029\" y2=\"415\"/><line x1=\"920\" y1=\"324\" x2=\"1029\" y2=\"415\"/><line x1=\"920\" y1=\"324\" x2=\"1015\" y2=\"133\"/><line x1=\"969\" y1=\"100\" x2=\"1015\" y2=\"133\"/><line x1=\"969\" y1=\"100\" x2=\"921\" y2=\"118\"/><line x1=\"921\" y1=\"118\" x2=\"869\" y2=\"44\"/><line x1=\"825\" y1=\"56\" x2=\"869\" y2=\"44\"/><line x1=\"825\" y1=\"56\" x2=\"659\" y2=\"214\"/><line x1=\"301\" y1=\"471\" x2=\"255\" y2=\"567\"/><line x1=\"340\" y1=\"356\" x2=\"301\" y2=\"471\"/><line x1=\"340\" y1=\"356\" x2=\"310\" y2=\"310\"/><line x1=\"350\" y1=\"308\" x2=\"310\" y2=\"310\"/><line x1=\"372\" y1=\"284\" x2=\"350\" y2=\"308\"/><line x1=\"415\" y1=\"290\" x2=\"372\" y2=\"284\"/><line x1=\"415\" y1=\"290\" x2=\"430\" y2=\"353\"/><line x1=\"358\" y1=\"501\" x2=\"430\" y2=\"353\"/><line x1=\"601\" y1=\"426\" x2=\"628\" y2=\"411\"/><line x1=\"628\" y1=\"411\" x2=\"734\" y2=\"310\"/><line x1=\"717\" y1=\"248\" x2=\"734\" y2=\"310\"/><line x1=\"717\" y1=\"248\" x2=\"780\" y2=\"215\"/><line x1=\"789\" y1=\"232\" x2=\"780\" y2=\"215\"/><line x1=\"789\" y1=\"232\" x2=\"845\" y2=\"243\"/><line x1=\"843\" y1=\"321\" x2=\"845\" y2=\"243\"/><line x1=\"307\" y1=\"216\" x2=\"312\" y2=\"217\"/><line x1=\"307\" y1=\"216\" x2=\"271\" y2=\"129\"/><line x1=\"276\" y1=\"84\" x2=\"271\" y2=\"129\"/><line x1=\"323\" y1=\"35\" x2=\"276\" y2=\"84\"/><line x1=\"323\" y1=\"35\" x2=\"273\" y2=\"58\"/><line x1=\"273\" y1=\"58\" x2=\"197\" y2=\"39\"/><line x1=\"198\" y1=\"98\" x2=\"197\" y2=\"39\"/><line x1=\"59\" y1=\"547\" x2=\"44\" y2=\"422\"/><line x1=\"88\" y1=\"367\" x2=\"44\" y2=\"422\"/><line x1=\"88\" y1=\"367\" x2=\"69\" y2=\"252\"/><line x1=\"130\" y1=\"222\" x2=\"69\" y2=\"252\"/><line x1=\"130\" y1=\"222\" x2=\"155\" y2=\"269\"/><line x1=\"155\" y1=\"269\" x2=\"196\" y2=\"297\"/><line x1=\"202\" y1=\"341\" x2=\"196\" y2=\"297\"/><line x1=\"125\" y1=\"431\" x2=\"202\" y2=\"341\"/><line x1=\"860\" y1=\"893\" x2=\"979\" y2=\"1017\"/><line x1=\"979\" y1=\"1017\" x2=\"1004\" y2=\"979\"/><line x1=\"1008\" y1=\"943\" x2=\"1004\" y2=\"979\"/><line x1=\"1008\" y1=\"943\" x2=\"979\" y2=\"921\"/><line x1=\"1043\" y1=\"828\" x2=\"979\" y2=\"921\"/><line x1=\"1043\" y1=\"828\" x2=\"993\" y2=\"754\"/><line x1=\"890\" y1=\"795\" x2=\"993\" y2=\"754\"/><line x1=\"890\" y1=\"795\" x2=\"760\" y2=\"839\"/><line x1=\"564\" y1=\"968\" x2=\"417\" y2=\"957\"/><line x1=\"564\" y1=\"968\" x2=\"600\" y2=\"965\"/><line x1=\"600\" y1=\"965\" x2=\"687\" y2=\"1017\"/><line x1=\"705\" y1=\"1003\" x2=\"687\" y2=\"1017\"/><line x1=\"705\" y1=\"1003\" x2=\"773\" y2=\"986\"/><line x1=\"773\" y1=\"986\" x2=\"800\" y2=\"965\"/><line x1=\"522\" y1=\"910\" x2=\"366\" y2=\"901\"/><line x1=\"411\" y1=\"702\" x2=\"304\" y2=\"877\"/><line x1=\"409\" y1=\"694\" x2=\"411\" y2=\"702\"/><line x1=\"409\" y1=\"694\" x2=\"437\" y2=\"694\"/><line x1=\"542\" y1=\"644\" x2=\"437\" y2=\"694\"/><line x1=\"542\" y1=\"644\" x2=\"500\" y2=\"593\"/><line x1=\"452\" y1=\"571\" x2=\"500\" y2=\"593\"/><line x1=\"368\" y1=\"684\" x2=\"452\" y2=\"571\"/><line x1=\"100\" y1=\"652\" x2=\"117\" y2=\"622\"/><line x1=\"234\" y1=\"630\" x2=\"117\" y2=\"622\"/><line x1=\"247\" y1=\"674\" x2=\"234\" y2=\"630\"/><line x1=\"247\" y1=\"674\" x2=\"202\" y2=\"699\"/><line x1=\"202\" y1=\"699\" x2=\"183\" y2=\"691\"/><line x1=\"163\" y1=\"782\" x2=\"183\" y2=\"691\"/><line x1=\"163\" y1=\"782\" x2=\"97\" y2=\"896\"/><line x1=\"86\" y1=\"943\" x2=\"97\" y2=\"896\"/><line x1=\"535\" y1=\"366\" x2=\"502\" y2=\"316\"/><line x1=\"552\" y1=\"308\" x2=\"502\" y2=\"316\"/><line x1=\"569\" y1=\"224\" x2=\"552\" y2=\"308\"/><line x1=\"569\" y1=\"224\" x2=\"492\" y2=\"218\"/><line x1=\"504\" y1=\"149\" x2=\"492\" y2=\"218\"/><line x1=\"504\" y1=\"149\" x2=\"486\" y2=\"128\"/><line x1=\"486\" y1=\"128\" x2=\"444\" y2=\"72\"/><line x1=\"444\" y1=\"72\" x2=\"417\" y2=\"170\"/><line x1=\"639\" y1=\"793\" x2=\"698\" y2=\"701\"/><line x1=\"792\" y1=\"678\" x2=\"698\" y2=\"701\"/><line x1=\"792\" y1=\"678\" x2=\"794\" y2=\"643\"/><line x1=\"775\" y1=\"633\" x2=\"794\" y2=\"643\"/><line x1=\"775\" y1=\"633\" x2=\"751\" y2=\"633\"/><line x1=\"724\" y1=\"474\" x2=\"751\" y2=\"633\"/><line x1=\"718\" y1=\"476\" x2=\"724\" y2=\"474\"/><line x1=\"718\" y1=\"476\" x2=\"609\" y2=\"564\"/></g><g stroke=\"red\" stroke-dasharray=\"18 15\" stroke-width=\"4\" id=\"edges_tentative\"><line x1=\"30\" y1=\"1050\" x2=\"249\" y2=\"451\"/><line x1=\"30\" y1=\"1050\" x2=\"59\" y2=\"547\"/><line x1=\"30\" y1=\"1050\" x2=\"601\" y2=\"426\"/><line x1=\"30\" y1=\"1050\" x2=\"838\" y2=\"612\"/><line x1=\"30\" y1=\"1050\" x2=\"535\" y2=\"366\"/><line x1=\"30\" y1=\"1050\" x2=\"255\" y2=\"567\"/><line x1=\"30\" y1=\"1050\" x2=\"639\" y2=\"793\"/><line x1=\"30\" y1=\"1050\" x2=\"860\" y2=\"893\"/><line x1=\"30\" y1=\"1050\" x2=\"100\" y2=\"652\"/></g><g stroke=\"yellow\" stroke-dasharray=\"25 5\" stroke-width=\"4\" id=\"edges_rogue\"><line x1=\"612\" y1=\"529\" x2=\"843\" y2=\"321\"/><line x1=\"249\" y1=\"451\" x2=\"312\" y2=\"217\"/><line x1=\"522\" y1=\"910\" x2=\"800\" y2=\"965\"/><line x1=\"368\" y1=\"684\" x2=\"183\" y2=\"846\"/></g><g id=\"WTGgrp\"><g fill=\"#1f77b4\"><use href=\"#wtg\" x=\"37\" y=\"1018\"/></g><g fill=\"#aec7e8\"><use href=\"#wtg\" x=\"838\" y=\"612\"/><use href=\"#wtg\" x=\"1029\" y=\"415\"/><use href=\"#wtg\" x=\"920\" y=\"324\"/><use href=\"#wtg\" x=\"1015\" y=\"133\"/><use href=\"#wtg\" x=\"969\" y=\"100\"/><use href=\"#wtg\" x=\"921\" y=\"118\"/><use href=\"#wtg\" x=\"869\" y=\"44\"/><use href=\"#wtg\" x=\"825\" y=\"56\"/><use href=\"#wtg\" x=\"659\" y=\"214\"/></g><g fill=\"#ff7f0e\"><use href=\"#wtg\" x=\"255\" y=\"567\"/><use href=\"#wtg\" x=\"301\" y=\"471\"/><use href=\"#wtg\" x=\"340\" y=\"356\"/><use href=\"#wtg\" x=\"310\" y=\"310\"/><use href=\"#wtg\" x=\"350\" y=\"308\"/><use href=\"#wtg\" x=\"372\" y=\"284\"/><use href=\"#wtg\" x=\"415\" y=\"290\"/><use href=\"#wtg\" x=\"430\" y=\"353\"/><use href=\"#wtg\" x=\"358\" y=\"501\"/></g><g fill=\"#ffbb78\"><use href=\"#wtg\" x=\"601\" y=\"426\"/><use href=\"#wtg\" x=\"628\" y=\"411\"/><use href=\"#wtg\" x=\"734\" y=\"310\"/><use href=\"#wtg\" x=\"717\" y=\"248\"/><use href=\"#wtg\" x=\"780\" y=\"215\"/><use href=\"#wtg\" x=\"789\" y=\"232\"/><use href=\"#wtg\" x=\"845\" y=\"243\"/><use href=\"#wtg\" x=\"843\" y=\"321\"/><use href=\"#wtg\" x=\"612\" y=\"529\"/></g><g fill=\"#2ca02c\"><use href=\"#wtg\" x=\"249\" y=\"451\"/><use href=\"#wtg\" x=\"312\" y=\"217\"/><use href=\"#wtg\" x=\"307\" y=\"216\"/><use href=\"#wtg\" x=\"271\" y=\"129\"/><use href=\"#wtg\" x=\"276\" y=\"84\"/><use href=\"#wtg\" x=\"323\" y=\"35\"/><use href=\"#wtg\" x=\"273\" y=\"58\"/><use href=\"#wtg\" x=\"197\" y=\"39\"/><use href=\"#wtg\" x=\"198\" y=\"98\"/></g><g fill=\"#98df8a\"><use href=\"#wtg\" x=\"59\" y=\"547\"/><use href=\"#wtg\" x=\"44\" y=\"422\"/><use href=\"#wtg\" x=\"88\" y=\"367\"/><use href=\"#wtg\" x=\"69\" y=\"252\"/><use href=\"#wtg\" x=\"130\" y=\"222\"/><use href=\"#wtg\" x=\"155\" y=\"269\"/><use href=\"#wtg\" x=\"196\" y=\"297\"/><use href=\"#wtg\" x=\"202\" y=\"341\"/><use href=\"#wtg\" x=\"125\" y=\"431\"/></g><g fill=\"#d62728\"><use href=\"#wtg\" x=\"860\" y=\"893\"/><use href=\"#wtg\" x=\"979\" y=\"1017\"/><use href=\"#wtg\" x=\"1004\" y=\"979\"/><use href=\"#wtg\" x=\"1008\" y=\"943\"/><use href=\"#wtg\" x=\"979\" y=\"921\"/><use href=\"#wtg\" x=\"1043\" y=\"828\"/><use href=\"#wtg\" x=\"993\" y=\"754\"/><use href=\"#wtg\" x=\"890\" y=\"795\"/><use href=\"#wtg\" x=\"760\" y=\"839\"/></g><g fill=\"#ff9896\"><use href=\"#wtg\" x=\"417\" y=\"957\"/><use href=\"#wtg\" x=\"564\" y=\"968\"/><use href=\"#wtg\" x=\"600\" y=\"965\"/><use href=\"#wtg\" x=\"687\" y=\"1017\"/><use href=\"#wtg\" x=\"705\" y=\"1003\"/><use href=\"#wtg\" x=\"773\" y=\"986\"/><use href=\"#wtg\" x=\"800\" y=\"965\"/><use href=\"#wtg\" x=\"522\" y=\"910\"/><use href=\"#wtg\" x=\"366\" y=\"901\"/></g><g fill=\"#9467bd\"><use href=\"#wtg\" x=\"304\" y=\"877\"/><use href=\"#wtg\" x=\"411\" y=\"702\"/><use href=\"#wtg\" x=\"409\" y=\"694\"/><use href=\"#wtg\" x=\"437\" y=\"694\"/><use href=\"#wtg\" x=\"542\" y=\"644\"/><use href=\"#wtg\" x=\"500\" y=\"593\"/><use href=\"#wtg\" x=\"452\" y=\"571\"/><use href=\"#wtg\" x=\"368\" y=\"684\"/><use href=\"#wtg\" x=\"183\" y=\"846\"/></g><g fill=\"#c5b0d5\"><use href=\"#wtg\" x=\"100\" y=\"652\"/><use href=\"#wtg\" x=\"117\" y=\"622\"/><use href=\"#wtg\" x=\"234\" y=\"630\"/><use href=\"#wtg\" x=\"247\" y=\"674\"/><use href=\"#wtg\" x=\"202\" y=\"699\"/><use href=\"#wtg\" x=\"183\" y=\"691\"/><use href=\"#wtg\" x=\"163\" y=\"782\"/><use href=\"#wtg\" x=\"97\" y=\"896\"/><use href=\"#wtg\" x=\"86\" y=\"943\"/></g><g fill=\"#8c564b\"><use href=\"#wtg\" x=\"535\" y=\"366\"/><use href=\"#wtg\" x=\"502\" y=\"316\"/><use href=\"#wtg\" x=\"552\" y=\"308\"/><use href=\"#wtg\" x=\"569\" y=\"224\"/><use href=\"#wtg\" x=\"492\" y=\"218\"/><use href=\"#wtg\" x=\"504\" y=\"149\"/><use href=\"#wtg\" x=\"486\" y=\"128\"/><use href=\"#wtg\" x=\"444\" y=\"72\"/><use href=\"#wtg\" x=\"417\" y=\"170\"/></g><g fill=\"#c49c94\"><use href=\"#wtg\" x=\"639\" y=\"793\"/><use href=\"#wtg\" x=\"698\" y=\"701\"/><use href=\"#wtg\" x=\"792\" y=\"678\"/><use href=\"#wtg\" x=\"794\" y=\"643\"/><use href=\"#wtg\" x=\"775\" y=\"633\"/><use href=\"#wtg\" x=\"751\" y=\"633\"/><use href=\"#wtg\" x=\"724\" y=\"474\"/><use href=\"#wtg\" x=\"718\" y=\"476\"/><use href=\"#wtg\" x=\"609\" y=\"564\"/></g></g><g id=\"OSSgrp\"><use href=\"#oss\" x=\"19.5\" y=\"1039.5\"/></g></g><text stroke=\"#000\" stroke-width=\"0.01em\" text-anchor=\"end\" font-family=\"sans-serif\" font-size=\"40\" fill=\"white\" x=\"1050\" y=\"1050\"><tspan x=\"1050\" dy=\"-0.0em\">&#931;&#955; = 14596.0 m</tspan><tspan x=\"1050\" dy=\"-1.3em\">(+0) &#945;: 12</tspan><tspan x=\"1050\" dy=\"-1.3em\">&#954; = 9, T = 100</tspan></text></svg>"
      ],
      "text/plain": [
       "<interarray.svg.SvgRepr at 0x1c8ee3ce240>"
      ]
     },
     "metadata": {},
     "output_type": "display_data"
    },
    {
     "data": {
      "image/svg+xml": [
       "<svg xmlns=\"http://www.w3.org/2000/svg\" viewBox=\"0 0 1920 1080\"><defs ><filter x=\"-5%\" y=\"-5%\" id=\"bg_textbox\" width=\"110%\" height=\"110%\"><feFlood flood-opacity=\"0.7\" flood-color=\"#111\" result=\"bg\"/><feMerge ><feMergeNode in=\"bg\"/><feMergeNode in=\"SourceGraphic\"/></feMerge></filter><circle stroke=\"none\" stroke-width=\"2\" id=\"wtg\" r=\"12\"/><rect stroke=\"none\" stroke-width=\"2\" id=\"oss\" width=\"21\" height=\"21\" fill=\"lawngreen\"/></defs><g id=\"L_from_site\"><path stroke=\"silver\" stroke-dasharray=\"15 7\" stroke-width=\"2\" id=\"border\" d=\"M30 1050 1050 1050 1050 30 30 30z\" fill-rule=\"evenodd\" fill=\"#111\"/><g stroke=\"crimson\" stroke-width=\"4\" id=\"edges_unspecified\"><line x1=\"569\" y1=\"729\" x2=\"599\" y2=\"743\"/><line x1=\"599\" y1=\"743\" x2=\"649\" y2=\"735\"/><line x1=\"686\" y1=\"679\" x2=\"649\" y2=\"735\"/><line x1=\"740\" y1=\"693\" x2=\"686\" y2=\"679\"/><line x1=\"740\" y1=\"693\" x2=\"764\" y2=\"706\"/><line x1=\"764\" y1=\"706\" x2=\"742\" y2=\"773\"/><line x1=\"742\" y1=\"773\" x2=\"735\" y2=\"798\"/><line x1=\"735\" y1=\"798\" x2=\"703\" y2=\"812\"/><line x1=\"647\" y1=\"780\" x2=\"703\" y2=\"812\"/><line x1=\"647\" y1=\"780\" x2=\"601\" y2=\"788\"/><line x1=\"601\" y1=\"788\" x2=\"583\" y2=\"778\"/><line x1=\"30\" y1=\"1050\" x2=\"46\" y2=\"1047\"/><line x1=\"694\" y1=\"426\" x2=\"697\" y2=\"374\"/><line x1=\"697\" y1=\"374\" x2=\"706\" y2=\"358\"/><line x1=\"737\" y1=\"353\" x2=\"706\" y2=\"358\"/><line x1=\"737\" y1=\"353\" x2=\"843\" y2=\"256\"/><line x1=\"843\" y1=\"256\" x2=\"889\" y2=\"251\"/><line x1=\"960\" y1=\"307\" x2=\"889\" y2=\"251\"/><line x1=\"960\" y1=\"307\" x2=\"1006\" y2=\"325\"/><line x1=\"1006\" y1=\"325\" x2=\"993\" y2=\"363\"/><line x1=\"993\" y1=\"363\" x2=\"977\" y2=\"346\"/><line x1=\"882\" y1=\"377\" x2=\"977\" y2=\"346\"/><line x1=\"46\" y1=\"1047\" x2=\"104\" y2=\"1019\"/><line x1=\"104\" y1=\"1019\" x2=\"127\" y2=\"1012\"/><line x1=\"122\" y1=\"1038\" x2=\"127\" y2=\"1012\"/><line x1=\"154\" y1=\"655\" x2=\"234\" y2=\"428\"/><line x1=\"270\" y1=\"340\" x2=\"234\" y2=\"428\"/><line x1=\"306\" y1=\"132\" x2=\"270\" y2=\"340\"/><line x1=\"306\" y1=\"132\" x2=\"381\" y2=\"68\"/><line x1=\"230\" y1=\"81\" x2=\"381\" y2=\"68\"/><line x1=\"198\" y1=\"78\" x2=\"230\" y2=\"81\"/><line x1=\"81\" y1=\"208\" x2=\"198\" y2=\"78\"/><line x1=\"81\" y1=\"208\" x2=\"85\" y2=\"235\"/><line x1=\"139\" y1=\"227\" x2=\"85\" y2=\"235\"/><line x1=\"139\" y1=\"227\" x2=\"180\" y2=\"252\"/><line x1=\"180\" y1=\"252\" x2=\"113\" y2=\"395\"/><line x1=\"282\" y1=\"358\" x2=\"381\" y2=\"248\"/><line x1=\"639\" y1=\"127\" x2=\"381\" y2=\"248\"/><line x1=\"639\" y1=\"127\" x2=\"693\" y2=\"65\"/><line x1=\"693\" y1=\"65\" x2=\"835\" y2=\"76\"/><line x1=\"840\" y1=\"108\" x2=\"835\" y2=\"76\"/><line x1=\"998\" y1=\"101\" x2=\"840\" y2=\"108\"/><line x1=\"1014\" y1=\"137\" x2=\"998\" y2=\"101\"/><line x1=\"1014\" y1=\"137\" x2=\"805\" y2=\"177\"/><line x1=\"802\" y1=\"186\" x2=\"805\" y2=\"177\"/><line x1=\"703\" y1=\"227\" x2=\"802\" y2=\"186\"/><line x1=\"581\" y1=\"300\" x2=\"703\" y2=\"227\"/><line x1=\"258\" y1=\"1045\" x2=\"399\" y2=\"961\"/><line x1=\"378\" y1=\"854\" x2=\"399\" y2=\"961\"/><line x1=\"378\" y1=\"854\" x2=\"448\" y2=\"772\"/><line x1=\"322\" y1=\"791\" x2=\"448\" y2=\"772\"/><line x1=\"290\" y1=\"801\" x2=\"322\" y2=\"791\"/><line x1=\"261\" y1=\"772\" x2=\"290\" y2=\"801\"/><line x1=\"156\" y1=\"773\" x2=\"261\" y2=\"772\"/><line x1=\"156\" y1=\"773\" x2=\"153\" y2=\"763\"/><line x1=\"95\" y1=\"742\" x2=\"153\" y2=\"763\"/><line x1=\"95\" y1=\"742\" x2=\"81\" y2=\"747\"/><line x1=\"123\" y1=\"920\" x2=\"81\" y2=\"747\"/><line x1=\"344\" y1=\"587\" x2=\"290\" y2=\"703\"/><line x1=\"359\" y1=\"474\" x2=\"344\" y2=\"587\"/><line x1=\"359\" y1=\"474\" x2=\"455\" y2=\"416\"/><line x1=\"455\" y1=\"416\" x2=\"506\" y2=\"387\"/><line x1=\"545\" y1=\"385\" x2=\"506\" y2=\"387\"/><line x1=\"545\" y1=\"385\" x2=\"474\" y2=\"490\"/><line x1=\"408\" y1=\"519\" x2=\"474\" y2=\"490\"/><line x1=\"425\" y1=\"525\" x2=\"408\" y2=\"519\"/><line x1=\"425\" y1=\"525\" x2=\"461\" y2=\"573\"/><line x1=\"461\" y1=\"573\" x2=\"367\" y2=\"661\"/><line x1=\"792\" y1=\"983\" x2=\"706\" y2=\"967\"/><line x1=\"792\" y1=\"983\" x2=\"859\" y2=\"971\"/><line x1=\"849\" y1=\"954\" x2=\"859\" y2=\"971\"/><line x1=\"849\" y1=\"954\" x2=\"867\" y2=\"930\"/><line x1=\"907\" y1=\"909\" x2=\"867\" y2=\"930\"/><line x1=\"907\" y1=\"909\" x2=\"944\" y2=\"943\"/><line x1=\"944\" y1=\"943\" x2=\"961\" y2=\"858\"/><line x1=\"938\" y1=\"826\" x2=\"961\" y2=\"858\"/><line x1=\"938\" y1=\"826\" x2=\"939\" y2=\"807\"/><line x1=\"631\" y1=\"584\" x2=\"658\" y2=\"567\"/><line x1=\"735\" y1=\"536\" x2=\"658\" y2=\"567\"/><line x1=\"735\" y1=\"536\" x2=\"832\" y2=\"474\"/><line x1=\"832\" y1=\"474\" x2=\"892\" y2=\"506\"/><line x1=\"892\" y1=\"506\" x2=\"929\" y2=\"503\"/><line x1=\"929\" y1=\"503\" x2=\"1011\" y2=\"590\"/><line x1=\"966\" y1=\"755\" x2=\"1011\" y2=\"590\"/><line x1=\"884\" y1=\"717\" x2=\"966\" y2=\"755\"/><line x1=\"884\" y1=\"717\" x2=\"867\" y2=\"685\"/><line x1=\"850\" y1=\"799\" x2=\"867\" y2=\"685\"/></g><g stroke=\"red\" stroke-dasharray=\"18 15\" stroke-width=\"4\" id=\"edges_tentative\"><line x1=\"30\" y1=\"1050\" x2=\"569\" y2=\"729\"/><line x1=\"30\" y1=\"1050\" x2=\"258\" y2=\"1045\"/><line x1=\"30\" y1=\"1050\" x2=\"290\" y2=\"703\"/><line x1=\"30\" y1=\"1050\" x2=\"631\" y2=\"584\"/><line x1=\"30\" y1=\"1050\" x2=\"694\" y2=\"426\"/><line x1=\"30\" y1=\"1050\" x2=\"706\" y2=\"967\"/><line x1=\"30\" y1=\"1050\" x2=\"154\" y2=\"655\"/><line x1=\"30\" y1=\"1050\" x2=\"282\" y2=\"358\"/></g><g stroke=\"yellow\" stroke-dasharray=\"25 5\" stroke-width=\"4\" id=\"edges_rogue\"><line x1=\"700\" y1=\"516\" x2=\"882\" y2=\"377\"/><line x1=\"367\" y1=\"661\" x2=\"186\" y2=\"934\"/><line x1=\"939\" y1=\"807\" x2=\"810\" y2=\"910\"/><line x1=\"554\" y1=\"946\" x2=\"810\" y2=\"910\"/><line x1=\"850\" y1=\"799\" x2=\"645\" y2=\"840\"/></g><g id=\"WTGgrp\"><g fill=\"#1f77b4\"><use href=\"#wtg\" x=\"569\" y=\"729\"/><use href=\"#wtg\" x=\"599\" y=\"743\"/><use href=\"#wtg\" x=\"649\" y=\"735\"/><use href=\"#wtg\" x=\"686\" y=\"679\"/><use href=\"#wtg\" x=\"740\" y=\"693\"/><use href=\"#wtg\" x=\"764\" y=\"706\"/><use href=\"#wtg\" x=\"742\" y=\"773\"/><use href=\"#wtg\" x=\"735\" y=\"798\"/><use href=\"#wtg\" x=\"703\" y=\"812\"/><use href=\"#wtg\" x=\"647\" y=\"780\"/><use href=\"#wtg\" x=\"601\" y=\"788\"/><use href=\"#wtg\" x=\"583\" y=\"778\"/></g><g fill=\"#aec7e8\"><use href=\"#wtg\" x=\"694\" y=\"426\"/><use href=\"#wtg\" x=\"697\" y=\"374\"/><use href=\"#wtg\" x=\"706\" y=\"358\"/><use href=\"#wtg\" x=\"737\" y=\"353\"/><use href=\"#wtg\" x=\"843\" y=\"256\"/><use href=\"#wtg\" x=\"889\" y=\"251\"/><use href=\"#wtg\" x=\"960\" y=\"307\"/><use href=\"#wtg\" x=\"1006\" y=\"325\"/><use href=\"#wtg\" x=\"993\" y=\"363\"/><use href=\"#wtg\" x=\"977\" y=\"346\"/><use href=\"#wtg\" x=\"882\" y=\"377\"/><use href=\"#wtg\" x=\"700\" y=\"516\"/></g><g fill=\"#ff7f0e\"><use href=\"#wtg\" x=\"46\" y=\"1047\"/><use href=\"#wtg\" x=\"104\" y=\"1019\"/><use href=\"#wtg\" x=\"127\" y=\"1012\"/><use href=\"#wtg\" x=\"122\" y=\"1038\"/></g><g fill=\"#ffbb78\"><use href=\"#wtg\" x=\"154\" y=\"655\"/><use href=\"#wtg\" x=\"234\" y=\"428\"/><use href=\"#wtg\" x=\"270\" y=\"340\"/><use href=\"#wtg\" x=\"306\" y=\"132\"/><use href=\"#wtg\" x=\"381\" y=\"68\"/><use href=\"#wtg\" x=\"230\" y=\"81\"/><use href=\"#wtg\" x=\"198\" y=\"78\"/><use href=\"#wtg\" x=\"81\" y=\"208\"/><use href=\"#wtg\" x=\"85\" y=\"235\"/><use href=\"#wtg\" x=\"139\" y=\"227\"/><use href=\"#wtg\" x=\"180\" y=\"252\"/><use href=\"#wtg\" x=\"113\" y=\"395\"/></g><g fill=\"#2ca02c\"><use href=\"#wtg\" x=\"282\" y=\"358\"/><use href=\"#wtg\" x=\"381\" y=\"248\"/><use href=\"#wtg\" x=\"639\" y=\"127\"/><use href=\"#wtg\" x=\"693\" y=\"65\"/><use href=\"#wtg\" x=\"835\" y=\"76\"/><use href=\"#wtg\" x=\"840\" y=\"108\"/><use href=\"#wtg\" x=\"998\" y=\"101\"/><use href=\"#wtg\" x=\"1014\" y=\"137\"/><use href=\"#wtg\" x=\"805\" y=\"177\"/><use href=\"#wtg\" x=\"802\" y=\"186\"/><use href=\"#wtg\" x=\"703\" y=\"227\"/><use href=\"#wtg\" x=\"581\" y=\"300\"/></g><g fill=\"#98df8a\"><use href=\"#wtg\" x=\"258\" y=\"1045\"/><use href=\"#wtg\" x=\"399\" y=\"961\"/><use href=\"#wtg\" x=\"378\" y=\"854\"/><use href=\"#wtg\" x=\"448\" y=\"772\"/><use href=\"#wtg\" x=\"322\" y=\"791\"/><use href=\"#wtg\" x=\"290\" y=\"801\"/><use href=\"#wtg\" x=\"261\" y=\"772\"/><use href=\"#wtg\" x=\"156\" y=\"773\"/><use href=\"#wtg\" x=\"153\" y=\"763\"/><use href=\"#wtg\" x=\"95\" y=\"742\"/><use href=\"#wtg\" x=\"81\" y=\"747\"/><use href=\"#wtg\" x=\"123\" y=\"920\"/></g><g fill=\"#d62728\"><use href=\"#wtg\" x=\"290\" y=\"703\"/><use href=\"#wtg\" x=\"344\" y=\"587\"/><use href=\"#wtg\" x=\"359\" y=\"474\"/><use href=\"#wtg\" x=\"455\" y=\"416\"/><use href=\"#wtg\" x=\"506\" y=\"387\"/><use href=\"#wtg\" x=\"545\" y=\"385\"/><use href=\"#wtg\" x=\"474\" y=\"490\"/><use href=\"#wtg\" x=\"408\" y=\"519\"/><use href=\"#wtg\" x=\"425\" y=\"525\"/><use href=\"#wtg\" x=\"461\" y=\"573\"/><use href=\"#wtg\" x=\"367\" y=\"661\"/><use href=\"#wtg\" x=\"186\" y=\"934\"/></g><g fill=\"#ff9896\"><use href=\"#wtg\" x=\"706\" y=\"967\"/><use href=\"#wtg\" x=\"792\" y=\"983\"/><use href=\"#wtg\" x=\"859\" y=\"971\"/><use href=\"#wtg\" x=\"849\" y=\"954\"/><use href=\"#wtg\" x=\"867\" y=\"930\"/><use href=\"#wtg\" x=\"907\" y=\"909\"/><use href=\"#wtg\" x=\"944\" y=\"943\"/><use href=\"#wtg\" x=\"961\" y=\"858\"/><use href=\"#wtg\" x=\"938\" y=\"826\"/><use href=\"#wtg\" x=\"939\" y=\"807\"/><use href=\"#wtg\" x=\"810\" y=\"910\"/><use href=\"#wtg\" x=\"554\" y=\"946\"/></g><g fill=\"#9467bd\"><use href=\"#wtg\" x=\"631\" y=\"584\"/><use href=\"#wtg\" x=\"658\" y=\"567\"/><use href=\"#wtg\" x=\"735\" y=\"536\"/><use href=\"#wtg\" x=\"832\" y=\"474\"/><use href=\"#wtg\" x=\"892\" y=\"506\"/><use href=\"#wtg\" x=\"929\" y=\"503\"/><use href=\"#wtg\" x=\"1011\" y=\"590\"/><use href=\"#wtg\" x=\"966\" y=\"755\"/><use href=\"#wtg\" x=\"884\" y=\"717\"/><use href=\"#wtg\" x=\"867\" y=\"685\"/><use href=\"#wtg\" x=\"850\" y=\"799\"/><use href=\"#wtg\" x=\"645\" y=\"840\"/></g></g><g id=\"OSSgrp\"><use href=\"#oss\" x=\"19.5\" y=\"1039.5\"/></g></g><text stroke=\"#000\" stroke-width=\"0.01em\" text-anchor=\"end\" font-family=\"sans-serif\" font-size=\"40\" fill=\"white\" x=\"1050\" y=\"1050\"><tspan x=\"1050\" dy=\"-0.0em\">&#931;&#955; = 12726.0 m</tspan><tspan x=\"1050\" dy=\"-1.3em\">(+0) &#945;: 9</tspan><tspan x=\"1050\" dy=\"-1.3em\">&#954; = 12, T = 100</tspan></text></svg>"
      ],
      "text/plain": [
       "<interarray.svg.SvgRepr at 0x1c8eeee9c40>"
      ]
     },
     "metadata": {},
     "output_type": "display_data"
    },
    {
     "data": {
      "image/svg+xml": [
       "<svg xmlns=\"http://www.w3.org/2000/svg\" viewBox=\"0 0 1920 1080\"><defs ><filter x=\"-5%\" y=\"-5%\" id=\"bg_textbox\" width=\"110%\" height=\"110%\"><feFlood flood-opacity=\"0.7\" flood-color=\"#111\" result=\"bg\"/><feMerge ><feMergeNode in=\"bg\"/><feMergeNode in=\"SourceGraphic\"/></feMerge></filter><circle stroke=\"none\" stroke-width=\"2\" id=\"wtg\" r=\"12\"/><rect stroke=\"none\" stroke-width=\"2\" id=\"oss\" width=\"21\" height=\"21\" fill=\"lawngreen\"/></defs><g id=\"L_from_site\"><path stroke=\"silver\" stroke-dasharray=\"15 7\" stroke-width=\"2\" id=\"border\" d=\"M30 1050 1050 1050 1050 30 30 30z\" fill-rule=\"evenodd\" fill=\"#111\"/><g stroke=\"crimson\" stroke-width=\"4\" id=\"edges_unspecified\"><line x1=\"207\" y1=\"431\" x2=\"196\" y2=\"338\"/><line x1=\"196\" y1=\"338\" x2=\"149\" y2=\"310\"/><line x1=\"149\" y1=\"310\" x2=\"80\" y2=\"181\"/><line x1=\"207\" y1=\"253\" x2=\"80\" y2=\"181\"/><line x1=\"248\" y1=\"185\" x2=\"207\" y2=\"253\"/><line x1=\"246\" y1=\"126\" x2=\"248\" y2=\"185\"/><line x1=\"246\" y1=\"126\" x2=\"313\" y2=\"54\"/><line x1=\"313\" y1=\"54\" x2=\"369\" y2=\"52\"/><line x1=\"517\" y1=\"71\" x2=\"369\" y2=\"52\"/><line x1=\"507\" y1=\"82\" x2=\"517\" y2=\"71\"/><line x1=\"507\" y1=\"82\" x2=\"506\" y2=\"173\"/><line x1=\"506\" y1=\"173\" x2=\"498\" y2=\"205\"/><line x1=\"339\" y1=\"321\" x2=\"498\" y2=\"205\"/><line x1=\"339\" y1=\"321\" x2=\"316\" y2=\"360\"/><line x1=\"30\" y1=\"1050\" x2=\"295\" y2=\"805\"/><line x1=\"30\" y1=\"1050\" x2=\"67\" y2=\"892\"/><line x1=\"335\" y1=\"1028\" x2=\"494\" y2=\"1005\"/><line x1=\"494\" y1=\"1005\" x2=\"665\" y2=\"1001\"/><line x1=\"801\" y1=\"997\" x2=\"665\" y2=\"1001\"/><line x1=\"823\" y1=\"963\" x2=\"801\" y2=\"997\"/><line x1=\"823\" y1=\"963\" x2=\"959\" y2=\"894\"/><line x1=\"959\" y1=\"894\" x2=\"1012\" y2=\"848\"/><line x1=\"1018\" y1=\"853\" x2=\"1012\" y2=\"848\"/><line x1=\"1018\" y1=\"853\" x2=\"999\" y2=\"952\"/><line x1=\"1018\" y1=\"1031\" x2=\"999\" y2=\"952\"/><line x1=\"1018\" y1=\"1031\" x2=\"1004\" y2=\"1020\"/><line x1=\"1004\" y1=\"1020\" x2=\"855\" y2=\"1039\"/><line x1=\"774\" y1=\"1040\" x2=\"855\" y2=\"1039\"/><line x1=\"774\" y1=\"1040\" x2=\"720\" y2=\"1037\"/><line x1=\"497\" y1=\"1043\" x2=\"720\" y2=\"1037\"/><line x1=\"77\" y1=\"816\" x2=\"67\" y2=\"892\"/><line x1=\"77\" y1=\"816\" x2=\"71\" y2=\"789\"/><line x1=\"116\" y1=\"787\" x2=\"71\" y2=\"789\"/><line x1=\"302\" y1=\"967\" x2=\"308\" y2=\"994\"/><line x1=\"308\" y1=\"994\" x2=\"295\" y2=\"996\"/><line x1=\"286\" y1=\"993\" x2=\"295\" y2=\"996\"/><line x1=\"208\" y1=\"1044\" x2=\"286\" y2=\"993\"/><line x1=\"208\" y1=\"1044\" x2=\"155\" y2=\"1013\"/><line x1=\"575\" y1=\"299\" x2=\"568\" y2=\"296\"/><line x1=\"575\" y1=\"299\" x2=\"615\" y2=\"310\"/><line x1=\"707\" y1=\"320\" x2=\"615\" y2=\"310\"/><line x1=\"730\" y1=\"188\" x2=\"707\" y2=\"320\"/><line x1=\"730\" y1=\"188\" x2=\"745\" y2=\"172\"/><line x1=\"639\" y1=\"109\" x2=\"745\" y2=\"172\"/><line x1=\"602\" y1=\"149\" x2=\"639\" y2=\"109\"/><line x1=\"602\" y1=\"149\" x2=\"591\" y2=\"183\"/><line x1=\"574\" y1=\"218\" x2=\"591\" y2=\"183\"/><line x1=\"574\" y1=\"218\" x2=\"543\" y2=\"291\"/><line x1=\"543\" y1=\"291\" x2=\"522\" y2=\"310\"/><line x1=\"934\" y1=\"327\" x2=\"856\" y2=\"363\"/><line x1=\"929\" y1=\"249\" x2=\"934\" y2=\"327\"/><line x1=\"929\" y1=\"249\" x2=\"899\" y2=\"204\"/><line x1=\"843\" y1=\"199\" x2=\"899\" y2=\"204\"/><line x1=\"843\" y1=\"199\" x2=\"990\" y2=\"69\"/><line x1=\"1014\" y1=\"88\" x2=\"990\" y2=\"69\"/><line x1=\"1014\" y1=\"88\" x2=\"983\" y2=\"200\"/><line x1=\"983\" y1=\"200\" x2=\"987\" y2=\"232\"/><line x1=\"1015\" y1=\"279\" x2=\"987\" y2=\"232\"/><line x1=\"1015\" y1=\"279\" x2=\"1006\" y2=\"362\"/><line x1=\"1016\" y1=\"488\" x2=\"1006\" y2=\"362\"/><line x1=\"1042\" y1=\"605\" x2=\"1016\" y2=\"488\"/><line x1=\"1042\" y1=\"605\" x2=\"953\" y2=\"723\"/><line x1=\"445\" y1=\"858\" x2=\"428\" y2=\"886\"/><line x1=\"445\" y1=\"858\" x2=\"560\" y2=\"845\"/><line x1=\"589\" y1=\"803\" x2=\"560\" y2=\"845\"/><line x1=\"589\" y1=\"803\" x2=\"684\" y2=\"721\"/><line x1=\"684\" y1=\"721\" x2=\"759\" y2=\"682\"/><line x1=\"793\" y1=\"747\" x2=\"759\" y2=\"682\"/><line x1=\"812\" y1=\"761\" x2=\"793\" y2=\"747\"/><line x1=\"812\" y1=\"761\" x2=\"890\" y2=\"770\"/><line x1=\"869\" y1=\"778\" x2=\"890\" y2=\"770\"/><line x1=\"869\" y1=\"778\" x2=\"804\" y2=\"866\"/><line x1=\"696\" y1=\"823\" x2=\"804\" y2=\"866\"/><line x1=\"696\" y1=\"823\" x2=\"664\" y2=\"865\"/><line x1=\"664\" y1=\"865\" x2=\"560\" y2=\"908\"/><line x1=\"416\" y1=\"939\" x2=\"560\" y2=\"908\"/><line x1=\"295\" y1=\"805\" x2=\"443\" y2=\"760\"/><line x1=\"731\" y1=\"616\" x2=\"906\" y2=\"609\"/><line x1=\"921\" y1=\"618\" x2=\"906\" y2=\"609\"/><line x1=\"921\" y1=\"618\" x2=\"908\" y2=\"456\"/><line x1=\"834\" y1=\"472\" x2=\"908\" y2=\"456\"/><line x1=\"834\" y1=\"472\" x2=\"822\" y2=\"469\"/><line x1=\"811\" y1=\"461\" x2=\"822\" y2=\"469\"/><line x1=\"693\" y1=\"508\" x2=\"811\" y2=\"461\"/><line x1=\"693\" y1=\"508\" x2=\"590\" y2=\"491\"/><line x1=\"590\" y1=\"491\" x2=\"426\" y2=\"546\"/><line x1=\"388\" y1=\"548\" x2=\"426\" y2=\"546\"/><line x1=\"388\" y1=\"548\" x2=\"385\" y2=\"553\"/><line x1=\"318\" y1=\"708\" x2=\"385\" y2=\"553\"/></g><g stroke=\"red\" stroke-dasharray=\"18 15\" stroke-width=\"4\" id=\"edges_tentative\"><line x1=\"30\" y1=\"1050\" x2=\"207\" y2=\"431\"/><line x1=\"30\" y1=\"1050\" x2=\"335\" y2=\"1028\"/><line x1=\"30\" y1=\"1050\" x2=\"275\" y2=\"707\"/><line x1=\"30\" y1=\"1050\" x2=\"428\" y2=\"886\"/><line x1=\"30\" y1=\"1050\" x2=\"641\" y2=\"574\"/></g><g stroke=\"yellow\" stroke-dasharray=\"25 5\" stroke-width=\"4\" id=\"edges_rogue\"><line x1=\"302\" y1=\"967\" x2=\"116\" y2=\"787\"/><line x1=\"416\" y1=\"485\" x2=\"275\" y2=\"707\"/><line x1=\"568\" y1=\"296\" x2=\"416\" y2=\"485\"/><line x1=\"522\" y1=\"310\" x2=\"292\" y2=\"581\"/><line x1=\"641\" y1=\"574\" x2=\"856\" y2=\"363\"/><line x1=\"731\" y1=\"616\" x2=\"443\" y2=\"760\"/></g><g id=\"WTGgrp\"><g fill=\"#1f77b4\"><use href=\"#wtg\" x=\"207\" y=\"431\"/><use href=\"#wtg\" x=\"196\" y=\"338\"/><use href=\"#wtg\" x=\"149\" y=\"310\"/><use href=\"#wtg\" x=\"80\" y=\"181\"/><use href=\"#wtg\" x=\"207\" y=\"253\"/><use href=\"#wtg\" x=\"248\" y=\"185\"/><use href=\"#wtg\" x=\"246\" y=\"126\"/><use href=\"#wtg\" x=\"313\" y=\"54\"/><use href=\"#wtg\" x=\"369\" y=\"52\"/><use href=\"#wtg\" x=\"517\" y=\"71\"/><use href=\"#wtg\" x=\"507\" y=\"82\"/><use href=\"#wtg\" x=\"506\" y=\"173\"/><use href=\"#wtg\" x=\"498\" y=\"205\"/><use href=\"#wtg\" x=\"339\" y=\"321\"/><use href=\"#wtg\" x=\"316\" y=\"360\"/></g><g fill=\"#aec7e8\"><use href=\"#wtg\" x=\"335\" y=\"1028\"/><use href=\"#wtg\" x=\"494\" y=\"1005\"/><use href=\"#wtg\" x=\"665\" y=\"1001\"/><use href=\"#wtg\" x=\"801\" y=\"997\"/><use href=\"#wtg\" x=\"823\" y=\"963\"/><use href=\"#wtg\" x=\"959\" y=\"894\"/><use href=\"#wtg\" x=\"1012\" y=\"848\"/><use href=\"#wtg\" x=\"1018\" y=\"853\"/><use href=\"#wtg\" x=\"999\" y=\"952\"/><use href=\"#wtg\" x=\"1018\" y=\"1031\"/><use href=\"#wtg\" x=\"1004\" y=\"1020\"/><use href=\"#wtg\" x=\"855\" y=\"1039\"/><use href=\"#wtg\" x=\"774\" y=\"1040\"/><use href=\"#wtg\" x=\"720\" y=\"1037\"/><use href=\"#wtg\" x=\"497\" y=\"1043\"/></g><g fill=\"#ff7f0e\"><use href=\"#wtg\" x=\"67\" y=\"892\"/><use href=\"#wtg\" x=\"77\" y=\"816\"/><use href=\"#wtg\" x=\"71\" y=\"789\"/><use href=\"#wtg\" x=\"116\" y=\"787\"/><use href=\"#wtg\" x=\"302\" y=\"967\"/><use href=\"#wtg\" x=\"308\" y=\"994\"/><use href=\"#wtg\" x=\"295\" y=\"996\"/><use href=\"#wtg\" x=\"286\" y=\"993\"/><use href=\"#wtg\" x=\"208\" y=\"1044\"/><use href=\"#wtg\" x=\"155\" y=\"1013\"/></g><g fill=\"#ffbb78\"><use href=\"#wtg\" x=\"275\" y=\"707\"/><use href=\"#wtg\" x=\"416\" y=\"485\"/><use href=\"#wtg\" x=\"568\" y=\"296\"/><use href=\"#wtg\" x=\"575\" y=\"299\"/><use href=\"#wtg\" x=\"615\" y=\"310\"/><use href=\"#wtg\" x=\"707\" y=\"320\"/><use href=\"#wtg\" x=\"730\" y=\"188\"/><use href=\"#wtg\" x=\"745\" y=\"172\"/><use href=\"#wtg\" x=\"639\" y=\"109\"/><use href=\"#wtg\" x=\"602\" y=\"149\"/><use href=\"#wtg\" x=\"591\" y=\"183\"/><use href=\"#wtg\" x=\"574\" y=\"218\"/><use href=\"#wtg\" x=\"543\" y=\"291\"/><use href=\"#wtg\" x=\"522\" y=\"310\"/><use href=\"#wtg\" x=\"292\" y=\"581\"/></g><g fill=\"#2ca02c\"><use href=\"#wtg\" x=\"641\" y=\"574\"/><use href=\"#wtg\" x=\"856\" y=\"363\"/><use href=\"#wtg\" x=\"934\" y=\"327\"/><use href=\"#wtg\" x=\"929\" y=\"249\"/><use href=\"#wtg\" x=\"899\" y=\"204\"/><use href=\"#wtg\" x=\"843\" y=\"199\"/><use href=\"#wtg\" x=\"990\" y=\"69\"/><use href=\"#wtg\" x=\"1014\" y=\"88\"/><use href=\"#wtg\" x=\"983\" y=\"200\"/><use href=\"#wtg\" x=\"987\" y=\"232\"/><use href=\"#wtg\" x=\"1015\" y=\"279\"/><use href=\"#wtg\" x=\"1006\" y=\"362\"/><use href=\"#wtg\" x=\"1016\" y=\"488\"/><use href=\"#wtg\" x=\"1042\" y=\"605\"/><use href=\"#wtg\" x=\"953\" y=\"723\"/></g><g fill=\"#98df8a\"><use href=\"#wtg\" x=\"428\" y=\"886\"/><use href=\"#wtg\" x=\"445\" y=\"858\"/><use href=\"#wtg\" x=\"560\" y=\"845\"/><use href=\"#wtg\" x=\"589\" y=\"803\"/><use href=\"#wtg\" x=\"684\" y=\"721\"/><use href=\"#wtg\" x=\"759\" y=\"682\"/><use href=\"#wtg\" x=\"793\" y=\"747\"/><use href=\"#wtg\" x=\"812\" y=\"761\"/><use href=\"#wtg\" x=\"890\" y=\"770\"/><use href=\"#wtg\" x=\"869\" y=\"778\"/><use href=\"#wtg\" x=\"804\" y=\"866\"/><use href=\"#wtg\" x=\"696\" y=\"823\"/><use href=\"#wtg\" x=\"664\" y=\"865\"/><use href=\"#wtg\" x=\"560\" y=\"908\"/><use href=\"#wtg\" x=\"416\" y=\"939\"/></g><g fill=\"#d62728\"><use href=\"#wtg\" x=\"295\" y=\"805\"/><use href=\"#wtg\" x=\"443\" y=\"760\"/><use href=\"#wtg\" x=\"731\" y=\"616\"/><use href=\"#wtg\" x=\"906\" y=\"609\"/><use href=\"#wtg\" x=\"921\" y=\"618\"/><use href=\"#wtg\" x=\"908\" y=\"456\"/><use href=\"#wtg\" x=\"834\" y=\"472\"/><use href=\"#wtg\" x=\"822\" y=\"469\"/><use href=\"#wtg\" x=\"811\" y=\"461\"/><use href=\"#wtg\" x=\"693\" y=\"508\"/><use href=\"#wtg\" x=\"590\" y=\"491\"/><use href=\"#wtg\" x=\"426\" y=\"546\"/><use href=\"#wtg\" x=\"388\" y=\"548\"/><use href=\"#wtg\" x=\"385\" y=\"553\"/><use href=\"#wtg\" x=\"318\" y=\"708\"/></g></g><g id=\"OSSgrp\"><use href=\"#oss\" x=\"19.5\" y=\"1039.5\"/></g></g><text stroke=\"#000\" stroke-width=\"0.01em\" text-anchor=\"end\" font-family=\"sans-serif\" font-size=\"40\" fill=\"white\" x=\"1050\" y=\"1050\"><tspan x=\"1050\" dy=\"-0.0em\">&#931;&#955; = 11886.0 m</tspan><tspan x=\"1050\" dy=\"-1.3em\">(+0) &#945;: 7</tspan><tspan x=\"1050\" dy=\"-1.3em\">&#954; = 15, T = 100</tspan></text></svg>"
      ],
      "text/plain": [
       "<interarray.svg.SvgRepr at 0x1c8ec182420>"
      ]
     },
     "metadata": {},
     "output_type": "display_data"
    },
    {
     "data": {
      "image/svg+xml": [
       "<svg xmlns=\"http://www.w3.org/2000/svg\" viewBox=\"0 0 1920 1080\"><defs ><filter x=\"-5%\" y=\"-5%\" id=\"bg_textbox\" width=\"110%\" height=\"110%\"><feFlood flood-opacity=\"0.7\" flood-color=\"#111\" result=\"bg\"/><feMerge ><feMergeNode in=\"bg\"/><feMergeNode in=\"SourceGraphic\"/></feMerge></filter><circle stroke=\"none\" stroke-width=\"2\" id=\"wtg\" r=\"12\"/><rect stroke=\"none\" stroke-width=\"2\" id=\"oss\" width=\"21\" height=\"21\" fill=\"lawngreen\"/></defs><g id=\"L_from_site\"><path stroke=\"silver\" stroke-dasharray=\"15 7\" stroke-width=\"2\" id=\"border\" d=\"M30 1050 1050 1050 1050 30 30 30z\" fill-rule=\"evenodd\" fill=\"#111\"/><g stroke=\"crimson\" stroke-width=\"4\" id=\"edges_unspecified\"><line x1=\"525\" y1=\"450\" x2=\"489\" y2=\"559\"/><line x1=\"651\" y1=\"373\" x2=\"525\" y2=\"450\"/><line x1=\"651\" y1=\"373\" x2=\"696\" y2=\"382\"/><line x1=\"895\" y1=\"329\" x2=\"696\" y2=\"382\"/><line x1=\"895\" y1=\"329\" x2=\"949\" y2=\"267\"/><line x1=\"936\" y1=\"141\" x2=\"949\" y2=\"267\"/><line x1=\"936\" y1=\"141\" x2=\"1020\" y2=\"118\"/><line x1=\"1020\" y1=\"118\" x2=\"991\" y2=\"174\"/><line x1=\"1038\" y1=\"286\" x2=\"991\" y2=\"174\"/><line x1=\"1038\" y1=\"286\" x2=\"968\" y2=\"391\"/><line x1=\"968\" y1=\"391\" x2=\"988\" y2=\"471\"/><line x1=\"828\" y1=\"519\" x2=\"988\" y2=\"471\"/><line x1=\"828\" y1=\"519\" x2=\"810\" y2=\"544\"/><line x1=\"810\" y1=\"544\" x2=\"733\" y2=\"657\"/><line x1=\"675\" y1=\"633\" x2=\"733\" y2=\"657\"/><line x1=\"675\" y1=\"633\" x2=\"621\" y2=\"733\"/><line x1=\"30\" y1=\"1050\" x2=\"34\" y2=\"1002\"/><line x1=\"30\" y1=\"1050\" x2=\"178\" y2=\"1026\"/><line x1=\"362\" y1=\"393\" x2=\"201\" y2=\"511\"/><line x1=\"362\" y1=\"393\" x2=\"379\" y2=\"389\"/><line x1=\"381\" y1=\"368\" x2=\"379\" y2=\"389\"/><line x1=\"458\" y1=\"278\" x2=\"381\" y2=\"368\"/><line x1=\"458\" y1=\"278\" x2=\"427\" y2=\"225\"/><line x1=\"369\" y1=\"136\" x2=\"427\" y2=\"225\"/><line x1=\"369\" y1=\"136\" x2=\"366\" y2=\"121\"/><line x1=\"265\" y1=\"204\" x2=\"366\" y2=\"121\"/><line x1=\"265\" y1=\"204\" x2=\"269\" y2=\"243\"/><line x1=\"269\" y1=\"243\" x2=\"204\" y2=\"253\"/><line x1=\"204\" y1=\"253\" x2=\"163\" y2=\"366\"/><line x1=\"137\" y1=\"384\" x2=\"163\" y2=\"366\"/><line x1=\"137\" y1=\"384\" x2=\"99\" y2=\"487\"/><line x1=\"108\" y1=\"603\" x2=\"99\" y2=\"487\"/><line x1=\"108\" y1=\"603\" x2=\"76\" y2=\"635\"/><line x1=\"599\" y1=\"1023\" x2=\"789\" y2=\"996\"/><line x1=\"789\" y1=\"996\" x2=\"987\" y2=\"1000\"/><line x1=\"1026\" y1=\"887\" x2=\"987\" y2=\"1000\"/><line x1=\"1026\" y1=\"887\" x2=\"1008\" y2=\"882\"/><line x1=\"1036\" y1=\"818\" x2=\"1008\" y2=\"882\"/><line x1=\"1019\" y1=\"801\" x2=\"1036\" y2=\"818\"/><line x1=\"1019\" y1=\"801\" x2=\"995\" y2=\"837\"/><line x1=\"995\" y1=\"837\" x2=\"932\" y2=\"822\"/><line x1=\"935\" y1=\"692\" x2=\"932\" y2=\"822\"/><line x1=\"906\" y1=\"619\" x2=\"935\" y2=\"692\"/><line x1=\"906\" y1=\"619\" x2=\"829\" y2=\"632\"/><line x1=\"829\" y1=\"632\" x2=\"823\" y2=\"795\"/><line x1=\"823\" y1=\"795\" x2=\"807\" y2=\"784\"/><line x1=\"723\" y1=\"764\" x2=\"807\" y2=\"784\"/><line x1=\"684\" y1=\"759\" x2=\"723\" y2=\"764\"/><line x1=\"178\" y1=\"1026\" x2=\"376\" y2=\"960\"/><line x1=\"426\" y1=\"957\" x2=\"376\" y2=\"960\"/><line x1=\"702\" y1=\"825\" x2=\"628\" y2=\"820\"/><line x1=\"702\" y1=\"825\" x2=\"710\" y2=\"887\"/><line x1=\"703\" y1=\"954\" x2=\"710\" y2=\"887\"/><line x1=\"703\" y1=\"954\" x2=\"708\" y2=\"978\"/><line x1=\"626\" y1=\"931\" x2=\"708\" y2=\"978\"/><line x1=\"626\" y1=\"931\" x2=\"511\" y2=\"986\"/><line x1=\"495\" y1=\"981\" x2=\"511\" y2=\"986\"/><line x1=\"495\" y1=\"981\" x2=\"470\" y2=\"1017\"/><line x1=\"423\" y1=\"999\" x2=\"470\" y2=\"1017\"/><line x1=\"423\" y1=\"999\" x2=\"400\" y2=\"1010\"/><line x1=\"366\" y1=\"1037\" x2=\"400\" y2=\"1010\"/><line x1=\"366\" y1=\"1037\" x2=\"239\" y2=\"1039\"/><line x1=\"239\" y1=\"1039\" x2=\"220\" y2=\"1046\"/><line x1=\"34\" y1=\"1002\" x2=\"35\" y2=\"994\"/><line x1=\"183\" y1=\"645\" x2=\"148\" y2=\"696\"/><line x1=\"183\" y1=\"645\" x2=\"225\" y2=\"619\"/><line x1=\"316\" y1=\"601\" x2=\"225\" y2=\"619\"/><line x1=\"365\" y1=\"637\" x2=\"316\" y2=\"601\"/><line x1=\"365\" y1=\"637\" x2=\"385\" y2=\"677\"/><line x1=\"465\" y1=\"693\" x2=\"385\" y2=\"677\"/><line x1=\"465\" y1=\"693\" x2=\"459\" y2=\"725\"/><line x1=\"459\" y1=\"725\" x2=\"391\" y2=\"749\"/><line x1=\"277\" y1=\"754\" x2=\"391\" y2=\"749\"/><line x1=\"277\" y1=\"754\" x2=\"98\" y2=\"960\"/><line x1=\"98\" y1=\"960\" x2=\"77\" y2=\"1023\"/><line x1=\"44\" y1=\"1042\" x2=\"77\" y2=\"1023\"/><line x1=\"307\" y1=\"529\" x2=\"315\" y2=\"684\"/><line x1=\"307\" y1=\"529\" x2=\"411\" y2=\"448\"/><line x1=\"567\" y1=\"285\" x2=\"603\" y2=\"195\"/><line x1=\"802\" y1=\"117\" x2=\"603\" y2=\"195\"/><line x1=\"742\" y1=\"58\" x2=\"802\" y2=\"117\"/><line x1=\"649\" y1=\"40\" x2=\"742\" y2=\"58\"/><line x1=\"649\" y1=\"40\" x2=\"535\" y2=\"40\"/><line x1=\"474\" y1=\"60\" x2=\"535\" y2=\"40\"/><line x1=\"398\" y1=\"53\" x2=\"474\" y2=\"60\"/><line x1=\"398\" y1=\"53\" x2=\"314\" y2=\"68\"/><line x1=\"314\" y1=\"68\" x2=\"304\" y2=\"53\"/><line x1=\"229\" y1=\"158\" x2=\"304\" y2=\"53\"/><line x1=\"229\" y1=\"158\" x2=\"113\" y2=\"188\"/><line x1=\"113\" y1=\"188\" x2=\"49\" y2=\"342\"/><line x1=\"47\" y1=\"502\" x2=\"49\" y2=\"342\"/></g><g stroke=\"red\" stroke-dasharray=\"18 15\" stroke-width=\"4\" id=\"edges_tentative\"><line x1=\"30\" y1=\"1050\" x2=\"489\" y2=\"559\"/><line x1=\"30\" y1=\"1050\" x2=\"599\" y2=\"1023\"/><line x1=\"30\" y1=\"1050\" x2=\"94\" y2=\"733\"/><line x1=\"30\" y1=\"1050\" x2=\"315\" y2=\"684\"/></g><g stroke=\"yellow\" stroke-dasharray=\"25 5\" stroke-width=\"4\" id=\"edges_rogue\"><line x1=\"94\" y1=\"733\" x2=\"201\" y2=\"511\"/><line x1=\"684\" y1=\"759\" x2=\"447\" y2=\"876\"/><line x1=\"426\" y1=\"957\" x2=\"628\" y2=\"820\"/><line x1=\"148\" y1=\"696\" x2=\"35\" y2=\"994\"/><line x1=\"567\" y1=\"285\" x2=\"411\" y2=\"448\"/></g><g id=\"WTGgrp\"><g fill=\"#1f77b4\"><use href=\"#wtg\" x=\"489\" y=\"559\"/><use href=\"#wtg\" x=\"525\" y=\"450\"/><use href=\"#wtg\" x=\"651\" y=\"373\"/><use href=\"#wtg\" x=\"696\" y=\"382\"/><use href=\"#wtg\" x=\"895\" y=\"329\"/><use href=\"#wtg\" x=\"949\" y=\"267\"/><use href=\"#wtg\" x=\"936\" y=\"141\"/><use href=\"#wtg\" x=\"1020\" y=\"118\"/><use href=\"#wtg\" x=\"991\" y=\"174\"/><use href=\"#wtg\" x=\"1038\" y=\"286\"/><use href=\"#wtg\" x=\"968\" y=\"391\"/><use href=\"#wtg\" x=\"988\" y=\"471\"/><use href=\"#wtg\" x=\"828\" y=\"519\"/><use href=\"#wtg\" x=\"810\" y=\"544\"/><use href=\"#wtg\" x=\"733\" y=\"657\"/><use href=\"#wtg\" x=\"675\" y=\"633\"/><use href=\"#wtg\" x=\"621\" y=\"733\"/></g><g fill=\"#aec7e8\"><use href=\"#wtg\" x=\"94\" y=\"733\"/><use href=\"#wtg\" x=\"201\" y=\"511\"/><use href=\"#wtg\" x=\"362\" y=\"393\"/><use href=\"#wtg\" x=\"379\" y=\"389\"/><use href=\"#wtg\" x=\"381\" y=\"368\"/><use href=\"#wtg\" x=\"458\" y=\"278\"/><use href=\"#wtg\" x=\"427\" y=\"225\"/><use href=\"#wtg\" x=\"369\" y=\"136\"/><use href=\"#wtg\" x=\"366\" y=\"121\"/><use href=\"#wtg\" x=\"265\" y=\"204\"/><use href=\"#wtg\" x=\"269\" y=\"243\"/><use href=\"#wtg\" x=\"204\" y=\"253\"/><use href=\"#wtg\" x=\"163\" y=\"366\"/><use href=\"#wtg\" x=\"137\" y=\"384\"/><use href=\"#wtg\" x=\"99\" y=\"487\"/><use href=\"#wtg\" x=\"108\" y=\"603\"/><use href=\"#wtg\" x=\"76\" y=\"635\"/></g><g fill=\"#ff7f0e\"><use href=\"#wtg\" x=\"599\" y=\"1023\"/><use href=\"#wtg\" x=\"789\" y=\"996\"/><use href=\"#wtg\" x=\"987\" y=\"1000\"/><use href=\"#wtg\" x=\"1026\" y=\"887\"/><use href=\"#wtg\" x=\"1008\" y=\"882\"/><use href=\"#wtg\" x=\"1036\" y=\"818\"/><use href=\"#wtg\" x=\"1019\" y=\"801\"/><use href=\"#wtg\" x=\"995\" y=\"837\"/><use href=\"#wtg\" x=\"932\" y=\"822\"/><use href=\"#wtg\" x=\"935\" y=\"692\"/><use href=\"#wtg\" x=\"906\" y=\"619\"/><use href=\"#wtg\" x=\"829\" y=\"632\"/><use href=\"#wtg\" x=\"823\" y=\"795\"/><use href=\"#wtg\" x=\"807\" y=\"784\"/><use href=\"#wtg\" x=\"723\" y=\"764\"/><use href=\"#wtg\" x=\"684\" y=\"759\"/><use href=\"#wtg\" x=\"447\" y=\"876\"/></g><g fill=\"#ffbb78\"><use href=\"#wtg\" x=\"178\" y=\"1026\"/><use href=\"#wtg\" x=\"376\" y=\"960\"/><use href=\"#wtg\" x=\"426\" y=\"957\"/><use href=\"#wtg\" x=\"628\" y=\"820\"/><use href=\"#wtg\" x=\"702\" y=\"825\"/><use href=\"#wtg\" x=\"710\" y=\"887\"/><use href=\"#wtg\" x=\"703\" y=\"954\"/><use href=\"#wtg\" x=\"708\" y=\"978\"/><use href=\"#wtg\" x=\"626\" y=\"931\"/><use href=\"#wtg\" x=\"511\" y=\"986\"/><use href=\"#wtg\" x=\"495\" y=\"981\"/><use href=\"#wtg\" x=\"470\" y=\"1017\"/><use href=\"#wtg\" x=\"423\" y=\"999\"/><use href=\"#wtg\" x=\"400\" y=\"1010\"/><use href=\"#wtg\" x=\"366\" y=\"1037\"/><use href=\"#wtg\" x=\"239\" y=\"1039\"/><use href=\"#wtg\" x=\"220\" y=\"1046\"/></g><g fill=\"#2ca02c\"><use href=\"#wtg\" x=\"34\" y=\"1002\"/><use href=\"#wtg\" x=\"35\" y=\"994\"/><use href=\"#wtg\" x=\"148\" y=\"696\"/><use href=\"#wtg\" x=\"183\" y=\"645\"/><use href=\"#wtg\" x=\"225\" y=\"619\"/><use href=\"#wtg\" x=\"316\" y=\"601\"/><use href=\"#wtg\" x=\"365\" y=\"637\"/><use href=\"#wtg\" x=\"385\" y=\"677\"/><use href=\"#wtg\" x=\"465\" y=\"693\"/><use href=\"#wtg\" x=\"459\" y=\"725\"/><use href=\"#wtg\" x=\"391\" y=\"749\"/><use href=\"#wtg\" x=\"277\" y=\"754\"/><use href=\"#wtg\" x=\"98\" y=\"960\"/><use href=\"#wtg\" x=\"77\" y=\"1023\"/><use href=\"#wtg\" x=\"44\" y=\"1042\"/></g><g fill=\"#98df8a\"><use href=\"#wtg\" x=\"315\" y=\"684\"/><use href=\"#wtg\" x=\"307\" y=\"529\"/><use href=\"#wtg\" x=\"411\" y=\"448\"/><use href=\"#wtg\" x=\"567\" y=\"285\"/><use href=\"#wtg\" x=\"603\" y=\"195\"/><use href=\"#wtg\" x=\"802\" y=\"117\"/><use href=\"#wtg\" x=\"742\" y=\"58\"/><use href=\"#wtg\" x=\"649\" y=\"40\"/><use href=\"#wtg\" x=\"535\" y=\"40\"/><use href=\"#wtg\" x=\"474\" y=\"60\"/><use href=\"#wtg\" x=\"398\" y=\"53\"/><use href=\"#wtg\" x=\"314\" y=\"68\"/><use href=\"#wtg\" x=\"304\" y=\"53\"/><use href=\"#wtg\" x=\"229\" y=\"158\"/><use href=\"#wtg\" x=\"113\" y=\"188\"/><use href=\"#wtg\" x=\"49\" y=\"342\"/><use href=\"#wtg\" x=\"47\" y=\"502\"/></g></g><g id=\"OSSgrp\"><use href=\"#oss\" x=\"19.5\" y=\"1039.5\"/></g></g><text stroke=\"#000\" stroke-width=\"0.01em\" text-anchor=\"end\" font-family=\"sans-serif\" font-size=\"40\" fill=\"white\" x=\"1050\" y=\"1050\"><tspan x=\"1050\" dy=\"-0.0em\">&#931;&#955; = 11277.0 m</tspan><tspan x=\"1050\" dy=\"-1.3em\">(+0) &#945;: 6</tspan><tspan x=\"1050\" dy=\"-1.3em\">&#954; = 17, T = 100</tspan></text></svg>"
      ],
      "text/plain": [
       "<interarray.svg.SvgRepr at 0x1c8eb49fdd0>"
      ]
     },
     "metadata": {},
     "output_type": "display_data"
    },
    {
     "data": {
      "image/svg+xml": [
       "<svg xmlns=\"http://www.w3.org/2000/svg\" viewBox=\"0 0 1920 1080\"><defs ><filter x=\"-5%\" y=\"-5%\" id=\"bg_textbox\" width=\"110%\" height=\"110%\"><feFlood flood-opacity=\"0.7\" flood-color=\"#111\" result=\"bg\"/><feMerge ><feMergeNode in=\"bg\"/><feMergeNode in=\"SourceGraphic\"/></feMerge></filter><circle stroke=\"none\" stroke-width=\"2\" id=\"wtg\" r=\"12\"/><rect stroke=\"none\" stroke-width=\"2\" id=\"oss\" width=\"21\" height=\"21\" fill=\"lawngreen\"/></defs><g id=\"L_from_site\"><path stroke=\"silver\" stroke-dasharray=\"15 7\" stroke-width=\"2\" id=\"border\" d=\"M30 1050 1050 1050 1050 30 30 30z\" fill-rule=\"evenodd\" fill=\"#111\"/><g stroke=\"crimson\" stroke-width=\"4\" id=\"edges_unspecified\"><line x1=\"30\" y1=\"1050\" x2=\"680\" y2=\"1044\"/><line x1=\"779\" y1=\"972\" x2=\"680\" y2=\"1044\"/><line x1=\"779\" y1=\"972\" x2=\"835\" y2=\"1019\"/><line x1=\"843\" y1=\"989\" x2=\"835\" y2=\"1019\"/><line x1=\"843\" y1=\"989\" x2=\"964\" y2=\"981\"/><line x1=\"964\" y1=\"981\" x2=\"969\" y2=\"954\"/><line x1=\"977\" y1=\"939\" x2=\"969\" y2=\"954\"/><line x1=\"977\" y1=\"939\" x2=\"1031\" y2=\"882\"/><line x1=\"1001\" y1=\"813\" x2=\"1031\" y2=\"882\"/><line x1=\"987\" y1=\"783\" x2=\"1001\" y2=\"813\"/><line x1=\"987\" y1=\"783\" x2=\"984\" y2=\"809\"/><line x1=\"968\" y1=\"863\" x2=\"984\" y2=\"809\"/><line x1=\"968\" y1=\"863\" x2=\"921\" y2=\"839\"/><line x1=\"921\" y1=\"839\" x2=\"843\" y2=\"858\"/><line x1=\"843\" y1=\"858\" x2=\"795\" y2=\"882\"/><line x1=\"709\" y1=\"881\" x2=\"795\" y2=\"882\"/><line x1=\"30\" y1=\"1050\" x2=\"155\" y2=\"1017\"/><line x1=\"262\" y1=\"976\" x2=\"155\" y2=\"1017\"/><line x1=\"191\" y1=\"848\" x2=\"262\" y2=\"976\"/><line x1=\"91\" y1=\"920\" x2=\"191\" y2=\"848\"/><line x1=\"151\" y1=\"729\" x2=\"223\" y2=\"702\"/><line x1=\"223\" y1=\"702\" x2=\"269\" y2=\"677\"/><line x1=\"274\" y1=\"651\" x2=\"269\" y2=\"677\"/><line x1=\"274\" y1=\"651\" x2=\"262\" y2=\"556\"/><line x1=\"262\" y1=\"556\" x2=\"267\" y2=\"510\"/><line x1=\"154\" y1=\"298\" x2=\"267\" y2=\"510\"/><line x1=\"154\" y1=\"298\" x2=\"164\" y2=\"284\"/><line x1=\"164\" y1=\"284\" x2=\"143\" y2=\"232\"/><line x1=\"91\" y1=\"88\" x2=\"143\" y2=\"232\"/><line x1=\"48\" y1=\"232\" x2=\"91\" y2=\"88\"/><line x1=\"48\" y1=\"232\" x2=\"63\" y2=\"285\"/><line x1=\"63\" y1=\"285\" x2=\"77\" y2=\"406\"/><line x1=\"77\" y1=\"406\" x2=\"73\" y2=\"415\"/><line x1=\"73\" y1=\"415\" x2=\"51\" y2=\"542\"/><line x1=\"41\" y1=\"792\" x2=\"51\" y2=\"542\"/><line x1=\"650\" y1=\"779\" x2=\"514\" y2=\"853\"/><line x1=\"650\" y1=\"779\" x2=\"778\" y2=\"774\"/><line x1=\"778\" y1=\"774\" x2=\"874\" y2=\"787\"/><line x1=\"874\" y1=\"787\" x2=\"978\" y2=\"647\"/><line x1=\"978\" y1=\"647\" x2=\"1014\" y2=\"664\"/><line x1=\"1038\" y1=\"613\" x2=\"1014\" y2=\"664\"/><line x1=\"1038\" y1=\"613\" x2=\"1038\" y2=\"578\"/><line x1=\"1013\" y1=\"561\" x2=\"1038\" y2=\"578\"/><line x1=\"1013\" y1=\"561\" x2=\"1013\" y2=\"540\"/><line x1=\"971\" y1=\"581\" x2=\"1013\" y2=\"540\"/><line x1=\"971\" y1=\"581\" x2=\"947\" y2=\"572\"/><line x1=\"947\" y1=\"572\" x2=\"918\" y2=\"648\"/><line x1=\"918\" y1=\"648\" x2=\"837\" y2=\"666\"/><line x1=\"826\" y1=\"648\" x2=\"837\" y2=\"666\"/><line x1=\"300\" y1=\"306\" x2=\"345\" y2=\"217\"/><line x1=\"303\" y1=\"204\" x2=\"345\" y2=\"217\"/><line x1=\"303\" y1=\"204\" x2=\"340\" y2=\"120\"/><line x1=\"340\" y1=\"120\" x2=\"340\" y2=\"62\"/><line x1=\"340\" y1=\"62\" x2=\"431\" y2=\"31\"/><line x1=\"474\" y1=\"38\" x2=\"431\" y2=\"31\"/><line x1=\"439\" y1=\"182\" x2=\"474\" y2=\"38\"/><line x1=\"439\" y1=\"182\" x2=\"430\" y2=\"204\"/><line x1=\"430\" y1=\"204\" x2=\"491\" y2=\"291\"/><line x1=\"441\" y1=\"400\" x2=\"491\" y2=\"291\"/><line x1=\"415\" y1=\"431\" x2=\"441\" y2=\"400\"/><line x1=\"389\" y1=\"437\" x2=\"415\" y2=\"431\"/><line x1=\"380\" y1=\"452\" x2=\"389\" y2=\"437\"/><line x1=\"380\" y1=\"452\" x2=\"327\" y2=\"511\"/><line x1=\"503\" y1=\"728\" x2=\"655\" y2=\"530\"/><line x1=\"676\" y1=\"524\" x2=\"655\" y2=\"530\"/><line x1=\"676\" y1=\"524\" x2=\"671\" y2=\"420\"/><line x1=\"737\" y1=\"384\" x2=\"671\" y2=\"420\"/><line x1=\"841\" y1=\"334\" x2=\"737\" y2=\"384\"/><line x1=\"841\" y1=\"334\" x2=\"750\" y2=\"164\"/><line x1=\"750\" y1=\"164\" x2=\"985\" y2=\"43\"/><line x1=\"999\" y1=\"215\" x2=\"985\" y2=\"43\"/><line x1=\"904\" y1=\"335\" x2=\"999\" y2=\"215\"/><line x1=\"922\" y1=\"370\" x2=\"904\" y2=\"335\"/><line x1=\"922\" y1=\"370\" x2=\"905\" y2=\"444\"/><line x1=\"905\" y1=\"444\" x2=\"824\" y2=\"521\"/><line x1=\"712\" y1=\"664\" x2=\"824\" y2=\"521\"/><line x1=\"712\" y1=\"664\" x2=\"609\" y2=\"744\"/><line x1=\"357\" y1=\"854\" x2=\"392\" y2=\"800\"/><line x1=\"392\" y1=\"800\" x2=\"488\" y2=\"679\"/><line x1=\"546\" y1=\"520\" x2=\"488\" y2=\"679\"/><line x1=\"599\" y1=\"444\" x2=\"546\" y2=\"520\"/><line x1=\"599\" y1=\"444\" x2=\"620\" y2=\"368\"/><line x1=\"592\" y1=\"317\" x2=\"620\" y2=\"368\"/><line x1=\"592\" y1=\"317\" x2=\"636\" y2=\"213\"/><line x1=\"636\" y1=\"213\" x2=\"571\" y2=\"170\"/><line x1=\"571\" y1=\"170\" x2=\"562\" y2=\"185\"/><line x1=\"562\" y1=\"185\" x2=\"583\" y2=\"220\"/><line x1=\"583\" y1=\"220\" x2=\"535\" y2=\"368\"/><line x1=\"535\" y1=\"368\" x2=\"502\" y2=\"382\"/><line x1=\"370\" y1=\"607\" x2=\"430\" y2=\"536\"/><line x1=\"370\" y1=\"607\" x2=\"360\" y2=\"688\"/></g><g stroke=\"red\" stroke-dasharray=\"18 15\" stroke-width=\"4\" id=\"edges_tentative\"><line x1=\"30\" y1=\"1050\" x2=\"151\" y2=\"729\"/><line x1=\"30\" y1=\"1050\" x2=\"503\" y2=\"728\"/><line x1=\"30\" y1=\"1050\" x2=\"514\" y2=\"853\"/><line x1=\"30\" y1=\"1050\" x2=\"357\" y2=\"854\"/><line x1=\"30\" y1=\"1050\" x2=\"110\" y2=\"673\"/></g><g stroke=\"yellow\" stroke-dasharray=\"25 5\" stroke-width=\"4\" id=\"edges_rogue\"><line x1=\"826\" y1=\"648\" x2=\"639\" y2=\"771\"/><line x1=\"300\" y1=\"306\" x2=\"110\" y2=\"673\"/><line x1=\"609\" y1=\"744\" x2=\"400\" y2=\"860\"/><line x1=\"430\" y1=\"536\" x2=\"502\" y2=\"382\"/></g><g id=\"WTGgrp\"><g fill=\"#1f77b4\"><use href=\"#wtg\" x=\"680\" y=\"1044\"/><use href=\"#wtg\" x=\"779\" y=\"972\"/><use href=\"#wtg\" x=\"835\" y=\"1019\"/><use href=\"#wtg\" x=\"843\" y=\"989\"/><use href=\"#wtg\" x=\"964\" y=\"981\"/><use href=\"#wtg\" x=\"969\" y=\"954\"/><use href=\"#wtg\" x=\"977\" y=\"939\"/><use href=\"#wtg\" x=\"1031\" y=\"882\"/><use href=\"#wtg\" x=\"1001\" y=\"813\"/><use href=\"#wtg\" x=\"987\" y=\"783\"/><use href=\"#wtg\" x=\"984\" y=\"809\"/><use href=\"#wtg\" x=\"968\" y=\"863\"/><use href=\"#wtg\" x=\"921\" y=\"839\"/><use href=\"#wtg\" x=\"843\" y=\"858\"/><use href=\"#wtg\" x=\"795\" y=\"882\"/><use href=\"#wtg\" x=\"709\" y=\"881\"/></g><g fill=\"#aec7e8\"><use href=\"#wtg\" x=\"155\" y=\"1017\"/><use href=\"#wtg\" x=\"262\" y=\"976\"/><use href=\"#wtg\" x=\"191\" y=\"848\"/><use href=\"#wtg\" x=\"91\" y=\"920\"/></g><g fill=\"#ff7f0e\"><use href=\"#wtg\" x=\"151\" y=\"729\"/><use href=\"#wtg\" x=\"223\" y=\"702\"/><use href=\"#wtg\" x=\"269\" y=\"677\"/><use href=\"#wtg\" x=\"274\" y=\"651\"/><use href=\"#wtg\" x=\"262\" y=\"556\"/><use href=\"#wtg\" x=\"267\" y=\"510\"/><use href=\"#wtg\" x=\"154\" y=\"298\"/><use href=\"#wtg\" x=\"164\" y=\"284\"/><use href=\"#wtg\" x=\"143\" y=\"232\"/><use href=\"#wtg\" x=\"91\" y=\"88\"/><use href=\"#wtg\" x=\"48\" y=\"232\"/><use href=\"#wtg\" x=\"63\" y=\"285\"/><use href=\"#wtg\" x=\"77\" y=\"406\"/><use href=\"#wtg\" x=\"73\" y=\"415\"/><use href=\"#wtg\" x=\"51\" y=\"542\"/><use href=\"#wtg\" x=\"41\" y=\"792\"/></g><g fill=\"#ffbb78\"><use href=\"#wtg\" x=\"514\" y=\"853\"/><use href=\"#wtg\" x=\"650\" y=\"779\"/><use href=\"#wtg\" x=\"778\" y=\"774\"/><use href=\"#wtg\" x=\"874\" y=\"787\"/><use href=\"#wtg\" x=\"978\" y=\"647\"/><use href=\"#wtg\" x=\"1014\" y=\"664\"/><use href=\"#wtg\" x=\"1038\" y=\"613\"/><use href=\"#wtg\" x=\"1038\" y=\"578\"/><use href=\"#wtg\" x=\"1013\" y=\"561\"/><use href=\"#wtg\" x=\"1013\" y=\"540\"/><use href=\"#wtg\" x=\"971\" y=\"581\"/><use href=\"#wtg\" x=\"947\" y=\"572\"/><use href=\"#wtg\" x=\"918\" y=\"648\"/><use href=\"#wtg\" x=\"837\" y=\"666\"/><use href=\"#wtg\" x=\"826\" y=\"648\"/><use href=\"#wtg\" x=\"639\" y=\"771\"/></g><g fill=\"#2ca02c\"><use href=\"#wtg\" x=\"110\" y=\"673\"/><use href=\"#wtg\" x=\"300\" y=\"306\"/><use href=\"#wtg\" x=\"345\" y=\"217\"/><use href=\"#wtg\" x=\"303\" y=\"204\"/><use href=\"#wtg\" x=\"340\" y=\"120\"/><use href=\"#wtg\" x=\"340\" y=\"62\"/><use href=\"#wtg\" x=\"431\" y=\"31\"/><use href=\"#wtg\" x=\"474\" y=\"38\"/><use href=\"#wtg\" x=\"439\" y=\"182\"/><use href=\"#wtg\" x=\"430\" y=\"204\"/><use href=\"#wtg\" x=\"491\" y=\"291\"/><use href=\"#wtg\" x=\"441\" y=\"400\"/><use href=\"#wtg\" x=\"415\" y=\"431\"/><use href=\"#wtg\" x=\"389\" y=\"437\"/><use href=\"#wtg\" x=\"380\" y=\"452\"/><use href=\"#wtg\" x=\"327\" y=\"511\"/></g><g fill=\"#98df8a\"><use href=\"#wtg\" x=\"503\" y=\"728\"/><use href=\"#wtg\" x=\"655\" y=\"530\"/><use href=\"#wtg\" x=\"676\" y=\"524\"/><use href=\"#wtg\" x=\"671\" y=\"420\"/><use href=\"#wtg\" x=\"737\" y=\"384\"/><use href=\"#wtg\" x=\"841\" y=\"334\"/><use href=\"#wtg\" x=\"750\" y=\"164\"/><use href=\"#wtg\" x=\"985\" y=\"43\"/><use href=\"#wtg\" x=\"999\" y=\"215\"/><use href=\"#wtg\" x=\"904\" y=\"335\"/><use href=\"#wtg\" x=\"922\" y=\"370\"/><use href=\"#wtg\" x=\"905\" y=\"444\"/><use href=\"#wtg\" x=\"824\" y=\"521\"/><use href=\"#wtg\" x=\"712\" y=\"664\"/><use href=\"#wtg\" x=\"609\" y=\"744\"/><use href=\"#wtg\" x=\"400\" y=\"860\"/></g><g fill=\"#d62728\"><use href=\"#wtg\" x=\"357\" y=\"854\"/><use href=\"#wtg\" x=\"392\" y=\"800\"/><use href=\"#wtg\" x=\"488\" y=\"679\"/><use href=\"#wtg\" x=\"546\" y=\"520\"/><use href=\"#wtg\" x=\"599\" y=\"444\"/><use href=\"#wtg\" x=\"620\" y=\"368\"/><use href=\"#wtg\" x=\"592\" y=\"317\"/><use href=\"#wtg\" x=\"636\" y=\"213\"/><use href=\"#wtg\" x=\"571\" y=\"170\"/><use href=\"#wtg\" x=\"562\" y=\"185\"/><use href=\"#wtg\" x=\"583\" y=\"220\"/><use href=\"#wtg\" x=\"535\" y=\"368\"/><use href=\"#wtg\" x=\"502\" y=\"382\"/><use href=\"#wtg\" x=\"430\" y=\"536\"/><use href=\"#wtg\" x=\"370\" y=\"607\"/><use href=\"#wtg\" x=\"360\" y=\"688\"/></g></g><g id=\"OSSgrp\"><use href=\"#oss\" x=\"19.5\" y=\"1039.5\"/></g></g><text stroke=\"#000\" stroke-width=\"0.01em\" text-anchor=\"end\" font-family=\"sans-serif\" font-size=\"40\" fill=\"white\" x=\"1050\" y=\"1050\"><tspan x=\"1050\" dy=\"-0.0em\">&#931;&#955; = 11716.0 m</tspan><tspan x=\"1050\" dy=\"-1.3em\">(+0) &#945;: 7</tspan><tspan x=\"1050\" dy=\"-1.3em\">&#954; = 16, T = 100</tspan></text></svg>"
      ],
      "text/plain": [
       "<interarray.svg.SvgRepr at 0x1c8eb7bef90>"
      ]
     },
     "metadata": {},
     "output_type": "display_data"
    },
    {
     "data": {
      "image/svg+xml": [
       "<svg xmlns=\"http://www.w3.org/2000/svg\" viewBox=\"0 0 1920 1080\"><defs ><filter x=\"-5%\" y=\"-5%\" id=\"bg_textbox\" width=\"110%\" height=\"110%\"><feFlood flood-opacity=\"0.7\" flood-color=\"#111\" result=\"bg\"/><feMerge ><feMergeNode in=\"bg\"/><feMergeNode in=\"SourceGraphic\"/></feMerge></filter><circle stroke=\"none\" stroke-width=\"2\" id=\"wtg\" r=\"12\"/><rect stroke=\"none\" stroke-width=\"2\" id=\"oss\" width=\"21\" height=\"21\" fill=\"lawngreen\"/></defs><g id=\"L_from_site\"><path stroke=\"silver\" stroke-dasharray=\"15 7\" stroke-width=\"2\" id=\"border\" d=\"M30 1050 1050 1050 1050 30 30 30z\" fill-rule=\"evenodd\" fill=\"#111\"/><g stroke=\"crimson\" stroke-width=\"4\" id=\"edges_unspecified\"><line x1=\"166\" y1=\"929\" x2=\"180\" y2=\"939\"/><line x1=\"30\" y1=\"1050\" x2=\"166\" y2=\"929\"/><line x1=\"180\" y1=\"939\" x2=\"202\" y2=\"918\"/><line x1=\"281\" y1=\"975\" x2=\"202\" y2=\"918\"/><line x1=\"281\" y1=\"975\" x2=\"164\" y2=\"1032\"/><line x1=\"30\" y1=\"1050\" x2=\"115\" y2=\"751\"/><line x1=\"115\" y1=\"751\" x2=\"80\" y2=\"477\"/><line x1=\"122\" y1=\"398\" x2=\"80\" y2=\"477\"/><line x1=\"122\" y1=\"398\" x2=\"88\" y2=\"375\"/><line x1=\"88\" y1=\"375\" x2=\"58\" y2=\"347\"/><line x1=\"61\" y1=\"302\" x2=\"58\" y2=\"347\"/><line x1=\"116\" y1=\"306\" x2=\"61\" y2=\"302\"/><line x1=\"106\" y1=\"276\" x2=\"116\" y2=\"306\"/><line x1=\"106\" y1=\"276\" x2=\"71\" y2=\"261\"/><line x1=\"53\" y1=\"164\" x2=\"71\" y2=\"261\"/><line x1=\"53\" y1=\"164\" x2=\"64\" y2=\"56\"/><line x1=\"130\" y1=\"45\" x2=\"64\" y2=\"56\"/><line x1=\"130\" y1=\"45\" x2=\"135\" y2=\"113\"/><line x1=\"135\" y1=\"113\" x2=\"165\" y2=\"237\"/><line x1=\"222\" y1=\"312\" x2=\"165\" y2=\"237\"/><line x1=\"263\" y1=\"366\" x2=\"222\" y2=\"312\"/><line x1=\"203\" y1=\"653\" x2=\"188\" y2=\"706\"/><line x1=\"188\" y1=\"706\" x2=\"159\" y2=\"777\"/><line x1=\"242\" y1=\"760\" x2=\"298\" y2=\"782\"/><line x1=\"423\" y1=\"755\" x2=\"298\" y2=\"782\"/><line x1=\"423\" y1=\"755\" x2=\"516\" y2=\"683\"/><line x1=\"529\" y1=\"606\" x2=\"516\" y2=\"683\"/><line x1=\"544\" y1=\"608\" x2=\"529\" y2=\"606\"/><line x1=\"544\" y1=\"608\" x2=\"674\" y2=\"583\"/><line x1=\"674\" y1=\"583\" x2=\"709\" y2=\"542\"/><line x1=\"709\" y1=\"542\" x2=\"782\" y2=\"474\"/><line x1=\"782\" y1=\"474\" x2=\"800\" y2=\"457\"/><line x1=\"800\" y1=\"450\" x2=\"800\" y2=\"457\"/><line x1=\"800\" y1=\"450\" x2=\"844\" y2=\"445\"/><line x1=\"763\" y1=\"636\" x2=\"722\" y2=\"659\"/><line x1=\"684\" y1=\"697\" x2=\"722\" y2=\"659\"/><line x1=\"657\" y1=\"731\" x2=\"684\" y2=\"697\"/><line x1=\"657\" y1=\"731\" x2=\"591\" y2=\"748\"/><line x1=\"591\" y1=\"748\" x2=\"573\" y2=\"753\"/><line x1=\"573\" y1=\"753\" x2=\"433\" y2=\"843\"/><line x1=\"343\" y1=\"217\" x2=\"347\" y2=\"357\"/><line x1=\"343\" y1=\"217\" x2=\"272\" y2=\"160\"/><line x1=\"272\" y1=\"160\" x2=\"290\" y2=\"135\"/><line x1=\"441\" y1=\"98\" x2=\"290\" y2=\"135\"/><line x1=\"441\" y1=\"98\" x2=\"487\" y2=\"51\"/><line x1=\"487\" y1=\"51\" x2=\"693\" y2=\"129\"/><line x1=\"693\" y1=\"129\" x2=\"755\" y2=\"33\"/><line x1=\"758\" y1=\"93\" x2=\"755\" y2=\"33\"/><line x1=\"758\" y1=\"93\" x2=\"782\" y2=\"127\"/><line x1=\"775\" y1=\"235\" x2=\"782\" y2=\"127\"/><line x1=\"775\" y1=\"235\" x2=\"758\" y2=\"247\"/><line x1=\"758\" y1=\"247\" x2=\"732\" y2=\"199\"/><line x1=\"506\" y1=\"256\" x2=\"732\" y2=\"199\"/><line x1=\"429\" y1=\"321\" x2=\"506\" y2=\"256\"/><line x1=\"429\" y1=\"321\" x2=\"395\" y2=\"383\"/><line x1=\"395\" y1=\"383\" x2=\"348\" y2=\"486\"/><line x1=\"409\" y1=\"606\" x2=\"362\" y2=\"706\"/><line x1=\"409\" y1=\"606\" x2=\"541\" y2=\"412\"/><line x1=\"530\" y1=\"370\" x2=\"541\" y2=\"412\"/><line x1=\"530\" y1=\"370\" x2=\"567\" y2=\"358\"/><line x1=\"567\" y1=\"358\" x2=\"640\" y2=\"351\"/><line x1=\"640\" y1=\"351\" x2=\"860\" y2=\"296\"/><line x1=\"852\" y1=\"176\" x2=\"860\" y2=\"296\"/><line x1=\"907\" y1=\"176\" x2=\"852\" y2=\"176\"/><line x1=\"907\" y1=\"176\" x2=\"1049\" y2=\"32\"/><line x1=\"968\" y1=\"273\" x2=\"1049\" y2=\"32\"/><line x1=\"968\" y1=\"273\" x2=\"1000\" y2=\"343\"/><line x1=\"1000\" y1=\"343\" x2=\"1004\" y2=\"374\"/><line x1=\"1004\" y1=\"374\" x2=\"958\" y2=\"516\"/><line x1=\"934\" y1=\"541\" x2=\"958\" y2=\"516\"/><line x1=\"913\" y1=\"540\" x2=\"934\" y2=\"541\"/><line x1=\"936\" y1=\"663\" x2=\"913\" y2=\"540\"/><line x1=\"936\" y1=\"663\" x2=\"836\" y2=\"700\"/><line x1=\"836\" y1=\"700\" x2=\"730\" y2=\"807\"/><line x1=\"391\" y1=\"1046\" x2=\"599\" y2=\"998\"/><line x1=\"615\" y1=\"961\" x2=\"599\" y2=\"998\"/><line x1=\"615\" y1=\"961\" x2=\"835\" y2=\"1006\"/><line x1=\"898\" y1=\"951\" x2=\"835\" y2=\"1006\"/><line x1=\"1046\" y1=\"936\" x2=\"898\" y2=\"951\"/><line x1=\"1046\" y1=\"936\" x2=\"1046\" y2=\"730\"/><line x1=\"989\" y1=\"704\" x2=\"1046\" y2=\"730\"/><line x1=\"989\" y1=\"704\" x2=\"964\" y2=\"742\"/><line x1=\"964\" y1=\"742\" x2=\"964\" y2=\"775\"/><line x1=\"902\" y1=\"792\" x2=\"964\" y2=\"775\"/><line x1=\"835\" y1=\"783\" x2=\"902\" y2=\"792\"/><line x1=\"835\" y1=\"783\" x2=\"750\" y2=\"828\"/><line x1=\"750\" y1=\"828\" x2=\"756\" y2=\"899\"/><line x1=\"671\" y1=\"902\" x2=\"756\" y2=\"899\"/><line x1=\"671\" y1=\"902\" x2=\"622\" y2=\"921\"/><line x1=\"469\" y1=\"955\" x2=\"622\" y2=\"921\"/><line x1=\"469\" y1=\"955\" x2=\"470\" y2=\"976\"/><line x1=\"426\" y1=\"1001\" x2=\"470\" y2=\"976\"/></g><g stroke=\"red\" stroke-dasharray=\"18 15\" stroke-width=\"4\" id=\"edges_tentative\"><line x1=\"30\" y1=\"1050\" x2=\"362\" y2=\"706\"/><line x1=\"30\" y1=\"1050\" x2=\"391\" y2=\"1046\"/><line x1=\"30\" y1=\"1050\" x2=\"242\" y2=\"760\"/><line x1=\"30\" y1=\"1050\" x2=\"128\" y2=\"729\"/></g><g stroke=\"yellow\" stroke-dasharray=\"25 5\" stroke-width=\"4\" id=\"edges_rogue\"><line x1=\"263\" y1=\"366\" x2=\"203\" y2=\"653\"/><line x1=\"844\" y1=\"445\" x2=\"763\" y2=\"636\"/><line x1=\"128\" y1=\"729\" x2=\"347\" y2=\"357\"/><line x1=\"348\" y1=\"486\" x2=\"223\" y2=\"729\"/></g><g id=\"WTGgrp\"><g fill=\"#1f77b4\"><use href=\"#wtg\" x=\"166\" y=\"929\"/><use href=\"#wtg\" x=\"180\" y=\"939\"/><use href=\"#wtg\" x=\"202\" y=\"918\"/><use href=\"#wtg\" x=\"281\" y=\"975\"/><use href=\"#wtg\" x=\"164\" y=\"1032\"/></g><g fill=\"#aec7e8\"><use href=\"#wtg\" x=\"115\" y=\"751\"/><use href=\"#wtg\" x=\"80\" y=\"477\"/><use href=\"#wtg\" x=\"122\" y=\"398\"/><use href=\"#wtg\" x=\"88\" y=\"375\"/><use href=\"#wtg\" x=\"58\" y=\"347\"/><use href=\"#wtg\" x=\"61\" y=\"302\"/><use href=\"#wtg\" x=\"116\" y=\"306\"/><use href=\"#wtg\" x=\"106\" y=\"276\"/><use href=\"#wtg\" x=\"71\" y=\"261\"/><use href=\"#wtg\" x=\"53\" y=\"164\"/><use href=\"#wtg\" x=\"64\" y=\"56\"/><use href=\"#wtg\" x=\"130\" y=\"45\"/><use href=\"#wtg\" x=\"135\" y=\"113\"/><use href=\"#wtg\" x=\"165\" y=\"237\"/><use href=\"#wtg\" x=\"222\" y=\"312\"/><use href=\"#wtg\" x=\"263\" y=\"366\"/><use href=\"#wtg\" x=\"203\" y=\"653\"/><use href=\"#wtg\" x=\"188\" y=\"706\"/><use href=\"#wtg\" x=\"159\" y=\"777\"/></g><g fill=\"#ff7f0e\"><use href=\"#wtg\" x=\"242\" y=\"760\"/><use href=\"#wtg\" x=\"298\" y=\"782\"/><use href=\"#wtg\" x=\"423\" y=\"755\"/><use href=\"#wtg\" x=\"516\" y=\"683\"/><use href=\"#wtg\" x=\"529\" y=\"606\"/><use href=\"#wtg\" x=\"544\" y=\"608\"/><use href=\"#wtg\" x=\"674\" y=\"583\"/><use href=\"#wtg\" x=\"709\" y=\"542\"/><use href=\"#wtg\" x=\"782\" y=\"474\"/><use href=\"#wtg\" x=\"800\" y=\"457\"/><use href=\"#wtg\" x=\"800\" y=\"450\"/><use href=\"#wtg\" x=\"844\" y=\"445\"/><use href=\"#wtg\" x=\"763\" y=\"636\"/><use href=\"#wtg\" x=\"722\" y=\"659\"/><use href=\"#wtg\" x=\"684\" y=\"697\"/><use href=\"#wtg\" x=\"657\" y=\"731\"/><use href=\"#wtg\" x=\"591\" y=\"748\"/><use href=\"#wtg\" x=\"573\" y=\"753\"/><use href=\"#wtg\" x=\"433\" y=\"843\"/></g><g fill=\"#ffbb78\"><use href=\"#wtg\" x=\"128\" y=\"729\"/><use href=\"#wtg\" x=\"347\" y=\"357\"/><use href=\"#wtg\" x=\"343\" y=\"217\"/><use href=\"#wtg\" x=\"272\" y=\"160\"/><use href=\"#wtg\" x=\"290\" y=\"135\"/><use href=\"#wtg\" x=\"441\" y=\"98\"/><use href=\"#wtg\" x=\"487\" y=\"51\"/><use href=\"#wtg\" x=\"693\" y=\"129\"/><use href=\"#wtg\" x=\"755\" y=\"33\"/><use href=\"#wtg\" x=\"758\" y=\"93\"/><use href=\"#wtg\" x=\"782\" y=\"127\"/><use href=\"#wtg\" x=\"775\" y=\"235\"/><use href=\"#wtg\" x=\"758\" y=\"247\"/><use href=\"#wtg\" x=\"732\" y=\"199\"/><use href=\"#wtg\" x=\"506\" y=\"256\"/><use href=\"#wtg\" x=\"429\" y=\"321\"/><use href=\"#wtg\" x=\"395\" y=\"383\"/><use href=\"#wtg\" x=\"348\" y=\"486\"/><use href=\"#wtg\" x=\"223\" y=\"729\"/></g><g fill=\"#2ca02c\"><use href=\"#wtg\" x=\"362\" y=\"706\"/><use href=\"#wtg\" x=\"409\" y=\"606\"/><use href=\"#wtg\" x=\"541\" y=\"412\"/><use href=\"#wtg\" x=\"530\" y=\"370\"/><use href=\"#wtg\" x=\"567\" y=\"358\"/><use href=\"#wtg\" x=\"640\" y=\"351\"/><use href=\"#wtg\" x=\"860\" y=\"296\"/><use href=\"#wtg\" x=\"852\" y=\"176\"/><use href=\"#wtg\" x=\"907\" y=\"176\"/><use href=\"#wtg\" x=\"1049\" y=\"32\"/><use href=\"#wtg\" x=\"968\" y=\"273\"/><use href=\"#wtg\" x=\"1000\" y=\"343\"/><use href=\"#wtg\" x=\"1004\" y=\"374\"/><use href=\"#wtg\" x=\"958\" y=\"516\"/><use href=\"#wtg\" x=\"934\" y=\"541\"/><use href=\"#wtg\" x=\"913\" y=\"540\"/><use href=\"#wtg\" x=\"936\" y=\"663\"/><use href=\"#wtg\" x=\"836\" y=\"700\"/><use href=\"#wtg\" x=\"730\" y=\"807\"/></g><g fill=\"#98df8a\"><use href=\"#wtg\" x=\"391\" y=\"1046\"/><use href=\"#wtg\" x=\"599\" y=\"998\"/><use href=\"#wtg\" x=\"615\" y=\"961\"/><use href=\"#wtg\" x=\"835\" y=\"1006\"/><use href=\"#wtg\" x=\"898\" y=\"951\"/><use href=\"#wtg\" x=\"1046\" y=\"936\"/><use href=\"#wtg\" x=\"1046\" y=\"730\"/><use href=\"#wtg\" x=\"989\" y=\"704\"/><use href=\"#wtg\" x=\"964\" y=\"742\"/><use href=\"#wtg\" x=\"964\" y=\"775\"/><use href=\"#wtg\" x=\"902\" y=\"792\"/><use href=\"#wtg\" x=\"835\" y=\"783\"/><use href=\"#wtg\" x=\"750\" y=\"828\"/><use href=\"#wtg\" x=\"756\" y=\"899\"/><use href=\"#wtg\" x=\"671\" y=\"902\"/><use href=\"#wtg\" x=\"622\" y=\"921\"/><use href=\"#wtg\" x=\"469\" y=\"955\"/><use href=\"#wtg\" x=\"470\" y=\"976\"/><use href=\"#wtg\" x=\"426\" y=\"1001\"/></g></g><g id=\"OSSgrp\"><use href=\"#oss\" x=\"19.5\" y=\"1039.5\"/></g></g><text stroke=\"#000\" stroke-width=\"0.01em\" text-anchor=\"end\" font-family=\"sans-serif\" font-size=\"40\" fill=\"white\" x=\"1050\" y=\"1050\"><tspan x=\"1050\" dy=\"-0.0em\">&#931;&#955; = 11219.0 m</tspan><tspan x=\"1050\" dy=\"-1.3em\">(+0) &#945;: 6</tspan><tspan x=\"1050\" dy=\"-1.3em\">&#954; = 19, T = 100</tspan></text></svg>"
      ],
      "text/plain": [
       "<interarray.svg.SvgRepr at 0x1c8eb7bee10>"
      ]
     },
     "metadata": {},
     "output_type": "display_data"
    }
   ],
   "source": [
    "for name, rogues, svg in problems:\n",
    "    if len(rogues) >= 4:\n",
    "        display(svg)"
   ]
  }
 ],
 "metadata": {
  "language_info": {
   "name": "python"
  }
 },
 "nbformat": 4,
 "nbformat_minor": 5
}
