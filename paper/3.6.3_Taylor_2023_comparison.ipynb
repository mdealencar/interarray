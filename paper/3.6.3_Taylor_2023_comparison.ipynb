{
 "cells": [
  {
   "cell_type": "markdown",
   "id": "a5c34513-9d99-42cc-bf9b-c0e92e73ecd6",
   "metadata": {
    "editable": true,
    "frozen": false
   },
   "source": [
    "This is used in the paper **Flexible cable routing framework for wind farm collection system optimization**."
   ]
  },
  {
   "cell_type": "code",
   "execution_count": 1,
   "id": "bdf5ac5d-ce06-4425-94be-2793edcbf33e",
   "metadata": {},
   "outputs": [],
   "source": [
    "from importlib.resources import files\n",
    "import dill\n",
    "from pyomo import environ as pyo"
   ]
  },
  {
   "cell_type": "code",
   "execution_count": 2,
   "id": "ff8b4268-f6cd-4f4a-82d1-200f208fe9c2",
   "metadata": {},
   "outputs": [],
   "source": [
    "from interarray.interarraylib import G_from_S\n",
    "from interarray.svg import svgplot\n",
    "from interarray.mesh import make_planar_embedding\n",
    "from interarray.baselines.hgs import hgs_multiroot\n",
    "from interarray.importer import L_from_yaml\n",
    "from interarray.pathfinding import PathFinder\n",
    "import interarray.MILP.pyomo as omo\n",
    "from interarray.EW_presolver import EW_presolver"
   ]
  },
  {
   "cell_type": "code",
   "execution_count": 3,
   "id": "35bb73d8-26c0-4132-bfae-d9438f94e6fe",
   "metadata": {},
   "outputs": [],
   "source": [
    "solver = pyo.SolverFactory('gurobi', solver_io='python')"
   ]
  },
  {
   "cell_type": "markdown",
   "id": "e2c8bb22-2a1f-4fb1-bafd-bbc3528057f4",
   "metadata": {
    "deletable": true,
    "editable": true,
    "frozen": false
   },
   "source": [
    "## Reference solution"
   ]
  },
  {
   "cell_type": "markdown",
   "id": "e8ec0a99-6d06-4d36-9da8-ed28a8831646",
   "metadata": {
    "deletable": true,
    "editable": true,
    "frozen": false
   },
   "source": [
    "Taylor, P., Yue, H., Campos-Gaona, D., Anaya-Lara, O., & Jia, C. (2023). Wind farm array cable layout optimisation for complex offshore sites—A decomposition based heuristic approach. IET Renewable Power Generation, 17(2), 243–259. https://doi.org/10.1049/rpg2.12593"
   ]
  },
  {
   "cell_type": "code",
   "execution_count": 4,
   "id": "2b6f398d-6333-4090-a329-cd5a0d7a2b47",
   "metadata": {},
   "outputs": [],
   "source": [
    "G_ref = dill.load(open('taylor_2023_paper_routeset.dill', 'rb'))"
   ]
  },
  {
   "cell_type": "code",
   "execution_count": 5,
   "id": "37fbe442-9722-4d7f-918f-c97a7e9ed5e1",
   "metadata": {},
   "outputs": [
    {
     "data": {
      "image/svg+xml": [
       "<svg xmlns=\"http://www.w3.org/2000/svg\" viewBox=\"0 0 1920 1080\"><defs ><filter x=\"-5%\" y=\"-5%\" id=\"bg_textbox\" width=\"110%\" height=\"110%\"><feFlood flood-opacity=\"0.7\" flood-color=\"#111\" result=\"bg\"/><feMerge ><feMergeNode in=\"bg\"/><feMergeNode in=\"SourceGraphic\"/></feMerge></filter><circle stroke=\"none\" stroke-width=\"2\" id=\"wtg\" r=\"12\"/><rect stroke=\"none\" stroke-width=\"2\" id=\"oss\" width=\"21\" height=\"21\" fill=\"lawngreen\"/></defs><g ><path stroke=\"silver\" stroke-dasharray=\"15 7\" stroke-width=\"2\" id=\"border\" d=\"M30 544 291 1050 724 822 735 817 973 679 944 712 760 833 1080 1050 1127 561 1037 146 737 30 59 297z M758 253 757 354 724 378 645 314 603 289 676 233z\" fill-rule=\"evenodd\" fill=\"#111\"/><g stroke=\"crimson\" stroke-width=\"4\" id=\"edges_unspecified\"><line x1=\"476\" y1=\"340\" x2=\"532\" y2=\"315\"/><line x1=\"476\" y1=\"340\" x2=\"458\" y2=\"278\"/><line x1=\"476\" y1=\"340\" x2=\"391\" y2=\"425\"/><line x1=\"476\" y1=\"340\" x2=\"564\" y2=\"241\"/><line x1=\"476\" y1=\"340\" x2=\"498\" y2=\"388\"/><line x1=\"476\" y1=\"340\" x2=\"424\" y2=\"350\"/><line x1=\"476\" y1=\"340\" x2=\"350\" y2=\"316\"/><line x1=\"498\" y1=\"388\" x2=\"464\" y2=\"460\"/><line x1=\"574\" y1=\"423\" x2=\"498\" y2=\"388\"/><line x1=\"464\" y1=\"460\" x2=\"433\" y2=\"536\"/><line x1=\"539\" y1=\"499\" x2=\"464\" y2=\"460\"/><line x1=\"433\" y1=\"536\" x2=\"403\" y2=\"611\"/><line x1=\"403\" y1=\"611\" x2=\"368\" y2=\"684\"/><line x1=\"368\" y1=\"684\" x2=\"338\" y2=\"759\"/><line x1=\"614\" y1=\"530\" x2=\"539\" y2=\"499\"/><line x1=\"539\" y1=\"499\" x2=\"504\" y2=\"572\"/><line x1=\"646\" y1=\"456\" x2=\"574\" y2=\"423\"/><line x1=\"721\" y1=\"490\" x2=\"646\" y2=\"456\"/><line x1=\"605\" y1=\"348\" x2=\"532\" y2=\"315\"/><line x1=\"677\" y1=\"380\" x2=\"605\" y2=\"348\"/><line x1=\"751\" y1=\"414\" x2=\"677\" y2=\"380\"/><line x1=\"779\" y1=\"340\" x2=\"751\" y2=\"414\"/><line x1=\"809\" y1=\"270\" x2=\"779\" y2=\"340\"/><line x1=\"885\" y1=\"305\" x2=\"809\" y2=\"270\"/><line x1=\"921\" y1=\"231\" x2=\"885\" y2=\"305\"/><line x1=\"955\" y1=\"155\" x2=\"921\" y2=\"231\"/><line x1=\"593\" y1=\"163\" x2=\"564\" y2=\"241\"/><line x1=\"666\" y1=\"206\" x2=\"564\" y2=\"241\"/><line x1=\"737\" y1=\"239\" x2=\"666\" y2=\"206\"/><line x1=\"698\" y1=\"122\" x2=\"666\" y2=\"206\"/><line x1=\"731\" y1=\"49\" x2=\"698\" y2=\"122\"/><line x1=\"806\" y1=\"84\" x2=\"731\" y2=\"49\"/><line x1=\"881\" y1=\"119\" x2=\"806\" y2=\"84\"/><line x1=\"623\" y1=\"88\" x2=\"593\" y2=\"163\"/><line x1=\"771\" y1=\"162\" x2=\"737\" y2=\"239\"/><line x1=\"846\" y1=\"194\" x2=\"771\" y2=\"162\"/><line x1=\"458\" y1=\"278\" x2=\"382\" y2=\"241\"/><line x1=\"488\" y1=\"202\" x2=\"458\" y2=\"278\"/><line x1=\"412\" y1=\"167\" x2=\"382\" y2=\"241\"/><line x1=\"382\" y1=\"241\" x2=\"306\" y2=\"209\"/><line x1=\"517\" y1=\"127\" x2=\"488\" y2=\"202\"/><line x1=\"350\" y1=\"316\" x2=\"276\" y2=\"282\"/><line x1=\"276\" y1=\"282\" x2=\"201\" y2=\"250\"/><line x1=\"201\" y1=\"250\" x2=\"170\" y2=\"320\"/><line x1=\"170\" y1=\"320\" x2=\"96\" y2=\"292\"/><line x1=\"424\" y1=\"350\" x2=\"316\" y2=\"390\"/><line x1=\"316\" y1=\"390\" x2=\"209\" y2=\"434\"/><line x1=\"316\" y1=\"390\" x2=\"241\" y2=\"360\"/><line x1=\"209\" y1=\"434\" x2=\"176\" y2=\"509\"/><line x1=\"209\" y1=\"434\" x2=\"133\" y2=\"399\"/><line x1=\"176\" y1=\"509\" x2=\"144\" y2=\"581\"/><line x1=\"144\" y1=\"581\" x2=\"111\" y2=\"656\"/><line x1=\"133\" y1=\"399\" x2=\"62\" y2=\"364\"/><line x1=\"133\" y1=\"399\" x2=\"101\" y2=\"471\"/><line x1=\"101\" y1=\"471\" x2=\"68\" y2=\"548\"/><line x1=\"391\" y1=\"425\" x2=\"359\" y2=\"500\"/><line x1=\"391\" y1=\"425\" x2=\"287\" y2=\"466\"/><line x1=\"287\" y1=\"466\" x2=\"253\" y2=\"541\"/><line x1=\"253\" y1=\"541\" x2=\"221\" y2=\"616\"/><line x1=\"221\" y1=\"616\" x2=\"184\" y2=\"690\"/><line x1=\"184\" y1=\"690\" x2=\"154\" y2=\"766\"/><line x1=\"359\" y1=\"500\" x2=\"328\" y2=\"575\"/><line x1=\"328\" y1=\"575\" x2=\"296\" y2=\"649\"/><line x1=\"296\" y1=\"649\" x2=\"261\" y2=\"726\"/><line x1=\"261\" y1=\"726\" x2=\"228\" y2=\"803\"/><line x1=\"751\" y1=\"758\" x2=\"698\" y2=\"751\"/><line x1=\"751\" y1=\"758\" x2=\"804\" y2=\"712\"/><line x1=\"751\" y1=\"758\" x2=\"727\" y2=\"680\"/><line x1=\"751\" y1=\"758\" x2=\"664\" y2=\"826\"/><line x1=\"751\" y1=\"758\" x2=\"770\" y2=\"788\"/><line x1=\"751\" y1=\"758\" x2=\"905\" y2=\"675\"/><line x1=\"981\" y1=\"706\" x2=\"944\" y2=\"776\"/><line x1=\"1057\" y1=\"741\" x2=\"981\" y2=\"706\"/><line x1=\"944\" y1=\"776\" x2=\"911\" y2=\"856\"/><line x1=\"911\" y1=\"856\" x2=\"841\" y2=\"824\"/><line x1=\"984\" y1=\"888\" x2=\"911\" y2=\"856\"/><line x1=\"984\" y1=\"888\" x2=\"957\" y2=\"962\"/><line x1=\"1033\" y1=\"1000\" x2=\"957\" y2=\"962\"/><line x1=\"1057\" y1=\"741\" x2=\"1023\" y2=\"812\"/><line x1=\"1091\" y1=\"849\" x2=\"1023\" y2=\"812\"/><line x1=\"1091\" y1=\"849\" x2=\"1066\" y2=\"921\"/><line x1=\"836\" y1=\"638\" x2=\"804\" y2=\"712\"/><line x1=\"940\" y1=\"600\" x2=\"836\" y2=\"638\"/><line x1=\"972\" y1=\"524\" x2=\"940\" y2=\"600\"/><line x1=\"1014\" y1=\"631\" x2=\"940\" y2=\"600\"/><line x1=\"1006\" y1=\"450\" x2=\"972\" y2=\"524\"/><line x1=\"1038\" y1=\"377\" x2=\"1006\" y2=\"450\"/><line x1=\"1063\" y1=\"302\" x2=\"1038\" y2=\"377\"/><line x1=\"1090\" y1=\"665\" x2=\"1014\" y2=\"631\"/><line x1=\"1048\" y1=\"556\" x2=\"1014\" y2=\"631\"/><line x1=\"1080\" y1=\"482\" x2=\"1048\" y2=\"556\"/><line x1=\"1115\" y1=\"594\" x2=\"1090\" y2=\"665\"/><line x1=\"760\" y1=\"605\" x2=\"727\" y2=\"680\"/><line x1=\"793\" y1=\"530\" x2=\"760\" y2=\"605\"/><line x1=\"869\" y1=\"562\" x2=\"793\" y2=\"530\"/><line x1=\"823\" y1=\"456\" x2=\"793\" y2=\"530\"/><line x1=\"899\" y1=\"485\" x2=\"869\" y2=\"562\"/><line x1=\"930\" y1=\"412\" x2=\"899\" y2=\"485\"/><line x1=\"962\" y1=\"338\" x2=\"930\" y2=\"412\"/><line x1=\"997\" y1=\"265\" x2=\"962\" y2=\"338\"/><line x1=\"1029\" y1=\"190\" x2=\"997\" y2=\"265\"/><line x1=\"852\" y1=\"380\" x2=\"823\" y2=\"456\"/><line x1=\"698\" y1=\"751\" x2=\"625\" y2=\"715\"/><line x1=\"655\" y1=\"638\" x2=\"625\" y2=\"715\"/><line x1=\"625\" y1=\"715\" x2=\"552\" y2=\"680\"/><line x1=\"552\" y1=\"680\" x2=\"477\" y2=\"647\"/><line x1=\"477\" y1=\"647\" x2=\"441\" y2=\"721\"/><line x1=\"441\" y1=\"721\" x2=\"411\" y2=\"797\"/><line x1=\"688\" y1=\"564\" x2=\"655\" y2=\"638\"/><line x1=\"655\" y1=\"638\" x2=\"579\" y2=\"604\"/><line x1=\"664\" y1=\"826\" x2=\"592\" y2=\"792\"/><line x1=\"664\" y1=\"826\" x2=\"559\" y2=\"867\"/><line x1=\"559\" y1=\"867\" x2=\"455\" y2=\"904\"/><line x1=\"559\" y1=\"867\" x2=\"487\" y2=\"830\"/><line x1=\"455\" y1=\"904\" x2=\"378\" y2=\"869\"/><line x1=\"455\" y1=\"904\" x2=\"415\" y2=\"975\"/><line x1=\"415\" y1=\"975\" x2=\"343\" y2=\"947\"/><line x1=\"343\" y1=\"947\" x2=\"311\" y2=\"1021\"/><line x1=\"592\" y1=\"792\" x2=\"517\" y2=\"754\"/><line x1=\"378\" y1=\"869\" x2=\"302\" y2=\"835\"/><line x1=\"302\" y1=\"835\" x2=\"268\" y2=\"909\"/></g><g stroke=\"red\" stroke-width=\"4\" id=\"edges_contour\"><line x1=\"905\" y1=\"675\" x2=\"973\" y2=\"679\"/><line x1=\"981\" y1=\"706\" x2=\"973\" y2=\"679\"/></g><g id=\"WTGgrp\"><g fill=\"#d62728\"><use href=\"#wtg\" x=\"498\" y=\"388\"/><use href=\"#wtg\" x=\"464\" y=\"460\"/><use href=\"#wtg\" x=\"433\" y=\"536\"/><use href=\"#wtg\" x=\"403\" y=\"611\"/><use href=\"#wtg\" x=\"368\" y=\"684\"/><use href=\"#wtg\" x=\"338\" y=\"759\"/><use href=\"#wtg\" x=\"539\" y=\"499\"/><use href=\"#wtg\" x=\"504\" y=\"572\"/><use href=\"#wtg\" x=\"614\" y=\"530\"/><use href=\"#wtg\" x=\"574\" y=\"423\"/><use href=\"#wtg\" x=\"646\" y=\"456\"/><use href=\"#wtg\" x=\"721\" y=\"490\"/></g><g fill=\"#ff9896\"><use href=\"#wtg\" x=\"532\" y=\"315\"/><use href=\"#wtg\" x=\"605\" y=\"348\"/><use href=\"#wtg\" x=\"677\" y=\"380\"/><use href=\"#wtg\" x=\"751\" y=\"414\"/><use href=\"#wtg\" x=\"779\" y=\"340\"/><use href=\"#wtg\" x=\"809\" y=\"270\"/><use href=\"#wtg\" x=\"885\" y=\"305\"/><use href=\"#wtg\" x=\"921\" y=\"231\"/><use href=\"#wtg\" x=\"955\" y=\"155\"/></g><g fill=\"#9467bd\"><use href=\"#wtg\" x=\"564\" y=\"241\"/><use href=\"#wtg\" x=\"666\" y=\"206\"/><use href=\"#wtg\" x=\"698\" y=\"122\"/><use href=\"#wtg\" x=\"731\" y=\"49\"/><use href=\"#wtg\" x=\"806\" y=\"84\"/><use href=\"#wtg\" x=\"881\" y=\"119\"/><use href=\"#wtg\" x=\"593\" y=\"163\"/><use href=\"#wtg\" x=\"623\" y=\"88\"/><use href=\"#wtg\" x=\"737\" y=\"239\"/><use href=\"#wtg\" x=\"771\" y=\"162\"/><use href=\"#wtg\" x=\"846\" y=\"194\"/></g><g fill=\"#c5b0d5\"><use href=\"#wtg\" x=\"458\" y=\"278\"/><use href=\"#wtg\" x=\"382\" y=\"241\"/><use href=\"#wtg\" x=\"306\" y=\"209\"/><use href=\"#wtg\" x=\"412\" y=\"167\"/><use href=\"#wtg\" x=\"488\" y=\"202\"/><use href=\"#wtg\" x=\"517\" y=\"127\"/></g><g fill=\"#8c564b\"><use href=\"#wtg\" x=\"350\" y=\"316\"/><use href=\"#wtg\" x=\"276\" y=\"282\"/><use href=\"#wtg\" x=\"201\" y=\"250\"/><use href=\"#wtg\" x=\"170\" y=\"320\"/><use href=\"#wtg\" x=\"96\" y=\"292\"/></g><g fill=\"#c49c94\"><use href=\"#wtg\" x=\"424\" y=\"350\"/><use href=\"#wtg\" x=\"316\" y=\"390\"/><use href=\"#wtg\" x=\"209\" y=\"434\"/><use href=\"#wtg\" x=\"176\" y=\"509\"/><use href=\"#wtg\" x=\"144\" y=\"581\"/><use href=\"#wtg\" x=\"111\" y=\"656\"/><use href=\"#wtg\" x=\"241\" y=\"360\"/><use href=\"#wtg\" x=\"133\" y=\"399\"/><use href=\"#wtg\" x=\"62\" y=\"364\"/><use href=\"#wtg\" x=\"101\" y=\"471\"/><use href=\"#wtg\" x=\"68\" y=\"548\"/></g><g fill=\"#e377c2\"><use href=\"#wtg\" x=\"391\" y=\"425\"/><use href=\"#wtg\" x=\"287\" y=\"466\"/><use href=\"#wtg\" x=\"253\" y=\"541\"/><use href=\"#wtg\" x=\"221\" y=\"616\"/><use href=\"#wtg\" x=\"184\" y=\"690\"/><use href=\"#wtg\" x=\"154\" y=\"766\"/><use href=\"#wtg\" x=\"359\" y=\"500\"/><use href=\"#wtg\" x=\"328\" y=\"575\"/><use href=\"#wtg\" x=\"296\" y=\"649\"/><use href=\"#wtg\" x=\"261\" y=\"726\"/><use href=\"#wtg\" x=\"228\" y=\"803\"/></g><g fill=\"#1f77b4\"><use href=\"#wtg\" x=\"770\" y=\"788\"/></g><g fill=\"#aec7e8\"><use href=\"#wtg\" x=\"905\" y=\"675\"/><use href=\"#wtg\" x=\"981\" y=\"706\"/><use href=\"#wtg\" x=\"944\" y=\"776\"/><use href=\"#wtg\" x=\"911\" y=\"856\"/><use href=\"#wtg\" x=\"984\" y=\"888\"/><use href=\"#wtg\" x=\"957\" y=\"962\"/><use href=\"#wtg\" x=\"1033\" y=\"1000\"/><use href=\"#wtg\" x=\"1057\" y=\"741\"/><use href=\"#wtg\" x=\"1023\" y=\"812\"/><use href=\"#wtg\" x=\"1091\" y=\"849\"/><use href=\"#wtg\" x=\"1066\" y=\"921\"/><use href=\"#wtg\" x=\"841\" y=\"824\"/></g><g fill=\"#ff7f0e\"><use href=\"#wtg\" x=\"804\" y=\"712\"/><use href=\"#wtg\" x=\"836\" y=\"638\"/><use href=\"#wtg\" x=\"940\" y=\"600\"/><use href=\"#wtg\" x=\"972\" y=\"524\"/><use href=\"#wtg\" x=\"1006\" y=\"450\"/><use href=\"#wtg\" x=\"1038\" y=\"377\"/><use href=\"#wtg\" x=\"1063\" y=\"302\"/><use href=\"#wtg\" x=\"1014\" y=\"631\"/><use href=\"#wtg\" x=\"1048\" y=\"556\"/><use href=\"#wtg\" x=\"1080\" y=\"482\"/><use href=\"#wtg\" x=\"1090\" y=\"665\"/><use href=\"#wtg\" x=\"1115\" y=\"594\"/></g><g fill=\"#ffbb78\"><use href=\"#wtg\" x=\"727\" y=\"680\"/><use href=\"#wtg\" x=\"760\" y=\"605\"/><use href=\"#wtg\" x=\"793\" y=\"530\"/><use href=\"#wtg\" x=\"869\" y=\"562\"/><use href=\"#wtg\" x=\"899\" y=\"485\"/><use href=\"#wtg\" x=\"930\" y=\"412\"/><use href=\"#wtg\" x=\"962\" y=\"338\"/><use href=\"#wtg\" x=\"997\" y=\"265\"/><use href=\"#wtg\" x=\"1029\" y=\"190\"/><use href=\"#wtg\" x=\"823\" y=\"456\"/><use href=\"#wtg\" x=\"852\" y=\"380\"/></g><g fill=\"#2ca02c\"><use href=\"#wtg\" x=\"698\" y=\"751\"/><use href=\"#wtg\" x=\"625\" y=\"715\"/><use href=\"#wtg\" x=\"552\" y=\"680\"/><use href=\"#wtg\" x=\"477\" y=\"647\"/><use href=\"#wtg\" x=\"441\" y=\"721\"/><use href=\"#wtg\" x=\"411\" y=\"797\"/><use href=\"#wtg\" x=\"655\" y=\"638\"/><use href=\"#wtg\" x=\"688\" y=\"564\"/><use href=\"#wtg\" x=\"579\" y=\"604\"/></g><g fill=\"#98df8a\"><use href=\"#wtg\" x=\"664\" y=\"826\"/><use href=\"#wtg\" x=\"559\" y=\"867\"/><use href=\"#wtg\" x=\"455\" y=\"904\"/><use href=\"#wtg\" x=\"415\" y=\"975\"/><use href=\"#wtg\" x=\"343\" y=\"947\"/><use href=\"#wtg\" x=\"311\" y=\"1021\"/><use href=\"#wtg\" x=\"592\" y=\"792\"/><use href=\"#wtg\" x=\"517\" y=\"754\"/><use href=\"#wtg\" x=\"487\" y=\"830\"/><use href=\"#wtg\" x=\"378\" y=\"869\"/><use href=\"#wtg\" x=\"302\" y=\"835\"/><use href=\"#wtg\" x=\"268\" y=\"909\"/></g></g><g id=\"OSSgrp\"><use href=\"#oss\" x=\"740.5\" y=\"747.5\"/><use href=\"#oss\" x=\"465.5\" y=\"329.5\"/></g></g><text stroke=\"#000\" stroke-width=\"0.01em\" text-anchor=\"end\" font-family=\"sans-serif\" font-size=\"40\" fill=\"white\" x=\"1127\" y=\"1050\"><tspan x=\"1127\" dy=\"-0.0em\">&#931;&#955; = 104312.0 m</tspan><tspan x=\"1127\" dy=\"-1.3em\">(+2) &#945;: 7, &#946;: 6</tspan><tspan x=\"1127\" dy=\"-1.3em\">&#954; = 12, T = 122</tspan></text></svg>"
      ],
      "text/plain": [
       "<interarray.svg.SvgRepr at 0x27b1f4e7170>"
      ]
     },
     "execution_count": 5,
     "metadata": {},
     "output_type": "execute_result"
    }
   ],
   "source": [
    "svgplot(G_ref)"
   ]
  },
  {
   "cell_type": "markdown",
   "id": "8308f53d-4b45-4c3d-9b71-26ff4b4ef519",
   "metadata": {
    "deletable": true,
    "editable": true,
    "frozen": false
   },
   "source": [
    "## Start here"
   ]
  },
  {
   "cell_type": "code",
   "execution_count": 6,
   "id": "ed9067bb-250e-4a1a-981b-f586bc7f5985",
   "metadata": {},
   "outputs": [],
   "source": [
    "L = L_from_yaml(files('interarray.data') / 'Taylor-2023.yaml')"
   ]
  },
  {
   "cell_type": "code",
   "execution_count": 7,
   "id": "b6fab52e-aa7a-4b9b-bedd-9735db54e982",
   "metadata": {},
   "outputs": [
    {
     "data": {
      "image/svg+xml": [
       "<svg xmlns=\"http://www.w3.org/2000/svg\" viewBox=\"0 0 1920 1080\"><defs ><filter x=\"-5%\" y=\"-5%\" id=\"bg_textbox\" width=\"110%\" height=\"110%\"><feFlood flood-opacity=\"0.7\" flood-color=\"#111\" result=\"bg\"/><feMerge ><feMergeNode in=\"bg\"/><feMergeNode in=\"SourceGraphic\"/></feMerge></filter><circle stroke=\"none\" stroke-width=\"2\" id=\"wtg\" r=\"12\"/><rect stroke=\"none\" stroke-width=\"2\" id=\"oss\" width=\"21\" height=\"21\" fill=\"lawngreen\"/></defs><g ><path stroke=\"silver\" stroke-dasharray=\"15 7\" stroke-width=\"2\" id=\"border\" d=\"M30 544 291 1050 724 822 735 817 973 679 944 712 760 833 1080 1050 1127 561 1037 146 737 30 59 297z M758 253 757 354 724 378 645 314 603 289 676 233z\" fill-rule=\"evenodd\" fill=\"#111\"/><g id=\"WTGgrp\"><g fill=\"#9edae5\"><use href=\"#wtg\" x=\"1091\" y=\"849\"/><use href=\"#wtg\" x=\"1066\" y=\"921\"/><use href=\"#wtg\" x=\"1033\" y=\"1000\"/><use href=\"#wtg\" x=\"1115\" y=\"594\"/><use href=\"#wtg\" x=\"1090\" y=\"665\"/><use href=\"#wtg\" x=\"1057\" y=\"741\"/><use href=\"#wtg\" x=\"1023\" y=\"812\"/><use href=\"#wtg\" x=\"984\" y=\"888\"/><use href=\"#wtg\" x=\"957\" y=\"962\"/><use href=\"#wtg\" x=\"1080\" y=\"482\"/><use href=\"#wtg\" x=\"1048\" y=\"556\"/><use href=\"#wtg\" x=\"1014\" y=\"631\"/><use href=\"#wtg\" x=\"981\" y=\"706\"/><use href=\"#wtg\" x=\"944\" y=\"776\"/><use href=\"#wtg\" x=\"911\" y=\"856\"/><use href=\"#wtg\" x=\"1063\" y=\"302\"/><use href=\"#wtg\" x=\"1038\" y=\"377\"/><use href=\"#wtg\" x=\"1006\" y=\"450\"/><use href=\"#wtg\" x=\"972\" y=\"524\"/><use href=\"#wtg\" x=\"940\" y=\"600\"/><use href=\"#wtg\" x=\"905\" y=\"675\"/><use href=\"#wtg\" x=\"841\" y=\"824\"/><use href=\"#wtg\" x=\"1029\" y=\"190\"/><use href=\"#wtg\" x=\"997\" y=\"265\"/><use href=\"#wtg\" x=\"962\" y=\"338\"/><use href=\"#wtg\" x=\"930\" y=\"412\"/><use href=\"#wtg\" x=\"899\" y=\"485\"/><use href=\"#wtg\" x=\"869\" y=\"562\"/><use href=\"#wtg\" x=\"836\" y=\"638\"/><use href=\"#wtg\" x=\"804\" y=\"712\"/><use href=\"#wtg\" x=\"770\" y=\"788\"/><use href=\"#wtg\" x=\"955\" y=\"155\"/><use href=\"#wtg\" x=\"921\" y=\"231\"/><use href=\"#wtg\" x=\"885\" y=\"305\"/><use href=\"#wtg\" x=\"852\" y=\"380\"/><use href=\"#wtg\" x=\"823\" y=\"456\"/><use href=\"#wtg\" x=\"793\" y=\"530\"/><use href=\"#wtg\" x=\"760\" y=\"605\"/><use href=\"#wtg\" x=\"727\" y=\"680\"/><use href=\"#wtg\" x=\"698\" y=\"751\"/><use href=\"#wtg\" x=\"664\" y=\"826\"/><use href=\"#wtg\" x=\"881\" y=\"119\"/><use href=\"#wtg\" x=\"846\" y=\"194\"/><use href=\"#wtg\" x=\"809\" y=\"270\"/><use href=\"#wtg\" x=\"779\" y=\"340\"/><use href=\"#wtg\" x=\"751\" y=\"414\"/><use href=\"#wtg\" x=\"721\" y=\"490\"/><use href=\"#wtg\" x=\"688\" y=\"564\"/><use href=\"#wtg\" x=\"655\" y=\"638\"/><use href=\"#wtg\" x=\"625\" y=\"715\"/><use href=\"#wtg\" x=\"592\" y=\"792\"/><use href=\"#wtg\" x=\"559\" y=\"867\"/><use href=\"#wtg\" x=\"806\" y=\"84\"/><use href=\"#wtg\" x=\"771\" y=\"162\"/><use href=\"#wtg\" x=\"737\" y=\"239\"/><use href=\"#wtg\" x=\"677\" y=\"380\"/><use href=\"#wtg\" x=\"646\" y=\"456\"/><use href=\"#wtg\" x=\"614\" y=\"530\"/><use href=\"#wtg\" x=\"579\" y=\"604\"/><use href=\"#wtg\" x=\"552\" y=\"680\"/><use href=\"#wtg\" x=\"517\" y=\"754\"/><use href=\"#wtg\" x=\"487\" y=\"830\"/><use href=\"#wtg\" x=\"455\" y=\"904\"/><use href=\"#wtg\" x=\"415\" y=\"975\"/><use href=\"#wtg\" x=\"731\" y=\"49\"/><use href=\"#wtg\" x=\"698\" y=\"122\"/><use href=\"#wtg\" x=\"666\" y=\"206\"/><use href=\"#wtg\" x=\"605\" y=\"348\"/><use href=\"#wtg\" x=\"574\" y=\"423\"/><use href=\"#wtg\" x=\"539\" y=\"499\"/><use href=\"#wtg\" x=\"504\" y=\"572\"/><use href=\"#wtg\" x=\"477\" y=\"647\"/><use href=\"#wtg\" x=\"441\" y=\"721\"/><use href=\"#wtg\" x=\"411\" y=\"797\"/><use href=\"#wtg\" x=\"378\" y=\"869\"/><use href=\"#wtg\" x=\"343\" y=\"947\"/><use href=\"#wtg\" x=\"311\" y=\"1021\"/><use href=\"#wtg\" x=\"623\" y=\"88\"/><use href=\"#wtg\" x=\"593\" y=\"163\"/><use href=\"#wtg\" x=\"564\" y=\"241\"/><use href=\"#wtg\" x=\"532\" y=\"315\"/><use href=\"#wtg\" x=\"498\" y=\"388\"/><use href=\"#wtg\" x=\"464\" y=\"460\"/><use href=\"#wtg\" x=\"433\" y=\"536\"/><use href=\"#wtg\" x=\"403\" y=\"611\"/><use href=\"#wtg\" x=\"368\" y=\"684\"/><use href=\"#wtg\" x=\"338\" y=\"759\"/><use href=\"#wtg\" x=\"302\" y=\"835\"/><use href=\"#wtg\" x=\"268\" y=\"909\"/><use href=\"#wtg\" x=\"517\" y=\"127\"/><use href=\"#wtg\" x=\"488\" y=\"202\"/><use href=\"#wtg\" x=\"458\" y=\"278\"/><use href=\"#wtg\" x=\"424\" y=\"350\"/><use href=\"#wtg\" x=\"391\" y=\"425\"/><use href=\"#wtg\" x=\"359\" y=\"500\"/><use href=\"#wtg\" x=\"328\" y=\"575\"/><use href=\"#wtg\" x=\"296\" y=\"649\"/><use href=\"#wtg\" x=\"261\" y=\"726\"/><use href=\"#wtg\" x=\"228\" y=\"803\"/><use href=\"#wtg\" x=\"412\" y=\"167\"/><use href=\"#wtg\" x=\"382\" y=\"241\"/><use href=\"#wtg\" x=\"350\" y=\"316\"/><use href=\"#wtg\" x=\"316\" y=\"390\"/><use href=\"#wtg\" x=\"287\" y=\"466\"/><use href=\"#wtg\" x=\"253\" y=\"541\"/><use href=\"#wtg\" x=\"221\" y=\"616\"/><use href=\"#wtg\" x=\"184\" y=\"690\"/><use href=\"#wtg\" x=\"154\" y=\"766\"/><use href=\"#wtg\" x=\"306\" y=\"209\"/><use href=\"#wtg\" x=\"276\" y=\"282\"/><use href=\"#wtg\" x=\"241\" y=\"360\"/><use href=\"#wtg\" x=\"209\" y=\"434\"/><use href=\"#wtg\" x=\"176\" y=\"509\"/><use href=\"#wtg\" x=\"144\" y=\"581\"/><use href=\"#wtg\" x=\"111\" y=\"656\"/><use href=\"#wtg\" x=\"201\" y=\"250\"/><use href=\"#wtg\" x=\"170\" y=\"320\"/><use href=\"#wtg\" x=\"133\" y=\"399\"/><use href=\"#wtg\" x=\"101\" y=\"471\"/><use href=\"#wtg\" x=\"68\" y=\"548\"/><use href=\"#wtg\" x=\"96\" y=\"292\"/><use href=\"#wtg\" x=\"62\" y=\"364\"/></g></g><g id=\"OSSgrp\"><use href=\"#oss\" x=\"740.5\" y=\"747.5\"/><use href=\"#oss\" x=\"465.5\" y=\"329.5\"/></g></g></svg>"
      ],
      "text/plain": [
       "<interarray.svg.SvgRepr at 0x27b1f7a6e40>"
      ]
     },
     "execution_count": 7,
     "metadata": {},
     "output_type": "execute_result"
    }
   ],
   "source": [
    "svgplot(L)"
   ]
  },
  {
   "cell_type": "code",
   "execution_count": 8,
   "id": "d2ae9456-39d5-41c9-9677-d3a280301142",
   "metadata": {},
   "outputs": [],
   "source": [
    "P, A = make_planar_embedding(L)"
   ]
  },
  {
   "cell_type": "code",
   "execution_count": 9,
   "id": "e5f363b2-9bd7-401a-a3d1-ec7d2104ac32",
   "metadata": {},
   "outputs": [],
   "source": [
    "Sʹ = EW_presolver(A, 12)"
   ]
  },
  {
   "cell_type": "code",
   "execution_count": 10,
   "id": "f86b15bc-08d9-4df8-9e25-307c385735a4",
   "metadata": {},
   "outputs": [],
   "source": [
    "Gʹ = G_from_S(Sʹ, A)"
   ]
  },
  {
   "cell_type": "code",
   "execution_count": 11,
   "id": "ebda5bc7-f34b-441e-9d7b-ece1045270e3",
   "metadata": {},
   "outputs": [],
   "source": [
    "Hʹ = PathFinder(Gʹ, planar=P, A=A).create_detours()"
   ]
  },
  {
   "cell_type": "code",
   "execution_count": 12,
   "id": "78bb3327-0d08-4e31-b762-0aa47bd62561",
   "metadata": {},
   "outputs": [
    {
     "data": {
      "image/svg+xml": [
       "<svg xmlns=\"http://www.w3.org/2000/svg\" viewBox=\"0 0 1920 1080\"><defs ><filter x=\"-5%\" y=\"-5%\" id=\"bg_textbox\" width=\"110%\" height=\"110%\"><feFlood flood-opacity=\"0.7\" flood-color=\"#111\" result=\"bg\"/><feMerge ><feMergeNode in=\"bg\"/><feMergeNode in=\"SourceGraphic\"/></feMerge></filter><circle stroke=\"none\" stroke-width=\"2\" id=\"wtg\" r=\"12\"/><rect stroke=\"none\" stroke-width=\"2\" id=\"oss\" width=\"21\" height=\"21\" fill=\"lawngreen\"/><circle stroke=\"orange\" stroke-opacity=\"0.3\" stroke-width=\"4\" id=\"dt\" r=\"23\" fill=\"none\"/></defs><g ><path stroke=\"silver\" stroke-dasharray=\"15 7\" stroke-width=\"2\" id=\"border\" d=\"M30 544 291 1050 724 822 735 817 973 679 944 712 760 833 1080 1050 1127 561 1037 146 737 30 59 297z M758 253 757 354 724 378 645 314 603 289 676 233z\" fill-rule=\"evenodd\" fill=\"#111\"/><g stroke=\"crimson\" stroke-width=\"4\" id=\"edges_unspecified\"><line x1=\"605\" y1=\"348\" x2=\"574\" y2=\"423\"/><line x1=\"605\" y1=\"348\" x2=\"532\" y2=\"315\"/><line x1=\"476\" y1=\"340\" x2=\"532\" y2=\"315\"/><line x1=\"476\" y1=\"340\" x2=\"458\" y2=\"278\"/><line x1=\"476\" y1=\"340\" x2=\"391\" y2=\"425\"/><line x1=\"476\" y1=\"340\" x2=\"498\" y2=\"388\"/><line x1=\"476\" y1=\"340\" x2=\"424\" y2=\"350\"/><line x1=\"476\" y1=\"340\" x2=\"350\" y2=\"316\"/><line x1=\"646\" y1=\"456\" x2=\"574\" y2=\"423\"/><line x1=\"412\" y1=\"167\" x2=\"382\" y2=\"241\"/><line x1=\"382\" y1=\"241\" x2=\"350\" y2=\"316\"/><line x1=\"1006\" y1=\"450\" x2=\"972\" y2=\"524\"/><line x1=\"751\" y1=\"758\" x2=\"698\" y2=\"751\"/><line x1=\"751\" y1=\"758\" x2=\"804\" y2=\"712\"/><line x1=\"751\" y1=\"758\" x2=\"727\" y2=\"680\"/><line x1=\"751\" y1=\"758\" x2=\"770\" y2=\"788\"/><line x1=\"751\" y1=\"758\" x2=\"836\" y2=\"638\"/><line x1=\"751\" y1=\"758\" x2=\"905\" y2=\"675\"/><line x1=\"930\" y1=\"412\" x2=\"899\" y2=\"485\"/><line x1=\"899\" y1=\"485\" x2=\"869\" y2=\"562\"/><line x1=\"343\" y1=\"947\" x2=\"311\" y2=\"1021\"/><line x1=\"184\" y1=\"690\" x2=\"154\" y2=\"766\"/><line x1=\"1091\" y1=\"849\" x2=\"1023\" y2=\"812\"/><line x1=\"1091\" y1=\"849\" x2=\"1066\" y2=\"921\"/><line x1=\"1057\" y1=\"741\" x2=\"981\" y2=\"706\"/><line x1=\"1057\" y1=\"741\" x2=\"1023\" y2=\"812\"/><line x1=\"698\" y1=\"751\" x2=\"664\" y2=\"826\"/><line x1=\"592\" y1=\"792\" x2=\"559\" y2=\"867\"/><line x1=\"350\" y1=\"316\" x2=\"276\" y2=\"282\"/><line x1=\"881\" y1=\"119\" x2=\"846\" y2=\"194\"/><line x1=\"955\" y1=\"155\" x2=\"881\" y2=\"119\"/><line x1=\"921\" y1=\"231\" x2=\"846\" y2=\"194\"/><line x1=\"846\" y1=\"194\" x2=\"771\" y2=\"162\"/><line x1=\"411\" y1=\"797\" x2=\"378\" y2=\"869\"/><line x1=\"487\" y1=\"830\" x2=\"411\" y2=\"797\"/><line x1=\"378\" y1=\"869\" x2=\"302\" y2=\"835\"/><line x1=\"487\" y1=\"830\" x2=\"455\" y2=\"904\"/><line x1=\"455\" y1=\"904\" x2=\"415\" y2=\"975\"/><line x1=\"962\" y1=\"338\" x2=\"930\" y2=\"412\"/><line x1=\"885\" y1=\"305\" x2=\"852\" y2=\"380\"/><line x1=\"852\" y1=\"380\" x2=\"823\" y2=\"456\"/><line x1=\"564\" y1=\"241\" x2=\"532\" y2=\"315\"/><line x1=\"1115\" y1=\"594\" x2=\"1048\" y2=\"556\"/><line x1=\"1115\" y1=\"594\" x2=\"1090\" y2=\"665\"/><line x1=\"1063\" y1=\"302\" x2=\"997\" y2=\"265\"/><line x1=\"1063\" y1=\"302\" x2=\"1038\" y2=\"377\"/><line x1=\"415\" y1=\"975\" x2=\"343\" y2=\"947\"/><line x1=\"287\" y1=\"466\" x2=\"253\" y2=\"541\"/><line x1=\"359\" y1=\"500\" x2=\"287\" y2=\"466\"/><line x1=\"241\" y1=\"360\" x2=\"209\" y2=\"434\"/><line x1=\"209\" y1=\"434\" x2=\"176\" y2=\"509\"/><line x1=\"184\" y1=\"690\" x2=\"111\" y2=\"656\"/><line x1=\"1038\" y1=\"377\" x2=\"1006\" y2=\"450\"/><line x1=\"688\" y1=\"564\" x2=\"655\" y2=\"638\"/><line x1=\"721\" y1=\"490\" x2=\"688\" y2=\"564\"/><line x1=\"727\" y1=\"680\" x2=\"655\" y2=\"638\"/><line x1=\"614\" y1=\"530\" x2=\"539\" y2=\"499\"/><line x1=\"698\" y1=\"751\" x2=\"625\" y2=\"715\"/><line x1=\"625\" y1=\"715\" x2=\"552\" y2=\"680\"/><line x1=\"498\" y1=\"388\" x2=\"464\" y2=\"460\"/><line x1=\"579\" y1=\"604\" x2=\"552\" y2=\"680\"/><line x1=\"424\" y1=\"350\" x2=\"316\" y2=\"390\"/><line x1=\"464\" y1=\"460\" x2=\"433\" y2=\"536\"/><line x1=\"302\" y1=\"835\" x2=\"228\" y2=\"803\"/><line x1=\"302\" y1=\"835\" x2=\"268\" y2=\"909\"/><line x1=\"1080\" y1=\"482\" x2=\"1048\" y2=\"556\"/><line x1=\"1048\" y1=\"556\" x2=\"1014\" y2=\"631\"/><line x1=\"1029\" y1=\"190\" x2=\"955\" y2=\"155\"/><line x1=\"751\" y1=\"414\" x2=\"677\" y2=\"380\"/><line x1=\"306\" y1=\"209\" x2=\"276\" y2=\"282\"/><line x1=\"623\" y1=\"88\" x2=\"593\" y2=\"163\"/><line x1=\"698\" y1=\"122\" x2=\"623\" y2=\"88\"/><line x1=\"517\" y1=\"127\" x2=\"488\" y2=\"202\"/><line x1=\"176\" y1=\"509\" x2=\"144\" y2=\"581\"/><line x1=\"144\" y1=\"581\" x2=\"111\" y2=\"656\"/><line x1=\"101\" y1=\"471\" x2=\"68\" y2=\"548\"/><line x1=\"1080\" y1=\"482\" x2=\"1006\" y2=\"450\"/><line x1=\"488\" y1=\"202\" x2=\"458\" y2=\"278\"/><line x1=\"316\" y1=\"390\" x2=\"241\" y2=\"360\"/><line x1=\"276\" y1=\"282\" x2=\"201\" y2=\"250\"/><line x1=\"559\" y1=\"867\" x2=\"487\" y2=\"830\"/><line x1=\"823\" y1=\"456\" x2=\"793\" y2=\"530\"/><line x1=\"133\" y1=\"399\" x2=\"62\" y2=\"364\"/><line x1=\"133\" y1=\"399\" x2=\"101\" y2=\"471\"/><line x1=\"96\" y1=\"292\" x2=\"62\" y2=\"364\"/><line x1=\"793\" y1=\"530\" x2=\"760\" y2=\"605\"/><line x1=\"552\" y1=\"680\" x2=\"477\" y2=\"647\"/><line x1=\"940\" y1=\"600\" x2=\"804\" y2=\"712\"/><line x1=\"760\" y1=\"605\" x2=\"727\" y2=\"680\"/><line x1=\"911\" y1=\"856\" x2=\"841\" y2=\"824\"/><line x1=\"1066\" y1=\"921\" x2=\"1033\" y2=\"1000\"/><line x1=\"984\" y1=\"888\" x2=\"957\" y2=\"962\"/><line x1=\"771\" y1=\"162\" x2=\"737\" y2=\"239\"/><line x1=\"737\" y1=\"239\" x2=\"666\" y2=\"206\"/><line x1=\"809\" y1=\"270\" x2=\"737\" y2=\"239\"/><line x1=\"809\" y1=\"270\" x2=\"779\" y2=\"340\"/><line x1=\"296\" y1=\"649\" x2=\"261\" y2=\"726\"/><line x1=\"869\" y1=\"562\" x2=\"836\" y2=\"638\"/><line x1=\"731\" y1=\"49\" x2=\"698\" y2=\"122\"/><line x1=\"593\" y1=\"163\" x2=\"564\" y2=\"241\"/><line x1=\"170\" y1=\"320\" x2=\"96\" y2=\"292\"/><line x1=\"433\" y1=\"536\" x2=\"403\" y2=\"611\"/><line x1=\"504\" y1=\"572\" x2=\"433\" y2=\"536\"/><line x1=\"359\" y1=\"500\" x2=\"328\" y2=\"575\"/><line x1=\"328\" y1=\"575\" x2=\"296\" y2=\"649\"/><line x1=\"391\" y1=\"425\" x2=\"359\" y2=\"500\"/><line x1=\"253\" y1=\"541\" x2=\"221\" y2=\"616\"/><line x1=\"517\" y1=\"754\" x2=\"441\" y2=\"721\"/><line x1=\"403\" y1=\"611\" x2=\"368\" y2=\"684\"/><line x1=\"368\" y1=\"684\" x2=\"338\" y2=\"759\"/><line x1=\"779\" y1=\"340\" x2=\"751\" y2=\"414\"/><line x1=\"539\" y1=\"499\" x2=\"504\" y2=\"572\"/><line x1=\"201\" y1=\"250\" x2=\"170\" y2=\"320\"/><line x1=\"1014\" y1=\"631\" x2=\"940\" y2=\"600\"/><line x1=\"552\" y1=\"680\" x2=\"517\" y2=\"754\"/><line x1=\"981\" y1=\"706\" x2=\"944\" y2=\"776\"/><line x1=\"944\" y1=\"776\" x2=\"911\" y2=\"856\"/><line x1=\"806\" y1=\"84\" x2=\"731\" y2=\"49\"/><line x1=\"984\" y1=\"888\" x2=\"911\" y2=\"856\"/></g><g stroke=\"red\" stroke-width=\"4\" id=\"edges_contour\"><line x1=\"905\" y1=\"675\" x2=\"973\" y2=\"679\"/><line x1=\"981\" y1=\"706\" x2=\"973\" y2=\"679\"/></g><g stroke=\"darkorange\" stroke-dasharray=\"18 15\" stroke-width=\"4\" id=\"detours\" fill=\"none\"><polyline points=\"751 758 664 826 592 792\"/><polyline points=\"476 340 574 423 646 456 677 380\"/></g><g id=\"DTgrp\"><use href=\"#dt\" x=\"646\" y=\"456\"/><use href=\"#dt\" x=\"574\" y=\"423\"/><use href=\"#dt\" x=\"664\" y=\"826\"/></g><g id=\"WTGgrp\"><g fill=\"#9467bd\"><use href=\"#wtg\" x=\"605\" y=\"348\"/><use href=\"#wtg\" x=\"574\" y=\"423\"/><use href=\"#wtg\" x=\"532\" y=\"315\"/><use href=\"#wtg\" x=\"646\" y=\"456\"/><use href=\"#wtg\" x=\"623\" y=\"88\"/><use href=\"#wtg\" x=\"698\" y=\"122\"/><use href=\"#wtg\" x=\"593\" y=\"163\"/><use href=\"#wtg\" x=\"806\" y=\"84\"/><use href=\"#wtg\" x=\"564\" y=\"241\"/><use href=\"#wtg\" x=\"731\" y=\"49\"/></g><g fill=\"#ff9896\"><use href=\"#wtg\" x=\"412\" y=\"167\"/><use href=\"#wtg\" x=\"382\" y=\"241\"/><use href=\"#wtg\" x=\"350\" y=\"316\"/><use href=\"#wtg\" x=\"306\" y=\"209\"/><use href=\"#wtg\" x=\"68\" y=\"548\"/><use href=\"#wtg\" x=\"276\" y=\"282\"/><use href=\"#wtg\" x=\"133\" y=\"399\"/><use href=\"#wtg\" x=\"62\" y=\"364\"/><use href=\"#wtg\" x=\"96\" y=\"292\"/><use href=\"#wtg\" x=\"170\" y=\"320\"/><use href=\"#wtg\" x=\"201\" y=\"250\"/><use href=\"#wtg\" x=\"101\" y=\"471\"/></g><g fill=\"#ff7f0e\"><use href=\"#wtg\" x=\"972\" y=\"524\"/><use href=\"#wtg\" x=\"1115\" y=\"594\"/><use href=\"#wtg\" x=\"1063\" y=\"302\"/><use href=\"#wtg\" x=\"1038\" y=\"377\"/><use href=\"#wtg\" x=\"1048\" y=\"556\"/><use href=\"#wtg\" x=\"997\" y=\"265\"/><use href=\"#wtg\" x=\"1006\" y=\"450\"/><use href=\"#wtg\" x=\"804\" y=\"712\"/><use href=\"#wtg\" x=\"1080\" y=\"482\"/><use href=\"#wtg\" x=\"1090\" y=\"665\"/><use href=\"#wtg\" x=\"1014\" y=\"631\"/><use href=\"#wtg\" x=\"940\" y=\"600\"/></g><g fill=\"#2ca02c\"><use href=\"#wtg\" x=\"899\" y=\"485\"/><use href=\"#wtg\" x=\"930\" y=\"412\"/><use href=\"#wtg\" x=\"962\" y=\"338\"/><use href=\"#wtg\" x=\"836\" y=\"638\"/><use href=\"#wtg\" x=\"869\" y=\"562\"/></g><g fill=\"#1f77b4\"><use href=\"#wtg\" x=\"311\" y=\"1021\"/><use href=\"#wtg\" x=\"592\" y=\"792\"/><use href=\"#wtg\" x=\"411\" y=\"797\"/><use href=\"#wtg\" x=\"378\" y=\"869\"/><use href=\"#wtg\" x=\"455\" y=\"904\"/><use href=\"#wtg\" x=\"343\" y=\"947\"/><use href=\"#wtg\" x=\"302\" y=\"835\"/><use href=\"#wtg\" x=\"228\" y=\"803\"/><use href=\"#wtg\" x=\"268\" y=\"909\"/><use href=\"#wtg\" x=\"559\" y=\"867\"/><use href=\"#wtg\" x=\"415\" y=\"975\"/><use href=\"#wtg\" x=\"487\" y=\"830\"/></g><g fill=\"#8c564b\"><use href=\"#wtg\" x=\"154\" y=\"766\"/><use href=\"#wtg\" x=\"209\" y=\"434\"/><use href=\"#wtg\" x=\"184\" y=\"690\"/><use href=\"#wtg\" x=\"424\" y=\"350\"/><use href=\"#wtg\" x=\"144\" y=\"581\"/><use href=\"#wtg\" x=\"316\" y=\"390\"/><use href=\"#wtg\" x=\"241\" y=\"360\"/><use href=\"#wtg\" x=\"111\" y=\"656\"/><use href=\"#wtg\" x=\"176\" y=\"509\"/></g><g fill=\"#d62728\"><use href=\"#wtg\" x=\"1091\" y=\"849\"/><use href=\"#wtg\" x=\"1057\" y=\"741\"/><use href=\"#wtg\" x=\"841\" y=\"824\"/><use href=\"#wtg\" x=\"1033\" y=\"1000\"/><use href=\"#wtg\" x=\"957\" y=\"962\"/><use href=\"#wtg\" x=\"905\" y=\"675\"/><use href=\"#wtg\" x=\"981\" y=\"706\"/><use href=\"#wtg\" x=\"1023\" y=\"812\"/><use href=\"#wtg\" x=\"944\" y=\"776\"/><use href=\"#wtg\" x=\"984\" y=\"888\"/><use href=\"#wtg\" x=\"911\" y=\"856\"/><use href=\"#wtg\" x=\"1066\" y=\"921\"/></g><g fill=\"#aec7e8\"><use href=\"#wtg\" x=\"664\" y=\"826\"/><use href=\"#wtg\" x=\"625\" y=\"715\"/><use href=\"#wtg\" x=\"579\" y=\"604\"/><use href=\"#wtg\" x=\"698\" y=\"751\"/><use href=\"#wtg\" x=\"477\" y=\"647\"/><use href=\"#wtg\" x=\"441\" y=\"721\"/><use href=\"#wtg\" x=\"517\" y=\"754\"/><use href=\"#wtg\" x=\"552\" y=\"680\"/></g><g fill=\"#c49c94\"><use href=\"#wtg\" x=\"881\" y=\"119\"/><use href=\"#wtg\" x=\"846\" y=\"194\"/><use href=\"#wtg\" x=\"1029\" y=\"190\"/><use href=\"#wtg\" x=\"921\" y=\"231\"/><use href=\"#wtg\" x=\"677\" y=\"380\"/><use href=\"#wtg\" x=\"737\" y=\"239\"/><use href=\"#wtg\" x=\"809\" y=\"270\"/><use href=\"#wtg\" x=\"751\" y=\"414\"/><use href=\"#wtg\" x=\"771\" y=\"162\"/><use href=\"#wtg\" x=\"779\" y=\"340\"/><use href=\"#wtg\" x=\"955\" y=\"155\"/><use href=\"#wtg\" x=\"666\" y=\"206\"/></g><g fill=\"#ffbb78\"><use href=\"#wtg\" x=\"852\" y=\"380\"/><use href=\"#wtg\" x=\"688\" y=\"564\"/><use href=\"#wtg\" x=\"655\" y=\"638\"/><use href=\"#wtg\" x=\"885\" y=\"305\"/><use href=\"#wtg\" x=\"823\" y=\"456\"/><use href=\"#wtg\" x=\"721\" y=\"490\"/><use href=\"#wtg\" x=\"793\" y=\"530\"/><use href=\"#wtg\" x=\"727\" y=\"680\"/><use href=\"#wtg\" x=\"760\" y=\"605\"/></g><g fill=\"#f7b6d2\"><use href=\"#wtg\" x=\"287\" y=\"466\"/><use href=\"#wtg\" x=\"261\" y=\"726\"/><use href=\"#wtg\" x=\"328\" y=\"575\"/><use href=\"#wtg\" x=\"359\" y=\"500\"/><use href=\"#wtg\" x=\"253\" y=\"541\"/><use href=\"#wtg\" x=\"296\" y=\"649\"/><use href=\"#wtg\" x=\"221\" y=\"616\"/><use href=\"#wtg\" x=\"391\" y=\"425\"/></g><g fill=\"#c5b0d5\"><use href=\"#wtg\" x=\"614\" y=\"530\"/><use href=\"#wtg\" x=\"498\" y=\"388\"/><use href=\"#wtg\" x=\"464\" y=\"460\"/><use href=\"#wtg\" x=\"433\" y=\"536\"/><use href=\"#wtg\" x=\"368\" y=\"684\"/><use href=\"#wtg\" x=\"403\" y=\"611\"/><use href=\"#wtg\" x=\"539\" y=\"499\"/><use href=\"#wtg\" x=\"504\" y=\"572\"/><use href=\"#wtg\" x=\"338\" y=\"759\"/></g><g fill=\"#e377c2\"><use href=\"#wtg\" x=\"517\" y=\"127\"/><use href=\"#wtg\" x=\"458\" y=\"278\"/><use href=\"#wtg\" x=\"488\" y=\"202\"/></g><g fill=\"#98df8a\"><use href=\"#wtg\" x=\"770\" y=\"788\"/></g></g><g id=\"OSSgrp\"><use href=\"#oss\" x=\"740.5\" y=\"747.5\"/><use href=\"#oss\" x=\"465.5\" y=\"329.5\"/></g></g><text stroke=\"#000\" stroke-width=\"0.01em\" text-anchor=\"end\" font-family=\"sans-serif\" font-size=\"40\" fill=\"white\" x=\"1127\" y=\"1050\"><tspan x=\"1127\" dy=\"-0.0em\">&#931;&#955; = 105984.0 m</tspan><tspan x=\"1127\" dy=\"-1.3em\">(+3) &#945;: 7, &#946;: 7</tspan><tspan x=\"1127\" dy=\"-1.3em\">&#954; = 12, T = 122</tspan></text></svg>"
      ],
      "text/plain": [
       "<interarray.svg.SvgRepr at 0x27b21ce7170>"
      ]
     },
     "execution_count": 12,
     "metadata": {},
     "output_type": "execute_result"
    }
   ],
   "source": [
    "svgplot(Hʹ)"
   ]
  },
  {
   "cell_type": "code",
   "execution_count": 13,
   "id": "da07d6bd-3a4d-43bb-97cd-b4f8823a753b",
   "metadata": {},
   "outputs": [],
   "source": [
    "Sʹ = hgs_multiroot(A, capacity=12, time_limit=0.5)"
   ]
  },
  {
   "cell_type": "code",
   "execution_count": 14,
   "id": "0dd2ed68-34c4-474e-875c-a2ac22fe8fc7",
   "metadata": {},
   "outputs": [
    {
     "data": {
      "text/plain": [
       "(0.19, 0.22)"
      ]
     },
     "execution_count": 14,
     "metadata": {},
     "output_type": "execute_result"
    }
   ],
   "source": [
    "Sʹ.graph['solution_time']"
   ]
  },
  {
   "cell_type": "code",
   "execution_count": 15,
   "id": "9d4d334a-a4bf-4c4b-84a2-8d85b231028f",
   "metadata": {},
   "outputs": [],
   "source": [
    "Gʹ = G_from_S(Sʹ, A)"
   ]
  },
  {
   "cell_type": "code",
   "execution_count": 16,
   "id": "f183ffad-4e86-4a3b-9341-eddd42f43995",
   "metadata": {},
   "outputs": [],
   "source": [
    "Hʹ = PathFinder(Gʹ, planar=P, A=A).create_detours()"
   ]
  },
  {
   "cell_type": "code",
   "execution_count": 17,
   "id": "b6a8053b-e74d-430a-9c13-cf478084d58f",
   "metadata": {},
   "outputs": [
    {
     "data": {
      "image/svg+xml": [
       "<svg xmlns=\"http://www.w3.org/2000/svg\" viewBox=\"0 0 1920 1080\"><defs ><filter x=\"-5%\" y=\"-5%\" id=\"bg_textbox\" width=\"110%\" height=\"110%\"><feFlood flood-opacity=\"0.7\" flood-color=\"#111\" result=\"bg\"/><feMerge ><feMergeNode in=\"bg\"/><feMergeNode in=\"SourceGraphic\"/></feMerge></filter><circle stroke=\"none\" stroke-width=\"2\" id=\"wtg\" r=\"12\"/><rect stroke=\"none\" stroke-width=\"2\" id=\"oss\" width=\"21\" height=\"21\" fill=\"lawngreen\"/></defs><g ><path stroke=\"silver\" stroke-dasharray=\"15 7\" stroke-width=\"2\" id=\"border\" d=\"M30 544 291 1050 724 822 735 817 973 679 944 712 760 833 1080 1050 1127 561 1037 146 737 30 59 297z M758 253 757 354 724 378 645 314 603 289 676 233z\" fill-rule=\"evenodd\" fill=\"#111\"/><g stroke=\"crimson\" stroke-width=\"4\" id=\"edges_unspecified\"><line x1=\"655\" y1=\"638\" x2=\"579\" y2=\"604\"/><line x1=\"751\" y1=\"758\" x2=\"655\" y2=\"638\"/><line x1=\"614\" y1=\"530\" x2=\"579\" y2=\"604\"/><line x1=\"688\" y1=\"564\" x2=\"614\" y2=\"530\"/><line x1=\"721\" y1=\"490\" x2=\"688\" y2=\"564\"/><line x1=\"751\" y1=\"758\" x2=\"698\" y2=\"751\"/><line x1=\"751\" y1=\"758\" x2=\"804\" y2=\"712\"/><line x1=\"751\" y1=\"758\" x2=\"727\" y2=\"680\"/><line x1=\"751\" y1=\"758\" x2=\"770\" y2=\"788\"/><line x1=\"751\" y1=\"758\" x2=\"905\" y2=\"675\"/><line x1=\"698\" y1=\"751\" x2=\"625\" y2=\"715\"/><line x1=\"625\" y1=\"715\" x2=\"552\" y2=\"680\"/><line x1=\"552\" y1=\"680\" x2=\"477\" y2=\"647\"/><line x1=\"477\" y1=\"647\" x2=\"441\" y2=\"721\"/><line x1=\"441\" y1=\"721\" x2=\"368\" y2=\"684\"/><line x1=\"368\" y1=\"684\" x2=\"338\" y2=\"759\"/><line x1=\"411\" y1=\"797\" x2=\"338\" y2=\"759\"/><line x1=\"411\" y1=\"797\" x2=\"378\" y2=\"869\"/><line x1=\"378\" y1=\"869\" x2=\"302\" y2=\"835\"/><line x1=\"302\" y1=\"835\" x2=\"228\" y2=\"803\"/><line x1=\"268\" y1=\"909\" x2=\"228\" y2=\"803\"/><line x1=\"770\" y1=\"788\" x2=\"664\" y2=\"826\"/><line x1=\"664\" y1=\"826\" x2=\"592\" y2=\"792\"/><line x1=\"592\" y1=\"792\" x2=\"517\" y2=\"754\"/><line x1=\"517\" y1=\"754\" x2=\"487\" y2=\"830\"/><line x1=\"559\" y1=\"867\" x2=\"487\" y2=\"830\"/><line x1=\"559\" y1=\"867\" x2=\"455\" y2=\"904\"/><line x1=\"455\" y1=\"904\" x2=\"415\" y2=\"975\"/><line x1=\"415\" y1=\"975\" x2=\"343\" y2=\"947\"/><line x1=\"343\" y1=\"947\" x2=\"311\" y2=\"1021\"/><line x1=\"940\" y1=\"600\" x2=\"905\" y2=\"675\"/><line x1=\"1014\" y1=\"631\" x2=\"940\" y2=\"600\"/><line x1=\"1014\" y1=\"631\" x2=\"981\" y2=\"706\"/><line x1=\"981\" y1=\"706\" x2=\"944\" y2=\"776\"/><line x1=\"944\" y1=\"776\" x2=\"841\" y2=\"824\"/><line x1=\"911\" y1=\"856\" x2=\"841\" y2=\"824\"/><line x1=\"984\" y1=\"888\" x2=\"911\" y2=\"856\"/><line x1=\"984\" y1=\"888\" x2=\"957\" y2=\"962\"/><line x1=\"1033\" y1=\"1000\" x2=\"957\" y2=\"962\"/><line x1=\"1066\" y1=\"921\" x2=\"1033\" y2=\"1000\"/><line x1=\"1091\" y1=\"849\" x2=\"1066\" y2=\"921\"/><line x1=\"836\" y1=\"638\" x2=\"804\" y2=\"712\"/><line x1=\"869\" y1=\"562\" x2=\"836\" y2=\"638\"/><line x1=\"899\" y1=\"485\" x2=\"869\" y2=\"562\"/><line x1=\"972\" y1=\"524\" x2=\"899\" y2=\"485\"/><line x1=\"1006\" y1=\"450\" x2=\"972\" y2=\"524\"/><line x1=\"1080\" y1=\"482\" x2=\"1006\" y2=\"450\"/><line x1=\"1080\" y1=\"482\" x2=\"1048\" y2=\"556\"/><line x1=\"1115\" y1=\"594\" x2=\"1048\" y2=\"556\"/><line x1=\"1115\" y1=\"594\" x2=\"1090\" y2=\"665\"/><line x1=\"1090\" y1=\"665\" x2=\"1057\" y2=\"741\"/><line x1=\"1057\" y1=\"741\" x2=\"1023\" y2=\"812\"/><line x1=\"760\" y1=\"605\" x2=\"727\" y2=\"680\"/><line x1=\"793\" y1=\"530\" x2=\"760\" y2=\"605\"/><line x1=\"823\" y1=\"456\" x2=\"793\" y2=\"530\"/><line x1=\"852\" y1=\"380\" x2=\"823\" y2=\"456\"/><line x1=\"930\" y1=\"412\" x2=\"852\" y2=\"380\"/><line x1=\"962\" y1=\"338\" x2=\"930\" y2=\"412\"/><line x1=\"1038\" y1=\"377\" x2=\"962\" y2=\"338\"/><line x1=\"1063\" y1=\"302\" x2=\"1038\" y2=\"377\"/><line x1=\"1063\" y1=\"302\" x2=\"997\" y2=\"265\"/><line x1=\"1029\" y1=\"190\" x2=\"997\" y2=\"265\"/><line x1=\"476\" y1=\"340\" x2=\"458\" y2=\"278\"/><line x1=\"458\" y1=\"278\" x2=\"382\" y2=\"241\"/><line x1=\"412\" y1=\"167\" x2=\"382\" y2=\"241\"/><line x1=\"412\" y1=\"167\" x2=\"306\" y2=\"209\"/><line x1=\"306\" y1=\"209\" x2=\"276\" y2=\"282\"/><line x1=\"276\" y1=\"282\" x2=\"201\" y2=\"250\"/><line x1=\"201\" y1=\"250\" x2=\"170\" y2=\"320\"/><line x1=\"170\" y1=\"320\" x2=\"96\" y2=\"292\"/><line x1=\"96\" y1=\"292\" x2=\"62\" y2=\"364\"/><line x1=\"133\" y1=\"399\" x2=\"62\" y2=\"364\"/><line x1=\"133\" y1=\"399\" x2=\"101\" y2=\"471\"/><line x1=\"101\" y1=\"471\" x2=\"68\" y2=\"548\"/><line x1=\"476\" y1=\"340\" x2=\"532\" y2=\"315\"/><line x1=\"476\" y1=\"340\" x2=\"498\" y2=\"388\"/><line x1=\"476\" y1=\"340\" x2=\"424\" y2=\"350\"/><line x1=\"476\" y1=\"340\" x2=\"605\" y2=\"348\"/><line x1=\"424\" y1=\"350\" x2=\"350\" y2=\"316\"/><line x1=\"350\" y1=\"316\" x2=\"316\" y2=\"390\"/><line x1=\"316\" y1=\"390\" x2=\"241\" y2=\"360\"/><line x1=\"241\" y1=\"360\" x2=\"209\" y2=\"434\"/><line x1=\"209\" y1=\"434\" x2=\"176\" y2=\"509\"/><line x1=\"176\" y1=\"509\" x2=\"144\" y2=\"581\"/><line x1=\"221\" y1=\"616\" x2=\"144\" y2=\"581\"/><line x1=\"253\" y1=\"541\" x2=\"221\" y2=\"616\"/><line x1=\"287\" y1=\"466\" x2=\"253\" y2=\"541\"/><line x1=\"359\" y1=\"500\" x2=\"287\" y2=\"466\"/><line x1=\"391\" y1=\"425\" x2=\"359\" y2=\"500\"/><line x1=\"498\" y1=\"388\" x2=\"464\" y2=\"460\"/><line x1=\"539\" y1=\"499\" x2=\"464\" y2=\"460\"/><line x1=\"539\" y1=\"499\" x2=\"504\" y2=\"572\"/><line x1=\"504\" y1=\"572\" x2=\"433\" y2=\"536\"/><line x1=\"433\" y1=\"536\" x2=\"403\" y2=\"611\"/><line x1=\"403\" y1=\"611\" x2=\"328\" y2=\"575\"/><line x1=\"328\" y1=\"575\" x2=\"296\" y2=\"649\"/><line x1=\"296\" y1=\"649\" x2=\"261\" y2=\"726\"/><line x1=\"261\" y1=\"726\" x2=\"154\" y2=\"766\"/><line x1=\"184\" y1=\"690\" x2=\"154\" y2=\"766\"/><line x1=\"184\" y1=\"690\" x2=\"111\" y2=\"656\"/><line x1=\"605\" y1=\"348\" x2=\"574\" y2=\"423\"/><line x1=\"646\" y1=\"456\" x2=\"574\" y2=\"423\"/><line x1=\"677\" y1=\"380\" x2=\"646\" y2=\"456\"/><line x1=\"751\" y1=\"414\" x2=\"677\" y2=\"380\"/><line x1=\"779\" y1=\"340\" x2=\"751\" y2=\"414\"/><line x1=\"809\" y1=\"270\" x2=\"779\" y2=\"340\"/><line x1=\"885\" y1=\"305\" x2=\"809\" y2=\"270\"/><line x1=\"921\" y1=\"231\" x2=\"885\" y2=\"305\"/><line x1=\"955\" y1=\"155\" x2=\"921\" y2=\"231\"/><line x1=\"955\" y1=\"155\" x2=\"881\" y2=\"119\"/><line x1=\"881\" y1=\"119\" x2=\"846\" y2=\"194\"/><line x1=\"564\" y1=\"241\" x2=\"532\" y2=\"315\"/><line x1=\"564\" y1=\"241\" x2=\"488\" y2=\"202\"/><line x1=\"517\" y1=\"127\" x2=\"488\" y2=\"202\"/><line x1=\"593\" y1=\"163\" x2=\"517\" y2=\"127\"/><line x1=\"623\" y1=\"88\" x2=\"593\" y2=\"163\"/><line x1=\"698\" y1=\"122\" x2=\"623\" y2=\"88\"/><line x1=\"731\" y1=\"49\" x2=\"698\" y2=\"122\"/><line x1=\"806\" y1=\"84\" x2=\"731\" y2=\"49\"/><line x1=\"806\" y1=\"84\" x2=\"771\" y2=\"162\"/><line x1=\"771\" y1=\"162\" x2=\"737\" y2=\"239\"/><line x1=\"737\" y1=\"239\" x2=\"666\" y2=\"206\"/></g><g id=\"WTGgrp\"><g fill=\"#1f77b4\"><use href=\"#wtg\" x=\"655\" y=\"638\"/><use href=\"#wtg\" x=\"579\" y=\"604\"/><use href=\"#wtg\" x=\"614\" y=\"530\"/><use href=\"#wtg\" x=\"688\" y=\"564\"/><use href=\"#wtg\" x=\"721\" y=\"490\"/></g><g fill=\"#aec7e8\"><use href=\"#wtg\" x=\"698\" y=\"751\"/><use href=\"#wtg\" x=\"625\" y=\"715\"/><use href=\"#wtg\" x=\"552\" y=\"680\"/><use href=\"#wtg\" x=\"477\" y=\"647\"/><use href=\"#wtg\" x=\"441\" y=\"721\"/><use href=\"#wtg\" x=\"368\" y=\"684\"/><use href=\"#wtg\" x=\"338\" y=\"759\"/><use href=\"#wtg\" x=\"411\" y=\"797\"/><use href=\"#wtg\" x=\"378\" y=\"869\"/><use href=\"#wtg\" x=\"302\" y=\"835\"/><use href=\"#wtg\" x=\"228\" y=\"803\"/><use href=\"#wtg\" x=\"268\" y=\"909\"/></g><g fill=\"#ff7f0e\"><use href=\"#wtg\" x=\"770\" y=\"788\"/><use href=\"#wtg\" x=\"664\" y=\"826\"/><use href=\"#wtg\" x=\"592\" y=\"792\"/><use href=\"#wtg\" x=\"517\" y=\"754\"/><use href=\"#wtg\" x=\"487\" y=\"830\"/><use href=\"#wtg\" x=\"559\" y=\"867\"/><use href=\"#wtg\" x=\"455\" y=\"904\"/><use href=\"#wtg\" x=\"415\" y=\"975\"/><use href=\"#wtg\" x=\"343\" y=\"947\"/><use href=\"#wtg\" x=\"311\" y=\"1021\"/></g><g fill=\"#ffbb78\"><use href=\"#wtg\" x=\"905\" y=\"675\"/><use href=\"#wtg\" x=\"940\" y=\"600\"/><use href=\"#wtg\" x=\"1014\" y=\"631\"/><use href=\"#wtg\" x=\"981\" y=\"706\"/><use href=\"#wtg\" x=\"944\" y=\"776\"/><use href=\"#wtg\" x=\"841\" y=\"824\"/><use href=\"#wtg\" x=\"911\" y=\"856\"/><use href=\"#wtg\" x=\"984\" y=\"888\"/><use href=\"#wtg\" x=\"957\" y=\"962\"/><use href=\"#wtg\" x=\"1033\" y=\"1000\"/><use href=\"#wtg\" x=\"1066\" y=\"921\"/><use href=\"#wtg\" x=\"1091\" y=\"849\"/></g><g fill=\"#2ca02c\"><use href=\"#wtg\" x=\"804\" y=\"712\"/><use href=\"#wtg\" x=\"836\" y=\"638\"/><use href=\"#wtg\" x=\"869\" y=\"562\"/><use href=\"#wtg\" x=\"899\" y=\"485\"/><use href=\"#wtg\" x=\"972\" y=\"524\"/><use href=\"#wtg\" x=\"1006\" y=\"450\"/><use href=\"#wtg\" x=\"1080\" y=\"482\"/><use href=\"#wtg\" x=\"1048\" y=\"556\"/><use href=\"#wtg\" x=\"1115\" y=\"594\"/><use href=\"#wtg\" x=\"1090\" y=\"665\"/><use href=\"#wtg\" x=\"1057\" y=\"741\"/><use href=\"#wtg\" x=\"1023\" y=\"812\"/></g><g fill=\"#98df8a\"><use href=\"#wtg\" x=\"727\" y=\"680\"/><use href=\"#wtg\" x=\"760\" y=\"605\"/><use href=\"#wtg\" x=\"793\" y=\"530\"/><use href=\"#wtg\" x=\"823\" y=\"456\"/><use href=\"#wtg\" x=\"852\" y=\"380\"/><use href=\"#wtg\" x=\"930\" y=\"412\"/><use href=\"#wtg\" x=\"962\" y=\"338\"/><use href=\"#wtg\" x=\"1038\" y=\"377\"/><use href=\"#wtg\" x=\"1063\" y=\"302\"/><use href=\"#wtg\" x=\"997\" y=\"265\"/><use href=\"#wtg\" x=\"1029\" y=\"190\"/></g><g fill=\"#d62728\"><use href=\"#wtg\" x=\"458\" y=\"278\"/><use href=\"#wtg\" x=\"382\" y=\"241\"/><use href=\"#wtg\" x=\"412\" y=\"167\"/><use href=\"#wtg\" x=\"306\" y=\"209\"/><use href=\"#wtg\" x=\"276\" y=\"282\"/><use href=\"#wtg\" x=\"201\" y=\"250\"/><use href=\"#wtg\" x=\"170\" y=\"320\"/><use href=\"#wtg\" x=\"96\" y=\"292\"/><use href=\"#wtg\" x=\"62\" y=\"364\"/><use href=\"#wtg\" x=\"133\" y=\"399\"/><use href=\"#wtg\" x=\"101\" y=\"471\"/><use href=\"#wtg\" x=\"68\" y=\"548\"/></g><g fill=\"#ff9896\"><use href=\"#wtg\" x=\"424\" y=\"350\"/><use href=\"#wtg\" x=\"350\" y=\"316\"/><use href=\"#wtg\" x=\"316\" y=\"390\"/><use href=\"#wtg\" x=\"241\" y=\"360\"/><use href=\"#wtg\" x=\"209\" y=\"434\"/><use href=\"#wtg\" x=\"176\" y=\"509\"/><use href=\"#wtg\" x=\"144\" y=\"581\"/><use href=\"#wtg\" x=\"221\" y=\"616\"/><use href=\"#wtg\" x=\"253\" y=\"541\"/><use href=\"#wtg\" x=\"287\" y=\"466\"/><use href=\"#wtg\" x=\"359\" y=\"500\"/><use href=\"#wtg\" x=\"391\" y=\"425\"/></g><g fill=\"#9467bd\"><use href=\"#wtg\" x=\"498\" y=\"388\"/><use href=\"#wtg\" x=\"464\" y=\"460\"/><use href=\"#wtg\" x=\"539\" y=\"499\"/><use href=\"#wtg\" x=\"504\" y=\"572\"/><use href=\"#wtg\" x=\"433\" y=\"536\"/><use href=\"#wtg\" x=\"403\" y=\"611\"/><use href=\"#wtg\" x=\"328\" y=\"575\"/><use href=\"#wtg\" x=\"296\" y=\"649\"/><use href=\"#wtg\" x=\"261\" y=\"726\"/><use href=\"#wtg\" x=\"154\" y=\"766\"/><use href=\"#wtg\" x=\"184\" y=\"690\"/><use href=\"#wtg\" x=\"111\" y=\"656\"/></g><g fill=\"#c5b0d5\"><use href=\"#wtg\" x=\"605\" y=\"348\"/><use href=\"#wtg\" x=\"574\" y=\"423\"/><use href=\"#wtg\" x=\"646\" y=\"456\"/><use href=\"#wtg\" x=\"677\" y=\"380\"/><use href=\"#wtg\" x=\"751\" y=\"414\"/><use href=\"#wtg\" x=\"779\" y=\"340\"/><use href=\"#wtg\" x=\"809\" y=\"270\"/><use href=\"#wtg\" x=\"885\" y=\"305\"/><use href=\"#wtg\" x=\"921\" y=\"231\"/><use href=\"#wtg\" x=\"955\" y=\"155\"/><use href=\"#wtg\" x=\"881\" y=\"119\"/><use href=\"#wtg\" x=\"846\" y=\"194\"/></g><g fill=\"#8c564b\"><use href=\"#wtg\" x=\"532\" y=\"315\"/><use href=\"#wtg\" x=\"564\" y=\"241\"/><use href=\"#wtg\" x=\"488\" y=\"202\"/><use href=\"#wtg\" x=\"517\" y=\"127\"/><use href=\"#wtg\" x=\"593\" y=\"163\"/><use href=\"#wtg\" x=\"623\" y=\"88\"/><use href=\"#wtg\" x=\"698\" y=\"122\"/><use href=\"#wtg\" x=\"731\" y=\"49\"/><use href=\"#wtg\" x=\"806\" y=\"84\"/><use href=\"#wtg\" x=\"771\" y=\"162\"/><use href=\"#wtg\" x=\"737\" y=\"239\"/><use href=\"#wtg\" x=\"666\" y=\"206\"/></g></g><g id=\"OSSgrp\"><use href=\"#oss\" x=\"740.5\" y=\"747.5\"/><use href=\"#oss\" x=\"465.5\" y=\"329.5\"/></g></g><text stroke=\"#000\" stroke-width=\"0.01em\" text-anchor=\"end\" font-family=\"sans-serif\" font-size=\"40\" fill=\"white\" x=\"1127\" y=\"1050\"><tspan x=\"1127\" dy=\"-0.0em\">&#931;&#955; = 103312.0 m</tspan><tspan x=\"1127\" dy=\"-1.3em\">(+0) &#945;: 5, &#946;: 6</tspan><tspan x=\"1127\" dy=\"-1.3em\">&#954; = 12, T = 122</tspan></text></svg>"
      ],
      "text/plain": [
       "<interarray.svg.SvgRepr at 0x27b19481070>"
      ]
     },
     "execution_count": 17,
     "metadata": {},
     "output_type": "execute_result"
    }
   ],
   "source": [
    "svgplot(Hʹ)"
   ]
  },
  {
   "cell_type": "code",
   "execution_count": 18,
   "id": "9216760f-8edc-4d79-bab0-4baab6a5ce41",
   "metadata": {},
   "outputs": [
    {
     "data": {
      "text/plain": [
       "0.009587534447596746"
      ]
     },
     "execution_count": 18,
     "metadata": {},
     "output_type": "execute_result"
    }
   ],
   "source": [
    "1 - Hʹ.size(weight='length')/G_ref.size(weight='length')"
   ]
  },
  {
   "cell_type": "code",
   "execution_count": 19,
   "id": "e8fd544b-6f4a-43f8-95aa-9c5d6ac0fee5",
   "metadata": {},
   "outputs": [
    {
     "data": {
      "text/plain": [
       "<pyomo.core.base.PyomoModel.ConcreteModel at 0x27b2209d130>"
      ]
     },
     "execution_count": 19,
     "metadata": {},
     "output_type": "execute_result"
    }
   ],
   "source": [
    "# build model and pre-load solution from Sʹ\n",
    "model = omo.make_min_length_model(\n",
    "    A, Sʹ.graph['capacity'],\n",
    "    gateXings_constraint=False,\n",
    "    gates_limit=False,\n",
    "    branching=True\n",
    ")\n",
    "omo.warmup_model(model, Sʹ)"
   ]
  },
  {
   "cell_type": "code",
   "execution_count": 20,
   "id": "f531b11f-e1b2-4c6d-a1ba-d86b36c0f96a",
   "metadata": {
    "scrolled": true
   },
   "outputs": [
    {
     "name": "stdout",
     "output_type": "stream",
     "text": [
      "Solving \"None\": {R=2, T=122, k=12}\n",
      "\n",
      "Set parameter OutputFlag to value 1\n",
      "Set parameter MIPGap to value 0.001\n",
      "Set parameter TimeLimit to value 5\n",
      "Gurobi Optimizer version 12.0.0 build v12.0.0rc1 (win64 - Windows 10.0 (19045.2))\n",
      "\n",
      "CPU model: 11th Gen Intel(R) Core(TM) i7-11850H @ 2.50GHz, instruction set [SSE2|AVX|AVX2|AVX512]\n",
      "Thread count: 8 physical cores, 16 logical processors, using up to 16 threads\n",
      "\n",
      "Non-default parameters:\n",
      "TimeLimit  5\n",
      "MIPGap  0.001\n",
      "\n",
      "Academic license 937681 - for non-commercial use only - registered to ma___@dtu.dk\n",
      "Optimize a model with 4444 rows, 2896 columns and 16572 nonzeros\n",
      "Model fingerprint: 0xffbdaa38\n",
      "Variable types: 0 continuous, 2896 integer (1448 binary)\n",
      "Coefficient statistics:\n",
      "  Matrix range     [1e+00, 1e+01]\n",
      "  Objective range  [4e+02, 1e+04]\n",
      "  Bounds range     [1e+00, 1e+01]\n",
      "  RHS range        [1e+00, 1e+02]\n",
      "\n",
      "Loaded user MIP start with objective 103312\n",
      "\n",
      "Presolve removed 653 rows and 0 columns\n",
      "Presolve time: 0.02s\n",
      "Presolved: 3791 rows, 2896 columns, 13820 nonzeros\n",
      "Variable types: 0 continuous, 2896 integer (1448 binary)\n",
      "\n",
      "Root relaxation: objective 9.983546e+04, 2771 iterations, 0.05 seconds (0.07 work units)\n",
      "\n",
      "    Nodes    |    Current Node    |     Objective Bounds      |     Work\n",
      " Expl Unexpl |  Obj  Depth IntInf | Incumbent    BestBd   Gap | It/Node Time\n",
      "\n",
      "     0     0 99835.4625    0  131 103312.040 99835.4625  3.37%     -    0s\n",
      "H    0     0                    103200.23321 99835.4625  3.26%     -    0s\n",
      "H    0     0                    102836.95815 99835.4625  2.92%     -    0s\n",
      "H    0     0                    102824.99799 99835.4625  2.91%     -    0s\n",
      "H    0     0                    102807.80144 99835.4625  2.89%     -    0s\n",
      "H    0     0                    102079.31025 99835.4625  2.20%     -    0s\n",
      "H    0     0                    101829.93342 99835.4625  1.96%     -    0s\n",
      "     0     0 100456.888    0  231 101829.933 100456.888  1.35%     -    0s\n",
      "H    0     0                    101809.97769 100456.993  1.33%     -    0s\n",
      "H    0     0                    101667.12512 100456.993  1.19%     -    0s\n",
      "     0     0 100457.201    0  243 101667.125 100457.201  1.19%     -    0s\n",
      "     0     0 100457.216    0  243 101667.125 100457.216  1.19%     -    0s\n",
      "H    0     0                    100902.55033 100475.173  0.42%     -    0s\n",
      "     0     0 100475.173    0  310 100902.550 100475.173  0.42%     -    0s\n",
      "     0     0 100475.477    0  279 100902.550 100475.477  0.42%     -    0s\n",
      "     0     0 100486.497    0  297 100902.550 100486.497  0.41%     -    0s\n",
      "     0     0 100486.497    0  130 100902.550 100486.497  0.41%     -    0s\n",
      "H    0     0                    100894.69421 100486.497  0.40%     -    0s\n",
      "H    0     0                    100870.72957 100486.497  0.38%     -    0s\n",
      "     0     0 100486.497    0  241 100870.730 100486.497  0.38%     -    0s\n",
      "     0     0 100486.829    0  303 100870.730 100486.829  0.38%     -    0s\n",
      "     0     0 100486.916    0  286 100870.730 100486.916  0.38%     -    0s\n",
      "     0     0 100493.825    0  290 100870.730 100493.825  0.37%     -    0s\n",
      "     0     0 100494.143    0  293 100870.730 100494.143  0.37%     -    0s\n",
      "     0     0 100494.176    0  291 100870.730 100494.176  0.37%     -    0s\n",
      "     0     0 100504.393    0  300 100870.730 100504.393  0.36%     -    0s\n",
      "     0     0 100505.880    0  248 100870.730 100505.880  0.36%     -    0s\n",
      "     0     0 100506.110    0  274 100870.730 100506.110  0.36%     -    0s\n",
      "     0     0 100510.288    0  322 100870.730 100510.288  0.36%     -    0s\n",
      "     0     0 100510.613    0  300 100870.730 100510.613  0.36%     -    0s\n",
      "     0     0 100510.660    0  314 100870.730 100510.660  0.36%     -    0s\n",
      "     0     0 100511.743    0  299 100870.730 100511.743  0.36%     -    0s\n",
      "     0     0 100511.992    0  324 100870.730 100511.992  0.36%     -    0s\n",
      "     0     0 100514.197    0  333 100870.730 100514.197  0.35%     -    0s\n",
      "     0     0 100514.220    0  333 100870.730 100514.220  0.35%     -    0s\n",
      "H    0     0                    100836.39003 100514.221  0.32%     -    0s\n",
      "     0     0 100514.221    0  172 100836.390 100514.221  0.32%     -    0s\n",
      "     0     0 100514.221    0  301 100836.390 100514.221  0.32%     -    0s\n",
      "     0     0 100515.738    0  282 100836.390 100515.738  0.32%     -    0s\n",
      "     0     0 100516.072    0  301 100836.390 100516.072  0.32%     -    1s\n",
      "     0     0 100516.093    0  301 100836.390 100516.093  0.32%     -    1s\n",
      "     0     0 100520.196    0  327 100836.390 100520.196  0.31%     -    1s\n",
      "     0     0 100520.418    0  327 100836.390 100520.418  0.31%     -    1s\n",
      "     0     0 100524.146    0  292 100836.390 100524.146  0.31%     -    1s\n",
      "     0     0 100525.012    0  263 100836.390 100525.012  0.31%     -    1s\n",
      "     0     0 100525.272    0  267 100836.390 100525.272  0.31%     -    1s\n",
      "H    0     0                    100827.60919 100525.272  0.30%     -    1s\n",
      "H    0     0                    100823.87581 100525.272  0.30%     -    1s\n",
      "     0     0 100527.355    0  259 100823.876 100527.355  0.29%     -    1s\n",
      "     0     0 100527.746    0  250 100823.876 100527.746  0.29%     -    1s\n",
      "     0     0 100527.755    0  248 100823.876 100527.755  0.29%     -    1s\n",
      "     0     0 100529.233    0  271 100823.876 100529.233  0.29%     -    1s\n",
      "     0     0 100529.573    0  271 100823.876 100529.573  0.29%     -    1s\n",
      "     0     2 100529.657    0  271 100823.876 100529.657  0.29%     -    1s\n",
      "H   32    47                    100823.27797 100536.817  0.28%  95.3    1s\n",
      "H   36    47                    100794.97109 100536.817  0.26%  93.1    1s\n",
      "  4404  1026     cutoff   25      100794.971 100617.086  0.18%  51.4    5s\n",
      "\n",
      "Cutting planes:\n",
      "  Learned: 1\n",
      "  Gomory: 16\n",
      "  Cover: 6\n",
      "  Implied bound: 19\n",
      "  Projected implied bound: 2\n",
      "  MIR: 134\n",
      "  StrongCG: 8\n",
      "  Flow cover: 116\n",
      "  Flow path: 9\n",
      "  GUB cover: 1\n",
      "  Inf proof: 6\n",
      "  Zero half: 18\n",
      "  Network: 3\n",
      "  RLT: 8\n",
      "  Relax-and-lift: 4\n",
      "\n",
      "Explored 4429 nodes (236206 simplex iterations) in 5.02 seconds (5.66 work units)\n",
      "Thread count was 16 (of 16 available processors)\n",
      "\n",
      "Solution count 10: 100795 100823 100824 ... 101498\n",
      "\n",
      "Time limit reached\n",
      "Best objective 1.007949710936e+05, best bound 1.006170855711e+05, gap 0.1765%\n",
      "WARNING: Loading a SolverResults object with an 'aborted' status, but\n",
      "containing a solution\n"
     ]
    }
   ],
   "source": [
    "solver.options.mipgap = 0.001  # 0.5 %\n",
    "solver.options.timelimit = 5  # [s]\n",
    "# solver.options.mipfocus = 1  # focus on producing solutions\n",
    "print(f'Solving \"{model.handle}\": {{R={len(model.R)}, T={len(model.T)}, k={model.k.value}}}\\n')\n",
    "status = solver.solve(model, warmstart=model.warmed_by, tee=True)"
   ]
  },
  {
   "cell_type": "code",
   "execution_count": 21,
   "id": "c6bbf2db-0400-4b84-9578-0ae03c43d051",
   "metadata": {},
   "outputs": [
    {
     "name": "stdout",
     "output_type": "stream",
     "text": [
      "Solution pool has 10 solutions.\n",
      "Incumbent has (detoured) length: 100794.971\n",
      "Pool investigation over - next best undetoured length: 100823.278\n"
     ]
    }
   ],
   "source": [
    "H = omo.gurobi_investigate_pool(P, A, model, solver, status)"
   ]
  },
  {
   "cell_type": "code",
   "execution_count": 22,
   "id": "8c0f7018-0834-4316-b6d1-44a2feae0966",
   "metadata": {},
   "outputs": [
    {
     "data": {
      "image/svg+xml": [
       "<svg xmlns=\"http://www.w3.org/2000/svg\" viewBox=\"0 0 1920 1080\"><defs ><filter x=\"-5%\" y=\"-5%\" id=\"bg_textbox\" width=\"110%\" height=\"110%\"><feFlood flood-opacity=\"0.7\" flood-color=\"#111\" result=\"bg\"/><feMerge ><feMergeNode in=\"bg\"/><feMergeNode in=\"SourceGraphic\"/></feMerge></filter><circle stroke=\"none\" stroke-width=\"2\" id=\"wtg\" r=\"12\"/><rect stroke=\"none\" stroke-width=\"2\" id=\"oss\" width=\"21\" height=\"21\" fill=\"lawngreen\"/></defs><g ><path stroke=\"silver\" stroke-dasharray=\"15 7\" stroke-width=\"2\" id=\"border\" d=\"M30 544 291 1050 724 822 735 817 973 679 944 712 760 833 1080 1050 1127 561 1037 146 737 30 59 297z M758 253 757 354 724 378 645 314 603 289 676 233z\" fill-rule=\"evenodd\" fill=\"#111\"/><g stroke=\"crimson\" stroke-width=\"4\" id=\"edges_unspecified\"><line x1=\"751\" y1=\"758\" x2=\"698\" y2=\"751\"/><line x1=\"751\" y1=\"758\" x2=\"804\" y2=\"712\"/><line x1=\"751\" y1=\"758\" x2=\"727\" y2=\"680\"/><line x1=\"751\" y1=\"758\" x2=\"664\" y2=\"826\"/><line x1=\"751\" y1=\"758\" x2=\"770\" y2=\"788\"/><line x1=\"751\" y1=\"758\" x2=\"836\" y2=\"638\"/><line x1=\"664\" y1=\"826\" x2=\"592\" y2=\"792\"/><line x1=\"698\" y1=\"751\" x2=\"625\" y2=\"715\"/><line x1=\"905\" y1=\"675\" x2=\"804\" y2=\"712\"/><line x1=\"760\" y1=\"605\" x2=\"727\" y2=\"680\"/><line x1=\"869\" y1=\"562\" x2=\"836\" y2=\"638\"/><line x1=\"476\" y1=\"340\" x2=\"532\" y2=\"315\"/><line x1=\"476\" y1=\"340\" x2=\"458\" y2=\"278\"/><line x1=\"476\" y1=\"340\" x2=\"391\" y2=\"425\"/><line x1=\"476\" y1=\"340\" x2=\"498\" y2=\"388\"/><line x1=\"476\" y1=\"340\" x2=\"424\" y2=\"350\"/><line x1=\"476\" y1=\"340\" x2=\"464\" y2=\"460\"/><line x1=\"605\" y1=\"348\" x2=\"532\" y2=\"315\"/><line x1=\"564\" y1=\"241\" x2=\"532\" y2=\"315\"/><line x1=\"574\" y1=\"423\" x2=\"498\" y2=\"388\"/><line x1=\"424\" y1=\"350\" x2=\"350\" y2=\"316\"/><line x1=\"464\" y1=\"460\" x2=\"433\" y2=\"536\"/><line x1=\"488\" y1=\"202\" x2=\"458\" y2=\"278\"/><line x1=\"391\" y1=\"425\" x2=\"359\" y2=\"500\"/><line x1=\"677\" y1=\"380\" x2=\"605\" y2=\"348\"/><line x1=\"751\" y1=\"414\" x2=\"677\" y2=\"380\"/><line x1=\"646\" y1=\"456\" x2=\"574\" y2=\"423\"/><line x1=\"646\" y1=\"456\" x2=\"614\" y2=\"530\"/><line x1=\"412\" y1=\"167\" x2=\"382\" y2=\"241\"/><line x1=\"382\" y1=\"241\" x2=\"350\" y2=\"316\"/><line x1=\"350\" y1=\"316\" x2=\"276\" y2=\"282\"/><line x1=\"972\" y1=\"524\" x2=\"899\" y2=\"485\"/><line x1=\"1048\" y1=\"556\" x2=\"972\" y2=\"524\"/><line x1=\"899\" y1=\"485\" x2=\"869\" y2=\"562\"/><line x1=\"1115\" y1=\"594\" x2=\"1048\" y2=\"556\"/><line x1=\"1080\" y1=\"482\" x2=\"1048\" y2=\"556\"/><line x1=\"1091\" y1=\"849\" x2=\"1023\" y2=\"812\"/><line x1=\"1091\" y1=\"849\" x2=\"1066\" y2=\"921\"/><line x1=\"1057\" y1=\"741\" x2=\"1023\" y2=\"812\"/><line x1=\"955\" y1=\"155\" x2=\"881\" y2=\"119\"/><line x1=\"881\" y1=\"119\" x2=\"846\" y2=\"194\"/><line x1=\"881\" y1=\"119\" x2=\"806\" y2=\"84\"/><line x1=\"806\" y1=\"84\" x2=\"731\" y2=\"49\"/><line x1=\"930\" y1=\"412\" x2=\"852\" y2=\"380\"/><line x1=\"962\" y1=\"338\" x2=\"930\" y2=\"412\"/><line x1=\"852\" y1=\"380\" x2=\"823\" y2=\"456\"/><line x1=\"997\" y1=\"265\" x2=\"962\" y2=\"338\"/><line x1=\"823\" y1=\"456\" x2=\"793\" y2=\"530\"/><line x1=\"1115\" y1=\"594\" x2=\"1090\" y2=\"665\"/><line x1=\"1063\" y1=\"302\" x2=\"997\" y2=\"265\"/><line x1=\"1063\" y1=\"302\" x2=\"1038\" y2=\"377\"/><line x1=\"1029\" y1=\"190\" x2=\"997\" y2=\"265\"/><line x1=\"316\" y1=\"390\" x2=\"241\" y2=\"360\"/><line x1=\"316\" y1=\"390\" x2=\"287\" y2=\"466\"/><line x1=\"359\" y1=\"500\" x2=\"287\" y2=\"466\"/><line x1=\"184\" y1=\"690\" x2=\"111\" y2=\"656\"/><line x1=\"144\" y1=\"581\" x2=\"111\" y2=\"656\"/><line x1=\"688\" y1=\"564\" x2=\"655\" y2=\"638\"/><line x1=\"688\" y1=\"564\" x2=\"614\" y2=\"530\"/><line x1=\"721\" y1=\"490\" x2=\"688\" y2=\"564\"/><line x1=\"579\" y1=\"604\" x2=\"552\" y2=\"680\"/><line x1=\"625\" y1=\"715\" x2=\"552\" y2=\"680\"/><line x1=\"552\" y1=\"680\" x2=\"517\" y2=\"754\"/><line x1=\"921\" y1=\"231\" x2=\"885\" y2=\"305\"/><line x1=\"885\" y1=\"305\" x2=\"809\" y2=\"270\"/><line x1=\"809\" y1=\"270\" x2=\"737\" y2=\"239\"/><line x1=\"809\" y1=\"270\" x2=\"779\" y2=\"340\"/><line x1=\"779\" y1=\"340\" x2=\"751\" y2=\"414\"/><line x1=\"306\" y1=\"209\" x2=\"276\" y2=\"282\"/><line x1=\"276\" y1=\"282\" x2=\"201\" y2=\"250\"/><line x1=\"731\" y1=\"49\" x2=\"698\" y2=\"122\"/><line x1=\"698\" y1=\"122\" x2=\"623\" y2=\"88\"/><line x1=\"623\" y1=\"88\" x2=\"593\" y2=\"163\"/><line x1=\"593\" y1=\"163\" x2=\"517\" y2=\"127\"/><line x1=\"517\" y1=\"127\" x2=\"488\" y2=\"202\"/><line x1=\"793\" y1=\"530\" x2=\"760\" y2=\"605\"/><line x1=\"133\" y1=\"399\" x2=\"62\" y2=\"364\"/><line x1=\"133\" y1=\"399\" x2=\"101\" y2=\"471\"/><line x1=\"96\" y1=\"292\" x2=\"62\" y2=\"364\"/><line x1=\"940\" y1=\"600\" x2=\"905\" y2=\"675\"/><line x1=\"1033\" y1=\"1000\" x2=\"957\" y2=\"962\"/><line x1=\"984\" y1=\"888\" x2=\"957\" y2=\"962\"/><line x1=\"504\" y1=\"572\" x2=\"433\" y2=\"536\"/><line x1=\"539\" y1=\"499\" x2=\"504\" y2=\"572\"/><line x1=\"504\" y1=\"572\" x2=\"477\" y2=\"647\"/><line x1=\"433\" y1=\"536\" x2=\"403\" y2=\"611\"/><line x1=\"253\" y1=\"541\" x2=\"221\" y2=\"616\"/><line x1=\"296\" y1=\"649\" x2=\"221\" y2=\"616\"/><line x1=\"1014\" y1=\"631\" x2=\"940\" y2=\"600\"/><line x1=\"1014\" y1=\"631\" x2=\"981\" y2=\"706\"/><line x1=\"984\" y1=\"888\" x2=\"911\" y2=\"856\"/><line x1=\"944\" y1=\"776\" x2=\"911\" y2=\"856\"/><line x1=\"911\" y1=\"856\" x2=\"841\" y2=\"824\"/><line x1=\"343\" y1=\"947\" x2=\"311\" y2=\"1021\"/><line x1=\"415\" y1=\"975\" x2=\"343\" y2=\"947\"/><line x1=\"228\" y1=\"803\" x2=\"154\" y2=\"766\"/><line x1=\"302\" y1=\"835\" x2=\"228\" y2=\"803\"/><line x1=\"1090\" y1=\"665\" x2=\"1057\" y2=\"741\"/><line x1=\"592\" y1=\"792\" x2=\"559\" y2=\"867\"/><line x1=\"559\" y1=\"867\" x2=\"487\" y2=\"830\"/><line x1=\"846\" y1=\"194\" x2=\"771\" y2=\"162\"/><line x1=\"411\" y1=\"797\" x2=\"378\" y2=\"869\"/><line x1=\"378\" y1=\"869\" x2=\"302\" y2=\"835\"/><line x1=\"441\" y1=\"721\" x2=\"411\" y2=\"797\"/><line x1=\"517\" y1=\"754\" x2=\"441\" y2=\"721\"/><line x1=\"302\" y1=\"835\" x2=\"268\" y2=\"909\"/><line x1=\"487\" y1=\"830\" x2=\"455\" y2=\"904\"/><line x1=\"455\" y1=\"904\" x2=\"415\" y2=\"975\"/><line x1=\"1038\" y1=\"377\" x2=\"1006\" y2=\"450\"/><line x1=\"359\" y1=\"500\" x2=\"328\" y2=\"575\"/><line x1=\"209\" y1=\"434\" x2=\"176\" y2=\"509\"/><line x1=\"176\" y1=\"509\" x2=\"144\" y2=\"581\"/><line x1=\"241\" y1=\"360\" x2=\"209\" y2=\"434\"/><line x1=\"144\" y1=\"581\" x2=\"68\" y2=\"548\"/><line x1=\"201\" y1=\"250\" x2=\"170\" y2=\"320\"/><line x1=\"170\" y1=\"320\" x2=\"96\" y2=\"292\"/><line x1=\"737\" y1=\"239\" x2=\"666\" y2=\"206\"/><line x1=\"338\" y1=\"759\" x2=\"261\" y2=\"726\"/><line x1=\"368\" y1=\"684\" x2=\"338\" y2=\"759\"/><line x1=\"403\" y1=\"611\" x2=\"368\" y2=\"684\"/><line x1=\"368\" y1=\"684\" x2=\"296\" y2=\"649\"/><line x1=\"981\" y1=\"706\" x2=\"944\" y2=\"776\"/></g><g id=\"WTGgrp\"><g fill=\"#1f77b4\"><use href=\"#wtg\" x=\"664\" y=\"826\"/><use href=\"#wtg\" x=\"311\" y=\"1021\"/><use href=\"#wtg\" x=\"343\" y=\"947\"/><use href=\"#wtg\" x=\"592\" y=\"792\"/><use href=\"#wtg\" x=\"559\" y=\"867\"/><use href=\"#wtg\" x=\"455\" y=\"904\"/><use href=\"#wtg\" x=\"487\" y=\"830\"/><use href=\"#wtg\" x=\"415\" y=\"975\"/></g><g fill=\"#aec7e8\"><use href=\"#wtg\" x=\"698\" y=\"751\"/><use href=\"#wtg\" x=\"579\" y=\"604\"/><use href=\"#wtg\" x=\"552\" y=\"680\"/><use href=\"#wtg\" x=\"154\" y=\"766\"/><use href=\"#wtg\" x=\"228\" y=\"803\"/><use href=\"#wtg\" x=\"378\" y=\"869\"/><use href=\"#wtg\" x=\"411\" y=\"797\"/><use href=\"#wtg\" x=\"441\" y=\"721\"/><use href=\"#wtg\" x=\"302\" y=\"835\"/><use href=\"#wtg\" x=\"625\" y=\"715\"/><use href=\"#wtg\" x=\"268\" y=\"909\"/><use href=\"#wtg\" x=\"517\" y=\"754\"/></g><g fill=\"#ff7f0e\"><use href=\"#wtg\" x=\"804\" y=\"712\"/><use href=\"#wtg\" x=\"905\" y=\"675\"/><use href=\"#wtg\" x=\"1033\" y=\"1000\"/><use href=\"#wtg\" x=\"957\" y=\"962\"/><use href=\"#wtg\" x=\"1014\" y=\"631\"/><use href=\"#wtg\" x=\"940\" y=\"600\"/><use href=\"#wtg\" x=\"984\" y=\"888\"/><use href=\"#wtg\" x=\"911\" y=\"856\"/><use href=\"#wtg\" x=\"841\" y=\"824\"/><use href=\"#wtg\" x=\"981\" y=\"706\"/><use href=\"#wtg\" x=\"944\" y=\"776\"/></g><g fill=\"#ffbb78\"><use href=\"#wtg\" x=\"727\" y=\"680\"/><use href=\"#wtg\" x=\"930\" y=\"412\"/><use href=\"#wtg\" x=\"852\" y=\"380\"/><use href=\"#wtg\" x=\"962\" y=\"338\"/><use href=\"#wtg\" x=\"823\" y=\"456\"/><use href=\"#wtg\" x=\"1063\" y=\"302\"/><use href=\"#wtg\" x=\"997\" y=\"265\"/><use href=\"#wtg\" x=\"1029\" y=\"190\"/><use href=\"#wtg\" x=\"793\" y=\"530\"/><use href=\"#wtg\" x=\"760\" y=\"605\"/><use href=\"#wtg\" x=\"1038\" y=\"377\"/><use href=\"#wtg\" x=\"1006\" y=\"450\"/></g><g fill=\"#2ca02c\"><use href=\"#wtg\" x=\"836\" y=\"638\"/><use href=\"#wtg\" x=\"972\" y=\"524\"/><use href=\"#wtg\" x=\"899\" y=\"485\"/><use href=\"#wtg\" x=\"1048\" y=\"556\"/><use href=\"#wtg\" x=\"869\" y=\"562\"/><use href=\"#wtg\" x=\"1091\" y=\"849\"/><use href=\"#wtg\" x=\"1023\" y=\"812\"/><use href=\"#wtg\" x=\"1115\" y=\"594\"/><use href=\"#wtg\" x=\"1080\" y=\"482\"/><use href=\"#wtg\" x=\"1066\" y=\"921\"/><use href=\"#wtg\" x=\"1057\" y=\"741\"/><use href=\"#wtg\" x=\"1090\" y=\"665\"/></g><g fill=\"#98df8a\"><use href=\"#wtg\" x=\"770\" y=\"788\"/></g><g fill=\"#d62728\"><use href=\"#wtg\" x=\"532\" y=\"315\"/><use href=\"#wtg\" x=\"605\" y=\"348\"/><use href=\"#wtg\" x=\"677\" y=\"380\"/><use href=\"#wtg\" x=\"564\" y=\"241\"/><use href=\"#wtg\" x=\"921\" y=\"231\"/><use href=\"#wtg\" x=\"885\" y=\"305\"/><use href=\"#wtg\" x=\"809\" y=\"270\"/><use href=\"#wtg\" x=\"751\" y=\"414\"/><use href=\"#wtg\" x=\"779\" y=\"340\"/><use href=\"#wtg\" x=\"737\" y=\"239\"/><use href=\"#wtg\" x=\"666\" y=\"206\"/></g><g fill=\"#ff9896\"><use href=\"#wtg\" x=\"498\" y=\"388\"/><use href=\"#wtg\" x=\"574\" y=\"423\"/><use href=\"#wtg\" x=\"646\" y=\"456\"/><use href=\"#wtg\" x=\"688\" y=\"564\"/><use href=\"#wtg\" x=\"614\" y=\"530\"/><use href=\"#wtg\" x=\"721\" y=\"490\"/><use href=\"#wtg\" x=\"655\" y=\"638\"/></g><g fill=\"#9467bd\"><use href=\"#wtg\" x=\"424\" y=\"350\"/><use href=\"#wtg\" x=\"412\" y=\"167\"/><use href=\"#wtg\" x=\"382\" y=\"241\"/><use href=\"#wtg\" x=\"350\" y=\"316\"/><use href=\"#wtg\" x=\"306\" y=\"209\"/><use href=\"#wtg\" x=\"276\" y=\"282\"/><use href=\"#wtg\" x=\"133\" y=\"399\"/><use href=\"#wtg\" x=\"62\" y=\"364\"/><use href=\"#wtg\" x=\"201\" y=\"250\"/><use href=\"#wtg\" x=\"101\" y=\"471\"/><use href=\"#wtg\" x=\"96\" y=\"292\"/><use href=\"#wtg\" x=\"170\" y=\"320\"/></g><g fill=\"#c5b0d5\"><use href=\"#wtg\" x=\"464\" y=\"460\"/><use href=\"#wtg\" x=\"504\" y=\"572\"/><use href=\"#wtg\" x=\"433\" y=\"536\"/><use href=\"#wtg\" x=\"253\" y=\"541\"/><use href=\"#wtg\" x=\"221\" y=\"616\"/><use href=\"#wtg\" x=\"539\" y=\"499\"/><use href=\"#wtg\" x=\"477\" y=\"647\"/><use href=\"#wtg\" x=\"261\" y=\"726\"/><use href=\"#wtg\" x=\"338\" y=\"759\"/><use href=\"#wtg\" x=\"403\" y=\"611\"/><use href=\"#wtg\" x=\"296\" y=\"649\"/><use href=\"#wtg\" x=\"368\" y=\"684\"/></g><g fill=\"#8c564b\"><use href=\"#wtg\" x=\"458\" y=\"278\"/><use href=\"#wtg\" x=\"955\" y=\"155\"/><use href=\"#wtg\" x=\"881\" y=\"119\"/><use href=\"#wtg\" x=\"806\" y=\"84\"/><use href=\"#wtg\" x=\"698\" y=\"122\"/><use href=\"#wtg\" x=\"623\" y=\"88\"/><use href=\"#wtg\" x=\"593\" y=\"163\"/><use href=\"#wtg\" x=\"517\" y=\"127\"/><use href=\"#wtg\" x=\"488\" y=\"202\"/><use href=\"#wtg\" x=\"731\" y=\"49\"/><use href=\"#wtg\" x=\"846\" y=\"194\"/><use href=\"#wtg\" x=\"771\" y=\"162\"/></g><g fill=\"#c49c94\"><use href=\"#wtg\" x=\"391\" y=\"425\"/><use href=\"#wtg\" x=\"316\" y=\"390\"/><use href=\"#wtg\" x=\"287\" y=\"466\"/><use href=\"#wtg\" x=\"184\" y=\"690\"/><use href=\"#wtg\" x=\"111\" y=\"656\"/><use href=\"#wtg\" x=\"359\" y=\"500\"/><use href=\"#wtg\" x=\"176\" y=\"509\"/><use href=\"#wtg\" x=\"209\" y=\"434\"/><use href=\"#wtg\" x=\"241\" y=\"360\"/><use href=\"#wtg\" x=\"68\" y=\"548\"/><use href=\"#wtg\" x=\"144\" y=\"581\"/><use href=\"#wtg\" x=\"328\" y=\"575\"/></g></g><g id=\"OSSgrp\"><use href=\"#oss\" x=\"740.5\" y=\"747.5\"/><use href=\"#oss\" x=\"465.5\" y=\"329.5\"/></g></g><text stroke=\"#000\" stroke-width=\"0.01em\" text-anchor=\"end\" font-family=\"sans-serif\" font-size=\"40\" fill=\"white\" x=\"1127\" y=\"1050\"><tspan x=\"1127\" dy=\"-0.0em\">&#931;&#955; = 100795.0 m</tspan><tspan x=\"1127\" dy=\"-1.3em\">(+1) &#945;: 6, &#946;: 6</tspan><tspan x=\"1127\" dy=\"-1.3em\">&#954; = 12, T = 122</tspan></text></svg>"
      ],
      "text/plain": [
       "<interarray.svg.SvgRepr at 0x27b22428d10>"
      ]
     },
     "execution_count": 22,
     "metadata": {},
     "output_type": "execute_result"
    }
   ],
   "source": [
    "svgplot(H)"
   ]
  },
  {
   "cell_type": "code",
   "execution_count": 23,
   "id": "08f5b4da-6779-459e-acf3-10eb45a5d307",
   "metadata": {},
   "outputs": [
    {
     "data": {
      "text/plain": [
       "0.03371769751959075"
      ]
     },
     "execution_count": 23,
     "metadata": {},
     "output_type": "execute_result"
    }
   ],
   "source": [
    "1 - H.size(weight='length')/G_ref.size(weight='length')"
   ]
  },
  {
   "cell_type": "code",
   "execution_count": 24,
   "id": "582d5e10-904c-4619-992d-a7c5f5bae5c8",
   "metadata": {},
   "outputs": [],
   "source": [
    "with open('Taylor_comparison_κ_12_branched_ours.dill', 'wb') as outfile:\n",
    "    dill.dump(H, outfile)"
   ]
  }
 ],
 "metadata": {
  "language_info": {
   "name": "python"
  }
 },
 "nbformat": 4,
 "nbformat_minor": 5
}
